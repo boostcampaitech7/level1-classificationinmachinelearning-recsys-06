{
 "cells": [
  {
   "cell_type": "markdown",
   "metadata": {},
   "source": [
    "# 데이터 로드 및 정제"
   ]
  },
  {
   "cell_type": "code",
   "execution_count": 22,
   "metadata": {},
   "outputs": [
    {
     "name": "stdout",
     "output_type": "stream",
     "text": [
      "/Users/jejunlee/myproject/boostcamp/LEVEL_1/Project_1/level1-classificationinmachinelearning-recsys-06\n"
     ]
    }
   ],
   "source": [
    "import os,sys\n",
    "from typing import List, Dict\n",
    "from tqdm import tqdm\n",
    "import numpy as np\n",
    "import pandas as pd\n",
    "from sklearn.model_selection import train_test_split\n",
    "from sklearn.metrics import accuracy_score, roc_auc_score\n",
    "import xgboost as xgb\n",
    "import shap\n",
    "from plotly.subplots import make_subplots\n",
    "import plotly.graph_objects as go\n",
    "import seaborn as sns\n",
    "import matplotlib.pyplot as plt\n",
    "\n",
    "# Code 경로 추가\n",
    "sys.path.append(os.path.dirname(os.path.dirname(os.path.abspath(\"\"))))\n",
    "print(sys.path[-1])"
   ]
  },
  {
   "cell_type": "code",
   "execution_count": 5,
   "metadata": {},
   "outputs": [
    {
     "name": "stderr",
     "output_type": "stream",
     "text": [
      "100%|██████████| 107/107 [00:01<00:00, 63.06it/s]\n"
     ]
    }
   ],
   "source": [
    "# 파일 호출\n",
    "data_path: str = \"../../../code/data\"\n",
    "## raw.csv가 없는 경우 실행\n",
    "from Code.dataset.merge_all import merge_all\n",
    "df = merge_all(data_path)\n",
    "df: pd.DataFrame = pd.read_csv(os.path.join(data_path,\"raw.csv\"))\n",
    "submission_df: pd.DataFrame = pd.read_csv(os.path.join(data_path, \"test.csv\")) # ID, target 열만 가진 데이터 미리 호출\n"
   ]
  },
  {
   "cell_type": "code",
   "execution_count": 7,
   "metadata": {},
   "outputs": [
    {
     "name": "stdout",
     "output_type": "stream",
     "text": [
      "<class 'pandas.core.frame.DataFrame'>\n",
      "RangeIndex: 11552 entries, 0 to 11551\n",
      "Columns: 255 entries, ID to hourly_market-data_open-interest_htx_global_btc_usdt_open_interest\n",
      "dtypes: float64(250), int64(3), object(2)\n",
      "memory usage: 22.5+ MB\n",
      "None\n"
     ]
    }
   ],
   "source": [
    "# 원본 데이터프레임 손상 방지를 위해 새로운 데이터 프레임 df_copy 생성\n",
    "df_copy: pd.DataFrame = df.copy()\n",
    "print(df_copy.info())"
   ]
  },
  {
   "cell_type": "markdown",
   "metadata": {},
   "source": [
    "# EDA\n",
    "- hourly_market-data_price-ohlcv 내에는 특정 시간대의 **close**값만 존재합니다. target 값 예측의 근거인 등락률을 구하기 위해 df_copy에 **open** 열을 추가합니다.\n",
    "- 현재 시간의 'hourly_market-data_price-ohlcv_all_exchange_spot_btc_usd_open'열을 이전 시간대의 'hourly_market-data_price-ohlcv_all_exchange_spot_btc_usd_close'로 가져옵니다.\n",
    "- target 값과 비교를 위해 open-close price의 등락 백분율을 구하는 'price_rate' 열을 추가합니다."
   ]
  },
  {
   "cell_type": "code",
   "execution_count": 11,
   "metadata": {},
   "outputs": [
    {
     "data": {
      "text/html": [
       "<div>\n",
       "<style scoped>\n",
       "    .dataframe tbody tr th:only-of-type {\n",
       "        vertical-align: middle;\n",
       "    }\n",
       "\n",
       "    .dataframe tbody tr th {\n",
       "        vertical-align: top;\n",
       "    }\n",
       "\n",
       "    .dataframe thead th {\n",
       "        text-align: right;\n",
       "    }\n",
       "</style>\n",
       "<table border=\"1\" class=\"dataframe\">\n",
       "  <thead>\n",
       "    <tr style=\"text-align: right;\">\n",
       "      <th></th>\n",
       "      <th>ID</th>\n",
       "      <th>target</th>\n",
       "      <th>price_rate</th>\n",
       "    </tr>\n",
       "  </thead>\n",
       "  <tbody>\n",
       "    <tr>\n",
       "      <th>0</th>\n",
       "      <td>2023-01-01 00:00:00</td>\n",
       "      <td>2.0</td>\n",
       "      <td>NaN</td>\n",
       "    </tr>\n",
       "    <tr>\n",
       "      <th>1</th>\n",
       "      <td>2023-01-01 01:00:00</td>\n",
       "      <td>1.0</td>\n",
       "      <td>0.123292</td>\n",
       "    </tr>\n",
       "    <tr>\n",
       "      <th>2</th>\n",
       "      <td>2023-01-01 02:00:00</td>\n",
       "      <td>1.0</td>\n",
       "      <td>-0.054277</td>\n",
       "    </tr>\n",
       "    <tr>\n",
       "      <th>3</th>\n",
       "      <td>2023-01-01 03:00:00</td>\n",
       "      <td>1.0</td>\n",
       "      <td>-0.087725</td>\n",
       "    </tr>\n",
       "    <tr>\n",
       "      <th>4</th>\n",
       "      <td>2023-01-01 04:00:00</td>\n",
       "      <td>2.0</td>\n",
       "      <td>-0.053955</td>\n",
       "    </tr>\n",
       "    <tr>\n",
       "      <th>5</th>\n",
       "      <td>2023-01-01 05:00:00</td>\n",
       "      <td>2.0</td>\n",
       "      <td>0.028417</td>\n",
       "    </tr>\n",
       "    <tr>\n",
       "      <th>6</th>\n",
       "      <td>2023-01-01 06:00:00</td>\n",
       "      <td>1.0</td>\n",
       "      <td>0.073340</td>\n",
       "    </tr>\n",
       "    <tr>\n",
       "      <th>7</th>\n",
       "      <td>2023-01-01 07:00:00</td>\n",
       "      <td>1.0</td>\n",
       "      <td>-0.056395</td>\n",
       "    </tr>\n",
       "    <tr>\n",
       "      <th>8</th>\n",
       "      <td>2023-01-01 08:00:00</td>\n",
       "      <td>2.0</td>\n",
       "      <td>-0.079826</td>\n",
       "    </tr>\n",
       "    <tr>\n",
       "      <th>9</th>\n",
       "      <td>2023-01-01 09:00:00</td>\n",
       "      <td>2.0</td>\n",
       "      <td>0.132084</td>\n",
       "    </tr>\n",
       "  </tbody>\n",
       "</table>\n",
       "</div>"
      ],
      "text/plain": [
       "                    ID  target  price_rate\n",
       "0  2023-01-01 00:00:00     2.0         NaN\n",
       "1  2023-01-01 01:00:00     1.0    0.123292\n",
       "2  2023-01-01 02:00:00     1.0   -0.054277\n",
       "3  2023-01-01 03:00:00     1.0   -0.087725\n",
       "4  2023-01-01 04:00:00     2.0   -0.053955\n",
       "5  2023-01-01 05:00:00     2.0    0.028417\n",
       "6  2023-01-01 06:00:00     1.0    0.073340\n",
       "7  2023-01-01 07:00:00     1.0   -0.056395\n",
       "8  2023-01-01 08:00:00     2.0   -0.079826\n",
       "9  2023-01-01 09:00:00     2.0    0.132084"
      ]
     },
     "execution_count": 11,
     "metadata": {},
     "output_type": "execute_result"
    }
   ],
   "source": [
    "# open price 열 추가\n",
    "df_copy[\"hourly_market-data_price-ohlcv_all_exchange_spot_btc_usd_open\"] = df_copy[\"hourly_market-data_price-ohlcv_all_exchange_spot_btc_usd_close\"].shift(1)\n",
    "\n",
    "# open price와 close price의 등락 백분율을 구해 추가\n",
    "df_copy[\"price_rate\"] = (df_copy[\"hourly_market-data_price-ohlcv_all_exchange_spot_btc_usd_close\"] - df_copy[\"hourly_market-data_price-ohlcv_all_exchange_spot_btc_usd_open\"]) / df_copy[\"hourly_market-data_price-ohlcv_all_exchange_spot_btc_usd_open\"] * 100\n",
    "df_copy[[\"ID\", \"target\", \"price_rate\"]].head(10)"
   ]
  },
  {
   "cell_type": "markdown",
   "metadata": {},
   "source": [
    "- 'target'과 'price_rate' 간의 데이터가 맞지 않아 'target' 데이터를 한 칸씩 밀고, 결측값이 되는 0번째 행과 미뤄진 결과 새롭게 생기는 마지막행을 제외하여 데이터프레임을 재정의합니다."
   ]
  },
  {
   "cell_type": "code",
   "execution_count": 12,
   "metadata": {},
   "outputs": [
    {
     "data": {
      "text/html": [
       "<div>\n",
       "<style scoped>\n",
       "    .dataframe tbody tr th:only-of-type {\n",
       "        vertical-align: middle;\n",
       "    }\n",
       "\n",
       "    .dataframe tbody tr th {\n",
       "        vertical-align: top;\n",
       "    }\n",
       "\n",
       "    .dataframe thead th {\n",
       "        text-align: right;\n",
       "    }\n",
       "</style>\n",
       "<table border=\"1\" class=\"dataframe\">\n",
       "  <thead>\n",
       "    <tr style=\"text-align: right;\">\n",
       "      <th></th>\n",
       "      <th>ID</th>\n",
       "      <th>target</th>\n",
       "      <th>_type</th>\n",
       "      <th>hourly_market-data_liquidations_gate_io_all_symbol_long_liquidations</th>\n",
       "      <th>hourly_market-data_liquidations_gate_io_all_symbol_short_liquidations</th>\n",
       "      <th>hourly_market-data_liquidations_gate_io_all_symbol_long_liquidations_usd</th>\n",
       "      <th>hourly_market-data_liquidations_gate_io_all_symbol_short_liquidations_usd</th>\n",
       "      <th>hourly_market-data_open-interest_ftx_btc_usd_open_interest</th>\n",
       "      <th>hourly_market-data_open-interest_bybit_open_interest</th>\n",
       "      <th>hourly_market-data_funding-rates_bybit_funding_rates</th>\n",
       "      <th>...</th>\n",
       "      <th>hourly_market-data_liquidations_huobi_global_btc_usdt_short_liquidations</th>\n",
       "      <th>hourly_market-data_liquidations_huobi_global_btc_usdt_long_liquidations_usd</th>\n",
       "      <th>hourly_market-data_liquidations_huobi_global_btc_usdt_short_liquidations_usd</th>\n",
       "      <th>hourly_market-data_liquidations_htx_global_btc_usdt_long_liquidations</th>\n",
       "      <th>hourly_market-data_liquidations_htx_global_btc_usdt_short_liquidations</th>\n",
       "      <th>hourly_market-data_liquidations_htx_global_btc_usdt_long_liquidations_usd</th>\n",
       "      <th>hourly_market-data_liquidations_htx_global_btc_usdt_short_liquidations_usd</th>\n",
       "      <th>hourly_market-data_open-interest_htx_global_btc_usdt_open_interest</th>\n",
       "      <th>hourly_market-data_price-ohlcv_all_exchange_spot_btc_usd_open</th>\n",
       "      <th>price_rate</th>\n",
       "    </tr>\n",
       "  </thead>\n",
       "  <tbody>\n",
       "    <tr>\n",
       "      <th>1</th>\n",
       "      <td>2023-01-01 01:00:00</td>\n",
       "      <td>1.0</td>\n",
       "      <td>train</td>\n",
       "      <td>0.0</td>\n",
       "      <td>0.0</td>\n",
       "      <td>0.0</td>\n",
       "      <td>0.0</td>\n",
       "      <td>NaN</td>\n",
       "      <td>NaN</td>\n",
       "      <td>0.01</td>\n",
       "      <td>...</td>\n",
       "      <td>0.0</td>\n",
       "      <td>0.0</td>\n",
       "      <td>0.0</td>\n",
       "      <td>0.000</td>\n",
       "      <td>0.000</td>\n",
       "      <td>0.0000</td>\n",
       "      <td>0.0000</td>\n",
       "      <td>6.788941e+07</td>\n",
       "      <td>16536.747967</td>\n",
       "      <td>0.123292</td>\n",
       "    </tr>\n",
       "    <tr>\n",
       "      <th>2</th>\n",
       "      <td>2023-01-01 02:00:00</td>\n",
       "      <td>1.0</td>\n",
       "      <td>train</td>\n",
       "      <td>0.0</td>\n",
       "      <td>0.0</td>\n",
       "      <td>0.0</td>\n",
       "      <td>0.0</td>\n",
       "      <td>NaN</td>\n",
       "      <td>NaN</td>\n",
       "      <td>0.01</td>\n",
       "      <td>...</td>\n",
       "      <td>0.0</td>\n",
       "      <td>0.0</td>\n",
       "      <td>0.0</td>\n",
       "      <td>0.000</td>\n",
       "      <td>0.000</td>\n",
       "      <td>0.0000</td>\n",
       "      <td>0.0000</td>\n",
       "      <td>6.781657e+07</td>\n",
       "      <td>16557.136536</td>\n",
       "      <td>-0.054277</td>\n",
       "    </tr>\n",
       "    <tr>\n",
       "      <th>3</th>\n",
       "      <td>2023-01-01 03:00:00</td>\n",
       "      <td>1.0</td>\n",
       "      <td>train</td>\n",
       "      <td>0.0</td>\n",
       "      <td>0.0</td>\n",
       "      <td>0.0</td>\n",
       "      <td>0.0</td>\n",
       "      <td>NaN</td>\n",
       "      <td>NaN</td>\n",
       "      <td>0.01</td>\n",
       "      <td>...</td>\n",
       "      <td>0.0</td>\n",
       "      <td>0.0</td>\n",
       "      <td>0.0</td>\n",
       "      <td>0.000</td>\n",
       "      <td>0.000</td>\n",
       "      <td>0.0000</td>\n",
       "      <td>0.0000</td>\n",
       "      <td>6.798192e+07</td>\n",
       "      <td>16548.149805</td>\n",
       "      <td>-0.087725</td>\n",
       "    </tr>\n",
       "    <tr>\n",
       "      <th>4</th>\n",
       "      <td>2023-01-01 04:00:00</td>\n",
       "      <td>2.0</td>\n",
       "      <td>train</td>\n",
       "      <td>0.0</td>\n",
       "      <td>0.0</td>\n",
       "      <td>0.0</td>\n",
       "      <td>0.0</td>\n",
       "      <td>NaN</td>\n",
       "      <td>NaN</td>\n",
       "      <td>0.01</td>\n",
       "      <td>...</td>\n",
       "      <td>0.0</td>\n",
       "      <td>0.0</td>\n",
       "      <td>0.0</td>\n",
       "      <td>0.000</td>\n",
       "      <td>0.000</td>\n",
       "      <td>0.0000</td>\n",
       "      <td>0.0000</td>\n",
       "      <td>6.829002e+07</td>\n",
       "      <td>16533.632875</td>\n",
       "      <td>-0.053955</td>\n",
       "    </tr>\n",
       "    <tr>\n",
       "      <th>5</th>\n",
       "      <td>2023-01-01 05:00:00</td>\n",
       "      <td>2.0</td>\n",
       "      <td>train</td>\n",
       "      <td>0.0</td>\n",
       "      <td>0.0</td>\n",
       "      <td>0.0</td>\n",
       "      <td>0.0</td>\n",
       "      <td>NaN</td>\n",
       "      <td>NaN</td>\n",
       "      <td>0.01</td>\n",
       "      <td>...</td>\n",
       "      <td>0.0</td>\n",
       "      <td>0.0</td>\n",
       "      <td>0.0</td>\n",
       "      <td>0.000</td>\n",
       "      <td>0.000</td>\n",
       "      <td>0.0000</td>\n",
       "      <td>0.0000</td>\n",
       "      <td>6.850430e+07</td>\n",
       "      <td>16524.712159</td>\n",
       "      <td>0.028417</td>\n",
       "    </tr>\n",
       "    <tr>\n",
       "      <th>...</th>\n",
       "      <td>...</td>\n",
       "      <td>...</td>\n",
       "      <td>...</td>\n",
       "      <td>...</td>\n",
       "      <td>...</td>\n",
       "      <td>...</td>\n",
       "      <td>...</td>\n",
       "      <td>...</td>\n",
       "      <td>...</td>\n",
       "      <td>...</td>\n",
       "      <td>...</td>\n",
       "      <td>...</td>\n",
       "      <td>...</td>\n",
       "      <td>...</td>\n",
       "      <td>...</td>\n",
       "      <td>...</td>\n",
       "      <td>...</td>\n",
       "      <td>...</td>\n",
       "      <td>...</td>\n",
       "      <td>...</td>\n",
       "      <td>...</td>\n",
       "    </tr>\n",
       "    <tr>\n",
       "      <th>11546</th>\n",
       "      <td>2024-04-26 02:00:00</td>\n",
       "      <td>NaN</td>\n",
       "      <td>test</td>\n",
       "      <td>NaN</td>\n",
       "      <td>NaN</td>\n",
       "      <td>NaN</td>\n",
       "      <td>NaN</td>\n",
       "      <td>NaN</td>\n",
       "      <td>NaN</td>\n",
       "      <td>NaN</td>\n",
       "      <td>...</td>\n",
       "      <td>NaN</td>\n",
       "      <td>NaN</td>\n",
       "      <td>NaN</td>\n",
       "      <td>0.108</td>\n",
       "      <td>0.175</td>\n",
       "      <td>6926.7650</td>\n",
       "      <td>11317.9534</td>\n",
       "      <td>9.883205e+07</td>\n",
       "      <td>NaN</td>\n",
       "      <td>NaN</td>\n",
       "    </tr>\n",
       "    <tr>\n",
       "      <th>11547</th>\n",
       "      <td>2024-04-26 03:00:00</td>\n",
       "      <td>NaN</td>\n",
       "      <td>test</td>\n",
       "      <td>NaN</td>\n",
       "      <td>NaN</td>\n",
       "      <td>NaN</td>\n",
       "      <td>NaN</td>\n",
       "      <td>NaN</td>\n",
       "      <td>NaN</td>\n",
       "      <td>NaN</td>\n",
       "      <td>...</td>\n",
       "      <td>NaN</td>\n",
       "      <td>NaN</td>\n",
       "      <td>NaN</td>\n",
       "      <td>0.138</td>\n",
       "      <td>0.034</td>\n",
       "      <td>8852.6173</td>\n",
       "      <td>2197.9436</td>\n",
       "      <td>9.916199e+07</td>\n",
       "      <td>NaN</td>\n",
       "      <td>NaN</td>\n",
       "    </tr>\n",
       "    <tr>\n",
       "      <th>11548</th>\n",
       "      <td>2024-04-26 04:00:00</td>\n",
       "      <td>NaN</td>\n",
       "      <td>test</td>\n",
       "      <td>NaN</td>\n",
       "      <td>NaN</td>\n",
       "      <td>NaN</td>\n",
       "      <td>NaN</td>\n",
       "      <td>NaN</td>\n",
       "      <td>NaN</td>\n",
       "      <td>NaN</td>\n",
       "      <td>...</td>\n",
       "      <td>NaN</td>\n",
       "      <td>NaN</td>\n",
       "      <td>NaN</td>\n",
       "      <td>1.375</td>\n",
       "      <td>0.106</td>\n",
       "      <td>88004.5038</td>\n",
       "      <td>6836.7439</td>\n",
       "      <td>9.890358e+07</td>\n",
       "      <td>NaN</td>\n",
       "      <td>NaN</td>\n",
       "    </tr>\n",
       "    <tr>\n",
       "      <th>11549</th>\n",
       "      <td>2024-04-26 05:00:00</td>\n",
       "      <td>NaN</td>\n",
       "      <td>test</td>\n",
       "      <td>NaN</td>\n",
       "      <td>NaN</td>\n",
       "      <td>NaN</td>\n",
       "      <td>NaN</td>\n",
       "      <td>NaN</td>\n",
       "      <td>NaN</td>\n",
       "      <td>NaN</td>\n",
       "      <td>...</td>\n",
       "      <td>NaN</td>\n",
       "      <td>NaN</td>\n",
       "      <td>NaN</td>\n",
       "      <td>0.378</td>\n",
       "      <td>1.400</td>\n",
       "      <td>24154.4771</td>\n",
       "      <td>90469.5577</td>\n",
       "      <td>9.913138e+07</td>\n",
       "      <td>NaN</td>\n",
       "      <td>NaN</td>\n",
       "    </tr>\n",
       "    <tr>\n",
       "      <th>11550</th>\n",
       "      <td>2024-04-26 06:00:00</td>\n",
       "      <td>NaN</td>\n",
       "      <td>test</td>\n",
       "      <td>NaN</td>\n",
       "      <td>NaN</td>\n",
       "      <td>NaN</td>\n",
       "      <td>NaN</td>\n",
       "      <td>NaN</td>\n",
       "      <td>NaN</td>\n",
       "      <td>NaN</td>\n",
       "      <td>...</td>\n",
       "      <td>NaN</td>\n",
       "      <td>NaN</td>\n",
       "      <td>NaN</td>\n",
       "      <td>0.276</td>\n",
       "      <td>0.888</td>\n",
       "      <td>17703.9134</td>\n",
       "      <td>57387.5878</td>\n",
       "      <td>9.933858e+07</td>\n",
       "      <td>NaN</td>\n",
       "      <td>NaN</td>\n",
       "    </tr>\n",
       "  </tbody>\n",
       "</table>\n",
       "<p>11550 rows × 257 columns</p>\n",
       "</div>"
      ],
      "text/plain": [
       "                        ID  target  _type  \\\n",
       "1      2023-01-01 01:00:00     1.0  train   \n",
       "2      2023-01-01 02:00:00     1.0  train   \n",
       "3      2023-01-01 03:00:00     1.0  train   \n",
       "4      2023-01-01 04:00:00     2.0  train   \n",
       "5      2023-01-01 05:00:00     2.0  train   \n",
       "...                    ...     ...    ...   \n",
       "11546  2024-04-26 02:00:00     NaN   test   \n",
       "11547  2024-04-26 03:00:00     NaN   test   \n",
       "11548  2024-04-26 04:00:00     NaN   test   \n",
       "11549  2024-04-26 05:00:00     NaN   test   \n",
       "11550  2024-04-26 06:00:00     NaN   test   \n",
       "\n",
       "       hourly_market-data_liquidations_gate_io_all_symbol_long_liquidations  \\\n",
       "1                                                    0.0                      \n",
       "2                                                    0.0                      \n",
       "3                                                    0.0                      \n",
       "4                                                    0.0                      \n",
       "5                                                    0.0                      \n",
       "...                                                  ...                      \n",
       "11546                                                NaN                      \n",
       "11547                                                NaN                      \n",
       "11548                                                NaN                      \n",
       "11549                                                NaN                      \n",
       "11550                                                NaN                      \n",
       "\n",
       "       hourly_market-data_liquidations_gate_io_all_symbol_short_liquidations  \\\n",
       "1                                                    0.0                       \n",
       "2                                                    0.0                       \n",
       "3                                                    0.0                       \n",
       "4                                                    0.0                       \n",
       "5                                                    0.0                       \n",
       "...                                                  ...                       \n",
       "11546                                                NaN                       \n",
       "11547                                                NaN                       \n",
       "11548                                                NaN                       \n",
       "11549                                                NaN                       \n",
       "11550                                                NaN                       \n",
       "\n",
       "       hourly_market-data_liquidations_gate_io_all_symbol_long_liquidations_usd  \\\n",
       "1                                                    0.0                          \n",
       "2                                                    0.0                          \n",
       "3                                                    0.0                          \n",
       "4                                                    0.0                          \n",
       "5                                                    0.0                          \n",
       "...                                                  ...                          \n",
       "11546                                                NaN                          \n",
       "11547                                                NaN                          \n",
       "11548                                                NaN                          \n",
       "11549                                                NaN                          \n",
       "11550                                                NaN                          \n",
       "\n",
       "       hourly_market-data_liquidations_gate_io_all_symbol_short_liquidations_usd  \\\n",
       "1                                                    0.0                           \n",
       "2                                                    0.0                           \n",
       "3                                                    0.0                           \n",
       "4                                                    0.0                           \n",
       "5                                                    0.0                           \n",
       "...                                                  ...                           \n",
       "11546                                                NaN                           \n",
       "11547                                                NaN                           \n",
       "11548                                                NaN                           \n",
       "11549                                                NaN                           \n",
       "11550                                                NaN                           \n",
       "\n",
       "       hourly_market-data_open-interest_ftx_btc_usd_open_interest  \\\n",
       "1                                                    NaN            \n",
       "2                                                    NaN            \n",
       "3                                                    NaN            \n",
       "4                                                    NaN            \n",
       "5                                                    NaN            \n",
       "...                                                  ...            \n",
       "11546                                                NaN            \n",
       "11547                                                NaN            \n",
       "11548                                                NaN            \n",
       "11549                                                NaN            \n",
       "11550                                                NaN            \n",
       "\n",
       "       hourly_market-data_open-interest_bybit_open_interest  \\\n",
       "1                                                    NaN      \n",
       "2                                                    NaN      \n",
       "3                                                    NaN      \n",
       "4                                                    NaN      \n",
       "5                                                    NaN      \n",
       "...                                                  ...      \n",
       "11546                                                NaN      \n",
       "11547                                                NaN      \n",
       "11548                                                NaN      \n",
       "11549                                                NaN      \n",
       "11550                                                NaN      \n",
       "\n",
       "       hourly_market-data_funding-rates_bybit_funding_rates  ...  \\\n",
       "1                                                   0.01     ...   \n",
       "2                                                   0.01     ...   \n",
       "3                                                   0.01     ...   \n",
       "4                                                   0.01     ...   \n",
       "5                                                   0.01     ...   \n",
       "...                                                  ...     ...   \n",
       "11546                                                NaN     ...   \n",
       "11547                                                NaN     ...   \n",
       "11548                                                NaN     ...   \n",
       "11549                                                NaN     ...   \n",
       "11550                                                NaN     ...   \n",
       "\n",
       "       hourly_market-data_liquidations_huobi_global_btc_usdt_short_liquidations  \\\n",
       "1                                                    0.0                          \n",
       "2                                                    0.0                          \n",
       "3                                                    0.0                          \n",
       "4                                                    0.0                          \n",
       "5                                                    0.0                          \n",
       "...                                                  ...                          \n",
       "11546                                                NaN                          \n",
       "11547                                                NaN                          \n",
       "11548                                                NaN                          \n",
       "11549                                                NaN                          \n",
       "11550                                                NaN                          \n",
       "\n",
       "       hourly_market-data_liquidations_huobi_global_btc_usdt_long_liquidations_usd  \\\n",
       "1                                                    0.0                             \n",
       "2                                                    0.0                             \n",
       "3                                                    0.0                             \n",
       "4                                                    0.0                             \n",
       "5                                                    0.0                             \n",
       "...                                                  ...                             \n",
       "11546                                                NaN                             \n",
       "11547                                                NaN                             \n",
       "11548                                                NaN                             \n",
       "11549                                                NaN                             \n",
       "11550                                                NaN                             \n",
       "\n",
       "       hourly_market-data_liquidations_huobi_global_btc_usdt_short_liquidations_usd  \\\n",
       "1                                                    0.0                              \n",
       "2                                                    0.0                              \n",
       "3                                                    0.0                              \n",
       "4                                                    0.0                              \n",
       "5                                                    0.0                              \n",
       "...                                                  ...                              \n",
       "11546                                                NaN                              \n",
       "11547                                                NaN                              \n",
       "11548                                                NaN                              \n",
       "11549                                                NaN                              \n",
       "11550                                                NaN                              \n",
       "\n",
       "       hourly_market-data_liquidations_htx_global_btc_usdt_long_liquidations  \\\n",
       "1                                                  0.000                       \n",
       "2                                                  0.000                       \n",
       "3                                                  0.000                       \n",
       "4                                                  0.000                       \n",
       "5                                                  0.000                       \n",
       "...                                                  ...                       \n",
       "11546                                              0.108                       \n",
       "11547                                              0.138                       \n",
       "11548                                              1.375                       \n",
       "11549                                              0.378                       \n",
       "11550                                              0.276                       \n",
       "\n",
       "       hourly_market-data_liquidations_htx_global_btc_usdt_short_liquidations  \\\n",
       "1                                                  0.000                        \n",
       "2                                                  0.000                        \n",
       "3                                                  0.000                        \n",
       "4                                                  0.000                        \n",
       "5                                                  0.000                        \n",
       "...                                                  ...                        \n",
       "11546                                              0.175                        \n",
       "11547                                              0.034                        \n",
       "11548                                              0.106                        \n",
       "11549                                              1.400                        \n",
       "11550                                              0.888                        \n",
       "\n",
       "       hourly_market-data_liquidations_htx_global_btc_usdt_long_liquidations_usd  \\\n",
       "1                                                 0.0000                           \n",
       "2                                                 0.0000                           \n",
       "3                                                 0.0000                           \n",
       "4                                                 0.0000                           \n",
       "5                                                 0.0000                           \n",
       "...                                                  ...                           \n",
       "11546                                          6926.7650                           \n",
       "11547                                          8852.6173                           \n",
       "11548                                         88004.5038                           \n",
       "11549                                         24154.4771                           \n",
       "11550                                         17703.9134                           \n",
       "\n",
       "       hourly_market-data_liquidations_htx_global_btc_usdt_short_liquidations_usd  \\\n",
       "1                                                 0.0000                            \n",
       "2                                                 0.0000                            \n",
       "3                                                 0.0000                            \n",
       "4                                                 0.0000                            \n",
       "5                                                 0.0000                            \n",
       "...                                                  ...                            \n",
       "11546                                         11317.9534                            \n",
       "11547                                          2197.9436                            \n",
       "11548                                          6836.7439                            \n",
       "11549                                         90469.5577                            \n",
       "11550                                         57387.5878                            \n",
       "\n",
       "       hourly_market-data_open-interest_htx_global_btc_usdt_open_interest  \\\n",
       "1                                           6.788941e+07                    \n",
       "2                                           6.781657e+07                    \n",
       "3                                           6.798192e+07                    \n",
       "4                                           6.829002e+07                    \n",
       "5                                           6.850430e+07                    \n",
       "...                                                  ...                    \n",
       "11546                                       9.883205e+07                    \n",
       "11547                                       9.916199e+07                    \n",
       "11548                                       9.890358e+07                    \n",
       "11549                                       9.913138e+07                    \n",
       "11550                                       9.933858e+07                    \n",
       "\n",
       "       hourly_market-data_price-ohlcv_all_exchange_spot_btc_usd_open  \\\n",
       "1                                           16536.747967               \n",
       "2                                           16557.136536               \n",
       "3                                           16548.149805               \n",
       "4                                           16533.632875               \n",
       "5                                           16524.712159               \n",
       "...                                                  ...               \n",
       "11546                                                NaN               \n",
       "11547                                                NaN               \n",
       "11548                                                NaN               \n",
       "11549                                                NaN               \n",
       "11550                                                NaN               \n",
       "\n",
       "       price_rate  \n",
       "1        0.123292  \n",
       "2       -0.054277  \n",
       "3       -0.087725  \n",
       "4       -0.053955  \n",
       "5        0.028417  \n",
       "...           ...  \n",
       "11546         NaN  \n",
       "11547         NaN  \n",
       "11548         NaN  \n",
       "11549         NaN  \n",
       "11550         NaN  \n",
       "\n",
       "[11550 rows x 257 columns]"
      ]
     },
     "execution_count": 12,
     "metadata": {},
     "output_type": "execute_result"
    }
   ],
   "source": [
    "df_copy = df_copy.iloc[1:-1]\n",
    "df_copy"
   ]
  },
  {
   "cell_type": "markdown",
   "metadata": {},
   "source": [
    "- 여러 피처들 중에서 전체적인 데이터에 대한 예측을 하기 위해 'all_exchange' 데이터만 솎아냅니다."
   ]
  },
  {
   "cell_type": "code",
   "execution_count": 50,
   "metadata": {},
   "outputs": [],
   "source": [
    "columns = df_copy.filter(like='all_exchange').columns\n",
    "df_new = df_copy[[\"ID\", \"target\", \"_type\", \"price_rate\"] + list(columns)]"
   ]
  },
  {
   "cell_type": "code",
   "execution_count": 51,
   "metadata": {},
   "outputs": [
    {
     "name": "stdout",
     "output_type": "stream",
     "text": [
      "<class 'pandas.core.frame.DataFrame'>\n",
      "RangeIndex: 11550 entries, 1 to 11550\n",
      "Data columns (total 19 columns):\n",
      " #   Column                                                                          Non-Null Count  Dtype  \n",
      "---  ------                                                                          --------------  -----  \n",
      " 0   ID                                                                              11550 non-null  object \n",
      " 1   target                                                                          8759 non-null   float64\n",
      " 2   _type                                                                           11550 non-null  object \n",
      " 3   price_rate                                                                      8759 non-null   float64\n",
      " 4   hourly_market-data_open-interest_all_exchange_all_symbol_open_interest          11547 non-null  float64\n",
      " 5   hourly_market-data_funding-rates_all_exchange_funding_rates                     11519 non-null  float64\n",
      " 6   hourly_market-data_taker-buy-sell-stats_all_exchange_taker_buy_volume           11520 non-null  float64\n",
      " 7   hourly_market-data_taker-buy-sell-stats_all_exchange_taker_sell_volume          11520 non-null  float64\n",
      " 8   hourly_market-data_taker-buy-sell-stats_all_exchange_taker_buy_ratio            11520 non-null  float64\n",
      " 9   hourly_market-data_taker-buy-sell-stats_all_exchange_taker_sell_ratio           11520 non-null  float64\n",
      " 10  hourly_market-data_taker-buy-sell-stats_all_exchange_taker_buy_sell_ratio       11520 non-null  float64\n",
      " 11  hourly_market-data_liquidations_all_exchange_all_symbol_long_liquidations       11550 non-null  float64\n",
      " 12  hourly_market-data_liquidations_all_exchange_all_symbol_short_liquidations      11550 non-null  float64\n",
      " 13  hourly_market-data_liquidations_all_exchange_all_symbol_long_liquidations_usd   11550 non-null  float64\n",
      " 14  hourly_market-data_liquidations_all_exchange_all_symbol_short_liquidations_usd  11550 non-null  float64\n",
      " 15  hourly_market-data_price-ohlcv_all_exchange_spot_btc_usd_close                  8759 non-null   float64\n",
      " 16  hourly_market-data_price-ohlcv_all_exchange_spot_btc_usd_volume                 8759 non-null   float64\n",
      " 17  hourly_market-data_open-interest_all_exchange_open_interest                     0 non-null      float64\n",
      " 18  hourly_market-data_price-ohlcv_all_exchange_spot_btc_usd_open                   8760 non-null   float64\n",
      "dtypes: float64(17), object(2)\n",
      "memory usage: 1.7+ MB\n"
     ]
    }
   ],
   "source": [
    "df_new.info()"
   ]
  },
  {
   "cell_type": "markdown",
   "metadata": {},
   "source": [
    "- 새롭게 생성된 df_new의 정보를 살펴보니 'hourly_market-data_open-interest_all_exchange_open_interest' 피처는 모두 비어있습니다.\n",
    "- 해당 파일의 원본 데이터를 확인하여 문제점을 파악합니다."
   ]
  },
  {
   "cell_type": "code",
   "execution_count": 52,
   "metadata": {},
   "outputs": [
    {
     "name": "stdout",
     "output_type": "stream",
     "text": [
      "<class 'pandas.core.frame.DataFrame'>\n",
      "RangeIndex: 32197 entries, 0 to 32196\n",
      "Data columns (total 2 columns):\n",
      " #   Column         Non-Null Count  Dtype  \n",
      "---  ------         --------------  -----  \n",
      " 0   datetime       32197 non-null  object \n",
      " 1   open_interest  32197 non-null  float64\n",
      "dtypes: float64(1), object(1)\n",
      "memory usage: 503.2+ KB\n",
      "None\n",
      "              datetime  open_interest\n",
      "0  2022-11-30 03:00:00   6.618043e+09\n",
      "1  2022-11-30 02:00:00   6.662443e+09\n",
      "2  2022-11-30 01:00:00   6.579798e+09\n",
      "3  2022-11-30 01:00:00   6.579798e+09\n",
      "4  2022-11-30 00:00:00   6.528951e+09\n"
     ]
    }
   ],
   "source": [
    "# 피처 'hourly_market-data_open-interest_all_exchange_open_interest'의 원본 파일을 살펴봅니다.\n",
    "open_interest_file_path = os.path.join(data_path, \"hourly_market-data_open-interest_all_exchange.csv\")\n",
    "\n",
    "# Check if the file exists\n",
    "if os.path.exists(open_interest_file_path):\n",
    "    open_interest_df = pd.read_csv(open_interest_file_path)\n",
    "    print(open_interest_df.info())\n",
    "    print(open_interest_df.head())\n",
    "else:\n",
    "    print(f\"File not found: {open_interest_file_path}\")"
   ]
  },
  {
   "cell_type": "code",
   "execution_count": 53,
   "metadata": {},
   "outputs": [],
   "source": [
    "# 'hourly_market-data_open-interest_all_exchange_open_interest' 피처는 훈련시켜야 하는 2023년의 데이터를 가지고 있지 않아, df_new 데이터프레임에 추가하지 않습니다.\n",
    "df_new = df_new.drop(columns=[\"hourly_market-data_open-interest_all_exchange_open_interest\"])"
   ]
  },
  {
   "cell_type": "code",
   "execution_count": 54,
   "metadata": {},
   "outputs": [
    {
     "name": "stdout",
     "output_type": "stream",
     "text": [
      "<class 'pandas.core.frame.DataFrame'>\n",
      "RangeIndex: 11550 entries, 1 to 11550\n",
      "Data columns (total 18 columns):\n",
      " #   Column                                                                          Non-Null Count  Dtype  \n",
      "---  ------                                                                          --------------  -----  \n",
      " 0   ID                                                                              11550 non-null  object \n",
      " 1   target                                                                          8759 non-null   float64\n",
      " 2   _type                                                                           11550 non-null  object \n",
      " 3   price_rate                                                                      8759 non-null   float64\n",
      " 4   hourly_market-data_open-interest_all_exchange_all_symbol_open_interest          11547 non-null  float64\n",
      " 5   hourly_market-data_funding-rates_all_exchange_funding_rates                     11519 non-null  float64\n",
      " 6   hourly_market-data_taker-buy-sell-stats_all_exchange_taker_buy_volume           11520 non-null  float64\n",
      " 7   hourly_market-data_taker-buy-sell-stats_all_exchange_taker_sell_volume          11520 non-null  float64\n",
      " 8   hourly_market-data_taker-buy-sell-stats_all_exchange_taker_buy_ratio            11520 non-null  float64\n",
      " 9   hourly_market-data_taker-buy-sell-stats_all_exchange_taker_sell_ratio           11520 non-null  float64\n",
      " 10  hourly_market-data_taker-buy-sell-stats_all_exchange_taker_buy_sell_ratio       11520 non-null  float64\n",
      " 11  hourly_market-data_liquidations_all_exchange_all_symbol_long_liquidations       11550 non-null  float64\n",
      " 12  hourly_market-data_liquidations_all_exchange_all_symbol_short_liquidations      11550 non-null  float64\n",
      " 13  hourly_market-data_liquidations_all_exchange_all_symbol_long_liquidations_usd   11550 non-null  float64\n",
      " 14  hourly_market-data_liquidations_all_exchange_all_symbol_short_liquidations_usd  11550 non-null  float64\n",
      " 15  hourly_market-data_price-ohlcv_all_exchange_spot_btc_usd_close                  8759 non-null   float64\n",
      " 16  hourly_market-data_price-ohlcv_all_exchange_spot_btc_usd_volume                 8759 non-null   float64\n",
      " 17  hourly_market-data_price-ohlcv_all_exchange_spot_btc_usd_open                   8760 non-null   float64\n",
      "dtypes: float64(16), object(2)\n",
      "memory usage: 1.6+ MB\n"
     ]
    }
   ],
   "source": [
    "df_new.info()"
   ]
  },
  {
   "cell_type": "code",
   "execution_count": 64,
   "metadata": {},
   "outputs": [
    {
     "name": "stdout",
     "output_type": "stream",
     "text": [
      "ID                                                                                0\n",
      "target                                                                            0\n",
      "_type                                                                             0\n",
      "price_rate                                                                        0\n",
      "hourly_market-data_open-interest_all_exchange_all_symbol_open_interest            0\n",
      "hourly_market-data_funding-rates_all_exchange_funding_rates                       0\n",
      "hourly_market-data_taker-buy-sell-stats_all_exchange_taker_buy_volume             0\n",
      "hourly_market-data_taker-buy-sell-stats_all_exchange_taker_sell_volume            0\n",
      "hourly_market-data_taker-buy-sell-stats_all_exchange_taker_buy_ratio              0\n",
      "hourly_market-data_taker-buy-sell-stats_all_exchange_taker_sell_ratio             0\n",
      "hourly_market-data_taker-buy-sell-stats_all_exchange_taker_buy_sell_ratio         0\n",
      "hourly_market-data_liquidations_all_exchange_all_symbol_long_liquidations         0\n",
      "hourly_market-data_liquidations_all_exchange_all_symbol_short_liquidations        0\n",
      "hourly_market-data_liquidations_all_exchange_all_symbol_long_liquidations_usd     0\n",
      "hourly_market-data_liquidations_all_exchange_all_symbol_short_liquidations_usd    0\n",
      "hourly_market-data_price-ohlcv_all_exchange_spot_btc_usd_close                    0\n",
      "hourly_market-data_price-ohlcv_all_exchange_spot_btc_usd_volume                   0\n",
      "hourly_market-data_price-ohlcv_all_exchange_spot_btc_usd_open                     0\n",
      "dtype: int64\n"
     ]
    }
   ],
   "source": [
    "eda_df = df_new.loc[df[\"_type\"] == \"train\"]\n",
    "\n",
    "# 각 열에서 누락된 값의 수를 계산\n",
    "missing_values = eda_df.isnull().sum()\n",
    "print(missing_values)"
   ]
  },
  {
   "cell_type": "code",
   "execution_count": 65,
   "metadata": {},
   "outputs": [],
   "source": [
    "# 칼럼의 rename rule 정의\n",
    "cols_dict: Dict[str, str] = {\n",
    "    \"ID\": \"ID\",\n",
    "    \"target\": \"target\",\n",
    "    \"hourly_market-data_open-interest_all_exchange_all_symbol_open_interest\": \"open_interest\",\n",
    "\"hourly_market-data_funding-rates_all_exchange_funding_rates\": \"funding_rates\",\n",
    "\"hourly_market-data_taker-buy-sell-stats_all_exchange_taker_buy_volume\": \"taker_buy_volume\",\n",
    "\"hourly_market-data_taker-buy-sell-stats_all_exchange_taker_sell_volume\": \"taker_sell_volume\",\n",
    "\"hourly_market-data_taker-buy-sell-stats_all_exchange_taker_buy_sell_ratio\": \"taker_buy_sell_ratio\",\n",
    "\"hourly_market-data_liquidations_all_exchange_all_symbol_long_liquidations\": \"long_liquidations\",\n",
    "\"hourly_market-data_liquidations_all_exchange_all_symbol_short_liquidations\": \"short_liquidations\",\n",
    "\"hourly_market-data_price-ohlcv_all_exchange_spot_btc_usd_volume\": \"volume\",\n",
    "\"hourly_market-data_price-ohlcv_all_exchange_spot_btc_usd_open\": \"open_price\",\n",
    "\"hourly_market-data_price-ohlcv_all_exchange_spot_btc_usd_close\": \"close_price\",\n",
    "\"price_rate\": \"price_rate\"\n",
    "}\n",
    "\n",
    "eda_df = eda_df[cols_dict.keys()].rename(cols_dict, axis=1)"
   ]
  },
  {
   "cell_type": "code",
   "execution_count": 66,
   "metadata": {},
   "outputs": [
    {
     "name": "stderr",
     "output_type": "stream",
     "text": [
      "/Users/jejunlee/miniconda3/envs/boostcamp/lib/python3.12/site-packages/IPython/core/pylabtools.py:170: UserWarning:\n",
      "\n",
      "Glyph 54588 (\\N{HANGUL SYLLABLE PI}) missing from font(s) DejaVu Sans.\n",
      "\n",
      "/Users/jejunlee/miniconda3/envs/boostcamp/lib/python3.12/site-packages/IPython/core/pylabtools.py:170: UserWarning:\n",
      "\n",
      "Glyph 52376 (\\N{HANGUL SYLLABLE CEO}) missing from font(s) DejaVu Sans.\n",
      "\n",
      "/Users/jejunlee/miniconda3/envs/boostcamp/lib/python3.12/site-packages/IPython/core/pylabtools.py:170: UserWarning:\n",
      "\n",
      "Glyph 46308 (\\N{HANGUL SYLLABLE DEUL}) missing from font(s) DejaVu Sans.\n",
      "\n",
      "/Users/jejunlee/miniconda3/envs/boostcamp/lib/python3.12/site-packages/IPython/core/pylabtools.py:170: UserWarning:\n",
      "\n",
      "Glyph 51032 (\\N{HANGUL SYLLABLE YI}) missing from font(s) DejaVu Sans.\n",
      "\n",
      "/Users/jejunlee/miniconda3/envs/boostcamp/lib/python3.12/site-packages/IPython/core/pylabtools.py:170: UserWarning:\n",
      "\n",
      "Glyph 49345 (\\N{HANGUL SYLLABLE SANG}) missing from font(s) DejaVu Sans.\n",
      "\n",
      "/Users/jejunlee/miniconda3/envs/boostcamp/lib/python3.12/site-packages/IPython/core/pylabtools.py:170: UserWarning:\n",
      "\n",
      "Glyph 44288 (\\N{HANGUL SYLLABLE GWAN}) missing from font(s) DejaVu Sans.\n",
      "\n",
      "/Users/jejunlee/miniconda3/envs/boostcamp/lib/python3.12/site-packages/IPython/core/pylabtools.py:170: UserWarning:\n",
      "\n",
      "Glyph 44228 (\\N{HANGUL SYLLABLE GYE}) missing from font(s) DejaVu Sans.\n",
      "\n",
      "/Users/jejunlee/miniconda3/envs/boostcamp/lib/python3.12/site-packages/IPython/core/pylabtools.py:170: UserWarning:\n",
      "\n",
      "Glyph 55176 (\\N{HANGUL SYLLABLE HI}) missing from font(s) DejaVu Sans.\n",
      "\n",
      "/Users/jejunlee/miniconda3/envs/boostcamp/lib/python3.12/site-packages/IPython/core/pylabtools.py:170: UserWarning:\n",
      "\n",
      "Glyph 53944 (\\N{HANGUL SYLLABLE TEU}) missing from font(s) DejaVu Sans.\n",
      "\n",
      "/Users/jejunlee/miniconda3/envs/boostcamp/lib/python3.12/site-packages/IPython/core/pylabtools.py:170: UserWarning:\n",
      "\n",
      "Glyph 47605 (\\N{HANGUL SYLLABLE MAEB}) missing from font(s) DejaVu Sans.\n",
      "\n"
     ]
    },
    {
     "data": {
      "image/png": "[encoded data removed]",
      "text/plain": [
       "<Figure size 2000x2000 with 2 Axes>"
      ]
     },
     "metadata": {},
     "output_type": "display_data"
    }
   ],
   "source": [
    "correlation_matrix = eda_df.drop(columns=['ID']).corr()\n",
    "correlation_matrix = correlation_matrix.dropna(axis=1, how=\"all\")\n",
    "\n",
    "plt.figure(figsize=(20, 20))\n",
    "sns.heatmap(correlation_matrix, annot=True, fmt=\".2f\", cmap='coolwarm', square=True, mask=np.triu(correlation_matrix, k=1))\n",
    "plt.title(\"피처들의 상관관계 히트맵\")\n",
    "plt.show()"
   ]
  },
  {
   "cell_type": "code",
   "execution_count": 67,
   "metadata": {},
   "outputs": [
    {
     "data": {
      "text/plain": [
       "target\n",
       "2.0    0.418998\n",
       "1.0    0.404612\n",
       "3.0    0.091905\n",
       "0.0    0.084485\n",
       "Name: count, dtype: float64"
      ]
     },
     "execution_count": 67,
     "metadata": {},
     "output_type": "execute_result"
    }
   ],
   "source": [
    "# 타겟 레이블 분포\n",
    "eda_df[\"target\"].value_counts()/len(eda_df)"
   ]
  },
  {
   "cell_type": "code",
   "execution_count": 68,
   "metadata": {},
   "outputs": [
    {
     "data": {
      "text/html": [
       "<div>\n",
       "<style scoped>\n",
       "    .dataframe tbody tr th:only-of-type {\n",
       "        vertical-align: middle;\n",
       "    }\n",
       "\n",
       "    .dataframe tbody tr th {\n",
       "        vertical-align: top;\n",
       "    }\n",
       "\n",
       "    .dataframe thead th {\n",
       "        text-align: right;\n",
       "    }\n",
       "</style>\n",
       "<table border=\"1\" class=\"dataframe\">\n",
       "  <thead>\n",
       "    <tr style=\"text-align: right;\">\n",
       "      <th></th>\n",
       "      <th>target</th>\n",
       "      <th>open_interest</th>\n",
       "      <th>funding_rates</th>\n",
       "      <th>taker_buy_volume</th>\n",
       "      <th>taker_sell_volume</th>\n",
       "      <th>taker_buy_sell_ratio</th>\n",
       "      <th>long_liquidations</th>\n",
       "      <th>short_liquidations</th>\n",
       "      <th>volume</th>\n",
       "      <th>open_price</th>\n",
       "      <th>close_price</th>\n",
       "      <th>price_rate</th>\n",
       "    </tr>\n",
       "  </thead>\n",
       "  <tbody>\n",
       "    <tr>\n",
       "      <th>0</th>\n",
       "      <td>0.0</td>\n",
       "      <td>8.810355e+09</td>\n",
       "      <td>0.007483</td>\n",
       "      <td>4.046126e+08</td>\n",
       "      <td>4.037655e+08</td>\n",
       "      <td>1.004803</td>\n",
       "      <td>34.306873</td>\n",
       "      <td>35.351660</td>\n",
       "      <td>7260.855920</td>\n",
       "      <td>29568.602912</td>\n",
       "      <td>29643.533974</td>\n",
       "      <td>0.256620</td>\n",
       "    </tr>\n",
       "    <tr>\n",
       "      <th>1</th>\n",
       "      <td>1.0</td>\n",
       "      <td>8.519933e+09</td>\n",
       "      <td>0.007194</td>\n",
       "      <td>2.416815e+08</td>\n",
       "      <td>2.378602e+08</td>\n",
       "      <td>1.029377</td>\n",
       "      <td>15.403795</td>\n",
       "      <td>17.878903</td>\n",
       "      <td>4483.274070</td>\n",
       "      <td>28671.537034</td>\n",
       "      <td>28690.376933</td>\n",
       "      <td>0.065010</td>\n",
       "    </tr>\n",
       "    <tr>\n",
       "      <th>2</th>\n",
       "      <td>2.0</td>\n",
       "      <td>8.501224e+09</td>\n",
       "      <td>0.007193</td>\n",
       "      <td>2.381471e+08</td>\n",
       "      <td>2.442757e+08</td>\n",
       "      <td>0.993823</td>\n",
       "      <td>20.313958</td>\n",
       "      <td>15.906029</td>\n",
       "      <td>4495.917985</td>\n",
       "      <td>28677.381488</td>\n",
       "      <td>28666.763901</td>\n",
       "      <td>-0.034095</td>\n",
       "    </tr>\n",
       "    <tr>\n",
       "      <th>3</th>\n",
       "      <td>3.0</td>\n",
       "      <td>8.698922e+09</td>\n",
       "      <td>0.006617</td>\n",
       "      <td>4.306805e+08</td>\n",
       "      <td>4.376228e+08</td>\n",
       "      <td>1.002806</td>\n",
       "      <td>45.540121</td>\n",
       "      <td>37.819832</td>\n",
       "      <td>8242.800159</td>\n",
       "      <td>29172.021936</td>\n",
       "      <td>29100.590892</td>\n",
       "      <td>-0.228062</td>\n",
       "    </tr>\n",
       "  </tbody>\n",
       "</table>\n",
       "</div>"
      ],
      "text/plain": [
       "   target  open_interest  funding_rates  taker_buy_volume  taker_sell_volume  \\\n",
       "0     0.0   8.810355e+09       0.007483      4.046126e+08       4.037655e+08   \n",
       "1     1.0   8.519933e+09       0.007194      2.416815e+08       2.378602e+08   \n",
       "2     2.0   8.501224e+09       0.007193      2.381471e+08       2.442757e+08   \n",
       "3     3.0   8.698922e+09       0.006617      4.306805e+08       4.376228e+08   \n",
       "\n",
       "   taker_buy_sell_ratio  long_liquidations  short_liquidations       volume  \\\n",
       "0              1.004803          34.306873           35.351660  7260.855920   \n",
       "1              1.029377          15.403795           17.878903  4483.274070   \n",
       "2              0.993823          20.313958           15.906029  4495.917985   \n",
       "3              1.002806          45.540121           37.819832  8242.800159   \n",
       "\n",
       "     open_price   close_price  price_rate  \n",
       "0  29568.602912  29643.533974    0.256620  \n",
       "1  28671.537034  28690.376933    0.065010  \n",
       "2  28677.381488  28666.763901   -0.034095  \n",
       "3  29172.021936  29100.590892   -0.228062  "
      ]
     },
     "execution_count": 68,
     "metadata": {},
     "output_type": "execute_result"
    }
   ],
   "source": [
    "# 타겟 값 별로 변수의 평균 파익\n",
    "bar_df = eda_df.groupby(\"target\").agg({\n",
    "    \"open_interest\" : \"mean\",\n",
    "    \"funding_rates\" : \"mean\",\n",
    "    \"taker_buy_volume\" : \"mean\",\n",
    "    \"taker_sell_volume\" : \"mean\",\n",
    "    \"taker_buy_sell_ratio\" : \"mean\",\n",
    "    \"long_liquidations\" : \"mean\",\n",
    "    \"short_liquidations\" : \"mean\",\n",
    "    \"volume\" : \"mean\",\n",
    "    \"open_price\" : \"mean\",\n",
    "    \"close_price\" : \"mean\",\n",
    "    \"price_rate\" : \"mean\"\n",
    "}).reset_index()\n",
    "bar_df\n",
    "\n",
    "# 극단적인 경우, 즉 target 0, 3에서 평균적으로 long_liquidations, short_liquidations, volume, sell_volume, taker_buy_volume, taker_sell_volume 값이 커짐"
   ]
  },
  {
   "cell_type": "code",
   "execution_count": 69,
   "metadata": {},
   "outputs": [
    {
     "data": {
      "application/vnd.plotly.v1+json": {
       "config": {
        "plotlyServerURL": "https://plot.ly"
       },
       "data": [
        {
         "type": "bar",
         "x": [
          2,
          1,
          3,
          0
         ],
         "xaxis": "x",
         "y": [
          0.41899760246603496,
          0.4046123986756479,
          0.09190546866080603,
          0.08448453019751113
         ],
         "yaxis": "y"
        },
        {
         "type": "bar",
         "x": [
          0,
          1,
          2,
          3
         ],
         "xaxis": "x2",
         "y": [
          8810354725.491999,
          8519932661.506109,
          8501224159.204042,
          8698921939.680593
         ],
         "yaxis": "y2"
        },
        {
         "type": "bar",
         "x": [
          0,
          1,
          2,
          3
         ],
         "xaxis": "x3",
         "y": [
          0.007483202337837838,
          0.0071942272855530474,
          0.007192650452316076,
          0.006617374782608695
         ],
         "yaxis": "y3"
        },
        {
         "type": "bar",
         "x": [
          0,
          1,
          2,
          3
         ],
         "xaxis": "x4",
         "y": [
          404612557.6485542,
          241681468.96934766,
          238147113.78773215,
          430680536.7217939
         ],
         "yaxis": "y4"
        },
        {
         "type": "bar",
         "x": [
          0,
          1,
          2,
          3
         ],
         "xaxis": "x5",
         "y": [
          403765478.5465977,
          237860228.0856347,
          244275701.94084543,
          437622751.5117634
         ],
         "yaxis": "y5"
        },
        {
         "type": "bar",
         "x": [
          0,
          1,
          2,
          3
         ],
         "xaxis": "x6",
         "y": [
          1.0048034826216217,
          1.0293767239588036,
          0.9938227015940055,
          1.0028058388819876
         ],
         "yaxis": "y6"
        },
        {
         "type": "bar",
         "x": [
          0,
          1,
          2,
          3
         ],
         "xaxis": "x7",
         "y": [
          34.30687318508108,
          15.40379450079571,
          20.313957590738422,
          45.54012068674535
         ],
         "yaxis": "y7"
        },
        {
         "type": "bar",
         "x": [
          0,
          1,
          2,
          3
         ],
         "xaxis": "x8",
         "y": [
          35.3516596207973,
          17.878903239480813,
          15.906029473376021,
          37.81983174443478
         ],
         "yaxis": "y8"
        },
        {
         "type": "bar",
         "x": [
          0,
          1,
          2,
          3
         ],
         "xaxis": "x9",
         "y": [
          7260.85591974296,
          4483.274070195879,
          4495.917985310375,
          8242.800159284892
         ],
         "yaxis": "y9"
        },
        {
         "type": "bar",
         "x": [
          0,
          1,
          2,
          3
         ],
         "xaxis": "x10",
         "y": [
          29568.60291241638,
          28671.537034149693,
          28677.38148822725,
          29172.021936142723
         ],
         "yaxis": "y10"
        },
        {
         "type": "bar",
         "x": [
          0,
          1,
          2,
          3
         ],
         "xaxis": "x11",
         "y": [
          29643.533973562662,
          28690.3769328844,
          28666.76390144313,
          29100.59089151101
         ],
         "yaxis": "y11"
        },
        {
         "type": "bar",
         "x": [
          0,
          1,
          2,
          3
         ],
         "xaxis": "x12",
         "y": [
          0.2566201333955364,
          0.06501003882774815,
          -0.03409473971229458,
          -0.2280623579716813
         ],
         "yaxis": "y12"
        }
       ],
       "layout": {
        "annotations": [
         {
          "font": {
           "size": 16
          },
          "showarrow": false,
          "text": "target distribution",
          "x": 0.225,
          "xanchor": "center",
          "xref": "paper",
          "y": 0.9999999999999999,
          "yanchor": "bottom",
          "yref": "paper"
         },
         {
          "font": {
           "size": 16
          },
          "showarrow": false,
          "text": "open_interest",
          "x": 0.775,
          "xanchor": "center",
          "xref": "paper",
          "y": 0.9999999999999999,
          "yanchor": "bottom",
          "yref": "paper"
         },
         {
          "font": {
           "size": 16
          },
          "showarrow": false,
          "text": "funding_rates",
          "x": 0.225,
          "xanchor": "center",
          "xref": "paper",
          "y": 0.8194444444444444,
          "yanchor": "bottom",
          "yref": "paper"
         },
         {
          "font": {
           "size": 16
          },
          "showarrow": false,
          "text": "taker_buy_volume",
          "x": 0.775,
          "xanchor": "center",
          "xref": "paper",
          "y": 0.8194444444444444,
          "yanchor": "bottom",
          "yref": "paper"
         },
         {
          "font": {
           "size": 16
          },
          "showarrow": false,
          "text": "taker_sell_volume",
          "x": 0.225,
          "xanchor": "center",
          "xref": "paper",
          "y": 0.638888888888889,
          "yanchor": "bottom",
          "yref": "paper"
         },
         {
          "font": {
           "size": 16
          },
          "showarrow": false,
          "text": "taker_buy_sell_ratio",
          "x": 0.775,
          "xanchor": "center",
          "xref": "paper",
          "y": 0.638888888888889,
          "yanchor": "bottom",
          "yref": "paper"
         },
         {
          "font": {
           "size": 16
          },
          "showarrow": false,
          "text": "long_liquidations",
          "x": 0.225,
          "xanchor": "center",
          "xref": "paper",
          "y": 0.4583333333333333,
          "yanchor": "bottom",
          "yref": "paper"
         },
         {
          "font": {
           "size": 16
          },
          "showarrow": false,
          "text": "short_liquidations",
          "x": 0.775,
          "xanchor": "center",
          "xref": "paper",
          "y": 0.4583333333333333,
          "yanchor": "bottom",
          "yref": "paper"
         },
         {
          "font": {
           "size": 16
          },
          "showarrow": false,
          "text": "volume",
          "x": 0.225,
          "xanchor": "center",
          "xref": "paper",
          "y": 0.2777777777777778,
          "yanchor": "bottom",
          "yref": "paper"
         },
         {
          "font": {
           "size": 16
          },
          "showarrow": false,
          "text": "open_price",
          "x": 0.775,
          "xanchor": "center",
          "xref": "paper",
          "y": 0.2777777777777778,
          "yanchor": "bottom",
          "yref": "paper"
         },
         {
          "font": {
           "size": 16
          },
          "showarrow": false,
          "text": "close_price",
          "x": 0.225,
          "xanchor": "center",
          "xref": "paper",
          "y": 0.09722222222222222,
          "yanchor": "bottom",
          "yref": "paper"
         },
         {
          "font": {
           "size": 16
          },
          "showarrow": false,
          "text": "price_rate",
          "x": 0.775,
          "xanchor": "center",
          "xref": "paper",
          "y": 0.09722222222222222,
          "yanchor": "bottom",
          "yref": "paper"
         }
        ],
        "showlegend": false,
        "template": {
         "data": {
          "bar": [
           {
            "error_x": {
             "color": "#2a3f5f"
            },
            "error_y": {
             "color": "#2a3f5f"
            },
            "marker": {
             "line": {
              "color": "#E5ECF6",
              "width": 0.5
             },
             "pattern": {
              "fillmode": "overlay",
              "size": 10,
              "solidity": 0.2
             }
            },
            "type": "bar"
           }
          ],
          "barpolar": [
           {
            "marker": {
             "line": {
              "color": "#E5ECF6",
              "width": 0.5
             },
             "pattern": {
              "fillmode": "overlay",
              "size": 10,
              "solidity": 0.2
             }
            },
            "type": "barpolar"
           }
          ],
          "carpet": [
           {
            "aaxis": {
             "endlinecolor": "#2a3f5f",
             "gridcolor": "white",
             "linecolor": "white",
             "minorgridcolor": "white",
             "startlinecolor": "#2a3f5f"
            },
            "baxis": {
             "endlinecolor": "#2a3f5f",
             "gridcolor": "white",
             "linecolor": "white",
             "minorgridcolor": "white",
             "startlinecolor": "#2a3f5f"
            },
            "type": "carpet"
           }
          ],
          "choropleth": [
           {
            "colorbar": {
             "outlinewidth": 0,
             "ticks": ""
            },
            "type": "choropleth"
           }
          ],
          "contour": [
           {
            "colorbar": {
             "outlinewidth": 0,
             "ticks": ""
            },
            "colorscale": [
             [
              0,
              "#0d0887"
             ],
             [
              0.1111111111111111,
              "#46039f"
             ],
             [
              0.2222222222222222,
              "#7201a8"
             ],
             [
              0.3333333333333333,
              "#9c179e"
             ],
             [
              0.4444444444444444,
              "#bd3786"
             ],
             [
              0.5555555555555556,
              "#d8576b"
             ],
             [
              0.6666666666666666,
              "#ed7953"
             ],
             [
              0.7777777777777778,
              "#fb9f3a"
             ],
             [
              0.8888888888888888,
              "#fdca26"
             ],
             [
              1,
              "#f0f921"
             ]
            ],
            "type": "contour"
           }
          ],
          "contourcarpet": [
           {
            "colorbar": {
             "outlinewidth": 0,
             "ticks": ""
            },
            "type": "contourcarpet"
           }
          ],
          "heatmap": [
           {
            "colorbar": {
             "outlinewidth": 0,
             "ticks": ""
            },
            "colorscale": [
             [
              0,
              "#0d0887"
             ],
             [
              0.1111111111111111,
              "#46039f"
             ],
             [
              0.2222222222222222,
              "#7201a8"
             ],
             [
              0.3333333333333333,
              "#9c179e"
             ],
             [
              0.4444444444444444,
              "#bd3786"
             ],
             [
              0.5555555555555556,
              "#d8576b"
             ],
             [
              0.6666666666666666,
              "#ed7953"
             ],
             [
              0.7777777777777778,
              "#fb9f3a"
             ],
             [
              0.8888888888888888,
              "#fdca26"
             ],
             [
              1,
              "#f0f921"
             ]
            ],
            "type": "heatmap"
           }
          ],
          "heatmapgl": [
           {
            "colorbar": {
             "outlinewidth": 0,
             "ticks": ""
            },
            "colorscale": [
             [
              0,
              "#0d0887"
             ],
             [
              0.1111111111111111,
              "#46039f"
             ],
             [
              0.2222222222222222,
              "#7201a8"
             ],
             [
              0.3333333333333333,
              "#9c179e"
             ],
             [
              0.4444444444444444,
              "#bd3786"
             ],
             [
              0.5555555555555556,
              "#d8576b"
             ],
             [
              0.6666666666666666,
              "#ed7953"
             ],
             [
              0.7777777777777778,
              "#fb9f3a"
             ],
             [
              0.8888888888888888,
              "#fdca26"
             ],
             [
              1,
              "#f0f921"
             ]
            ],
            "type": "heatmapgl"
           }
          ],
          "histogram": [
           {
            "marker": {
             "pattern": {
              "fillmode": "overlay",
              "size": 10,
              "solidity": 0.2
             }
            },
            "type": "histogram"
           }
          ],
          "histogram2d": [
           {
            "colorbar": {
             "outlinewidth": 0,
             "ticks": ""
            },
            "colorscale": [
             [
              0,
              "#0d0887"
             ],
             [
              0.1111111111111111,
              "#46039f"
             ],
             [
              0.2222222222222222,
              "#7201a8"
             ],
             [
              0.3333333333333333,
              "#9c179e"
             ],
             [
              0.4444444444444444,
              "#bd3786"
             ],
             [
              0.5555555555555556,
              "#d8576b"
             ],
             [
              0.6666666666666666,
              "#ed7953"
             ],
             [
              0.7777777777777778,
              "#fb9f3a"
             ],
             [
              0.8888888888888888,
              "#fdca26"
             ],
             [
              1,
              "#f0f921"
             ]
            ],
            "type": "histogram2d"
           }
          ],
          "histogram2dcontour": [
           {
            "colorbar": {
             "outlinewidth": 0,
             "ticks": ""
            },
            "colorscale": [
             [
              0,
              "#0d0887"
             ],
             [
              0.1111111111111111,
              "#46039f"
             ],
             [
              0.2222222222222222,
              "#7201a8"
             ],
             [
              0.3333333333333333,
              "#9c179e"
             ],
             [
              0.4444444444444444,
              "#bd3786"
             ],
             [
              0.5555555555555556,
              "#d8576b"
             ],
             [
              0.6666666666666666,
              "#ed7953"
             ],
             [
              0.7777777777777778,
              "#fb9f3a"
             ],
             [
              0.8888888888888888,
              "#fdca26"
             ],
             [
              1,
              "#f0f921"
             ]
            ],
            "type": "histogram2dcontour"
           }
          ],
          "mesh3d": [
           {
            "colorbar": {
             "outlinewidth": 0,
             "ticks": ""
            },
            "type": "mesh3d"
           }
          ],
          "parcoords": [
           {
            "line": {
             "colorbar": {
              "outlinewidth": 0,
              "ticks": ""
             }
            },
            "type": "parcoords"
           }
          ],
          "pie": [
           {
            "automargin": true,
            "type": "pie"
           }
          ],
          "scatter": [
           {
            "fillpattern": {
             "fillmode": "overlay",
             "size": 10,
             "solidity": 0.2
            },
            "type": "scatter"
           }
          ],
          "scatter3d": [
           {
            "line": {
             "colorbar": {
              "outlinewidth": 0,
              "ticks": ""
             }
            },
            "marker": {
             "colorbar": {
              "outlinewidth": 0,
              "ticks": ""
             }
            },
            "type": "scatter3d"
           }
          ],
          "scattercarpet": [
           {
            "marker": {
             "colorbar": {
              "outlinewidth": 0,
              "ticks": ""
             }
            },
            "type": "scattercarpet"
           }
          ],
          "scattergeo": [
           {
            "marker": {
             "colorbar": {
              "outlinewidth": 0,
              "ticks": ""
             }
            },
            "type": "scattergeo"
           }
          ],
          "scattergl": [
           {
            "marker": {
             "colorbar": {
              "outlinewidth": 0,
              "ticks": ""
             }
            },
            "type": "scattergl"
           }
          ],
          "scattermapbox": [
           {
            "marker": {
             "colorbar": {
              "outlinewidth": 0,
              "ticks": ""
             }
            },
            "type": "scattermapbox"
           }
          ],
          "scatterpolar": [
           {
            "marker": {
             "colorbar": {
              "outlinewidth": 0,
              "ticks": ""
             }
            },
            "type": "scatterpolar"
           }
          ],
          "scatterpolargl": [
           {
            "marker": {
             "colorbar": {
              "outlinewidth": 0,
              "ticks": ""
             }
            },
            "type": "scatterpolargl"
           }
          ],
          "scatterternary": [
           {
            "marker": {
             "colorbar": {
              "outlinewidth": 0,
              "ticks": ""
             }
            },
            "type": "scatterternary"
           }
          ],
          "surface": [
           {
            "colorbar": {
             "outlinewidth": 0,
             "ticks": ""
            },
            "colorscale": [
             [
              0,
              "#0d0887"
             ],
             [
              0.1111111111111111,
              "#46039f"
             ],
             [
              0.2222222222222222,
              "#7201a8"
             ],
             [
              0.3333333333333333,
              "#9c179e"
             ],
             [
              0.4444444444444444,
              "#bd3786"
             ],
             [
              0.5555555555555556,
              "#d8576b"
             ],
             [
              0.6666666666666666,
              "#ed7953"
             ],
             [
              0.7777777777777778,
              "#fb9f3a"
             ],
             [
              0.8888888888888888,
              "#fdca26"
             ],
             [
              1,
              "#f0f921"
             ]
            ],
            "type": "surface"
           }
          ],
          "table": [
           {
            "cells": {
             "fill": {
              "color": "#EBF0F8"
             },
             "line": {
              "color": "white"
             }
            },
            "header": {
             "fill": {
              "color": "#C8D4E3"
             },
             "line": {
              "color": "white"
             }
            },
            "type": "table"
           }
          ]
         },
         "layout": {
          "annotationdefaults": {
           "arrowcolor": "#2a3f5f",
           "arrowhead": 0,
           "arrowwidth": 1
          },
          "autotypenumbers": "strict",
          "coloraxis": {
           "colorbar": {
            "outlinewidth": 0,
            "ticks": ""
           }
          },
          "colorscale": {
           "diverging": [
            [
             0,
             "#8e0152"
            ],
            [
             0.1,
             "#c51b7d"
            ],
            [
             0.2,
             "#de77ae"
            ],
            [
             0.3,
             "#f1b6da"
            ],
            [
             0.4,
             "#fde0ef"
            ],
            [
             0.5,
             "#f7f7f7"
            ],
            [
             0.6,
             "#e6f5d0"
            ],
            [
             0.7,
             "#b8e186"
            ],
            [
             0.8,
             "#7fbc41"
            ],
            [
             0.9,
             "#4d9221"
            ],
            [
             1,
             "#276419"
            ]
           ],
           "sequential": [
            [
             0,
             "#0d0887"
            ],
            [
             0.1111111111111111,
             "#46039f"
            ],
            [
             0.2222222222222222,
             "#7201a8"
            ],
            [
             0.3333333333333333,
             "#9c179e"
            ],
            [
             0.4444444444444444,
             "#bd3786"
            ],
            [
             0.5555555555555556,
             "#d8576b"
            ],
            [
             0.6666666666666666,
             "#ed7953"
            ],
            [
             0.7777777777777778,
             "#fb9f3a"
            ],
            [
             0.8888888888888888,
             "#fdca26"
            ],
            [
             1,
             "#f0f921"
            ]
           ],
           "sequentialminus": [
            [
             0,
             "#0d0887"
            ],
            [
             0.1111111111111111,
             "#46039f"
            ],
            [
             0.2222222222222222,
             "#7201a8"
            ],
            [
             0.3333333333333333,
             "#9c179e"
            ],
            [
             0.4444444444444444,
             "#bd3786"
            ],
            [
             0.5555555555555556,
             "#d8576b"
            ],
            [
             0.6666666666666666,
             "#ed7953"
            ],
            [
             0.7777777777777778,
             "#fb9f3a"
            ],
            [
             0.8888888888888888,
             "#fdca26"
            ],
            [
             1,
             "#f0f921"
            ]
           ]
          },
          "colorway": [
           "#636efa",
           "#EF553B",
           "#00cc96",
           "#ab63fa",
           "#FFA15A",
           "#19d3f3",
           "#FF6692",
           "#B6E880",
           "#FF97FF",
           "#FECB52"
          ],
          "font": {
           "color": "#2a3f5f"
          },
          "geo": {
           "bgcolor": "white",
           "lakecolor": "white",
           "landcolor": "#E5ECF6",
           "showlakes": true,
           "showland": true,
           "subunitcolor": "white"
          },
          "hoverlabel": {
           "align": "left"
          },
          "hovermode": "closest",
          "mapbox": {
           "style": "light"
          },
          "paper_bgcolor": "white",
          "plot_bgcolor": "#E5ECF6",
          "polar": {
           "angularaxis": {
            "gridcolor": "white",
            "linecolor": "white",
            "ticks": ""
           },
           "bgcolor": "#E5ECF6",
           "radialaxis": {
            "gridcolor": "white",
            "linecolor": "white",
            "ticks": ""
           }
          },
          "scene": {
           "xaxis": {
            "backgroundcolor": "#E5ECF6",
            "gridcolor": "white",
            "gridwidth": 2,
            "linecolor": "white",
            "showbackground": true,
            "ticks": "",
            "zerolinecolor": "white"
           },
           "yaxis": {
            "backgroundcolor": "#E5ECF6",
            "gridcolor": "white",
            "gridwidth": 2,
            "linecolor": "white",
            "showbackground": true,
            "ticks": "",
            "zerolinecolor": "white"
           },
           "zaxis": {
            "backgroundcolor": "#E5ECF6",
            "gridcolor": "white",
            "gridwidth": 2,
            "linecolor": "white",
            "showbackground": true,
            "ticks": "",
            "zerolinecolor": "white"
           }
          },
          "shapedefaults": {
           "line": {
            "color": "#2a3f5f"
           }
          },
          "ternary": {
           "aaxis": {
            "gridcolor": "white",
            "linecolor": "white",
            "ticks": ""
           },
           "baxis": {
            "gridcolor": "white",
            "linecolor": "white",
            "ticks": ""
           },
           "bgcolor": "#E5ECF6",
           "caxis": {
            "gridcolor": "white",
            "linecolor": "white",
            "ticks": ""
           }
          },
          "title": {
           "x": 0.05
          },
          "xaxis": {
           "automargin": true,
           "gridcolor": "white",
           "linecolor": "white",
           "ticks": "",
           "title": {
            "standoff": 15
           },
           "zerolinecolor": "white",
           "zerolinewidth": 2
          },
          "yaxis": {
           "automargin": true,
           "gridcolor": "white",
           "linecolor": "white",
           "ticks": "",
           "title": {
            "standoff": 15
           },
           "zerolinecolor": "white",
           "zerolinewidth": 2
          }
         }
        },
        "title": {
         "text": "Target statistics for all features"
        },
        "xaxis": {
         "anchor": "y",
         "domain": [
          0,
          0.45
         ],
         "matches": "x11",
         "showticklabels": false
        },
        "xaxis10": {
         "anchor": "y10",
         "domain": [
          0.55,
          1
         ],
         "matches": "x12",
         "showticklabels": false
        },
        "xaxis11": {
         "anchor": "y11",
         "domain": [
          0,
          0.45
         ],
         "title": {
          "text": "Target"
         }
        },
        "xaxis12": {
         "anchor": "y12",
         "domain": [
          0.55,
          1
         ],
         "title": {
          "text": "Target"
         }
        },
        "xaxis2": {
         "anchor": "y2",
         "domain": [
          0.55,
          1
         ],
         "matches": "x12",
         "showticklabels": false
        },
        "xaxis3": {
         "anchor": "y3",
         "domain": [
          0,
          0.45
         ],
         "matches": "x11",
         "showticklabels": false
        },
        "xaxis4": {
         "anchor": "y4",
         "domain": [
          0.55,
          1
         ],
         "matches": "x12",
         "showticklabels": false
        },
        "xaxis5": {
         "anchor": "y5",
         "domain": [
          0,
          0.45
         ],
         "matches": "x11",
         "showticklabels": false
        },
        "xaxis6": {
         "anchor": "y6",
         "domain": [
          0.55,
          1
         ],
         "matches": "x12",
         "showticklabels": false
        },
        "xaxis7": {
         "anchor": "y7",
         "domain": [
          0,
          0.45
         ],
         "matches": "x11",
         "showticklabels": false
        },
        "xaxis8": {
         "anchor": "y8",
         "domain": [
          0.55,
          1
         ],
         "matches": "x12",
         "showticklabels": false
        },
        "xaxis9": {
         "anchor": "y9",
         "domain": [
          0,
          0.45
         ],
         "matches": "x11",
         "showticklabels": false
        },
        "yaxis": {
         "anchor": "x",
         "domain": [
          0.9027777777777777,
          0.9999999999999999
         ]
        },
        "yaxis10": {
         "anchor": "x10",
         "domain": [
          0.18055555555555555,
          0.2777777777777778
         ]
        },
        "yaxis11": {
         "anchor": "x11",
         "domain": [
          0,
          0.09722222222222222
         ]
        },
        "yaxis12": {
         "anchor": "x12",
         "domain": [
          0,
          0.09722222222222222
         ]
        },
        "yaxis2": {
         "anchor": "x2",
         "domain": [
          0.9027777777777777,
          0.9999999999999999
         ]
        },
        "yaxis3": {
         "anchor": "x3",
         "domain": [
          0.7222222222222222,
          0.8194444444444444
         ]
        },
        "yaxis4": {
         "anchor": "x4",
         "domain": [
          0.7222222222222222,
          0.8194444444444444
         ]
        },
        "yaxis5": {
         "anchor": "x5",
         "domain": [
          0.5416666666666667,
          0.638888888888889
         ]
        },
        "yaxis6": {
         "anchor": "x6",
         "domain": [
          0.5416666666666667,
          0.638888888888889
         ]
        },
        "yaxis7": {
         "anchor": "x7",
         "domain": [
          0.3611111111111111,
          0.4583333333333333
         ]
        },
        "yaxis8": {
         "anchor": "x8",
         "domain": [
          0.3611111111111111,
          0.4583333333333333
         ]
        },
        "yaxis9": {
         "anchor": "x9",
         "domain": [
          0.18055555555555555,
          0.2777777777777778
         ]
        }
       }
      }
     },
     "metadata": {},
     "output_type": "display_data"
    }
   ],
   "source": [
    "# 모든 피처에 대해 barplot을 이용한 시각화 코드 작성\n",
    "fig: go.Figure = make_subplots(\n",
    "    rows=6,\n",
    "    cols=2,\n",
    "    shared_xaxes=True,\n",
    "    subplot_titles=(\n",
    "        \"target distribution\",\n",
    "        \"open_interest\",\n",
    "        \"funding_rates\",\n",
    "        \"taker_buy_volume\",\n",
    "        \"taker_sell_volume\",\n",
    "        \"taker_buy_sell_ratio\",\n",
    "        \"long_liquidations\",\n",
    "        \"short_liquidations\",\n",
    "        \"volume\",\n",
    "        \"open_price\",\n",
    "        \"close_price\",\n",
    "        \"price_rate\",\n",
    "    ),\n",
    ")\n",
    "\n",
    "_target_distribution = eda_df[\"target\"].value_counts() / len(eda_df)\n",
    "fig.add_trace(\n",
    "    go.Bar(\n",
    "        x=_target_distribution.index, \n",
    "        y=_target_distribution,\n",
    "    ), row=1, col=1\n",
    ")\n",
    "fig.add_trace(go.Bar(x=bar_df[\"target\"], y=bar_df[\"open_interest\"]), row=1, col=2)\n",
    "fig.add_trace(go.Bar(x=bar_df[\"target\"], y=bar_df[\"funding_rates\"]), row=2, col=1)\n",
    "fig.add_trace(go.Bar(x=bar_df[\"target\"], y=bar_df[\"taker_buy_volume\"]), row=2, col=2)\n",
    "fig.add_trace(go.Bar(x=bar_df[\"target\"], y=bar_df[\"taker_sell_volume\"]), row=3, col=1)\n",
    "fig.add_trace(go.Bar(x=bar_df[\"target\"], y=bar_df[\"taker_buy_sell_ratio\"]), row=3, col=2)\n",
    "fig.add_trace(go.Bar(x=bar_df[\"target\"], y=bar_df[\"long_liquidations\"]), row=4, col=1)\n",
    "fig.add_trace(go.Bar(x=bar_df[\"target\"], y=bar_df[\"short_liquidations\"]), row=4, col=2)\n",
    "fig.add_trace(go.Bar(x=bar_df[\"target\"], y=bar_df[\"volume\"]), row=5, col=1)\n",
    "fig.add_trace(go.Bar(x=bar_df[\"target\"], y=bar_df[\"open_price\"]), row=5, col=2)\n",
    "fig.add_trace(go.Bar(x=bar_df[\"target\"], y=bar_df[\"close_price\"]), row=6, col=1)\n",
    "fig.add_trace(go.Bar(x=bar_df[\"target\"], y=bar_df[\"price_rate\"]), row=6, col=2)\n",
    "\n",
    "fig.update_layout(title_text=\"Target statistics for all features\", showlegend=False)\n",
    "fig.update_xaxes(title_text=\"Target\", row=6)\n",
    "fig.show()"
   ]
  },
  {
   "cell_type": "code",
   "execution_count": 79,
   "metadata": {},
   "outputs": [],
   "source": [
    "conti_cols: List[str] = [\n",
    "    \"open_interest\",\n",
    "    \"funding_rates\",\n",
    "    \"taker_buy_volume\",\n",
    "    \"taker_sell_volume\",\n",
    "    \"taker_buy_sell_ratio\",\n",
    "    \"long_liquidations\",\n",
    "    \"short_liquidations\",\n",
    "    \"volume\",\n",
    "    \"open_price\",\n",
    "    \"close_price\",\n",
    "    \"price_rate\",\n",
    "]\n",
    "\n",
    "def shift_feature(\n",
    "    df: pd.DataFrame,\n",
    "    conti_cols: List[str],\n",
    "    intervals: List[int],\n",
    ") -> List[pd.Series]:\n",
    "    \"\"\"\n",
    "    연속형 변수의 shift feature 생성\n",
    "    Args:\n",
    "        df (pd.DataFrame)\n",
    "        conti_cols (List[str]): continuous colnames\n",
    "        intervals (List[int]): shifted intervals\n",
    "    Return:\n",
    "        List[pd.Series]\n",
    "    \"\"\"\n",
    "    df_shift_dict = [\n",
    "        df[conti_col].shift(interval).rename(f\"{conti_col}_{interval}\")\n",
    "        for conti_col in conti_cols\n",
    "        for interval in intervals\n",
    "    ]\n",
    "    return df_shift_dict\n",
    "\n",
    "# 최대 24시간의 shift 피쳐를 계산\n",
    "shift_list = shift_feature(\n",
    "    df=eda_df, conti_cols=conti_cols, intervals=[_ for _ in range(1, 24)]\n",
    ")"
   ]
  },
  {
   "cell_type": "code",
   "execution_count": 80,
   "metadata": {},
   "outputs": [],
   "source": [
    "# concat 하여 df 에 할당\n",
    "df = pd.concat([df, pd.concat(shift_list, axis=1)], axis=1)\n",
    "\n",
    "# 타겟 변수를 제외한 변수를 forwardfill, -999로 결측치 대체\n",
    "_target = df[\"target\"]\n",
    "df = df.ffill().fillna(-999).assign(target = _target)\n",
    "\n",
    "# _type에 따라 train, test 분리\n",
    "train_df = df.loc[df[\"_type\"]==\"train\"].drop(columns=[\"_type\"])\n",
    "test_df = df.loc[df[\"_type\"]==\"test\"].drop(columns=[\"_type\"])"
   ]
  },
  {
   "cell_type": "markdown",
   "metadata": {},
   "source": [
    "### Model Training"
   ]
  },
  {
   "cell_type": "code",
   "execution_count": 91,
   "metadata": {},
   "outputs": [
    {
     "name": "stdout",
     "output_type": "stream",
     "text": [
      "[0]\teval-mlogloss:1.36961\n"
     ]
    },
    {
     "name": "stderr",
     "output_type": "stream",
     "text": [
      "/Users/jejunlee/miniconda3/envs/boostcamp/lib/python3.12/site-packages/xgboost/core.py:160: UserWarning:\n",
      "\n",
      "[13:45:01] WARNING: /Users/runner/miniforge3/conda-bld/xgboost-split_1717011574866/work/src/learner.cc:742: \n",
      "Parameters: { \"metric\", \"n_estimators\", \"verbose\" } are not used.\n",
      "\n",
      "\n"
     ]
    },
    {
     "name": "stdout",
     "output_type": "stream",
     "text": [
      "[1]\teval-mlogloss:1.35433\n",
      "[2]\teval-mlogloss:1.34030\n",
      "[3]\teval-mlogloss:1.32675\n",
      "[4]\teval-mlogloss:1.31451\n",
      "[5]\teval-mlogloss:1.30273\n",
      "[6]\teval-mlogloss:1.29228\n",
      "[7]\teval-mlogloss:1.28209\n",
      "[8]\teval-mlogloss:1.27308\n",
      "[9]\teval-mlogloss:1.26396\n",
      "[10]\teval-mlogloss:1.25572\n",
      "[11]\teval-mlogloss:1.24781\n",
      "[12]\teval-mlogloss:1.24030\n",
      "[13]\teval-mlogloss:1.23287\n",
      "[14]\teval-mlogloss:1.22671\n",
      "[15]\teval-mlogloss:1.22023\n",
      "[16]\teval-mlogloss:1.21454\n",
      "[17]\teval-mlogloss:1.20910\n",
      "[18]\teval-mlogloss:1.20359\n",
      "[19]\teval-mlogloss:1.19854\n",
      "[20]\teval-mlogloss:1.19413\n",
      "[21]\teval-mlogloss:1.18972\n",
      "[22]\teval-mlogloss:1.18563\n",
      "[23]\teval-mlogloss:1.18121\n",
      "[24]\teval-mlogloss:1.17746\n",
      "[25]\teval-mlogloss:1.17365\n",
      "[26]\teval-mlogloss:1.17037\n",
      "[27]\teval-mlogloss:1.16687\n",
      "[28]\teval-mlogloss:1.16375\n",
      "[29]\teval-mlogloss:1.16103\n",
      "[30]\teval-mlogloss:1.15821\n",
      "[31]\teval-mlogloss:1.15563\n",
      "[32]\teval-mlogloss:1.15353\n",
      "[33]\teval-mlogloss:1.15079\n",
      "[34]\teval-mlogloss:1.14864\n",
      "[35]\teval-mlogloss:1.14649\n",
      "[36]\teval-mlogloss:1.14457\n",
      "[37]\teval-mlogloss:1.14243\n",
      "[38]\teval-mlogloss:1.14111\n",
      "[39]\teval-mlogloss:1.13963\n",
      "[40]\teval-mlogloss:1.13767\n",
      "[41]\teval-mlogloss:1.13590\n",
      "[42]\teval-mlogloss:1.13444\n",
      "[43]\teval-mlogloss:1.13290\n",
      "[44]\teval-mlogloss:1.13157\n",
      "[45]\teval-mlogloss:1.13061\n",
      "[46]\teval-mlogloss:1.12925\n",
      "[47]\teval-mlogloss:1.12804\n",
      "[48]\teval-mlogloss:1.12720\n",
      "[49]\teval-mlogloss:1.12634\n",
      "[50]\teval-mlogloss:1.12560\n",
      "[51]\teval-mlogloss:1.12462\n",
      "[52]\teval-mlogloss:1.12412\n",
      "[53]\teval-mlogloss:1.12364\n",
      "[54]\teval-mlogloss:1.12311\n",
      "[55]\teval-mlogloss:1.12264\n",
      "[56]\teval-mlogloss:1.12192\n",
      "[57]\teval-mlogloss:1.12152\n",
      "[58]\teval-mlogloss:1.12088\n",
      "[59]\teval-mlogloss:1.12039\n",
      "[60]\teval-mlogloss:1.12003\n",
      "[61]\teval-mlogloss:1.11981\n",
      "[62]\teval-mlogloss:1.11973\n",
      "[63]\teval-mlogloss:1.11956\n",
      "[64]\teval-mlogloss:1.11921\n",
      "[65]\teval-mlogloss:1.11884\n",
      "[66]\teval-mlogloss:1.11879\n",
      "[67]\teval-mlogloss:1.11862\n",
      "[68]\teval-mlogloss:1.11852\n",
      "[69]\teval-mlogloss:1.11856\n",
      "[70]\teval-mlogloss:1.11825\n",
      "[71]\teval-mlogloss:1.11803\n",
      "[72]\teval-mlogloss:1.11808\n",
      "[73]\teval-mlogloss:1.11789\n",
      "[74]\teval-mlogloss:1.11791\n",
      "[75]\teval-mlogloss:1.11774\n",
      "[76]\teval-mlogloss:1.11763\n",
      "[77]\teval-mlogloss:1.11714\n",
      "[78]\teval-mlogloss:1.11701\n",
      "[79]\teval-mlogloss:1.11674\n",
      "[80]\teval-mlogloss:1.11678\n",
      "[81]\teval-mlogloss:1.11672\n",
      "[82]\teval-mlogloss:1.11626\n",
      "[83]\teval-mlogloss:1.11601\n",
      "[84]\teval-mlogloss:1.11573\n",
      "[85]\teval-mlogloss:1.11566\n",
      "[86]\teval-mlogloss:1.11570\n",
      "[87]\teval-mlogloss:1.11572\n",
      "[88]\teval-mlogloss:1.11594\n",
      "[89]\teval-mlogloss:1.11587\n",
      "[90]\teval-mlogloss:1.11622\n",
      "[91]\teval-mlogloss:1.11630\n",
      "[92]\teval-mlogloss:1.11648\n",
      "[93]\teval-mlogloss:1.11655\n",
      "[94]\teval-mlogloss:1.11630\n",
      "[95]\teval-mlogloss:1.11638\n",
      "acc: 0.444634703196347, auroc: 0.6468533712683153\n"
     ]
    }
   ],
   "source": [
    "# train_test_split 으로 valid set, train set 분리\n",
    "x_train, x_valid, y_train, y_valid = train_test_split(\n",
    "    train_df.drop([\"target\", \"ID\"], axis = 1), \n",
    "    train_df[\"target\"].astype(int), \n",
    "    test_size=0.2,\n",
    "    random_state=42,\n",
    ")\n",
    "\n",
    "# xgb dataset\n",
    "train_data = xgb.DMatrix(x_train, label=y_train)\n",
    "valid_data = xgb.DMatrix(x_valid, label=y_valid)\n",
    "\n",
    "# xgb params\n",
    "params = {\n",
    "    \"booster\": \"gbtree\",\n",
    "    \"objective\": \"multi:softprob\",\n",
    "    \"metric\": \"mlogloss\",\n",
    "    \"num_class\": 4,\n",
    "    \"learning_rate\": 0.02,\n",
    "    \"max_depth\": 6,\n",
    "    \"learning_rate\": 0.05,\n",
    "    \"n_estimators\": 50,\n",
    "    \"seed\": 42,\n",
    "    \"verbose\": 0,\n",
    "}\n",
    "\n",
    "# xgb train\n",
    "xgb_model = xgb.train(\n",
    "    params=params,\n",
    "    dtrain=train_data,\n",
    "    num_boost_round=100,\n",
    "    evals=[(valid_data, \"eval\")],\n",
    "    early_stopping_rounds=10,\n",
    ")\n",
    "\n",
    "# xgb predict\n",
    "valid_dmatrix = xgb.DMatrix(x_valid)\n",
    "y_valid_pred = xgb_model.predict(valid_dmatrix)\n",
    "y_valid_pred_class = np.argmax(y_valid_pred, axis = 1)\n",
    "\n",
    "# score check\n",
    "accuracy = accuracy_score(y_valid, y_valid_pred_class)\n",
    "auroc = roc_auc_score(y_valid, y_valid_pred, multi_class=\"ovr\")\n",
    "\n",
    "print(f\"acc: {accuracy}, auroc: {auroc}\")"
   ]
  },
  {
   "cell_type": "code",
   "execution_count": 94,
   "metadata": {},
   "outputs": [
    {
     "name": "stderr",
     "output_type": "stream",
     "text": [
      "/Users/jejunlee/miniconda3/envs/boostcamp/lib/python3.12/site-packages/xgboost/core.py:160: UserWarning:\n",
      "\n",
      "[13:48:49] WARNING: /Users/runner/miniforge3/conda-bld/xgboost-split_1717011574866/work/src/learner.cc:742: \n",
      "Parameters: { \"metric\", \"n_estimators\", \"verbose\" } are not used.\n",
      "\n",
      "\n"
     ]
    }
   ],
   "source": [
    "# performance 체크후 전체 학습 데이터로 다시 재학습\n",
    "x_train = train_df.drop([\"target\", \"ID\"], axis = 1)\n",
    "y_train = train_df[\"target\"].astype(int)\n",
    "\n",
    "train_data = xgb.DMatrix(x_train, label=y_train)\n",
    "\n",
    "xgb_model = xgb.train(\n",
    "    params=params,\n",
    "    dtrain=train_data,\n",
    ")"
   ]
  },
  {
   "cell_type": "markdown",
   "metadata": {},
   "source": [
    "### Inference"
   ]
  },
  {
   "cell_type": "code",
   "execution_count": 97,
   "metadata": {},
   "outputs": [],
   "source": [
    "# xgb predict\n",
    "test_data = xgb.DMatrix(test_df.drop([\"target\", \"ID\"], axis = 1))\n",
    "y_test_pred = xgb_model.predict(test_data)\n",
    "y_test_pred_class = np.argmax(y_test_pred, axis = 1)"
   ]
  },
  {
   "cell_type": "markdown",
   "metadata": {},
   "source": [
    "### Output File Save"
   ]
  },
  {
   "cell_type": "code",
   "execution_count": 18,
   "metadata": {},
   "outputs": [],
   "source": [
    "# output file 할당후 save \n",
    "submission_df = submission_df.assign(target = y_test_pred_class)\n",
    "submission_df.to_csv(\"output.csv\", index=False)"
   ]
  }
 ],
 "metadata": {
  "kernelspec": {
   "display_name": "Python 3 (ipykernel)",
   "language": "python",
   "name": "python3"
  },
  "language_info": {
   "codemirror_mode": {
    "name": "ipython",
    "version": 3
   },
   "file_extension": ".py",
   "mimetype": "text/x-python",
   "name": "python",
   "nbconvert_exporter": "python",
   "pygments_lexer": "ipython3",
   "version": "3.12.4"
  },
  "toc": {
   "base_numbering": 1,
   "nav_menu": {},
   "number_sections": true,
   "sideBar": true,
   "skip_h1_title": false,
   "title_cell": "Table of Contents",
   "title_sidebar": "Contents",
   "toc_cell": false,
   "toc_position": {},
   "toc_section_display": true,
   "toc_window_display": false
  }
 },
 "nbformat": 4,
 "nbformat_minor": 2
}
