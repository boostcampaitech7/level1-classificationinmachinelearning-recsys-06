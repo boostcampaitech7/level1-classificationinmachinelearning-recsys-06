{
 "cells": [
  {
   "cell_type": "markdown",
   "metadata": {},
   "source": [
    "## 회귀 모델 가능성 검토 / Feature Importance 확인"
   ]
  },
  {
   "cell_type": "markdown",
   "metadata": {},
   "source": [
    "### Library import"
   ]
  },
  {
   "cell_type": "code",
   "execution_count": 1,
   "metadata": {},
   "outputs": [],
   "source": [
    "import os\n",
    "from typing import Dict\n",
    "import numpy as np\n",
    "import pandas as pd"
   ]
  },
  {
   "cell_type": "markdown",
   "metadata": {},
   "source": [
    "### Data Load"
   ]
  },
  {
   "cell_type": "code",
   "execution_count": 28,
   "metadata": {},
   "outputs": [],
   "source": [
    "data_path: str = \"../../data\"\n",
    "df: pd.DataFrame = pd.read_csv(os.path.join(data_path,\"raw.csv\"))\n",
    "submission_df: pd.DataFrame = pd.read_csv(os.path.join(data_path, \"test.csv\"))"
   ]
  },
  {
   "cell_type": "markdown",
   "metadata": {},
   "source": [
    "### EDA"
   ]
  },
  {
   "cell_type": "code",
   "execution_count": 3,
   "metadata": {},
   "outputs": [
    {
     "data": {
      "text/plain": [
       "(11552, 255)"
      ]
     },
     "execution_count": 3,
     "metadata": {},
     "output_type": "execute_result"
    }
   ],
   "source": [
    "df.shape"
   ]
  },
  {
   "cell_type": "code",
   "execution_count": 5,
   "metadata": {},
   "outputs": [
    {
     "name": "stdout",
     "output_type": "stream",
     "text": [
      "target                                                                           1.000000\n",
      "hourly_market-data_liquidations_binance_all_symbol_long_liquidations_usd         0.055130\n",
      "hourly_market-data_liquidations_binance_all_symbol_long_liquidations             0.055063\n",
      "hourly_market-data_liquidations_binance_btc_usdt_long_liquidations               0.054655\n",
      "hourly_market-data_liquidations_binance_btc_usdt_long_liquidations_usd           0.054421\n",
      "hourly_market-data_liquidations_binance_btc_usd_long_liquidations                0.052132\n",
      "hourly_market-data_liquidations_binance_btc_usd_long_liquidations_usd            0.051910\n",
      "hourly_market-data_taker-buy-sell-stats_binance_taker_sell_ratio                 0.049724\n",
      "hourly_market-data_taker-buy-sell-stats_all_exchange_taker_sell_ratio            0.049467\n",
      "hourly_market-data_liquidations_all_exchange_all_symbol_long_liquidations        0.041983\n",
      "hourly_market-data_liquidations_all_exchange_all_symbol_long_liquidations_usd    0.041855\n",
      "hourly_market-data_liquidations_huobi_global_btc_usdt_long_liquidations          0.040722\n",
      "hourly_market-data_liquidations_htx_global_btc_usdt_long_liquidations            0.040554\n",
      "hourly_market-data_liquidations_binance_btc_busd_long_liquidations               0.039599\n",
      "hourly_market-data_liquidations_binance_btc_busd_long_liquidations_usd           0.038763\n",
      "hourly_market-data_taker-buy-sell-stats_bitmex_taker_sell_volume                 0.038644\n",
      "hourly_market-data_liquidations_htx_global_all_symbol_long_liquidations          0.038590\n",
      "hourly_market-data_liquidations_huobi_global_all_symbol_long_liquidations        0.038534\n",
      "hourly_market-data_liquidations_okx_btc_usdt_long_liquidations                   0.038152\n",
      "hourly_market-data_liquidations_gate_io_btc_usdt_long_liquidations               0.037936\n",
      "hourly_market-data_liquidations_okx_all_symbol_long_liquidations                 0.037626\n",
      "hourly_market-data_liquidations_gate_io_all_symbol_long_liquidations             0.037580\n",
      "hourly_market-data_liquidations_huobi_global_btc_usdt_long_liquidations_usd      0.036689\n",
      "hourly_market-data_liquidations_htx_global_btc_usdt_long_liquidations_usd        0.036524\n",
      "hourly_market-data_liquidations_htx_global_all_symbol_long_liquidations_usd      0.035891\n",
      "hourly_market-data_liquidations_huobi_global_all_symbol_long_liquidations_usd    0.035833\n",
      "hourly_market-data_liquidations_okx_all_symbol_long_liquidations_usd             0.035613\n",
      "hourly_market-data_liquidations_okx_btc_usdt_long_liquidations_usd               0.034898\n",
      "hourly_market-data_liquidations_gate_io_btc_usdt_long_liquidations_usd           0.032538\n",
      "hourly_market-data_liquidations_gate_io_all_symbol_long_liquidations_usd         0.032376\n",
      "dtype: float64\n"
     ]
    }
   ],
   "source": [
    "# 수치형 열과 target의 상관관계\n",
    "numerical_cols = df.select_dtypes(include=np.number).columns.tolist()\n",
    "\n",
    "correlation_with_target = df[numerical_cols].corrwith(df['target'])\n",
    "correlation_with_target_sorted = correlation_with_target.sort_values(ascending=False)\n",
    "\n",
    "print(correlation_with_target_sorted[:30])"
   ]
  },
  {
   "cell_type": "code",
   "execution_count": 6,
   "metadata": {},
   "outputs": [
    {
     "name": "stdout",
     "output_type": "stream",
     "text": [
      "target                                                                            1.000000\n",
      "hourly_market-data_liquidations_binance_all_symbol_long_liquidations_usd          0.055130\n",
      "hourly_market-data_liquidations_binance_all_symbol_long_liquidations              0.055063\n",
      "hourly_market-data_liquidations_binance_btc_usdt_long_liquidations                0.054655\n",
      "hourly_market-data_liquidations_binance_btc_usdt_long_liquidations_usd            0.054421\n",
      "hourly_market-data_liquidations_binance_btc_usd_long_liquidations                 0.052132\n",
      "hourly_market-data_liquidations_binance_btc_usd_long_liquidations_usd             0.051910\n",
      "hourly_market-data_taker-buy-sell-stats_binance_taker_sell_ratio                  0.049724\n",
      "hourly_market-data_taker-buy-sell-stats_all_exchange_taker_sell_ratio             0.049467\n",
      "hourly_market-data_liquidations_all_exchange_all_symbol_long_liquidations         0.041983\n",
      "hourly_market-data_liquidations_all_exchange_all_symbol_long_liquidations_usd     0.041855\n",
      "hourly_market-data_liquidations_huobi_global_btc_usdt_long_liquidations           0.040722\n",
      "hourly_market-data_liquidations_htx_global_btc_usdt_long_liquidations             0.040554\n",
      "hourly_market-data_liquidations_binance_btc_busd_long_liquidations                0.039599\n",
      "hourly_market-data_liquidations_binance_btc_busd_long_liquidations_usd            0.038763\n",
      "hourly_market-data_taker-buy-sell-stats_bitmex_taker_sell_volume                  0.038644\n",
      "hourly_market-data_liquidations_htx_global_all_symbol_long_liquidations           0.038590\n",
      "hourly_market-data_liquidations_huobi_global_all_symbol_long_liquidations         0.038534\n",
      "hourly_market-data_liquidations_okx_btc_usdt_long_liquidations                    0.038152\n",
      "hourly_market-data_liquidations_gate_io_btc_usdt_long_liquidations                0.037936\n",
      "hourly_market-data_liquidations_okx_all_symbol_long_liquidations                  0.037626\n",
      "hourly_market-data_liquidations_gate_io_all_symbol_long_liquidations              0.037580\n",
      "hourly_market-data_liquidations_huobi_global_btc_usdt_long_liquidations_usd       0.036689\n",
      "hourly_market-data_liquidations_htx_global_btc_usdt_long_liquidations_usd         0.036524\n",
      "hourly_market-data_liquidations_htx_global_all_symbol_long_liquidations_usd       0.035891\n",
      "hourly_market-data_liquidations_huobi_global_all_symbol_long_liquidations_usd     0.035833\n",
      "hourly_market-data_liquidations_okx_all_symbol_long_liquidations_usd              0.035613\n",
      "hourly_market-data_liquidations_okx_btc_usdt_long_liquidations_usd                0.034898\n",
      "hourly_market-data_liquidations_gate_io_btc_usdt_long_liquidations_usd            0.032538\n",
      "hourly_market-data_liquidations_gate_io_all_symbol_long_liquidations_usd          0.032376\n",
      "hourly_market-data_taker-buy-sell-stats_deribit_taker_sell_volume                 0.032333\n",
      "hourly_market-data_taker-buy-sell-stats_htx_global_taker_sell_volume              0.031913\n",
      "hourly_market-data_taker-buy-sell-stats_huobi_global_taker_sell_volume            0.031908\n",
      "hourly_market-data_liquidations_bitfinex_all_symbol_long_liquidations_usd         0.031187\n",
      "hourly_market-data_liquidations_bitfinex_btc_usdt_long_liquidations_usd           0.031187\n",
      "hourly_market-data_liquidations_bitfinex_btc_usdt_long_liquidations               0.030194\n",
      "hourly_market-data_liquidations_bitfinex_all_symbol_long_liquidations             0.030194\n",
      "hourly_market-data_taker-buy-sell-stats_all_exchange_taker_sell_volume            0.029509\n",
      "hourly_market-data_taker-buy-sell-stats_bitmex_taker_sell_ratio                   0.029500\n",
      "hourly_market-data_taker-buy-sell-stats_binance_taker_sell_volume                 0.028790\n",
      "hourly_market-data_taker-buy-sell-stats_okx_taker_sell_volume                     0.027238\n",
      "hourly_market-data_price-ohlcv_all_exchange_spot_btc_usd_volume                   0.026774\n",
      "hourly_market-data_taker-buy-sell-stats_okx_taker_sell_ratio                      0.025942\n",
      "hourly_market-data_taker-buy-sell-stats_bybit_taker_sell_volume                   0.025243\n",
      "hourly_market-data_taker-buy-sell-stats_okx_taker_buy_volume                      0.023551\n",
      "hourly_market-data_liquidations_bybit_all_symbol_long_liquidations_usd            0.022684\n",
      "hourly_market-data_liquidations_bybit_all_symbol_long_liquidations                0.021917\n",
      "hourly_market-data_liquidations_bybit_btc_usd_long_liquidations_usd               0.021737\n",
      "hourly_market-data_taker-buy-sell-stats_bybit_taker_sell_ratio                    0.021645\n",
      "hourly_market-data_taker-buy-sell-stats_deribit_taker_buy_volume                  0.020773\n",
      "hourly_market-data_coinbase-premium-index_coinbase_premium_index                  0.020751\n",
      "hourly_market-data_liquidations_bybit_btc_usd_long_liquidations                   0.018749\n",
      "hourly_market-data_coinbase-premium-index_coinbase_premium_gap                    0.018188\n",
      "hourly_market-data_liquidations_okx_btc_usd_long_liquidations_usd                 0.018143\n",
      "hourly_market-data_taker-buy-sell-stats_deribit_taker_sell_ratio                  0.017813\n",
      "hourly_market-data_liquidations_deribit_all_symbol_long_liquidations              0.016938\n",
      "hourly_market-data_liquidations_deribit_btc_usd_long_liquidations                 0.016906\n",
      "hourly_market-data_taker-buy-sell-stats_all_exchange_taker_buy_volume             0.016776\n",
      "hourly_market-data_liquidations_deribit_all_symbol_long_liquidations_usd          0.016675\n",
      "hourly_market-data_liquidations_deribit_btc_usd_long_liquidations_usd             0.016644\n",
      "hourly_market-data_liquidations_bybit_btc_usdt_long_liquidations                  0.016292\n",
      "hourly_market-data_taker-buy-sell-stats_binance_taker_buy_volume                  0.016244\n",
      "hourly_market-data_taker-buy-sell-stats_htx_global_taker_buy_volume               0.015626\n",
      "hourly_market-data_taker-buy-sell-stats_huobi_global_taker_buy_volume             0.015563\n",
      "hourly_market-data_taker-buy-sell-stats_huobi_global_taker_sell_ratio             0.015509\n",
      "hourly_market-data_liquidations_huobi_global_btc_usd_long_liquidations_usd        0.015421\n",
      "hourly_market-data_liquidations_htx_global_btc_usd_long_liquidations_usd          0.015390\n",
      "hourly_market-data_taker-buy-sell-stats_htx_global_taker_sell_ratio               0.015184\n",
      "hourly_market-data_liquidations_okx_btc_usd_long_liquidations                     0.015016\n",
      "hourly_market-data_taker-buy-sell-stats_bitmex_taker_buy_volume                   0.013940\n",
      "hourly_market-data_liquidations_bybit_btc_usdt_long_liquidations_usd              0.013816\n",
      "hourly_network-data_tokens-transferred_tokens_transferred_median                  0.013730\n",
      "hourly_market-data_taker-buy-sell-stats_bybit_taker_buy_volume                    0.013546\n",
      "hourly_market-data_liquidations_huobi_global_btc_usd_long_liquidations            0.013201\n",
      "hourly_market-data_liquidations_htx_global_btc_usd_long_liquidations              0.013172\n",
      "hourly_market-data_liquidations_gate_io_btc_usd_long_liquidations_usd             0.013045\n",
      "hourly_market-data_liquidations_bybit_btc_usd_short_liquidations                  0.012846\n",
      "hourly_network-data_addresses-count_addresses_count_receiver                      0.012649\n",
      "hourly_market-data_liquidations_bitmex_all_symbol_short_liquidations_usd          0.012208\n",
      "hourly_market-data_liquidations_bitmex_btc_usd_short_liquidations_usd             0.012208\n",
      "hourly_market-data_liquidations_gate_io_btc_usd_long_liquidations                 0.012183\n",
      "hourly_market-data_liquidations_bitmex_btc_usd_short_liquidations                 0.012148\n",
      "hourly_market-data_liquidations_bitmex_all_symbol_short_liquidations              0.012148\n",
      "hourly_market-data_liquidations_bybit_btc_usd_short_liquidations_usd              0.011563\n",
      "hourly_market-data_liquidations_huobi_global_btc_usd_short_liquidations_usd       0.010783\n",
      "hourly_market-data_liquidations_htx_global_btc_usd_short_liquidations_usd         0.010764\n",
      "hourly_market-data_liquidations_huobi_global_btc_usd_short_liquidations           0.009558\n",
      "hourly_market-data_liquidations_htx_global_btc_usd_short_liquidations             0.009542\n",
      "hourly_market-data_liquidations_bybit_all_symbol_short_liquidations               0.008266\n",
      "hourly_market-data_liquidations_okx_btc_usd_short_liquidations_usd                0.007402\n",
      "hourly_market-data_liquidations_okx_btc_usd_short_liquidations                    0.006826\n",
      "hourly_market-data_open-interest_okx_btc_usd_open_interest                        0.005966\n",
      "hourly_network-data_velocity_velocity_supply_total                                0.005420\n",
      "hourly_market-data_liquidations_bybit_all_symbol_short_liquidations_usd           0.004750\n",
      "hourly_market-data_liquidations_binance_btc_usd_short_liquidations                0.003640\n",
      "hourly_network-data_block-count_block_count                                       0.003441\n",
      "hourly_network-data_supply_supply_new                                             0.003441\n",
      "hourly_market-data_liquidations_okx_all_symbol_short_liquidations                 0.003422\n",
      "hourly_network-data_addresses-count_addresses_count_active                        0.003349\n",
      "hourly_market-data_liquidations_gate_io_btc_usd_short_liquidations                0.003309\n",
      "hourly_market-data_open-interest_bitmex_btc_usd_open_interest                     0.003143\n",
      "hourly_market-data_open-interest_bitmex_all_symbol_open_interest                  0.003143\n",
      "hourly_market-data_open-interest_deribit_all_symbol_open_interest                 0.002727\n",
      "hourly_market-data_open-interest_deribit_btc_usd_open_interest                    0.002727\n",
      "hourly_market-data_liquidations_binance_btc_usd_short_liquidations_usd            0.002548\n",
      "hourly_market-data_liquidations_deribit_all_symbol_short_liquidations             0.002291\n",
      "hourly_market-data_liquidations_deribit_btc_usd_short_liquidations                0.002264\n",
      "hourly_market-data_liquidations_bitmex_all_symbol_long_liquidations_usd           0.002205\n",
      "hourly_market-data_liquidations_bitmex_btc_usd_long_liquidations_usd              0.002205\n",
      "hourly_market-data_liquidations_gate_io_btc_usd_short_liquidations_usd            0.001896\n",
      "hourly_network-data_block-bytes_block_bytes                                       0.001782\n",
      "hourly_market-data_liquidations_deribit_all_symbol_short_liquidations_usd         0.001724\n",
      "hourly_market-data_liquidations_deribit_btc_usd_short_liquidations_usd            0.001697\n",
      "hourly_network-data_hashrate_hashrate                                             0.001681\n",
      "hourly_market-data_liquidations_okx_all_symbol_short_liquidations_usd             0.001334\n",
      "hourly_market-data_liquidations_all_exchange_all_symbol_short_liquidations        0.001222\n",
      "hourly_market-data_liquidations_okx_btc_usdt_short_liquidations                   0.000900\n",
      "hourly_market-data_liquidations_bitmex_btc_usd_long_liquidations                  0.000860\n",
      "hourly_market-data_liquidations_bitmex_all_symbol_long_liquidations               0.000860\n",
      "hourly_network-data_blockreward_blockreward                                       0.000628\n",
      "hourly_market-data_liquidations_bybit_btc_usdt_short_liquidations                 0.000423\n",
      "hourly_network-data_tokens-transferred_tokens_transferred_total                   0.000206\n",
      "hourly_market-data_taker-buy-sell-stats_bitmex_taker_buy_sell_ratio              -0.000194\n",
      "hourly_market-data_funding-rates_bitmex_funding_rates                            -0.001656\n",
      "hourly_market-data_liquidations_okx_btc_usdt_short_liquidations_usd              -0.001790\n",
      "hourly_market-data_open-interest_huobi_global_btc_usd_open_interest              -0.002191\n",
      "hourly_network-data_utxo-count_utxo_count                                        -0.002221\n",
      "hourly_market-data_open-interest_htx_global_btc_usd_open_interest                -0.002309\n",
      "hourly_network-data_addresses-count_addresses_count_sender                       -0.002719\n",
      "hourly_network-data_supply_supply_total                                          -0.002774\n",
      "hourly_market-data_liquidations_htx_global_all_symbol_short_liquidations         -0.002898\n",
      "hourly_market-data_open-interest_gate_io_btc_usdt_open_interest                  -0.002938\n",
      "hourly_market-data_liquidations_huobi_global_all_symbol_short_liquidations       -0.002951\n",
      "hourly_market-data_liquidations_all_exchange_all_symbol_short_liquidations_usd   -0.002957\n",
      "hourly_market-data_liquidations_binance_btc_busd_short_liquidations              -0.003128\n",
      "hourly_network-data_fees-transaction_fees_transaction_median_usd                 -0.003222\n",
      "hourly_network-data_transactions-count_transactions_count_total                  -0.003258\n",
      "hourly_network-data_difficulty_difficulty                                        -0.003398\n",
      "hourly_network-data_fees-transaction_fees_transaction_median                     -0.003422\n",
      "hourly_market-data_liquidations_gate_io_all_symbol_short_liquidations            -0.003702\n",
      "hourly_market-data_liquidations_bybit_btc_usdt_short_liquidations_usd            -0.003719\n",
      "hourly_market-data_liquidations_gate_io_btc_usdt_short_liquidations              -0.003948\n",
      "hourly_network-data_fees_fees_reward_percent                                     -0.004405\n",
      "hourly_market-data_liquidations_bitfinex_btc_usdt_short_liquidations             -0.004428\n",
      "hourly_market-data_liquidations_bitfinex_all_symbol_short_liquidations           -0.004428\n",
      "hourly_network-data_blockreward_blockreward_usd                                  -0.004513\n",
      "hourly_market-data_taker-buy-sell-stats_deribit_taker_buy_sell_ratio             -0.004733\n",
      "hourly_market-data_open-interest_gate_io_all_symbol_open_interest                -0.004749\n",
      "hourly_market-data_funding-rates_huobi_global_funding_rates                      -0.004866\n",
      "hourly_market-data_funding-rates_htx_global_funding_rates                        -0.005018\n",
      "hourly_market-data_liquidations_htx_global_all_symbol_short_liquidations_usd     -0.005330\n",
      "hourly_market-data_liquidations_huobi_global_all_symbol_short_liquidations_usd   -0.005383\n",
      "hourly_market-data_liquidations_binance_btc_busd_short_liquidations_usd          -0.005757\n",
      "hourly_market-data_open-interest_gate_io_btc_usd_open_interest                   -0.005808\n",
      "hourly_network-data_tokens-transferred_tokens_transferred_mean                   -0.006227\n",
      "hourly_market-data_liquidations_huobi_global_btc_usdt_short_liquidations         -0.006377\n",
      "hourly_market-data_liquidations_htx_global_btc_usdt_short_liquidations           -0.006474\n",
      "hourly_market-data_liquidations_bitfinex_all_symbol_short_liquidations_usd       -0.006489\n",
      "hourly_market-data_liquidations_bitfinex_btc_usdt_short_liquidations_usd         -0.006489\n",
      "hourly_market-data_open-interest_binance_btc_busd_open_interest                  -0.007578\n",
      "hourly_network-data_fees-transaction_fees_transaction_mean                       -0.007852\n",
      "hourly_network-data_fees-transaction_fees_transaction_mean_usd                   -0.007867\n",
      "hourly_network-data_fees_fees_block_mean_usd                                     -0.008174\n",
      "hourly_network-data_fees_fees_total_usd                                          -0.008302\n",
      "hourly_market-data_liquidations_huobi_global_btc_usdt_short_liquidations_usd     -0.008517\n",
      "hourly_market-data_liquidations_htx_global_btc_usdt_short_liquidations_usd       -0.008608\n",
      "hourly_network-data_transactions-count_transactions_count_mean                   -0.008684\n",
      "hourly_market-data_liquidations_gate_io_all_symbol_short_liquidations_usd        -0.008733\n",
      "hourly_market-data_liquidations_gate_io_btc_usdt_short_liquidations_usd          -0.008986\n",
      "hourly_network-data_fees_fees_block_mean                                         -0.009193\n",
      "hourly_network-data_fees_fees_total                                              -0.009711\n",
      "hourly_market-data_liquidations_binance_all_symbol_short_liquidations            -0.010296\n",
      "hourly_market-data_taker-buy-sell-stats_bybit_taker_buy_sell_ratio               -0.010788\n",
      "hourly_market-data_open-interest_bybit_btc_usdt_open_interest                    -0.011409\n",
      "hourly_market-data_open-interest_okx_all_symbol_open_interest                    -0.011468\n",
      "hourly_market-data_open-interest_bitfinex_all_symbol_open_interest               -0.011512\n",
      "hourly_market-data_taker-buy-sell-stats_htx_global_taker_buy_sell_ratio          -0.011630\n",
      "hourly_network-data_block-interval_block_interval                                -0.011660\n",
      "hourly_market-data_taker-buy-sell-stats_huobi_global_taker_buy_sell_ratio        -0.011679\n",
      "hourly_market-data_open-interest_bitfinex_btc_usdt_open_interest                 -0.011996\n",
      "hourly_market-data_liquidations_binance_btc_usdt_short_liquidations              -0.012333\n",
      "hourly_market-data_funding-rates_okx_funding_rates                               -0.012937\n",
      "hourly_market-data_funding-rates_deribit_funding_rates                           -0.012960\n",
      "hourly_market-data_open-interest_kraken_all_symbol_open_interest                 -0.013371\n",
      "hourly_market-data_open-interest_kraken_btc_usd_open_interest                    -0.013371\n",
      "hourly_market-data_open-interest_bybit_all_symbol_open_interest                  -0.013380\n",
      "hourly_market-data_funding-rates_all_exchange_funding_rates                      -0.013974\n",
      "hourly_market-data_open-interest_huobi_global_btc_usdt_open_interest             -0.013992\n",
      "hourly_market-data_open-interest_htx_global_all_symbol_open_interest             -0.014019\n",
      "hourly_market-data_open-interest_htx_global_btc_usdt_open_interest               -0.014215\n",
      "hourly_market-data_open-interest_huobi_global_all_symbol_open_interest           -0.014437\n",
      "hourly_market-data_taker-buy-sell-stats_htx_global_taker_buy_ratio               -0.015593\n",
      "hourly_market-data_price-ohlcv_all_exchange_spot_btc_usd_close                   -0.015726\n",
      "hourly_market-data_taker-buy-sell-stats_huobi_global_taker_buy_ratio             -0.015918\n",
      "hourly_market-data_liquidations_binance_all_symbol_short_liquidations_usd        -0.015943\n",
      "hourly_market-data_funding-rates_binance_funding_rates                           -0.016351\n",
      "hourly_market-data_funding-rates_bybit_funding_rates                             -0.016775\n",
      "hourly_market-data_liquidations_binance_btc_usdt_short_liquidations_usd          -0.017391\n",
      "hourly_market-data_open-interest_all_exchange_all_symbol_open_interest           -0.017534\n",
      "hourly_market-data_taker-buy-sell-stats_deribit_taker_buy_ratio                  -0.017813\n",
      "hourly_market-data_open-interest_okx_btc_usdt_open_interest                      -0.018212\n",
      "hourly_market-data_open-interest_binance_btc_usd_open_interest                   -0.018678\n",
      "hourly_market-data_taker-buy-sell-stats_bybit_taker_buy_ratio                    -0.019355\n",
      "hourly_market-data_open-interest_binance_btc_usdt_open_interest                  -0.022680\n",
      "hourly_market-data_taker-buy-sell-stats_okx_taker_buy_sell_ratio                 -0.024810\n",
      "hourly_market-data_open-interest_binance_all_symbol_open_interest                -0.025871\n",
      "hourly_market-data_taker-buy-sell-stats_okx_taker_buy_ratio                      -0.025942\n",
      "hourly_market-data_open-interest_bybit_btc_usd_open_interest                     -0.026124\n",
      "hourly_market-data_taker-buy-sell-stats_bitmex_taker_buy_ratio                   -0.029445\n",
      "hourly_market-data_taker-buy-sell-stats_all_exchange_taker_buy_ratio             -0.049467\n",
      "hourly_market-data_taker-buy-sell-stats_binance_taker_buy_ratio                  -0.049724\n",
      "hourly_market-data_taker-buy-sell-stats_binance_taker_buy_sell_ratio             -0.051100\n",
      "hourly_market-data_taker-buy-sell-stats_all_exchange_taker_buy_sell_ratio        -0.051326\n",
      "hourly_market-data_funding-rates_okex_funding_rates                                    NaN\n",
      "hourly_market-data_liquidations_okex_btc_usdt_long_liquidations                        NaN\n",
      "hourly_market-data_liquidations_okex_btc_usdt_short_liquidations                       NaN\n",
      "hourly_market-data_liquidations_okex_btc_usdt_long_liquidations_usd                    NaN\n",
      "hourly_market-data_liquidations_okex_btc_usdt_short_liquidations_usd                   NaN\n",
      "hourly_market-data_open-interest_all_exchange_open_interest                            NaN\n",
      "hourly_market-data_open-interest_gate_io_open_interest                                 NaN\n",
      "hourly_market-data_liquidations_okex_btc_usd_long_liquidations                         NaN\n",
      "hourly_market-data_liquidations_okex_btc_usd_short_liquidations                        NaN\n",
      "hourly_market-data_liquidations_okex_btc_usd_long_liquidations_usd                     NaN\n",
      "hourly_market-data_liquidations_okex_btc_usd_short_liquidations_usd                    NaN\n",
      "hourly_market-data_open-interest_bybit_open_interest                                   NaN\n",
      "hourly_market-data_open-interest_deribit_open_interest                                 NaN\n",
      "hourly_market-data_open-interest_binance_open_interest                                 NaN\n",
      "hourly_market-data_open-interest_bitfinex_open_interest                                NaN\n",
      "hourly_market-data_open-interest_ftx_all_symbol_open_interest                          NaN\n",
      "hourly_market-data_open-interest_ftx_btc_usd_open_interest                             NaN\n",
      "hourly_market-data_open-interest_bitmex_open_interest                                  NaN\n",
      "hourly_market-data_open-interest_ftx_open_interest                                     NaN\n",
      "hourly_market-data_liquidations_okex_all_symbol_long_liquidations                      NaN\n",
      "hourly_market-data_liquidations_okex_all_symbol_short_liquidations                     NaN\n",
      "hourly_market-data_liquidations_okex_all_symbol_long_liquidations_usd                  NaN\n",
      "hourly_market-data_liquidations_okex_all_symbol_short_liquidations_usd                 NaN\n",
      "hourly_market-data_liquidations_ftx_btc_usd_long_liquidations                          NaN\n",
      "hourly_market-data_liquidations_ftx_btc_usd_short_liquidations                         NaN\n",
      "hourly_market-data_liquidations_ftx_btc_usd_long_liquidations_usd                      NaN\n",
      "hourly_market-data_liquidations_ftx_btc_usd_short_liquidations_usd                     NaN\n",
      "hourly_market-data_liquidations_ftx_all_symbol_long_liquidations                       NaN\n",
      "hourly_market-data_liquidations_ftx_all_symbol_short_liquidations                      NaN\n",
      "hourly_market-data_liquidations_ftx_all_symbol_long_liquidations_usd                   NaN\n",
      "hourly_market-data_liquidations_ftx_all_symbol_short_liquidations_usd                  NaN\n",
      "hourly_market-data_open-interest_okx_open_interest                                     NaN\n",
      "hourly_market-data_open-interest_huobi_global_open_interest                            NaN\n",
      "hourly_market-data_open-interest_okex_open_interest                                    NaN\n",
      "hourly_market-data_open-interest_kraken_open_interest                                  NaN\n",
      "hourly_market-data_taker-buy-sell-stats_okex_taker_buy_volume                          NaN\n",
      "hourly_market-data_taker-buy-sell-stats_okex_taker_sell_volume                         NaN\n",
      "hourly_market-data_taker-buy-sell-stats_okex_taker_buy_ratio                           NaN\n",
      "hourly_market-data_taker-buy-sell-stats_okex_taker_sell_ratio                          NaN\n",
      "hourly_market-data_taker-buy-sell-stats_okex_taker_buy_sell_ratio                      NaN\n",
      "dtype: float64\n"
     ]
    }
   ],
   "source": [
    "pd.set_option('display.max_rows', None)\n",
    "print(correlation_with_target_sorted)\n",
    "pd.reset_option('display.max_rows')"
   ]
  },
  {
   "cell_type": "code",
   "execution_count": 7,
   "metadata": {},
   "outputs": [
    {
     "name": "stdout",
     "output_type": "stream",
     "text": [
      "                    ID  target  \\\n",
      "0  2023-01-01 00:00:00     2.0   \n",
      "1  2023-01-01 01:00:00     1.0   \n",
      "2  2023-01-01 02:00:00     1.0   \n",
      "3  2023-01-01 03:00:00     1.0   \n",
      "4  2023-01-01 04:00:00     2.0   \n",
      "\n",
      "   hourly_market-data_price-ohlcv_all_exchange_spot_btc_usd_close  \\\n",
      "0                                       16536.747967                \n",
      "1                                       16557.136536                \n",
      "2                                       16548.149805                \n",
      "3                                       16533.632875                \n",
      "4                                       16524.712159                \n",
      "\n",
      "   spot_closed_difference  spot_closed_percent  \n",
      "0               20.388568             0.123292  \n",
      "1               -8.986731            -0.054277  \n",
      "2              -14.516930            -0.087725  \n",
      "3               -8.920715            -0.053955  \n",
      "4                4.695906             0.028417  \n"
     ]
    },
    {
     "name": "stderr",
     "output_type": "stream",
     "text": [
      "C:\\Users\\shgkd\\AppData\\Local\\Temp\\ipykernel_12700\\1982202870.py:5: FutureWarning: The default fill_method='pad' in Series.pct_change is deprecated and will be removed in a future version. Either fill in any non-leading NA values prior to calling pct_change or specify 'fill_method=None' to not fill NA values.\n",
      "  df['spot_closed_percent'] = df['hourly_market-data_price-ohlcv_all_exchange_spot_btc_usd_close'].pct_change().shift(-1) * 100\n"
     ]
    }
   ],
   "source": [
    "# 현재값과 다음값의 차이를 구해서 새로운 열 생성\n",
    "df['spot_closed_difference'] = df['hourly_market-data_price-ohlcv_all_exchange_spot_btc_usd_close'].diff().shift(-1)\n",
    "\n",
    "# 변동률을 퍼센트로 계산해서 새로운 열 생성\n",
    "df['spot_closed_percent'] = df['hourly_market-data_price-ohlcv_all_exchange_spot_btc_usd_close'].pct_change().shift(-1) * 100\n",
    "\n",
    "# 결과 확인\n",
    "print(df[['ID', 'target','hourly_market-data_price-ohlcv_all_exchange_spot_btc_usd_close', 'spot_closed_difference', 'spot_closed_percent']].head())"
   ]
  },
  {
   "cell_type": "code",
   "execution_count": 8,
   "metadata": {},
   "outputs": [
    {
     "name": "stdout",
     "output_type": "stream",
     "text": [
      "값 이상 없음\n"
     ]
    }
   ],
   "source": [
    "# 기준에 맞는지 확인하는 함수 정의\n",
    "def check_target_percent(row):\n",
    "    percent = row['spot_closed_percent']\n",
    "    target = row['target']\n",
    "    \n",
    "    if target == 0:\n",
    "        return percent < -0.5\n",
    "    elif target == 1:\n",
    "        return -0.5 <= percent < 0\n",
    "    elif target == 2:\n",
    "        return 0 <= percent < 0.5\n",
    "    elif target == 3:\n",
    "        return percent >= 0.5\n",
    "    else:\n",
    "        return False\n",
    "\n",
    "# 각 행에 대해 기준에 맞는지 확인\n",
    "df['is_valid'] = df.apply(check_target_percent, axis=1)\n",
    "\n",
    "# is_valid 열에서 False 값이 있는지 확인\n",
    "has_false = df['is_valid'].any() == False\n",
    "\n",
    "# 결과 출력\n",
    "if has_false:\n",
    "    print(\"값 확인 필요\")\n",
    "else:\n",
    "    print(\"값 이상 없음\")"
   ]
  },
  {
   "cell_type": "code",
   "execution_count": 9,
   "metadata": {},
   "outputs": [
    {
     "name": "stdout",
     "output_type": "stream",
     "text": [
      "Bottom 10 'spot_closed_difference':\n",
      "                       ID  spot_closed_difference\n",
      "2778  2023-04-26 18:00:00            -1847.558628\n",
      "4546  2023-07-09 10:00:00            -1500.551073\n",
      "4402  2023-07-03 10:00:00            -1500.300167\n",
      "4521  2023-07-08 09:00:00            -1484.727527\n",
      "4539  2023-07-09 03:00:00            -1462.594247\n",
      "4419  2023-07-04 03:00:00            -1427.547812\n",
      "4684  2023-07-15 04:00:00            -1421.906526\n",
      "4485  2023-07-06 21:00:00            -1354.215113\n",
      "1938  2023-03-22 18:00:00            -1341.401905\n",
      "4565  2023-07-10 05:00:00            -1340.076369\n",
      "\n",
      "Bottom 10 'spot_closed_percent':\n",
      "                       ID  spot_closed_percent\n",
      "2778  2023-04-26 18:00:00            -6.213531\n",
      "1464  2023-03-03 00:00:00            -5.427712\n",
      "4546  2023-07-09 10:00:00            -4.976665\n",
      "4521  2023-07-08 09:00:00            -4.909297\n",
      "4539  2023-07-09 03:00:00            -4.828643\n",
      "5492  2023-08-17 20:00:00            -4.822073\n",
      "1938  2023-03-22 18:00:00            -4.792632\n",
      "4684  2023-07-15 04:00:00            -4.688979\n",
      "4402  2023-07-03 10:00:00            -4.670405\n",
      "4485  2023-07-06 21:00:00            -4.481015\n"
     ]
    }
   ],
   "source": [
    "# 'spot_closed_difference'에서 가장 작은 값 10개 추출\n",
    "bottom_10_difference = df.nsmallest(10, 'spot_closed_difference')[['ID', 'spot_closed_difference']]\n",
    "\n",
    "# 'spot_closed_percent'에서 가장 작은 값 10개 추출\n",
    "bottom_10_percent = df.nsmallest(10, 'spot_closed_percent')[['ID', 'spot_closed_percent']]\n",
    "\n",
    "# 결과 출력\n",
    "print(\"Bottom 10 'spot_closed_difference':\")\n",
    "print(bottom_10_difference)\n",
    "\n",
    "print(\"\\nBottom 10 'spot_closed_percent':\")\n",
    "print(bottom_10_percent)"
   ]
  },
  {
   "cell_type": "code",
   "execution_count": 10,
   "metadata": {},
   "outputs": [
    {
     "name": "stdout",
     "output_type": "stream",
     "text": [
      "spot_closed_difference                                                           1.000000\n",
      "spot_closed_percent                                                              0.988604\n",
      "target                                                                           0.749042\n",
      "hourly_market-data_liquidations_binance_btc_usd_long_liquidations                0.033069\n",
      "hourly_market-data_liquidations_binance_btc_usd_long_liquidations_usd            0.032378\n",
      "hourly_market-data_liquidations_binance_all_symbol_long_liquidations             0.031976\n",
      "hourly_market-data_liquidations_binance_all_symbol_long_liquidations_usd         0.031638\n",
      "hourly_market-data_liquidations_binance_btc_usdt_long_liquidations               0.030876\n",
      "hourly_market-data_liquidations_binance_btc_usdt_long_liquidations_usd           0.030385\n",
      "hourly_market-data_taker-buy-sell-stats_binance_taker_sell_ratio                 0.029638\n",
      "hourly_market-data_liquidations_binance_btc_busd_long_liquidations               0.026852\n",
      "hourly_market-data_liquidations_binance_btc_busd_long_liquidations_usd           0.026476\n",
      "hourly_market-data_taker-buy-sell-stats_all_exchange_taker_sell_ratio            0.025787\n",
      "hourly_market-data_coinbase-premium-index_coinbase_premium_index                 0.025691\n",
      "hourly_market-data_liquidations_bitfinex_all_symbol_long_liquidations_usd        0.023725\n",
      "hourly_market-data_liquidations_bitfinex_btc_usdt_long_liquidations_usd          0.023725\n",
      "hourly_market-data_coinbase-premium-index_coinbase_premium_gap                   0.022809\n",
      "hourly_market-data_liquidations_bitfinex_all_symbol_long_liquidations            0.022303\n",
      "hourly_market-data_liquidations_bitfinex_btc_usdt_long_liquidations              0.022303\n",
      "hourly_market-data_liquidations_deribit_all_symbol_long_liquidations_usd         0.021571\n",
      "hourly_market-data_liquidations_deribit_btc_usd_long_liquidations_usd            0.021546\n",
      "hourly_market-data_liquidations_all_exchange_all_symbol_long_liquidations        0.021130\n",
      "hourly_market-data_liquidations_deribit_all_symbol_long_liquidations             0.021016\n",
      "hourly_market-data_liquidations_deribit_btc_usd_long_liquidations                0.020991\n",
      "hourly_market-data_taker-buy-sell-stats_bitmex_taker_sell_volume                 0.020967\n",
      "hourly_market-data_liquidations_all_exchange_all_symbol_long_liquidations_usd    0.019706\n",
      "hourly_market-data_taker-buy-sell-stats_deribit_taker_sell_volume                0.017910\n",
      "hourly_market-data_price-ohlcv_all_exchange_spot_btc_usd_volume                  0.017026\n",
      "hourly_market-data_taker-buy-sell-stats_htx_global_taker_sell_volume             0.016850\n",
      "hourly_market-data_taker-buy-sell-stats_huobi_global_taker_sell_volume           0.016828\n",
      "dtype: float64\n"
     ]
    }
   ],
   "source": [
    "# 수치형 열과 target의 상관관계\n",
    "numerical_cols = df.select_dtypes(include=np.number).columns.tolist()\n",
    "\n",
    "correlation_with_target = df[numerical_cols].corrwith(df['spot_closed_difference'])\n",
    "correlation_with_target_sorted = correlation_with_target.sort_values(ascending=False)\n",
    "\n",
    "print(correlation_with_target_sorted[:30])"
   ]
  },
  {
   "cell_type": "code",
   "execution_count": 11,
   "metadata": {},
   "outputs": [
    {
     "name": "stdout",
     "output_type": "stream",
     "text": [
      "spot_closed_percent                                                              1.000000\n",
      "spot_closed_difference                                                           0.988604\n",
      "target                                                                           0.754323\n",
      "hourly_market-data_liquidations_binance_btc_usd_long_liquidations                0.032666\n",
      "hourly_market-data_coinbase-premium-index_coinbase_premium_index                 0.032339\n",
      "hourly_market-data_liquidations_binance_btc_busd_long_liquidations               0.031955\n",
      "hourly_market-data_liquidations_binance_btc_busd_long_liquidations_usd           0.031055\n",
      "hourly_market-data_liquidations_binance_all_symbol_long_liquidations             0.030328\n",
      "hourly_market-data_liquidations_binance_btc_usdt_long_liquidations               0.027581\n",
      "hourly_market-data_price-ohlcv_all_exchange_spot_btc_usd_volume                  0.024657\n",
      "hourly_market-data_taker-buy-sell-stats_binance_taker_sell_ratio                 0.023778\n",
      "hourly_market-data_liquidations_deribit_all_symbol_long_liquidations_usd         0.023587\n",
      "hourly_market-data_liquidations_deribit_btc_usd_long_liquidations_usd            0.023539\n",
      "hourly_market-data_liquidations_deribit_all_symbol_long_liquidations             0.023002\n",
      "hourly_market-data_liquidations_deribit_btc_usd_long_liquidations                0.022954\n",
      "hourly_market-data_coinbase-premium-index_coinbase_premium_gap                   0.021904\n",
      "hourly_market-data_liquidations_binance_btc_usd_long_liquidations_usd            0.021754\n",
      "hourly_market-data_liquidations_all_exchange_all_symbol_long_liquidations        0.021566\n",
      "hourly_market-data_liquidations_binance_all_symbol_long_liquidations_usd         0.021311\n",
      "hourly_market-data_taker-buy-sell-stats_all_exchange_taker_sell_ratio            0.021013\n",
      "hourly_market-data_liquidations_binance_btc_usdt_long_liquidations_usd           0.018453\n",
      "hourly_market-data_liquidations_bitfinex_btc_usdt_long_liquidations              0.017603\n",
      "hourly_market-data_liquidations_bitfinex_all_symbol_long_liquidations            0.017590\n",
      "hourly_market-data_liquidations_deribit_all_symbol_short_liquidations            0.017062\n",
      "hourly_market-data_liquidations_deribit_btc_usd_short_liquidations               0.017014\n",
      "hourly_market-data_taker-buy-sell-stats_bitmex_taker_sell_volume                 0.016835\n",
      "hourly_market-data_liquidations_deribit_all_symbol_short_liquidations_usd        0.016401\n",
      "hourly_market-data_liquidations_deribit_btc_usd_short_liquidations_usd           0.016354\n",
      "hourly_market-data_liquidations_all_exchange_all_symbol_long_liquidations_usd    0.014766\n",
      "hourly_market-data_liquidations_huobi_global_btc_usdt_long_liquidations          0.014537\n",
      "dtype: float64\n"
     ]
    }
   ],
   "source": [
    "# 수치형 열과 target의 상관관계\n",
    "numerical_cols = df.select_dtypes(include=np.number).columns.tolist()\n",
    "\n",
    "correlation_with_target = df[numerical_cols].corrwith(df['spot_closed_percent'])\n",
    "correlation_with_target_sorted = correlation_with_target.sort_values(ascending=False)\n",
    "\n",
    "print(correlation_with_target_sorted[:30])"
   ]
  },
  {
   "cell_type": "code",
   "execution_count": 12,
   "metadata": {},
   "outputs": [
    {
     "name": "stdout",
     "output_type": "stream",
     "text": [
      "spot_closed_percent                                                               1.000000\n",
      "spot_closed_difference                                                            0.988604\n",
      "target                                                                            0.754323\n",
      "hourly_market-data_liquidations_binance_btc_usd_long_liquidations                 0.032666\n",
      "hourly_market-data_coinbase-premium-index_coinbase_premium_index                  0.032339\n",
      "hourly_market-data_liquidations_binance_btc_busd_long_liquidations                0.031955\n",
      "hourly_market-data_liquidations_binance_btc_busd_long_liquidations_usd            0.031055\n",
      "hourly_market-data_liquidations_binance_all_symbol_long_liquidations              0.030328\n",
      "hourly_market-data_liquidations_binance_btc_usdt_long_liquidations                0.027581\n",
      "hourly_market-data_price-ohlcv_all_exchange_spot_btc_usd_volume                   0.024657\n",
      "hourly_market-data_taker-buy-sell-stats_binance_taker_sell_ratio                  0.023778\n",
      "hourly_market-data_liquidations_deribit_all_symbol_long_liquidations_usd          0.023587\n",
      "hourly_market-data_liquidations_deribit_btc_usd_long_liquidations_usd             0.023539\n",
      "hourly_market-data_liquidations_deribit_all_symbol_long_liquidations              0.023002\n",
      "hourly_market-data_liquidations_deribit_btc_usd_long_liquidations                 0.022954\n",
      "hourly_market-data_coinbase-premium-index_coinbase_premium_gap                    0.021904\n",
      "hourly_market-data_liquidations_binance_btc_usd_long_liquidations_usd             0.021754\n",
      "hourly_market-data_liquidations_all_exchange_all_symbol_long_liquidations         0.021566\n",
      "hourly_market-data_liquidations_binance_all_symbol_long_liquidations_usd          0.021311\n",
      "hourly_market-data_taker-buy-sell-stats_all_exchange_taker_sell_ratio             0.021013\n",
      "hourly_market-data_liquidations_binance_btc_usdt_long_liquidations_usd            0.018453\n",
      "hourly_market-data_liquidations_bitfinex_btc_usdt_long_liquidations               0.017603\n",
      "hourly_market-data_liquidations_bitfinex_all_symbol_long_liquidations             0.017590\n",
      "hourly_market-data_liquidations_deribit_all_symbol_short_liquidations             0.017062\n",
      "hourly_market-data_liquidations_deribit_btc_usd_short_liquidations                0.017014\n",
      "hourly_market-data_taker-buy-sell-stats_bitmex_taker_sell_volume                  0.016835\n",
      "hourly_market-data_liquidations_deribit_all_symbol_short_liquidations_usd         0.016401\n",
      "hourly_market-data_liquidations_deribit_btc_usd_short_liquidations_usd            0.016354\n",
      "hourly_market-data_liquidations_all_exchange_all_symbol_long_liquidations_usd     0.014766\n",
      "hourly_market-data_liquidations_huobi_global_btc_usdt_long_liquidations           0.014537\n",
      "hourly_market-data_liquidations_okx_btc_usdt_long_liquidations                    0.014366\n",
      "hourly_market-data_liquidations_htx_global_btc_usdt_long_liquidations             0.014328\n",
      "hourly_market-data_liquidations_bybit_all_symbol_short_liquidations               0.014079\n",
      "hourly_market-data_taker-buy-sell-stats_huobi_global_taker_sell_volume            0.014022\n",
      "hourly_market-data_taker-buy-sell-stats_htx_global_taker_sell_volume              0.013986\n",
      "hourly_market-data_liquidations_okx_all_symbol_long_liquidations                  0.013317\n",
      "hourly_market-data_liquidations_htx_global_all_symbol_long_liquidations           0.012855\n",
      "hourly_market-data_liquidations_huobi_global_all_symbol_long_liquidations         0.012796\n",
      "hourly_market-data_liquidations_gate_io_all_symbol_long_liquidations              0.012524\n",
      "hourly_market-data_liquidations_gate_io_btc_usdt_long_liquidations                0.012277\n",
      "hourly_market-data_liquidations_bybit_btc_usd_short_liquidations                  0.011547\n",
      "hourly_market-data_liquidations_bitmex_btc_usd_short_liquidations                 0.011547\n",
      "hourly_market-data_liquidations_bitmex_all_symbol_short_liquidations              0.011544\n",
      "hourly_market-data_taker-buy-sell-stats_deribit_taker_sell_volume                 0.011140\n",
      "hourly_market-data_liquidations_okx_btc_usdt_long_liquidations_usd                0.010763\n",
      "hourly_market-data_liquidations_bybit_btc_usdt_short_liquidations                 0.010657\n",
      "hourly_network-data_velocity_velocity_supply_total                                0.010180\n",
      "hourly_market-data_liquidations_bitfinex_btc_usdt_long_liquidations_usd           0.010027\n",
      "hourly_market-data_liquidations_bitfinex_all_symbol_long_liquidations_usd         0.010017\n",
      "hourly_market-data_liquidations_okx_all_symbol_long_liquidations_usd              0.009685\n",
      "hourly_market-data_liquidations_bitmex_btc_usd_short_liquidations_usd             0.009558\n",
      "hourly_market-data_liquidations_bitmex_all_symbol_short_liquidations_usd          0.009555\n",
      "hourly_network-data_supply_supply_new                                             0.009413\n",
      "hourly_network-data_block-count_block_count                                       0.009209\n",
      "hourly_market-data_taker-buy-sell-stats_deribit_taker_buy_volume                  0.009165\n",
      "hourly_market-data_liquidations_gate_io_btc_usd_long_liquidations                 0.009164\n",
      "hourly_market-data_liquidations_gate_io_btc_usd_long_liquidations_usd             0.008744\n",
      "hourly_market-data_liquidations_htx_global_all_symbol_short_liquidations          0.008648\n",
      "hourly_market-data_liquidations_huobi_global_all_symbol_short_liquidations        0.008592\n",
      "hourly_market-data_liquidations_huobi_global_btc_usd_short_liquidations_usd       0.008548\n",
      "hourly_market-data_taker-buy-sell-stats_all_exchange_taker_sell_volume            0.008546\n",
      "hourly_market-data_liquidations_htx_global_btc_usd_short_liquidations_usd         0.008508\n",
      "hourly_market-data_taker-buy-sell-stats_binance_taker_sell_volume                 0.008386\n",
      "hourly_market-data_liquidations_huobi_global_btc_usd_short_liquidations           0.008376\n",
      "hourly_market-data_liquidations_htx_global_btc_usd_short_liquidations             0.008342\n",
      "hourly_market-data_liquidations_bybit_all_symbol_short_liquidations_usd           0.008294\n",
      "hourly_market-data_liquidations_bybit_btc_usd_short_liquidations_usd              0.007556\n",
      "hourly_market-data_liquidations_huobi_global_btc_usdt_long_liquidations_usd       0.007555\n",
      "hourly_market-data_liquidations_htx_global_btc_usdt_long_liquidations_usd         0.007342\n",
      "hourly_market-data_taker-buy-sell-stats_htx_global_taker_buy_volume               0.007334\n",
      "hourly_market-data_taker-buy-sell-stats_huobi_global_taker_buy_volume             0.007314\n",
      "hourly_market-data_liquidations_binance_btc_usd_short_liquidations                0.007199\n",
      "hourly_market-data_liquidations_htx_global_all_symbol_long_liquidations_usd       0.007120\n",
      "hourly_market-data_liquidations_huobi_global_btc_usdt_short_liquidations          0.007081\n",
      "hourly_network-data_addresses-count_addresses_count_active                        0.007080\n",
      "hourly_market-data_liquidations_huobi_global_all_symbol_long_liquidations_usd     0.007079\n",
      "hourly_network-data_addresses-count_addresses_count_receiver                      0.006980\n",
      "hourly_market-data_liquidations_htx_global_btc_usdt_short_liquidations            0.006917\n",
      "hourly_market-data_liquidations_bitmex_btc_usd_long_liquidations                  0.006593\n",
      "hourly_market-data_liquidations_bitmex_all_symbol_long_liquidations               0.006591\n",
      "hourly_market-data_taker-buy-sell-stats_bitmex_taker_buy_volume                   0.006585\n",
      "hourly_network-data_blockreward_blockreward                                       0.006352\n",
      "hourly_market-data_liquidations_all_exchange_all_symbol_short_liquidations        0.006340\n",
      "hourly_network-data_tokens-transferred_tokens_transferred_median                  0.006232\n",
      "hourly_market-data_liquidations_bitmex_btc_usd_long_liquidations_usd              0.005953\n",
      "hourly_market-data_liquidations_bitmex_all_symbol_long_liquidations_usd           0.005951\n",
      "hourly_market-data_taker-buy-sell-stats_bitmex_taker_sell_ratio                   0.005907\n",
      "hourly_network-data_addresses-count_addresses_count_sender                        0.005828\n",
      "hourly_market-data_liquidations_bybit_btc_usdt_short_liquidations_usd             0.005322\n",
      "hourly_market-data_taker-buy-sell-stats_okx_taker_buy_volume                      0.004977\n",
      "hourly_market-data_taker-buy-sell-stats_okx_taker_sell_volume                     0.004580\n",
      "hourly_market-data_taker-buy-sell-stats_all_exchange_taker_buy_volume             0.004574\n",
      "hourly_market-data_taker-buy-sell-stats_bybit_taker_sell_volume                   0.004331\n",
      "hourly_market-data_taker-buy-sell-stats_binance_taker_buy_volume                  0.004270\n",
      "hourly_market-data_liquidations_binance_all_symbol_short_liquidations             0.004090\n",
      "hourly_network-data_block-bytes_block_bytes                                       0.003973\n",
      "hourly_market-data_taker-buy-sell-stats_okx_taker_sell_ratio                      0.003859\n",
      "hourly_market-data_liquidations_bybit_all_symbol_long_liquidations                0.003651\n",
      "hourly_market-data_liquidations_htx_global_all_symbol_short_liquidations_usd      0.003645\n",
      "hourly_market-data_liquidations_huobi_global_all_symbol_short_liquidations_usd    0.003598\n",
      "hourly_market-data_taker-buy-sell-stats_bybit_taker_buy_sell_ratio                0.003202\n",
      "hourly_market-data_taker-buy-sell-stats_bybit_taker_buy_volume                    0.003141\n",
      "hourly_market-data_liquidations_bybit_btc_usdt_long_liquidations                  0.002885\n",
      "hourly_market-data_taker-buy-sell-stats_huobi_global_taker_sell_ratio             0.002823\n",
      "hourly_market-data_liquidations_bybit_btc_usd_long_liquidations                   0.002771\n",
      "hourly_market-data_liquidations_gate_io_all_symbol_long_liquidations_usd          0.002686\n",
      "hourly_market-data_liquidations_bybit_btc_usd_long_liquidations_usd               0.002652\n",
      "hourly_market-data_taker-buy-sell-stats_htx_global_taker_sell_ratio               0.002626\n",
      "hourly_market-data_liquidations_binance_btc_usdt_short_liquidations               0.002616\n",
      "hourly_market-data_liquidations_huobi_global_btc_usd_long_liquidations_usd        0.002579\n",
      "hourly_market-data_taker-buy-sell-stats_deribit_taker_sell_ratio                  0.002578\n",
      "hourly_market-data_liquidations_htx_global_btc_usd_long_liquidations_usd          0.002536\n",
      "hourly_market-data_liquidations_huobi_global_btc_usd_long_liquidations            0.002507\n",
      "hourly_market-data_liquidations_htx_global_btc_usd_long_liquidations              0.002463\n",
      "hourly_market-data_liquidations_binance_btc_usd_short_liquidations_usd            0.002459\n",
      "hourly_market-data_liquidations_gate_io_btc_usdt_long_liquidations_usd            0.002249\n",
      "hourly_market-data_liquidations_okx_btc_usd_long_liquidations                     0.002200\n",
      "hourly_market-data_liquidations_huobi_global_btc_usdt_short_liquidations_usd      0.002100\n",
      "hourly_market-data_liquidations_htx_global_btc_usdt_short_liquidations_usd        0.001936\n",
      "hourly_market-data_liquidations_bybit_all_symbol_long_liquidations_usd            0.001847\n",
      "hourly_market-data_liquidations_gate_io_btc_usdt_short_liquidations               0.001836\n",
      "hourly_market-data_liquidations_gate_io_all_symbol_short_liquidations             0.001748\n",
      "hourly_network-data_transactions-count_transactions_count_total                   0.001612\n",
      "hourly_market-data_liquidations_all_exchange_all_symbol_short_liquidations_usd    0.001468\n",
      "hourly_network-data_hashrate_hashrate                                             0.001337\n",
      "hourly_market-data_liquidations_okx_btc_usd_long_liquidations_usd                 0.000919\n",
      "hourly_market-data_taker-buy-sell-stats_bybit_taker_buy_ratio                     0.000779\n",
      "hourly_market-data_taker-buy-sell-stats_bitmex_taker_buy_sell_ratio               0.000759\n",
      "hourly_market-data_liquidations_binance_btc_busd_short_liquidations               0.000076\n",
      "hourly_market-data_open-interest_kraken_btc_usd_open_interest                     0.000056\n",
      "hourly_market-data_open-interest_kraken_all_symbol_open_interest                  0.000052\n",
      "hourly_market-data_liquidations_bybit_btc_usdt_long_liquidations_usd             -0.000568\n",
      "hourly_market-data_liquidations_okx_btc_usd_short_liquidations                   -0.000663\n",
      "hourly_market-data_liquidations_gate_io_btc_usd_short_liquidations               -0.000686\n",
      "hourly_market-data_taker-buy-sell-stats_bybit_taker_sell_ratio                   -0.000768\n",
      "hourly_market-data_liquidations_okx_btc_usd_short_liquidations_usd               -0.000918\n",
      "hourly_market-data_liquidations_gate_io_btc_usd_short_liquidations_usd           -0.001090\n",
      "hourly_network-data_tokens-transferred_tokens_transferred_total                  -0.001651\n",
      "hourly_market-data_liquidations_binance_all_symbol_short_liquidations_usd        -0.002032\n",
      "hourly_market-data_open-interest_gate_io_btc_usd_open_interest                   -0.002102\n",
      "hourly_market-data_liquidations_gate_io_btc_usdt_short_liquidations_usd          -0.002342\n",
      "hourly_market-data_liquidations_gate_io_all_symbol_short_liquidations_usd        -0.002413\n",
      "hourly_market-data_taker-buy-sell-stats_okx_taker_buy_sell_ratio                 -0.002462\n",
      "hourly_market-data_liquidations_binance_btc_usdt_short_liquidations_usd          -0.002504\n",
      "hourly_market-data_taker-buy-sell-stats_deribit_taker_buy_ratio                  -0.002565\n",
      "hourly_market-data_open-interest_okx_btc_usd_open_interest                       -0.002597\n",
      "hourly_market-data_taker-buy-sell-stats_htx_global_taker_buy_ratio               -0.002633\n",
      "hourly_market-data_open-interest_binance_btc_busd_open_interest                  -0.002811\n",
      "hourly_market-data_taker-buy-sell-stats_huobi_global_taker_buy_ratio             -0.002829\n",
      "hourly_market-data_liquidations_bitfinex_btc_usdt_short_liquidations             -0.003012\n",
      "hourly_market-data_liquidations_bitfinex_all_symbol_short_liquidations           -0.003029\n",
      "hourly_market-data_liquidations_binance_btc_busd_short_liquidations_usd          -0.003054\n",
      "hourly_network-data_fees-transaction_fees_transaction_median                     -0.003350\n",
      "hourly_network-data_fees-transaction_fees_transaction_median_usd                 -0.003588\n",
      "hourly_market-data_taker-buy-sell-stats_htx_global_taker_buy_sell_ratio          -0.003839\n",
      "hourly_market-data_taker-buy-sell-stats_okx_taker_buy_ratio                      -0.003859\n",
      "hourly_market-data_taker-buy-sell-stats_huobi_global_taker_buy_sell_ratio        -0.003872\n",
      "hourly_market-data_liquidations_bitfinex_btc_usdt_short_liquidations_usd         -0.004237\n",
      "hourly_market-data_liquidations_bitfinex_all_symbol_short_liquidations_usd       -0.004253\n",
      "hourly_market-data_taker-buy-sell-stats_deribit_taker_buy_sell_ratio             -0.004367\n",
      "hourly_market-data_open-interest_deribit_btc_usd_open_interest                   -0.004408\n",
      "hourly_market-data_liquidations_okx_all_symbol_short_liquidations                -0.004452\n",
      "hourly_market-data_open-interest_deribit_all_symbol_open_interest                -0.004463\n",
      "hourly_network-data_blockreward_blockreward_usd                                  -0.004539\n",
      "hourly_market-data_liquidations_okx_btc_usdt_short_liquidations                  -0.005700\n",
      "hourly_market-data_taker-buy-sell-stats_bitmex_taker_buy_ratio                   -0.005815\n",
      "hourly_network-data_fees_fees_reward_percent                                     -0.006040\n",
      "hourly_network-data_fees-transaction_fees_transaction_mean                       -0.006389\n",
      "hourly_network-data_fees_fees_total_usd                                          -0.006561\n",
      "hourly_market-data_liquidations_okx_all_symbol_short_liquidations_usd            -0.006675\n",
      "hourly_market-data_open-interest_bitmex_btc_usd_open_interest                    -0.006716\n",
      "hourly_market-data_open-interest_bitmex_all_symbol_open_interest                 -0.006716\n",
      "hourly_market-data_funding-rates_huobi_global_funding_rates                      -0.006840\n",
      "hourly_market-data_open-interest_gate_io_btc_usdt_open_interest                  -0.006886\n",
      "hourly_market-data_funding-rates_htx_global_funding_rates                        -0.007049\n",
      "hourly_network-data_fees-transaction_fees_transaction_mean_usd                   -0.007067\n",
      "hourly_network-data_fees_fees_block_mean_usd                                     -0.007174\n",
      "hourly_market-data_liquidations_okx_btc_usdt_short_liquidations_usd              -0.007767\n",
      "hourly_market-data_funding-rates_okx_funding_rates                               -0.007849\n",
      "hourly_market-data_open-interest_huobi_global_btc_usd_open_interest              -0.007889\n",
      "hourly_network-data_transactions-count_transactions_count_mean                   -0.007985\n",
      "hourly_network-data_fees_fees_total                                              -0.008034\n",
      "hourly_market-data_open-interest_htx_global_btc_usd_open_interest                -0.008165\n",
      "hourly_network-data_fees_fees_block_mean                                         -0.008347\n",
      "hourly_market-data_funding-rates_bitmex_funding_rates                            -0.008394\n",
      "hourly_market-data_open-interest_gate_io_all_symbol_open_interest                -0.008674\n",
      "hourly_network-data_tokens-transferred_tokens_transferred_mean                   -0.009711\n",
      "hourly_network-data_supply_supply_total                                          -0.010208\n",
      "hourly_network-data_utxo-count_utxo_count                                        -0.010272\n",
      "hourly_network-data_difficulty_difficulty                                        -0.010873\n",
      "hourly_market-data_open-interest_okx_all_symbol_open_interest                    -0.011536\n",
      "hourly_market-data_open-interest_bitfinex_all_symbol_open_interest               -0.011730\n",
      "hourly_market-data_open-interest_binance_btc_usd_open_interest                   -0.012489\n",
      "hourly_market-data_open-interest_bitfinex_btc_usdt_open_interest                 -0.012614\n",
      "hourly_market-data_open-interest_bybit_btc_usdt_open_interest                    -0.012884\n",
      "hourly_market-data_open-interest_bybit_all_symbol_open_interest                  -0.012893\n",
      "hourly_market-data_open-interest_huobi_global_btc_usdt_open_interest             -0.012985\n",
      "hourly_market-data_open-interest_all_exchange_all_symbol_open_interest           -0.013505\n",
      "hourly_market-data_open-interest_htx_global_btc_usdt_open_interest               -0.013725\n",
      "hourly_market-data_open-interest_binance_btc_usdt_open_interest                  -0.014333\n",
      "hourly_network-data_block-interval_block_interval                                -0.014872\n",
      "hourly_market-data_open-interest_binance_all_symbol_open_interest                -0.015012\n",
      "hourly_market-data_open-interest_okx_btc_usdt_open_interest                      -0.015014\n",
      "hourly_market-data_open-interest_htx_global_all_symbol_open_interest             -0.015107\n",
      "hourly_market-data_open-interest_huobi_global_all_symbol_open_interest           -0.015471\n",
      "hourly_market-data_funding-rates_binance_funding_rates                           -0.015833\n",
      "hourly_market-data_open-interest_bybit_btc_usd_open_interest                     -0.015834\n",
      "hourly_market-data_funding-rates_all_exchange_funding_rates                      -0.017693\n",
      "hourly_market-data_price-ohlcv_all_exchange_spot_btc_usd_close                   -0.019482\n",
      "hourly_market-data_taker-buy-sell-stats_all_exchange_taker_buy_ratio             -0.021013\n",
      "hourly_market-data_taker-buy-sell-stats_all_exchange_taker_buy_sell_ratio        -0.021998\n",
      "hourly_market-data_funding-rates_bybit_funding_rates                             -0.023562\n",
      "hourly_market-data_taker-buy-sell-stats_binance_taker_buy_ratio                  -0.023778\n",
      "hourly_market-data_funding-rates_deribit_funding_rates                           -0.024231\n",
      "hourly_market-data_taker-buy-sell-stats_binance_taker_buy_sell_ratio             -0.024299\n",
      "hourly_market-data_funding-rates_okex_funding_rates                                    NaN\n",
      "hourly_market-data_liquidations_okex_btc_usdt_long_liquidations                        NaN\n",
      "hourly_market-data_liquidations_okex_btc_usdt_short_liquidations                       NaN\n",
      "hourly_market-data_liquidations_okex_btc_usdt_long_liquidations_usd                    NaN\n",
      "hourly_market-data_liquidations_okex_btc_usdt_short_liquidations_usd                   NaN\n",
      "hourly_market-data_open-interest_all_exchange_open_interest                            NaN\n",
      "hourly_market-data_open-interest_gate_io_open_interest                                 NaN\n",
      "hourly_market-data_liquidations_okex_btc_usd_long_liquidations                         NaN\n",
      "hourly_market-data_liquidations_okex_btc_usd_short_liquidations                        NaN\n",
      "hourly_market-data_liquidations_okex_btc_usd_long_liquidations_usd                     NaN\n",
      "hourly_market-data_liquidations_okex_btc_usd_short_liquidations_usd                    NaN\n",
      "hourly_market-data_open-interest_bybit_open_interest                                   NaN\n",
      "hourly_market-data_open-interest_deribit_open_interest                                 NaN\n",
      "hourly_market-data_open-interest_binance_open_interest                                 NaN\n",
      "hourly_market-data_open-interest_bitfinex_open_interest                                NaN\n",
      "hourly_market-data_open-interest_ftx_all_symbol_open_interest                          NaN\n",
      "hourly_market-data_open-interest_ftx_btc_usd_open_interest                             NaN\n",
      "hourly_market-data_open-interest_bitmex_open_interest                                  NaN\n",
      "hourly_market-data_open-interest_ftx_open_interest                                     NaN\n",
      "hourly_market-data_liquidations_okex_all_symbol_long_liquidations                      NaN\n",
      "hourly_market-data_liquidations_okex_all_symbol_short_liquidations                     NaN\n",
      "hourly_market-data_liquidations_okex_all_symbol_long_liquidations_usd                  NaN\n",
      "hourly_market-data_liquidations_okex_all_symbol_short_liquidations_usd                 NaN\n",
      "hourly_market-data_liquidations_ftx_btc_usd_long_liquidations                          NaN\n",
      "hourly_market-data_liquidations_ftx_btc_usd_short_liquidations                         NaN\n",
      "hourly_market-data_liquidations_ftx_btc_usd_long_liquidations_usd                      NaN\n",
      "hourly_market-data_liquidations_ftx_btc_usd_short_liquidations_usd                     NaN\n",
      "hourly_market-data_liquidations_ftx_all_symbol_long_liquidations                       NaN\n",
      "hourly_market-data_liquidations_ftx_all_symbol_short_liquidations                      NaN\n",
      "hourly_market-data_liquidations_ftx_all_symbol_long_liquidations_usd                   NaN\n",
      "hourly_market-data_liquidations_ftx_all_symbol_short_liquidations_usd                  NaN\n",
      "hourly_market-data_open-interest_okx_open_interest                                     NaN\n",
      "hourly_market-data_open-interest_huobi_global_open_interest                            NaN\n",
      "hourly_market-data_open-interest_okex_open_interest                                    NaN\n",
      "hourly_market-data_open-interest_kraken_open_interest                                  NaN\n",
      "hourly_market-data_taker-buy-sell-stats_okex_taker_buy_volume                          NaN\n",
      "hourly_market-data_taker-buy-sell-stats_okex_taker_sell_volume                         NaN\n",
      "hourly_market-data_taker-buy-sell-stats_okex_taker_buy_ratio                           NaN\n",
      "hourly_market-data_taker-buy-sell-stats_okex_taker_sell_ratio                          NaN\n",
      "hourly_market-data_taker-buy-sell-stats_okex_taker_buy_sell_ratio                      NaN\n",
      "dtype: float64\n"
     ]
    }
   ],
   "source": [
    "pd.set_option('display.max_rows', None)\n",
    "print(correlation_with_target_sorted)\n",
    "pd.reset_option('display.max_rows')"
   ]
  },
  {
   "cell_type": "code",
   "execution_count": 13,
   "metadata": {},
   "outputs": [
    {
     "name": "stdout",
     "output_type": "stream",
     "text": [
      "                    ID  spot_closed_difference  diff_stand\n",
      "0  2023-01-01 00:00:00               20.388568    0.093497\n",
      "1  2023-01-01 01:00:00               -8.986731   -0.063906\n",
      "2  2023-01-01 02:00:00              -14.516930   -0.093539\n",
      "3  2023-01-01 03:00:00               -8.920715   -0.063553\n",
      "4  2023-01-01 04:00:00                4.695906    0.009410\n"
     ]
    }
   ],
   "source": [
    "from sklearn.preprocessing import StandardScaler\n",
    "\n",
    "scaler = StandardScaler()\n",
    "df['diff_stand'] = scaler.fit_transform(df[['spot_closed_difference']])\n",
    "\n",
    "# 결과 확인\n",
    "print(df[['ID', 'spot_closed_difference', 'diff_stand']].head())"
   ]
  },
  {
   "cell_type": "code",
   "execution_count": 14,
   "metadata": {},
   "outputs": [
    {
     "name": "stdout",
     "output_type": "stream",
     "text": [
      "diff_stand                                                                        1.000000\n",
      "spot_closed_difference                                                            1.000000\n",
      "spot_closed_percent                                                               0.988604\n",
      "target                                                                            0.749042\n",
      "hourly_market-data_liquidations_binance_btc_usd_long_liquidations                 0.033069\n",
      "hourly_market-data_liquidations_binance_btc_usd_long_liquidations_usd             0.032378\n",
      "hourly_market-data_liquidations_binance_all_symbol_long_liquidations              0.031976\n",
      "hourly_market-data_liquidations_binance_all_symbol_long_liquidations_usd          0.031638\n",
      "hourly_market-data_liquidations_binance_btc_usdt_long_liquidations                0.030876\n",
      "hourly_market-data_liquidations_binance_btc_usdt_long_liquidations_usd            0.030385\n",
      "hourly_market-data_taker-buy-sell-stats_binance_taker_sell_ratio                  0.029638\n",
      "hourly_market-data_liquidations_binance_btc_busd_long_liquidations                0.026852\n",
      "hourly_market-data_liquidations_binance_btc_busd_long_liquidations_usd            0.026476\n",
      "hourly_market-data_taker-buy-sell-stats_all_exchange_taker_sell_ratio             0.025787\n",
      "hourly_market-data_coinbase-premium-index_coinbase_premium_index                  0.025691\n",
      "hourly_market-data_liquidations_bitfinex_all_symbol_long_liquidations_usd         0.023725\n",
      "hourly_market-data_liquidations_bitfinex_btc_usdt_long_liquidations_usd           0.023725\n",
      "hourly_market-data_coinbase-premium-index_coinbase_premium_gap                    0.022809\n",
      "hourly_market-data_liquidations_bitfinex_all_symbol_long_liquidations             0.022303\n",
      "hourly_market-data_liquidations_bitfinex_btc_usdt_long_liquidations               0.022303\n",
      "hourly_market-data_liquidations_deribit_all_symbol_long_liquidations_usd          0.021571\n",
      "hourly_market-data_liquidations_deribit_btc_usd_long_liquidations_usd             0.021546\n",
      "hourly_market-data_liquidations_all_exchange_all_symbol_long_liquidations         0.021130\n",
      "hourly_market-data_liquidations_deribit_all_symbol_long_liquidations              0.021016\n",
      "hourly_market-data_liquidations_deribit_btc_usd_long_liquidations                 0.020991\n",
      "hourly_market-data_taker-buy-sell-stats_bitmex_taker_sell_volume                  0.020967\n",
      "hourly_market-data_liquidations_all_exchange_all_symbol_long_liquidations_usd     0.019706\n",
      "hourly_market-data_taker-buy-sell-stats_deribit_taker_sell_volume                 0.017910\n",
      "hourly_market-data_price-ohlcv_all_exchange_spot_btc_usd_volume                   0.017026\n",
      "hourly_market-data_taker-buy-sell-stats_htx_global_taker_sell_volume              0.016850\n",
      "hourly_market-data_taker-buy-sell-stats_huobi_global_taker_sell_volume            0.016828\n",
      "hourly_market-data_liquidations_deribit_all_symbol_short_liquidations             0.015309\n",
      "hourly_market-data_liquidations_deribit_btc_usd_short_liquidations                0.015281\n",
      "hourly_market-data_taker-buy-sell-stats_deribit_taker_buy_volume                  0.015161\n",
      "hourly_market-data_liquidations_deribit_all_symbol_short_liquidations_usd         0.014766\n",
      "hourly_market-data_liquidations_deribit_btc_usd_short_liquidations_usd            0.014738\n",
      "hourly_market-data_liquidations_okx_btc_usdt_long_liquidations                    0.013333\n",
      "hourly_market-data_liquidations_gate_io_all_symbol_long_liquidations              0.013228\n",
      "hourly_market-data_liquidations_gate_io_btc_usdt_long_liquidations                0.012880\n",
      "hourly_market-data_liquidations_okx_all_symbol_long_liquidations                  0.012603\n",
      "hourly_market-data_liquidations_okx_btc_usdt_long_liquidations_usd                0.012066\n",
      "hourly_market-data_liquidations_bybit_all_symbol_short_liquidations               0.011954\n",
      "hourly_market-data_liquidations_huobi_global_btc_usdt_long_liquidations           0.011770\n",
      "hourly_market-data_liquidations_okx_all_symbol_long_liquidations_usd              0.011746\n",
      "hourly_market-data_liquidations_htx_global_btc_usdt_long_liquidations             0.011644\n",
      "hourly_market-data_taker-buy-sell-stats_all_exchange_taker_sell_volume            0.011511\n",
      "hourly_market-data_liquidations_htx_global_all_symbol_long_liquidations           0.011241\n",
      "hourly_market-data_liquidations_huobi_global_all_symbol_long_liquidations         0.011204\n",
      "hourly_market-data_liquidations_gate_io_btc_usd_long_liquidations_usd             0.011149\n",
      "hourly_market-data_taker-buy-sell-stats_binance_taker_sell_volume                 0.011079\n",
      "hourly_market-data_liquidations_bitmex_all_symbol_short_liquidations_usd          0.010585\n",
      "hourly_market-data_liquidations_bitmex_btc_usd_short_liquidations_usd             0.010585\n",
      "hourly_market-data_liquidations_bitmex_all_symbol_short_liquidations              0.010525\n",
      "hourly_market-data_liquidations_bitmex_btc_usd_short_liquidations                 0.010525\n",
      "hourly_market-data_liquidations_gate_io_btc_usd_long_liquidations                 0.010161\n",
      "hourly_market-data_liquidations_bybit_btc_usd_short_liquidations                  0.010081\n",
      "hourly_market-data_liquidations_bybit_all_symbol_short_liquidations_usd           0.009855\n",
      "hourly_network-data_block-count_block_count                                       0.009835\n",
      "hourly_network-data_supply_supply_new                                             0.009835\n",
      "hourly_market-data_taker-buy-sell-stats_htx_global_taker_buy_volume               0.009776\n",
      "hourly_market-data_taker-buy-sell-stats_huobi_global_taker_buy_volume             0.009725\n",
      "hourly_network-data_hashrate_hashrate                                             0.009565\n",
      "hourly_market-data_taker-buy-sell-stats_okx_taker_sell_volume                     0.009366\n",
      "hourly_market-data_taker-buy-sell-stats_okx_taker_buy_volume                      0.009276\n",
      "hourly_market-data_liquidations_bybit_btc_usdt_short_liquidations                 0.008985\n",
      "hourly_market-data_liquidations_bybit_btc_usd_short_liquidations_usd              0.008968\n",
      "hourly_market-data_liquidations_htx_global_all_symbol_long_liquidations_usd       0.008675\n",
      "hourly_market-data_liquidations_huobi_global_all_symbol_long_liquidations_usd     0.008637\n",
      "hourly_market-data_liquidations_huobi_global_btc_usd_short_liquidations_usd       0.008549\n",
      "hourly_market-data_liquidations_htx_global_btc_usd_short_liquidations_usd         0.008528\n",
      "hourly_market-data_liquidations_huobi_global_btc_usdt_long_liquidations_usd       0.008111\n",
      "hourly_market-data_liquidations_htx_global_btc_usdt_long_liquidations_usd         0.007986\n",
      "hourly_market-data_taker-buy-sell-stats_bitmex_taker_sell_ratio                   0.007971\n",
      "hourly_market-data_liquidations_huobi_global_btc_usd_short_liquidations           0.007947\n",
      "hourly_market-data_liquidations_htx_global_btc_usd_short_liquidations             0.007928\n",
      "hourly_market-data_liquidations_binance_btc_usd_short_liquidations                0.007901\n",
      "hourly_market-data_taker-buy-sell-stats_bitmex_taker_buy_volume                   0.007510\n",
      "hourly_network-data_blockreward_blockreward                                       0.007315\n",
      "hourly_network-data_addresses-count_addresses_count_sender                        0.007293\n",
      "hourly_network-data_addresses-count_addresses_count_active                        0.006918\n",
      "hourly_market-data_liquidations_bybit_btc_usdt_short_liquidations_usd             0.006768\n",
      "hourly_market-data_liquidations_bybit_btc_usd_long_liquidations_usd               0.006694\n",
      "hourly_market-data_liquidations_htx_global_all_symbol_short_liquidations          0.006623\n",
      "hourly_market-data_liquidations_huobi_global_all_symbol_short_liquidations        0.006592\n",
      "hourly_market-data_liquidations_huobi_global_btc_usd_long_liquidations_usd        0.006325\n",
      "hourly_market-data_liquidations_bitmex_all_symbol_long_liquidations_usd           0.006309\n",
      "hourly_market-data_liquidations_bitmex_btc_usd_long_liquidations_usd              0.006309\n",
      "hourly_market-data_liquidations_htx_global_btc_usd_long_liquidations_usd          0.006290\n",
      "hourly_network-data_block-bytes_block_bytes                                       0.006289\n",
      "hourly_market-data_liquidations_binance_btc_usd_short_liquidations_usd            0.006262\n",
      "hourly_market-data_liquidations_bitmex_all_symbol_long_liquidations               0.006133\n",
      "hourly_market-data_liquidations_bitmex_btc_usd_long_liquidations                  0.006133\n",
      "hourly_market-data_open-interest_bitmex_all_symbol_open_interest                  0.005695\n",
      "hourly_market-data_open-interest_bitmex_btc_usd_open_interest                     0.005695\n",
      "hourly_market-data_open-interest_deribit_btc_usd_open_interest                    0.005393\n",
      "hourly_market-data_open-interest_deribit_all_symbol_open_interest                 0.005393\n",
      "hourly_market-data_liquidations_gate_io_all_symbol_long_liquidations_usd          0.005284\n",
      "hourly_market-data_taker-buy-sell-stats_all_exchange_taker_buy_volume             0.005169\n",
      "hourly_network-data_tokens-transferred_tokens_transferred_median                  0.004846\n",
      "hourly_market-data_liquidations_huobi_global_btc_usdt_short_liquidations          0.004814\n",
      "hourly_market-data_taker-buy-sell-stats_okx_taker_sell_ratio                      0.004731\n",
      "hourly_market-data_liquidations_htx_global_btc_usdt_short_liquidations            0.004715\n",
      "hourly_market-data_taker-buy-sell-stats_binance_taker_buy_volume                  0.004517\n",
      "hourly_market-data_liquidations_bybit_btc_usd_long_liquidations                   0.004511\n",
      "hourly_market-data_taker-buy-sell-stats_bybit_taker_sell_volume                   0.004508\n",
      "hourly_market-data_liquidations_gate_io_btc_usdt_long_liquidations_usd            0.004505\n",
      "hourly_market-data_liquidations_huobi_global_btc_usd_long_liquidations            0.004369\n",
      "hourly_market-data_liquidations_htx_global_btc_usd_long_liquidations              0.004336\n",
      "hourly_market-data_liquidations_bybit_all_symbol_long_liquidations_usd            0.004303\n",
      "hourly_network-data_addresses-count_addresses_count_receiver                      0.004184\n",
      "hourly_network-data_transactions-count_transactions_count_total                   0.003834\n",
      "hourly_market-data_liquidations_bybit_all_symbol_long_liquidations                0.003763\n",
      "hourly_market-data_liquidations_htx_global_all_symbol_short_liquidations_usd      0.003731\n",
      "hourly_network-data_blockreward_blockreward_usd                                   0.003726\n",
      "hourly_market-data_liquidations_huobi_global_all_symbol_short_liquidations_usd    0.003700\n",
      "hourly_market-data_open-interest_gate_io_btc_usdt_open_interest                   0.003463\n",
      "hourly_market-data_taker-buy-sell-stats_bybit_taker_buy_sell_ratio                0.003337\n",
      "hourly_market-data_liquidations_all_exchange_all_symbol_short_liquidations        0.003315\n",
      "hourly_market-data_liquidations_okx_btc_usd_long_liquidations_usd                 0.003053\n",
      "hourly_market-data_taker-buy-sell-stats_bybit_taker_buy_volume                    0.002900\n",
      "hourly_market-data_taker-buy-sell-stats_huobi_global_taker_sell_ratio             0.002769\n",
      "hourly_market-data_liquidations_okx_btc_usd_long_liquidations                     0.002665\n",
      "hourly_market-data_taker-buy-sell-stats_htx_global_taker_sell_ratio               0.002626\n",
      "hourly_market-data_taker-buy-sell-stats_deribit_taker_sell_ratio                  0.002078\n",
      "hourly_market-data_liquidations_huobi_global_btc_usdt_short_liquidations_usd      0.001843\n",
      "hourly_market-data_open-interest_gate_io_all_symbol_open_interest                 0.001779\n",
      "hourly_market-data_liquidations_htx_global_btc_usdt_short_liquidations_usd        0.001750\n",
      "hourly_network-data_supply_supply_total                                           0.001311\n",
      "hourly_network-data_fees-transaction_fees_transaction_median_usd                  0.001248\n",
      "hourly_network-data_difficulty_difficulty                                         0.001043\n",
      "hourly_market-data_liquidations_bybit_btc_usdt_long_liquidations                  0.000977\n",
      "hourly_network-data_utxo-count_utxo_count                                         0.000958\n",
      "hourly_network-data_fees-transaction_fees_transaction_median                      0.000703\n",
      "hourly_market-data_taker-buy-sell-stats_bitmex_taker_buy_sell_ratio               0.000616\n",
      "hourly_market-data_taker-buy-sell-stats_bybit_taker_buy_ratio                     0.000388\n",
      "hourly_network-data_velocity_velocity_supply_total                                0.000363\n",
      "hourly_market-data_liquidations_binance_all_symbol_short_liquidations             0.000328\n",
      "hourly_market-data_liquidations_all_exchange_all_symbol_short_liquidations_usd    0.000275\n",
      "hourly_market-data_liquidations_binance_btc_usdt_short_liquidations              -0.000409\n",
      "hourly_market-data_liquidations_gate_io_btc_usdt_short_liquidations              -0.000676\n",
      "hourly_market-data_open-interest_okx_btc_usd_open_interest                       -0.000745\n",
      "hourly_market-data_liquidations_gate_io_all_symbol_short_liquidations            -0.000775\n",
      "hourly_market-data_liquidations_okx_btc_usd_short_liquidations                   -0.000797\n",
      "hourly_market-data_liquidations_bybit_btc_usdt_long_liquidations_usd             -0.000875\n",
      "hourly_market-data_liquidations_okx_btc_usd_short_liquidations_usd               -0.000948\n",
      "hourly_network-data_tokens-transferred_tokens_transferred_total                  -0.001346\n",
      "hourly_market-data_taker-buy-sell-stats_bybit_taker_sell_ratio                   -0.001427\n",
      "hourly_network-data_fees_fees_reward_percent                                     -0.001809\n",
      "hourly_market-data_liquidations_gate_io_btc_usd_short_liquidations               -0.001824\n",
      "hourly_market-data_taker-buy-sell-stats_deribit_taker_buy_ratio                  -0.002078\n",
      "hourly_market-data_liquidations_binance_btc_busd_short_liquidations              -0.002378\n",
      "hourly_market-data_taker-buy-sell-stats_htx_global_taker_buy_ratio               -0.002633\n",
      "hourly_market-data_funding-rates_bitmex_funding_rates                            -0.002705\n",
      "hourly_market-data_taker-buy-sell-stats_huobi_global_taker_buy_ratio             -0.002776\n",
      "hourly_market-data_taker-buy-sell-stats_okx_taker_buy_sell_ratio                 -0.002835\n",
      "hourly_market-data_liquidations_gate_io_btc_usd_short_liquidations_usd           -0.003147\n",
      "hourly_market-data_taker-buy-sell-stats_htx_global_taker_buy_sell_ratio          -0.003860\n",
      "hourly_market-data_taker-buy-sell-stats_huobi_global_taker_buy_sell_ratio        -0.003882\n",
      "hourly_market-data_liquidations_gate_io_btc_usdt_short_liquidations_usd          -0.004126\n",
      "hourly_market-data_liquidations_gate_io_all_symbol_short_liquidations_usd        -0.004271\n",
      "hourly_market-data_liquidations_binance_all_symbol_short_liquidations_usd        -0.004339\n",
      "hourly_market-data_taker-buy-sell-stats_deribit_taker_buy_sell_ratio             -0.004438\n",
      "hourly_market-data_liquidations_binance_btc_usdt_short_liquidations_usd          -0.004607\n",
      "hourly_market-data_taker-buy-sell-stats_okx_taker_buy_ratio                      -0.004731\n",
      "hourly_network-data_transactions-count_transactions_count_mean                   -0.004742\n",
      "hourly_market-data_liquidations_bitfinex_all_symbol_short_liquidations           -0.004744\n",
      "hourly_market-data_liquidations_bitfinex_btc_usdt_short_liquidations             -0.004744\n",
      "hourly_market-data_open-interest_huobi_global_btc_usd_open_interest              -0.005131\n",
      "hourly_market-data_liquidations_binance_btc_busd_short_liquidations_usd          -0.005189\n",
      "hourly_network-data_fees-transaction_fees_transaction_mean                       -0.005281\n",
      "hourly_market-data_open-interest_htx_global_btc_usd_open_interest                -0.005291\n",
      "hourly_network-data_fees_fees_total_usd                                          -0.005371\n",
      "hourly_network-data_fees-transaction_fees_transaction_mean_usd                   -0.005483\n",
      "hourly_market-data_liquidations_okx_all_symbol_short_liquidations                -0.006053\n",
      "hourly_market-data_open-interest_bybit_btc_usdt_open_interest                    -0.006212\n",
      "hourly_network-data_fees_fees_block_mean_usd                                     -0.006283\n",
      "hourly_market-data_liquidations_bitfinex_btc_usdt_short_liquidations_usd         -0.006327\n",
      "hourly_market-data_liquidations_bitfinex_all_symbol_short_liquidations_usd       -0.006327\n",
      "hourly_network-data_fees_fees_total                                              -0.006740\n",
      "hourly_market-data_funding-rates_okx_funding_rates                               -0.006744\n",
      "hourly_market-data_open-interest_bitfinex_all_symbol_open_interest               -0.006813\n",
      "hourly_market-data_open-interest_gate_io_btc_usd_open_interest                   -0.007254\n",
      "hourly_network-data_fees_fees_block_mean                                         -0.007291\n",
      "hourly_market-data_open-interest_bitfinex_btc_usdt_open_interest                 -0.007341\n",
      "hourly_market-data_funding-rates_huobi_global_funding_rates                      -0.007744\n",
      "hourly_market-data_open-interest_okx_all_symbol_open_interest                    -0.007764\n",
      "hourly_market-data_open-interest_bybit_all_symbol_open_interest                  -0.007819\n",
      "hourly_market-data_taker-buy-sell-stats_bitmex_taker_buy_ratio                   -0.007848\n",
      "hourly_market-data_funding-rates_htx_global_funding_rates                        -0.007853\n",
      "hourly_market-data_liquidations_okx_btc_usdt_short_liquidations                  -0.008038\n",
      "hourly_market-data_open-interest_binance_btc_busd_open_interest                  -0.008168\n",
      "hourly_market-data_open-interest_okx_btc_usdt_open_interest                      -0.008403\n",
      "hourly_market-data_liquidations_okx_all_symbol_short_liquidations_usd            -0.008704\n",
      "hourly_market-data_open-interest_huobi_global_btc_usdt_open_interest             -0.009065\n",
      "hourly_market-data_open-interest_htx_global_btc_usdt_open_interest               -0.009522\n",
      "hourly_market-data_open-interest_kraken_btc_usd_open_interest                    -0.009998\n",
      "hourly_market-data_open-interest_kraken_all_symbol_open_interest                 -0.009998\n",
      "hourly_market-data_open-interest_all_exchange_all_symbol_open_interest           -0.010089\n",
      "hourly_market-data_open-interest_htx_global_all_symbol_open_interest             -0.010369\n",
      "hourly_market-data_open-interest_huobi_global_all_symbol_open_interest           -0.010615\n",
      "hourly_market-data_liquidations_okx_btc_usdt_short_liquidations_usd              -0.010920\n",
      "hourly_market-data_open-interest_binance_btc_usdt_open_interest                  -0.013053\n",
      "hourly_network-data_tokens-transferred_tokens_transferred_mean                   -0.013372\n",
      "hourly_market-data_price-ohlcv_all_exchange_spot_btc_usd_close                   -0.014215\n",
      "hourly_market-data_open-interest_binance_btc_usd_open_interest                   -0.014332\n",
      "hourly_market-data_open-interest_binance_all_symbol_open_interest                -0.016324\n",
      "hourly_network-data_block-interval_block_interval                                -0.017147\n",
      "hourly_market-data_funding-rates_all_exchange_funding_rates                      -0.017460\n",
      "hourly_market-data_funding-rates_deribit_funding_rates                           -0.019531\n",
      "hourly_market-data_open-interest_bybit_btc_usd_open_interest                     -0.020134\n",
      "hourly_market-data_funding-rates_binance_funding_rates                           -0.022517\n",
      "hourly_market-data_taker-buy-sell-stats_all_exchange_taker_buy_ratio             -0.025787\n",
      "hourly_market-data_funding-rates_bybit_funding_rates                             -0.026326\n",
      "hourly_market-data_taker-buy-sell-stats_all_exchange_taker_buy_sell_ratio        -0.026567\n",
      "hourly_market-data_taker-buy-sell-stats_binance_taker_buy_ratio                  -0.029638\n",
      "hourly_market-data_taker-buy-sell-stats_binance_taker_buy_sell_ratio             -0.029950\n",
      "hourly_market-data_funding-rates_okex_funding_rates                                    NaN\n",
      "hourly_market-data_liquidations_okex_btc_usdt_long_liquidations                        NaN\n",
      "hourly_market-data_liquidations_okex_btc_usdt_short_liquidations                       NaN\n",
      "hourly_market-data_liquidations_okex_btc_usdt_long_liquidations_usd                    NaN\n",
      "hourly_market-data_liquidations_okex_btc_usdt_short_liquidations_usd                   NaN\n",
      "hourly_market-data_open-interest_all_exchange_open_interest                            NaN\n",
      "hourly_market-data_open-interest_gate_io_open_interest                                 NaN\n",
      "hourly_market-data_liquidations_okex_btc_usd_long_liquidations                         NaN\n",
      "hourly_market-data_liquidations_okex_btc_usd_short_liquidations                        NaN\n",
      "hourly_market-data_liquidations_okex_btc_usd_long_liquidations_usd                     NaN\n",
      "hourly_market-data_liquidations_okex_btc_usd_short_liquidations_usd                    NaN\n",
      "hourly_market-data_open-interest_bybit_open_interest                                   NaN\n",
      "hourly_market-data_open-interest_deribit_open_interest                                 NaN\n",
      "hourly_market-data_open-interest_binance_open_interest                                 NaN\n",
      "hourly_market-data_open-interest_bitfinex_open_interest                                NaN\n",
      "hourly_market-data_open-interest_ftx_all_symbol_open_interest                          NaN\n",
      "hourly_market-data_open-interest_ftx_btc_usd_open_interest                             NaN\n",
      "hourly_market-data_open-interest_bitmex_open_interest                                  NaN\n",
      "hourly_market-data_open-interest_ftx_open_interest                                     NaN\n",
      "hourly_market-data_liquidations_okex_all_symbol_long_liquidations                      NaN\n",
      "hourly_market-data_liquidations_okex_all_symbol_short_liquidations                     NaN\n",
      "hourly_market-data_liquidations_okex_all_symbol_long_liquidations_usd                  NaN\n",
      "hourly_market-data_liquidations_okex_all_symbol_short_liquidations_usd                 NaN\n",
      "hourly_market-data_liquidations_ftx_btc_usd_long_liquidations                          NaN\n",
      "hourly_market-data_liquidations_ftx_btc_usd_short_liquidations                         NaN\n",
      "hourly_market-data_liquidations_ftx_btc_usd_long_liquidations_usd                      NaN\n",
      "hourly_market-data_liquidations_ftx_btc_usd_short_liquidations_usd                     NaN\n",
      "hourly_market-data_liquidations_ftx_all_symbol_long_liquidations                       NaN\n",
      "hourly_market-data_liquidations_ftx_all_symbol_short_liquidations                      NaN\n",
      "hourly_market-data_liquidations_ftx_all_symbol_long_liquidations_usd                   NaN\n",
      "hourly_market-data_liquidations_ftx_all_symbol_short_liquidations_usd                  NaN\n",
      "hourly_market-data_open-interest_okx_open_interest                                     NaN\n",
      "hourly_market-data_open-interest_huobi_global_open_interest                            NaN\n",
      "hourly_market-data_open-interest_okex_open_interest                                    NaN\n",
      "hourly_market-data_open-interest_kraken_open_interest                                  NaN\n",
      "hourly_market-data_taker-buy-sell-stats_okex_taker_buy_volume                          NaN\n",
      "hourly_market-data_taker-buy-sell-stats_okex_taker_sell_volume                         NaN\n",
      "hourly_market-data_taker-buy-sell-stats_okex_taker_buy_ratio                           NaN\n",
      "hourly_market-data_taker-buy-sell-stats_okex_taker_sell_ratio                          NaN\n",
      "hourly_market-data_taker-buy-sell-stats_okex_taker_buy_sell_ratio                      NaN\n",
      "dtype: float64\n"
     ]
    }
   ],
   "source": [
    "# 수치형 열과 target의 상관관계\n",
    "numerical_cols = df.select_dtypes(include=np.number).columns.tolist()\n",
    "\n",
    "correlation_with_target = df[numerical_cols].corrwith(df['diff_stand'])\n",
    "correlation_with_target_sorted = correlation_with_target.sort_values(ascending=False)\n",
    "\n",
    "pd.set_option('display.max_rows', None)\n",
    "print(correlation_with_target_sorted)\n",
    "pd.reset_option('display.max_rows')"
   ]
  },
  {
   "cell_type": "code",
   "execution_count": 15,
   "metadata": {},
   "outputs": [
    {
     "name": "stdout",
     "output_type": "stream",
     "text": [
      "hourly_network-data_difficulty_difficulty                                         2.063032e+26\n",
      "hourly_network-data_hashrate_hashrate                                             4.246257e+22\n",
      "hourly_market-data_open-interest_all_exchange_all_symbol_open_interest            7.613689e+18\n",
      "hourly_market-data_open-interest_binance_all_symbol_open_interest                 1.337461e+18\n",
      "hourly_market-data_open-interest_bybit_all_symbol_open_interest                   9.071239e+17\n",
      "hourly_market-data_open-interest_binance_btc_usdt_open_interest                   8.241512e+17\n",
      "hourly_market-data_open-interest_bybit_btc_usdt_open_interest                     6.243740e+17\n",
      "hourly_market-data_taker-buy-sell-stats_all_exchange_taker_sell_volume            1.484597e+17\n",
      "hourly_market-data_taker-buy-sell-stats_all_exchange_taker_buy_volume             1.444660e+17\n",
      "hourly_market-data_open-interest_okx_all_symbol_open_interest                     1.380794e+17\n",
      "hourly_market-data_open-interest_binance_btc_usd_open_interest                    1.277969e+17\n",
      "hourly_market-data_taker-buy-sell-stats_binance_taker_sell_volume                 1.119310e+17\n",
      "hourly_market-data_taker-buy-sell-stats_binance_taker_buy_volume                  1.087727e+17\n",
      "hourly_market-data_open-interest_okx_btc_usdt_open_interest                       6.233316e+16\n",
      "hourly_market-data_open-interest_okx_btc_usd_open_interest                        3.410244e+16\n",
      "hourly_market-data_open-interest_bybit_btc_usd_open_interest                      3.001915e+16\n",
      "hourly_market-data_open-interest_gate_io_btc_usdt_open_interest                   2.506211e+16\n",
      "hourly_market-data_open-interest_deribit_all_symbol_open_interest                 2.443197e+16\n",
      "hourly_market-data_open-interest_deribit_btc_usd_open_interest                    2.431739e+16\n",
      "hourly_market-data_open-interest_gate_io_all_symbol_open_interest                 2.184048e+16\n",
      "hourly_market-data_open-interest_binance_btc_busd_open_interest                   8.844463e+15\n",
      "hourly_market-data_open-interest_bitfinex_btc_usdt_open_interest                  5.060276e+15\n",
      "hourly_market-data_open-interest_bitfinex_all_symbol_open_interest                5.059758e+15\n",
      "hourly_market-data_open-interest_bitmex_all_symbol_open_interest                  2.209674e+15\n",
      "hourly_market-data_open-interest_bitmex_btc_usd_open_interest                     2.209387e+15\n",
      "hourly_network-data_utxo-count_utxo_count                                         9.117737e+14\n",
      "hourly_market-data_open-interest_gate_io_btc_usd_open_interest                    5.098199e+14\n",
      "hourly_market-data_taker-buy-sell-stats_okx_taker_sell_volume                     3.389892e+14\n",
      "hourly_market-data_open-interest_huobi_global_all_symbol_open_interest            3.302546e+14\n",
      "hourly_market-data_open-interest_htx_global_all_symbol_open_interest              3.296137e+14\n",
      "hourly_market-data_taker-buy-sell-stats_okx_taker_buy_volume                      3.286916e+14\n",
      "hourly_market-data_open-interest_htx_global_btc_usdt_open_interest                3.053218e+14\n",
      "hourly_market-data_open-interest_huobi_global_btc_usdt_open_interest              3.050457e+14\n",
      "hourly_market-data_taker-buy-sell-stats_bybit_taker_buy_volume                    1.751243e+14\n",
      "hourly_market-data_taker-buy-sell-stats_deribit_taker_sell_volume                 1.650240e+14\n",
      "hourly_market-data_taker-buy-sell-stats_bybit_taker_sell_volume                   1.610611e+14\n",
      "hourly_market-data_taker-buy-sell-stats_deribit_taker_buy_volume                  1.584739e+14\n",
      "hourly_market-data_taker-buy-sell-stats_bitmex_taker_sell_volume                  1.213565e+14\n",
      "hourly_market-data_taker-buy-sell-stats_bitmex_taker_buy_volume                   1.145055e+14\n",
      "hourly_market-data_open-interest_kraken_all_symbol_open_interest                  3.683706e+13\n",
      "hourly_market-data_open-interest_kraken_btc_usd_open_interest                     3.683239e+13\n",
      "hourly_market-data_open-interest_huobi_global_btc_usd_open_interest               1.859487e+13\n",
      "hourly_market-data_open-interest_htx_global_btc_usd_open_interest                 1.858666e+13\n",
      "hourly_market-data_liquidations_all_exchange_all_symbol_long_liquidations_usd     6.684596e+12\n",
      "hourly_market-data_liquidations_all_exchange_all_symbol_short_liquidations_usd    4.665002e+12\n",
      "hourly_market-data_taker-buy-sell-stats_htx_global_taker_sell_volume              2.199920e+12\n",
      "hourly_market-data_taker-buy-sell-stats_huobi_global_taker_sell_volume            2.189942e+12\n",
      "hourly_market-data_taker-buy-sell-stats_htx_global_taker_buy_volume               1.989472e+12\n",
      "hourly_market-data_taker-buy-sell-stats_huobi_global_taker_buy_volume             1.979829e+12\n",
      "hourly_network-data_blockreward_blockreward_usd                                   7.593398e+11\n",
      "hourly_market-data_liquidations_okx_all_symbol_long_liquidations_usd              6.975015e+11\n",
      "hourly_market-data_liquidations_okx_all_symbol_short_liquidations_usd             5.783731e+11\n",
      "hourly_market-data_liquidations_okx_btc_usdt_long_liquidations_usd                5.317185e+11\n",
      "hourly_market-data_liquidations_bitmex_all_symbol_long_liquidations_usd           4.440393e+11\n",
      "hourly_market-data_liquidations_bitmex_btc_usd_long_liquidations_usd              4.430489e+11\n",
      "hourly_market-data_liquidations_okx_btc_usdt_short_liquidations_usd               3.907205e+11\n",
      "hourly_market-data_liquidations_binance_all_symbol_short_liquidations_usd         3.693757e+11\n",
      "hourly_market-data_liquidations_gate_io_all_symbol_long_liquidations_usd          3.640067e+11\n",
      "hourly_market-data_liquidations_gate_io_btc_usdt_long_liquidations_usd            3.431088e+11\n",
      "hourly_market-data_liquidations_binance_btc_usdt_short_liquidations_usd           3.410987e+11\n",
      "hourly_market-data_liquidations_binance_all_symbol_long_liquidations_usd          2.854977e+11\n",
      "hourly_market-data_liquidations_binance_btc_usdt_long_liquidations_usd            2.564140e+11\n",
      "hourly_market-data_liquidations_gate_io_all_symbol_short_liquidations_usd         2.019538e+11\n",
      "hourly_market-data_liquidations_bybit_all_symbol_long_liquidations_usd            2.016863e+11\n",
      "hourly_market-data_liquidations_gate_io_btc_usdt_short_liquidations_usd           1.929778e+11\n",
      "hourly_market-data_liquidations_bybit_all_symbol_short_liquidations_usd           1.373471e+11\n",
      "hourly_market-data_liquidations_bybit_btc_usd_long_liquidations_usd               1.087024e+11\n",
      "hourly_market-data_liquidations_bitmex_all_symbol_short_liquidations_usd          1.078737e+11\n",
      "hourly_market-data_liquidations_bitmex_btc_usd_short_liquidations_usd             1.076329e+11\n",
      "hourly_market-data_liquidations_bitfinex_all_symbol_long_liquidations_usd         1.005045e+11\n",
      "hourly_market-data_liquidations_bitfinex_btc_usdt_long_liquidations_usd           9.924688e+10\n",
      "hourly_market-data_liquidations_huobi_global_all_symbol_short_liquidations_usd    9.402684e+10\n",
      "hourly_market-data_liquidations_htx_global_all_symbol_short_liquidations_usd      9.362624e+10\n",
      "hourly_market-data_liquidations_deribit_all_symbol_long_liquidations_usd          9.206139e+10\n",
      "hourly_market-data_liquidations_deribit_btc_usd_long_liquidations_usd             9.203748e+10\n",
      "hourly_network-data_block-bytes_block_bytes                                       8.491212e+10\n",
      "hourly_market-data_liquidations_huobi_global_btc_usdt_short_liquidations_usd      8.368665e+10\n",
      "hourly_market-data_liquidations_htx_global_btc_usdt_short_liquidations_usd        8.347810e+10\n",
      "hourly_market-data_liquidations_huobi_global_all_symbol_long_liquidations_usd     7.883644e+10\n",
      "hourly_market-data_liquidations_htx_global_all_symbol_long_liquidations_usd       7.853613e+10\n",
      "hourly_market-data_liquidations_okx_btc_usd_long_liquidations_usd                 6.876310e+10\n",
      "hourly_network-data_fees_fees_total_usd                                           6.614724e+10\n",
      "hourly_market-data_liquidations_bybit_btc_usdt_short_liquidations_usd             5.951191e+10\n",
      "hourly_market-data_liquidations_okx_btc_usd_short_liquidations_usd                5.900171e+10\n",
      "hourly_market-data_liquidations_deribit_all_symbol_short_liquidations_usd         5.783933e+10\n",
      "hourly_market-data_liquidations_deribit_btc_usd_short_liquidations_usd            5.782432e+10\n",
      "hourly_market-data_liquidations_huobi_global_btc_usdt_long_liquidations_usd       5.643307e+10\n",
      "hourly_market-data_liquidations_htx_global_btc_usdt_long_liquidations_usd         5.633304e+10\n",
      "hourly_market-data_liquidations_bybit_btc_usd_short_liquidations_usd              5.079399e+10\n",
      "hourly_market-data_liquidations_bybit_btc_usdt_long_liquidations_usd              4.799391e+10\n",
      "hourly_market-data_liquidations_bitfinex_all_symbol_short_liquidations_usd        2.591054e+10\n",
      "hourly_market-data_liquidations_bitfinex_btc_usdt_short_liquidations_usd          2.558047e+10\n",
      "hourly_network-data_supply_supply_total                                           1.627940e+10\n",
      "hourly_market-data_liquidations_huobi_global_btc_usd_long_liquidations_usd        9.719097e+09\n",
      "hourly_market-data_liquidations_htx_global_btc_usd_long_liquidations_usd          9.689059e+09\n",
      "hourly_market-data_liquidations_binance_btc_busd_long_liquidations_usd            5.980273e+09\n",
      "hourly_market-data_liquidations_binance_btc_busd_short_liquidations_usd           5.400156e+09\n",
      "hourly_market-data_liquidations_huobi_global_btc_usd_short_liquidations_usd       4.257532e+09\n",
      "hourly_market-data_liquidations_htx_global_btc_usd_short_liquidations_usd         4.244433e+09\n",
      "hourly_market-data_liquidations_gate_io_btc_usd_short_liquidations_usd            2.531211e+09\n",
      "hourly_network-data_fees_fees_block_mean_usd                                      1.965617e+09\n",
      "hourly_market-data_liquidations_gate_io_btc_usd_long_liquidations_usd             1.219796e+09\n",
      "hourly_network-data_addresses-count_addresses_count_active                        3.639449e+08\n",
      "hourly_network-data_tokens-transferred_tokens_transferred_total                   3.638552e+08\n",
      "hourly_network-data_addresses-count_addresses_count_sender                        2.027633e+08\n",
      "hourly_network-data_addresses-count_addresses_count_receiver                      9.747247e+07\n",
      "hourly_network-data_transactions-count_transactions_count_total                   8.759269e+07\n",
      "hourly_market-data_price-ohlcv_all_exchange_spot_btc_usd_volume                   5.797372e+07\n",
      "hourly_market-data_price-ohlcv_all_exchange_spot_btc_usd_close                    3.464196e+07\n",
      "hourly_market-data_liquidations_binance_btc_usd_short_liquidations_usd            4.951722e+06\n",
      "hourly_market-data_liquidations_binance_btc_usd_long_liquidations_usd             3.652717e+06\n",
      "hourly_network-data_transactions-count_transactions_count_mean                    8.098281e+05\n",
      "hourly_network-data_block-interval_block_interval                                 1.646815e+05\n",
      "spot_closed_difference                                                            3.483252e+04\n",
      "hourly_market-data_liquidations_all_exchange_all_symbol_long_liquidations         5.970209e+03\n",
      "hourly_market-data_liquidations_all_exchange_all_symbol_short_liquidations        5.215947e+03\n",
      "hourly_market-data_coinbase-premium-index_coinbase_premium_gap                    8.885444e+02\n",
      "hourly_market-data_liquidations_okx_all_symbol_short_liquidations                 7.712711e+02\n",
      "hourly_market-data_liquidations_okx_all_symbol_long_liquidations                  5.995620e+02\n",
      "hourly_market-data_liquidations_bitmex_all_symbol_long_liquidations               5.305214e+02\n",
      "hourly_market-data_liquidations_bitmex_btc_usd_long_liquidations                  5.293332e+02\n",
      "hourly_market-data_liquidations_okx_btc_usdt_long_liquidations                    4.731157e+02\n",
      "hourly_market-data_liquidations_okx_btc_usdt_short_liquidations                   4.174246e+02\n",
      "hourly_network-data_blockreward_blockreward                                       2.859803e+02\n",
      "hourly_network-data_velocity_velocity_supply_total                                2.681237e+02\n",
      "hourly_market-data_liquidations_binance_all_symbol_short_liquidations             2.473384e+02\n",
      "hourly_network-data_supply_supply_new                                             2.447883e+02\n",
      "hourly_market-data_liquidations_gate_io_all_symbol_long_liquidations              2.418048e+02\n",
      "hourly_market-data_liquidations_gate_io_btc_usdt_long_liquidations                2.271002e+02\n",
      "hourly_market-data_liquidations_binance_all_symbol_long_liquidations              2.270995e+02\n",
      "hourly_market-data_liquidations_gate_io_all_symbol_short_liquidations             2.148535e+02\n",
      "hourly_market-data_liquidations_gate_io_btc_usdt_short_liquidations               2.077948e+02\n",
      "hourly_market-data_liquidations_binance_btc_usdt_short_liquidations               2.036975e+02\n",
      "hourly_market-data_liquidations_binance_btc_usdt_long_liquidations                1.827536e+02\n",
      "hourly_market-data_liquidations_bybit_all_symbol_long_liquidations                1.591134e+02\n",
      "hourly_market-data_liquidations_deribit_all_symbol_long_liquidations              1.388223e+02\n",
      "hourly_market-data_liquidations_deribit_btc_usd_long_liquidations                 1.387862e+02\n",
      "hourly_market-data_liquidations_okx_btc_usd_short_liquidations                    1.185278e+02\n",
      "hourly_market-data_liquidations_bybit_all_symbol_short_liquidations               1.184666e+02\n",
      "hourly_market-data_liquidations_bitmex_all_symbol_short_liquidations              1.168119e+02\n",
      "hourly_market-data_liquidations_bitmex_btc_usd_short_liquidations                 1.165508e+02\n",
      "hourly_network-data_fees-transaction_fees_transaction_mean_usd                    1.165113e+02\n",
      "hourly_market-data_liquidations_deribit_all_symbol_short_liquidations             8.205041e+01\n",
      "hourly_market-data_liquidations_deribit_btc_usd_short_liquidations                8.202911e+01\n",
      "hourly_market-data_liquidations_huobi_global_all_symbol_short_liquidations        7.962998e+01\n",
      "hourly_market-data_liquidations_htx_global_all_symbol_short_liquidations          7.917851e+01\n",
      "hourly_market-data_liquidations_bybit_btc_usd_long_liquidations                   7.797784e+01\n",
      "hourly_market-data_liquidations_huobi_global_all_symbol_long_liquidations         6.711021e+01\n",
      "hourly_market-data_liquidations_htx_global_all_symbol_long_liquidations           6.673961e+01\n",
      "hourly_market-data_liquidations_huobi_global_btc_usdt_short_liquidations          6.499702e+01\n",
      "hourly_market-data_liquidations_htx_global_btc_usdt_short_liquidations            6.481041e+01\n",
      "hourly_market-data_liquidations_huobi_global_btc_usdt_long_liquidations           4.684490e+01\n",
      "hourly_market-data_liquidations_bybit_btc_usdt_short_liquidations                 4.682839e+01\n",
      "hourly_market-data_liquidations_htx_global_btc_usdt_long_liquidations             4.672100e+01\n",
      "hourly_market-data_liquidations_bybit_btc_usd_short_liquidations                  4.566759e+01\n",
      "hourly_market-data_taker-buy-sell-stats_huobi_global_taker_buy_sell_ratio         4.464794e+01\n",
      "hourly_market-data_liquidations_bybit_btc_usdt_long_liquidations                  4.459069e+01\n",
      "hourly_market-data_taker-buy-sell-stats_htx_global_taker_buy_sell_ratio           4.454579e+01\n",
      "hourly_market-data_liquidations_bitfinex_all_symbol_long_liquidations             4.374202e+01\n",
      "hourly_market-data_liquidations_bitfinex_btc_usdt_long_liquidations               4.319030e+01\n",
      "hourly_network-data_fees-transaction_fees_transaction_median_usd                  3.850084e+01\n",
      "hourly_market-data_liquidations_okx_btc_usd_long_liquidations                     3.840362e+01\n",
      "hourly_market-data_liquidations_bitfinex_all_symbol_short_liquidations            3.168686e+01\n",
      "hourly_market-data_liquidations_bitfinex_btc_usdt_short_liquidations              3.128296e+01\n",
      "hourly_network-data_fees_fees_total                                               2.540550e+01\n",
      "hourly_market-data_taker-buy-sell-stats_bitmex_taker_buy_sell_ratio               9.636977e+00\n",
      "hourly_market-data_liquidations_binance_btc_busd_long_liquidations                9.288032e+00\n",
      "hourly_market-data_liquidations_binance_btc_busd_short_liquidations               8.403776e+00\n",
      "hourly_market-data_liquidations_huobi_global_btc_usd_long_liquidations            8.076333e+00\n",
      "hourly_market-data_liquidations_htx_global_btc_usd_long_liquidations              8.051348e+00\n",
      "hourly_market-data_liquidations_huobi_global_btc_usd_short_liquidations           6.480278e+00\n",
      "hourly_market-data_liquidations_htx_global_btc_usd_short_liquidations             6.460149e+00\n",
      "hourly_network-data_block-count_block_count                                       6.223609e+00\n",
      "hourly_market-data_taker-buy-sell-stats_deribit_taker_buy_sell_ratio              3.749988e+00\n",
      "hourly_network-data_tokens-transferred_tokens_transferred_mean                    2.700816e+00\n",
      "hourly_market-data_liquidations_gate_io_btc_usd_short_liquidations                1.429402e+00\n",
      "hourly_market-data_liquidations_gate_io_btc_usd_long_liquidations                 1.143763e+00\n",
      "diff_stand                                                                        1.000114e+00\n",
      "hourly_network-data_fees_fees_block_mean                                          8.063136e-01\n",
      "hourly_market-data_taker-buy-sell-stats_bybit_taker_buy_sell_ratio                7.588616e-01\n",
      "target                                                                            6.024707e-01\n",
      "spot_closed_percent                                                               3.062330e-01\n",
      "hourly_market-data_taker-buy-sell-stats_okx_taker_buy_sell_ratio                  2.895217e-01\n",
      "hourly_market-data_taker-buy-sell-stats_all_exchange_taker_buy_sell_ratio         3.469281e-02\n",
      "hourly_market-data_taker-buy-sell-stats_binance_taker_buy_sell_ratio              3.248980e-02\n",
      "hourly_market-data_taker-buy-sell-stats_htx_global_taker_buy_ratio                2.939673e-02\n",
      "hourly_market-data_taker-buy-sell-stats_htx_global_taker_sell_ratio               2.939611e-02\n",
      "hourly_market-data_taker-buy-sell-stats_huobi_global_taker_buy_ratio              2.939062e-02\n",
      "hourly_market-data_taker-buy-sell-stats_huobi_global_taker_sell_ratio             2.938998e-02\n",
      "hourly_market-data_taker-buy-sell-stats_bybit_taker_buy_ratio                     1.343787e-02\n",
      "hourly_market-data_taker-buy-sell-stats_bybit_taker_sell_ratio                    1.341685e-02\n",
      "hourly_market-data_taker-buy-sell-stats_deribit_taker_sell_ratio                  1.303879e-02\n",
      "hourly_market-data_taker-buy-sell-stats_deribit_taker_buy_ratio                   1.303853e-02\n",
      "hourly_market-data_taker-buy-sell-stats_bitmex_taker_buy_ratio                    1.004075e-02\n",
      "hourly_market-data_taker-buy-sell-stats_bitmex_taker_sell_ratio                   1.004009e-02\n",
      "hourly_market-data_coinbase-premium-index_coinbase_premium_index                  9.357366e-03\n",
      "hourly_market-data_taker-buy-sell-stats_okx_taker_sell_ratio                      8.170203e-03\n",
      "hourly_market-data_taker-buy-sell-stats_okx_taker_buy_ratio                       8.170203e-03\n",
      "hourly_network-data_fees_fees_reward_percent                                      6.659799e-03\n",
      "hourly_market-data_liquidations_binance_btc_usd_long_liquidations                 2.655947e-03\n",
      "hourly_market-data_taker-buy-sell-stats_all_exchange_taker_sell_ratio             2.023698e-03\n",
      "hourly_market-data_taker-buy-sell-stats_all_exchange_taker_buy_ratio              2.023698e-03\n",
      "hourly_market-data_taker-buy-sell-stats_binance_taker_sell_ratio                  1.918847e-03\n",
      "hourly_market-data_taker-buy-sell-stats_binance_taker_buy_ratio                   1.918847e-03\n",
      "hourly_market-data_liquidations_binance_btc_usd_short_liquidations                1.872738e-03\n",
      "hourly_market-data_funding-rates_huobi_global_funding_rates                       6.299199e-04\n",
      "hourly_market-data_funding-rates_htx_global_funding_rates                         6.295605e-04\n",
      "hourly_market-data_funding-rates_okx_funding_rates                                4.251745e-04\n",
      "hourly_market-data_funding-rates_bitmex_funding_rates                             3.473948e-04\n",
      "hourly_network-data_tokens-transferred_tokens_transferred_median                  2.781814e-04\n",
      "hourly_market-data_funding-rates_deribit_funding_rates                            2.776275e-04\n",
      "hourly_market-data_funding-rates_bybit_funding_rates                              2.638274e-04\n",
      "hourly_market-data_funding-rates_all_exchange_funding_rates                       1.944198e-04\n",
      "hourly_market-data_funding-rates_binance_funding_rates                            1.381265e-04\n",
      "hourly_network-data_fees-transaction_fees_transaction_mean                        5.285987e-08\n",
      "hourly_network-data_fees-transaction_fees_transaction_median                      1.440420e-08\n",
      "hourly_market-data_funding-rates_okex_funding_rates                                        NaN\n",
      "hourly_market-data_liquidations_okex_btc_usdt_long_liquidations                            NaN\n",
      "hourly_market-data_liquidations_okex_btc_usdt_short_liquidations                           NaN\n",
      "hourly_market-data_liquidations_okex_btc_usdt_long_liquidations_usd                        NaN\n",
      "hourly_market-data_liquidations_okex_btc_usdt_short_liquidations_usd                       NaN\n",
      "hourly_market-data_open-interest_all_exchange_open_interest                                NaN\n",
      "hourly_market-data_open-interest_gate_io_open_interest                                     NaN\n",
      "hourly_market-data_liquidations_okex_btc_usd_long_liquidations                             NaN\n",
      "hourly_market-data_liquidations_okex_btc_usd_short_liquidations                            NaN\n",
      "hourly_market-data_liquidations_okex_btc_usd_long_liquidations_usd                         NaN\n",
      "hourly_market-data_liquidations_okex_btc_usd_short_liquidations_usd                        NaN\n",
      "hourly_market-data_open-interest_bybit_open_interest                                       NaN\n",
      "hourly_market-data_open-interest_deribit_open_interest                                     NaN\n",
      "hourly_market-data_open-interest_binance_open_interest                                     NaN\n",
      "hourly_market-data_open-interest_bitfinex_open_interest                                    NaN\n",
      "hourly_market-data_open-interest_ftx_all_symbol_open_interest                              NaN\n",
      "hourly_market-data_open-interest_ftx_btc_usd_open_interest                                 NaN\n",
      "hourly_market-data_open-interest_bitmex_open_interest                                      NaN\n",
      "hourly_market-data_open-interest_ftx_open_interest                                         NaN\n",
      "hourly_market-data_liquidations_okex_all_symbol_long_liquidations                          NaN\n",
      "hourly_market-data_liquidations_okex_all_symbol_short_liquidations                         NaN\n",
      "hourly_market-data_liquidations_okex_all_symbol_long_liquidations_usd                      NaN\n",
      "hourly_market-data_liquidations_okex_all_symbol_short_liquidations_usd                     NaN\n",
      "hourly_market-data_liquidations_ftx_btc_usd_long_liquidations                              NaN\n",
      "hourly_market-data_liquidations_ftx_btc_usd_short_liquidations                             NaN\n",
      "hourly_market-data_liquidations_ftx_btc_usd_long_liquidations_usd                          NaN\n",
      "hourly_market-data_liquidations_ftx_btc_usd_short_liquidations_usd                         NaN\n",
      "hourly_market-data_liquidations_ftx_all_symbol_long_liquidations                           NaN\n",
      "hourly_market-data_liquidations_ftx_all_symbol_short_liquidations                          NaN\n",
      "hourly_market-data_liquidations_ftx_all_symbol_long_liquidations_usd                       NaN\n",
      "hourly_market-data_liquidations_ftx_all_symbol_short_liquidations_usd                      NaN\n",
      "hourly_market-data_open-interest_okx_open_interest                                         NaN\n",
      "hourly_market-data_open-interest_huobi_global_open_interest                                NaN\n",
      "hourly_market-data_open-interest_okex_open_interest                                        NaN\n",
      "hourly_market-data_open-interest_kraken_open_interest                                      NaN\n",
      "hourly_market-data_taker-buy-sell-stats_okex_taker_buy_volume                              NaN\n",
      "hourly_market-data_taker-buy-sell-stats_okex_taker_sell_volume                             NaN\n",
      "hourly_market-data_taker-buy-sell-stats_okex_taker_buy_ratio                               NaN\n",
      "hourly_market-data_taker-buy-sell-stats_okex_taker_sell_ratio                              NaN\n",
      "hourly_market-data_taker-buy-sell-stats_okex_taker_buy_sell_ratio                          NaN\n",
      "dtype: float64\n"
     ]
    }
   ],
   "source": [
    "# df[numerical_cols]의 분산을 계산하고 내림차순으로 정렬하여 출력\n",
    "variances = df[numerical_cols].var().sort_values(ascending=False)\n",
    "pd.set_option('display.max_rows', None)\n",
    "print(variances)\n",
    "pd.reset_option('display.max_rows')"
   ]
  },
  {
   "cell_type": "code",
   "execution_count": 16,
   "metadata": {},
   "outputs": [
    {
     "name": "stdout",
     "output_type": "stream",
     "text": [
      "Index(['ID', 'target',\n",
      "       'hourly_market-data_price-ohlcv_all_exchange_spot_btc_usd_close',\n",
      "       'spot_closed_difference', 'spot_closed_percent',\n",
      "       'hourly_network-data_hashrate_hashrate',\n",
      "       'hourly_market-data_taker-buy-sell-stats_all_exchange_taker_buy_sell_ratio',\n",
      "       'hourly_market-data_taker-buy-sell-stats_all_exchange_taker_sell_volume',\n",
      "       'hourly_market-data_taker-buy-sell-stats_all_exchange_taker_buy_volume',\n",
      "       'hourly_market-data_open-interest_all_exchange_all_symbol_open_interest',\n",
      "       'hourly_market-data_liquidations_all_exchange_all_symbol_long_liquidations',\n",
      "       'hourly_market-data_liquidations_all_exchange_all_symbol_short_liquidations',\n",
      "       'hourly_market-data_coinbase-premium-index_coinbase_premium_index',\n",
      "       'hourly_market-data_funding-rates_all_exchange_funding_rates'],\n",
      "      dtype='object')\n"
     ]
    }
   ],
   "source": [
    "eda_columns = [\n",
    "    'ID', 'target', 'hourly_market-data_price-ohlcv_all_exchange_spot_btc_usd_close', \n",
    "    'spot_closed_difference', 'spot_closed_percent', \n",
    "    'hourly_network-data_hashrate_hashrate', \n",
    "    'hourly_market-data_taker-buy-sell-stats_all_exchange_taker_buy_sell_ratio', \n",
    "    'hourly_market-data_taker-buy-sell-stats_all_exchange_taker_sell_volume', \n",
    "    'hourly_market-data_taker-buy-sell-stats_all_exchange_taker_buy_volume', \n",
    "    'hourly_market-data_open-interest_all_exchange_all_symbol_open_interest', \n",
    "    'hourly_market-data_liquidations_all_exchange_all_symbol_long_liquidations', \n",
    "    'hourly_market-data_liquidations_all_exchange_all_symbol_short_liquidations', \n",
    "    'hourly_market-data_coinbase-premium-index_coinbase_premium_index', \n",
    "    'hourly_market-data_funding-rates_all_exchange_funding_rates'\n",
    "]\n",
    "\n",
    "eda_df = df[eda_columns]\n",
    "\n",
    "print(eda_df.columns)"
   ]
  },
  {
   "cell_type": "code",
   "execution_count": 17,
   "metadata": {},
   "outputs": [
    {
     "data": {
      "text/html": [
       "<div>\n",
       "<style scoped>\n",
       "    .dataframe tbody tr th:only-of-type {\n",
       "        vertical-align: middle;\n",
       "    }\n",
       "\n",
       "    .dataframe tbody tr th {\n",
       "        vertical-align: top;\n",
       "    }\n",
       "\n",
       "    .dataframe thead th {\n",
       "        text-align: right;\n",
       "    }\n",
       "</style>\n",
       "<table border=\"1\" class=\"dataframe\">\n",
       "  <thead>\n",
       "    <tr style=\"text-align: right;\">\n",
       "      <th></th>\n",
       "      <th>ID</th>\n",
       "      <th>target</th>\n",
       "      <th>price</th>\n",
       "      <th>difference</th>\n",
       "      <th>percent</th>\n",
       "      <th>hashrate</th>\n",
       "      <th>taker_buy_sell_ratio</th>\n",
       "      <th>taker_sell_volume</th>\n",
       "      <th>taker_buy_volume</th>\n",
       "      <th>open_interest</th>\n",
       "      <th>long_liquidations</th>\n",
       "      <th>short_liquidations</th>\n",
       "      <th>coinbase_premium_index</th>\n",
       "      <th>funding_rates</th>\n",
       "    </tr>\n",
       "  </thead>\n",
       "  <tbody>\n",
       "    <tr>\n",
       "      <th>0</th>\n",
       "      <td>2023-01-01 00:00:00</td>\n",
       "      <td>2.0</td>\n",
       "      <td>16536.747967</td>\n",
       "      <td>20.388568</td>\n",
       "      <td>0.123292</td>\n",
       "      <td>5.062917e+11</td>\n",
       "      <td>0.904774</td>\n",
       "      <td>5.137537e+07</td>\n",
       "      <td>4.648309e+07</td>\n",
       "      <td>6.271344e+09</td>\n",
       "      <td>0.012</td>\n",
       "      <td>0.000</td>\n",
       "      <td>-0.059650</td>\n",
       "      <td>0.005049</td>\n",
       "    </tr>\n",
       "    <tr>\n",
       "      <th>1</th>\n",
       "      <td>2023-01-01 01:00:00</td>\n",
       "      <td>1.0</td>\n",
       "      <td>16557.136536</td>\n",
       "      <td>-8.986731</td>\n",
       "      <td>-0.054277</td>\n",
       "      <td>1.687639e+11</td>\n",
       "      <td>1.655721</td>\n",
       "      <td>2.401129e+07</td>\n",
       "      <td>3.975599e+07</td>\n",
       "      <td>6.288683e+09</td>\n",
       "      <td>0.000</td>\n",
       "      <td>0.712</td>\n",
       "      <td>-0.053047</td>\n",
       "      <td>0.005049</td>\n",
       "    </tr>\n",
       "    <tr>\n",
       "      <th>2</th>\n",
       "      <td>2023-01-01 02:00:00</td>\n",
       "      <td>1.0</td>\n",
       "      <td>16548.149805</td>\n",
       "      <td>-14.516930</td>\n",
       "      <td>-0.087725</td>\n",
       "      <td>3.375278e+11</td>\n",
       "      <td>1.027512</td>\n",
       "      <td>2.340995e+07</td>\n",
       "      <td>2.405402e+07</td>\n",
       "      <td>6.286796e+09</td>\n",
       "      <td>0.000</td>\n",
       "      <td>0.000</td>\n",
       "      <td>-0.057952</td>\n",
       "      <td>0.005049</td>\n",
       "    </tr>\n",
       "    <tr>\n",
       "      <th>3</th>\n",
       "      <td>2023-01-01 03:00:00</td>\n",
       "      <td>1.0</td>\n",
       "      <td>16533.632875</td>\n",
       "      <td>-8.920715</td>\n",
       "      <td>-0.053955</td>\n",
       "      <td>2.109549e+11</td>\n",
       "      <td>0.874477</td>\n",
       "      <td>3.270773e+07</td>\n",
       "      <td>2.860215e+07</td>\n",
       "      <td>6.284575e+09</td>\n",
       "      <td>0.593</td>\n",
       "      <td>0.000</td>\n",
       "      <td>-0.058912</td>\n",
       "      <td>0.005067</td>\n",
       "    </tr>\n",
       "    <tr>\n",
       "      <th>4</th>\n",
       "      <td>2023-01-01 04:00:00</td>\n",
       "      <td>2.0</td>\n",
       "      <td>16524.712159</td>\n",
       "      <td>4.695906</td>\n",
       "      <td>0.028417</td>\n",
       "      <td>2.953368e+11</td>\n",
       "      <td>0.966796</td>\n",
       "      <td>3.193766e+07</td>\n",
       "      <td>3.087720e+07</td>\n",
       "      <td>6.291582e+09</td>\n",
       "      <td>0.361</td>\n",
       "      <td>0.000</td>\n",
       "      <td>-0.061373</td>\n",
       "      <td>0.006210</td>\n",
       "    </tr>\n",
       "  </tbody>\n",
       "</table>\n",
       "</div>"
      ],
      "text/plain": [
       "                    ID  target         price  difference   percent  \\\n",
       "0  2023-01-01 00:00:00     2.0  16536.747967   20.388568  0.123292   \n",
       "1  2023-01-01 01:00:00     1.0  16557.136536   -8.986731 -0.054277   \n",
       "2  2023-01-01 02:00:00     1.0  16548.149805  -14.516930 -0.087725   \n",
       "3  2023-01-01 03:00:00     1.0  16533.632875   -8.920715 -0.053955   \n",
       "4  2023-01-01 04:00:00     2.0  16524.712159    4.695906  0.028417   \n",
       "\n",
       "       hashrate  taker_buy_sell_ratio  taker_sell_volume  taker_buy_volume  \\\n",
       "0  5.062917e+11              0.904774       5.137537e+07      4.648309e+07   \n",
       "1  1.687639e+11              1.655721       2.401129e+07      3.975599e+07   \n",
       "2  3.375278e+11              1.027512       2.340995e+07      2.405402e+07   \n",
       "3  2.109549e+11              0.874477       3.270773e+07      2.860215e+07   \n",
       "4  2.953368e+11              0.966796       3.193766e+07      3.087720e+07   \n",
       "\n",
       "   open_interest  long_liquidations  short_liquidations  \\\n",
       "0   6.271344e+09              0.012               0.000   \n",
       "1   6.288683e+09              0.000               0.712   \n",
       "2   6.286796e+09              0.000               0.000   \n",
       "3   6.284575e+09              0.593               0.000   \n",
       "4   6.291582e+09              0.361               0.000   \n",
       "\n",
       "   coinbase_premium_index  funding_rates  \n",
       "0               -0.059650       0.005049  \n",
       "1               -0.053047       0.005049  \n",
       "2               -0.057952       0.005049  \n",
       "3               -0.058912       0.005067  \n",
       "4               -0.061373       0.006210  "
      ]
     },
     "execution_count": 17,
     "metadata": {},
     "output_type": "execute_result"
    }
   ],
   "source": [
    "cols_dict: Dict[str, str] = {\n",
    "    'ID': 'ID',\n",
    "    'target': 'target',\n",
    "    'hourly_market-data_price-ohlcv_all_exchange_spot_btc_usd_close' : 'price',\n",
    "    'spot_closed_difference' : 'difference', \n",
    "    'spot_closed_percent' : 'percent', \n",
    "    'hourly_network-data_hashrate_hashrate' : 'hashrate', \n",
    "    'hourly_market-data_taker-buy-sell-stats_all_exchange_taker_buy_sell_ratio' : 'taker_buy_sell_ratio', \n",
    "    'hourly_market-data_taker-buy-sell-stats_all_exchange_taker_sell_volume' : 'taker_sell_volume', \n",
    "    'hourly_market-data_taker-buy-sell-stats_all_exchange_taker_buy_volume' : 'taker_buy_volume', \n",
    "    'hourly_market-data_open-interest_all_exchange_all_symbol_open_interest' : 'open_interest', \n",
    "    'hourly_market-data_liquidations_all_exchange_all_symbol_long_liquidations' : 'long_liquidations', \n",
    "    'hourly_market-data_liquidations_all_exchange_all_symbol_short_liquidations' : 'short_liquidations', \n",
    "    'hourly_market-data_coinbase-premium-index_coinbase_premium_index' : 'coinbase_premium_index', \n",
    "    'hourly_market-data_funding-rates_all_exchange_funding_rates' : 'funding_rates'\n",
    "}\n",
    "\n",
    "eda_df = eda_df[list(cols_dict.keys())].rename(cols_dict, axis=1)\n",
    "eda_df.head()\n"
   ]
  },
  {
   "cell_type": "code",
   "execution_count": 18,
   "metadata": {},
   "outputs": [
    {
     "name": "stdout",
     "output_type": "stream",
     "text": [
      "                    ID  hashrate  taker_buy_sell_ratio  open_interest  \\\n",
      "0  2023-01-01 00:00:00  0.389863             -0.552604      -1.268021   \n",
      "1  2023-01-01 01:00:00 -1.248180              3.479284      -1.261736   \n",
      "2  2023-01-01 02:00:00 -0.429158              0.106389      -1.262420   \n",
      "3  2023-01-01 03:00:00 -1.043424             -0.715270      -1.263225   \n",
      "4  2023-01-01 04:00:00 -0.633914             -0.219603      -1.260686   \n",
      "\n",
      "   funding_rates  \n",
      "0      -0.343185  \n",
      "1      -0.343193  \n",
      "2      -0.343247  \n",
      "3      -0.341936  \n",
      "4      -0.259929  \n"
     ]
    }
   ],
   "source": [
    "from sklearn.preprocessing import StandardScaler\n",
    "\n",
    "standard_scaler = StandardScaler()\n",
    "\n",
    "eda_df[['hashrate', 'taker_buy_sell_ratio', 'open_interest', 'funding_rates']] = standard_scaler.fit_transform(\n",
    "    eda_df[['hashrate', 'taker_buy_sell_ratio', 'open_interest', 'funding_rates']]\n",
    ")\n",
    "\n",
    "print(eda_df[['ID', 'hashrate', 'taker_buy_sell_ratio', 'open_interest', 'funding_rates']].head())"
   ]
  },
  {
   "cell_type": "code",
   "execution_count": 19,
   "metadata": {},
   "outputs": [
    {
     "name": "stderr",
     "output_type": "stream",
     "text": [
      "C:\\Users\\shgkd\\AppData\\Local\\Temp\\ipykernel_12700\\3852376547.py:1: FutureWarning: A value is trying to be set on a copy of a DataFrame or Series through chained assignment using an inplace method.\n",
      "The behavior will change in pandas 3.0. This inplace method will never work because the intermediate object on which we are setting values always behaves as a copy.\n",
      "\n",
      "For example, when doing 'df[col].method(value, inplace=True)', try using 'df.method({col: value}, inplace=True)' or df[col] = df[col].method(value) instead, to perform the operation inplace on the original object.\n",
      "\n",
      "\n",
      "  eda_df['coinbase_premium_index'].fillna(0, inplace=True)\n"
     ]
    }
   ],
   "source": [
    "eda_df['coinbase_premium_index'].fillna(0, inplace=True)"
   ]
  },
  {
   "cell_type": "code",
   "execution_count": 20,
   "metadata": {},
   "outputs": [
    {
     "name": "stdout",
     "output_type": "stream",
     "text": [
      "                        ID  target  price  difference  percent  hashrate  \\\n",
      "8760   2024-01-01 00:00:00     NaN    NaN         NaN      0.0 -0.399560   \n",
      "8761   2024-01-01 01:00:00     NaN    NaN         NaN      0.0  2.518812   \n",
      "8762   2024-01-01 02:00:00     NaN    NaN         NaN      0.0  0.851171   \n",
      "8763   2024-01-01 03:00:00     NaN    NaN         NaN      0.0  0.434261   \n",
      "8764   2024-01-01 04:00:00     NaN    NaN         NaN      0.0  1.268081   \n",
      "...                    ...     ...    ...         ...      ...       ...   \n",
      "11547  2024-04-26 03:00:00     NaN    NaN         NaN      0.0 -0.536851   \n",
      "11548  2024-04-26 04:00:00     NaN    NaN         NaN      0.0  0.993500   \n",
      "11549  2024-04-26 05:00:00     NaN    NaN         NaN      0.0  0.993500   \n",
      "11550  2024-04-26 06:00:00     NaN    NaN         NaN      0.0 -0.026734   \n",
      "11551  2024-04-26 07:00:00     NaN    NaN         NaN      NaN -0.536851   \n",
      "\n",
      "       taker_buy_sell_ratio  taker_sell_volume  taker_buy_volume  \\\n",
      "8760               1.481599       1.810520e+08      2.324071e+08   \n",
      "8761               0.672103       2.212781e+08      2.506811e+08   \n",
      "8762              -0.631720       1.210374e+08      1.077279e+08   \n",
      "8763              -1.466392       2.348479e+08      1.725143e+08   \n",
      "8764               0.364918       1.525166e+08      1.640566e+08   \n",
      "...                     ...                ...               ...   \n",
      "11547                   NaN                NaN               NaN   \n",
      "11548                   NaN                NaN               NaN   \n",
      "11549                   NaN                NaN               NaN   \n",
      "11550                   NaN                NaN               NaN   \n",
      "11551                   NaN                NaN               NaN   \n",
      "\n",
      "       open_interest  long_liquidations  short_liquidations  \\\n",
      "8760        0.208581           0.661000           17.251477   \n",
      "8761        0.228917           0.483000           36.152847   \n",
      "8762        0.226848           6.724000            1.623000   \n",
      "8763        0.205662          20.107080            0.071000   \n",
      "8764        0.225437          12.654933            1.651000   \n",
      "...              ...                ...                 ...   \n",
      "11547       1.847776           0.710000            0.243500   \n",
      "11548            NaN           6.577208            0.146000   \n",
      "11549            NaN           1.797163            5.216490   \n",
      "11550            NaN           0.803000            1.656000   \n",
      "11551            NaN           2.360383            3.930057   \n",
      "\n",
      "       coinbase_premium_index  funding_rates  \n",
      "8760                -0.053137       2.326776  \n",
      "8761                -0.044305       2.348395  \n",
      "8762                -0.022968       2.397664  \n",
      "8763                -0.012710       2.445195  \n",
      "8764                -0.024104       2.535676  \n",
      "...                       ...            ...  \n",
      "11547               -0.002376            NaN  \n",
      "11548               -0.018268            NaN  \n",
      "11549                0.002866            NaN  \n",
      "11550               -0.003184            NaN  \n",
      "11551                0.000000            NaN  \n",
      "\n",
      "[2792 rows x 14 columns]\n"
     ]
    }
   ],
   "source": [
    "missing_values_df = eda_df[eda_df.drop(columns=['target', 'difference', 'percent']).isnull().any(axis=1)]\n",
    "print(missing_values_df)"
   ]
  },
  {
   "cell_type": "code",
   "execution_count": 21,
   "metadata": {},
   "outputs": [
    {
     "data": {
      "application/vnd.plotly.v1+json": {
       "config": {
        "plotlyServerURL": "https://plot.ly"
       },
       "data": [
        {
         "type": "bar",
         "x": [
          0,
          1,
          2,
          3
         ],
         "xaxis": "x",
         "y": [
          -335.92731641025676,
          -49.288997295242666,
          49.840353283752044,
          330.56071545883236
         ],
         "yaxis": "y"
        },
        {
         "type": "bar",
         "x": [
          0,
          1,
          2,
          3
         ],
         "xaxis": "x2",
         "y": [
          -1.1356940146101768,
          -0.1698727311114027,
          0.17212798759624934,
          1.1455121376539414
         ],
         "yaxis": "y2"
        },
        {
         "type": "bar",
         "x": [
          0,
          1,
          2,
          3
         ],
         "xaxis": "x3",
         "y": [
          -0.2590851776376514,
          -0.22706723887343172,
          -0.22586695505293838,
          -0.25113418232498624
         ],
         "yaxis": "y3"
        },
        {
         "type": "bar",
         "x": [
          0,
          1,
          2,
          3
         ],
         "xaxis": "x4",
         "y": [
          -0.015537336292087868,
          0.11639813888257043,
          -0.0746241680063379,
          -0.02626282717877461
         ],
         "yaxis": "y4"
        },
        {
         "type": "bar",
         "x": [
          0,
          1,
          2,
          3
         ],
         "xaxis": "x5",
         "y": [
          403765478.5465977,
          237860228.0856347,
          244223154.86075944,
          437622751.5117634
         ],
         "yaxis": "y5"
        },
        {
         "type": "bar",
         "x": [
          0,
          1,
          2,
          3
         ],
         "xaxis": "x6",
         "y": [
          404612557.6485542,
          241681468.96934766,
          238094903.48355305,
          430680536.7217939
         ],
         "yaxis": "y6"
        },
        {
         "type": "bar",
         "x": [
          0,
          1,
          2,
          3
         ],
         "xaxis": "x7",
         "y": [
          -0.34781288556669443,
          -0.4530698513772439,
          -0.4600704784666656,
          -0.38819920045389705
         ],
         "yaxis": "y7"
        },
        {
         "type": "bar",
         "x": [
          0,
          1,
          2,
          3
         ],
         "xaxis": "x8",
         "y": [
          34.30687318508108,
          15.40379450079571,
          20.308427229095617,
          45.54012068674535
         ],
         "yaxis": "y8"
        },
        {
         "type": "bar",
         "x": [
          0,
          1,
          2,
          3
         ],
         "xaxis": "x9",
         "y": [
          35.3516596207973,
          17.878903239480813,
          15.901696586022883,
          37.81983174443478
         ],
         "yaxis": "y9"
        },
        {
         "type": "bar",
         "x": [
          0,
          1,
          2,
          3
         ],
         "xaxis": "x10",
         "y": [
          0.04355243963513514,
          0.021009844971783296,
          0.02193663961590847,
          0.053150632819875775
         ],
         "yaxis": "y10"
        },
        {
         "type": "bar",
         "x": [
          0,
          1,
          2,
          3
         ],
         "xaxis": "x11",
         "y": [
          -0.16862773991543095,
          -0.18935342969206878,
          -0.18950839603926634,
          -0.23072608774117662
         ],
         "yaxis": "y11"
        }
       ],
       "layout": {
        "annotations": [
         {
          "font": {
           "size": 16
          },
          "showarrow": false,
          "text": "Difference",
          "x": 0.225,
          "xanchor": "center",
          "xref": "paper",
          "y": 1,
          "yanchor": "bottom",
          "yref": "paper"
         },
         {
          "font": {
           "size": 16
          },
          "showarrow": false,
          "text": "Percent",
          "x": 0.775,
          "xanchor": "center",
          "xref": "paper",
          "y": 1,
          "yanchor": "bottom",
          "yref": "paper"
         },
         {
          "font": {
           "size": 16
          },
          "showarrow": false,
          "text": "Hashrate",
          "x": 0.225,
          "xanchor": "center",
          "xref": "paper",
          "y": 0.8166666666666668,
          "yanchor": "bottom",
          "yref": "paper"
         },
         {
          "font": {
           "size": 16
          },
          "showarrow": false,
          "text": "Taker Buy/Sell Ratio",
          "x": 0.775,
          "xanchor": "center",
          "xref": "paper",
          "y": 0.8166666666666668,
          "yanchor": "bottom",
          "yref": "paper"
         },
         {
          "font": {
           "size": 16
          },
          "showarrow": false,
          "text": "Taker Sell Volume",
          "x": 0.225,
          "xanchor": "center",
          "xref": "paper",
          "y": 0.6333333333333334,
          "yanchor": "bottom",
          "yref": "paper"
         },
         {
          "font": {
           "size": 16
          },
          "showarrow": false,
          "text": "Taker Buy Volume",
          "x": 0.775,
          "xanchor": "center",
          "xref": "paper",
          "y": 0.6333333333333334,
          "yanchor": "bottom",
          "yref": "paper"
         },
         {
          "font": {
           "size": 16
          },
          "showarrow": false,
          "text": "Open Interest",
          "x": 0.225,
          "xanchor": "center",
          "xref": "paper",
          "y": 0.45,
          "yanchor": "bottom",
          "yref": "paper"
         },
         {
          "font": {
           "size": 16
          },
          "showarrow": false,
          "text": "Long Liquidations",
          "x": 0.775,
          "xanchor": "center",
          "xref": "paper",
          "y": 0.45,
          "yanchor": "bottom",
          "yref": "paper"
         },
         {
          "font": {
           "size": 16
          },
          "showarrow": false,
          "text": "Short Liquidations",
          "x": 0.225,
          "xanchor": "center",
          "xref": "paper",
          "y": 0.26666666666666666,
          "yanchor": "bottom",
          "yref": "paper"
         },
         {
          "font": {
           "size": 16
          },
          "showarrow": false,
          "text": "Coinbase Premium Index",
          "x": 0.775,
          "xanchor": "center",
          "xref": "paper",
          "y": 0.26666666666666666,
          "yanchor": "bottom",
          "yref": "paper"
         },
         {
          "font": {
           "size": 16
          },
          "showarrow": false,
          "text": "Funding Rates",
          "x": 0.225,
          "xanchor": "center",
          "xref": "paper",
          "y": 0.08333333333333333,
          "yanchor": "bottom",
          "yref": "paper"
         }
        ],
        "height": 2000,
        "showlegend": false,
        "template": {
         "data": {
          "bar": [
           {
            "error_x": {
             "color": "#2a3f5f"
            },
            "error_y": {
             "color": "#2a3f5f"
            },
            "marker": {
             "line": {
              "color": "#E5ECF6",
              "width": 0.5
             },
             "pattern": {
              "fillmode": "overlay",
              "size": 10,
              "solidity": 0.2
             }
            },
            "type": "bar"
           }
          ],
          "barpolar": [
           {
            "marker": {
             "line": {
              "color": "#E5ECF6",
              "width": 0.5
             },
             "pattern": {
              "fillmode": "overlay",
              "size": 10,
              "solidity": 0.2
             }
            },
            "type": "barpolar"
           }
          ],
          "carpet": [
           {
            "aaxis": {
             "endlinecolor": "#2a3f5f",
             "gridcolor": "white",
             "linecolor": "white",
             "minorgridcolor": "white",
             "startlinecolor": "#2a3f5f"
            },
            "baxis": {
             "endlinecolor": "#2a3f5f",
             "gridcolor": "white",
             "linecolor": "white",
             "minorgridcolor": "white",
             "startlinecolor": "#2a3f5f"
            },
            "type": "carpet"
           }
          ],
          "choropleth": [
           {
            "colorbar": {
             "outlinewidth": 0,
             "ticks": ""
            },
            "type": "choropleth"
           }
          ],
          "contour": [
           {
            "colorbar": {
             "outlinewidth": 0,
             "ticks": ""
            },
            "colorscale": [
             [
              0,
              "#0d0887"
             ],
             [
              0.1111111111111111,
              "#46039f"
             ],
             [
              0.2222222222222222,
              "#7201a8"
             ],
             [
              0.3333333333333333,
              "#9c179e"
             ],
             [
              0.4444444444444444,
              "#bd3786"
             ],
             [
              0.5555555555555556,
              "#d8576b"
             ],
             [
              0.6666666666666666,
              "#ed7953"
             ],
             [
              0.7777777777777778,
              "#fb9f3a"
             ],
             [
              0.8888888888888888,
              "#fdca26"
             ],
             [
              1,
              "#f0f921"
             ]
            ],
            "type": "contour"
           }
          ],
          "contourcarpet": [
           {
            "colorbar": {
             "outlinewidth": 0,
             "ticks": ""
            },
            "type": "contourcarpet"
           }
          ],
          "heatmap": [
           {
            "colorbar": {
             "outlinewidth": 0,
             "ticks": ""
            },
            "colorscale": [
             [
              0,
              "#0d0887"
             ],
             [
              0.1111111111111111,
              "#46039f"
             ],
             [
              0.2222222222222222,
              "#7201a8"
             ],
             [
              0.3333333333333333,
              "#9c179e"
             ],
             [
              0.4444444444444444,
              "#bd3786"
             ],
             [
              0.5555555555555556,
              "#d8576b"
             ],
             [
              0.6666666666666666,
              "#ed7953"
             ],
             [
              0.7777777777777778,
              "#fb9f3a"
             ],
             [
              0.8888888888888888,
              "#fdca26"
             ],
             [
              1,
              "#f0f921"
             ]
            ],
            "type": "heatmap"
           }
          ],
          "heatmapgl": [
           {
            "colorbar": {
             "outlinewidth": 0,
             "ticks": ""
            },
            "colorscale": [
             [
              0,
              "#0d0887"
             ],
             [
              0.1111111111111111,
              "#46039f"
             ],
             [
              0.2222222222222222,
              "#7201a8"
             ],
             [
              0.3333333333333333,
              "#9c179e"
             ],
             [
              0.4444444444444444,
              "#bd3786"
             ],
             [
              0.5555555555555556,
              "#d8576b"
             ],
             [
              0.6666666666666666,
              "#ed7953"
             ],
             [
              0.7777777777777778,
              "#fb9f3a"
             ],
             [
              0.8888888888888888,
              "#fdca26"
             ],
             [
              1,
              "#f0f921"
             ]
            ],
            "type": "heatmapgl"
           }
          ],
          "histogram": [
           {
            "marker": {
             "pattern": {
              "fillmode": "overlay",
              "size": 10,
              "solidity": 0.2
             }
            },
            "type": "histogram"
           }
          ],
          "histogram2d": [
           {
            "colorbar": {
             "outlinewidth": 0,
             "ticks": ""
            },
            "colorscale": [
             [
              0,
              "#0d0887"
             ],
             [
              0.1111111111111111,
              "#46039f"
             ],
             [
              0.2222222222222222,
              "#7201a8"
             ],
             [
              0.3333333333333333,
              "#9c179e"
             ],
             [
              0.4444444444444444,
              "#bd3786"
             ],
             [
              0.5555555555555556,
              "#d8576b"
             ],
             [
              0.6666666666666666,
              "#ed7953"
             ],
             [
              0.7777777777777778,
              "#fb9f3a"
             ],
             [
              0.8888888888888888,
              "#fdca26"
             ],
             [
              1,
              "#f0f921"
             ]
            ],
            "type": "histogram2d"
           }
          ],
          "histogram2dcontour": [
           {
            "colorbar": {
             "outlinewidth": 0,
             "ticks": ""
            },
            "colorscale": [
             [
              0,
              "#0d0887"
             ],
             [
              0.1111111111111111,
              "#46039f"
             ],
             [
              0.2222222222222222,
              "#7201a8"
             ],
             [
              0.3333333333333333,
              "#9c179e"
             ],
             [
              0.4444444444444444,
              "#bd3786"
             ],
             [
              0.5555555555555556,
              "#d8576b"
             ],
             [
              0.6666666666666666,
              "#ed7953"
             ],
             [
              0.7777777777777778,
              "#fb9f3a"
             ],
             [
              0.8888888888888888,
              "#fdca26"
             ],
             [
              1,
              "#f0f921"
             ]
            ],
            "type": "histogram2dcontour"
           }
          ],
          "mesh3d": [
           {
            "colorbar": {
             "outlinewidth": 0,
             "ticks": ""
            },
            "type": "mesh3d"
           }
          ],
          "parcoords": [
           {
            "line": {
             "colorbar": {
              "outlinewidth": 0,
              "ticks": ""
             }
            },
            "type": "parcoords"
           }
          ],
          "pie": [
           {
            "automargin": true,
            "type": "pie"
           }
          ],
          "scatter": [
           {
            "fillpattern": {
             "fillmode": "overlay",
             "size": 10,
             "solidity": 0.2
            },
            "type": "scatter"
           }
          ],
          "scatter3d": [
           {
            "line": {
             "colorbar": {
              "outlinewidth": 0,
              "ticks": ""
             }
            },
            "marker": {
             "colorbar": {
              "outlinewidth": 0,
              "ticks": ""
             }
            },
            "type": "scatter3d"
           }
          ],
          "scattercarpet": [
           {
            "marker": {
             "colorbar": {
              "outlinewidth": 0,
              "ticks": ""
             }
            },
            "type": "scattercarpet"
           }
          ],
          "scattergeo": [
           {
            "marker": {
             "colorbar": {
              "outlinewidth": 0,
              "ticks": ""
             }
            },
            "type": "scattergeo"
           }
          ],
          "scattergl": [
           {
            "marker": {
             "colorbar": {
              "outlinewidth": 0,
              "ticks": ""
             }
            },
            "type": "scattergl"
           }
          ],
          "scattermapbox": [
           {
            "marker": {
             "colorbar": {
              "outlinewidth": 0,
              "ticks": ""
             }
            },
            "type": "scattermapbox"
           }
          ],
          "scatterpolar": [
           {
            "marker": {
             "colorbar": {
              "outlinewidth": 0,
              "ticks": ""
             }
            },
            "type": "scatterpolar"
           }
          ],
          "scatterpolargl": [
           {
            "marker": {
             "colorbar": {
              "outlinewidth": 0,
              "ticks": ""
             }
            },
            "type": "scatterpolargl"
           }
          ],
          "scatterternary": [
           {
            "marker": {
             "colorbar": {
              "outlinewidth": 0,
              "ticks": ""
             }
            },
            "type": "scatterternary"
           }
          ],
          "surface": [
           {
            "colorbar": {
             "outlinewidth": 0,
             "ticks": ""
            },
            "colorscale": [
             [
              0,
              "#0d0887"
             ],
             [
              0.1111111111111111,
              "#46039f"
             ],
             [
              0.2222222222222222,
              "#7201a8"
             ],
             [
              0.3333333333333333,
              "#9c179e"
             ],
             [
              0.4444444444444444,
              "#bd3786"
             ],
             [
              0.5555555555555556,
              "#d8576b"
             ],
             [
              0.6666666666666666,
              "#ed7953"
             ],
             [
              0.7777777777777778,
              "#fb9f3a"
             ],
             [
              0.8888888888888888,
              "#fdca26"
             ],
             [
              1,
              "#f0f921"
             ]
            ],
            "type": "surface"
           }
          ],
          "table": [
           {
            "cells": {
             "fill": {
              "color": "#EBF0F8"
             },
             "line": {
              "color": "white"
             }
            },
            "header": {
             "fill": {
              "color": "#C8D4E3"
             },
             "line": {
              "color": "white"
             }
            },
            "type": "table"
           }
          ]
         },
         "layout": {
          "annotationdefaults": {
           "arrowcolor": "#2a3f5f",
           "arrowhead": 0,
           "arrowwidth": 1
          },
          "autotypenumbers": "strict",
          "coloraxis": {
           "colorbar": {
            "outlinewidth": 0,
            "ticks": ""
           }
          },
          "colorscale": {
           "diverging": [
            [
             0,
             "#8e0152"
            ],
            [
             0.1,
             "#c51b7d"
            ],
            [
             0.2,
             "#de77ae"
            ],
            [
             0.3,
             "#f1b6da"
            ],
            [
             0.4,
             "#fde0ef"
            ],
            [
             0.5,
             "#f7f7f7"
            ],
            [
             0.6,
             "#e6f5d0"
            ],
            [
             0.7,
             "#b8e186"
            ],
            [
             0.8,
             "#7fbc41"
            ],
            [
             0.9,
             "#4d9221"
            ],
            [
             1,
             "#276419"
            ]
           ],
           "sequential": [
            [
             0,
             "#0d0887"
            ],
            [
             0.1111111111111111,
             "#46039f"
            ],
            [
             0.2222222222222222,
             "#7201a8"
            ],
            [
             0.3333333333333333,
             "#9c179e"
            ],
            [
             0.4444444444444444,
             "#bd3786"
            ],
            [
             0.5555555555555556,
             "#d8576b"
            ],
            [
             0.6666666666666666,
             "#ed7953"
            ],
            [
             0.7777777777777778,
             "#fb9f3a"
            ],
            [
             0.8888888888888888,
             "#fdca26"
            ],
            [
             1,
             "#f0f921"
            ]
           ],
           "sequentialminus": [
            [
             0,
             "#0d0887"
            ],
            [
             0.1111111111111111,
             "#46039f"
            ],
            [
             0.2222222222222222,
             "#7201a8"
            ],
            [
             0.3333333333333333,
             "#9c179e"
            ],
            [
             0.4444444444444444,
             "#bd3786"
            ],
            [
             0.5555555555555556,
             "#d8576b"
            ],
            [
             0.6666666666666666,
             "#ed7953"
            ],
            [
             0.7777777777777778,
             "#fb9f3a"
            ],
            [
             0.8888888888888888,
             "#fdca26"
            ],
            [
             1,
             "#f0f921"
            ]
           ]
          },
          "colorway": [
           "#636efa",
           "#EF553B",
           "#00cc96",
           "#ab63fa",
           "#FFA15A",
           "#19d3f3",
           "#FF6692",
           "#B6E880",
           "#FF97FF",
           "#FECB52"
          ],
          "font": {
           "color": "#2a3f5f"
          },
          "geo": {
           "bgcolor": "white",
           "lakecolor": "white",
           "landcolor": "#E5ECF6",
           "showlakes": true,
           "showland": true,
           "subunitcolor": "white"
          },
          "hoverlabel": {
           "align": "left"
          },
          "hovermode": "closest",
          "mapbox": {
           "style": "light"
          },
          "paper_bgcolor": "white",
          "plot_bgcolor": "#E5ECF6",
          "polar": {
           "angularaxis": {
            "gridcolor": "white",
            "linecolor": "white",
            "ticks": ""
           },
           "bgcolor": "#E5ECF6",
           "radialaxis": {
            "gridcolor": "white",
            "linecolor": "white",
            "ticks": ""
           }
          },
          "scene": {
           "xaxis": {
            "backgroundcolor": "#E5ECF6",
            "gridcolor": "white",
            "gridwidth": 2,
            "linecolor": "white",
            "showbackground": true,
            "ticks": "",
            "zerolinecolor": "white"
           },
           "yaxis": {
            "backgroundcolor": "#E5ECF6",
            "gridcolor": "white",
            "gridwidth": 2,
            "linecolor": "white",
            "showbackground": true,
            "ticks": "",
            "zerolinecolor": "white"
           },
           "zaxis": {
            "backgroundcolor": "#E5ECF6",
            "gridcolor": "white",
            "gridwidth": 2,
            "linecolor": "white",
            "showbackground": true,
            "ticks": "",
            "zerolinecolor": "white"
           }
          },
          "shapedefaults": {
           "line": {
            "color": "#2a3f5f"
           }
          },
          "ternary": {
           "aaxis": {
            "gridcolor": "white",
            "linecolor": "white",
            "ticks": ""
           },
           "baxis": {
            "gridcolor": "white",
            "linecolor": "white",
            "ticks": ""
           },
           "bgcolor": "#E5ECF6",
           "caxis": {
            "gridcolor": "white",
            "linecolor": "white",
            "ticks": ""
           }
          },
          "title": {
           "x": 0.05
          },
          "xaxis": {
           "automargin": true,
           "gridcolor": "white",
           "linecolor": "white",
           "ticks": "",
           "title": {
            "standoff": 15
           },
           "zerolinecolor": "white",
           "zerolinewidth": 2
          },
          "yaxis": {
           "automargin": true,
           "gridcolor": "white",
           "linecolor": "white",
           "ticks": "",
           "title": {
            "standoff": 15
           },
           "zerolinecolor": "white",
           "zerolinewidth": 2
          }
         }
        },
        "title": {
         "text": "Mean Values by Target"
        },
        "width": 1500,
        "xaxis": {
         "anchor": "y",
         "domain": [
          0,
          0.45
         ],
         "matches": "x11",
         "showticklabels": false
        },
        "xaxis10": {
         "anchor": "y10",
         "domain": [
          0.55,
          1
         ],
         "matches": "x12",
         "showticklabels": false
        },
        "xaxis11": {
         "anchor": "y11",
         "domain": [
          0,
          0.45
         ],
         "title": {
          "text": "Target"
         }
        },
        "xaxis12": {
         "anchor": "y12",
         "domain": [
          0.55,
          1
         ]
        },
        "xaxis2": {
         "anchor": "y2",
         "domain": [
          0.55,
          1
         ],
         "matches": "x12",
         "showticklabels": false
        },
        "xaxis3": {
         "anchor": "y3",
         "domain": [
          0,
          0.45
         ],
         "matches": "x11",
         "showticklabels": false
        },
        "xaxis4": {
         "anchor": "y4",
         "domain": [
          0.55,
          1
         ],
         "matches": "x12",
         "showticklabels": false
        },
        "xaxis5": {
         "anchor": "y5",
         "domain": [
          0,
          0.45
         ],
         "matches": "x11",
         "showticklabels": false
        },
        "xaxis6": {
         "anchor": "y6",
         "domain": [
          0.55,
          1
         ],
         "matches": "x12",
         "showticklabels": false
        },
        "xaxis7": {
         "anchor": "y7",
         "domain": [
          0,
          0.45
         ],
         "matches": "x11",
         "showticklabels": false
        },
        "xaxis8": {
         "anchor": "y8",
         "domain": [
          0.55,
          1
         ],
         "matches": "x12",
         "showticklabels": false
        },
        "xaxis9": {
         "anchor": "y9",
         "domain": [
          0,
          0.45
         ],
         "matches": "x11",
         "showticklabels": false
        },
        "yaxis": {
         "anchor": "x",
         "domain": [
          0.9166666666666666,
          1
         ]
        },
        "yaxis10": {
         "anchor": "x10",
         "domain": [
          0.18333333333333335,
          0.26666666666666666
         ]
        },
        "yaxis11": {
         "anchor": "x11",
         "domain": [
          0,
          0.08333333333333333
         ]
        },
        "yaxis12": {
         "anchor": "x12",
         "domain": [
          0,
          0.08333333333333333
         ]
        },
        "yaxis2": {
         "anchor": "x2",
         "domain": [
          0.9166666666666666,
          1
         ]
        },
        "yaxis3": {
         "anchor": "x3",
         "domain": [
          0.7333333333333334,
          0.8166666666666668
         ]
        },
        "yaxis4": {
         "anchor": "x4",
         "domain": [
          0.7333333333333334,
          0.8166666666666668
         ]
        },
        "yaxis5": {
         "anchor": "x5",
         "domain": [
          0.55,
          0.6333333333333334
         ]
        },
        "yaxis6": {
         "anchor": "x6",
         "domain": [
          0.55,
          0.6333333333333334
         ]
        },
        "yaxis7": {
         "anchor": "x7",
         "domain": [
          0.3666666666666667,
          0.45
         ]
        },
        "yaxis8": {
         "anchor": "x8",
         "domain": [
          0.3666666666666667,
          0.45
         ]
        },
        "yaxis9": {
         "anchor": "x9",
         "domain": [
          0.18333333333333335,
          0.26666666666666666
         ]
        }
       }
      }
     },
     "metadata": {},
     "output_type": "display_data"
    }
   ],
   "source": [
    "from plotly.subplots import make_subplots\n",
    "import plotly.graph_objects as go\n",
    "\n",
    "numeric_columns = eda_df.select_dtypes(include=[np.number]).columns\n",
    "\n",
    "mean_values = eda_df.groupby('target')[numeric_columns].mean()\n",
    "\n",
    "\n",
    "fig = make_subplots(\n",
    "    rows=6, \n",
    "    cols=2,\n",
    "    shared_xaxes=True,\n",
    "    vertical_spacing=0.1,  \n",
    "    subplot_titles=(\n",
    "        \"Difference\",\n",
    "        \"Percent\",\n",
    "        \"Hashrate\",\n",
    "        \"Taker Buy/Sell Ratio\",\n",
    "        \"Taker Sell Volume\",\n",
    "        \"Taker Buy Volume\",\n",
    "        \"Open Interest\",\n",
    "        \"Long Liquidations\",\n",
    "        \"Short Liquidations\",\n",
    "        \"Coinbase Premium Index\",\n",
    "        \"Funding Rates\"\n",
    "    ),\n",
    ")\n",
    "\n",
    "\n",
    "fig.add_trace(go.Bar(x=mean_values.index, y=mean_values['difference']), row=1, col=1)\n",
    "fig.add_trace(go.Bar(x=mean_values.index, y=mean_values['percent']), row=1, col=2)\n",
    "fig.add_trace(go.Bar(x=mean_values.index, y=mean_values['hashrate']), row=2, col=1)\n",
    "fig.add_trace(go.Bar(x=mean_values.index, y=mean_values['taker_buy_sell_ratio']), row=2, col=2)\n",
    "fig.add_trace(go.Bar(x=mean_values.index, y=mean_values['taker_sell_volume']), row=3, col=1)\n",
    "fig.add_trace(go.Bar(x=mean_values.index, y=mean_values['taker_buy_volume']), row=3, col=2)\n",
    "fig.add_trace(go.Bar(x=mean_values.index, y=mean_values['open_interest']), row=4, col=1)\n",
    "fig.add_trace(go.Bar(x=mean_values.index, y=mean_values['long_liquidations']), row=4, col=2)\n",
    "fig.add_trace(go.Bar(x=mean_values.index, y=mean_values['short_liquidations']), row=5, col=1)\n",
    "fig.add_trace(go.Bar(x=mean_values.index, y=mean_values['coinbase_premium_index']), row=5, col=2)\n",
    "fig.add_trace(go.Bar(x=mean_values.index, y=mean_values['funding_rates']), row=6, col=1)\n",
    "\n",
    "\n",
    "fig.update_layout(\n",
    "    title_text=\"Mean Values by Target\",\n",
    "    showlegend=False,\n",
    "    height=2000,  \n",
    "    width=1500\n",
    ")\n",
    "\n",
    "fig.update_xaxes(title_text=\"Target\", row=6, col=1)\n",
    "fig.show()\n"
   ]
  },
  {
   "cell_type": "markdown",
   "metadata": {},
   "source": [
    "### Model Training"
   ]
  },
  {
   "cell_type": "code",
   "execution_count": 22,
   "metadata": {},
   "outputs": [
    {
     "name": "stdout",
     "output_type": "stream",
     "text": [
      "                        ID _type\n",
      "11547  2024-04-26 03:00:00  test\n",
      "11548  2024-04-26 04:00:00  test\n",
      "11549  2024-04-26 05:00:00  test\n",
      "11550  2024-04-26 06:00:00  test\n",
      "11551  2024-04-26 07:00:00  test\n"
     ]
    }
   ],
   "source": [
    "eda_df['_type'] = eda_df['ID'].apply(lambda x: 'train' if x < '2024-01-01 00:00:00' else 'test')\n",
    "\n",
    "print(eda_df[['ID', '_type']].tail())"
   ]
  },
  {
   "cell_type": "code",
   "execution_count": 23,
   "metadata": {},
   "outputs": [],
   "source": [
    "eda_df.drop(columns=['difference', 'percent', 'price'], inplace=True)"
   ]
  },
  {
   "cell_type": "code",
   "execution_count": 24,
   "metadata": {},
   "outputs": [
    {
     "data": {
      "text/plain": [
       "Index(['ID', 'target', 'hashrate', 'taker_buy_sell_ratio', 'taker_sell_volume',\n",
       "       'taker_buy_volume', 'open_interest', 'long_liquidations',\n",
       "       'short_liquidations', 'coinbase_premium_index', 'funding_rates',\n",
       "       '_type'],\n",
       "      dtype='object')"
      ]
     },
     "execution_count": 24,
     "metadata": {},
     "output_type": "execute_result"
    }
   ],
   "source": [
    "eda_df.columns"
   ]
  },
  {
   "cell_type": "code",
   "execution_count": 25,
   "metadata": {},
   "outputs": [
    {
     "name": "stdout",
     "output_type": "stream",
     "text": [
      "[0]\ttrain-mlogloss:1.36694\teval-mlogloss:1.37115\n",
      "[1]\ttrain-mlogloss:1.34885\teval-mlogloss:1.35688\n",
      "[2]\ttrain-mlogloss:1.33140\teval-mlogloss:1.34374\n",
      "[3]\ttrain-mlogloss:1.31512\teval-mlogloss:1.33131\n",
      "[4]\ttrain-mlogloss:1.29936\teval-mlogloss:1.31977\n",
      "[5]\ttrain-mlogloss:1.28479\teval-mlogloss:1.30845\n",
      "[6]\ttrain-mlogloss:1.27087\teval-mlogloss:1.29871\n",
      "[7]\ttrain-mlogloss:1.25768\teval-mlogloss:1.28942\n",
      "[8]\ttrain-mlogloss:1.24505\teval-mlogloss:1.28113\n",
      "[9]\ttrain-mlogloss:1.23274\teval-mlogloss:1.27284\n",
      "Validation Accuracy: 0.4235\n"
     ]
    }
   ],
   "source": [
    "import xgboost as xgb\n",
    "from sklearn.model_selection import train_test_split\n",
    "from sklearn.metrics import accuracy_score\n",
    "\n",
    "train_df = eda_df.loc[df[\"_type\"]==\"train\"].drop(columns=[\"_type\"])\n",
    "test_df = eda_df.loc[df[\"_type\"]==\"test\"].drop(columns=[\"_type\"])\n",
    "\n",
    "# 특징과 타겟 변수 정의\n",
    "features = ['hashrate', 'taker_buy_sell_ratio', 'taker_sell_volume',\n",
    "       'taker_buy_volume', 'open_interest', 'long_liquidations',\n",
    "       'short_liquidations', 'coinbase_premium_index', 'funding_rates']\n",
    "\n",
    "X_train = train_df[features]\n",
    "y_train = train_df['target']\n",
    "X_test = test_df[features]\n",
    "\n",
    "# 데이터 분할 (훈련 데이터와 검증 데이터)\n",
    "X_train_split, X_val_split, y_train_split, y_val_split = train_test_split(X_train, y_train, test_size=0.2, random_state=42)\n",
    "\n",
    "# XGBoost DMatrix 생성\n",
    "train_data = xgb.DMatrix(X_train_split, label=y_train_split)\n",
    "val_data = xgb.DMatrix(X_val_split, label=y_val_split)\n",
    "test_data = xgb.DMatrix(X_test)\n",
    "\n",
    "# XGBoost 파라미터 설정\n",
    "params = {\n",
    "    'objective': 'multi:softprob',\n",
    "    'eval_metric': 'mlogloss',\n",
    "    'learning_rate': 0.05,\n",
    "    'num_class': 4,\n",
    "    'max_depth': 6,\n",
    "    'subsample': 0.8,\n",
    "    'colsample_bytree': 0.9\n",
    "}\n",
    "\n",
    "# 모델 훈련\n",
    "watchlist = [(train_data, 'train'), (val_data, 'eval')]\n",
    "model = xgb.train(params, train_data, evals=watchlist)\n",
    "\n",
    "\n",
    "# 검증 데이터에 대한 예측\n",
    "val_preds = model.predict(val_data)\n",
    "val_preds_class = val_preds.argmax(axis=1)\n",
    "\n",
    "# 검증 데이터의 정확도 계산\n",
    "val_accuracy = accuracy_score(y_val_split, val_preds_class)\n",
    "print(f\"Validation Accuracy: {val_accuracy:.4f}\")\n"
   ]
  },
  {
   "cell_type": "code",
   "execution_count": 30,
   "metadata": {},
   "outputs": [],
   "source": [
    "# 테스트 데이터에 대한 예측\n",
    "test_preds = model.predict(test_data)\n",
    "test_preds_class = test_preds.argmax(axis=1)\n",
    "\n",
    "# 예측 결과를 submission_df에 추가\n",
    "submission_df['target'] = test_preds_class\n",
    "submission_df.to_csv(\"output_xgboost_2.csv\", index=False)"
   ]
  },
  {
   "cell_type": "code",
   "execution_count": 31,
   "metadata": {},
   "outputs": [
    {
     "data": {
      "application/vnd.plotly.v1+json": {
       "config": {
        "plotlyServerURL": "https://plot.ly"
       },
       "data": [
        {
         "alignmentgroup": "True",
         "hovertemplate": "Category=%{x}<br>Proportion=%{y}<extra></extra>",
         "legendgroup": "",
         "marker": {
          "color": "#636efa",
          "pattern": {
           "shape": ""
          }
         },
         "name": "",
         "offsetgroup": "",
         "orientation": "v",
         "showlegend": false,
         "textposition": "auto",
         "type": "bar",
         "x": [
          2,
          1,
          3,
          0
         ],
         "xaxis": "x",
         "y": [
          0.5021489971346705,
          0.45308022922636104,
          0.0329512893982808,
          0.01181948424068768
         ],
         "yaxis": "y"
        }
       ],
       "layout": {
        "barmode": "relative",
        "legend": {
         "tracegroupgap": 0
        },
        "template": {
         "data": {
          "bar": [
           {
            "error_x": {
             "color": "#2a3f5f"
            },
            "error_y": {
             "color": "#2a3f5f"
            },
            "marker": {
             "line": {
              "color": "#E5ECF6",
              "width": 0.5
             },
             "pattern": {
              "fillmode": "overlay",
              "size": 10,
              "solidity": 0.2
             }
            },
            "type": "bar"
           }
          ],
          "barpolar": [
           {
            "marker": {
             "line": {
              "color": "#E5ECF6",
              "width": 0.5
             },
             "pattern": {
              "fillmode": "overlay",
              "size": 10,
              "solidity": 0.2
             }
            },
            "type": "barpolar"
           }
          ],
          "carpet": [
           {
            "aaxis": {
             "endlinecolor": "#2a3f5f",
             "gridcolor": "white",
             "linecolor": "white",
             "minorgridcolor": "white",
             "startlinecolor": "#2a3f5f"
            },
            "baxis": {
             "endlinecolor": "#2a3f5f",
             "gridcolor": "white",
             "linecolor": "white",
             "minorgridcolor": "white",
             "startlinecolor": "#2a3f5f"
            },
            "type": "carpet"
           }
          ],
          "choropleth": [
           {
            "colorbar": {
             "outlinewidth": 0,
             "ticks": ""
            },
            "type": "choropleth"
           }
          ],
          "contour": [
           {
            "colorbar": {
             "outlinewidth": 0,
             "ticks": ""
            },
            "colorscale": [
             [
              0,
              "#0d0887"
             ],
             [
              0.1111111111111111,
              "#46039f"
             ],
             [
              0.2222222222222222,
              "#7201a8"
             ],
             [
              0.3333333333333333,
              "#9c179e"
             ],
             [
              0.4444444444444444,
              "#bd3786"
             ],
             [
              0.5555555555555556,
              "#d8576b"
             ],
             [
              0.6666666666666666,
              "#ed7953"
             ],
             [
              0.7777777777777778,
              "#fb9f3a"
             ],
             [
              0.8888888888888888,
              "#fdca26"
             ],
             [
              1,
              "#f0f921"
             ]
            ],
            "type": "contour"
           }
          ],
          "contourcarpet": [
           {
            "colorbar": {
             "outlinewidth": 0,
             "ticks": ""
            },
            "type": "contourcarpet"
           }
          ],
          "heatmap": [
           {
            "colorbar": {
             "outlinewidth": 0,
             "ticks": ""
            },
            "colorscale": [
             [
              0,
              "#0d0887"
             ],
             [
              0.1111111111111111,
              "#46039f"
             ],
             [
              0.2222222222222222,
              "#7201a8"
             ],
             [
              0.3333333333333333,
              "#9c179e"
             ],
             [
              0.4444444444444444,
              "#bd3786"
             ],
             [
              0.5555555555555556,
              "#d8576b"
             ],
             [
              0.6666666666666666,
              "#ed7953"
             ],
             [
              0.7777777777777778,
              "#fb9f3a"
             ],
             [
              0.8888888888888888,
              "#fdca26"
             ],
             [
              1,
              "#f0f921"
             ]
            ],
            "type": "heatmap"
           }
          ],
          "heatmapgl": [
           {
            "colorbar": {
             "outlinewidth": 0,
             "ticks": ""
            },
            "colorscale": [
             [
              0,
              "#0d0887"
             ],
             [
              0.1111111111111111,
              "#46039f"
             ],
             [
              0.2222222222222222,
              "#7201a8"
             ],
             [
              0.3333333333333333,
              "#9c179e"
             ],
             [
              0.4444444444444444,
              "#bd3786"
             ],
             [
              0.5555555555555556,
              "#d8576b"
             ],
             [
              0.6666666666666666,
              "#ed7953"
             ],
             [
              0.7777777777777778,
              "#fb9f3a"
             ],
             [
              0.8888888888888888,
              "#fdca26"
             ],
             [
              1,
              "#f0f921"
             ]
            ],
            "type": "heatmapgl"
           }
          ],
          "histogram": [
           {
            "marker": {
             "pattern": {
              "fillmode": "overlay",
              "size": 10,
              "solidity": 0.2
             }
            },
            "type": "histogram"
           }
          ],
          "histogram2d": [
           {
            "colorbar": {
             "outlinewidth": 0,
             "ticks": ""
            },
            "colorscale": [
             [
              0,
              "#0d0887"
             ],
             [
              0.1111111111111111,
              "#46039f"
             ],
             [
              0.2222222222222222,
              "#7201a8"
             ],
             [
              0.3333333333333333,
              "#9c179e"
             ],
             [
              0.4444444444444444,
              "#bd3786"
             ],
             [
              0.5555555555555556,
              "#d8576b"
             ],
             [
              0.6666666666666666,
              "#ed7953"
             ],
             [
              0.7777777777777778,
              "#fb9f3a"
             ],
             [
              0.8888888888888888,
              "#fdca26"
             ],
             [
              1,
              "#f0f921"
             ]
            ],
            "type": "histogram2d"
           }
          ],
          "histogram2dcontour": [
           {
            "colorbar": {
             "outlinewidth": 0,
             "ticks": ""
            },
            "colorscale": [
             [
              0,
              "#0d0887"
             ],
             [
              0.1111111111111111,
              "#46039f"
             ],
             [
              0.2222222222222222,
              "#7201a8"
             ],
             [
              0.3333333333333333,
              "#9c179e"
             ],
             [
              0.4444444444444444,
              "#bd3786"
             ],
             [
              0.5555555555555556,
              "#d8576b"
             ],
             [
              0.6666666666666666,
              "#ed7953"
             ],
             [
              0.7777777777777778,
              "#fb9f3a"
             ],
             [
              0.8888888888888888,
              "#fdca26"
             ],
             [
              1,
              "#f0f921"
             ]
            ],
            "type": "histogram2dcontour"
           }
          ],
          "mesh3d": [
           {
            "colorbar": {
             "outlinewidth": 0,
             "ticks": ""
            },
            "type": "mesh3d"
           }
          ],
          "parcoords": [
           {
            "line": {
             "colorbar": {
              "outlinewidth": 0,
              "ticks": ""
             }
            },
            "type": "parcoords"
           }
          ],
          "pie": [
           {
            "automargin": true,
            "type": "pie"
           }
          ],
          "scatter": [
           {
            "fillpattern": {
             "fillmode": "overlay",
             "size": 10,
             "solidity": 0.2
            },
            "type": "scatter"
           }
          ],
          "scatter3d": [
           {
            "line": {
             "colorbar": {
              "outlinewidth": 0,
              "ticks": ""
             }
            },
            "marker": {
             "colorbar": {
              "outlinewidth": 0,
              "ticks": ""
             }
            },
            "type": "scatter3d"
           }
          ],
          "scattercarpet": [
           {
            "marker": {
             "colorbar": {
              "outlinewidth": 0,
              "ticks": ""
             }
            },
            "type": "scattercarpet"
           }
          ],
          "scattergeo": [
           {
            "marker": {
             "colorbar": {
              "outlinewidth": 0,
              "ticks": ""
             }
            },
            "type": "scattergeo"
           }
          ],
          "scattergl": [
           {
            "marker": {
             "colorbar": {
              "outlinewidth": 0,
              "ticks": ""
             }
            },
            "type": "scattergl"
           }
          ],
          "scattermapbox": [
           {
            "marker": {
             "colorbar": {
              "outlinewidth": 0,
              "ticks": ""
             }
            },
            "type": "scattermapbox"
           }
          ],
          "scatterpolar": [
           {
            "marker": {
             "colorbar": {
              "outlinewidth": 0,
              "ticks": ""
             }
            },
            "type": "scatterpolar"
           }
          ],
          "scatterpolargl": [
           {
            "marker": {
             "colorbar": {
              "outlinewidth": 0,
              "ticks": ""
             }
            },
            "type": "scatterpolargl"
           }
          ],
          "scatterternary": [
           {
            "marker": {
             "colorbar": {
              "outlinewidth": 0,
              "ticks": ""
             }
            },
            "type": "scatterternary"
           }
          ],
          "surface": [
           {
            "colorbar": {
             "outlinewidth": 0,
             "ticks": ""
            },
            "colorscale": [
             [
              0,
              "#0d0887"
             ],
             [
              0.1111111111111111,
              "#46039f"
             ],
             [
              0.2222222222222222,
              "#7201a8"
             ],
             [
              0.3333333333333333,
              "#9c179e"
             ],
             [
              0.4444444444444444,
              "#bd3786"
             ],
             [
              0.5555555555555556,
              "#d8576b"
             ],
             [
              0.6666666666666666,
              "#ed7953"
             ],
             [
              0.7777777777777778,
              "#fb9f3a"
             ],
             [
              0.8888888888888888,
              "#fdca26"
             ],
             [
              1,
              "#f0f921"
             ]
            ],
            "type": "surface"
           }
          ],
          "table": [
           {
            "cells": {
             "fill": {
              "color": "#EBF0F8"
             },
             "line": {
              "color": "white"
             }
            },
            "header": {
             "fill": {
              "color": "#C8D4E3"
             },
             "line": {
              "color": "white"
             }
            },
            "type": "table"
           }
          ]
         },
         "layout": {
          "annotationdefaults": {
           "arrowcolor": "#2a3f5f",
           "arrowhead": 0,
           "arrowwidth": 1
          },
          "autotypenumbers": "strict",
          "coloraxis": {
           "colorbar": {
            "outlinewidth": 0,
            "ticks": ""
           }
          },
          "colorscale": {
           "diverging": [
            [
             0,
             "#8e0152"
            ],
            [
             0.1,
             "#c51b7d"
            ],
            [
             0.2,
             "#de77ae"
            ],
            [
             0.3,
             "#f1b6da"
            ],
            [
             0.4,
             "#fde0ef"
            ],
            [
             0.5,
             "#f7f7f7"
            ],
            [
             0.6,
             "#e6f5d0"
            ],
            [
             0.7,
             "#b8e186"
            ],
            [
             0.8,
             "#7fbc41"
            ],
            [
             0.9,
             "#4d9221"
            ],
            [
             1,
             "#276419"
            ]
           ],
           "sequential": [
            [
             0,
             "#0d0887"
            ],
            [
             0.1111111111111111,
             "#46039f"
            ],
            [
             0.2222222222222222,
             "#7201a8"
            ],
            [
             0.3333333333333333,
             "#9c179e"
            ],
            [
             0.4444444444444444,
             "#bd3786"
            ],
            [
             0.5555555555555556,
             "#d8576b"
            ],
            [
             0.6666666666666666,
             "#ed7953"
            ],
            [
             0.7777777777777778,
             "#fb9f3a"
            ],
            [
             0.8888888888888888,
             "#fdca26"
            ],
            [
             1,
             "#f0f921"
            ]
           ],
           "sequentialminus": [
            [
             0,
             "#0d0887"
            ],
            [
             0.1111111111111111,
             "#46039f"
            ],
            [
             0.2222222222222222,
             "#7201a8"
            ],
            [
             0.3333333333333333,
             "#9c179e"
            ],
            [
             0.4444444444444444,
             "#bd3786"
            ],
            [
             0.5555555555555556,
             "#d8576b"
            ],
            [
             0.6666666666666666,
             "#ed7953"
            ],
            [
             0.7777777777777778,
             "#fb9f3a"
            ],
            [
             0.8888888888888888,
             "#fdca26"
            ],
            [
             1,
             "#f0f921"
            ]
           ]
          },
          "colorway": [
           "#636efa",
           "#EF553B",
           "#00cc96",
           "#ab63fa",
           "#FFA15A",
           "#19d3f3",
           "#FF6692",
           "#B6E880",
           "#FF97FF",
           "#FECB52"
          ],
          "font": {
           "color": "#2a3f5f"
          },
          "geo": {
           "bgcolor": "white",
           "lakecolor": "white",
           "landcolor": "#E5ECF6",
           "showlakes": true,
           "showland": true,
           "subunitcolor": "white"
          },
          "hoverlabel": {
           "align": "left"
          },
          "hovermode": "closest",
          "mapbox": {
           "style": "light"
          },
          "paper_bgcolor": "white",
          "plot_bgcolor": "#E5ECF6",
          "polar": {
           "angularaxis": {
            "gridcolor": "white",
            "linecolor": "white",
            "ticks": ""
           },
           "bgcolor": "#E5ECF6",
           "radialaxis": {
            "gridcolor": "white",
            "linecolor": "white",
            "ticks": ""
           }
          },
          "scene": {
           "xaxis": {
            "backgroundcolor": "#E5ECF6",
            "gridcolor": "white",
            "gridwidth": 2,
            "linecolor": "white",
            "showbackground": true,
            "ticks": "",
            "zerolinecolor": "white"
           },
           "yaxis": {
            "backgroundcolor": "#E5ECF6",
            "gridcolor": "white",
            "gridwidth": 2,
            "linecolor": "white",
            "showbackground": true,
            "ticks": "",
            "zerolinecolor": "white"
           },
           "zaxis": {
            "backgroundcolor": "#E5ECF6",
            "gridcolor": "white",
            "gridwidth": 2,
            "linecolor": "white",
            "showbackground": true,
            "ticks": "",
            "zerolinecolor": "white"
           }
          },
          "shapedefaults": {
           "line": {
            "color": "#2a3f5f"
           }
          },
          "ternary": {
           "aaxis": {
            "gridcolor": "white",
            "linecolor": "white",
            "ticks": ""
           },
           "baxis": {
            "gridcolor": "white",
            "linecolor": "white",
            "ticks": ""
           },
           "bgcolor": "#E5ECF6",
           "caxis": {
            "gridcolor": "white",
            "linecolor": "white",
            "ticks": ""
           }
          },
          "title": {
           "x": 0.05
          },
          "xaxis": {
           "automargin": true,
           "gridcolor": "white",
           "linecolor": "white",
           "ticks": "",
           "title": {
            "standoff": 15
           },
           "zerolinecolor": "white",
           "zerolinewidth": 2
          },
          "yaxis": {
           "automargin": true,
           "gridcolor": "white",
           "linecolor": "white",
           "ticks": "",
           "title": {
            "standoff": 15
           },
           "zerolinecolor": "white",
           "zerolinewidth": 2
          }
         }
        },
        "title": {
         "text": "Proportion of Categories in submission_df[\"target\"]"
        },
        "xaxis": {
         "anchor": "y",
         "domain": [
          0,
          1
         ],
         "title": {
          "text": "Category"
         }
        },
        "yaxis": {
         "anchor": "x",
         "domain": [
          0,
          1
         ],
         "title": {
          "text": "Proportion"
         }
        }
       }
      }
     },
     "metadata": {},
     "output_type": "display_data"
    }
   ],
   "source": [
    "import plotly.express as px\n",
    "import pandas as pd\n",
    "import os\n",
    "\n",
    "data_path: str = \"../../data\"\n",
    "\n",
    "# target의 범주 비율 계산\n",
    "target_counts = submission_df['target'].value_counts(normalize=True).reset_index()\n",
    "target_counts.columns = ['Category', 'Proportion']\n",
    "\n",
    "# 시각화\n",
    "fig = px.bar(target_counts, x='Category', y='Proportion', title='Proportion of Categories in submission_df[\"target\"]')\n",
    "fig.show()"
   ]
  },
  {
   "cell_type": "code",
   "execution_count": 32,
   "metadata": {},
   "outputs": [
    {
     "data": {
      "application/vnd.plotly.v1+json": {
       "config": {
        "plotlyServerURL": "https://plot.ly"
       },
       "data": [
        {
         "alignmentgroup": "True",
         "hovertemplate": "Feature=%{x}<br>Importance=%{y}<extra></extra>",
         "legendgroup": "",
         "marker": {
          "color": "#636efa",
          "pattern": {
           "shape": ""
          }
         },
         "name": "",
         "offsetgroup": "",
         "orientation": "v",
         "showlegend": false,
         "textposition": "auto",
         "type": "bar",
         "x": [
          "open_interest",
          "coinbase_premium_index",
          "hashrate",
          "taker_buy_sell_ratio",
          "taker_sell_volume",
          "long_liquidations",
          "short_liquidations",
          "funding_rates",
          "taker_buy_volume"
         ],
         "xaxis": "x",
         "y": [
          275,
          275,
          252,
          241,
          217,
          213,
          198,
          194,
          189
         ],
         "yaxis": "y"
        }
       ],
       "layout": {
        "barmode": "relative",
        "legend": {
         "tracegroupgap": 0
        },
        "template": {
         "data": {
          "bar": [
           {
            "error_x": {
             "color": "#2a3f5f"
            },
            "error_y": {
             "color": "#2a3f5f"
            },
            "marker": {
             "line": {
              "color": "#E5ECF6",
              "width": 0.5
             },
             "pattern": {
              "fillmode": "overlay",
              "size": 10,
              "solidity": 0.2
             }
            },
            "type": "bar"
           }
          ],
          "barpolar": [
           {
            "marker": {
             "line": {
              "color": "#E5ECF6",
              "width": 0.5
             },
             "pattern": {
              "fillmode": "overlay",
              "size": 10,
              "solidity": 0.2
             }
            },
            "type": "barpolar"
           }
          ],
          "carpet": [
           {
            "aaxis": {
             "endlinecolor": "#2a3f5f",
             "gridcolor": "white",
             "linecolor": "white",
             "minorgridcolor": "white",
             "startlinecolor": "#2a3f5f"
            },
            "baxis": {
             "endlinecolor": "#2a3f5f",
             "gridcolor": "white",
             "linecolor": "white",
             "minorgridcolor": "white",
             "startlinecolor": "#2a3f5f"
            },
            "type": "carpet"
           }
          ],
          "choropleth": [
           {
            "colorbar": {
             "outlinewidth": 0,
             "ticks": ""
            },
            "type": "choropleth"
           }
          ],
          "contour": [
           {
            "colorbar": {
             "outlinewidth": 0,
             "ticks": ""
            },
            "colorscale": [
             [
              0,
              "#0d0887"
             ],
             [
              0.1111111111111111,
              "#46039f"
             ],
             [
              0.2222222222222222,
              "#7201a8"
             ],
             [
              0.3333333333333333,
              "#9c179e"
             ],
             [
              0.4444444444444444,
              "#bd3786"
             ],
             [
              0.5555555555555556,
              "#d8576b"
             ],
             [
              0.6666666666666666,
              "#ed7953"
             ],
             [
              0.7777777777777778,
              "#fb9f3a"
             ],
             [
              0.8888888888888888,
              "#fdca26"
             ],
             [
              1,
              "#f0f921"
             ]
            ],
            "type": "contour"
           }
          ],
          "contourcarpet": [
           {
            "colorbar": {
             "outlinewidth": 0,
             "ticks": ""
            },
            "type": "contourcarpet"
           }
          ],
          "heatmap": [
           {
            "colorbar": {
             "outlinewidth": 0,
             "ticks": ""
            },
            "colorscale": [
             [
              0,
              "#0d0887"
             ],
             [
              0.1111111111111111,
              "#46039f"
             ],
             [
              0.2222222222222222,
              "#7201a8"
             ],
             [
              0.3333333333333333,
              "#9c179e"
             ],
             [
              0.4444444444444444,
              "#bd3786"
             ],
             [
              0.5555555555555556,
              "#d8576b"
             ],
             [
              0.6666666666666666,
              "#ed7953"
             ],
             [
              0.7777777777777778,
              "#fb9f3a"
             ],
             [
              0.8888888888888888,
              "#fdca26"
             ],
             [
              1,
              "#f0f921"
             ]
            ],
            "type": "heatmap"
           }
          ],
          "heatmapgl": [
           {
            "colorbar": {
             "outlinewidth": 0,
             "ticks": ""
            },
            "colorscale": [
             [
              0,
              "#0d0887"
             ],
             [
              0.1111111111111111,
              "#46039f"
             ],
             [
              0.2222222222222222,
              "#7201a8"
             ],
             [
              0.3333333333333333,
              "#9c179e"
             ],
             [
              0.4444444444444444,
              "#bd3786"
             ],
             [
              0.5555555555555556,
              "#d8576b"
             ],
             [
              0.6666666666666666,
              "#ed7953"
             ],
             [
              0.7777777777777778,
              "#fb9f3a"
             ],
             [
              0.8888888888888888,
              "#fdca26"
             ],
             [
              1,
              "#f0f921"
             ]
            ],
            "type": "heatmapgl"
           }
          ],
          "histogram": [
           {
            "marker": {
             "pattern": {
              "fillmode": "overlay",
              "size": 10,
              "solidity": 0.2
             }
            },
            "type": "histogram"
           }
          ],
          "histogram2d": [
           {
            "colorbar": {
             "outlinewidth": 0,
             "ticks": ""
            },
            "colorscale": [
             [
              0,
              "#0d0887"
             ],
             [
              0.1111111111111111,
              "#46039f"
             ],
             [
              0.2222222222222222,
              "#7201a8"
             ],
             [
              0.3333333333333333,
              "#9c179e"
             ],
             [
              0.4444444444444444,
              "#bd3786"
             ],
             [
              0.5555555555555556,
              "#d8576b"
             ],
             [
              0.6666666666666666,
              "#ed7953"
             ],
             [
              0.7777777777777778,
              "#fb9f3a"
             ],
             [
              0.8888888888888888,
              "#fdca26"
             ],
             [
              1,
              "#f0f921"
             ]
            ],
            "type": "histogram2d"
           }
          ],
          "histogram2dcontour": [
           {
            "colorbar": {
             "outlinewidth": 0,
             "ticks": ""
            },
            "colorscale": [
             [
              0,
              "#0d0887"
             ],
             [
              0.1111111111111111,
              "#46039f"
             ],
             [
              0.2222222222222222,
              "#7201a8"
             ],
             [
              0.3333333333333333,
              "#9c179e"
             ],
             [
              0.4444444444444444,
              "#bd3786"
             ],
             [
              0.5555555555555556,
              "#d8576b"
             ],
             [
              0.6666666666666666,
              "#ed7953"
             ],
             [
              0.7777777777777778,
              "#fb9f3a"
             ],
             [
              0.8888888888888888,
              "#fdca26"
             ],
             [
              1,
              "#f0f921"
             ]
            ],
            "type": "histogram2dcontour"
           }
          ],
          "mesh3d": [
           {
            "colorbar": {
             "outlinewidth": 0,
             "ticks": ""
            },
            "type": "mesh3d"
           }
          ],
          "parcoords": [
           {
            "line": {
             "colorbar": {
              "outlinewidth": 0,
              "ticks": ""
             }
            },
            "type": "parcoords"
           }
          ],
          "pie": [
           {
            "automargin": true,
            "type": "pie"
           }
          ],
          "scatter": [
           {
            "fillpattern": {
             "fillmode": "overlay",
             "size": 10,
             "solidity": 0.2
            },
            "type": "scatter"
           }
          ],
          "scatter3d": [
           {
            "line": {
             "colorbar": {
              "outlinewidth": 0,
              "ticks": ""
             }
            },
            "marker": {
             "colorbar": {
              "outlinewidth": 0,
              "ticks": ""
             }
            },
            "type": "scatter3d"
           }
          ],
          "scattercarpet": [
           {
            "marker": {
             "colorbar": {
              "outlinewidth": 0,
              "ticks": ""
             }
            },
            "type": "scattercarpet"
           }
          ],
          "scattergeo": [
           {
            "marker": {
             "colorbar": {
              "outlinewidth": 0,
              "ticks": ""
             }
            },
            "type": "scattergeo"
           }
          ],
          "scattergl": [
           {
            "marker": {
             "colorbar": {
              "outlinewidth": 0,
              "ticks": ""
             }
            },
            "type": "scattergl"
           }
          ],
          "scattermapbox": [
           {
            "marker": {
             "colorbar": {
              "outlinewidth": 0,
              "ticks": ""
             }
            },
            "type": "scattermapbox"
           }
          ],
          "scatterpolar": [
           {
            "marker": {
             "colorbar": {
              "outlinewidth": 0,
              "ticks": ""
             }
            },
            "type": "scatterpolar"
           }
          ],
          "scatterpolargl": [
           {
            "marker": {
             "colorbar": {
              "outlinewidth": 0,
              "ticks": ""
             }
            },
            "type": "scatterpolargl"
           }
          ],
          "scatterternary": [
           {
            "marker": {
             "colorbar": {
              "outlinewidth": 0,
              "ticks": ""
             }
            },
            "type": "scatterternary"
           }
          ],
          "surface": [
           {
            "colorbar": {
             "outlinewidth": 0,
             "ticks": ""
            },
            "colorscale": [
             [
              0,
              "#0d0887"
             ],
             [
              0.1111111111111111,
              "#46039f"
             ],
             [
              0.2222222222222222,
              "#7201a8"
             ],
             [
              0.3333333333333333,
              "#9c179e"
             ],
             [
              0.4444444444444444,
              "#bd3786"
             ],
             [
              0.5555555555555556,
              "#d8576b"
             ],
             [
              0.6666666666666666,
              "#ed7953"
             ],
             [
              0.7777777777777778,
              "#fb9f3a"
             ],
             [
              0.8888888888888888,
              "#fdca26"
             ],
             [
              1,
              "#f0f921"
             ]
            ],
            "type": "surface"
           }
          ],
          "table": [
           {
            "cells": {
             "fill": {
              "color": "#EBF0F8"
             },
             "line": {
              "color": "white"
             }
            },
            "header": {
             "fill": {
              "color": "#C8D4E3"
             },
             "line": {
              "color": "white"
             }
            },
            "type": "table"
           }
          ]
         },
         "layout": {
          "annotationdefaults": {
           "arrowcolor": "#2a3f5f",
           "arrowhead": 0,
           "arrowwidth": 1
          },
          "autotypenumbers": "strict",
          "coloraxis": {
           "colorbar": {
            "outlinewidth": 0,
            "ticks": ""
           }
          },
          "colorscale": {
           "diverging": [
            [
             0,
             "#8e0152"
            ],
            [
             0.1,
             "#c51b7d"
            ],
            [
             0.2,
             "#de77ae"
            ],
            [
             0.3,
             "#f1b6da"
            ],
            [
             0.4,
             "#fde0ef"
            ],
            [
             0.5,
             "#f7f7f7"
            ],
            [
             0.6,
             "#e6f5d0"
            ],
            [
             0.7,
             "#b8e186"
            ],
            [
             0.8,
             "#7fbc41"
            ],
            [
             0.9,
             "#4d9221"
            ],
            [
             1,
             "#276419"
            ]
           ],
           "sequential": [
            [
             0,
             "#0d0887"
            ],
            [
             0.1111111111111111,
             "#46039f"
            ],
            [
             0.2222222222222222,
             "#7201a8"
            ],
            [
             0.3333333333333333,
             "#9c179e"
            ],
            [
             0.4444444444444444,
             "#bd3786"
            ],
            [
             0.5555555555555556,
             "#d8576b"
            ],
            [
             0.6666666666666666,
             "#ed7953"
            ],
            [
             0.7777777777777778,
             "#fb9f3a"
            ],
            [
             0.8888888888888888,
             "#fdca26"
            ],
            [
             1,
             "#f0f921"
            ]
           ],
           "sequentialminus": [
            [
             0,
             "#0d0887"
            ],
            [
             0.1111111111111111,
             "#46039f"
            ],
            [
             0.2222222222222222,
             "#7201a8"
            ],
            [
             0.3333333333333333,
             "#9c179e"
            ],
            [
             0.4444444444444444,
             "#bd3786"
            ],
            [
             0.5555555555555556,
             "#d8576b"
            ],
            [
             0.6666666666666666,
             "#ed7953"
            ],
            [
             0.7777777777777778,
             "#fb9f3a"
            ],
            [
             0.8888888888888888,
             "#fdca26"
            ],
            [
             1,
             "#f0f921"
            ]
           ]
          },
          "colorway": [
           "#636efa",
           "#EF553B",
           "#00cc96",
           "#ab63fa",
           "#FFA15A",
           "#19d3f3",
           "#FF6692",
           "#B6E880",
           "#FF97FF",
           "#FECB52"
          ],
          "font": {
           "color": "#2a3f5f"
          },
          "geo": {
           "bgcolor": "white",
           "lakecolor": "white",
           "landcolor": "#E5ECF6",
           "showlakes": true,
           "showland": true,
           "subunitcolor": "white"
          },
          "hoverlabel": {
           "align": "left"
          },
          "hovermode": "closest",
          "mapbox": {
           "style": "light"
          },
          "paper_bgcolor": "white",
          "plot_bgcolor": "#E5ECF6",
          "polar": {
           "angularaxis": {
            "gridcolor": "white",
            "linecolor": "white",
            "ticks": ""
           },
           "bgcolor": "#E5ECF6",
           "radialaxis": {
            "gridcolor": "white",
            "linecolor": "white",
            "ticks": ""
           }
          },
          "scene": {
           "xaxis": {
            "backgroundcolor": "#E5ECF6",
            "gridcolor": "white",
            "gridwidth": 2,
            "linecolor": "white",
            "showbackground": true,
            "ticks": "",
            "zerolinecolor": "white"
           },
           "yaxis": {
            "backgroundcolor": "#E5ECF6",
            "gridcolor": "white",
            "gridwidth": 2,
            "linecolor": "white",
            "showbackground": true,
            "ticks": "",
            "zerolinecolor": "white"
           },
           "zaxis": {
            "backgroundcolor": "#E5ECF6",
            "gridcolor": "white",
            "gridwidth": 2,
            "linecolor": "white",
            "showbackground": true,
            "ticks": "",
            "zerolinecolor": "white"
           }
          },
          "shapedefaults": {
           "line": {
            "color": "#2a3f5f"
           }
          },
          "ternary": {
           "aaxis": {
            "gridcolor": "white",
            "linecolor": "white",
            "ticks": ""
           },
           "baxis": {
            "gridcolor": "white",
            "linecolor": "white",
            "ticks": ""
           },
           "bgcolor": "#E5ECF6",
           "caxis": {
            "gridcolor": "white",
            "linecolor": "white",
            "ticks": ""
           }
          },
          "title": {
           "x": 0.05
          },
          "xaxis": {
           "automargin": true,
           "gridcolor": "white",
           "linecolor": "white",
           "ticks": "",
           "title": {
            "standoff": 15
           },
           "zerolinecolor": "white",
           "zerolinewidth": 2
          },
          "yaxis": {
           "automargin": true,
           "gridcolor": "white",
           "linecolor": "white",
           "ticks": "",
           "title": {
            "standoff": 15
           },
           "zerolinecolor": "white",
           "zerolinewidth": 2
          }
         }
        },
        "title": {
         "text": "Feature Importance"
        },
        "xaxis": {
         "anchor": "y",
         "domain": [
          0,
          1
         ],
         "title": {
          "text": "Feature"
         }
        },
        "yaxis": {
         "anchor": "x",
         "domain": [
          0,
          1
         ],
         "title": {
          "text": "Importance"
         }
        }
       }
      }
     },
     "metadata": {},
     "output_type": "display_data"
    }
   ],
   "source": [
    "import plotly.express as px\n",
    "# Feature importance 평가\n",
    "importance = model.get_score(importance_type='weight')\n",
    "importance_df = pd.DataFrame({\n",
    "    'Feature': [k for k in importance.keys()],\n",
    "    'Importance': importance.values()\n",
    "}).sort_values(by='Importance', ascending=False)\n",
    "\n",
    "# 시각화\n",
    "fig = px.bar(importance_df, x='Feature', y='Importance', title='Feature Importance')\n",
    "fig.show()"
   ]
  }
 ],
 "metadata": {
  "kernelspec": {
   "display_name": "bitcoin",
   "language": "python",
   "name": "python3"
  },
  "language_info": {
   "codemirror_mode": {
    "name": "ipython",
    "version": 3
   },
   "file_extension": ".py",
   "mimetype": "text/x-python",
   "name": "python",
   "nbconvert_exporter": "python",
   "pygments_lexer": "ipython3",
   "version": "3.12.5"
  }
 },
 "nbformat": 4,
 "nbformat_minor": 2
}
