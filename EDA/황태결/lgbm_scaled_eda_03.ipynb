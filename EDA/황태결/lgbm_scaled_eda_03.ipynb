{
 "cells": [
  {
   "cell_type": "code",
   "id": "76032760a7d049c7",
   "metadata": {
    "collapsed": true,
    "ExecuteTime": {
     "end_time": "2024-09-27T09:05:23.812828Z",
     "start_time": "2024-09-27T09:05:22.573433Z"
    }
   },
   "source": [
    "import os,sys\n",
    "import numpy as np\n",
    "import pandas as pd\n",
    "from sklearn.metrics import accuracy_score, roc_auc_score\n",
    "import lightgbm as lgb\n",
    "import matplotlib.pyplot as plt\n",
    "from sklearn.model_selection import train_test_split\n",
    "\n",
    "# 공통 변수\n",
    "raw_data_name = 'scaled_eda2.csv'\n",
    "output_csv_name = 'output4.csv'\n",
    "\n",
    "# Code 경로 추가\n",
    "sys.path.append(os.path.dirname(os.path.dirname(os.path.abspath(''))))\n",
    "print(sys.path[-1])"
   ],
   "outputs": [
    {
     "name": "stdout",
     "output_type": "stream",
     "text": [
      "C:\\Users\\Minari\\Documents\\GitHub\\level1-classificationinmachinelearning-recsys-06\n"
     ]
    }
   ],
   "execution_count": 1
  },
  {
   "metadata": {
    "ExecuteTime": {
     "end_time": "2024-09-26T09:29:00.392611Z",
     "start_time": "2024-09-26T09:29:00.251855Z"
    }
   },
   "cell_type": "code",
   "source": [
    "%load_ext autoreload\n",
    "%autoreload 2"
   ],
   "id": "initial_id",
   "outputs": [
    {
     "name": "stdout",
     "output_type": "stream",
     "text": [
      "The autoreload extension is already loaded. To reload it, use:\n",
      "  %reload_ext autoreload\n"
     ]
    }
   ],
   "execution_count": 10
  },
  {
   "metadata": {
    "ExecuteTime": {
     "end_time": "2024-09-27T09:05:26.600019Z",
     "start_time": "2024-09-27T09:05:26.555861Z"
    }
   },
   "cell_type": "code",
   "source": [
    "df = pd.read_csv(raw_data_name)\n",
    "df"
   ],
   "id": "96a6bbd4551f4cff",
   "outputs": [
    {
     "data": {
      "text/plain": [
       "                        ID  _type  target  scaled_log_hashrate  \\\n",
       "0      2023-01-01 00:00:00  train     2.0             0.343899   \n",
       "1      2023-01-01 01:00:00  train     1.0            -0.479569   \n",
       "2      2023-01-01 02:00:00  train     1.0             0.039981   \n",
       "3      2023-01-01 03:00:00  train     1.0            -0.312311   \n",
       "4      2023-01-01 04:00:00  train     2.0            -0.060107   \n",
       "...                    ...    ...     ...                  ...   \n",
       "11547  2024-04-26 03:00:00   test     NaN            -0.010992   \n",
       "11548  2024-04-26 04:00:00   test     NaN             0.508558   \n",
       "11549  2024-04-26 05:00:00   test     NaN             0.508558   \n",
       "11550  2024-04-26 06:00:00   test     NaN             0.204640   \n",
       "11551  2024-04-26 07:00:00   test     NaN            -0.010992   \n",
       "\n",
       "       scaled_log_open_interest  scaled_log_coinbase_premium_index  \\\n",
       "0                     -2.074545                          -1.004418   \n",
       "1                     -2.055443                          -0.920481   \n",
       "2                     -2.057519                          -0.982775   \n",
       "3                     -2.059965                          -0.995009   \n",
       "4                     -2.052255                          -1.026415   \n",
       "...                         ...                                ...   \n",
       "11547                  3.897601                          -0.295264   \n",
       "11548                       NaN                          -0.487863   \n",
       "11549                       NaN                          -0.232401   \n",
       "11550                       NaN                          -0.304981   \n",
       "11551                       NaN                                NaN   \n",
       "\n",
       "       scaled_funding_rates  scaled_estimated_block_reward  \\\n",
       "0                 -0.190599                      -2.283932   \n",
       "1                 -0.190611                      -2.271191   \n",
       "2                 -0.190679                      -2.285286   \n",
       "3                 -0.188985                      -2.286295   \n",
       "4                 -0.083030                      -2.282372   \n",
       "...                     ...                            ...   \n",
       "11547                   NaN                       1.104435   \n",
       "11548                   NaN                       0.993608   \n",
       "11549                   NaN                       0.942780   \n",
       "11550                   NaN                       0.805223   \n",
       "11551                   NaN                       1.167320   \n",
       "\n",
       "       scaled_liquidation_diff  scaled_log_total_liquidation  \\\n",
       "0                    -0.013822                     -1.407440   \n",
       "1                    -0.020702                     -1.089259   \n",
       "2                    -0.013936                     -1.414659   \n",
       "3                    -0.008301                     -1.132860   \n",
       "4                    -0.010506                     -1.228120   \n",
       "...                        ...                           ...   \n",
       "11547                -0.009503                     -1.009395   \n",
       "11548                 0.047178                     -0.177464   \n",
       "11549                -0.046429                     -0.155122   \n",
       "11550                -0.022042                     -0.663602   \n",
       "11551                -0.028853                     -0.212364   \n",
       "\n",
       "       scaled_log_total_taker_volume  scaled_utxo_count  \\\n",
       "0                          -1.507090          -1.216481   \n",
       "1                          -1.998687          -1.216149   \n",
       "2                          -2.337608          -1.216188   \n",
       "3                          -2.043796          -1.215593   \n",
       "4                          -2.015961          -1.214962   \n",
       "...                              ...                ...   \n",
       "11547                            NaN           3.500785   \n",
       "11548                            NaN           3.501430   \n",
       "11549                            NaN           3.502278   \n",
       "11550                            NaN           3.502337   \n",
       "11551                            NaN                NaN   \n",
       "\n",
       "       scaled_total_transactions_count  taker_buy_sell_ratio  \\\n",
       "0                            -0.616412              0.904774   \n",
       "1                            -1.202730              1.655721   \n",
       "2                            -1.232124              1.027512   \n",
       "3                            -1.263915              0.874477   \n",
       "4                            -1.087030              0.966796   \n",
       "...                                ...                   ...   \n",
       "11547                        -0.763278                   NaN   \n",
       "11548                              NaN                   NaN   \n",
       "11549                              NaN                   NaN   \n",
       "11550                              NaN                   NaN   \n",
       "11551                              NaN                   NaN   \n",
       "\n",
       "       moving_avg_scaled_log_total_volume  open_interest_diff  \n",
       "0                               -1.507090                 NaN  \n",
       "1                               -1.752889        1.733962e+07  \n",
       "2                               -1.947795       -1.886794e+06  \n",
       "3                               -1.971795       -2.221901e+06  \n",
       "4                               -1.980628        7.007341e+06  \n",
       "...                                   ...                 ...  \n",
       "11547                                 NaN       -2.193716e+07  \n",
       "11548                                 NaN                 NaN  \n",
       "11549                                 NaN                 NaN  \n",
       "11550                                 NaN                 NaN  \n",
       "11551                                 NaN                 NaN  \n",
       "\n",
       "[11552 rows x 16 columns]"
      ],
      "text/html": [
       "<div>\n",
       "<style scoped>\n",
       "    .dataframe tbody tr th:only-of-type {\n",
       "        vertical-align: middle;\n",
       "    }\n",
       "\n",
       "    .dataframe tbody tr th {\n",
       "        vertical-align: top;\n",
       "    }\n",
       "\n",
       "    .dataframe thead th {\n",
       "        text-align: right;\n",
       "    }\n",
       "</style>\n",
       "<table border=\"1\" class=\"dataframe\">\n",
       "  <thead>\n",
       "    <tr style=\"text-align: right;\">\n",
       "      <th></th>\n",
       "      <th>ID</th>\n",
       "      <th>_type</th>\n",
       "      <th>target</th>\n",
       "      <th>scaled_log_hashrate</th>\n",
       "      <th>scaled_log_open_interest</th>\n",
       "      <th>scaled_log_coinbase_premium_index</th>\n",
       "      <th>scaled_funding_rates</th>\n",
       "      <th>scaled_estimated_block_reward</th>\n",
       "      <th>scaled_liquidation_diff</th>\n",
       "      <th>scaled_log_total_liquidation</th>\n",
       "      <th>scaled_log_total_taker_volume</th>\n",
       "      <th>scaled_utxo_count</th>\n",
       "      <th>scaled_total_transactions_count</th>\n",
       "      <th>taker_buy_sell_ratio</th>\n",
       "      <th>moving_avg_scaled_log_total_volume</th>\n",
       "      <th>open_interest_diff</th>\n",
       "    </tr>\n",
       "  </thead>\n",
       "  <tbody>\n",
       "    <tr>\n",
       "      <th>0</th>\n",
       "      <td>2023-01-01 00:00:00</td>\n",
       "      <td>train</td>\n",
       "      <td>2.0</td>\n",
       "      <td>0.343899</td>\n",
       "      <td>-2.074545</td>\n",
       "      <td>-1.004418</td>\n",
       "      <td>-0.190599</td>\n",
       "      <td>-2.283932</td>\n",
       "      <td>-0.013822</td>\n",
       "      <td>-1.407440</td>\n",
       "      <td>-1.507090</td>\n",
       "      <td>-1.216481</td>\n",
       "      <td>-0.616412</td>\n",
       "      <td>0.904774</td>\n",
       "      <td>-1.507090</td>\n",
       "      <td>NaN</td>\n",
       "    </tr>\n",
       "    <tr>\n",
       "      <th>1</th>\n",
       "      <td>2023-01-01 01:00:00</td>\n",
       "      <td>train</td>\n",
       "      <td>1.0</td>\n",
       "      <td>-0.479569</td>\n",
       "      <td>-2.055443</td>\n",
       "      <td>-0.920481</td>\n",
       "      <td>-0.190611</td>\n",
       "      <td>-2.271191</td>\n",
       "      <td>-0.020702</td>\n",
       "      <td>-1.089259</td>\n",
       "      <td>-1.998687</td>\n",
       "      <td>-1.216149</td>\n",
       "      <td>-1.202730</td>\n",
       "      <td>1.655721</td>\n",
       "      <td>-1.752889</td>\n",
       "      <td>1.733962e+07</td>\n",
       "    </tr>\n",
       "    <tr>\n",
       "      <th>2</th>\n",
       "      <td>2023-01-01 02:00:00</td>\n",
       "      <td>train</td>\n",
       "      <td>1.0</td>\n",
       "      <td>0.039981</td>\n",
       "      <td>-2.057519</td>\n",
       "      <td>-0.982775</td>\n",
       "      <td>-0.190679</td>\n",
       "      <td>-2.285286</td>\n",
       "      <td>-0.013936</td>\n",
       "      <td>-1.414659</td>\n",
       "      <td>-2.337608</td>\n",
       "      <td>-1.216188</td>\n",
       "      <td>-1.232124</td>\n",
       "      <td>1.027512</td>\n",
       "      <td>-1.947795</td>\n",
       "      <td>-1.886794e+06</td>\n",
       "    </tr>\n",
       "    <tr>\n",
       "      <th>3</th>\n",
       "      <td>2023-01-01 03:00:00</td>\n",
       "      <td>train</td>\n",
       "      <td>1.0</td>\n",
       "      <td>-0.312311</td>\n",
       "      <td>-2.059965</td>\n",
       "      <td>-0.995009</td>\n",
       "      <td>-0.188985</td>\n",
       "      <td>-2.286295</td>\n",
       "      <td>-0.008301</td>\n",
       "      <td>-1.132860</td>\n",
       "      <td>-2.043796</td>\n",
       "      <td>-1.215593</td>\n",
       "      <td>-1.263915</td>\n",
       "      <td>0.874477</td>\n",
       "      <td>-1.971795</td>\n",
       "      <td>-2.221901e+06</td>\n",
       "    </tr>\n",
       "    <tr>\n",
       "      <th>4</th>\n",
       "      <td>2023-01-01 04:00:00</td>\n",
       "      <td>train</td>\n",
       "      <td>2.0</td>\n",
       "      <td>-0.060107</td>\n",
       "      <td>-2.052255</td>\n",
       "      <td>-1.026415</td>\n",
       "      <td>-0.083030</td>\n",
       "      <td>-2.282372</td>\n",
       "      <td>-0.010506</td>\n",
       "      <td>-1.228120</td>\n",
       "      <td>-2.015961</td>\n",
       "      <td>-1.214962</td>\n",
       "      <td>-1.087030</td>\n",
       "      <td>0.966796</td>\n",
       "      <td>-1.980628</td>\n",
       "      <td>7.007341e+06</td>\n",
       "    </tr>\n",
       "    <tr>\n",
       "      <th>...</th>\n",
       "      <td>...</td>\n",
       "      <td>...</td>\n",
       "      <td>...</td>\n",
       "      <td>...</td>\n",
       "      <td>...</td>\n",
       "      <td>...</td>\n",
       "      <td>...</td>\n",
       "      <td>...</td>\n",
       "      <td>...</td>\n",
       "      <td>...</td>\n",
       "      <td>...</td>\n",
       "      <td>...</td>\n",
       "      <td>...</td>\n",
       "      <td>...</td>\n",
       "      <td>...</td>\n",
       "      <td>...</td>\n",
       "    </tr>\n",
       "    <tr>\n",
       "      <th>11547</th>\n",
       "      <td>2024-04-26 03:00:00</td>\n",
       "      <td>test</td>\n",
       "      <td>NaN</td>\n",
       "      <td>-0.010992</td>\n",
       "      <td>3.897601</td>\n",
       "      <td>-0.295264</td>\n",
       "      <td>NaN</td>\n",
       "      <td>1.104435</td>\n",
       "      <td>-0.009503</td>\n",
       "      <td>-1.009395</td>\n",
       "      <td>NaN</td>\n",
       "      <td>3.500785</td>\n",
       "      <td>-0.763278</td>\n",
       "      <td>NaN</td>\n",
       "      <td>NaN</td>\n",
       "      <td>-2.193716e+07</td>\n",
       "    </tr>\n",
       "    <tr>\n",
       "      <th>11548</th>\n",
       "      <td>2024-04-26 04:00:00</td>\n",
       "      <td>test</td>\n",
       "      <td>NaN</td>\n",
       "      <td>0.508558</td>\n",
       "      <td>NaN</td>\n",
       "      <td>-0.487863</td>\n",
       "      <td>NaN</td>\n",
       "      <td>0.993608</td>\n",
       "      <td>0.047178</td>\n",
       "      <td>-0.177464</td>\n",
       "      <td>NaN</td>\n",
       "      <td>3.501430</td>\n",
       "      <td>NaN</td>\n",
       "      <td>NaN</td>\n",
       "      <td>NaN</td>\n",
       "      <td>NaN</td>\n",
       "    </tr>\n",
       "    <tr>\n",
       "      <th>11549</th>\n",
       "      <td>2024-04-26 05:00:00</td>\n",
       "      <td>test</td>\n",
       "      <td>NaN</td>\n",
       "      <td>0.508558</td>\n",
       "      <td>NaN</td>\n",
       "      <td>-0.232401</td>\n",
       "      <td>NaN</td>\n",
       "      <td>0.942780</td>\n",
       "      <td>-0.046429</td>\n",
       "      <td>-0.155122</td>\n",
       "      <td>NaN</td>\n",
       "      <td>3.502278</td>\n",
       "      <td>NaN</td>\n",
       "      <td>NaN</td>\n",
       "      <td>NaN</td>\n",
       "      <td>NaN</td>\n",
       "    </tr>\n",
       "    <tr>\n",
       "      <th>11550</th>\n",
       "      <td>2024-04-26 06:00:00</td>\n",
       "      <td>test</td>\n",
       "      <td>NaN</td>\n",
       "      <td>0.204640</td>\n",
       "      <td>NaN</td>\n",
       "      <td>-0.304981</td>\n",
       "      <td>NaN</td>\n",
       "      <td>0.805223</td>\n",
       "      <td>-0.022042</td>\n",
       "      <td>-0.663602</td>\n",
       "      <td>NaN</td>\n",
       "      <td>3.502337</td>\n",
       "      <td>NaN</td>\n",
       "      <td>NaN</td>\n",
       "      <td>NaN</td>\n",
       "      <td>NaN</td>\n",
       "    </tr>\n",
       "    <tr>\n",
       "      <th>11551</th>\n",
       "      <td>2024-04-26 07:00:00</td>\n",
       "      <td>test</td>\n",
       "      <td>NaN</td>\n",
       "      <td>-0.010992</td>\n",
       "      <td>NaN</td>\n",
       "      <td>NaN</td>\n",
       "      <td>NaN</td>\n",
       "      <td>1.167320</td>\n",
       "      <td>-0.028853</td>\n",
       "      <td>-0.212364</td>\n",
       "      <td>NaN</td>\n",
       "      <td>NaN</td>\n",
       "      <td>NaN</td>\n",
       "      <td>NaN</td>\n",
       "      <td>NaN</td>\n",
       "      <td>NaN</td>\n",
       "    </tr>\n",
       "  </tbody>\n",
       "</table>\n",
       "<p>11552 rows × 16 columns</p>\n",
       "</div>"
      ]
     },
     "execution_count": 2,
     "metadata": {},
     "output_type": "execute_result"
    }
   ],
   "execution_count": 2
  },
  {
   "metadata": {
    "ExecuteTime": {
     "end_time": "2024-09-27T09:05:30.075735Z",
     "start_time": "2024-09-27T09:05:30.069585Z"
    }
   },
   "cell_type": "code",
   "source": "df.isna().sum()",
   "id": "400b36063184649",
   "outputs": [
    {
     "data": {
      "text/plain": [
       "ID                                       0\n",
       "_type                                    0\n",
       "target                                2792\n",
       "scaled_log_hashrate                      0\n",
       "scaled_log_open_interest                 4\n",
       "scaled_log_coinbase_premium_index        7\n",
       "scaled_funding_rates                    32\n",
       "scaled_estimated_block_reward           24\n",
       "scaled_liquidation_diff                  0\n",
       "scaled_log_total_liquidation             0\n",
       "scaled_log_total_taker_volume           31\n",
       "scaled_utxo_count                        1\n",
       "scaled_total_transactions_count          4\n",
       "taker_buy_sell_ratio                    31\n",
       "moving_avg_scaled_log_total_volume       6\n",
       "open_interest_diff                       5\n",
       "dtype: int64"
      ]
     },
     "execution_count": 3,
     "metadata": {},
     "output_type": "execute_result"
    }
   ],
   "execution_count": 3
  },
  {
   "metadata": {
    "ExecuteTime": {
     "end_time": "2024-09-27T09:05:33.416858Z",
     "start_time": "2024-09-27T09:05:33.406696Z"
    }
   },
   "cell_type": "code",
   "source": "df['ID'] = pd.to_datetime(df['ID'])",
   "id": "f5dc036f8b38f7af",
   "outputs": [],
   "execution_count": 4
  },
  {
   "metadata": {
    "ExecuteTime": {
     "end_time": "2024-09-27T09:05:36.794506Z",
     "start_time": "2024-09-27T09:05:36.788092Z"
    }
   },
   "cell_type": "code",
   "source": [
    "train_df = df.loc[df[\"_type\"]==\"train\"].drop(columns=[\"_type\"])\n",
    "test_df = df.loc[df[\"_type\"]==\"test\"].drop(columns=[\"_type\"])"
   ],
   "id": "b16ccb5d34dabaaa",
   "outputs": [],
   "execution_count": 5
  },
  {
   "metadata": {
    "ExecuteTime": {
     "end_time": "2024-09-27T09:05:45.775806Z",
     "start_time": "2024-09-27T09:05:45.638928Z"
    }
   },
   "cell_type": "code",
   "source": [
    "# train_test_split 으로 valid set, train set 분리\n",
    "X_train, X_valid, y_train, y_valid = train_test_split(\n",
    "    train_df.drop(['target', 'ID'], axis = 1), \n",
    "    train_df['target'].astype(int), \n",
    "    test_size=0.2,\n",
    "    random_state=42,\n",
    ")\n",
    "\n",
    "# lgb dataset\n",
    "train_data = lgb.Dataset(X_train, label=y_train)\n",
    "valid_data = lgb.Dataset(X_valid, label=y_valid, reference=train_data)\n",
    "\n",
    "# lgb params\n",
    "params = {\n",
    "    'boosting_type': 'gbdt',\n",
    "    'objective': 'multiclass',\n",
    "    'metric': 'multi_logloss',\n",
    "    'num_class': 4,\n",
    "    'num_leaves': 50,\n",
    "    'learning_rate': 0.05,\n",
    "    'n_estimators': 30,\n",
    "    'random_state': 42,\n",
    "    'verbose': 0,\n",
    "}\n",
    "\n",
    "# lgb train\n",
    "lgb_model = lgb.train(\n",
    "    params=params,\n",
    "    train_set=train_data,\n",
    "    valid_sets=valid_data,\n",
    ")\n",
    "\n",
    "# lgb predict\n",
    "y_valid_pred = lgb_model.predict(X_valid)\n",
    "y_valid_pred_class = np.argmax(y_valid_pred, axis = 1)\n",
    "\n",
    "# score check\n",
    "accuracy = accuracy_score(y_valid, y_valid_pred_class)\n",
    "auroc = roc_auc_score(y_valid, y_valid_pred, multi_class='ovr')\n",
    "\n",
    "print(f'acc: {accuracy}, auroc: {auroc}')"
   ],
   "id": "b5bbe4b7175685db",
   "outputs": [
    {
     "name": "stdout",
     "output_type": "stream",
     "text": [
      "acc: 0.4178082191780822, auroc: 0.629916839264334\n"
     ]
    },
    {
     "name": "stderr",
     "output_type": "stream",
     "text": [
      "C:\\Users\\Minari\\anaconda3\\envs\\bProject01\\Lib\\site-packages\\lightgbm\\engine.py:172: UserWarning: Found `n_estimators` in params. Will use it instead of argument\n",
      "  _log_warning(f\"Found `{alias}` in params. Will use it instead of argument\")\n"
     ]
    }
   ],
   "execution_count": 6
  },
  {
   "metadata": {
    "ExecuteTime": {
     "end_time": "2024-09-27T09:05:51.204554Z",
     "start_time": "2024-09-27T09:05:51.195803Z"
    }
   },
   "cell_type": "code",
   "source": [
    "train_merged_df_with_target = X_train.copy()\n",
    "train_merged_df_with_target['close'] = y_train\n",
    "\n",
    "# 피어슨 상관계수 계산\n",
    "correlation_matrix = train_merged_df_with_target.corr()\n",
    "\n",
    "# 타겟과 각 피처 간의 상관계수만 추출 후 반환\n",
    "correlation_matrix['close'].drop('close').sort_values(ascending=False)"
   ],
   "id": "2de7dafa335e3328",
   "outputs": [
    {
     "data": {
      "text/plain": [
       "scaled_liquidation_diff               0.025992\n",
       "scaled_log_coinbase_premium_index     0.019331\n",
       "scaled_log_total_liquidation          0.012603\n",
       "scaled_log_total_taker_volume         0.010158\n",
       "scaled_log_hashrate                   0.007928\n",
       "moving_avg_scaled_log_total_volume    0.002084\n",
       "scaled_total_transactions_count      -0.006974\n",
       "scaled_utxo_count                    -0.007336\n",
       "scaled_estimated_block_reward        -0.013124\n",
       "scaled_log_open_interest             -0.015394\n",
       "scaled_funding_rates                 -0.019453\n",
       "open_interest_diff                   -0.021962\n",
       "taker_buy_sell_ratio                 -0.041525\n",
       "Name: close, dtype: float64"
      ]
     },
     "execution_count": 7,
     "metadata": {},
     "output_type": "execute_result"
    }
   ],
   "execution_count": 7
  },
  {
   "metadata": {
    "ExecuteTime": {
     "end_time": "2024-09-27T09:05:54.650878Z",
     "start_time": "2024-09-27T09:05:54.645415Z"
    }
   },
   "cell_type": "code",
   "source": [
    "# importance gain 표시(영향을 끼친 정도)\n",
    "f_import = lgb_model.feature_importance(importance_type='gain')\n",
    "f_names = X_train.columns\n",
    "\n",
    "ser = pd.Series(f_import, index=f_names, name='gain')\n",
    "\n",
    "ser = ser / f_import.sum()\n",
    "\n",
    "ser.sort_values(ascending=False, inplace=True)\n",
    "\n",
    "ser"
   ],
   "id": "482bf765f42601a9",
   "outputs": [
    {
     "data": {
      "text/plain": [
       "scaled_log_total_taker_volume         0.140241\n",
       "scaled_utxo_count                     0.110395\n",
       "scaled_log_coinbase_premium_index     0.081053\n",
       "taker_buy_sell_ratio                  0.079818\n",
       "scaled_liquidation_diff               0.079498\n",
       "moving_avg_scaled_log_total_volume    0.073915\n",
       "scaled_estimated_block_reward         0.073045\n",
       "open_interest_diff                    0.071181\n",
       "scaled_total_transactions_count       0.064820\n",
       "scaled_log_open_interest              0.060092\n",
       "scaled_funding_rates                  0.059782\n",
       "scaled_log_hashrate                   0.054297\n",
       "scaled_log_total_liquidation          0.051864\n",
       "Name: gain, dtype: float64"
      ]
     },
     "execution_count": 8,
     "metadata": {},
     "output_type": "execute_result"
    }
   ],
   "execution_count": 8
  },
  {
   "metadata": {
    "ExecuteTime": {
     "end_time": "2024-09-27T09:05:57.838787Z",
     "start_time": "2024-09-27T09:05:57.833532Z"
    }
   },
   "cell_type": "code",
   "source": [
    "# importance split 표시(영향을 끼친 횟수)\n",
    "f_import = lgb_model.feature_importance(importance_type='split')\n",
    "f_names = X_train.columns\n",
    "\n",
    "ser = pd.Series(f_import, index=f_names, name='split')\n",
    "\n",
    "ser.sort_values(ascending=False, inplace=True)\n",
    "\n",
    "ser"
   ],
   "id": "737dfc682e217b25",
   "outputs": [
    {
     "data": {
      "text/plain": [
       "scaled_log_total_taker_volume         561\n",
       "taker_buy_sell_ratio                  555\n",
       "scaled_log_coinbase_premium_index     540\n",
       "open_interest_diff                    486\n",
       "scaled_utxo_count                     478\n",
       "moving_avg_scaled_log_total_volume    473\n",
       "scaled_estimated_block_reward         441\n",
       "scaled_total_transactions_count       436\n",
       "scaled_funding_rates                  404\n",
       "scaled_liquidation_diff               404\n",
       "scaled_log_hashrate                   378\n",
       "scaled_log_total_liquidation          365\n",
       "scaled_log_open_interest              359\n",
       "Name: split, dtype: int32"
      ]
     },
     "execution_count": 9,
     "metadata": {},
     "output_type": "execute_result"
    }
   ],
   "execution_count": 9
  },
  {
   "metadata": {
    "ExecuteTime": {
     "end_time": "2024-09-27T09:06:30.724015Z",
     "start_time": "2024-09-27T09:06:30.718535Z"
    }
   },
   "cell_type": "code",
   "source": "submission_df: pd.DataFrame = pd.read_csv(os.path.join('../../data/', 'test.csv'))",
   "id": "d14356fe240ed828",
   "outputs": [],
   "execution_count": 12
  },
  {
   "metadata": {
    "ExecuteTime": {
     "end_time": "2024-09-27T09:06:31.191874Z",
     "start_time": "2024-09-27T09:06:31.184528Z"
    }
   },
   "cell_type": "code",
   "source": [
    "y_test_pred = lgb_model.predict(test_df.drop(['target', 'ID'], axis = 1))\n",
    "y_test_pred_class = np.argmax(y_test_pred, axis = 1)"
   ],
   "id": "af673b5f512330d3",
   "outputs": [],
   "execution_count": 13
  },
  {
   "metadata": {
    "ExecuteTime": {
     "end_time": "2024-09-27T09:06:31.655287Z",
     "start_time": "2024-09-27T09:06:31.649866Z"
    }
   },
   "cell_type": "code",
   "source": [
    "# 분포 확인\n",
    "submission_df:pd.DataFrame = submission_df.assign(target = y_test_pred_class)\n",
    "submission_df['target'].value_counts()"
   ],
   "id": "8fdc0d0bce72916f",
   "outputs": [
    {
     "data": {
      "text/plain": [
       "target\n",
       "2    1623\n",
       "1    1098\n",
       "3      62\n",
       "0       9\n",
       "Name: count, dtype: int64"
      ]
     },
     "execution_count": 14,
     "metadata": {},
     "output_type": "execute_result"
    }
   ],
   "execution_count": 14
  },
  {
   "metadata": {
    "ExecuteTime": {
     "end_time": "2024-09-27T09:06:32.356980Z",
     "start_time": "2024-09-27T09:06:32.250452Z"
    }
   },
   "cell_type": "code",
   "source": [
    "submission_df_value = submission_df['target'].value_counts().sort_index()\n",
    "\n",
    "plt.figure(figsize=(8, 6))\n",
    "plt.bar(submission_df_value.index, submission_df_value.values, color=['blue', 'green', 'red', 'orange'])\n",
    "plt.xticks([0, 1, 2, 3])\n",
    "plt.xlabel('Classes')\n",
    "plt.ylabel('Count')\n",
    "plt.title('ts_value_counts')\n",
    "plt.show()"
   ],
   "id": "27898b1221261d4e",
   "outputs": [
    {
     "data": {
      "text/plain": [
       "<Figure size 800x600 with 1 Axes>"
      ],
      "image/png": "[encoded data removed]"
     },
     "metadata": {},
     "output_type": "display_data"
    }
   ],
   "execution_count": 15
  },
  {
   "metadata": {
    "ExecuteTime": {
     "end_time": "2024-09-27T09:06:46.032825Z",
     "start_time": "2024-09-27T09:06:45.508830Z"
    }
   },
   "cell_type": "code",
   "source": [
    "from time_series_CV import TimeSeriesCV as tsCV\n",
    "ts = tsCV(train_df)\n",
    "ts.train()"
   ],
   "id": "eb9aafb63a411537",
   "outputs": [
    {
     "name": "stdout",
     "output_type": "stream",
     "text": [
      "Fold accuracy: 0.40616438356164386\n",
      "Fold accuracy: 0.4143835616438356\n",
      "Fold accuracy: 0.37397260273972605\n",
      "Fold accuracy: 0.4465753424657534\n",
      "Fold accuracy: 0.4383561643835616\n",
      "     Fold  Accuracy\n",
      "0  Fold 1  0.406164\n",
      "1  Fold 2  0.414384\n",
      "2  Fold 3  0.373973\n",
      "3  Fold 4  0.446575\n",
      "4  Fold 5  0.438356\n"
     ]
    }
   ],
   "execution_count": 16
  },
  {
   "metadata": {
    "ExecuteTime": {
     "end_time": "2024-09-27T09:06:46.540348Z",
     "start_time": "2024-09-27T09:06:46.536872Z"
    }
   },
   "cell_type": "code",
   "source": "ts.print_performance()",
   "id": "7de44ff62f09c74",
   "outputs": [
    {
     "name": "stdout",
     "output_type": "stream",
     "text": [
      "F1 Score: 0.24706146282521999\n",
      "Precision: 0.41475632005219554\n",
      "Recall: 0.2669611996768524\n",
      "Confusion Matrix: \n",
      "[[  2  44  73   0]\n",
      " [  3 236 341   0]\n",
      " [  2 226 401   1]\n",
      " [  0  47  83   1]]\n"
     ]
    }
   ],
   "execution_count": 17
  },
  {
   "metadata": {
    "ExecuteTime": {
     "end_time": "2024-09-27T09:06:48.234854Z",
     "start_time": "2024-09-27T09:06:48.225343Z"
    }
   },
   "cell_type": "code",
   "source": [
    "ts_pred = ts.model.predict(test_df.drop([\"target\", \"ID\"], axis = 1))\n",
    "ts_submission_df = submission_df.assign(target = ts_pred)\n",
    "ts_submission_df['target'].value_counts()"
   ],
   "id": "f1ee92793b64ceb9",
   "outputs": [
    {
     "data": {
      "text/plain": [
       "target\n",
       "2    1787\n",
       "1     932\n",
       "3      41\n",
       "0      32\n",
       "Name: count, dtype: int64"
      ]
     },
     "execution_count": 18,
     "metadata": {},
     "output_type": "execute_result"
    }
   ],
   "execution_count": 18
  },
  {
   "metadata": {
    "ExecuteTime": {
     "end_time": "2024-09-27T09:06:58.754545Z",
     "start_time": "2024-09-27T09:06:58.675032Z"
    }
   },
   "cell_type": "code",
   "source": [
    "ts_value_counts = ts_submission_df['target'].value_counts().sort_index()\n",
    "\n",
    "plt.figure(figsize=(8, 6))\n",
    "plt.bar(ts_value_counts.index, ts_value_counts.values, color=['blue', 'green', 'red', 'orange'])\n",
    "plt.xticks([0, 1, 2, 3])\n",
    "plt.xlabel('Classes')\n",
    "plt.ylabel('Count')\n",
    "plt.title('ts_value_counts')\n",
    "plt.show()"
   ],
   "id": "db7434fdacacee4b",
   "outputs": [
    {
     "data": {
      "text/plain": [
       "<Figure size 800x600 with 1 Axes>"
      ],
      "image/png": "[encoded data removed]"
     },
     "metadata": {},
     "output_type": "display_data"
    }
   ],
   "execution_count": 19
  },
  {
   "metadata": {
    "ExecuteTime": {
     "end_time": "2024-09-27T09:14:28.976540Z",
     "start_time": "2024-09-27T09:14:28.960541Z"
    }
   },
   "cell_type": "code",
   "source": [
    "submission_df: pd.DataFrame = pd.read_csv(os.path.join('../../data/', \"test.csv\"))\n",
    "y_test_pred = lgb_model.predict(test_df.drop([\"target\", \"ID\"], axis = 1))\n",
    "y_test_pred_class = np.argmax(y_test_pred, axis = 1)\n",
    "ts_submission_df = ts_submission_df.assign(target = y_test_pred_class)\n",
    "ts_submission_df.to_csv(output_csv_name, index=False)"
   ],
   "id": "1679572105f94705",
   "outputs": [],
   "execution_count": 20
  }
 ],
 "metadata": {
  "kernelspec": {
   "display_name": "Python 3",
   "language": "python",
   "name": "python3"
  },
  "language_info": {
   "codemirror_mode": {
    "name": "ipython",
    "version": 2
   },
   "file_extension": ".py",
   "mimetype": "text/x-python",
   "name": "python",
   "nbconvert_exporter": "python",
   "pygments_lexer": "ipython2",
   "version": "2.7.6"
  }
 },
 "nbformat": 4,
 "nbformat_minor": 5
}
