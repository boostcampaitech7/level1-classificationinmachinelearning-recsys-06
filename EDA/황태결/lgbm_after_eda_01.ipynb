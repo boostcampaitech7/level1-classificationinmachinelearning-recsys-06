{
 "cells": [
  {
   "cell_type": "code",
   "id": "82a965a89cb33e17",
   "metadata": {
    "collapsed": true,
    "ExecuteTime": {
     "end_time": "2024-09-27T09:13:58.270851Z",
     "start_time": "2024-09-27T09:13:56.919230Z"
    }
   },
   "source": [
    "import os,sys\n",
    "import numpy as np\n",
    "import pandas as pd\n",
    "from sklearn.metrics import accuracy_score, roc_auc_score\n",
    "import lightgbm as lgb\n",
    "import matplotlib.pyplot as plt\n",
    "from sklearn.model_selection import train_test_split\n",
    "\n",
    "# 공통 변수\n",
    "raw_data_name = 'after_eda2.csv'\n",
    "output_csv_name = 'output1.csv'\n",
    "\n",
    "# Code 경로 추가\n",
    "sys.path.append(os.path.dirname(os.path.dirname(os.path.abspath(''))))\n",
    "print(sys.path[-1])"
   ],
   "outputs": [
    {
     "name": "stdout",
     "output_type": "stream",
     "text": [
      "C:\\Users\\Minari\\Documents\\GitHub\\level1-classificationinmachinelearning-recsys-06\n"
     ]
    }
   ],
   "execution_count": 2
  },
  {
   "metadata": {
    "ExecuteTime": {
     "end_time": "2024-09-27T09:13:59.243963Z",
     "start_time": "2024-09-27T09:13:59.149186Z"
    }
   },
   "cell_type": "code",
   "source": [
    "%load_ext autoreload\n",
    "%autoreload 2"
   ],
   "id": "initial_id",
   "outputs": [],
   "execution_count": 3
  },
  {
   "metadata": {
    "ExecuteTime": {
     "end_time": "2024-09-27T09:13:59.917965Z",
     "start_time": "2024-09-27T09:13:59.786355Z"
    }
   },
   "cell_type": "code",
   "source": [
    "df = pd.read_csv(raw_data_name).drop(columns=['difference', 'percent', 'supply_total', 'supply_new'])\n",
    "df"
   ],
   "id": "96a6bbd4551f4cff",
   "outputs": [
    {
     "data": {
      "text/plain": [
       "                        ID  _type  target      hashrate  taker_buy_sell_ratio  \\\n",
       "0      2023-01-01 00:00:00  train     2.0  5.062917e+11              0.904774   \n",
       "1      2023-01-01 01:00:00  train     1.0  1.687639e+11              1.655721   \n",
       "2      2023-01-01 02:00:00  train     1.0  3.375278e+11              1.027512   \n",
       "3      2023-01-01 03:00:00  train     1.0  2.109549e+11              0.874477   \n",
       "4      2023-01-01 04:00:00  train     2.0  2.953368e+11              0.966796   \n",
       "...                    ...    ...     ...           ...                   ...   \n",
       "11547  2024-04-26 03:00:00   test     NaN  3.153372e+11                   NaN   \n",
       "11548  2024-04-26 04:00:00   test     NaN  6.306744e+11                   NaN   \n",
       "11549  2024-04-26 05:00:00   test     NaN  6.306744e+11                   NaN   \n",
       "11550  2024-04-26 06:00:00   test     NaN  4.204496e+11                   NaN   \n",
       "11551  2024-04-26 07:00:00   test     NaN  3.153372e+11                   NaN   \n",
       "\n",
       "       open_interest  funding_rates  coinbase_premium_index   utxo_count  \\\n",
       "0       6.271344e+09       0.005049               -0.059650   83308092.0   \n",
       "1       6.288683e+09       0.005049               -0.053047   83314883.0   \n",
       "2       6.286796e+09       0.005049               -0.057952   83314090.0   \n",
       "3       6.284575e+09       0.005067               -0.058912   83326258.0   \n",
       "4       6.291582e+09       0.006210               -0.061373   83339168.0   \n",
       "...              ...            ...                     ...          ...   \n",
       "11547   1.486836e+10            NaN               -0.002376  179820708.0   \n",
       "11548            NaN            NaN               -0.018268  179833897.0   \n",
       "11549            NaN            NaN                0.002866  179851249.0   \n",
       "11550            NaN            NaN               -0.003184  179852452.0   \n",
       "11551            NaN            NaN                     NaN          NaN   \n",
       "\n",
       "       transactions_count_total  total_liquidations  liquidation_diff  \\\n",
       "0                       11457.0            0.012000          0.012000   \n",
       "1                        5832.0            0.712000         -0.712000   \n",
       "2                        5550.0            0.000000          0.000000   \n",
       "3                        5245.0            0.593000          0.593000   \n",
       "4                        6942.0            0.361000          0.361000   \n",
       "...                         ...                 ...               ...   \n",
       "11547                   10048.0            0.953500          0.466500   \n",
       "11548                       NaN            6.723208          6.431208   \n",
       "11549                       NaN            7.013653         -3.419327   \n",
       "11550                       NaN            2.459000         -0.853000   \n",
       "11551                       NaN            6.290439         -1.569674   \n",
       "\n",
       "       total_taker_volume  estimated_block_reward_usd  leverage_usage  \n",
       "0            9.785846e+07               104057.980295      325.805838  \n",
       "1            6.376728e+07               104403.922724      326.706233  \n",
       "2            4.746397e+07               104021.263731      326.607363  \n",
       "3            6.130988e+07               103993.945406      326.491402  \n",
       "4            6.281486e+07               104100.262482      326.854700  \n",
       "...                   ...                         ...             ...  \n",
       "11547                 NaN               251543.725340             NaN  \n",
       "11548                 NaN               244385.395493             NaN  \n",
       "11549                 NaN               241170.877304             NaN  \n",
       "11550                 NaN               232681.919923             NaN  \n",
       "11551                 NaN               255698.284272             NaN  \n",
       "\n",
       "[11552 rows x 15 columns]"
      ],
      "text/html": [
       "<div>\n",
       "<style scoped>\n",
       "    .dataframe tbody tr th:only-of-type {\n",
       "        vertical-align: middle;\n",
       "    }\n",
       "\n",
       "    .dataframe tbody tr th {\n",
       "        vertical-align: top;\n",
       "    }\n",
       "\n",
       "    .dataframe thead th {\n",
       "        text-align: right;\n",
       "    }\n",
       "</style>\n",
       "<table border=\"1\" class=\"dataframe\">\n",
       "  <thead>\n",
       "    <tr style=\"text-align: right;\">\n",
       "      <th></th>\n",
       "      <th>ID</th>\n",
       "      <th>_type</th>\n",
       "      <th>target</th>\n",
       "      <th>hashrate</th>\n",
       "      <th>taker_buy_sell_ratio</th>\n",
       "      <th>open_interest</th>\n",
       "      <th>funding_rates</th>\n",
       "      <th>coinbase_premium_index</th>\n",
       "      <th>utxo_count</th>\n",
       "      <th>transactions_count_total</th>\n",
       "      <th>total_liquidations</th>\n",
       "      <th>liquidation_diff</th>\n",
       "      <th>total_taker_volume</th>\n",
       "      <th>estimated_block_reward_usd</th>\n",
       "      <th>leverage_usage</th>\n",
       "    </tr>\n",
       "  </thead>\n",
       "  <tbody>\n",
       "    <tr>\n",
       "      <th>0</th>\n",
       "      <td>2023-01-01 00:00:00</td>\n",
       "      <td>train</td>\n",
       "      <td>2.0</td>\n",
       "      <td>5.062917e+11</td>\n",
       "      <td>0.904774</td>\n",
       "      <td>6.271344e+09</td>\n",
       "      <td>0.005049</td>\n",
       "      <td>-0.059650</td>\n",
       "      <td>83308092.0</td>\n",
       "      <td>11457.0</td>\n",
       "      <td>0.012000</td>\n",
       "      <td>0.012000</td>\n",
       "      <td>9.785846e+07</td>\n",
       "      <td>104057.980295</td>\n",
       "      <td>325.805838</td>\n",
       "    </tr>\n",
       "    <tr>\n",
       "      <th>1</th>\n",
       "      <td>2023-01-01 01:00:00</td>\n",
       "      <td>train</td>\n",
       "      <td>1.0</td>\n",
       "      <td>1.687639e+11</td>\n",
       "      <td>1.655721</td>\n",
       "      <td>6.288683e+09</td>\n",
       "      <td>0.005049</td>\n",
       "      <td>-0.053047</td>\n",
       "      <td>83314883.0</td>\n",
       "      <td>5832.0</td>\n",
       "      <td>0.712000</td>\n",
       "      <td>-0.712000</td>\n",
       "      <td>6.376728e+07</td>\n",
       "      <td>104403.922724</td>\n",
       "      <td>326.706233</td>\n",
       "    </tr>\n",
       "    <tr>\n",
       "      <th>2</th>\n",
       "      <td>2023-01-01 02:00:00</td>\n",
       "      <td>train</td>\n",
       "      <td>1.0</td>\n",
       "      <td>3.375278e+11</td>\n",
       "      <td>1.027512</td>\n",
       "      <td>6.286796e+09</td>\n",
       "      <td>0.005049</td>\n",
       "      <td>-0.057952</td>\n",
       "      <td>83314090.0</td>\n",
       "      <td>5550.0</td>\n",
       "      <td>0.000000</td>\n",
       "      <td>0.000000</td>\n",
       "      <td>4.746397e+07</td>\n",
       "      <td>104021.263731</td>\n",
       "      <td>326.607363</td>\n",
       "    </tr>\n",
       "    <tr>\n",
       "      <th>3</th>\n",
       "      <td>2023-01-01 03:00:00</td>\n",
       "      <td>train</td>\n",
       "      <td>1.0</td>\n",
       "      <td>2.109549e+11</td>\n",
       "      <td>0.874477</td>\n",
       "      <td>6.284575e+09</td>\n",
       "      <td>0.005067</td>\n",
       "      <td>-0.058912</td>\n",
       "      <td>83326258.0</td>\n",
       "      <td>5245.0</td>\n",
       "      <td>0.593000</td>\n",
       "      <td>0.593000</td>\n",
       "      <td>6.130988e+07</td>\n",
       "      <td>103993.945406</td>\n",
       "      <td>326.491402</td>\n",
       "    </tr>\n",
       "    <tr>\n",
       "      <th>4</th>\n",
       "      <td>2023-01-01 04:00:00</td>\n",
       "      <td>train</td>\n",
       "      <td>2.0</td>\n",
       "      <td>2.953368e+11</td>\n",
       "      <td>0.966796</td>\n",
       "      <td>6.291582e+09</td>\n",
       "      <td>0.006210</td>\n",
       "      <td>-0.061373</td>\n",
       "      <td>83339168.0</td>\n",
       "      <td>6942.0</td>\n",
       "      <td>0.361000</td>\n",
       "      <td>0.361000</td>\n",
       "      <td>6.281486e+07</td>\n",
       "      <td>104100.262482</td>\n",
       "      <td>326.854700</td>\n",
       "    </tr>\n",
       "    <tr>\n",
       "      <th>...</th>\n",
       "      <td>...</td>\n",
       "      <td>...</td>\n",
       "      <td>...</td>\n",
       "      <td>...</td>\n",
       "      <td>...</td>\n",
       "      <td>...</td>\n",
       "      <td>...</td>\n",
       "      <td>...</td>\n",
       "      <td>...</td>\n",
       "      <td>...</td>\n",
       "      <td>...</td>\n",
       "      <td>...</td>\n",
       "      <td>...</td>\n",
       "      <td>...</td>\n",
       "      <td>...</td>\n",
       "    </tr>\n",
       "    <tr>\n",
       "      <th>11547</th>\n",
       "      <td>2024-04-26 03:00:00</td>\n",
       "      <td>test</td>\n",
       "      <td>NaN</td>\n",
       "      <td>3.153372e+11</td>\n",
       "      <td>NaN</td>\n",
       "      <td>1.486836e+10</td>\n",
       "      <td>NaN</td>\n",
       "      <td>-0.002376</td>\n",
       "      <td>179820708.0</td>\n",
       "      <td>10048.0</td>\n",
       "      <td>0.953500</td>\n",
       "      <td>0.466500</td>\n",
       "      <td>NaN</td>\n",
       "      <td>251543.725340</td>\n",
       "      <td>NaN</td>\n",
       "    </tr>\n",
       "    <tr>\n",
       "      <th>11548</th>\n",
       "      <td>2024-04-26 04:00:00</td>\n",
       "      <td>test</td>\n",
       "      <td>NaN</td>\n",
       "      <td>6.306744e+11</td>\n",
       "      <td>NaN</td>\n",
       "      <td>NaN</td>\n",
       "      <td>NaN</td>\n",
       "      <td>-0.018268</td>\n",
       "      <td>179833897.0</td>\n",
       "      <td>NaN</td>\n",
       "      <td>6.723208</td>\n",
       "      <td>6.431208</td>\n",
       "      <td>NaN</td>\n",
       "      <td>244385.395493</td>\n",
       "      <td>NaN</td>\n",
       "    </tr>\n",
       "    <tr>\n",
       "      <th>11549</th>\n",
       "      <td>2024-04-26 05:00:00</td>\n",
       "      <td>test</td>\n",
       "      <td>NaN</td>\n",
       "      <td>6.306744e+11</td>\n",
       "      <td>NaN</td>\n",
       "      <td>NaN</td>\n",
       "      <td>NaN</td>\n",
       "      <td>0.002866</td>\n",
       "      <td>179851249.0</td>\n",
       "      <td>NaN</td>\n",
       "      <td>7.013653</td>\n",
       "      <td>-3.419327</td>\n",
       "      <td>NaN</td>\n",
       "      <td>241170.877304</td>\n",
       "      <td>NaN</td>\n",
       "    </tr>\n",
       "    <tr>\n",
       "      <th>11550</th>\n",
       "      <td>2024-04-26 06:00:00</td>\n",
       "      <td>test</td>\n",
       "      <td>NaN</td>\n",
       "      <td>4.204496e+11</td>\n",
       "      <td>NaN</td>\n",
       "      <td>NaN</td>\n",
       "      <td>NaN</td>\n",
       "      <td>-0.003184</td>\n",
       "      <td>179852452.0</td>\n",
       "      <td>NaN</td>\n",
       "      <td>2.459000</td>\n",
       "      <td>-0.853000</td>\n",
       "      <td>NaN</td>\n",
       "      <td>232681.919923</td>\n",
       "      <td>NaN</td>\n",
       "    </tr>\n",
       "    <tr>\n",
       "      <th>11551</th>\n",
       "      <td>2024-04-26 07:00:00</td>\n",
       "      <td>test</td>\n",
       "      <td>NaN</td>\n",
       "      <td>3.153372e+11</td>\n",
       "      <td>NaN</td>\n",
       "      <td>NaN</td>\n",
       "      <td>NaN</td>\n",
       "      <td>NaN</td>\n",
       "      <td>NaN</td>\n",
       "      <td>NaN</td>\n",
       "      <td>6.290439</td>\n",
       "      <td>-1.569674</td>\n",
       "      <td>NaN</td>\n",
       "      <td>255698.284272</td>\n",
       "      <td>NaN</td>\n",
       "    </tr>\n",
       "  </tbody>\n",
       "</table>\n",
       "<p>11552 rows × 15 columns</p>\n",
       "</div>"
      ]
     },
     "execution_count": 4,
     "metadata": {},
     "output_type": "execute_result"
    }
   ],
   "execution_count": 4
  },
  {
   "metadata": {
    "ExecuteTime": {
     "end_time": "2024-09-27T09:14:00.487248Z",
     "start_time": "2024-09-27T09:14:00.393759Z"
    }
   },
   "cell_type": "code",
   "source": [
    "# NaN 값 확인\n",
    "df.isna().sum()"
   ],
   "id": "400b36063184649",
   "outputs": [
    {
     "data": {
      "text/plain": [
       "ID                               0\n",
       "_type                            0\n",
       "target                        2792\n",
       "hashrate                         0\n",
       "taker_buy_sell_ratio            31\n",
       "open_interest                    4\n",
       "funding_rates                   32\n",
       "coinbase_premium_index           6\n",
       "utxo_count                       1\n",
       "transactions_count_total         4\n",
       "total_liquidations               0\n",
       "liquidation_diff                 0\n",
       "total_taker_volume              31\n",
       "estimated_block_reward_usd      24\n",
       "leverage_usage                  28\n",
       "dtype: int64"
      ]
     },
     "execution_count": 5,
     "metadata": {},
     "output_type": "execute_result"
    }
   ],
   "execution_count": 5
  },
  {
   "metadata": {
    "ExecuteTime": {
     "end_time": "2024-09-27T09:14:01.027453Z",
     "start_time": "2024-09-27T09:14:00.924054Z"
    }
   },
   "cell_type": "code",
   "source": "df['ID'] = pd.to_datetime(df['ID'])",
   "id": "f5dc036f8b38f7af",
   "outputs": [],
   "execution_count": 6
  },
  {
   "metadata": {
    "ExecuteTime": {
     "end_time": "2024-09-27T09:14:01.422388Z",
     "start_time": "2024-09-27T09:14:01.326544Z"
    }
   },
   "cell_type": "code",
   "source": [
    "# train, test 분리\n",
    "train_df = df.loc[df['_type']=='train'].drop(columns=['_type'])\n",
    "test_df = df.loc[df['_type']=='test'].drop(columns=['_type'])"
   ],
   "id": "b16ccb5d34dabaaa",
   "outputs": [],
   "execution_count": 7
  },
  {
   "metadata": {
    "ExecuteTime": {
     "end_time": "2024-09-27T09:14:02.345699Z",
     "start_time": "2024-09-27T09:14:02.121812Z"
    }
   },
   "cell_type": "code",
   "source": [
    "# train_test_split 으로 valid set, train set 분리\n",
    "x_train, x_valid, y_train, y_valid = train_test_split(\n",
    "    train_df.drop(['target', 'ID'], axis = 1), \n",
    "    train_df['target'].astype(int), \n",
    "    test_size=0.2,\n",
    "    random_state=42,\n",
    ")\n",
    "\n",
    "# lgb dataset\n",
    "train_data = lgb.Dataset(x_train, label=y_train)\n",
    "valid_data = lgb.Dataset(x_valid, label=y_valid, reference=train_data)\n",
    "\n",
    "# lgb params\n",
    "params = {\n",
    "    'boosting_type': 'gbdt',\n",
    "    'objective': 'multiclass',\n",
    "    'metric': 'multi_logloss',\n",
    "    'num_class': 4,\n",
    "    'num_leaves': 50,\n",
    "    'learning_rate': 0.05,\n",
    "    'n_estimators': 30,\n",
    "    'random_state': 42,\n",
    "    'verbose': 0,\n",
    "}\n",
    "\n",
    "# lgb train\n",
    "lgb_model = lgb.train(\n",
    "    params=params,\n",
    "    train_set=train_data,\n",
    "    valid_sets=valid_data,\n",
    ")\n",
    "\n",
    "# lgb predict\n",
    "y_valid_pred = lgb_model.predict(x_valid)\n",
    "y_valid_pred_class = np.argmax(y_valid_pred, axis = 1)\n",
    "\n",
    "# score check\n",
    "accuracy = accuracy_score(y_valid, y_valid_pred_class)\n",
    "auroc = roc_auc_score(y_valid, y_valid_pred, multi_class='ovr')\n",
    "\n",
    "print(f'acc: {accuracy}, auroc: {auroc}')"
   ],
   "id": "3c783656da5426fc",
   "outputs": [
    {
     "name": "stdout",
     "output_type": "stream",
     "text": [
      "acc: 0.4195205479452055, auroc: 0.6336320258636032\n"
     ]
    },
    {
     "name": "stderr",
     "output_type": "stream",
     "text": [
      "C:\\Users\\Minari\\anaconda3\\envs\\bProject01\\Lib\\site-packages\\lightgbm\\engine.py:172: UserWarning: Found `n_estimators` in params. Will use it instead of argument\n",
      "  _log_warning(f\"Found `{alias}` in params. Will use it instead of argument\")\n"
     ]
    }
   ],
   "execution_count": 8
  },
  {
   "metadata": {
    "ExecuteTime": {
     "end_time": "2024-09-27T09:14:02.844455Z",
     "start_time": "2024-09-27T09:14:02.746942Z"
    }
   },
   "cell_type": "code",
   "source": [
    "train_merged_df_with_target = x_train.copy()\n",
    "train_merged_df_with_target['close'] = y_train\n",
    "\n",
    "# 피어슨 상관계수 계산\n",
    "correlation_matrix = train_merged_df_with_target.corr()\n",
    "\n",
    "# 타겟과 각 피처 간의 상관계수만 추출 후 반환\n",
    "correlation_matrix['close'].drop('close').sort_values(ascending=False)"
   ],
   "id": "2de7dafa335e3328",
   "outputs": [
    {
     "data": {
      "text/plain": [
       "total_liquidations            0.031538\n",
       "liquidation_diff              0.025992\n",
       "total_taker_volume            0.022436\n",
       "coinbase_premium_index        0.014207\n",
       "hashrate                     -0.000217\n",
       "transactions_count_total     -0.006974\n",
       "utxo_count                   -0.007336\n",
       "estimated_block_reward_usd   -0.010587\n",
       "open_interest                -0.014429\n",
       "leverage_usage               -0.014617\n",
       "funding_rates                -0.019367\n",
       "taker_buy_sell_ratio         -0.041525\n",
       "Name: close, dtype: float64"
      ]
     },
     "execution_count": 9,
     "metadata": {},
     "output_type": "execute_result"
    }
   ],
   "execution_count": 9
  },
  {
   "metadata": {
    "ExecuteTime": {
     "end_time": "2024-09-27T09:14:03.418865Z",
     "start_time": "2024-09-27T09:14:03.325522Z"
    }
   },
   "cell_type": "code",
   "source": [
    "# importance gain 표시(영향을 끼친 정도)\n",
    "f_import = lgb_model.feature_importance(importance_type='gain')\n",
    "f_names = x_train.columns\n",
    "\n",
    "ser = pd.Series(f_import, index=f_names, name='gain')\n",
    "\n",
    "ser = ser / f_import.sum()\n",
    "\n",
    "ser.sort_values(ascending=False, inplace=True)\n",
    "\n",
    "ser"
   ],
   "id": "482bf765f42601a9",
   "outputs": [
    {
     "data": {
      "text/plain": [
       "total_taker_volume            0.164126\n",
       "utxo_count                    0.121597\n",
       "coinbase_premium_index        0.099977\n",
       "taker_buy_sell_ratio          0.094414\n",
       "liquidation_diff              0.085325\n",
       "transactions_count_total      0.082445\n",
       "estimated_block_reward_usd    0.078331\n",
       "funding_rates                 0.070291\n",
       "total_liquidations            0.065011\n",
       "hashrate                      0.060636\n",
       "open_interest                 0.046375\n",
       "leverage_usage                0.031472\n",
       "Name: gain, dtype: float64"
      ]
     },
     "execution_count": 10,
     "metadata": {},
     "output_type": "execute_result"
    }
   ],
   "execution_count": 10
  },
  {
   "metadata": {
    "ExecuteTime": {
     "end_time": "2024-09-27T09:14:04.007892Z",
     "start_time": "2024-09-27T09:14:03.912403Z"
    }
   },
   "cell_type": "code",
   "source": [
    "# importance split 표시(영향을 끼친 횟수)\n",
    "f_import = lgb_model.feature_importance(importance_type='split')\n",
    "f_names = x_train.columns\n",
    "\n",
    "ser = pd.Series(f_import, index=f_names, name='split')\n",
    "\n",
    "ser.sort_values(ascending=False, inplace=True)\n",
    "\n",
    "ser"
   ],
   "id": "737dfc682e217b25",
   "outputs": [
    {
     "data": {
      "text/plain": [
       "coinbase_premium_index        695\n",
       "total_taker_volume            684\n",
       "taker_buy_sell_ratio          648\n",
       "transactions_count_total      568\n",
       "utxo_count                    555\n",
       "funding_rates                 478\n",
       "estimated_block_reward_usd    451\n",
       "total_liquidations            445\n",
       "liquidation_diff              440\n",
       "hashrate                      417\n",
       "open_interest                 297\n",
       "leverage_usage                202\n",
       "Name: split, dtype: int32"
      ]
     },
     "execution_count": 11,
     "metadata": {},
     "output_type": "execute_result"
    }
   ],
   "execution_count": 11
  },
  {
   "metadata": {
    "ExecuteTime": {
     "end_time": "2024-09-27T09:14:04.586081Z",
     "start_time": "2024-09-27T09:14:04.489047Z"
    }
   },
   "cell_type": "code",
   "source": [
    "# test_set 불러오기\n",
    "submission_df: pd.DataFrame = pd.read_csv(os.path.join('../../data/', 'test.csv'))"
   ],
   "id": "d14356fe240ed828",
   "outputs": [],
   "execution_count": 12
  },
  {
   "metadata": {
    "ExecuteTime": {
     "end_time": "2024-09-27T09:14:05.200115Z",
     "start_time": "2024-09-27T09:14:05.106714Z"
    }
   },
   "cell_type": "code",
   "source": [
    "# 모델을 통해 test에 예상 값 채우기\n",
    "y_test_pred = lgb_model.predict(test_df.drop(['target', 'ID'], axis = 1))\n",
    "y_test_pred_class = np.argmax(y_test_pred, axis = 1)"
   ],
   "id": "f2bbb4c015017df0",
   "outputs": [],
   "execution_count": 13
  },
  {
   "metadata": {
    "ExecuteTime": {
     "end_time": "2024-09-27T09:14:05.737920Z",
     "start_time": "2024-09-27T09:14:05.641488Z"
    }
   },
   "cell_type": "code",
   "source": [
    "submission_df = submission_df.assign(target = y_test_pred_class)\n",
    "submission_df['target'].value_counts()"
   ],
   "id": "3ea206f9ba6419df",
   "outputs": [
    {
     "data": {
      "text/plain": [
       "target\n",
       "2    1650\n",
       "1    1067\n",
       "3      59\n",
       "0      16\n",
       "Name: count, dtype: int64"
      ]
     },
     "execution_count": 14,
     "metadata": {},
     "output_type": "execute_result"
    }
   ],
   "execution_count": 14
  },
  {
   "metadata": {
    "ExecuteTime": {
     "end_time": "2024-09-27T09:14:06.451562Z",
     "start_time": "2024-09-27T09:14:06.239356Z"
    }
   },
   "cell_type": "code",
   "source": [
    "value_counts = submission_df['target'].value_counts().sort_index()\n",
    "\n",
    "plt.figure(figsize=(8, 6))\n",
    "plt.bar(value_counts.index, value_counts.values, color=['blue', 'green', 'red', 'orange'])\n",
    "plt.xticks([0, 1, 2, 3])\n",
    "plt.xlabel('Target')\n",
    "plt.ylabel('Count')\n",
    "plt.title('submission_df')\n",
    "plt.show()"
   ],
   "id": "af673b5f512330d3",
   "outputs": [
    {
     "data": {
      "text/plain": [
       "<Figure size 800x600 with 1 Axes>"
      ],
      "image/png": "[encoded data removed]"
     },
     "metadata": {},
     "output_type": "display_data"
    }
   ],
   "execution_count": 15
  },
  {
   "metadata": {
    "ExecuteTime": {
     "end_time": "2024-09-27T09:14:07.614120Z",
     "start_time": "2024-09-27T09:14:06.956122Z"
    }
   },
   "cell_type": "code",
   "source": [
    "from time_series_CV import TimeSeriesCV as tsCV\n",
    "ts = tsCV(train_df)\n",
    "ts.train()"
   ],
   "id": "ef950f49b00e870b",
   "outputs": [
    {
     "name": "stdout",
     "output_type": "stream",
     "text": [
      "Fold accuracy: 0.40205479452054793\n",
      "Fold accuracy: 0.4226027397260274\n",
      "Fold accuracy: 0.36506849315068496\n",
      "Fold accuracy: 0.44452054794520546\n",
      "Fold accuracy: 0.4321917808219178\n",
      "     Fold  Accuracy\n",
      "0  Fold 1  0.402055\n",
      "1  Fold 2  0.422603\n",
      "2  Fold 3  0.365068\n",
      "3  Fold 4  0.444521\n",
      "4  Fold 5  0.432192\n"
     ]
    },
    {
     "name": "stderr",
     "output_type": "stream",
     "text": [
      "C:\\Users\\Minari\\anaconda3\\envs\\bProject01\\Lib\\site-packages\\sklearn\\metrics\\_classification.py:1509: UndefinedMetricWarning: Precision is ill-defined and being set to 0.0 in labels with no predicted samples. Use `zero_division` parameter to control this behavior.\n",
      "  _warn_prf(average, modifier, f\"{metric.capitalize()} is\", len(result))\n"
     ]
    }
   ],
   "execution_count": 16
  },
  {
   "metadata": {
    "ExecuteTime": {
     "end_time": "2024-09-27T09:14:08.135128Z",
     "start_time": "2024-09-27T09:14:08.041914Z"
    }
   },
   "cell_type": "code",
   "source": "ts.print_performance()",
   "id": "4315473fc91710c3",
   "outputs": [
    {
     "name": "stdout",
     "output_type": "stream",
     "text": [
      "F1 Score: 0.2365941458366144\n",
      "Precision: 0.21713059264021783\n",
      "Recall: 0.26134373289545704\n",
      "Confusion Matrix: \n",
      "[[  0  71  48   0]\n",
      " [  0 320 259   1]\n",
      " [  0 317 311   2]\n",
      " [  0  64  67   0]]\n"
     ]
    }
   ],
   "execution_count": 17
  },
  {
   "metadata": {
    "ExecuteTime": {
     "end_time": "2024-09-27T09:14:08.652937Z",
     "start_time": "2024-09-27T09:14:08.552937Z"
    }
   },
   "cell_type": "code",
   "source": [
    "ts_pred = ts.model.predict(test_df.drop(['target', 'ID'], axis = 1))\n",
    "ts_submission_df = submission_df.assign(target = ts_pred)\n",
    "ts_submission_df['target'].value_counts()"
   ],
   "id": "ae39ddc5d52d4c72",
   "outputs": [
    {
     "data": {
      "text/plain": [
       "target\n",
       "1    1457\n",
       "2    1268\n",
       "3      65\n",
       "0       2\n",
       "Name: count, dtype: int64"
      ]
     },
     "execution_count": 18,
     "metadata": {},
     "output_type": "execute_result"
    }
   ],
   "execution_count": 18
  },
  {
   "metadata": {
    "ExecuteTime": {
     "end_time": "2024-09-27T09:14:09.335096Z",
     "start_time": "2024-09-27T09:14:09.163011Z"
    }
   },
   "cell_type": "code",
   "source": [
    "ts_value_counts = ts_submission_df['target'].value_counts().sort_index()\n",
    "\n",
    "print(ts_value_counts)\n",
    "\n",
    "plt.figure(figsize=(8, 6))\n",
    "plt.bar(ts_value_counts.index, ts_value_counts.values, color=['blue', 'green', 'red', 'orange'])\n",
    "plt.xticks([0, 1, 2, 3])\n",
    "plt.xlabel('Classes')\n",
    "plt.ylabel('Count')\n",
    "plt.title('ts_value_counts')\n",
    "plt.show()"
   ],
   "id": "b5c2744ef9d4ee19",
   "outputs": [
    {
     "name": "stdout",
     "output_type": "stream",
     "text": [
      "target\n",
      "0       2\n",
      "1    1457\n",
      "2    1268\n",
      "3      65\n",
      "Name: count, dtype: int64\n"
     ]
    },
    {
     "data": {
      "text/plain": [
       "<Figure size 800x600 with 1 Axes>"
      ],
      "image/png": "[encoded data removed]"
     },
     "metadata": {},
     "output_type": "display_data"
    }
   ],
   "execution_count": 19
  },
  {
   "metadata": {
    "ExecuteTime": {
     "end_time": "2024-09-27T09:14:09.953748Z",
     "start_time": "2024-09-27T09:14:09.847749Z"
    }
   },
   "cell_type": "code",
   "source": [
    "submission_df: pd.DataFrame = pd.read_csv(os.path.join('../../data/', \"test.csv\"))\n",
    "y_test_pred = lgb_model.predict(test_df.drop([\"target\", \"ID\"], axis = 1))\n",
    "y_test_pred_class = np.argmax(y_test_pred, axis = 1)\n",
    "ts_submission_df = ts_submission_df.assign(target = y_test_pred_class)\n",
    "ts_submission_df.to_csv(output_csv_name, index=False)"
   ],
   "id": "6e6541711de27537",
   "outputs": [],
   "execution_count": 20
  }
 ],
 "metadata": {
  "kernelspec": {
   "display_name": "Python 3",
   "language": "python",
   "name": "python3"
  },
  "language_info": {
   "codemirror_mode": {
    "name": "ipython",
    "version": 2
   },
   "file_extension": ".py",
   "mimetype": "text/x-python",
   "name": "python",
   "nbconvert_exporter": "python",
   "pygments_lexer": "ipython2",
   "version": "2.7.6"
  }
 },
 "nbformat": 4,
 "nbformat_minor": 5
}
