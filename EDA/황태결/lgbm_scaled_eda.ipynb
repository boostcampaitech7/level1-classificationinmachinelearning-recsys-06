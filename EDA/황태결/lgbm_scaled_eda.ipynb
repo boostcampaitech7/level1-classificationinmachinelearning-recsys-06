{
 "cells": [
  {
   "cell_type": "code",
   "id": "c6907e37f8d378c1",
   "metadata": {
    "collapsed": true,
    "ExecuteTime": {
     "end_time": "2024-09-27T08:59:19.810711Z",
     "start_time": "2024-09-27T08:59:19.807015Z"
    }
   },
   "source": [
    "import os,sys\n",
    "import numpy as np\n",
    "import pandas as pd\n",
    "from sklearn.metrics import accuracy_score, roc_auc_score\n",
    "import lightgbm as lgb\n",
    "import matplotlib.pyplot as plt\n",
    "from sklearn.model_selection import train_test_split\n",
    "\n",
    "# 공통 변수\n",
    "raw_data_name = 'scaled_eda.csv'\n",
    "output_csv_name = 'output2.csv'\n",
    "\n",
    "# Code 경로 추가\n",
    "sys.path.append(os.path.dirname(os.path.dirname(os.path.abspath(''))))\n",
    "print(sys.path[-1])"
   ],
   "outputs": [
    {
     "name": "stdout",
     "output_type": "stream",
     "text": [
      "C:\\Users\\Minari\\Documents\\GitHub\\level1-classificationinmachinelearning-recsys-06\n"
     ]
    }
   ],
   "execution_count": 2
  },
  {
   "metadata": {
    "ExecuteTime": {
     "end_time": "2024-09-27T08:59:20.212956Z",
     "start_time": "2024-09-27T08:59:20.108957Z"
    }
   },
   "cell_type": "code",
   "source": [
    "%load_ext autoreload\n",
    "%autoreload 2"
   ],
   "id": "initial_id",
   "outputs": [],
   "execution_count": 3
  },
  {
   "metadata": {
    "ExecuteTime": {
     "end_time": "2024-09-27T08:59:20.573388Z",
     "start_time": "2024-09-27T08:59:20.438386Z"
    }
   },
   "cell_type": "code",
   "source": [
    "df = pd.read_csv(raw_data_name)\n",
    "df"
   ],
   "id": "96a6bbd4551f4cff",
   "outputs": [
    {
     "data": {
      "text/plain": [
       "                        ID  _type  target  scaled_log_hashrate  \\\n",
       "0      2023-01-01 00:00:00  train     2.0             0.343899   \n",
       "1      2023-01-01 01:00:00  train     1.0            -0.479569   \n",
       "2      2023-01-01 02:00:00  train     1.0             0.039981   \n",
       "3      2023-01-01 03:00:00  train     1.0            -0.312311   \n",
       "4      2023-01-01 04:00:00  train     2.0            -0.060107   \n",
       "...                    ...    ...     ...                  ...   \n",
       "11547  2024-04-26 03:00:00   test     NaN            -0.369730   \n",
       "11548  2024-04-26 04:00:00   test     NaN             0.191102   \n",
       "11549  2024-04-26 05:00:00   test     NaN             0.191102   \n",
       "11550  2024-04-26 06:00:00   test     NaN            -0.136964   \n",
       "11551  2024-04-26 07:00:00   test     NaN            -0.369730   \n",
       "\n",
       "       scaled_log_open_interest  scaled_log_coinbase_premium_index  \\\n",
       "0                     -2.074545                          -1.004418   \n",
       "1                     -2.055443                          -0.920481   \n",
       "2                     -2.057519                          -0.982775   \n",
       "3                     -2.059965                          -0.995009   \n",
       "4                     -2.052255                          -1.026415   \n",
       "...                         ...                                ...   \n",
       "11547                  0.534373                          -0.235206   \n",
       "11548                       NaN                          -0.472610   \n",
       "11549                       NaN                          -0.157720   \n",
       "11550                       NaN                          -0.247183   \n",
       "11551                       NaN                                NaN   \n",
       "\n",
       "       scaled_funding_rates  scaled_estimated_block_reward  \\\n",
       "0                 -0.190599                      -2.283932   \n",
       "1                 -0.190611                      -2.271191   \n",
       "2                 -0.190679                      -2.285286   \n",
       "3                 -0.188985                      -2.286295   \n",
       "4                 -0.083030                      -2.282372   \n",
       "...                     ...                            ...   \n",
       "11547                   NaN                      -1.782316   \n",
       "11548                   NaN                      -1.918750   \n",
       "11549                   NaN                      -1.981323   \n",
       "11550                   NaN                      -2.150662   \n",
       "11551                   NaN                      -1.704902   \n",
       "\n",
       "       scaled_liquidation_diff  scaled_log_total_liquidation  \\\n",
       "0                    -0.013822                     -1.407440   \n",
       "1                    -0.020702                     -1.089259   \n",
       "2                    -0.013936                     -1.414659   \n",
       "3                    -0.008301                     -1.132860   \n",
       "4                    -0.010506                     -1.228120   \n",
       "...                        ...                           ...   \n",
       "11547                -0.032620                     -1.383570   \n",
       "11548                 0.052758                     -0.438363   \n",
       "11549                -0.088241                     -0.412978   \n",
       "11550                -0.051507                     -0.990694   \n",
       "11551                -0.061766                     -0.478015   \n",
       "\n",
       "       scaled_log_total_taker_volume  scaled_utxo_count  \\\n",
       "0                          -1.507090          -1.216481   \n",
       "1                          -1.998687          -1.216149   \n",
       "2                          -2.337608          -1.216188   \n",
       "3                          -2.043796          -1.215593   \n",
       "4                          -2.015961          -1.214962   \n",
       "...                              ...                ...   \n",
       "11547                            NaN           2.350929   \n",
       "11548                            NaN           2.352974   \n",
       "11549                            NaN           2.355665   \n",
       "11550                            NaN           2.355852   \n",
       "11551                            NaN                NaN   \n",
       "\n",
       "       scaled_total_transactions_count  taker_buy_sell_ratio  \\\n",
       "0                            -0.616412              0.904774   \n",
       "1                            -1.202730              1.655721   \n",
       "2                            -1.232124              1.027512   \n",
       "3                            -1.263915              0.874477   \n",
       "4                            -1.087030              0.966796   \n",
       "...                                ...                   ...   \n",
       "11547                        -0.872964                   NaN   \n",
       "11548                              NaN                   NaN   \n",
       "11549                              NaN                   NaN   \n",
       "11550                              NaN                   NaN   \n",
       "11551                              NaN                   NaN   \n",
       "\n",
       "       moving_avg_scaled_log_total_volume  open_interest_diff  \n",
       "0                               -1.507090                 NaN  \n",
       "1                               -1.752889        1.733962e+07  \n",
       "2                               -1.947795       -1.886794e+06  \n",
       "3                               -1.971795       -2.221901e+06  \n",
       "4                               -1.980628        7.007341e+06  \n",
       "...                                   ...                 ...  \n",
       "11547                                 NaN       -2.193716e+07  \n",
       "11548                                 NaN                 NaN  \n",
       "11549                                 NaN                 NaN  \n",
       "11550                                 NaN                 NaN  \n",
       "11551                                 NaN                 NaN  \n",
       "\n",
       "[11552 rows x 16 columns]"
      ],
      "text/html": [
       "<div>\n",
       "<style scoped>\n",
       "    .dataframe tbody tr th:only-of-type {\n",
       "        vertical-align: middle;\n",
       "    }\n",
       "\n",
       "    .dataframe tbody tr th {\n",
       "        vertical-align: top;\n",
       "    }\n",
       "\n",
       "    .dataframe thead th {\n",
       "        text-align: right;\n",
       "    }\n",
       "</style>\n",
       "<table border=\"1\" class=\"dataframe\">\n",
       "  <thead>\n",
       "    <tr style=\"text-align: right;\">\n",
       "      <th></th>\n",
       "      <th>ID</th>\n",
       "      <th>_type</th>\n",
       "      <th>target</th>\n",
       "      <th>scaled_log_hashrate</th>\n",
       "      <th>scaled_log_open_interest</th>\n",
       "      <th>scaled_log_coinbase_premium_index</th>\n",
       "      <th>scaled_funding_rates</th>\n",
       "      <th>scaled_estimated_block_reward</th>\n",
       "      <th>scaled_liquidation_diff</th>\n",
       "      <th>scaled_log_total_liquidation</th>\n",
       "      <th>scaled_log_total_taker_volume</th>\n",
       "      <th>scaled_utxo_count</th>\n",
       "      <th>scaled_total_transactions_count</th>\n",
       "      <th>taker_buy_sell_ratio</th>\n",
       "      <th>moving_avg_scaled_log_total_volume</th>\n",
       "      <th>open_interest_diff</th>\n",
       "    </tr>\n",
       "  </thead>\n",
       "  <tbody>\n",
       "    <tr>\n",
       "      <th>0</th>\n",
       "      <td>2023-01-01 00:00:00</td>\n",
       "      <td>train</td>\n",
       "      <td>2.0</td>\n",
       "      <td>0.343899</td>\n",
       "      <td>-2.074545</td>\n",
       "      <td>-1.004418</td>\n",
       "      <td>-0.190599</td>\n",
       "      <td>-2.283932</td>\n",
       "      <td>-0.013822</td>\n",
       "      <td>-1.407440</td>\n",
       "      <td>-1.507090</td>\n",
       "      <td>-1.216481</td>\n",
       "      <td>-0.616412</td>\n",
       "      <td>0.904774</td>\n",
       "      <td>-1.507090</td>\n",
       "      <td>NaN</td>\n",
       "    </tr>\n",
       "    <tr>\n",
       "      <th>1</th>\n",
       "      <td>2023-01-01 01:00:00</td>\n",
       "      <td>train</td>\n",
       "      <td>1.0</td>\n",
       "      <td>-0.479569</td>\n",
       "      <td>-2.055443</td>\n",
       "      <td>-0.920481</td>\n",
       "      <td>-0.190611</td>\n",
       "      <td>-2.271191</td>\n",
       "      <td>-0.020702</td>\n",
       "      <td>-1.089259</td>\n",
       "      <td>-1.998687</td>\n",
       "      <td>-1.216149</td>\n",
       "      <td>-1.202730</td>\n",
       "      <td>1.655721</td>\n",
       "      <td>-1.752889</td>\n",
       "      <td>1.733962e+07</td>\n",
       "    </tr>\n",
       "    <tr>\n",
       "      <th>2</th>\n",
       "      <td>2023-01-01 02:00:00</td>\n",
       "      <td>train</td>\n",
       "      <td>1.0</td>\n",
       "      <td>0.039981</td>\n",
       "      <td>-2.057519</td>\n",
       "      <td>-0.982775</td>\n",
       "      <td>-0.190679</td>\n",
       "      <td>-2.285286</td>\n",
       "      <td>-0.013936</td>\n",
       "      <td>-1.414659</td>\n",
       "      <td>-2.337608</td>\n",
       "      <td>-1.216188</td>\n",
       "      <td>-1.232124</td>\n",
       "      <td>1.027512</td>\n",
       "      <td>-1.947795</td>\n",
       "      <td>-1.886794e+06</td>\n",
       "    </tr>\n",
       "    <tr>\n",
       "      <th>3</th>\n",
       "      <td>2023-01-01 03:00:00</td>\n",
       "      <td>train</td>\n",
       "      <td>1.0</td>\n",
       "      <td>-0.312311</td>\n",
       "      <td>-2.059965</td>\n",
       "      <td>-0.995009</td>\n",
       "      <td>-0.188985</td>\n",
       "      <td>-2.286295</td>\n",
       "      <td>-0.008301</td>\n",
       "      <td>-1.132860</td>\n",
       "      <td>-2.043796</td>\n",
       "      <td>-1.215593</td>\n",
       "      <td>-1.263915</td>\n",
       "      <td>0.874477</td>\n",
       "      <td>-1.971795</td>\n",
       "      <td>-2.221901e+06</td>\n",
       "    </tr>\n",
       "    <tr>\n",
       "      <th>4</th>\n",
       "      <td>2023-01-01 04:00:00</td>\n",
       "      <td>train</td>\n",
       "      <td>2.0</td>\n",
       "      <td>-0.060107</td>\n",
       "      <td>-2.052255</td>\n",
       "      <td>-1.026415</td>\n",
       "      <td>-0.083030</td>\n",
       "      <td>-2.282372</td>\n",
       "      <td>-0.010506</td>\n",
       "      <td>-1.228120</td>\n",
       "      <td>-2.015961</td>\n",
       "      <td>-1.214962</td>\n",
       "      <td>-1.087030</td>\n",
       "      <td>0.966796</td>\n",
       "      <td>-1.980628</td>\n",
       "      <td>7.007341e+06</td>\n",
       "    </tr>\n",
       "    <tr>\n",
       "      <th>...</th>\n",
       "      <td>...</td>\n",
       "      <td>...</td>\n",
       "      <td>...</td>\n",
       "      <td>...</td>\n",
       "      <td>...</td>\n",
       "      <td>...</td>\n",
       "      <td>...</td>\n",
       "      <td>...</td>\n",
       "      <td>...</td>\n",
       "      <td>...</td>\n",
       "      <td>...</td>\n",
       "      <td>...</td>\n",
       "      <td>...</td>\n",
       "      <td>...</td>\n",
       "      <td>...</td>\n",
       "      <td>...</td>\n",
       "    </tr>\n",
       "    <tr>\n",
       "      <th>11547</th>\n",
       "      <td>2024-04-26 03:00:00</td>\n",
       "      <td>test</td>\n",
       "      <td>NaN</td>\n",
       "      <td>-0.369730</td>\n",
       "      <td>0.534373</td>\n",
       "      <td>-0.235206</td>\n",
       "      <td>NaN</td>\n",
       "      <td>-1.782316</td>\n",
       "      <td>-0.032620</td>\n",
       "      <td>-1.383570</td>\n",
       "      <td>NaN</td>\n",
       "      <td>2.350929</td>\n",
       "      <td>-0.872964</td>\n",
       "      <td>NaN</td>\n",
       "      <td>NaN</td>\n",
       "      <td>-2.193716e+07</td>\n",
       "    </tr>\n",
       "    <tr>\n",
       "      <th>11548</th>\n",
       "      <td>2024-04-26 04:00:00</td>\n",
       "      <td>test</td>\n",
       "      <td>NaN</td>\n",
       "      <td>0.191102</td>\n",
       "      <td>NaN</td>\n",
       "      <td>-0.472610</td>\n",
       "      <td>NaN</td>\n",
       "      <td>-1.918750</td>\n",
       "      <td>0.052758</td>\n",
       "      <td>-0.438363</td>\n",
       "      <td>NaN</td>\n",
       "      <td>2.352974</td>\n",
       "      <td>NaN</td>\n",
       "      <td>NaN</td>\n",
       "      <td>NaN</td>\n",
       "      <td>NaN</td>\n",
       "    </tr>\n",
       "    <tr>\n",
       "      <th>11549</th>\n",
       "      <td>2024-04-26 05:00:00</td>\n",
       "      <td>test</td>\n",
       "      <td>NaN</td>\n",
       "      <td>0.191102</td>\n",
       "      <td>NaN</td>\n",
       "      <td>-0.157720</td>\n",
       "      <td>NaN</td>\n",
       "      <td>-1.981323</td>\n",
       "      <td>-0.088241</td>\n",
       "      <td>-0.412978</td>\n",
       "      <td>NaN</td>\n",
       "      <td>2.355665</td>\n",
       "      <td>NaN</td>\n",
       "      <td>NaN</td>\n",
       "      <td>NaN</td>\n",
       "      <td>NaN</td>\n",
       "    </tr>\n",
       "    <tr>\n",
       "      <th>11550</th>\n",
       "      <td>2024-04-26 06:00:00</td>\n",
       "      <td>test</td>\n",
       "      <td>NaN</td>\n",
       "      <td>-0.136964</td>\n",
       "      <td>NaN</td>\n",
       "      <td>-0.247183</td>\n",
       "      <td>NaN</td>\n",
       "      <td>-2.150662</td>\n",
       "      <td>-0.051507</td>\n",
       "      <td>-0.990694</td>\n",
       "      <td>NaN</td>\n",
       "      <td>2.355852</td>\n",
       "      <td>NaN</td>\n",
       "      <td>NaN</td>\n",
       "      <td>NaN</td>\n",
       "      <td>NaN</td>\n",
       "    </tr>\n",
       "    <tr>\n",
       "      <th>11551</th>\n",
       "      <td>2024-04-26 07:00:00</td>\n",
       "      <td>test</td>\n",
       "      <td>NaN</td>\n",
       "      <td>-0.369730</td>\n",
       "      <td>NaN</td>\n",
       "      <td>NaN</td>\n",
       "      <td>NaN</td>\n",
       "      <td>-1.704902</td>\n",
       "      <td>-0.061766</td>\n",
       "      <td>-0.478015</td>\n",
       "      <td>NaN</td>\n",
       "      <td>NaN</td>\n",
       "      <td>NaN</td>\n",
       "      <td>NaN</td>\n",
       "      <td>NaN</td>\n",
       "      <td>NaN</td>\n",
       "    </tr>\n",
       "  </tbody>\n",
       "</table>\n",
       "<p>11552 rows × 16 columns</p>\n",
       "</div>"
      ]
     },
     "execution_count": 4,
     "metadata": {},
     "output_type": "execute_result"
    }
   ],
   "execution_count": 4
  },
  {
   "metadata": {
    "ExecuteTime": {
     "end_time": "2024-09-27T08:59:20.958745Z",
     "start_time": "2024-09-27T08:59:20.865693Z"
    }
   },
   "cell_type": "code",
   "source": "df.isna().sum()",
   "id": "400b36063184649",
   "outputs": [
    {
     "data": {
      "text/plain": [
       "ID                                       0\n",
       "_type                                    0\n",
       "target                                2792\n",
       "scaled_log_hashrate                      0\n",
       "scaled_log_open_interest                 4\n",
       "scaled_log_coinbase_premium_index        7\n",
       "scaled_funding_rates                    32\n",
       "scaled_estimated_block_reward           24\n",
       "scaled_liquidation_diff                  0\n",
       "scaled_log_total_liquidation             0\n",
       "scaled_log_total_taker_volume           31\n",
       "scaled_utxo_count                        1\n",
       "scaled_total_transactions_count          4\n",
       "taker_buy_sell_ratio                    31\n",
       "moving_avg_scaled_log_total_volume       6\n",
       "open_interest_diff                       5\n",
       "dtype: int64"
      ]
     },
     "execution_count": 5,
     "metadata": {},
     "output_type": "execute_result"
    }
   ],
   "execution_count": 5
  },
  {
   "metadata": {
    "ExecuteTime": {
     "end_time": "2024-09-27T08:59:21.714963Z",
     "start_time": "2024-09-27T08:59:21.594316Z"
    }
   },
   "cell_type": "code",
   "source": "df['ID'] = pd.to_datetime(df['ID'])",
   "id": "f5dc036f8b38f7af",
   "outputs": [],
   "execution_count": 6
  },
  {
   "metadata": {
    "ExecuteTime": {
     "end_time": "2024-09-27T08:59:22.246501Z",
     "start_time": "2024-09-27T08:59:22.153600Z"
    }
   },
   "cell_type": "code",
   "source": [
    "train_df = df.loc[df['_type']=='train'].drop(columns=['_type'])\n",
    "test_df = df.loc[df['_type']=='test'].drop(columns=['_type'])"
   ],
   "id": "b16ccb5d34dabaaa",
   "outputs": [],
   "execution_count": 7
  },
  {
   "metadata": {
    "ExecuteTime": {
     "end_time": "2024-09-27T08:59:22.812822Z",
     "start_time": "2024-09-27T08:59:22.575821Z"
    }
   },
   "cell_type": "code",
   "source": [
    "# train_test_split 으로 valid set, train set 분리\n",
    "X_train, X_valid, y_train, y_valid = train_test_split(\n",
    "    train_df.drop(['target', 'ID'], axis = 1), \n",
    "    train_df['target'].astype(int), \n",
    "    test_size=0.2,\n",
    "    random_state=42,\n",
    ")\n",
    "\n",
    "# lgb dataset\n",
    "train_data = lgb.Dataset(X_train, label=y_train)\n",
    "valid_data = lgb.Dataset(X_valid, label=y_valid, reference=train_data)\n",
    "\n",
    "# lgb params\n",
    "params = {\n",
    "    'boosting_type': 'gbdt',\n",
    "    'objective': 'multiclass',\n",
    "    'metric': 'multi_logloss',\n",
    "    'num_class': 4,\n",
    "    'num_leaves': 50,\n",
    "    'learning_rate': 0.05,\n",
    "    'n_estimators': 30,\n",
    "    'random_state': 42,\n",
    "    'verbose': 0,\n",
    "}\n",
    "\n",
    "# lgb train\n",
    "lgb_model = lgb.train(\n",
    "    params=params,\n",
    "    train_set=train_data,\n",
    "    valid_sets=valid_data,\n",
    ")\n",
    "\n",
    "# lgb predict\n",
    "y_valid_pred = lgb_model.predict(X_valid)\n",
    "y_valid_pred_class = np.argmax(y_valid_pred, axis = 1)\n",
    "\n",
    "# score check\n",
    "accuracy = accuracy_score(y_valid, y_valid_pred_class)\n",
    "auroc = roc_auc_score(y_valid, y_valid_pred, multi_class='ovr')\n",
    "\n",
    "print(f'acc: {accuracy}, auroc: {auroc}')"
   ],
   "id": "3c783656da5426fc",
   "outputs": [
    {
     "name": "stdout",
     "output_type": "stream",
     "text": [
      "acc: 0.4252283105022831, auroc: 0.6329584386451497\n"
     ]
    },
    {
     "name": "stderr",
     "output_type": "stream",
     "text": [
      "C:\\Users\\Minari\\anaconda3\\envs\\bProject01\\Lib\\site-packages\\lightgbm\\engine.py:172: UserWarning: Found `n_estimators` in params. Will use it instead of argument\n",
      "  _log_warning(f\"Found `{alias}` in params. Will use it instead of argument\")\n"
     ]
    }
   ],
   "execution_count": 8
  },
  {
   "metadata": {
    "ExecuteTime": {
     "end_time": "2024-09-27T08:59:23.106732Z",
     "start_time": "2024-09-27T08:59:23.012072Z"
    }
   },
   "cell_type": "code",
   "source": [
    "train_merged_df_with_target = X_train.copy()\n",
    "train_merged_df_with_target['close'] = y_train\n",
    "\n",
    "# 피어슨 상관계수 계산\n",
    "correlation_matrix = train_merged_df_with_target.corr()\n",
    "\n",
    "# 타겟과 각 피처 간의 상관계수만 추출 후 반환\n",
    "correlation_matrix['close'].drop('close').sort_values(ascending=False)"
   ],
   "id": "2de7dafa335e3328",
   "outputs": [
    {
     "data": {
      "text/plain": [
       "scaled_liquidation_diff               0.025992\n",
       "scaled_log_coinbase_premium_index     0.019331\n",
       "scaled_log_total_liquidation          0.012603\n",
       "scaled_log_total_taker_volume         0.010158\n",
       "scaled_log_hashrate                   0.007928\n",
       "moving_avg_scaled_log_total_volume    0.002084\n",
       "scaled_total_transactions_count      -0.006974\n",
       "scaled_utxo_count                    -0.007336\n",
       "scaled_estimated_block_reward        -0.013124\n",
       "scaled_log_open_interest             -0.015394\n",
       "scaled_funding_rates                 -0.019453\n",
       "open_interest_diff                   -0.021962\n",
       "taker_buy_sell_ratio                 -0.041525\n",
       "Name: close, dtype: float64"
      ]
     },
     "execution_count": 9,
     "metadata": {},
     "output_type": "execute_result"
    }
   ],
   "execution_count": 9
  },
  {
   "metadata": {
    "ExecuteTime": {
     "end_time": "2024-09-27T09:02:44.053633Z",
     "start_time": "2024-09-27T09:02:43.961694Z"
    }
   },
   "cell_type": "code",
   "source": [
    "# importance gain 표시(영향을 끼친 정도)\n",
    "f_import = lgb_model.feature_importance(importance_type='gain')\n",
    "f_names = X_train.columns\n",
    "\n",
    "ser = pd.Series(f_import, index=f_names, name='gain')\n",
    "\n",
    "ser = ser / f_import.sum()\n",
    "\n",
    "ser.sort_values(ascending=False, inplace=True)\n",
    "\n",
    "ser"
   ],
   "id": "482bf765f42601a9",
   "outputs": [
    {
     "data": {
      "text/plain": [
       "scaled_log_total_taker_volume         0.136500\n",
       "scaled_utxo_count                     0.108104\n",
       "scaled_log_coinbase_premium_index     0.085240\n",
       "scaled_liquidation_diff               0.081915\n",
       "taker_buy_sell_ratio                  0.078522\n",
       "scaled_estimated_block_reward         0.074604\n",
       "moving_avg_scaled_log_total_volume    0.072139\n",
       "open_interest_diff                    0.071587\n",
       "scaled_total_transactions_count       0.065260\n",
       "scaled_funding_rates                  0.060300\n",
       "scaled_log_open_interest              0.058828\n",
       "scaled_log_hashrate                   0.054726\n",
       "scaled_log_total_liquidation          0.052276\n",
       "Name: gain, dtype: float64"
      ]
     },
     "execution_count": 29,
     "metadata": {},
     "output_type": "execute_result"
    }
   ],
   "execution_count": 29
  },
  {
   "metadata": {
    "ExecuteTime": {
     "end_time": "2024-09-27T08:59:24.934463Z",
     "start_time": "2024-09-27T08:59:24.843944Z"
    }
   },
   "cell_type": "code",
   "source": [
    "# importance split 표시(영향을 끼친 횟수)\n",
    "f_import = lgb_model.feature_importance(importance_type='split')\n",
    "f_names = X_train.columns\n",
    "\n",
    "ser = pd.Series(f_import, index=f_names, name='split')\n",
    "\n",
    "ser.sort_values(ascending=False, inplace=True)\n",
    "\n",
    "ser"
   ],
   "id": "737dfc682e217b25",
   "outputs": [
    {
     "data": {
      "text/plain": [
       "scaled_log_coinbase_premium_index     569\n",
       "taker_buy_sell_ratio                  543\n",
       "scaled_log_total_taker_volume         526\n",
       "open_interest_diff                    490\n",
       "moving_avg_scaled_log_total_volume    464\n",
       "scaled_utxo_count                     458\n",
       "scaled_total_transactions_count       447\n",
       "scaled_estimated_block_reward         442\n",
       "scaled_liquidation_diff               425\n",
       "scaled_funding_rates                  410\n",
       "scaled_log_hashrate                   385\n",
       "scaled_log_total_liquidation          363\n",
       "scaled_log_open_interest              358\n",
       "Name: split, dtype: int32"
      ]
     },
     "execution_count": 11,
     "metadata": {},
     "output_type": "execute_result"
    }
   ],
   "execution_count": 11
  },
  {
   "metadata": {
    "ExecuteTime": {
     "end_time": "2024-09-27T09:00:53.981046Z",
     "start_time": "2024-09-27T09:00:53.891653Z"
    }
   },
   "cell_type": "code",
   "source": [
    "# test_set 불러오기\n",
    "submission_df: pd.DataFrame = pd.read_csv(os.path.join('../../data/', 'test.csv'))"
   ],
   "id": "d14356fe240ed828",
   "outputs": [],
   "execution_count": 21
  },
  {
   "metadata": {
    "ExecuteTime": {
     "end_time": "2024-09-27T09:00:54.467142Z",
     "start_time": "2024-09-27T09:00:54.371736Z"
    }
   },
   "cell_type": "code",
   "source": [
    "# 모델을 통해 test에 예상 값 채우기\n",
    "y_test_pred = lgb_model.predict(test_df.drop(['target', 'ID'], axis = 1))\n",
    "y_test_pred_class = np.argmax(y_test_pred, axis = 1)"
   ],
   "id": "af673b5f512330d3",
   "outputs": [],
   "execution_count": 22
  },
  {
   "metadata": {
    "ExecuteTime": {
     "end_time": "2024-09-27T09:00:55.056595Z",
     "start_time": "2024-09-27T09:00:54.961980Z"
    }
   },
   "cell_type": "code",
   "source": [
    "# 분포 확인\n",
    "submission_df:pd.DataFrame = submission_df.assign(target = y_test_pred_class)\n",
    "submission_df['target'].value_counts()"
   ],
   "id": "4257399067782580",
   "outputs": [
    {
     "data": {
      "text/plain": [
       "target\n",
       "2    1434\n",
       "1    1312\n",
       "3      26\n",
       "0      20\n",
       "Name: count, dtype: int64"
      ]
     },
     "execution_count": 23,
     "metadata": {},
     "output_type": "execute_result"
    }
   ],
   "execution_count": 23
  },
  {
   "metadata": {
    "ExecuteTime": {
     "end_time": "2024-09-27T09:00:55.959765Z",
     "start_time": "2024-09-27T09:00:55.789005Z"
    }
   },
   "cell_type": "code",
   "source": [
    "submission_df_value = submission_df['target'].value_counts().sort_index()\n",
    "\n",
    "plt.figure(figsize=(8, 6))\n",
    "plt.bar(submission_df_value.index, submission_df_value.values, color=['blue', 'green', 'red', 'orange'])\n",
    "plt.xticks([0, 1, 2, 3])\n",
    "plt.xlabel('Classes')\n",
    "plt.ylabel('Count')\n",
    "plt.title('ts_value_counts')\n",
    "plt.show()"
   ],
   "id": "2134c906d6ed1526",
   "outputs": [
    {
     "data": {
      "text/plain": [
       "<Figure size 800x600 with 1 Axes>"
      ],
      "image/png": "[encoded data removed]"
     },
     "metadata": {},
     "output_type": "display_data"
    }
   ],
   "execution_count": 24
  },
  {
   "metadata": {},
   "cell_type": "markdown",
   "source": "",
   "id": "288efe9a67491f6b"
  },
  {
   "metadata": {
    "ExecuteTime": {
     "end_time": "2024-09-27T09:00:58.168154Z",
     "start_time": "2024-09-27T09:00:57.571278Z"
    }
   },
   "cell_type": "code",
   "source": [
    "# TSCV 활용\n",
    "from time_series_CV import TimeSeriesCV as tsCV\n",
    "ts = tsCV(train_df)\n",
    "ts.train()"
   ],
   "id": "e616e9f06f448773",
   "outputs": [
    {
     "name": "stdout",
     "output_type": "stream",
     "text": [
      "Fold accuracy: 0.40616438356164386\n",
      "Fold accuracy: 0.4143835616438356\n",
      "Fold accuracy: 0.37397260273972605\n",
      "Fold accuracy: 0.4465753424657534\n",
      "Fold accuracy: 0.4383561643835616\n",
      "     Fold  Accuracy\n",
      "0  Fold 1  0.406164\n",
      "1  Fold 2  0.414384\n",
      "2  Fold 3  0.373973\n",
      "3  Fold 4  0.446575\n",
      "4  Fold 5  0.438356\n"
     ]
    }
   ],
   "execution_count": 25
  },
  {
   "metadata": {
    "ExecuteTime": {
     "end_time": "2024-09-27T09:00:58.451238Z",
     "start_time": "2024-09-27T09:00:58.360962Z"
    }
   },
   "cell_type": "code",
   "source": "ts.print_performance()",
   "id": "58f7963a575fc216",
   "outputs": [
    {
     "name": "stdout",
     "output_type": "stream",
     "text": [
      "F1 Score: 0.24706146282521999\n",
      "Precision: 0.41475632005219554\n",
      "Recall: 0.2669611996768524\n",
      "Confusion Matrix: \n",
      "[[  2  44  73   0]\n",
      " [  3 236 341   0]\n",
      " [  2 226 401   1]\n",
      " [  0  47  83   1]]\n"
     ]
    }
   ],
   "execution_count": 26
  },
  {
   "metadata": {
    "ExecuteTime": {
     "end_time": "2024-09-27T09:00:59.350777Z",
     "start_time": "2024-09-27T09:00:59.251766Z"
    }
   },
   "cell_type": "code",
   "source": [
    "ts_pred = ts.model.predict(test_df.drop(['target', 'ID'], axis = 1))\n",
    "ts_submission_df = submission_df.assign(target = ts_pred)\n",
    "ts_submission_df['target'].value_counts()"
   ],
   "id": "f1ee92793b64ceb9",
   "outputs": [
    {
     "data": {
      "text/plain": [
       "target\n",
       "2    1563\n",
       "1    1145\n",
       "0      46\n",
       "3      38\n",
       "Name: count, dtype: int64"
      ]
     },
     "execution_count": 27,
     "metadata": {},
     "output_type": "execute_result"
    }
   ],
   "execution_count": 27
  },
  {
   "metadata": {
    "ExecuteTime": {
     "end_time": "2024-09-27T09:01:00.156323Z",
     "start_time": "2024-09-27T09:00:59.985230Z"
    }
   },
   "cell_type": "code",
   "source": [
    "ts_value_counts = ts_submission_df['target'].value_counts().sort_index()\n",
    "\n",
    "print(ts_value_counts)\n",
    "\n",
    "plt.figure(figsize=(8, 6))\n",
    "plt.bar(ts_value_counts.index, ts_value_counts.values, color=['blue', 'green', 'red', 'orange'])\n",
    "plt.xticks([0, 1, 2, 3])\n",
    "plt.xlabel('Classes')\n",
    "plt.ylabel('Count')\n",
    "plt.title('ts_value_counts')\n",
    "plt.show()"
   ],
   "id": "db7434fdacacee4b",
   "outputs": [
    {
     "name": "stdout",
     "output_type": "stream",
     "text": [
      "target\n",
      "0      46\n",
      "1    1145\n",
      "2    1563\n",
      "3      38\n",
      "Name: count, dtype: int64\n"
     ]
    },
    {
     "data": {
      "text/plain": [
       "<Figure size 800x600 with 1 Axes>"
      ],
      "image/png": "[encoded data removed]"
     },
     "metadata": {},
     "output_type": "display_data"
    }
   ],
   "execution_count": 28
  },
  {
   "metadata": {
    "ExecuteTime": {
     "end_time": "2024-09-27T09:14:18.396573Z",
     "start_time": "2024-09-27T09:14:18.296987Z"
    }
   },
   "cell_type": "code",
   "source": [
    "submission_df: pd.DataFrame = pd.read_csv(os.path.join('../../data/', \"test.csv\"))\n",
    "y_test_pred = lgb_model.predict(test_df.drop([\"target\", \"ID\"], axis = 1))\n",
    "y_test_pred_class = np.argmax(y_test_pred, axis = 1)\n",
    "ts_submission_df = ts_submission_df.assign(target = y_test_pred_class)\n",
    "ts_submission_df.to_csv(output_csv_name, index=False)"
   ],
   "id": "66aadf18b4733c23",
   "outputs": [],
   "execution_count": 30
  }
 ],
 "metadata": {
  "kernelspec": {
   "display_name": "Python 3",
   "language": "python",
   "name": "python3"
  },
  "language_info": {
   "codemirror_mode": {
    "name": "ipython",
    "version": 2
   },
   "file_extension": ".py",
   "mimetype": "text/x-python",
   "name": "python",
   "nbconvert_exporter": "python",
   "pygments_lexer": "ipython2",
   "version": "2.7.6"
  }
 },
 "nbformat": 4,
 "nbformat_minor": 5
}
