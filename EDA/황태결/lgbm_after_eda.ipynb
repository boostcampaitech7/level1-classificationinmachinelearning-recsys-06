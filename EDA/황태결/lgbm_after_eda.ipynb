{
 "cells": [
  {
   "cell_type": "code",
   "id": "1ff9fcd5370e35f8",
   "metadata": {
    "collapsed": true,
    "ExecuteTime": {
     "end_time": "2024-09-27T09:13:10.796585Z",
     "start_time": "2024-09-27T09:13:09.550342Z"
    }
   },
   "source": [
    "import os,sys\n",
    "import numpy as np\n",
    "import pandas as pd\n",
    "from sklearn.metrics import accuracy_score, roc_auc_score\n",
    "import lightgbm as lgb\n",
    "import matplotlib.pyplot as plt\n",
    "from sklearn.model_selection import train_test_split\n",
    "\n",
    "# 공통 변수\n",
    "raw_data_name = 'after_eda.csv'\n",
    "output_csv_name = 'output.csv'\n",
    "\n",
    "# Code 경로 추가\n",
    "sys.path.append(os.path.dirname(os.path.dirname(os.path.abspath(''))))\n",
    "print(sys.path[-1])"
   ],
   "outputs": [
    {
     "name": "stdout",
     "output_type": "stream",
     "text": [
      "C:\\Users\\Minari\\Documents\\GitHub\\level1-classificationinmachinelearning-recsys-06\n"
     ]
    }
   ],
   "execution_count": 1
  },
  {
   "metadata": {
    "ExecuteTime": {
     "end_time": "2024-09-27T09:13:11.386167Z",
     "start_time": "2024-09-27T09:13:11.289598Z"
    }
   },
   "cell_type": "code",
   "source": [
    "%load_ext autoreload\n",
    "%autoreload 2"
   ],
   "id": "4a4e51735f7c1d2a",
   "outputs": [],
   "execution_count": 2
  },
  {
   "metadata": {
    "ExecuteTime": {
     "end_time": "2024-09-27T09:13:11.706685Z",
     "start_time": "2024-09-27T09:13:11.576204Z"
    }
   },
   "cell_type": "code",
   "source": [
    "# after_eda.csv 사용, 제외['difference', 'percent']\n",
    "df = pd.read_csv(raw_data_name).drop(columns=['difference', 'percent'])\n",
    "df"
   ],
   "id": "96a6bbd4551f4cff",
   "outputs": [
    {
     "data": {
      "text/plain": [
       "                        ID  _type  target      hashrate  taker_buy_sell_ratio  \\\n",
       "0      2023-01-01 00:00:00  train     2.0  5.062917e+11              0.904774   \n",
       "1      2023-01-01 01:00:00  train     1.0  1.687639e+11              1.655721   \n",
       "2      2023-01-01 02:00:00  train     1.0  3.375278e+11              1.027512   \n",
       "3      2023-01-01 03:00:00  train     1.0  2.109549e+11              0.874477   \n",
       "4      2023-01-01 04:00:00  train     2.0  2.953368e+11              0.966796   \n",
       "...                    ...    ...     ...           ...                   ...   \n",
       "11547  2024-04-26 03:00:00   test     NaN  3.153372e+11                   NaN   \n",
       "11548  2024-04-26 04:00:00   test     NaN  6.306744e+11                   NaN   \n",
       "11549  2024-04-26 05:00:00   test     NaN  6.306744e+11                   NaN   \n",
       "11550  2024-04-26 06:00:00   test     NaN  4.204496e+11                   NaN   \n",
       "11551  2024-04-26 07:00:00   test     NaN  3.153372e+11                   NaN   \n",
       "\n",
       "       open_interest  funding_rates  coinbase_premium_index   utxo_count  \\\n",
       "0       6.271344e+09       0.005049               -0.059650   83308092.0   \n",
       "1       6.288683e+09       0.005049               -0.053047   83314883.0   \n",
       "2       6.286796e+09       0.005049               -0.057952   83314090.0   \n",
       "3       6.284575e+09       0.005067               -0.058912   83326258.0   \n",
       "4       6.291582e+09       0.006210               -0.061373   83339168.0   \n",
       "...              ...            ...                     ...          ...   \n",
       "11547   1.486836e+10            NaN               -0.002376  179820708.0   \n",
       "11548            NaN            NaN               -0.018268  179833897.0   \n",
       "11549            NaN            NaN                0.002866  179851249.0   \n",
       "11550            NaN            NaN               -0.003184  179852452.0   \n",
       "11551            NaN            NaN                     NaN          NaN   \n",
       "\n",
       "       transactions_count_total  total_liquidations  liquidation_diff  \\\n",
       "0                       11457.0            0.012000          0.012000   \n",
       "1                        5832.0            0.712000         -0.712000   \n",
       "2                        5550.0            0.000000          0.000000   \n",
       "3                        5245.0            0.593000          0.593000   \n",
       "4                        6942.0            0.361000          0.361000   \n",
       "...                         ...                 ...               ...   \n",
       "11547                   10048.0            0.953500          0.466500   \n",
       "11548                       NaN            6.723208          6.431208   \n",
       "11549                       NaN            7.013653         -3.419327   \n",
       "11550                       NaN            2.459000         -0.853000   \n",
       "11551                       NaN            6.290439         -1.569674   \n",
       "\n",
       "       total_taker_volume  estimated_block_reward_usd  \n",
       "0            9.785846e+07               104057.980295  \n",
       "1            6.376728e+07               104403.922724  \n",
       "2            4.746397e+07               104021.263731  \n",
       "3            6.130988e+07               103993.945406  \n",
       "4            6.281486e+07               104100.262482  \n",
       "...                   ...                         ...  \n",
       "11547                 NaN               251543.725340  \n",
       "11548                 NaN               244385.395493  \n",
       "11549                 NaN               241170.877304  \n",
       "11550                 NaN               232681.919923  \n",
       "11551                 NaN               255698.284272  \n",
       "\n",
       "[11552 rows x 14 columns]"
      ],
      "text/html": [
       "<div>\n",
       "<style scoped>\n",
       "    .dataframe tbody tr th:only-of-type {\n",
       "        vertical-align: middle;\n",
       "    }\n",
       "\n",
       "    .dataframe tbody tr th {\n",
       "        vertical-align: top;\n",
       "    }\n",
       "\n",
       "    .dataframe thead th {\n",
       "        text-align: right;\n",
       "    }\n",
       "</style>\n",
       "<table border=\"1\" class=\"dataframe\">\n",
       "  <thead>\n",
       "    <tr style=\"text-align: right;\">\n",
       "      <th></th>\n",
       "      <th>ID</th>\n",
       "      <th>_type</th>\n",
       "      <th>target</th>\n",
       "      <th>hashrate</th>\n",
       "      <th>taker_buy_sell_ratio</th>\n",
       "      <th>open_interest</th>\n",
       "      <th>funding_rates</th>\n",
       "      <th>coinbase_premium_index</th>\n",
       "      <th>utxo_count</th>\n",
       "      <th>transactions_count_total</th>\n",
       "      <th>total_liquidations</th>\n",
       "      <th>liquidation_diff</th>\n",
       "      <th>total_taker_volume</th>\n",
       "      <th>estimated_block_reward_usd</th>\n",
       "    </tr>\n",
       "  </thead>\n",
       "  <tbody>\n",
       "    <tr>\n",
       "      <th>0</th>\n",
       "      <td>2023-01-01 00:00:00</td>\n",
       "      <td>train</td>\n",
       "      <td>2.0</td>\n",
       "      <td>5.062917e+11</td>\n",
       "      <td>0.904774</td>\n",
       "      <td>6.271344e+09</td>\n",
       "      <td>0.005049</td>\n",
       "      <td>-0.059650</td>\n",
       "      <td>83308092.0</td>\n",
       "      <td>11457.0</td>\n",
       "      <td>0.012000</td>\n",
       "      <td>0.012000</td>\n",
       "      <td>9.785846e+07</td>\n",
       "      <td>104057.980295</td>\n",
       "    </tr>\n",
       "    <tr>\n",
       "      <th>1</th>\n",
       "      <td>2023-01-01 01:00:00</td>\n",
       "      <td>train</td>\n",
       "      <td>1.0</td>\n",
       "      <td>1.687639e+11</td>\n",
       "      <td>1.655721</td>\n",
       "      <td>6.288683e+09</td>\n",
       "      <td>0.005049</td>\n",
       "      <td>-0.053047</td>\n",
       "      <td>83314883.0</td>\n",
       "      <td>5832.0</td>\n",
       "      <td>0.712000</td>\n",
       "      <td>-0.712000</td>\n",
       "      <td>6.376728e+07</td>\n",
       "      <td>104403.922724</td>\n",
       "    </tr>\n",
       "    <tr>\n",
       "      <th>2</th>\n",
       "      <td>2023-01-01 02:00:00</td>\n",
       "      <td>train</td>\n",
       "      <td>1.0</td>\n",
       "      <td>3.375278e+11</td>\n",
       "      <td>1.027512</td>\n",
       "      <td>6.286796e+09</td>\n",
       "      <td>0.005049</td>\n",
       "      <td>-0.057952</td>\n",
       "      <td>83314090.0</td>\n",
       "      <td>5550.0</td>\n",
       "      <td>0.000000</td>\n",
       "      <td>0.000000</td>\n",
       "      <td>4.746397e+07</td>\n",
       "      <td>104021.263731</td>\n",
       "    </tr>\n",
       "    <tr>\n",
       "      <th>3</th>\n",
       "      <td>2023-01-01 03:00:00</td>\n",
       "      <td>train</td>\n",
       "      <td>1.0</td>\n",
       "      <td>2.109549e+11</td>\n",
       "      <td>0.874477</td>\n",
       "      <td>6.284575e+09</td>\n",
       "      <td>0.005067</td>\n",
       "      <td>-0.058912</td>\n",
       "      <td>83326258.0</td>\n",
       "      <td>5245.0</td>\n",
       "      <td>0.593000</td>\n",
       "      <td>0.593000</td>\n",
       "      <td>6.130988e+07</td>\n",
       "      <td>103993.945406</td>\n",
       "    </tr>\n",
       "    <tr>\n",
       "      <th>4</th>\n",
       "      <td>2023-01-01 04:00:00</td>\n",
       "      <td>train</td>\n",
       "      <td>2.0</td>\n",
       "      <td>2.953368e+11</td>\n",
       "      <td>0.966796</td>\n",
       "      <td>6.291582e+09</td>\n",
       "      <td>0.006210</td>\n",
       "      <td>-0.061373</td>\n",
       "      <td>83339168.0</td>\n",
       "      <td>6942.0</td>\n",
       "      <td>0.361000</td>\n",
       "      <td>0.361000</td>\n",
       "      <td>6.281486e+07</td>\n",
       "      <td>104100.262482</td>\n",
       "    </tr>\n",
       "    <tr>\n",
       "      <th>...</th>\n",
       "      <td>...</td>\n",
       "      <td>...</td>\n",
       "      <td>...</td>\n",
       "      <td>...</td>\n",
       "      <td>...</td>\n",
       "      <td>...</td>\n",
       "      <td>...</td>\n",
       "      <td>...</td>\n",
       "      <td>...</td>\n",
       "      <td>...</td>\n",
       "      <td>...</td>\n",
       "      <td>...</td>\n",
       "      <td>...</td>\n",
       "      <td>...</td>\n",
       "    </tr>\n",
       "    <tr>\n",
       "      <th>11547</th>\n",
       "      <td>2024-04-26 03:00:00</td>\n",
       "      <td>test</td>\n",
       "      <td>NaN</td>\n",
       "      <td>3.153372e+11</td>\n",
       "      <td>NaN</td>\n",
       "      <td>1.486836e+10</td>\n",
       "      <td>NaN</td>\n",
       "      <td>-0.002376</td>\n",
       "      <td>179820708.0</td>\n",
       "      <td>10048.0</td>\n",
       "      <td>0.953500</td>\n",
       "      <td>0.466500</td>\n",
       "      <td>NaN</td>\n",
       "      <td>251543.725340</td>\n",
       "    </tr>\n",
       "    <tr>\n",
       "      <th>11548</th>\n",
       "      <td>2024-04-26 04:00:00</td>\n",
       "      <td>test</td>\n",
       "      <td>NaN</td>\n",
       "      <td>6.306744e+11</td>\n",
       "      <td>NaN</td>\n",
       "      <td>NaN</td>\n",
       "      <td>NaN</td>\n",
       "      <td>-0.018268</td>\n",
       "      <td>179833897.0</td>\n",
       "      <td>NaN</td>\n",
       "      <td>6.723208</td>\n",
       "      <td>6.431208</td>\n",
       "      <td>NaN</td>\n",
       "      <td>244385.395493</td>\n",
       "    </tr>\n",
       "    <tr>\n",
       "      <th>11549</th>\n",
       "      <td>2024-04-26 05:00:00</td>\n",
       "      <td>test</td>\n",
       "      <td>NaN</td>\n",
       "      <td>6.306744e+11</td>\n",
       "      <td>NaN</td>\n",
       "      <td>NaN</td>\n",
       "      <td>NaN</td>\n",
       "      <td>0.002866</td>\n",
       "      <td>179851249.0</td>\n",
       "      <td>NaN</td>\n",
       "      <td>7.013653</td>\n",
       "      <td>-3.419327</td>\n",
       "      <td>NaN</td>\n",
       "      <td>241170.877304</td>\n",
       "    </tr>\n",
       "    <tr>\n",
       "      <th>11550</th>\n",
       "      <td>2024-04-26 06:00:00</td>\n",
       "      <td>test</td>\n",
       "      <td>NaN</td>\n",
       "      <td>4.204496e+11</td>\n",
       "      <td>NaN</td>\n",
       "      <td>NaN</td>\n",
       "      <td>NaN</td>\n",
       "      <td>-0.003184</td>\n",
       "      <td>179852452.0</td>\n",
       "      <td>NaN</td>\n",
       "      <td>2.459000</td>\n",
       "      <td>-0.853000</td>\n",
       "      <td>NaN</td>\n",
       "      <td>232681.919923</td>\n",
       "    </tr>\n",
       "    <tr>\n",
       "      <th>11551</th>\n",
       "      <td>2024-04-26 07:00:00</td>\n",
       "      <td>test</td>\n",
       "      <td>NaN</td>\n",
       "      <td>3.153372e+11</td>\n",
       "      <td>NaN</td>\n",
       "      <td>NaN</td>\n",
       "      <td>NaN</td>\n",
       "      <td>NaN</td>\n",
       "      <td>NaN</td>\n",
       "      <td>NaN</td>\n",
       "      <td>6.290439</td>\n",
       "      <td>-1.569674</td>\n",
       "      <td>NaN</td>\n",
       "      <td>255698.284272</td>\n",
       "    </tr>\n",
       "  </tbody>\n",
       "</table>\n",
       "<p>11552 rows × 14 columns</p>\n",
       "</div>"
      ]
     },
     "execution_count": 3,
     "metadata": {},
     "output_type": "execute_result"
    }
   ],
   "execution_count": 3
  },
  {
   "metadata": {
    "ExecuteTime": {
     "end_time": "2024-09-27T09:13:12.594277Z",
     "start_time": "2024-09-27T09:13:12.501193Z"
    }
   },
   "cell_type": "code",
   "source": [
    "# NaN 값 확인\n",
    "df.isna().sum()"
   ],
   "id": "400b36063184649",
   "outputs": [
    {
     "data": {
      "text/plain": [
       "ID                               0\n",
       "_type                            0\n",
       "target                        2792\n",
       "hashrate                         0\n",
       "taker_buy_sell_ratio            31\n",
       "open_interest                    4\n",
       "funding_rates                   32\n",
       "coinbase_premium_index           6\n",
       "utxo_count                       1\n",
       "transactions_count_total         4\n",
       "total_liquidations               0\n",
       "liquidation_diff                 0\n",
       "total_taker_volume              31\n",
       "estimated_block_reward_usd      24\n",
       "dtype: int64"
      ]
     },
     "execution_count": 4,
     "metadata": {},
     "output_type": "execute_result"
    }
   ],
   "execution_count": 4
  },
  {
   "metadata": {
    "ExecuteTime": {
     "end_time": "2024-09-27T09:13:13.248208Z",
     "start_time": "2024-09-27T09:13:13.149814Z"
    }
   },
   "cell_type": "code",
   "source": "df['ID'] = pd.to_datetime(df['ID'])",
   "id": "f5dc036f8b38f7af",
   "outputs": [],
   "execution_count": 5
  },
  {
   "metadata": {
    "ExecuteTime": {
     "end_time": "2024-09-27T09:13:13.642028Z",
     "start_time": "2024-09-27T09:13:13.547375Z"
    }
   },
   "cell_type": "code",
   "source": [
    "# train, test 분리\n",
    "train_df = df.loc[df['_type']=='train'].drop(columns=['_type'])\n",
    "test_df = df.loc[df['_type']=='test'].drop(columns=['_type'])"
   ],
   "id": "b16ccb5d34dabaaa",
   "outputs": [],
   "execution_count": 6
  },
  {
   "metadata": {
    "ExecuteTime": {
     "end_time": "2024-09-27T09:13:14.267654Z",
     "start_time": "2024-09-27T09:13:14.035605Z"
    }
   },
   "cell_type": "code",
   "source": [
    "# train_test_split 으로 valid set, train set 분리\n",
    "X_train, X_valid, y_train, y_valid = train_test_split(\n",
    "    train_df.drop(['target', 'ID'], axis = 1), \n",
    "    train_df['target'].astype(int), \n",
    "    test_size=0.2,\n",
    "    random_state=42,\n",
    ")\n",
    "\n",
    "# lgb dataset\n",
    "train_data = lgb.Dataset(X_train, label=y_train)\n",
    "valid_data = lgb.Dataset(X_valid, label=y_valid, reference=train_data)\n",
    "\n",
    "# lgb params\n",
    "params = {\n",
    "    'boosting_type': 'gbdt',\n",
    "    'objective': 'multiclass',\n",
    "    'metric': 'multi_logloss',\n",
    "    'num_class': 4,\n",
    "    'num_leaves': 50,\n",
    "    'learning_rate': 0.05,\n",
    "    'n_estimators': 30,\n",
    "    'random_state': 42,\n",
    "    'verbose': 0,\n",
    "}\n",
    "\n",
    "# lgb train\n",
    "lgb_model = lgb.train(\n",
    "    params=params,\n",
    "    train_set=train_data,\n",
    "    valid_sets=valid_data,\n",
    ")\n",
    "\n",
    "# lgb predict\n",
    "y_valid_pred = lgb_model.predict(X_valid)\n",
    "y_valid_pred_class = np.argmax(y_valid_pred, axis = 1)\n",
    "\n",
    "# score check\n",
    "accuracy = accuracy_score(y_valid, y_valid_pred_class)\n",
    "auroc = roc_auc_score(y_valid, y_valid_pred, multi_class='ovr')\n",
    "\n",
    "print(f'acc: {accuracy}, auroc: {auroc}')"
   ],
   "id": "3c783656da5426fc",
   "outputs": [
    {
     "name": "stdout",
     "output_type": "stream",
     "text": [
      "acc: 0.4280821917808219, auroc: 0.6368369944629897\n"
     ]
    },
    {
     "name": "stderr",
     "output_type": "stream",
     "text": [
      "C:\\Users\\Minari\\anaconda3\\envs\\bProject01\\Lib\\site-packages\\lightgbm\\engine.py:172: UserWarning: Found `n_estimators` in params. Will use it instead of argument\n",
      "  _log_warning(f\"Found `{alias}` in params. Will use it instead of argument\")\n"
     ]
    }
   ],
   "execution_count": 7
  },
  {
   "metadata": {
    "ExecuteTime": {
     "end_time": "2024-09-27T09:13:15.319364Z",
     "start_time": "2024-09-27T09:13:15.225812Z"
    }
   },
   "cell_type": "code",
   "source": [
    "train_merged_df_with_target = X_train.copy()\n",
    "train_merged_df_with_target['close'] = y_train\n",
    "\n",
    "# 피어슨 상관계수 계산\n",
    "correlation_matrix = train_merged_df_with_target.corr()\n",
    "\n",
    "# 타겟과 각 피처 간의 상관계수만 추출 후 반환\n",
    "correlation_matrix['close'].drop('close').sort_values(ascending=False)"
   ],
   "id": "2de7dafa335e3328",
   "outputs": [
    {
     "data": {
      "text/plain": [
       "total_liquidations            0.031538\n",
       "liquidation_diff              0.025992\n",
       "total_taker_volume            0.022436\n",
       "coinbase_premium_index        0.014207\n",
       "hashrate                     -0.000217\n",
       "transactions_count_total     -0.006974\n",
       "utxo_count                   -0.007336\n",
       "estimated_block_reward_usd   -0.010587\n",
       "open_interest                -0.014429\n",
       "funding_rates                -0.019367\n",
       "taker_buy_sell_ratio         -0.041525\n",
       "Name: close, dtype: float64"
      ]
     },
     "execution_count": 8,
     "metadata": {},
     "output_type": "execute_result"
    }
   ],
   "execution_count": 8
  },
  {
   "metadata": {
    "ExecuteTime": {
     "end_time": "2024-09-27T09:13:15.840065Z",
     "start_time": "2024-09-27T09:13:15.745161Z"
    }
   },
   "cell_type": "code",
   "source": [
    "# importance gain 표시(영향을 끼친 정도)\n",
    "f_import = lgb_model.feature_importance(importance_type='gain')\n",
    "f_names = X_train.columns\n",
    "\n",
    "ser = pd.Series(f_import, index=f_names, name='gain')\n",
    "\n",
    "ser = ser / f_import.sum()\n",
    "\n",
    "ser.sort_values(ascending=False, inplace=True)\n",
    "\n",
    "ser"
   ],
   "id": "482bf765f42601a9",
   "outputs": [
    {
     "data": {
      "text/plain": [
       "total_taker_volume            0.162828\n",
       "utxo_count                    0.122456\n",
       "coinbase_premium_index        0.099371\n",
       "taker_buy_sell_ratio          0.099151\n",
       "liquidation_diff              0.088948\n",
       "estimated_block_reward_usd    0.085330\n",
       "transactions_count_total      0.080208\n",
       "funding_rates                 0.069269\n",
       "total_liquidations            0.064979\n",
       "hashrate                      0.064004\n",
       "open_interest                 0.063457\n",
       "Name: gain, dtype: float64"
      ]
     },
     "execution_count": 9,
     "metadata": {},
     "output_type": "execute_result"
    }
   ],
   "execution_count": 9
  },
  {
   "metadata": {
    "ExecuteTime": {
     "end_time": "2024-09-27T09:13:16.521484Z",
     "start_time": "2024-09-27T09:13:16.427620Z"
    }
   },
   "cell_type": "code",
   "source": [
    "# importance split 표시(영향을 끼친 횟수)\n",
    "f_import = lgb_model.feature_importance(importance_type='split')\n",
    "f_names = X_train.columns\n",
    "\n",
    "ser = pd.Series(f_import, index=f_names, name='split')\n",
    "\n",
    "ser.sort_values(ascending=False, inplace=True)\n",
    "\n",
    "ser"
   ],
   "id": "737dfc682e217b25",
   "outputs": [
    {
     "data": {
      "text/plain": [
       "coinbase_premium_index        681\n",
       "taker_buy_sell_ratio          678\n",
       "total_taker_volume            678\n",
       "utxo_count                    556\n",
       "transactions_count_total      548\n",
       "estimated_block_reward_usd    511\n",
       "funding_rates                 466\n",
       "liquidation_diff              462\n",
       "total_liquidations            458\n",
       "hashrate                      450\n",
       "open_interest                 392\n",
       "Name: split, dtype: int32"
      ]
     },
     "execution_count": 10,
     "metadata": {},
     "output_type": "execute_result"
    }
   ],
   "execution_count": 10
  },
  {
   "metadata": {
    "ExecuteTime": {
     "end_time": "2024-09-27T09:13:17.137246Z",
     "start_time": "2024-09-27T09:13:17.043011Z"
    }
   },
   "cell_type": "code",
   "source": [
    "# test_set 불러오기\n",
    "submission_df: pd.DataFrame = pd.read_csv(os.path.join('../../data/', 'test.csv'))"
   ],
   "id": "d14356fe240ed828",
   "outputs": [],
   "execution_count": 11
  },
  {
   "metadata": {
    "ExecuteTime": {
     "end_time": "2024-09-27T09:13:17.755081Z",
     "start_time": "2024-09-27T09:13:17.663763Z"
    }
   },
   "cell_type": "code",
   "source": [
    "# 모델을 통해 test에 예상 값 채우기\n",
    "y_test_pred = lgb_model.predict(test_df.drop(['target', 'ID'], axis = 1))\n",
    "y_test_pred_class = np.argmax(y_test_pred, axis = 1)"
   ],
   "id": "af673b5f512330d3",
   "outputs": [],
   "execution_count": 12
  },
  {
   "metadata": {
    "ExecuteTime": {
     "end_time": "2024-09-27T09:13:18.293701Z",
     "start_time": "2024-09-27T09:13:18.194699Z"
    }
   },
   "cell_type": "code",
   "source": [
    "# 분포 확인\n",
    "submission_df = submission_df.assign(target = y_test_pred_class)\n",
    "submission_df['target'].value_counts()"
   ],
   "id": "1acb4f4cfca3e0d6",
   "outputs": [
    {
     "data": {
      "text/plain": [
       "target\n",
       "2    1609\n",
       "1    1103\n",
       "3      48\n",
       "0      32\n",
       "Name: count, dtype: int64"
      ]
     },
     "execution_count": 13,
     "metadata": {},
     "output_type": "execute_result"
    }
   ],
   "execution_count": 13
  },
  {
   "metadata": {
    "ExecuteTime": {
     "end_time": "2024-09-27T09:13:19.048220Z",
     "start_time": "2024-09-27T09:13:18.854663Z"
    }
   },
   "cell_type": "code",
   "source": [
    "value_counts = submission_df['target'].value_counts().sort_index()\n",
    "\n",
    "plt.figure(figsize=(8, 6))\n",
    "plt.bar(value_counts.index, value_counts.values, color=['blue', 'green', 'red', 'orange'])\n",
    "plt.xticks([0, 1, 2, 3])\n",
    "plt.xlabel('Target')\n",
    "plt.ylabel('Count')\n",
    "plt.title('submission_df')\n",
    "plt.show()"
   ],
   "id": "a74afac694f84412",
   "outputs": [
    {
     "data": {
      "text/plain": [
       "<Figure size 800x600 with 1 Axes>"
      ],
      "image/png": "[encoded data removed]"
     },
     "metadata": {},
     "output_type": "display_data"
    }
   ],
   "execution_count": 14
  },
  {
   "metadata": {
    "ExecuteTime": {
     "end_time": "2024-09-27T09:13:20.132446Z",
     "start_time": "2024-09-27T09:13:19.581448Z"
    }
   },
   "cell_type": "code",
   "source": [
    "# TSCV 활용\n",
    "from time_series_CV import TimeSeriesCV as tsCV\n",
    "ts = tsCV(train_df)\n",
    "ts.train()"
   ],
   "id": "8b06ec4c909157a5",
   "outputs": [
    {
     "name": "stdout",
     "output_type": "stream",
     "text": [
      "Fold accuracy: 0.4089041095890411\n",
      "Fold accuracy: 0.4226027397260274\n",
      "Fold accuracy: 0.3780821917808219\n",
      "Fold accuracy: 0.4417808219178082\n",
      "Fold accuracy: 0.4301369863013699\n",
      "     Fold  Accuracy\n",
      "0  Fold 1  0.408904\n",
      "1  Fold 2  0.422603\n",
      "2  Fold 3  0.378082\n",
      "3  Fold 4  0.441781\n",
      "4  Fold 5  0.430137\n"
     ]
    },
    {
     "name": "stderr",
     "output_type": "stream",
     "text": [
      "C:\\Users\\Minari\\anaconda3\\envs\\bProject01\\Lib\\site-packages\\sklearn\\metrics\\_classification.py:1509: UndefinedMetricWarning: Precision is ill-defined and being set to 0.0 in labels with no predicted samples. Use `zero_division` parameter to control this behavior.\n",
      "  _warn_prf(average, modifier, f\"{metric.capitalize()} is\", len(result))\n"
     ]
    }
   ],
   "execution_count": 15
  },
  {
   "metadata": {
    "ExecuteTime": {
     "end_time": "2024-09-27T09:13:20.304012Z",
     "start_time": "2024-09-27T09:13:20.208258Z"
    }
   },
   "cell_type": "code",
   "source": "ts.print_performance()",
   "id": "87af5779bcd269a1",
   "outputs": [
    {
     "name": "stdout",
     "output_type": "stream",
     "text": [
      "F1 Score: 0.242063297467596\n",
      "Precision: 0.2885153413569669\n",
      "Recall: 0.2637237451793914\n",
      "Confusion Matrix: \n",
      "[[  0  73  45   1]\n",
      " [  0 336 242   2]\n",
      " [  0 338 290   2]\n",
      " [  0  75  54   2]]\n"
     ]
    }
   ],
   "execution_count": 16
  },
  {
   "metadata": {
    "ExecuteTime": {
     "end_time": "2024-09-27T09:13:21.210723Z",
     "start_time": "2024-09-27T09:13:21.114521Z"
    }
   },
   "cell_type": "code",
   "source": [
    "ts_pred = ts.model.predict(test_df.drop(['target', 'ID'], axis = 1))\n",
    "ts_submission_df = submission_df.assign(target = ts_pred)\n",
    "ts_submission_df['target'].value_counts()"
   ],
   "id": "1cf140405d10367b",
   "outputs": [
    {
     "data": {
      "text/plain": [
       "target\n",
       "1    1608\n",
       "2    1096\n",
       "3      86\n",
       "0       2\n",
       "Name: count, dtype: int64"
      ]
     },
     "execution_count": 17,
     "metadata": {},
     "output_type": "execute_result"
    }
   ],
   "execution_count": 17
  },
  {
   "metadata": {
    "ExecuteTime": {
     "end_time": "2024-09-27T09:13:21.964981Z",
     "start_time": "2024-09-27T09:13:21.794917Z"
    }
   },
   "cell_type": "code",
   "source": [
    "ts_value_counts = ts_submission_df['target'].value_counts().sort_index()\n",
    "\n",
    "plt.figure(figsize=(8, 6))\n",
    "plt.bar(ts_value_counts.index, ts_value_counts.values, color=['blue', 'green', 'red', 'orange'])\n",
    "plt.xticks([0, 1, 2, 3])\n",
    "plt.xlabel('Classes')\n",
    "plt.ylabel('Count')\n",
    "plt.title('ts_value_counts')\n",
    "plt.show()"
   ],
   "id": "96d3aeda92eee5e9",
   "outputs": [
    {
     "data": {
      "text/plain": [
       "<Figure size 800x600 with 1 Axes>"
      ],
      "image/png": "[encoded data removed]"
     },
     "metadata": {},
     "output_type": "display_data"
    }
   ],
   "execution_count": 18
  },
  {
   "metadata": {
    "ExecuteTime": {
     "end_time": "2024-09-27T09:13:23.297193Z",
     "start_time": "2024-09-27T09:13:23.135015Z"
    }
   },
   "cell_type": "code",
   "source": [
    "ts_value_counts = ts_submission_df['target'].value_counts().sort_index()\n",
    "\n",
    "plt.figure(figsize=(8, 6))\n",
    "plt.bar(ts_value_counts.index, abs(ts_value_counts.values-value_counts.values), color=['blue', 'green', 'red', 'orange'])\n",
    "plt.xticks([0, 1, 2, 3])\n",
    "plt.xlabel('Classes')\n",
    "plt.ylabel('Count')\n",
    "plt.title('target difference')\n",
    "plt.show()"
   ],
   "id": "dbab7592fba29e9d",
   "outputs": [
    {
     "data": {
      "text/plain": [
       "<Figure size 800x600 with 1 Axes>"
      ],
      "image/png": "[encoded data removed]"
     },
     "metadata": {},
     "output_type": "display_data"
    }
   ],
   "execution_count": 19
  },
  {
   "metadata": {
    "ExecuteTime": {
     "end_time": "2024-09-27T09:13:24.655800Z",
     "start_time": "2024-09-27T09:13:24.554126Z"
    }
   },
   "cell_type": "code",
   "source": [
    "submission_df: pd.DataFrame = pd.read_csv(os.path.join('../../data/', \"test.csv\"))\n",
    "y_test_pred = lgb_model.predict(test_df.drop([\"target\", \"ID\"], axis = 1))\n",
    "y_test_pred_class = np.argmax(y_test_pred, axis = 1)\n",
    "ts_submission_df = ts_submission_df.assign(target = y_test_pred_class)\n",
    "ts_submission_df.to_csv(output_csv_name, index=False)"
   ],
   "id": "2f84d2c1f7e80ab6",
   "outputs": [],
   "execution_count": 20
  }
 ],
 "metadata": {
  "kernelspec": {
   "display_name": "Python 3",
   "language": "python",
   "name": "python3"
  },
  "language_info": {
   "codemirror_mode": {
    "name": "ipython",
    "version": 2
   },
   "file_extension": ".py",
   "mimetype": "text/x-python",
   "name": "python",
   "nbconvert_exporter": "python",
   "pygments_lexer": "ipython2",
   "version": "2.7.6"
  }
 },
 "nbformat": 4,
 "nbformat_minor": 5
}
