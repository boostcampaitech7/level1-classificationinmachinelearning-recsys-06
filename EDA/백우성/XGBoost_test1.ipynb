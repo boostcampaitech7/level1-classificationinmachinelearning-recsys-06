{
 "cells": [
  {
   "cell_type": "code",
   "execution_count": 33,
   "metadata": {},
   "outputs": [
    {
     "name": "stdout",
     "output_type": "stream",
     "text": [
      "c:\\Users\\com\\Desktop\\AIT Project1\\level1-classificationinmachinelearning-recsys-06\n"
     ]
    }
   ],
   "source": [
    "import os\n",
    "import sys\n",
    "from typing import List, Dict\n",
    "\n",
    "import lightgbm as lgb\n",
    "import numpy as np\n",
    "import pandas as pd\n",
    "import plotly.graph_objects as go\n",
    "from plotly.subplots import make_subplots\n",
    "from sklearn.metrics import accuracy_score, roc_auc_score\n",
    "from sklearn.model_selection import train_test_split\n",
    "import matplotlib.pyplot as plt\n",
    "import matplotlib.dates as mdates\n",
    "from sklearn.preprocessing import MinMaxScaler\n",
    "import tensorflow as tf\n",
    "import random\n",
    "from tensorflow.keras.models import Sequential\n",
    "from tensorflow.keras.layers import LSTM, Dense, Dropout\n",
    "from sklearn.metrics import mean_squared_error\n",
    "from tensorflow.keras.callbacks import EarlyStopping\n",
    "import plotly.express as px\n",
    "\n",
    "# Code 경로 추가\n",
    "sys.path.append(os.path.dirname(os.path.dirname(os.path.abspath(\"\"))))\n",
    "print(sys.path[-1])"
   ]
  },
  {
   "cell_type": "code",
   "execution_count": 34,
   "metadata": {},
   "outputs": [
    {
     "name": "stderr",
     "output_type": "stream",
     "text": [
      "<>:2: SyntaxWarning: invalid escape sequence '\\.'\n",
      "<>:2: SyntaxWarning: invalid escape sequence '\\.'\n",
      "C:\\Users\\com\\AppData\\Local\\Temp\\ipykernel_7524\\3026538581.py:2: SyntaxWarning: invalid escape sequence '\\.'\n",
      "  data_path: str = \"..\\..\\data\"\n"
     ]
    }
   ],
   "source": [
    "# 파일 호출\n",
    "data_path: str = \"..\\..\\data\"\n",
    "## raw.csv가 없는 경우 실행\n",
    "# from Code.dataset.merge_all import merge_all\n",
    "# df = merge_all(data_path)\n",
    "data: pd.DataFrame = pd.read_csv(os.path.join(data_path, \"raw.csv\"))\n",
    "submission_df: pd.DataFrame = pd.read_csv(os.path.join(data_path, \"test.csv\"))  # ID, target 열만 가진 데이터 미리 호출"
   ]
  },
  {
   "cell_type": "code",
   "execution_count": 35,
   "metadata": {},
   "outputs": [],
   "source": [
    "# 시차(Lag) 특성을 생성할 컬럼 리스트 정의\n",
    "columns_to_lag = [\n",
    "    'hourly_market-data_coinbase-premium-index_coinbase_premium_gap',\n",
    "    'hourly_market-data_coinbase-premium-index_coinbase_premium_index',\n",
    "    'hourly_market-data_funding-rates_all_exchange_funding_rates',\n",
    "    'hourly_market-data_funding-rates_binance_funding_rates',\n",
    "    'hourly_market-data_funding-rates_bitmex_funding_rates',\n",
    "    'hourly_network-data_tokens-transferred_tokens_transferred_median',\n",
    "    'hourly_network-data_transactions-count_transactions_count_total',\n",
    "    'hourly_network-data_utxo-count_utxo_count'\n",
    "]"
   ]
  },
  {
   "cell_type": "code",
   "execution_count": 36,
   "metadata": {},
   "outputs": [],
   "source": [
    "# 시차 (Lag) 특성 생성 함수 정의\n",
    "def create_lag_features(df, columns, max_lag):\n",
    "    df = df.copy()\n",
    "    for col in columns:\n",
    "        for lag in range(1, max_lag + 1):\n",
    "            df[f'{col}_lag_{lag}'] = df[col].shift(lag)\n",
    "    return df"
   ]
  },
  {
   "cell_type": "code",
   "execution_count": 37,
   "metadata": {},
   "outputs": [
    {
     "data": {
      "text/html": [
       "<div>\n",
       "<style scoped>\n",
       "    .dataframe tbody tr th:only-of-type {\n",
       "        vertical-align: middle;\n",
       "    }\n",
       "\n",
       "    .dataframe tbody tr th {\n",
       "        vertical-align: top;\n",
       "    }\n",
       "\n",
       "    .dataframe thead th {\n",
       "        text-align: right;\n",
       "    }\n",
       "</style>\n",
       "<table border=\"1\" class=\"dataframe\">\n",
       "  <thead>\n",
       "    <tr style=\"text-align: right;\">\n",
       "      <th></th>\n",
       "      <th>ID</th>\n",
       "      <th>target</th>\n",
       "      <th>_type</th>\n",
       "      <th>hourly_market-data_coinbase-premium-index_coinbase_premium_gap</th>\n",
       "      <th>hourly_market-data_coinbase-premium-index_coinbase_premium_index</th>\n",
       "      <th>hourly_market-data_funding-rates_all_exchange_funding_rates</th>\n",
       "      <th>hourly_market-data_funding-rates_binance_funding_rates</th>\n",
       "      <th>hourly_market-data_funding-rates_bitmex_funding_rates</th>\n",
       "      <th>hourly_market-data_funding-rates_bybit_funding_rates</th>\n",
       "      <th>hourly_market-data_funding-rates_deribit_funding_rates</th>\n",
       "      <th>...</th>\n",
       "      <th>hourly_market-data_funding-rates_bitmex_funding_rates_lag_3</th>\n",
       "      <th>hourly_network-data_tokens-transferred_tokens_transferred_median_lag_1</th>\n",
       "      <th>hourly_network-data_tokens-transferred_tokens_transferred_median_lag_2</th>\n",
       "      <th>hourly_network-data_tokens-transferred_tokens_transferred_median_lag_3</th>\n",
       "      <th>hourly_network-data_transactions-count_transactions_count_total_lag_1</th>\n",
       "      <th>hourly_network-data_transactions-count_transactions_count_total_lag_2</th>\n",
       "      <th>hourly_network-data_transactions-count_transactions_count_total_lag_3</th>\n",
       "      <th>hourly_network-data_utxo-count_utxo_count_lag_1</th>\n",
       "      <th>hourly_network-data_utxo-count_utxo_count_lag_2</th>\n",
       "      <th>hourly_network-data_utxo-count_utxo_count_lag_3</th>\n",
       "    </tr>\n",
       "  </thead>\n",
       "  <tbody>\n",
       "    <tr>\n",
       "      <th>0</th>\n",
       "      <td>2023-01-01 00:00:00</td>\n",
       "      <td>2.0</td>\n",
       "      <td>train</td>\n",
       "      <td>-9.86</td>\n",
       "      <td>-0.059650</td>\n",
       "      <td>0.005049</td>\n",
       "      <td>0.010000</td>\n",
       "      <td>0.001400</td>\n",
       "      <td>0.01</td>\n",
       "      <td>0.000571</td>\n",
       "      <td>...</td>\n",
       "      <td>NaN</td>\n",
       "      <td>NaN</td>\n",
       "      <td>NaN</td>\n",
       "      <td>NaN</td>\n",
       "      <td>NaN</td>\n",
       "      <td>NaN</td>\n",
       "      <td>NaN</td>\n",
       "      <td>NaN</td>\n",
       "      <td>NaN</td>\n",
       "      <td>NaN</td>\n",
       "    </tr>\n",
       "    <tr>\n",
       "      <th>1</th>\n",
       "      <td>2023-01-01 01:00:00</td>\n",
       "      <td>1.0</td>\n",
       "      <td>train</td>\n",
       "      <td>-8.78</td>\n",
       "      <td>-0.053047</td>\n",
       "      <td>0.005049</td>\n",
       "      <td>0.010000</td>\n",
       "      <td>0.001400</td>\n",
       "      <td>0.01</td>\n",
       "      <td>0.000570</td>\n",
       "      <td>...</td>\n",
       "      <td>NaN</td>\n",
       "      <td>0.020125</td>\n",
       "      <td>NaN</td>\n",
       "      <td>NaN</td>\n",
       "      <td>11457.0</td>\n",
       "      <td>NaN</td>\n",
       "      <td>NaN</td>\n",
       "      <td>83308092.0</td>\n",
       "      <td>NaN</td>\n",
       "      <td>NaN</td>\n",
       "    </tr>\n",
       "    <tr>\n",
       "      <th>2</th>\n",
       "      <td>2023-01-01 02:00:00</td>\n",
       "      <td>1.0</td>\n",
       "      <td>train</td>\n",
       "      <td>-9.59</td>\n",
       "      <td>-0.057952</td>\n",
       "      <td>0.005049</td>\n",
       "      <td>0.010000</td>\n",
       "      <td>0.001400</td>\n",
       "      <td>0.01</td>\n",
       "      <td>0.000566</td>\n",
       "      <td>...</td>\n",
       "      <td>NaN</td>\n",
       "      <td>0.021293</td>\n",
       "      <td>0.020125</td>\n",
       "      <td>NaN</td>\n",
       "      <td>5832.0</td>\n",
       "      <td>11457.0</td>\n",
       "      <td>NaN</td>\n",
       "      <td>83314883.0</td>\n",
       "      <td>83308092.0</td>\n",
       "      <td>NaN</td>\n",
       "    </tr>\n",
       "    <tr>\n",
       "      <th>3</th>\n",
       "      <td>2023-01-01 03:00:00</td>\n",
       "      <td>1.0</td>\n",
       "      <td>train</td>\n",
       "      <td>-9.74</td>\n",
       "      <td>-0.058912</td>\n",
       "      <td>0.005067</td>\n",
       "      <td>0.010000</td>\n",
       "      <td>0.001518</td>\n",
       "      <td>0.01</td>\n",
       "      <td>0.000557</td>\n",
       "      <td>...</td>\n",
       "      <td>0.0014</td>\n",
       "      <td>0.022980</td>\n",
       "      <td>0.021293</td>\n",
       "      <td>0.020125</td>\n",
       "      <td>5550.0</td>\n",
       "      <td>5832.0</td>\n",
       "      <td>11457.0</td>\n",
       "      <td>83314090.0</td>\n",
       "      <td>83314883.0</td>\n",
       "      <td>83308092.0</td>\n",
       "    </tr>\n",
       "    <tr>\n",
       "      <th>4</th>\n",
       "      <td>2023-01-01 04:00:00</td>\n",
       "      <td>2.0</td>\n",
       "      <td>train</td>\n",
       "      <td>-10.14</td>\n",
       "      <td>-0.061373</td>\n",
       "      <td>0.006210</td>\n",
       "      <td>0.010000</td>\n",
       "      <td>0.008400</td>\n",
       "      <td>0.01</td>\n",
       "      <td>0.000536</td>\n",
       "      <td>...</td>\n",
       "      <td>0.0014</td>\n",
       "      <td>0.024678</td>\n",
       "      <td>0.022980</td>\n",
       "      <td>0.021293</td>\n",
       "      <td>5245.0</td>\n",
       "      <td>5550.0</td>\n",
       "      <td>5832.0</td>\n",
       "      <td>83326258.0</td>\n",
       "      <td>83314090.0</td>\n",
       "      <td>83314883.0</td>\n",
       "    </tr>\n",
       "    <tr>\n",
       "      <th>...</th>\n",
       "      <td>...</td>\n",
       "      <td>...</td>\n",
       "      <td>...</td>\n",
       "      <td>...</td>\n",
       "      <td>...</td>\n",
       "      <td>...</td>\n",
       "      <td>...</td>\n",
       "      <td>...</td>\n",
       "      <td>...</td>\n",
       "      <td>...</td>\n",
       "      <td>...</td>\n",
       "      <td>...</td>\n",
       "      <td>...</td>\n",
       "      <td>...</td>\n",
       "      <td>...</td>\n",
       "      <td>...</td>\n",
       "      <td>...</td>\n",
       "      <td>...</td>\n",
       "      <td>...</td>\n",
       "      <td>...</td>\n",
       "      <td>...</td>\n",
       "    </tr>\n",
       "    <tr>\n",
       "      <th>11547</th>\n",
       "      <td>2024-04-26 03:00:00</td>\n",
       "      <td>NaN</td>\n",
       "      <td>test</td>\n",
       "      <td>-1.53</td>\n",
       "      <td>-0.002376</td>\n",
       "      <td>NaN</td>\n",
       "      <td>0.004867</td>\n",
       "      <td>NaN</td>\n",
       "      <td>NaN</td>\n",
       "      <td>NaN</td>\n",
       "      <td>...</td>\n",
       "      <td>NaN</td>\n",
       "      <td>0.003008</td>\n",
       "      <td>0.001942</td>\n",
       "      <td>0.004097</td>\n",
       "      <td>13621.0</td>\n",
       "      <td>18553.0</td>\n",
       "      <td>20329.0</td>\n",
       "      <td>179811932.0</td>\n",
       "      <td>179793126.0</td>\n",
       "      <td>179753959.0</td>\n",
       "    </tr>\n",
       "    <tr>\n",
       "      <th>11548</th>\n",
       "      <td>2024-04-26 04:00:00</td>\n",
       "      <td>NaN</td>\n",
       "      <td>test</td>\n",
       "      <td>-11.73</td>\n",
       "      <td>-0.018268</td>\n",
       "      <td>NaN</td>\n",
       "      <td>0.006169</td>\n",
       "      <td>NaN</td>\n",
       "      <td>NaN</td>\n",
       "      <td>NaN</td>\n",
       "      <td>...</td>\n",
       "      <td>NaN</td>\n",
       "      <td>0.004827</td>\n",
       "      <td>0.003008</td>\n",
       "      <td>0.001942</td>\n",
       "      <td>10048.0</td>\n",
       "      <td>13621.0</td>\n",
       "      <td>18553.0</td>\n",
       "      <td>179820708.0</td>\n",
       "      <td>179811932.0</td>\n",
       "      <td>179793126.0</td>\n",
       "    </tr>\n",
       "    <tr>\n",
       "      <th>11549</th>\n",
       "      <td>2024-04-26 05:00:00</td>\n",
       "      <td>NaN</td>\n",
       "      <td>test</td>\n",
       "      <td>1.85</td>\n",
       "      <td>0.002866</td>\n",
       "      <td>NaN</td>\n",
       "      <td>NaN</td>\n",
       "      <td>NaN</td>\n",
       "      <td>NaN</td>\n",
       "      <td>NaN</td>\n",
       "      <td>...</td>\n",
       "      <td>NaN</td>\n",
       "      <td>0.002810</td>\n",
       "      <td>0.004827</td>\n",
       "      <td>0.003008</td>\n",
       "      <td>NaN</td>\n",
       "      <td>10048.0</td>\n",
       "      <td>13621.0</td>\n",
       "      <td>179833897.0</td>\n",
       "      <td>179820708.0</td>\n",
       "      <td>179811932.0</td>\n",
       "    </tr>\n",
       "    <tr>\n",
       "      <th>11550</th>\n",
       "      <td>2024-04-26 06:00:00</td>\n",
       "      <td>NaN</td>\n",
       "      <td>test</td>\n",
       "      <td>-2.05</td>\n",
       "      <td>-0.003184</td>\n",
       "      <td>NaN</td>\n",
       "      <td>NaN</td>\n",
       "      <td>NaN</td>\n",
       "      <td>NaN</td>\n",
       "      <td>NaN</td>\n",
       "      <td>...</td>\n",
       "      <td>NaN</td>\n",
       "      <td>0.001104</td>\n",
       "      <td>0.002810</td>\n",
       "      <td>0.004827</td>\n",
       "      <td>NaN</td>\n",
       "      <td>NaN</td>\n",
       "      <td>10048.0</td>\n",
       "      <td>179851249.0</td>\n",
       "      <td>179833897.0</td>\n",
       "      <td>179820708.0</td>\n",
       "    </tr>\n",
       "    <tr>\n",
       "      <th>11551</th>\n",
       "      <td>2024-04-26 07:00:00</td>\n",
       "      <td>NaN</td>\n",
       "      <td>test</td>\n",
       "      <td>NaN</td>\n",
       "      <td>NaN</td>\n",
       "      <td>NaN</td>\n",
       "      <td>NaN</td>\n",
       "      <td>NaN</td>\n",
       "      <td>NaN</td>\n",
       "      <td>NaN</td>\n",
       "      <td>...</td>\n",
       "      <td>NaN</td>\n",
       "      <td>0.001943</td>\n",
       "      <td>0.001104</td>\n",
       "      <td>0.002810</td>\n",
       "      <td>NaN</td>\n",
       "      <td>NaN</td>\n",
       "      <td>NaN</td>\n",
       "      <td>179852452.0</td>\n",
       "      <td>179851249.0</td>\n",
       "      <td>179833897.0</td>\n",
       "    </tr>\n",
       "  </tbody>\n",
       "</table>\n",
       "<p>11552 rows × 279 columns</p>\n",
       "</div>"
      ],
      "text/plain": [
       "                        ID  target  _type  \\\n",
       "0      2023-01-01 00:00:00     2.0  train   \n",
       "1      2023-01-01 01:00:00     1.0  train   \n",
       "2      2023-01-01 02:00:00     1.0  train   \n",
       "3      2023-01-01 03:00:00     1.0  train   \n",
       "4      2023-01-01 04:00:00     2.0  train   \n",
       "...                    ...     ...    ...   \n",
       "11547  2024-04-26 03:00:00     NaN   test   \n",
       "11548  2024-04-26 04:00:00     NaN   test   \n",
       "11549  2024-04-26 05:00:00     NaN   test   \n",
       "11550  2024-04-26 06:00:00     NaN   test   \n",
       "11551  2024-04-26 07:00:00     NaN   test   \n",
       "\n",
       "       hourly_market-data_coinbase-premium-index_coinbase_premium_gap  \\\n",
       "0                                                  -9.86                \n",
       "1                                                  -8.78                \n",
       "2                                                  -9.59                \n",
       "3                                                  -9.74                \n",
       "4                                                 -10.14                \n",
       "...                                                  ...                \n",
       "11547                                              -1.53                \n",
       "11548                                             -11.73                \n",
       "11549                                               1.85                \n",
       "11550                                              -2.05                \n",
       "11551                                                NaN                \n",
       "\n",
       "       hourly_market-data_coinbase-premium-index_coinbase_premium_index  \\\n",
       "0                                              -0.059650                  \n",
       "1                                              -0.053047                  \n",
       "2                                              -0.057952                  \n",
       "3                                              -0.058912                  \n",
       "4                                              -0.061373                  \n",
       "...                                                  ...                  \n",
       "11547                                          -0.002376                  \n",
       "11548                                          -0.018268                  \n",
       "11549                                           0.002866                  \n",
       "11550                                          -0.003184                  \n",
       "11551                                                NaN                  \n",
       "\n",
       "       hourly_market-data_funding-rates_all_exchange_funding_rates  \\\n",
       "0                                               0.005049             \n",
       "1                                               0.005049             \n",
       "2                                               0.005049             \n",
       "3                                               0.005067             \n",
       "4                                               0.006210             \n",
       "...                                                  ...             \n",
       "11547                                                NaN             \n",
       "11548                                                NaN             \n",
       "11549                                                NaN             \n",
       "11550                                                NaN             \n",
       "11551                                                NaN             \n",
       "\n",
       "       hourly_market-data_funding-rates_binance_funding_rates  \\\n",
       "0                                               0.010000        \n",
       "1                                               0.010000        \n",
       "2                                               0.010000        \n",
       "3                                               0.010000        \n",
       "4                                               0.010000        \n",
       "...                                                  ...        \n",
       "11547                                           0.004867        \n",
       "11548                                           0.006169        \n",
       "11549                                                NaN        \n",
       "11550                                                NaN        \n",
       "11551                                                NaN        \n",
       "\n",
       "       hourly_market-data_funding-rates_bitmex_funding_rates  \\\n",
       "0                                               0.001400       \n",
       "1                                               0.001400       \n",
       "2                                               0.001400       \n",
       "3                                               0.001518       \n",
       "4                                               0.008400       \n",
       "...                                                  ...       \n",
       "11547                                                NaN       \n",
       "11548                                                NaN       \n",
       "11549                                                NaN       \n",
       "11550                                                NaN       \n",
       "11551                                                NaN       \n",
       "\n",
       "       hourly_market-data_funding-rates_bybit_funding_rates  \\\n",
       "0                                                   0.01      \n",
       "1                                                   0.01      \n",
       "2                                                   0.01      \n",
       "3                                                   0.01      \n",
       "4                                                   0.01      \n",
       "...                                                  ...      \n",
       "11547                                                NaN      \n",
       "11548                                                NaN      \n",
       "11549                                                NaN      \n",
       "11550                                                NaN      \n",
       "11551                                                NaN      \n",
       "\n",
       "       hourly_market-data_funding-rates_deribit_funding_rates  ...  \\\n",
       "0                                               0.000571       ...   \n",
       "1                                               0.000570       ...   \n",
       "2                                               0.000566       ...   \n",
       "3                                               0.000557       ...   \n",
       "4                                               0.000536       ...   \n",
       "...                                                  ...       ...   \n",
       "11547                                                NaN       ...   \n",
       "11548                                                NaN       ...   \n",
       "11549                                                NaN       ...   \n",
       "11550                                                NaN       ...   \n",
       "11551                                                NaN       ...   \n",
       "\n",
       "       hourly_market-data_funding-rates_bitmex_funding_rates_lag_3  \\\n",
       "0                                                    NaN             \n",
       "1                                                    NaN             \n",
       "2                                                    NaN             \n",
       "3                                                 0.0014             \n",
       "4                                                 0.0014             \n",
       "...                                                  ...             \n",
       "11547                                                NaN             \n",
       "11548                                                NaN             \n",
       "11549                                                NaN             \n",
       "11550                                                NaN             \n",
       "11551                                                NaN             \n",
       "\n",
       "       hourly_network-data_tokens-transferred_tokens_transferred_median_lag_1  \\\n",
       "0                                                    NaN                        \n",
       "1                                               0.020125                        \n",
       "2                                               0.021293                        \n",
       "3                                               0.022980                        \n",
       "4                                               0.024678                        \n",
       "...                                                  ...                        \n",
       "11547                                           0.003008                        \n",
       "11548                                           0.004827                        \n",
       "11549                                           0.002810                        \n",
       "11550                                           0.001104                        \n",
       "11551                                           0.001943                        \n",
       "\n",
       "       hourly_network-data_tokens-transferred_tokens_transferred_median_lag_2  \\\n",
       "0                                                    NaN                        \n",
       "1                                                    NaN                        \n",
       "2                                               0.020125                        \n",
       "3                                               0.021293                        \n",
       "4                                               0.022980                        \n",
       "...                                                  ...                        \n",
       "11547                                           0.001942                        \n",
       "11548                                           0.003008                        \n",
       "11549                                           0.004827                        \n",
       "11550                                           0.002810                        \n",
       "11551                                           0.001104                        \n",
       "\n",
       "       hourly_network-data_tokens-transferred_tokens_transferred_median_lag_3  \\\n",
       "0                                                    NaN                        \n",
       "1                                                    NaN                        \n",
       "2                                                    NaN                        \n",
       "3                                               0.020125                        \n",
       "4                                               0.021293                        \n",
       "...                                                  ...                        \n",
       "11547                                           0.004097                        \n",
       "11548                                           0.001942                        \n",
       "11549                                           0.003008                        \n",
       "11550                                           0.004827                        \n",
       "11551                                           0.002810                        \n",
       "\n",
       "       hourly_network-data_transactions-count_transactions_count_total_lag_1  \\\n",
       "0                                                    NaN                       \n",
       "1                                                11457.0                       \n",
       "2                                                 5832.0                       \n",
       "3                                                 5550.0                       \n",
       "4                                                 5245.0                       \n",
       "...                                                  ...                       \n",
       "11547                                            13621.0                       \n",
       "11548                                            10048.0                       \n",
       "11549                                                NaN                       \n",
       "11550                                                NaN                       \n",
       "11551                                                NaN                       \n",
       "\n",
       "       hourly_network-data_transactions-count_transactions_count_total_lag_2  \\\n",
       "0                                                    NaN                       \n",
       "1                                                    NaN                       \n",
       "2                                                11457.0                       \n",
       "3                                                 5832.0                       \n",
       "4                                                 5550.0                       \n",
       "...                                                  ...                       \n",
       "11547                                            18553.0                       \n",
       "11548                                            13621.0                       \n",
       "11549                                            10048.0                       \n",
       "11550                                                NaN                       \n",
       "11551                                                NaN                       \n",
       "\n",
       "       hourly_network-data_transactions-count_transactions_count_total_lag_3  \\\n",
       "0                                                    NaN                       \n",
       "1                                                    NaN                       \n",
       "2                                                    NaN                       \n",
       "3                                                11457.0                       \n",
       "4                                                 5832.0                       \n",
       "...                                                  ...                       \n",
       "11547                                            20329.0                       \n",
       "11548                                            18553.0                       \n",
       "11549                                            13621.0                       \n",
       "11550                                            10048.0                       \n",
       "11551                                                NaN                       \n",
       "\n",
       "       hourly_network-data_utxo-count_utxo_count_lag_1  \\\n",
       "0                                                  NaN   \n",
       "1                                           83308092.0   \n",
       "2                                           83314883.0   \n",
       "3                                           83314090.0   \n",
       "4                                           83326258.0   \n",
       "...                                                ...   \n",
       "11547                                      179811932.0   \n",
       "11548                                      179820708.0   \n",
       "11549                                      179833897.0   \n",
       "11550                                      179851249.0   \n",
       "11551                                      179852452.0   \n",
       "\n",
       "       hourly_network-data_utxo-count_utxo_count_lag_2  \\\n",
       "0                                                  NaN   \n",
       "1                                                  NaN   \n",
       "2                                           83308092.0   \n",
       "3                                           83314883.0   \n",
       "4                                           83314090.0   \n",
       "...                                                ...   \n",
       "11547                                      179793126.0   \n",
       "11548                                      179811932.0   \n",
       "11549                                      179820708.0   \n",
       "11550                                      179833897.0   \n",
       "11551                                      179851249.0   \n",
       "\n",
       "       hourly_network-data_utxo-count_utxo_count_lag_3  \n",
       "0                                                  NaN  \n",
       "1                                                  NaN  \n",
       "2                                                  NaN  \n",
       "3                                           83308092.0  \n",
       "4                                           83314883.0  \n",
       "...                                                ...  \n",
       "11547                                      179753959.0  \n",
       "11548                                      179793126.0  \n",
       "11549                                      179811932.0  \n",
       "11550                                      179820708.0  \n",
       "11551                                      179833897.0  \n",
       "\n",
       "[11552 rows x 279 columns]"
      ]
     },
     "execution_count": 37,
     "metadata": {},
     "output_type": "execute_result"
    }
   ],
   "source": [
    "# 최대 시차 생성\n",
    "max_lag = 3\n",
    "\n",
    "# 시차 특성 생성\n",
    "data_with_lags = create_lag_features(data, columns_to_lag, max_lag)\n",
    "\n",
    "data_with_lags"
   ]
  },
  {
   "cell_type": "code",
   "execution_count": 38,
   "metadata": {},
   "outputs": [],
   "source": [
    "# 이동 평균 (Moving Average) 특성 생성 함수 정의\n",
    "def create_moving_average_features(df, columns, windows):\n",
    "    df = df.copy()\n",
    "    for col in columns:\n",
    "        for window in windows:\n",
    "            df[f'{col}_ma_{window}'] = df[col].rolling(window=window).mean()\n",
    "    return df"
   ]
  },
  {
   "cell_type": "code",
   "execution_count": 40,
   "metadata": {},
   "outputs": [
    {
     "data": {
      "text/html": [
       "<div>\n",
       "<style scoped>\n",
       "    .dataframe tbody tr th:only-of-type {\n",
       "        vertical-align: middle;\n",
       "    }\n",
       "\n",
       "    .dataframe tbody tr th {\n",
       "        vertical-align: top;\n",
       "    }\n",
       "\n",
       "    .dataframe thead th {\n",
       "        text-align: right;\n",
       "    }\n",
       "</style>\n",
       "<table border=\"1\" class=\"dataframe\">\n",
       "  <thead>\n",
       "    <tr style=\"text-align: right;\">\n",
       "      <th></th>\n",
       "      <th>ID</th>\n",
       "      <th>target</th>\n",
       "      <th>_type</th>\n",
       "      <th>hourly_market-data_coinbase-premium-index_coinbase_premium_gap</th>\n",
       "      <th>hourly_market-data_coinbase-premium-index_coinbase_premium_index</th>\n",
       "      <th>hourly_market-data_funding-rates_all_exchange_funding_rates</th>\n",
       "      <th>hourly_market-data_funding-rates_binance_funding_rates</th>\n",
       "      <th>hourly_market-data_funding-rates_bitmex_funding_rates</th>\n",
       "      <th>hourly_market-data_funding-rates_bybit_funding_rates</th>\n",
       "      <th>hourly_market-data_funding-rates_deribit_funding_rates</th>\n",
       "      <th>...</th>\n",
       "      <th>hourly_market-data_funding-rates_bitmex_funding_rates_ma_12</th>\n",
       "      <th>hourly_network-data_tokens-transferred_tokens_transferred_median_ma_3</th>\n",
       "      <th>hourly_network-data_tokens-transferred_tokens_transferred_median_ma_6</th>\n",
       "      <th>hourly_network-data_tokens-transferred_tokens_transferred_median_ma_12</th>\n",
       "      <th>hourly_network-data_transactions-count_transactions_count_total_ma_3</th>\n",
       "      <th>hourly_network-data_transactions-count_transactions_count_total_ma_6</th>\n",
       "      <th>hourly_network-data_transactions-count_transactions_count_total_ma_12</th>\n",
       "      <th>hourly_network-data_utxo-count_utxo_count_ma_3</th>\n",
       "      <th>hourly_network-data_utxo-count_utxo_count_ma_6</th>\n",
       "      <th>hourly_network-data_utxo-count_utxo_count_ma_12</th>\n",
       "    </tr>\n",
       "  </thead>\n",
       "  <tbody>\n",
       "    <tr>\n",
       "      <th>0</th>\n",
       "      <td>2023-01-01 00:00:00</td>\n",
       "      <td>2.0</td>\n",
       "      <td>train</td>\n",
       "      <td>-9.86</td>\n",
       "      <td>-0.059650</td>\n",
       "      <td>0.005049</td>\n",
       "      <td>0.010000</td>\n",
       "      <td>0.001400</td>\n",
       "      <td>0.01</td>\n",
       "      <td>0.000571</td>\n",
       "      <td>...</td>\n",
       "      <td>NaN</td>\n",
       "      <td>NaN</td>\n",
       "      <td>NaN</td>\n",
       "      <td>NaN</td>\n",
       "      <td>NaN</td>\n",
       "      <td>NaN</td>\n",
       "      <td>NaN</td>\n",
       "      <td>NaN</td>\n",
       "      <td>NaN</td>\n",
       "      <td>NaN</td>\n",
       "    </tr>\n",
       "    <tr>\n",
       "      <th>1</th>\n",
       "      <td>2023-01-01 01:00:00</td>\n",
       "      <td>1.0</td>\n",
       "      <td>train</td>\n",
       "      <td>-8.78</td>\n",
       "      <td>-0.053047</td>\n",
       "      <td>0.005049</td>\n",
       "      <td>0.010000</td>\n",
       "      <td>0.001400</td>\n",
       "      <td>0.01</td>\n",
       "      <td>0.000570</td>\n",
       "      <td>...</td>\n",
       "      <td>NaN</td>\n",
       "      <td>NaN</td>\n",
       "      <td>NaN</td>\n",
       "      <td>NaN</td>\n",
       "      <td>NaN</td>\n",
       "      <td>NaN</td>\n",
       "      <td>NaN</td>\n",
       "      <td>NaN</td>\n",
       "      <td>NaN</td>\n",
       "      <td>NaN</td>\n",
       "    </tr>\n",
       "    <tr>\n",
       "      <th>2</th>\n",
       "      <td>2023-01-01 02:00:00</td>\n",
       "      <td>1.0</td>\n",
       "      <td>train</td>\n",
       "      <td>-9.59</td>\n",
       "      <td>-0.057952</td>\n",
       "      <td>0.005049</td>\n",
       "      <td>0.010000</td>\n",
       "      <td>0.001400</td>\n",
       "      <td>0.01</td>\n",
       "      <td>0.000566</td>\n",
       "      <td>...</td>\n",
       "      <td>NaN</td>\n",
       "      <td>0.021466</td>\n",
       "      <td>NaN</td>\n",
       "      <td>NaN</td>\n",
       "      <td>7613.000000</td>\n",
       "      <td>NaN</td>\n",
       "      <td>NaN</td>\n",
       "      <td>8.331236e+07</td>\n",
       "      <td>NaN</td>\n",
       "      <td>NaN</td>\n",
       "    </tr>\n",
       "    <tr>\n",
       "      <th>3</th>\n",
       "      <td>2023-01-01 03:00:00</td>\n",
       "      <td>1.0</td>\n",
       "      <td>train</td>\n",
       "      <td>-9.74</td>\n",
       "      <td>-0.058912</td>\n",
       "      <td>0.005067</td>\n",
       "      <td>0.010000</td>\n",
       "      <td>0.001518</td>\n",
       "      <td>0.01</td>\n",
       "      <td>0.000557</td>\n",
       "      <td>...</td>\n",
       "      <td>NaN</td>\n",
       "      <td>0.022983</td>\n",
       "      <td>NaN</td>\n",
       "      <td>NaN</td>\n",
       "      <td>5542.333333</td>\n",
       "      <td>NaN</td>\n",
       "      <td>NaN</td>\n",
       "      <td>8.331841e+07</td>\n",
       "      <td>NaN</td>\n",
       "      <td>NaN</td>\n",
       "    </tr>\n",
       "    <tr>\n",
       "      <th>4</th>\n",
       "      <td>2023-01-01 04:00:00</td>\n",
       "      <td>2.0</td>\n",
       "      <td>train</td>\n",
       "      <td>-10.14</td>\n",
       "      <td>-0.061373</td>\n",
       "      <td>0.006210</td>\n",
       "      <td>0.010000</td>\n",
       "      <td>0.008400</td>\n",
       "      <td>0.01</td>\n",
       "      <td>0.000536</td>\n",
       "      <td>...</td>\n",
       "      <td>NaN</td>\n",
       "      <td>0.025418</td>\n",
       "      <td>NaN</td>\n",
       "      <td>NaN</td>\n",
       "      <td>5912.333333</td>\n",
       "      <td>NaN</td>\n",
       "      <td>NaN</td>\n",
       "      <td>8.332651e+07</td>\n",
       "      <td>NaN</td>\n",
       "      <td>NaN</td>\n",
       "    </tr>\n",
       "    <tr>\n",
       "      <th>...</th>\n",
       "      <td>...</td>\n",
       "      <td>...</td>\n",
       "      <td>...</td>\n",
       "      <td>...</td>\n",
       "      <td>...</td>\n",
       "      <td>...</td>\n",
       "      <td>...</td>\n",
       "      <td>...</td>\n",
       "      <td>...</td>\n",
       "      <td>...</td>\n",
       "      <td>...</td>\n",
       "      <td>...</td>\n",
       "      <td>...</td>\n",
       "      <td>...</td>\n",
       "      <td>...</td>\n",
       "      <td>...</td>\n",
       "      <td>...</td>\n",
       "      <td>...</td>\n",
       "      <td>...</td>\n",
       "      <td>...</td>\n",
       "      <td>...</td>\n",
       "    </tr>\n",
       "    <tr>\n",
       "      <th>11547</th>\n",
       "      <td>2024-04-26 03:00:00</td>\n",
       "      <td>NaN</td>\n",
       "      <td>test</td>\n",
       "      <td>-1.53</td>\n",
       "      <td>-0.002376</td>\n",
       "      <td>NaN</td>\n",
       "      <td>0.004867</td>\n",
       "      <td>NaN</td>\n",
       "      <td>NaN</td>\n",
       "      <td>NaN</td>\n",
       "      <td>...</td>\n",
       "      <td>NaN</td>\n",
       "      <td>0.003259</td>\n",
       "      <td>0.002513</td>\n",
       "      <td>0.003276</td>\n",
       "      <td>14074.000000</td>\n",
       "      <td>13372.666667</td>\n",
       "      <td>20616.083333</td>\n",
       "      <td>1.798086e+08</td>\n",
       "      <td>1.797712e+08</td>\n",
       "      <td>1.797049e+08</td>\n",
       "    </tr>\n",
       "    <tr>\n",
       "      <th>11548</th>\n",
       "      <td>2024-04-26 04:00:00</td>\n",
       "      <td>NaN</td>\n",
       "      <td>test</td>\n",
       "      <td>-11.73</td>\n",
       "      <td>-0.018268</td>\n",
       "      <td>NaN</td>\n",
       "      <td>0.006169</td>\n",
       "      <td>NaN</td>\n",
       "      <td>NaN</td>\n",
       "      <td>NaN</td>\n",
       "      <td>...</td>\n",
       "      <td>NaN</td>\n",
       "      <td>0.003548</td>\n",
       "      <td>0.002781</td>\n",
       "      <td>0.002656</td>\n",
       "      <td>NaN</td>\n",
       "      <td>NaN</td>\n",
       "      <td>NaN</td>\n",
       "      <td>1.798222e+08</td>\n",
       "      <td>1.797904e+08</td>\n",
       "      <td>1.797242e+08</td>\n",
       "    </tr>\n",
       "    <tr>\n",
       "      <th>11549</th>\n",
       "      <td>2024-04-26 05:00:00</td>\n",
       "      <td>NaN</td>\n",
       "      <td>test</td>\n",
       "      <td>1.85</td>\n",
       "      <td>0.002866</td>\n",
       "      <td>NaN</td>\n",
       "      <td>NaN</td>\n",
       "      <td>NaN</td>\n",
       "      <td>NaN</td>\n",
       "      <td>NaN</td>\n",
       "      <td>...</td>\n",
       "      <td>NaN</td>\n",
       "      <td>0.002914</td>\n",
       "      <td>0.002965</td>\n",
       "      <td>0.002024</td>\n",
       "      <td>NaN</td>\n",
       "      <td>NaN</td>\n",
       "      <td>NaN</td>\n",
       "      <td>1.798353e+08</td>\n",
       "      <td>1.798108e+08</td>\n",
       "      <td>1.797426e+08</td>\n",
       "    </tr>\n",
       "    <tr>\n",
       "      <th>11550</th>\n",
       "      <td>2024-04-26 06:00:00</td>\n",
       "      <td>NaN</td>\n",
       "      <td>test</td>\n",
       "      <td>-2.05</td>\n",
       "      <td>-0.003184</td>\n",
       "      <td>NaN</td>\n",
       "      <td>NaN</td>\n",
       "      <td>NaN</td>\n",
       "      <td>NaN</td>\n",
       "      <td>NaN</td>\n",
       "      <td>...</td>\n",
       "      <td>NaN</td>\n",
       "      <td>0.001952</td>\n",
       "      <td>0.002606</td>\n",
       "      <td>0.002066</td>\n",
       "      <td>NaN</td>\n",
       "      <td>NaN</td>\n",
       "      <td>NaN</td>\n",
       "      <td>1.798459e+08</td>\n",
       "      <td>1.798272e+08</td>\n",
       "      <td>1.797598e+08</td>\n",
       "    </tr>\n",
       "    <tr>\n",
       "      <th>11551</th>\n",
       "      <td>2024-04-26 07:00:00</td>\n",
       "      <td>NaN</td>\n",
       "      <td>test</td>\n",
       "      <td>NaN</td>\n",
       "      <td>NaN</td>\n",
       "      <td>NaN</td>\n",
       "      <td>NaN</td>\n",
       "      <td>NaN</td>\n",
       "      <td>NaN</td>\n",
       "      <td>NaN</td>\n",
       "      <td>...</td>\n",
       "      <td>NaN</td>\n",
       "      <td>0.003516</td>\n",
       "      <td>0.003532</td>\n",
       "      <td>0.002569</td>\n",
       "      <td>NaN</td>\n",
       "      <td>NaN</td>\n",
       "      <td>NaN</td>\n",
       "      <td>NaN</td>\n",
       "      <td>NaN</td>\n",
       "      <td>NaN</td>\n",
       "    </tr>\n",
       "  </tbody>\n",
       "</table>\n",
       "<p>11552 rows × 303 columns</p>\n",
       "</div>"
      ],
      "text/plain": [
       "                        ID  target  _type  \\\n",
       "0      2023-01-01 00:00:00     2.0  train   \n",
       "1      2023-01-01 01:00:00     1.0  train   \n",
       "2      2023-01-01 02:00:00     1.0  train   \n",
       "3      2023-01-01 03:00:00     1.0  train   \n",
       "4      2023-01-01 04:00:00     2.0  train   \n",
       "...                    ...     ...    ...   \n",
       "11547  2024-04-26 03:00:00     NaN   test   \n",
       "11548  2024-04-26 04:00:00     NaN   test   \n",
       "11549  2024-04-26 05:00:00     NaN   test   \n",
       "11550  2024-04-26 06:00:00     NaN   test   \n",
       "11551  2024-04-26 07:00:00     NaN   test   \n",
       "\n",
       "       hourly_market-data_coinbase-premium-index_coinbase_premium_gap  \\\n",
       "0                                                  -9.86                \n",
       "1                                                  -8.78                \n",
       "2                                                  -9.59                \n",
       "3                                                  -9.74                \n",
       "4                                                 -10.14                \n",
       "...                                                  ...                \n",
       "11547                                              -1.53                \n",
       "11548                                             -11.73                \n",
       "11549                                               1.85                \n",
       "11550                                              -2.05                \n",
       "11551                                                NaN                \n",
       "\n",
       "       hourly_market-data_coinbase-premium-index_coinbase_premium_index  \\\n",
       "0                                              -0.059650                  \n",
       "1                                              -0.053047                  \n",
       "2                                              -0.057952                  \n",
       "3                                              -0.058912                  \n",
       "4                                              -0.061373                  \n",
       "...                                                  ...                  \n",
       "11547                                          -0.002376                  \n",
       "11548                                          -0.018268                  \n",
       "11549                                           0.002866                  \n",
       "11550                                          -0.003184                  \n",
       "11551                                                NaN                  \n",
       "\n",
       "       hourly_market-data_funding-rates_all_exchange_funding_rates  \\\n",
       "0                                               0.005049             \n",
       "1                                               0.005049             \n",
       "2                                               0.005049             \n",
       "3                                               0.005067             \n",
       "4                                               0.006210             \n",
       "...                                                  ...             \n",
       "11547                                                NaN             \n",
       "11548                                                NaN             \n",
       "11549                                                NaN             \n",
       "11550                                                NaN             \n",
       "11551                                                NaN             \n",
       "\n",
       "       hourly_market-data_funding-rates_binance_funding_rates  \\\n",
       "0                                               0.010000        \n",
       "1                                               0.010000        \n",
       "2                                               0.010000        \n",
       "3                                               0.010000        \n",
       "4                                               0.010000        \n",
       "...                                                  ...        \n",
       "11547                                           0.004867        \n",
       "11548                                           0.006169        \n",
       "11549                                                NaN        \n",
       "11550                                                NaN        \n",
       "11551                                                NaN        \n",
       "\n",
       "       hourly_market-data_funding-rates_bitmex_funding_rates  \\\n",
       "0                                               0.001400       \n",
       "1                                               0.001400       \n",
       "2                                               0.001400       \n",
       "3                                               0.001518       \n",
       "4                                               0.008400       \n",
       "...                                                  ...       \n",
       "11547                                                NaN       \n",
       "11548                                                NaN       \n",
       "11549                                                NaN       \n",
       "11550                                                NaN       \n",
       "11551                                                NaN       \n",
       "\n",
       "       hourly_market-data_funding-rates_bybit_funding_rates  \\\n",
       "0                                                   0.01      \n",
       "1                                                   0.01      \n",
       "2                                                   0.01      \n",
       "3                                                   0.01      \n",
       "4                                                   0.01      \n",
       "...                                                  ...      \n",
       "11547                                                NaN      \n",
       "11548                                                NaN      \n",
       "11549                                                NaN      \n",
       "11550                                                NaN      \n",
       "11551                                                NaN      \n",
       "\n",
       "       hourly_market-data_funding-rates_deribit_funding_rates  ...  \\\n",
       "0                                               0.000571       ...   \n",
       "1                                               0.000570       ...   \n",
       "2                                               0.000566       ...   \n",
       "3                                               0.000557       ...   \n",
       "4                                               0.000536       ...   \n",
       "...                                                  ...       ...   \n",
       "11547                                                NaN       ...   \n",
       "11548                                                NaN       ...   \n",
       "11549                                                NaN       ...   \n",
       "11550                                                NaN       ...   \n",
       "11551                                                NaN       ...   \n",
       "\n",
       "       hourly_market-data_funding-rates_bitmex_funding_rates_ma_12  \\\n",
       "0                                                    NaN             \n",
       "1                                                    NaN             \n",
       "2                                                    NaN             \n",
       "3                                                    NaN             \n",
       "4                                                    NaN             \n",
       "...                                                  ...             \n",
       "11547                                                NaN             \n",
       "11548                                                NaN             \n",
       "11549                                                NaN             \n",
       "11550                                                NaN             \n",
       "11551                                                NaN             \n",
       "\n",
       "       hourly_network-data_tokens-transferred_tokens_transferred_median_ma_3  \\\n",
       "0                                                    NaN                       \n",
       "1                                                    NaN                       \n",
       "2                                               0.021466                       \n",
       "3                                               0.022983                       \n",
       "4                                               0.025418                       \n",
       "...                                                  ...                       \n",
       "11547                                           0.003259                       \n",
       "11548                                           0.003548                       \n",
       "11549                                           0.002914                       \n",
       "11550                                           0.001952                       \n",
       "11551                                           0.003516                       \n",
       "\n",
       "       hourly_network-data_tokens-transferred_tokens_transferred_median_ma_6  \\\n",
       "0                                                    NaN                       \n",
       "1                                                    NaN                       \n",
       "2                                                    NaN                       \n",
       "3                                                    NaN                       \n",
       "4                                                    NaN                       \n",
       "...                                                  ...                       \n",
       "11547                                           0.002513                       \n",
       "11548                                           0.002781                       \n",
       "11549                                           0.002965                       \n",
       "11550                                           0.002606                       \n",
       "11551                                           0.003532                       \n",
       "\n",
       "       hourly_network-data_tokens-transferred_tokens_transferred_median_ma_12  \\\n",
       "0                                                    NaN                        \n",
       "1                                                    NaN                        \n",
       "2                                                    NaN                        \n",
       "3                                                    NaN                        \n",
       "4                                                    NaN                        \n",
       "...                                                  ...                        \n",
       "11547                                           0.003276                        \n",
       "11548                                           0.002656                        \n",
       "11549                                           0.002024                        \n",
       "11550                                           0.002066                        \n",
       "11551                                           0.002569                        \n",
       "\n",
       "       hourly_network-data_transactions-count_transactions_count_total_ma_3  \\\n",
       "0                                                    NaN                      \n",
       "1                                                    NaN                      \n",
       "2                                            7613.000000                      \n",
       "3                                            5542.333333                      \n",
       "4                                            5912.333333                      \n",
       "...                                                  ...                      \n",
       "11547                                       14074.000000                      \n",
       "11548                                                NaN                      \n",
       "11549                                                NaN                      \n",
       "11550                                                NaN                      \n",
       "11551                                                NaN                      \n",
       "\n",
       "       hourly_network-data_transactions-count_transactions_count_total_ma_6  \\\n",
       "0                                                    NaN                      \n",
       "1                                                    NaN                      \n",
       "2                                                    NaN                      \n",
       "3                                                    NaN                      \n",
       "4                                                    NaN                      \n",
       "...                                                  ...                      \n",
       "11547                                       13372.666667                      \n",
       "11548                                                NaN                      \n",
       "11549                                                NaN                      \n",
       "11550                                                NaN                      \n",
       "11551                                                NaN                      \n",
       "\n",
       "       hourly_network-data_transactions-count_transactions_count_total_ma_12  \\\n",
       "0                                                    NaN                       \n",
       "1                                                    NaN                       \n",
       "2                                                    NaN                       \n",
       "3                                                    NaN                       \n",
       "4                                                    NaN                       \n",
       "...                                                  ...                       \n",
       "11547                                       20616.083333                       \n",
       "11548                                                NaN                       \n",
       "11549                                                NaN                       \n",
       "11550                                                NaN                       \n",
       "11551                                                NaN                       \n",
       "\n",
       "       hourly_network-data_utxo-count_utxo_count_ma_3  \\\n",
       "0                                                 NaN   \n",
       "1                                                 NaN   \n",
       "2                                        8.331236e+07   \n",
       "3                                        8.331841e+07   \n",
       "4                                        8.332651e+07   \n",
       "...                                               ...   \n",
       "11547                                    1.798086e+08   \n",
       "11548                                    1.798222e+08   \n",
       "11549                                    1.798353e+08   \n",
       "11550                                    1.798459e+08   \n",
       "11551                                             NaN   \n",
       "\n",
       "       hourly_network-data_utxo-count_utxo_count_ma_6  \\\n",
       "0                                                 NaN   \n",
       "1                                                 NaN   \n",
       "2                                                 NaN   \n",
       "3                                                 NaN   \n",
       "4                                                 NaN   \n",
       "...                                               ...   \n",
       "11547                                    1.797712e+08   \n",
       "11548                                    1.797904e+08   \n",
       "11549                                    1.798108e+08   \n",
       "11550                                    1.798272e+08   \n",
       "11551                                             NaN   \n",
       "\n",
       "       hourly_network-data_utxo-count_utxo_count_ma_12  \n",
       "0                                                  NaN  \n",
       "1                                                  NaN  \n",
       "2                                                  NaN  \n",
       "3                                                  NaN  \n",
       "4                                                  NaN  \n",
       "...                                                ...  \n",
       "11547                                     1.797049e+08  \n",
       "11548                                     1.797242e+08  \n",
       "11549                                     1.797426e+08  \n",
       "11550                                     1.797598e+08  \n",
       "11551                                              NaN  \n",
       "\n",
       "[11552 rows x 303 columns]"
      ]
     },
     "execution_count": 40,
     "metadata": {},
     "output_type": "execute_result"
    }
   ],
   "source": [
    "# 이동 평균을 계산할 윈도우 크기 설정\n",
    "windows = [3,6,12]\n",
    "\n",
    "# 이동 평균 특성 생성\n",
    "data_with_moving_average = create_moving_average_features(data_with_lags, columns_to_lag, windows)\n",
    "data_with_moving_average\n"
   ]
  },
  {
   "cell_type": "code",
   "execution_count": 41,
   "metadata": {},
   "outputs": [],
   "source": [
    "# 추가적인 시계열 특성 생성 함수 정의\n",
    "def create_additional_ts_features(df, columns, windows):\n",
    "    df = df.copy()\n",
    "    for col in columns:\n",
    "        for window in windows:\n",
    "            # 이동 평균 편차 (Volatility)\n",
    "            df[f'{col}_std_{window}'] = df[col].rolling(window=window).std()\n",
    "            # 차분 (Difference)\n",
    "            df[f'{col}_diff_{window}'] = df[col] - df[col].shift(window)\n",
    "            # 지수 이동 평균 (EMA)\n",
    "            df[f'{col}_ema_{window}'] = df[col].ewm(span=window, adjust=False).mean()\n",
    "    return df"
   ]
  },
  {
   "cell_type": "code",
   "execution_count": 42,
   "metadata": {},
   "outputs": [],
   "source": [
    "# 결측값 제거 함수 (시계열 특성에서 발생한 결측값만 제거)\n",
    "def remove_ts_related_missing_values(df, columns, max_lag):\n",
    "    # 시차(Lag) 및 시계열 특성으로 인한 결측값을 처리할 컬럼 정의\n",
    "    lagged_columns = [f'{col}_lag_{lag}' for col in columns for lag in range(1, max_lag + 1)]\n",
    "    moving_avg_columns = [f'{col}_ma_{window}' for col in columns for window in [3, 6, 12]]\n",
    "    volatility_columns = [f'{col}_std_{window}' for col in columns for window in [3, 6, 12]]\n",
    "    \n",
    "    # 해당 컬럼들에서 발생한 결측값만 제거\n",
    "    relevant_columns = lagged_columns + moving_avg_columns + volatility_columns\n",
    "    df_cleaned = df.dropna(subset=relevant_columns).reset_index(drop=True)\n",
    "    \n",
    "    return df_cleaned"
   ]
  },
  {
   "cell_type": "code",
   "execution_count": 71,
   "metadata": {},
   "outputs": [],
   "source": [
    "# 추가적인 시계열 특성 생성\n",
    "data_with_ts_features = create_additional_ts_features(data_with_moving_average, columns_to_lag, windows)\n",
    "\n",
    "# 최종 데이터셋에서 결측값 제거 (시계열 특성 생성으로 인한 결측값)\n",
    "data_final = remove_ts_related_missing_values(data_with_ts_features,columns_to_lag,max_lag)"
   ]
  },
  {
   "cell_type": "code",
   "execution_count": 82,
   "metadata": {},
   "outputs": [
    {
     "name": "stdout",
     "output_type": "stream",
     "text": [
      "train 데이터: 8710, test 데이터: 2792, 최종 데이터: 11502\n"
     ]
    }
   ],
   "source": [
    "_target = data_final[\"target\"]\n",
    "\n",
    "# _type이 train인 데이터의 결측치만 삭제\n",
    "df1 = remove_ts_related_missing_values(data_with_ts_features[data_with_ts_features['_type']=='train'],columns_to_lag,max_lag)\n",
    "\n",
    "# _type이 test인 데이터는 결측치를 삭제하지 않고 그대로 유지\n",
    "df2 = data_with_ts_features[data_with_ts_features['_type']=='test'].ffill().assign(target=_target)\n",
    "\n",
    "# train과 test 데이터를 다시 합침\n",
    "final_data = pd.concat([df1, df2], axis=0).reset_index(drop=True)\n",
    "\n",
    "# 결과 확인\n",
    "print(f\"train 데이터: {len(df1)}, test 데이터: {len(df2)}, 최종 데이터: {len(final_data)}\")\n"
   ]
  },
  {
   "cell_type": "code",
   "execution_count": 84,
   "metadata": {},
   "outputs": [
    {
     "name": "stdout",
     "output_type": "stream",
     "text": [
      "훈련 정확도: 1.0\n",
      "              precision    recall  f1-score   support\n",
      "\n",
      "           0       1.00      1.00      1.00       600\n",
      "           1       1.00      1.00      1.00      2813\n",
      "           2       1.00      1.00      1.00      2926\n",
      "           3       1.00      1.00      1.00       629\n",
      "\n",
      "    accuracy                           1.00      6968\n",
      "   macro avg       1.00      1.00      1.00      6968\n",
      "weighted avg       1.00      1.00      1.00      6968\n",
      "\n",
      "검증 정확도: 0.4305396096440873\n",
      "              precision    recall  f1-score   support\n",
      "\n",
      "           0       0.26      0.06      0.10       134\n",
      "           1       0.45      0.49      0.47       712\n",
      "           2       0.43      0.53      0.47       721\n",
      "           3       0.30      0.07      0.12       175\n",
      "\n",
      "    accuracy                           0.43      1742\n",
      "   macro avg       0.36      0.29      0.29      1742\n",
      "weighted avg       0.41      0.43      0.41      1742\n",
      "\n"
     ]
    }
   ],
   "source": [
    "# XGBoost 모델 훈련 및 평가를 위해 데이터 분할\n",
    "from xgboost import XGBClassifier\n",
    "from sklearn.metrics import accuracy_score, classification_report\n",
    "\n",
    "# _type에 따라 train, test 분리\n",
    "train_df = final_data.loc[final_data[\"_type\"] == \"train\"].drop(columns=[\"_type\"])\n",
    "test_df = final_data.loc[final_data[\"_type\"] == \"test\"].drop(columns=[\"_type\"])\n",
    "\n",
    "# train_test_split 으로 valid set, train set 분리\n",
    "x_train, x_valid, y_train, y_valid = train_test_split(\n",
    "    train_df.drop([\"target\", \"ID\"], axis=1),\n",
    "    train_df[\"target\"].astype(int),\n",
    "    test_size=0.2,\n",
    "    random_state=42,\n",
    ")\n",
    "\n",
    "# XGBoost 모델 생성 및 학습\n",
    "xgb_model = XGBClassifier(use_label_encoder=False, eval_metric='mlogloss', random_state=42)\n",
    "\n",
    "# XGBoost 모델 훈련\n",
    "xgb_model.fit(x_train, y_train)\n",
    "\n",
    "# 예측\n",
    "y_train_pred = xgb_model.predict(x_train)\n",
    "y_valid_pred = xgb_model.predict(x_valid)\n",
    "\n",
    "# 성능 평가 (훈련)\n",
    "train_accuracy = accuracy_score(y_train, y_train_pred)\n",
    "train_classification_rep = classification_report(y_train, y_train_pred)\n",
    "\n",
    "# 성능 평가 (검증)\n",
    "valid_accuracy = accuracy_score(y_valid, y_valid_pred)\n",
    "valid_classification_rep = classification_report(y_valid, y_valid_pred)\n",
    "\n",
    "print(f\"훈련 정확도: {train_accuracy}\")\n",
    "print(train_classification_rep)\n",
    "print(f\"검증 정확도: {valid_accuracy}\")\n",
    "print(valid_classification_rep)"
   ]
  },
  {
   "cell_type": "code",
   "execution_count": 85,
   "metadata": {},
   "outputs": [
    {
     "name": "stdout",
     "output_type": "stream",
     "text": [
      "                        ID  target  \\\n",
      "8710   2024-01-01 00:00:00     NaN   \n",
      "8711   2024-01-01 01:00:00     NaN   \n",
      "8712   2024-01-01 02:00:00     NaN   \n",
      "8713   2024-01-01 03:00:00     NaN   \n",
      "8714   2024-01-01 04:00:00     NaN   \n",
      "...                    ...     ...   \n",
      "11497  2024-04-26 03:00:00     NaN   \n",
      "11498  2024-04-26 04:00:00     NaN   \n",
      "11499  2024-04-26 05:00:00     NaN   \n",
      "11500  2024-04-26 06:00:00     NaN   \n",
      "11501  2024-04-26 07:00:00     NaN   \n",
      "\n",
      "       hourly_market-data_coinbase-premium-index_coinbase_premium_gap  \\\n",
      "8710                                              -22.57                \n",
      "8711                                              -18.88                \n",
      "8712                                               -9.78                \n",
      "8713                                               -5.38                \n",
      "8714                                              -10.22                \n",
      "...                                                  ...                \n",
      "11497                                              -1.53                \n",
      "11498                                             -11.73                \n",
      "11499                                               1.85                \n",
      "11500                                              -2.05                \n",
      "11501                                              -2.05                \n",
      "\n",
      "       hourly_market-data_coinbase-premium-index_coinbase_premium_index  \\\n",
      "8710                                           -0.053137                  \n",
      "8711                                           -0.044305                  \n",
      "8712                                           -0.022968                  \n",
      "8713                                           -0.012710                  \n",
      "8714                                           -0.024104                  \n",
      "...                                                  ...                  \n",
      "11497                                          -0.002376                  \n",
      "11498                                          -0.018268                  \n",
      "11499                                           0.002866                  \n",
      "11500                                          -0.003184                  \n",
      "11501                                          -0.003184                  \n",
      "\n",
      "       hourly_market-data_funding-rates_all_exchange_funding_rates  \\\n",
      "8710                                            0.042276             \n",
      "8711                                            0.042578             \n",
      "8712                                            0.043265             \n",
      "8713                                            0.043927             \n",
      "8714                                            0.045189             \n",
      "...                                                  ...             \n",
      "11497                                           0.009411             \n",
      "11498                                           0.009411             \n",
      "11499                                           0.009411             \n",
      "11500                                           0.009411             \n",
      "11501                                           0.009411             \n",
      "\n",
      "       hourly_market-data_funding-rates_binance_funding_rates  \\\n",
      "8710                                            0.037264        \n",
      "8711                                            0.035991        \n",
      "8712                                            0.035086        \n",
      "8713                                            0.034431        \n",
      "8714                                            0.032956        \n",
      "...                                                  ...        \n",
      "11497                                           0.004867        \n",
      "11498                                           0.006169        \n",
      "11499                                           0.006169        \n",
      "11500                                           0.006169        \n",
      "11501                                           0.006169        \n",
      "\n",
      "       hourly_market-data_funding-rates_bitmex_funding_rates  \\\n",
      "8710                                            0.018500       \n",
      "8711                                            0.018500       \n",
      "8712                                            0.018500       \n",
      "8713                                            0.018643       \n",
      "8714                                            0.027000       \n",
      "...                                                  ...       \n",
      "11497                                           0.008200       \n",
      "11498                                           0.008200       \n",
      "11499                                           0.008200       \n",
      "11500                                           0.008200       \n",
      "11501                                           0.008200       \n",
      "\n",
      "       hourly_market-data_funding-rates_bybit_funding_rates  \\\n",
      "8710                                            0.017305      \n",
      "8711                                            0.020450      \n",
      "8712                                            0.024063      \n",
      "8713                                            0.027012      \n",
      "8714                                            0.027208      \n",
      "...                                                  ...      \n",
      "11497                                           0.010000      \n",
      "11498                                           0.010000      \n",
      "11499                                           0.010000      \n",
      "11500                                           0.010000      \n",
      "11501                                           0.010000      \n",
      "\n",
      "       hourly_market-data_funding-rates_deribit_funding_rates  \\\n",
      "8710                                            0.038415        \n",
      "8711                                            0.038351        \n",
      "8712                                            0.039765        \n",
      "8713                                            0.041305        \n",
      "8714                                            0.041796        \n",
      "...                                                  ...        \n",
      "11497                                          -0.001519        \n",
      "11498                                          -0.001519        \n",
      "11499                                          -0.001519        \n",
      "11500                                          -0.001519        \n",
      "11501                                          -0.001519        \n",
      "\n",
      "       hourly_market-data_funding-rates_htx_global_funding_rates  ...  \\\n",
      "8710                                            0.100116          ...   \n",
      "8711                                            0.100116          ...   \n",
      "8712                                            0.100116          ...   \n",
      "8713                                            0.100116          ...   \n",
      "8714                                            0.100116          ...   \n",
      "...                                                  ...          ...   \n",
      "11497                                           0.010000          ...   \n",
      "11498                                           0.010000          ...   \n",
      "11499                                           0.010000          ...   \n",
      "11500                                           0.010000          ...   \n",
      "11501                                           0.010000          ...   \n",
      "\n",
      "       hourly_network-data_transactions-count_transactions_count_total_ema_12  \\\n",
      "8710                                        23825.931092                        \n",
      "8711                                        28224.710924                        \n",
      "8712                                        29399.678474                        \n",
      "8713                                        29804.343324                        \n",
      "8714                                        31644.752044                        \n",
      "...                                                  ...                        \n",
      "11497                                       18193.216671                        \n",
      "11498                                       18193.216671                        \n",
      "11499                                       18193.216671                        \n",
      "11500                                       18193.216671                        \n",
      "11501                                       18193.216671                        \n",
      "\n",
      "       hourly_network-data_utxo-count_utxo_count_std_3  \\\n",
      "8710                                       9543.485579   \n",
      "8711                                      13464.270533   \n",
      "8712                                      23975.427782   \n",
      "8713                                      21126.855232   \n",
      "8714                                      20224.994470   \n",
      "...                                                ...   \n",
      "11497                                     14091.667372   \n",
      "11498                                     11056.137979   \n",
      "11499                                     15317.714723   \n",
      "11500                                     10382.895694   \n",
      "11501                                     10382.895694   \n",
      "\n",
      "       hourly_network-data_utxo-count_utxo_count_diff_3  \\\n",
      "8710                                            34686.0   \n",
      "8711                                            39792.0   \n",
      "8712                                            49157.0   \n",
      "8713                                            64648.0   \n",
      "8714                                            65504.0   \n",
      "...                                                 ...   \n",
      "11497                                           66749.0   \n",
      "11498                                           40771.0   \n",
      "11499                                           39317.0   \n",
      "11500                                           31744.0   \n",
      "11501                                           31744.0   \n",
      "\n",
      "       hourly_network-data_utxo-count_utxo_count_ema_3  \\\n",
      "8710                                      1.531644e+08   \n",
      "8711                                      1.531802e+08   \n",
      "8712                                      1.532007e+08   \n",
      "8713                                      1.532193e+08   \n",
      "8714                                      1.532404e+08   \n",
      "...                                                ...   \n",
      "11497                                     1.798038e+08   \n",
      "11498                                     1.798188e+08   \n",
      "11499                                     1.798350e+08   \n",
      "11500                                     1.798437e+08   \n",
      "11501                                     1.798437e+08   \n",
      "\n",
      "       hourly_network-data_utxo-count_utxo_count_std_6  \\\n",
      "8710                                      24450.822530   \n",
      "8711                                      24770.004085   \n",
      "8712                                      29180.158615   \n",
      "8713                                      31644.431429   \n",
      "8714                                      36164.327970   \n",
      "...                                                ...   \n",
      "11497                                     43514.294342   \n",
      "11498                                     41086.305895   \n",
      "11499                                     34094.899665   \n",
      "11500                                     23225.666389   \n",
      "11501                                     23225.666389   \n",
      "\n",
      "       hourly_network-data_utxo-count_utxo_count_diff_6  \\\n",
      "8710                                            87269.0   \n",
      "8711                                            83300.0   \n",
      "8712                                            92572.0   \n",
      "8713                                            99334.0   \n",
      "8714                                           105296.0   \n",
      "...                                                 ...   \n",
      "11497                                          156890.0   \n",
      "11498                                          115200.0   \n",
      "11499                                          122743.0   \n",
      "11500                                           98493.0   \n",
      "11501                                           98493.0   \n",
      "\n",
      "       hourly_network-data_utxo-count_utxo_count_ema_6  \\\n",
      "8710                                      1.531372e+08   \n",
      "8711                                      1.531540e+08   \n",
      "8712                                      1.531732e+08   \n",
      "8713                                      1.531917e+08   \n",
      "8714                                      1.532116e+08   \n",
      "...                                                ...   \n",
      "11497                                     1.797710e+08   \n",
      "11498                                     1.797890e+08   \n",
      "11499                                     1.798068e+08   \n",
      "11500                                     1.798198e+08   \n",
      "11501                                     1.798198e+08   \n",
      "\n",
      "       hourly_network-data_utxo-count_utxo_count_std_12  \\\n",
      "8710                                       91493.525249   \n",
      "8711                                       83578.999918   \n",
      "8712                                       77574.765802   \n",
      "8713                                       70662.715347   \n",
      "8714                                       63707.959415   \n",
      "...                                                 ...   \n",
      "11497                                      76396.478399   \n",
      "11498                                      77394.974097   \n",
      "11499                                      79305.383334   \n",
      "11500                                      78931.882727   \n",
      "11501                                      78931.882727   \n",
      "\n",
      "       hourly_network-data_utxo-count_utxo_count_diff_12  \\\n",
      "8710                                            289337.0   \n",
      "8711                                            281262.0   \n",
      "8712                                            270851.0   \n",
      "8713                                            263290.0   \n",
      "8714                                            262827.0   \n",
      "...                                                  ...   \n",
      "11497                                           227423.0   \n",
      "11498                                           231318.0   \n",
      "11499                                           220735.0   \n",
      "11500                                           205685.0   \n",
      "11501                                           205685.0   \n",
      "\n",
      "       hourly_network-data_utxo-count_utxo_count_ema_12  \n",
      "8710                                       1.530643e+08  \n",
      "8711                                       1.530846e+08  \n",
      "8712                                       1.531056e+08  \n",
      "8713                                       1.531260e+08  \n",
      "8714                                       1.531468e+08  \n",
      "...                                                 ...  \n",
      "11497                                      1.797140e+08  \n",
      "11498                                      1.797324e+08  \n",
      "11499                                      1.797507e+08  \n",
      "11500                                      1.797664e+08  \n",
      "11501                                      1.797664e+08  \n",
      "\n",
      "[2792 rows x 374 columns]\n"
     ]
    }
   ],
   "source": [
    "print(test_df)"
   ]
  },
  {
   "cell_type": "code",
   "execution_count": 86,
   "metadata": {},
   "outputs": [],
   "source": [
    "y_test_pred = xgb_model.predict(test_df.drop([\"target\", \"ID\"],axis=1))"
   ]
  },
  {
   "cell_type": "code",
   "execution_count": 87,
   "metadata": {},
   "outputs": [
    {
     "data": {
      "text/plain": [
       "2792"
      ]
     },
     "execution_count": 87,
     "metadata": {},
     "output_type": "execute_result"
    }
   ],
   "source": [
    "len(y_test_pred)"
   ]
  },
  {
   "cell_type": "code",
   "execution_count": 88,
   "metadata": {},
   "outputs": [
    {
     "data": {
      "text/html": [
       "<div>\n",
       "<style scoped>\n",
       "    .dataframe tbody tr th:only-of-type {\n",
       "        vertical-align: middle;\n",
       "    }\n",
       "\n",
       "    .dataframe tbody tr th {\n",
       "        vertical-align: top;\n",
       "    }\n",
       "\n",
       "    .dataframe thead th {\n",
       "        text-align: right;\n",
       "    }\n",
       "</style>\n",
       "<table border=\"1\" class=\"dataframe\">\n",
       "  <thead>\n",
       "    <tr style=\"text-align: right;\">\n",
       "      <th></th>\n",
       "      <th>ID</th>\n",
       "      <th>target</th>\n",
       "    </tr>\n",
       "  </thead>\n",
       "  <tbody>\n",
       "    <tr>\n",
       "      <th>0</th>\n",
       "      <td>2024-01-01 00:00:00</td>\n",
       "      <td>2</td>\n",
       "    </tr>\n",
       "    <tr>\n",
       "      <th>1</th>\n",
       "      <td>2024-01-01 01:00:00</td>\n",
       "      <td>1</td>\n",
       "    </tr>\n",
       "    <tr>\n",
       "      <th>2</th>\n",
       "      <td>2024-01-01 02:00:00</td>\n",
       "      <td>2</td>\n",
       "    </tr>\n",
       "    <tr>\n",
       "      <th>3</th>\n",
       "      <td>2024-01-01 03:00:00</td>\n",
       "      <td>2</td>\n",
       "    </tr>\n",
       "    <tr>\n",
       "      <th>4</th>\n",
       "      <td>2024-01-01 04:00:00</td>\n",
       "      <td>2</td>\n",
       "    </tr>\n",
       "    <tr>\n",
       "      <th>...</th>\n",
       "      <td>...</td>\n",
       "      <td>...</td>\n",
       "    </tr>\n",
       "    <tr>\n",
       "      <th>2787</th>\n",
       "      <td>2024-04-26 03:00:00</td>\n",
       "      <td>0</td>\n",
       "    </tr>\n",
       "    <tr>\n",
       "      <th>2788</th>\n",
       "      <td>2024-04-26 04:00:00</td>\n",
       "      <td>0</td>\n",
       "    </tr>\n",
       "    <tr>\n",
       "      <th>2789</th>\n",
       "      <td>2024-04-26 05:00:00</td>\n",
       "      <td>0</td>\n",
       "    </tr>\n",
       "    <tr>\n",
       "      <th>2790</th>\n",
       "      <td>2024-04-26 06:00:00</td>\n",
       "      <td>0</td>\n",
       "    </tr>\n",
       "    <tr>\n",
       "      <th>2791</th>\n",
       "      <td>2024-04-26 07:00:00</td>\n",
       "      <td>2</td>\n",
       "    </tr>\n",
       "  </tbody>\n",
       "</table>\n",
       "<p>2792 rows × 2 columns</p>\n",
       "</div>"
      ],
      "text/plain": [
       "                       ID  target\n",
       "0     2024-01-01 00:00:00       2\n",
       "1     2024-01-01 01:00:00       1\n",
       "2     2024-01-01 02:00:00       2\n",
       "3     2024-01-01 03:00:00       2\n",
       "4     2024-01-01 04:00:00       2\n",
       "...                   ...     ...\n",
       "2787  2024-04-26 03:00:00       0\n",
       "2788  2024-04-26 04:00:00       0\n",
       "2789  2024-04-26 05:00:00       0\n",
       "2790  2024-04-26 06:00:00       0\n",
       "2791  2024-04-26 07:00:00       2\n",
       "\n",
       "[2792 rows x 2 columns]"
      ]
     },
     "execution_count": 88,
     "metadata": {},
     "output_type": "execute_result"
    }
   ],
   "source": [
    "submission_df = submission_df.assign(target=pd.DataFrame(y_test_pred))\n",
    "submission_df"
   ]
  },
  {
   "cell_type": "code",
   "execution_count": 90,
   "metadata": {},
   "outputs": [
    {
     "data": {
      "text/plain": [
       "target\n",
       "1    1267\n",
       "2     864\n",
       "0     622\n",
       "3      39\n",
       "Name: count, dtype: int64"
      ]
     },
     "execution_count": 90,
     "metadata": {},
     "output_type": "execute_result"
    }
   ],
   "source": [
    "submission_df['target'].value_counts()"
   ]
  },
  {
   "cell_type": "code",
   "execution_count": 100,
   "metadata": {},
   "outputs": [
    {
     "data": {
      "application/vnd.plotly.v1+json": {
       "config": {
        "plotlyServerURL": "https://plot.ly"
       },
       "data": [
        {
         "type": "bar",
         "x": [
          1,
          2,
          0,
          3
         ],
         "y": [
          1267,
          864,
          622,
          39
         ]
        }
       ],
       "layout": {
        "template": {
         "data": {
          "bar": [
           {
            "error_x": {
             "color": "#2a3f5f"
            },
            "error_y": {
             "color": "#2a3f5f"
            },
            "marker": {
             "line": {
              "color": "#E5ECF6",
              "width": 0.5
             },
             "pattern": {
              "fillmode": "overlay",
              "size": 10,
              "solidity": 0.2
             }
            },
            "type": "bar"
           }
          ],
          "barpolar": [
           {
            "marker": {
             "line": {
              "color": "#E5ECF6",
              "width": 0.5
             },
             "pattern": {
              "fillmode": "overlay",
              "size": 10,
              "solidity": 0.2
             }
            },
            "type": "barpolar"
           }
          ],
          "carpet": [
           {
            "aaxis": {
             "endlinecolor": "#2a3f5f",
             "gridcolor": "white",
             "linecolor": "white",
             "minorgridcolor": "white",
             "startlinecolor": "#2a3f5f"
            },
            "baxis": {
             "endlinecolor": "#2a3f5f",
             "gridcolor": "white",
             "linecolor": "white",
             "minorgridcolor": "white",
             "startlinecolor": "#2a3f5f"
            },
            "type": "carpet"
           }
          ],
          "choropleth": [
           {
            "colorbar": {
             "outlinewidth": 0,
             "ticks": ""
            },
            "type": "choropleth"
           }
          ],
          "contour": [
           {
            "colorbar": {
             "outlinewidth": 0,
             "ticks": ""
            },
            "colorscale": [
             [
              0,
              "#0d0887"
             ],
             [
              0.1111111111111111,
              "#46039f"
             ],
             [
              0.2222222222222222,
              "#7201a8"
             ],
             [
              0.3333333333333333,
              "#9c179e"
             ],
             [
              0.4444444444444444,
              "#bd3786"
             ],
             [
              0.5555555555555556,
              "#d8576b"
             ],
             [
              0.6666666666666666,
              "#ed7953"
             ],
             [
              0.7777777777777778,
              "#fb9f3a"
             ],
             [
              0.8888888888888888,
              "#fdca26"
             ],
             [
              1,
              "#f0f921"
             ]
            ],
            "type": "contour"
           }
          ],
          "contourcarpet": [
           {
            "colorbar": {
             "outlinewidth": 0,
             "ticks": ""
            },
            "type": "contourcarpet"
           }
          ],
          "heatmap": [
           {
            "colorbar": {
             "outlinewidth": 0,
             "ticks": ""
            },
            "colorscale": [
             [
              0,
              "#0d0887"
             ],
             [
              0.1111111111111111,
              "#46039f"
             ],
             [
              0.2222222222222222,
              "#7201a8"
             ],
             [
              0.3333333333333333,
              "#9c179e"
             ],
             [
              0.4444444444444444,
              "#bd3786"
             ],
             [
              0.5555555555555556,
              "#d8576b"
             ],
             [
              0.6666666666666666,
              "#ed7953"
             ],
             [
              0.7777777777777778,
              "#fb9f3a"
             ],
             [
              0.8888888888888888,
              "#fdca26"
             ],
             [
              1,
              "#f0f921"
             ]
            ],
            "type": "heatmap"
           }
          ],
          "heatmapgl": [
           {
            "colorbar": {
             "outlinewidth": 0,
             "ticks": ""
            },
            "colorscale": [
             [
              0,
              "#0d0887"
             ],
             [
              0.1111111111111111,
              "#46039f"
             ],
             [
              0.2222222222222222,
              "#7201a8"
             ],
             [
              0.3333333333333333,
              "#9c179e"
             ],
             [
              0.4444444444444444,
              "#bd3786"
             ],
             [
              0.5555555555555556,
              "#d8576b"
             ],
             [
              0.6666666666666666,
              "#ed7953"
             ],
             [
              0.7777777777777778,
              "#fb9f3a"
             ],
             [
              0.8888888888888888,
              "#fdca26"
             ],
             [
              1,
              "#f0f921"
             ]
            ],
            "type": "heatmapgl"
           }
          ],
          "histogram": [
           {
            "marker": {
             "pattern": {
              "fillmode": "overlay",
              "size": 10,
              "solidity": 0.2
             }
            },
            "type": "histogram"
           }
          ],
          "histogram2d": [
           {
            "colorbar": {
             "outlinewidth": 0,
             "ticks": ""
            },
            "colorscale": [
             [
              0,
              "#0d0887"
             ],
             [
              0.1111111111111111,
              "#46039f"
             ],
             [
              0.2222222222222222,
              "#7201a8"
             ],
             [
              0.3333333333333333,
              "#9c179e"
             ],
             [
              0.4444444444444444,
              "#bd3786"
             ],
             [
              0.5555555555555556,
              "#d8576b"
             ],
             [
              0.6666666666666666,
              "#ed7953"
             ],
             [
              0.7777777777777778,
              "#fb9f3a"
             ],
             [
              0.8888888888888888,
              "#fdca26"
             ],
             [
              1,
              "#f0f921"
             ]
            ],
            "type": "histogram2d"
           }
          ],
          "histogram2dcontour": [
           {
            "colorbar": {
             "outlinewidth": 0,
             "ticks": ""
            },
            "colorscale": [
             [
              0,
              "#0d0887"
             ],
             [
              0.1111111111111111,
              "#46039f"
             ],
             [
              0.2222222222222222,
              "#7201a8"
             ],
             [
              0.3333333333333333,
              "#9c179e"
             ],
             [
              0.4444444444444444,
              "#bd3786"
             ],
             [
              0.5555555555555556,
              "#d8576b"
             ],
             [
              0.6666666666666666,
              "#ed7953"
             ],
             [
              0.7777777777777778,
              "#fb9f3a"
             ],
             [
              0.8888888888888888,
              "#fdca26"
             ],
             [
              1,
              "#f0f921"
             ]
            ],
            "type": "histogram2dcontour"
           }
          ],
          "mesh3d": [
           {
            "colorbar": {
             "outlinewidth": 0,
             "ticks": ""
            },
            "type": "mesh3d"
           }
          ],
          "parcoords": [
           {
            "line": {
             "colorbar": {
              "outlinewidth": 0,
              "ticks": ""
             }
            },
            "type": "parcoords"
           }
          ],
          "pie": [
           {
            "automargin": true,
            "type": "pie"
           }
          ],
          "scatter": [
           {
            "fillpattern": {
             "fillmode": "overlay",
             "size": 10,
             "solidity": 0.2
            },
            "type": "scatter"
           }
          ],
          "scatter3d": [
           {
            "line": {
             "colorbar": {
              "outlinewidth": 0,
              "ticks": ""
             }
            },
            "marker": {
             "colorbar": {
              "outlinewidth": 0,
              "ticks": ""
             }
            },
            "type": "scatter3d"
           }
          ],
          "scattercarpet": [
           {
            "marker": {
             "colorbar": {
              "outlinewidth": 0,
              "ticks": ""
             }
            },
            "type": "scattercarpet"
           }
          ],
          "scattergeo": [
           {
            "marker": {
             "colorbar": {
              "outlinewidth": 0,
              "ticks": ""
             }
            },
            "type": "scattergeo"
           }
          ],
          "scattergl": [
           {
            "marker": {
             "colorbar": {
              "outlinewidth": 0,
              "ticks": ""
             }
            },
            "type": "scattergl"
           }
          ],
          "scattermapbox": [
           {
            "marker": {
             "colorbar": {
              "outlinewidth": 0,
              "ticks": ""
             }
            },
            "type": "scattermapbox"
           }
          ],
          "scatterpolar": [
           {
            "marker": {
             "colorbar": {
              "outlinewidth": 0,
              "ticks": ""
             }
            },
            "type": "scatterpolar"
           }
          ],
          "scatterpolargl": [
           {
            "marker": {
             "colorbar": {
              "outlinewidth": 0,
              "ticks": ""
             }
            },
            "type": "scatterpolargl"
           }
          ],
          "scatterternary": [
           {
            "marker": {
             "colorbar": {
              "outlinewidth": 0,
              "ticks": ""
             }
            },
            "type": "scatterternary"
           }
          ],
          "surface": [
           {
            "colorbar": {
             "outlinewidth": 0,
             "ticks": ""
            },
            "colorscale": [
             [
              0,
              "#0d0887"
             ],
             [
              0.1111111111111111,
              "#46039f"
             ],
             [
              0.2222222222222222,
              "#7201a8"
             ],
             [
              0.3333333333333333,
              "#9c179e"
             ],
             [
              0.4444444444444444,
              "#bd3786"
             ],
             [
              0.5555555555555556,
              "#d8576b"
             ],
             [
              0.6666666666666666,
              "#ed7953"
             ],
             [
              0.7777777777777778,
              "#fb9f3a"
             ],
             [
              0.8888888888888888,
              "#fdca26"
             ],
             [
              1,
              "#f0f921"
             ]
            ],
            "type": "surface"
           }
          ],
          "table": [
           {
            "cells": {
             "fill": {
              "color": "#EBF0F8"
             },
             "line": {
              "color": "white"
             }
            },
            "header": {
             "fill": {
              "color": "#C8D4E3"
             },
             "line": {
              "color": "white"
             }
            },
            "type": "table"
           }
          ]
         },
         "layout": {
          "annotationdefaults": {
           "arrowcolor": "#2a3f5f",
           "arrowhead": 0,
           "arrowwidth": 1
          },
          "autotypenumbers": "strict",
          "coloraxis": {
           "colorbar": {
            "outlinewidth": 0,
            "ticks": ""
           }
          },
          "colorscale": {
           "diverging": [
            [
             0,
             "#8e0152"
            ],
            [
             0.1,
             "#c51b7d"
            ],
            [
             0.2,
             "#de77ae"
            ],
            [
             0.3,
             "#f1b6da"
            ],
            [
             0.4,
             "#fde0ef"
            ],
            [
             0.5,
             "#f7f7f7"
            ],
            [
             0.6,
             "#e6f5d0"
            ],
            [
             0.7,
             "#b8e186"
            ],
            [
             0.8,
             "#7fbc41"
            ],
            [
             0.9,
             "#4d9221"
            ],
            [
             1,
             "#276419"
            ]
           ],
           "sequential": [
            [
             0,
             "#0d0887"
            ],
            [
             0.1111111111111111,
             "#46039f"
            ],
            [
             0.2222222222222222,
             "#7201a8"
            ],
            [
             0.3333333333333333,
             "#9c179e"
            ],
            [
             0.4444444444444444,
             "#bd3786"
            ],
            [
             0.5555555555555556,
             "#d8576b"
            ],
            [
             0.6666666666666666,
             "#ed7953"
            ],
            [
             0.7777777777777778,
             "#fb9f3a"
            ],
            [
             0.8888888888888888,
             "#fdca26"
            ],
            [
             1,
             "#f0f921"
            ]
           ],
           "sequentialminus": [
            [
             0,
             "#0d0887"
            ],
            [
             0.1111111111111111,
             "#46039f"
            ],
            [
             0.2222222222222222,
             "#7201a8"
            ],
            [
             0.3333333333333333,
             "#9c179e"
            ],
            [
             0.4444444444444444,
             "#bd3786"
            ],
            [
             0.5555555555555556,
             "#d8576b"
            ],
            [
             0.6666666666666666,
             "#ed7953"
            ],
            [
             0.7777777777777778,
             "#fb9f3a"
            ],
            [
             0.8888888888888888,
             "#fdca26"
            ],
            [
             1,
             "#f0f921"
            ]
           ]
          },
          "colorway": [
           "#636efa",
           "#EF553B",
           "#00cc96",
           "#ab63fa",
           "#FFA15A",
           "#19d3f3",
           "#FF6692",
           "#B6E880",
           "#FF97FF",
           "#FECB52"
          ],
          "font": {
           "color": "#2a3f5f"
          },
          "geo": {
           "bgcolor": "white",
           "lakecolor": "white",
           "landcolor": "#E5ECF6",
           "showlakes": true,
           "showland": true,
           "subunitcolor": "white"
          },
          "hoverlabel": {
           "align": "left"
          },
          "hovermode": "closest",
          "mapbox": {
           "style": "light"
          },
          "paper_bgcolor": "white",
          "plot_bgcolor": "#E5ECF6",
          "polar": {
           "angularaxis": {
            "gridcolor": "white",
            "linecolor": "white",
            "ticks": ""
           },
           "bgcolor": "#E5ECF6",
           "radialaxis": {
            "gridcolor": "white",
            "linecolor": "white",
            "ticks": ""
           }
          },
          "scene": {
           "xaxis": {
            "backgroundcolor": "#E5ECF6",
            "gridcolor": "white",
            "gridwidth": 2,
            "linecolor": "white",
            "showbackground": true,
            "ticks": "",
            "zerolinecolor": "white"
           },
           "yaxis": {
            "backgroundcolor": "#E5ECF6",
            "gridcolor": "white",
            "gridwidth": 2,
            "linecolor": "white",
            "showbackground": true,
            "ticks": "",
            "zerolinecolor": "white"
           },
           "zaxis": {
            "backgroundcolor": "#E5ECF6",
            "gridcolor": "white",
            "gridwidth": 2,
            "linecolor": "white",
            "showbackground": true,
            "ticks": "",
            "zerolinecolor": "white"
           }
          },
          "shapedefaults": {
           "line": {
            "color": "#2a3f5f"
           }
          },
          "ternary": {
           "aaxis": {
            "gridcolor": "white",
            "linecolor": "white",
            "ticks": ""
           },
           "baxis": {
            "gridcolor": "white",
            "linecolor": "white",
            "ticks": ""
           },
           "bgcolor": "#E5ECF6",
           "caxis": {
            "gridcolor": "white",
            "linecolor": "white",
            "ticks": ""
           }
          },
          "title": {
           "x": 0.05
          },
          "xaxis": {
           "automargin": true,
           "gridcolor": "white",
           "linecolor": "white",
           "ticks": "",
           "title": {
            "standoff": 15
           },
           "zerolinecolor": "white",
           "zerolinewidth": 2
          },
          "yaxis": {
           "automargin": true,
           "gridcolor": "white",
           "linecolor": "white",
           "ticks": "",
           "title": {
            "standoff": 15
           },
           "zerolinecolor": "white",
           "zerolinewidth": 2
          }
         }
        },
        "xaxis": {
         "anchor": "y",
         "domain": [
          0,
          1
         ]
        },
        "yaxis": {
         "anchor": "x",
         "domain": [
          0,
          1
         ]
        }
       }
      }
     },
     "metadata": {},
     "output_type": "display_data"
    }
   ],
   "source": [
    "fig = make_subplots(rows=1, cols=1)\n",
    "\n",
    "# target의 고유 값과 해당 값의 빈도를 구함\n",
    "target_counts = submission_df['target'].value_counts()\n",
    "\n",
    "fig.add_trace(go.Bar(x=target_counts.index, y=target_counts.values))\n",
    "fig.show()"
   ]
  },
  {
   "cell_type": "code",
   "execution_count": 101,
   "metadata": {},
   "outputs": [],
   "source": [
    "submission_df.to_csv(\"xgb_test1_lag.csv\",index=False)"
   ]
  }
 ],
 "metadata": {
  "kernelspec": {
   "display_name": "base",
   "language": "python",
   "name": "python3"
  },
  "language_info": {
   "codemirror_mode": {
    "name": "ipython",
    "version": 3
   },
   "file_extension": ".py",
   "mimetype": "text/x-python",
   "name": "python",
   "nbconvert_exporter": "python",
   "pygments_lexer": "ipython3",
   "version": "3.12.5"
  }
 },
 "nbformat": 4,
 "nbformat_minor": 2
}
