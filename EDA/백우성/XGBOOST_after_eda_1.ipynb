{
 "cells": [
  {
   "cell_type": "code",
   "execution_count": 37,
   "metadata": {},
   "outputs": [
    {
     "name": "stdout",
     "output_type": "stream",
     "text": [
      "c:\\Users\\com\\Documents\\GitHub\\level1-classificationinmachinelearning-recsys-06\n"
     ]
    }
   ],
   "source": [
    "import os\n",
    "import sys\n",
    "from typing import List, Dict\n",
    "\n",
    "import lightgbm as lgb\n",
    "import numpy as np\n",
    "import pandas as pd\n",
    "import plotly.graph_objects as go\n",
    "from plotly.subplots import make_subplots\n",
    "from sklearn.metrics import accuracy_score, roc_auc_score\n",
    "from sklearn.model_selection import train_test_split\n",
    "\n",
    "# Code 경로 추가\n",
    "sys.path.append(os.path.dirname(os.path.dirname(os.path.abspath(\"\"))))\n",
    "print(sys.path[-1])"
   ]
  },
  {
   "cell_type": "code",
   "execution_count": 38,
   "metadata": {},
   "outputs": [],
   "source": [
    "# 파일 호출\n",
    "data_path: str = \"../../data\"\n",
    "## raw.csv가 없는 경우 실행\n",
    "# from Code.dataset.merge_all import merge_all\n",
    "# df = merge_all(data_path)\n",
    "df: pd.DataFrame = pd.read_csv(os.path.join(data_path, \"after_eda.csv\"))\n",
    "submission_df: pd.DataFrame = pd.read_csv(os.path.join(data_path, \"test.csv\"))  # ID, target 열만 가진 데이터 미리 호출\n"
   ]
  },
  {
   "cell_type": "code",
   "execution_count": 22,
   "metadata": {},
   "outputs": [
    {
     "data": {
      "text/html": [
       "<div>\n",
       "<style scoped>\n",
       "    .dataframe tbody tr th:only-of-type {\n",
       "        vertical-align: middle;\n",
       "    }\n",
       "\n",
       "    .dataframe tbody tr th {\n",
       "        vertical-align: top;\n",
       "    }\n",
       "\n",
       "    .dataframe thead th {\n",
       "        text-align: right;\n",
       "    }\n",
       "</style>\n",
       "<table border=\"1\" class=\"dataframe\">\n",
       "  <thead>\n",
       "    <tr style=\"text-align: right;\">\n",
       "      <th></th>\n",
       "      <th>ID</th>\n",
       "      <th>_type</th>\n",
       "      <th>target</th>\n",
       "      <th>difference</th>\n",
       "      <th>percent</th>\n",
       "      <th>hashrate</th>\n",
       "      <th>taker_buy_sell_ratio</th>\n",
       "      <th>open_interest</th>\n",
       "      <th>funding_rates</th>\n",
       "      <th>coinbase_premium_index</th>\n",
       "      <th>utxo_count</th>\n",
       "      <th>transactions_count_total</th>\n",
       "      <th>total_liquidations</th>\n",
       "      <th>liquidation_diff</th>\n",
       "      <th>total_taker_volume</th>\n",
       "      <th>estimated_block_reward_usd</th>\n",
       "    </tr>\n",
       "  </thead>\n",
       "  <tbody>\n",
       "    <tr>\n",
       "      <th>0</th>\n",
       "      <td>2023-01-01 00:00:00</td>\n",
       "      <td>train</td>\n",
       "      <td>2.0</td>\n",
       "      <td>20.388568</td>\n",
       "      <td>0.123292</td>\n",
       "      <td>5.062917e+11</td>\n",
       "      <td>0.904774</td>\n",
       "      <td>6.271344e+09</td>\n",
       "      <td>0.005049</td>\n",
       "      <td>-0.059650</td>\n",
       "      <td>83308092.0</td>\n",
       "      <td>11457.0</td>\n",
       "      <td>0.012000</td>\n",
       "      <td>0.012000</td>\n",
       "      <td>9.785846e+07</td>\n",
       "      <td>104057.980295</td>\n",
       "    </tr>\n",
       "    <tr>\n",
       "      <th>1</th>\n",
       "      <td>2023-01-01 01:00:00</td>\n",
       "      <td>train</td>\n",
       "      <td>1.0</td>\n",
       "      <td>-8.986731</td>\n",
       "      <td>-0.054277</td>\n",
       "      <td>1.687639e+11</td>\n",
       "      <td>1.655721</td>\n",
       "      <td>6.288683e+09</td>\n",
       "      <td>0.005049</td>\n",
       "      <td>-0.053047</td>\n",
       "      <td>83314883.0</td>\n",
       "      <td>5832.0</td>\n",
       "      <td>0.712000</td>\n",
       "      <td>-0.712000</td>\n",
       "      <td>6.376728e+07</td>\n",
       "      <td>104403.922724</td>\n",
       "    </tr>\n",
       "    <tr>\n",
       "      <th>2</th>\n",
       "      <td>2023-01-01 02:00:00</td>\n",
       "      <td>train</td>\n",
       "      <td>1.0</td>\n",
       "      <td>-14.516930</td>\n",
       "      <td>-0.087725</td>\n",
       "      <td>3.375278e+11</td>\n",
       "      <td>1.027512</td>\n",
       "      <td>6.286796e+09</td>\n",
       "      <td>0.005049</td>\n",
       "      <td>-0.057952</td>\n",
       "      <td>83314090.0</td>\n",
       "      <td>5550.0</td>\n",
       "      <td>0.000000</td>\n",
       "      <td>0.000000</td>\n",
       "      <td>4.746397e+07</td>\n",
       "      <td>104021.263731</td>\n",
       "    </tr>\n",
       "    <tr>\n",
       "      <th>3</th>\n",
       "      <td>2023-01-01 03:00:00</td>\n",
       "      <td>train</td>\n",
       "      <td>1.0</td>\n",
       "      <td>-8.920715</td>\n",
       "      <td>-0.053955</td>\n",
       "      <td>2.109549e+11</td>\n",
       "      <td>0.874477</td>\n",
       "      <td>6.284575e+09</td>\n",
       "      <td>0.005067</td>\n",
       "      <td>-0.058912</td>\n",
       "      <td>83326258.0</td>\n",
       "      <td>5245.0</td>\n",
       "      <td>0.593000</td>\n",
       "      <td>0.593000</td>\n",
       "      <td>6.130988e+07</td>\n",
       "      <td>103993.945406</td>\n",
       "    </tr>\n",
       "    <tr>\n",
       "      <th>4</th>\n",
       "      <td>2023-01-01 04:00:00</td>\n",
       "      <td>train</td>\n",
       "      <td>2.0</td>\n",
       "      <td>4.695906</td>\n",
       "      <td>0.028417</td>\n",
       "      <td>2.953368e+11</td>\n",
       "      <td>0.966796</td>\n",
       "      <td>6.291582e+09</td>\n",
       "      <td>0.006210</td>\n",
       "      <td>-0.061373</td>\n",
       "      <td>83339168.0</td>\n",
       "      <td>6942.0</td>\n",
       "      <td>0.361000</td>\n",
       "      <td>0.361000</td>\n",
       "      <td>6.281486e+07</td>\n",
       "      <td>104100.262482</td>\n",
       "    </tr>\n",
       "    <tr>\n",
       "      <th>...</th>\n",
       "      <td>...</td>\n",
       "      <td>...</td>\n",
       "      <td>...</td>\n",
       "      <td>...</td>\n",
       "      <td>...</td>\n",
       "      <td>...</td>\n",
       "      <td>...</td>\n",
       "      <td>...</td>\n",
       "      <td>...</td>\n",
       "      <td>...</td>\n",
       "      <td>...</td>\n",
       "      <td>...</td>\n",
       "      <td>...</td>\n",
       "      <td>...</td>\n",
       "      <td>...</td>\n",
       "      <td>...</td>\n",
       "    </tr>\n",
       "    <tr>\n",
       "      <th>11547</th>\n",
       "      <td>2024-04-26 03:00:00</td>\n",
       "      <td>test</td>\n",
       "      <td>NaN</td>\n",
       "      <td>NaN</td>\n",
       "      <td>0.000000</td>\n",
       "      <td>3.153372e+11</td>\n",
       "      <td>NaN</td>\n",
       "      <td>1.486836e+10</td>\n",
       "      <td>NaN</td>\n",
       "      <td>-0.002376</td>\n",
       "      <td>179820708.0</td>\n",
       "      <td>10048.0</td>\n",
       "      <td>0.953500</td>\n",
       "      <td>0.466500</td>\n",
       "      <td>NaN</td>\n",
       "      <td>251543.725340</td>\n",
       "    </tr>\n",
       "    <tr>\n",
       "      <th>11548</th>\n",
       "      <td>2024-04-26 04:00:00</td>\n",
       "      <td>test</td>\n",
       "      <td>NaN</td>\n",
       "      <td>NaN</td>\n",
       "      <td>0.000000</td>\n",
       "      <td>6.306744e+11</td>\n",
       "      <td>NaN</td>\n",
       "      <td>NaN</td>\n",
       "      <td>NaN</td>\n",
       "      <td>-0.018268</td>\n",
       "      <td>179833897.0</td>\n",
       "      <td>NaN</td>\n",
       "      <td>6.723208</td>\n",
       "      <td>6.431208</td>\n",
       "      <td>NaN</td>\n",
       "      <td>244385.395493</td>\n",
       "    </tr>\n",
       "    <tr>\n",
       "      <th>11549</th>\n",
       "      <td>2024-04-26 05:00:00</td>\n",
       "      <td>test</td>\n",
       "      <td>NaN</td>\n",
       "      <td>NaN</td>\n",
       "      <td>0.000000</td>\n",
       "      <td>6.306744e+11</td>\n",
       "      <td>NaN</td>\n",
       "      <td>NaN</td>\n",
       "      <td>NaN</td>\n",
       "      <td>0.002866</td>\n",
       "      <td>179851249.0</td>\n",
       "      <td>NaN</td>\n",
       "      <td>7.013653</td>\n",
       "      <td>-3.419327</td>\n",
       "      <td>NaN</td>\n",
       "      <td>241170.877304</td>\n",
       "    </tr>\n",
       "    <tr>\n",
       "      <th>11550</th>\n",
       "      <td>2024-04-26 06:00:00</td>\n",
       "      <td>test</td>\n",
       "      <td>NaN</td>\n",
       "      <td>NaN</td>\n",
       "      <td>0.000000</td>\n",
       "      <td>4.204496e+11</td>\n",
       "      <td>NaN</td>\n",
       "      <td>NaN</td>\n",
       "      <td>NaN</td>\n",
       "      <td>-0.003184</td>\n",
       "      <td>179852452.0</td>\n",
       "      <td>NaN</td>\n",
       "      <td>2.459000</td>\n",
       "      <td>-0.853000</td>\n",
       "      <td>NaN</td>\n",
       "      <td>232681.919923</td>\n",
       "    </tr>\n",
       "    <tr>\n",
       "      <th>11551</th>\n",
       "      <td>2024-04-26 07:00:00</td>\n",
       "      <td>test</td>\n",
       "      <td>NaN</td>\n",
       "      <td>NaN</td>\n",
       "      <td>NaN</td>\n",
       "      <td>3.153372e+11</td>\n",
       "      <td>NaN</td>\n",
       "      <td>NaN</td>\n",
       "      <td>NaN</td>\n",
       "      <td>NaN</td>\n",
       "      <td>NaN</td>\n",
       "      <td>NaN</td>\n",
       "      <td>6.290439</td>\n",
       "      <td>-1.569674</td>\n",
       "      <td>NaN</td>\n",
       "      <td>255698.284272</td>\n",
       "    </tr>\n",
       "  </tbody>\n",
       "</table>\n",
       "<p>11552 rows × 16 columns</p>\n",
       "</div>"
      ],
      "text/plain": [
       "                        ID  _type  target  difference   percent      hashrate  \\\n",
       "0      2023-01-01 00:00:00  train     2.0   20.388568  0.123292  5.062917e+11   \n",
       "1      2023-01-01 01:00:00  train     1.0   -8.986731 -0.054277  1.687639e+11   \n",
       "2      2023-01-01 02:00:00  train     1.0  -14.516930 -0.087725  3.375278e+11   \n",
       "3      2023-01-01 03:00:00  train     1.0   -8.920715 -0.053955  2.109549e+11   \n",
       "4      2023-01-01 04:00:00  train     2.0    4.695906  0.028417  2.953368e+11   \n",
       "...                    ...    ...     ...         ...       ...           ...   \n",
       "11547  2024-04-26 03:00:00   test     NaN         NaN  0.000000  3.153372e+11   \n",
       "11548  2024-04-26 04:00:00   test     NaN         NaN  0.000000  6.306744e+11   \n",
       "11549  2024-04-26 05:00:00   test     NaN         NaN  0.000000  6.306744e+11   \n",
       "11550  2024-04-26 06:00:00   test     NaN         NaN  0.000000  4.204496e+11   \n",
       "11551  2024-04-26 07:00:00   test     NaN         NaN       NaN  3.153372e+11   \n",
       "\n",
       "       taker_buy_sell_ratio  open_interest  funding_rates  \\\n",
       "0                  0.904774   6.271344e+09       0.005049   \n",
       "1                  1.655721   6.288683e+09       0.005049   \n",
       "2                  1.027512   6.286796e+09       0.005049   \n",
       "3                  0.874477   6.284575e+09       0.005067   \n",
       "4                  0.966796   6.291582e+09       0.006210   \n",
       "...                     ...            ...            ...   \n",
       "11547                   NaN   1.486836e+10            NaN   \n",
       "11548                   NaN            NaN            NaN   \n",
       "11549                   NaN            NaN            NaN   \n",
       "11550                   NaN            NaN            NaN   \n",
       "11551                   NaN            NaN            NaN   \n",
       "\n",
       "       coinbase_premium_index   utxo_count  transactions_count_total  \\\n",
       "0                   -0.059650   83308092.0                   11457.0   \n",
       "1                   -0.053047   83314883.0                    5832.0   \n",
       "2                   -0.057952   83314090.0                    5550.0   \n",
       "3                   -0.058912   83326258.0                    5245.0   \n",
       "4                   -0.061373   83339168.0                    6942.0   \n",
       "...                       ...          ...                       ...   \n",
       "11547               -0.002376  179820708.0                   10048.0   \n",
       "11548               -0.018268  179833897.0                       NaN   \n",
       "11549                0.002866  179851249.0                       NaN   \n",
       "11550               -0.003184  179852452.0                       NaN   \n",
       "11551                     NaN          NaN                       NaN   \n",
       "\n",
       "       total_liquidations  liquidation_diff  total_taker_volume  \\\n",
       "0                0.012000          0.012000        9.785846e+07   \n",
       "1                0.712000         -0.712000        6.376728e+07   \n",
       "2                0.000000          0.000000        4.746397e+07   \n",
       "3                0.593000          0.593000        6.130988e+07   \n",
       "4                0.361000          0.361000        6.281486e+07   \n",
       "...                   ...               ...                 ...   \n",
       "11547            0.953500          0.466500                 NaN   \n",
       "11548            6.723208          6.431208                 NaN   \n",
       "11549            7.013653         -3.419327                 NaN   \n",
       "11550            2.459000         -0.853000                 NaN   \n",
       "11551            6.290439         -1.569674                 NaN   \n",
       "\n",
       "       estimated_block_reward_usd  \n",
       "0                   104057.980295  \n",
       "1                   104403.922724  \n",
       "2                   104021.263731  \n",
       "3                   103993.945406  \n",
       "4                   104100.262482  \n",
       "...                           ...  \n",
       "11547               251543.725340  \n",
       "11548               244385.395493  \n",
       "11549               241170.877304  \n",
       "11550               232681.919923  \n",
       "11551               255698.284272  \n",
       "\n",
       "[11552 rows x 16 columns]"
      ]
     },
     "execution_count": 22,
     "metadata": {},
     "output_type": "execute_result"
    }
   ],
   "source": [
    "df"
   ]
  },
  {
   "cell_type": "code",
   "execution_count": 39,
   "metadata": {},
   "outputs": [],
   "source": [
    "eda_df = df.drop(columns=['difference', 'percent'])"
   ]
  },
  {
   "cell_type": "code",
   "execution_count": 40,
   "metadata": {},
   "outputs": [],
   "source": [
    "import yaml\n",
    "\n",
    "config_path ='../../config-sample.yaml'\n",
    "\n",
    "with open(config_path,'r') as file:\n",
    "    config = yaml.safe_load(file)"
   ]
  },
  {
   "cell_type": "code",
   "execution_count": 30,
   "metadata": {},
   "outputs": [
    {
     "name": "stdout",
     "output_type": "stream",
     "text": [
      "[0]\ttrain-mlogloss:1.36453\teval-mlogloss:1.37054\n",
      "[1]\ttrain-mlogloss:1.34343\teval-mlogloss:1.35522\n",
      "[2]\ttrain-mlogloss:1.32313\teval-mlogloss:1.34137\n",
      "[3]\ttrain-mlogloss:1.30381\teval-mlogloss:1.32820\n",
      "[4]\ttrain-mlogloss:1.28554\teval-mlogloss:1.31624\n"
     ]
    },
    {
     "name": "stderr",
     "output_type": "stream",
     "text": [
      "c:\\Users\\com\\miniconda3\\Lib\\site-packages\\xgboost\\core.py:160: UserWarning: [21:05:16] WARNING: C:\\buildkite-agent\\builds\\buildkite-windows-cpu-autoscaling-group-i-0b3782d1791676daf-1\\xgboost\\xgboost-ci-windows\\src\\learner.cc:742: \n",
      "Parameters: { \"early_stopping_rounds\", \"verbose\" } are not used.\n",
      "\n",
      "  warnings.warn(smsg, UserWarning)\n"
     ]
    },
    {
     "name": "stdout",
     "output_type": "stream",
     "text": [
      "[5]\ttrain-mlogloss:1.26893\teval-mlogloss:1.30495\n",
      "[6]\ttrain-mlogloss:1.25297\teval-mlogloss:1.29475\n",
      "[7]\ttrain-mlogloss:1.23807\teval-mlogloss:1.28491\n",
      "[8]\ttrain-mlogloss:1.22386\teval-mlogloss:1.27594\n",
      "[9]\ttrain-mlogloss:1.21011\teval-mlogloss:1.26733\n",
      "[10]\ttrain-mlogloss:1.19718\teval-mlogloss:1.25961\n",
      "[11]\ttrain-mlogloss:1.18443\teval-mlogloss:1.25212\n",
      "[12]\ttrain-mlogloss:1.17251\teval-mlogloss:1.24473\n",
      "[13]\ttrain-mlogloss:1.16086\teval-mlogloss:1.23767\n",
      "[14]\ttrain-mlogloss:1.14903\teval-mlogloss:1.23115\n",
      "[15]\ttrain-mlogloss:1.13817\teval-mlogloss:1.22512\n",
      "[16]\ttrain-mlogloss:1.12787\teval-mlogloss:1.21924\n",
      "[17]\ttrain-mlogloss:1.11782\teval-mlogloss:1.21398\n",
      "[18]\ttrain-mlogloss:1.10834\teval-mlogloss:1.20910\n",
      "[19]\ttrain-mlogloss:1.09872\teval-mlogloss:1.20401\n",
      "[20]\ttrain-mlogloss:1.08960\teval-mlogloss:1.19938\n",
      "[21]\ttrain-mlogloss:1.08097\teval-mlogloss:1.19524\n",
      "[22]\ttrain-mlogloss:1.07217\teval-mlogloss:1.19099\n",
      "[23]\ttrain-mlogloss:1.06381\teval-mlogloss:1.18747\n",
      "[24]\ttrain-mlogloss:1.05619\teval-mlogloss:1.18421\n",
      "[25]\ttrain-mlogloss:1.04824\teval-mlogloss:1.18117\n",
      "[26]\ttrain-mlogloss:1.04059\teval-mlogloss:1.17810\n",
      "[27]\ttrain-mlogloss:1.03306\teval-mlogloss:1.17514\n",
      "[28]\ttrain-mlogloss:1.02610\teval-mlogloss:1.17220\n",
      "[29]\ttrain-mlogloss:1.01922\teval-mlogloss:1.16960\n",
      "[30]\ttrain-mlogloss:1.01323\teval-mlogloss:1.16701\n",
      "[31]\ttrain-mlogloss:1.00640\teval-mlogloss:1.16478\n",
      "[32]\ttrain-mlogloss:1.00035\teval-mlogloss:1.16251\n",
      "[33]\ttrain-mlogloss:0.99472\teval-mlogloss:1.16052\n",
      "[34]\ttrain-mlogloss:0.98871\teval-mlogloss:1.15830\n",
      "[35]\ttrain-mlogloss:0.98230\teval-mlogloss:1.15650\n",
      "[36]\ttrain-mlogloss:0.97657\teval-mlogloss:1.15500\n",
      "[37]\ttrain-mlogloss:0.97143\teval-mlogloss:1.15327\n",
      "[38]\ttrain-mlogloss:0.96593\teval-mlogloss:1.15134\n",
      "[39]\ttrain-mlogloss:0.96013\teval-mlogloss:1.15003\n",
      "[40]\ttrain-mlogloss:0.95402\teval-mlogloss:1.14892\n",
      "[41]\ttrain-mlogloss:0.94885\teval-mlogloss:1.14818\n",
      "[42]\ttrain-mlogloss:0.94366\teval-mlogloss:1.14692\n",
      "[43]\ttrain-mlogloss:0.93838\teval-mlogloss:1.14568\n",
      "[44]\ttrain-mlogloss:0.93391\teval-mlogloss:1.14474\n",
      "[45]\ttrain-mlogloss:0.92914\teval-mlogloss:1.14388\n",
      "[46]\ttrain-mlogloss:0.92440\teval-mlogloss:1.14263\n",
      "[47]\ttrain-mlogloss:0.91980\teval-mlogloss:1.14212\n",
      "[48]\ttrain-mlogloss:0.91520\teval-mlogloss:1.14137\n",
      "[49]\ttrain-mlogloss:0.91098\teval-mlogloss:1.14105\n",
      "[50]\ttrain-mlogloss:0.90676\teval-mlogloss:1.14054\n",
      "[51]\ttrain-mlogloss:0.90243\teval-mlogloss:1.14007\n",
      "[52]\ttrain-mlogloss:0.89827\teval-mlogloss:1.13940\n",
      "[53]\ttrain-mlogloss:0.89486\teval-mlogloss:1.13905\n",
      "[54]\ttrain-mlogloss:0.89059\teval-mlogloss:1.13873\n",
      "[55]\ttrain-mlogloss:0.88663\teval-mlogloss:1.13774\n",
      "[56]\ttrain-mlogloss:0.88259\teval-mlogloss:1.13753\n",
      "[57]\ttrain-mlogloss:0.87876\teval-mlogloss:1.13748\n",
      "[58]\ttrain-mlogloss:0.87484\teval-mlogloss:1.13757\n",
      "[59]\ttrain-mlogloss:0.87087\teval-mlogloss:1.13758\n",
      "[60]\ttrain-mlogloss:0.86755\teval-mlogloss:1.13730\n",
      "[61]\ttrain-mlogloss:0.86423\teval-mlogloss:1.13736\n",
      "[62]\ttrain-mlogloss:0.86081\teval-mlogloss:1.13746\n",
      "[63]\ttrain-mlogloss:0.85673\teval-mlogloss:1.13696\n",
      "[64]\ttrain-mlogloss:0.85319\teval-mlogloss:1.13678\n",
      "[65]\ttrain-mlogloss:0.84961\teval-mlogloss:1.13615\n",
      "[66]\ttrain-mlogloss:0.84602\teval-mlogloss:1.13569\n",
      "[67]\ttrain-mlogloss:0.84294\teval-mlogloss:1.13553\n",
      "[68]\ttrain-mlogloss:0.83955\teval-mlogloss:1.13499\n",
      "[69]\ttrain-mlogloss:0.83696\teval-mlogloss:1.13462\n",
      "[70]\ttrain-mlogloss:0.83341\teval-mlogloss:1.13422\n",
      "[71]\ttrain-mlogloss:0.82996\teval-mlogloss:1.13420\n",
      "[72]\ttrain-mlogloss:0.82682\teval-mlogloss:1.13404\n",
      "[73]\ttrain-mlogloss:0.82349\teval-mlogloss:1.13374\n",
      "[74]\ttrain-mlogloss:0.82046\teval-mlogloss:1.13359\n",
      "[75]\ttrain-mlogloss:0.81789\teval-mlogloss:1.13387\n",
      "[76]\ttrain-mlogloss:0.81550\teval-mlogloss:1.13371\n",
      "[77]\ttrain-mlogloss:0.81224\teval-mlogloss:1.13373\n",
      "[78]\ttrain-mlogloss:0.80919\teval-mlogloss:1.13374\n",
      "[79]\ttrain-mlogloss:0.80588\teval-mlogloss:1.13355\n",
      "[80]\ttrain-mlogloss:0.80314\teval-mlogloss:1.13336\n",
      "[81]\ttrain-mlogloss:0.80057\teval-mlogloss:1.13344\n",
      "[82]\ttrain-mlogloss:0.79770\teval-mlogloss:1.13347\n",
      "[83]\ttrain-mlogloss:0.79537\teval-mlogloss:1.13363\n",
      "[84]\ttrain-mlogloss:0.79288\teval-mlogloss:1.13324\n",
      "[85]\ttrain-mlogloss:0.79011\teval-mlogloss:1.13314\n",
      "[86]\ttrain-mlogloss:0.78712\teval-mlogloss:1.13281\n",
      "[87]\ttrain-mlogloss:0.78402\teval-mlogloss:1.13259\n",
      "[88]\ttrain-mlogloss:0.78191\teval-mlogloss:1.13286\n",
      "[89]\ttrain-mlogloss:0.77900\teval-mlogloss:1.13326\n",
      "[90]\ttrain-mlogloss:0.77634\teval-mlogloss:1.13339\n",
      "[91]\ttrain-mlogloss:0.77377\teval-mlogloss:1.13337\n",
      "[92]\ttrain-mlogloss:0.77140\teval-mlogloss:1.13333\n",
      "[93]\ttrain-mlogloss:0.76885\teval-mlogloss:1.13351\n",
      "[94]\ttrain-mlogloss:0.76600\teval-mlogloss:1.13402\n",
      "[95]\ttrain-mlogloss:0.76337\teval-mlogloss:1.13444\n",
      "[96]\ttrain-mlogloss:0.76131\teval-mlogloss:1.13475\n",
      "[97]\ttrain-mlogloss:0.75895\teval-mlogloss:1.13490\n",
      "훈련 정확도: 0.8239155251141552\n",
      "              precision    recall  f1-score   support\n",
      "\n",
      "           0       1.00      0.42      0.59       591\n",
      "           1       0.81      0.89      0.85      2866\n",
      "           2       0.80      0.91      0.85      2926\n",
      "           3       1.00      0.49      0.66       625\n",
      "\n",
      "    accuracy                           0.82      7008\n",
      "   macro avg       0.90      0.68      0.74      7008\n",
      "weighted avg       0.84      0.82      0.81      7008\n",
      "\n",
      "검증 정확도: 0.4246575342465753\n",
      "              precision    recall  f1-score   support\n",
      "\n",
      "           0       0.27      0.05      0.09       149\n",
      "           1       0.40      0.48      0.44       678\n",
      "           2       0.46      0.54      0.49       745\n",
      "           3       0.30      0.06      0.10       180\n",
      "\n",
      "    accuracy                           0.42      1752\n",
      "   macro avg       0.36      0.28      0.28      1752\n",
      "weighted avg       0.40      0.42      0.40      1752\n",
      "\n"
     ]
    }
   ],
   "source": [
    "import xgboost as xgb\n",
    "from sklearn.metrics import accuracy_score, classification_report\n",
    "from sklearn.model_selection import train_test_split\n",
    "\n",
    "# _type에 따라 train, test 분리\n",
    "train_df = eda_df.loc[eda_df[\"_type\"] == \"train\"].drop(columns=[\"_type\"])\n",
    "test_df = eda_df.loc[eda_df[\"_type\"] == \"test\"].drop(columns=[\"_type\"])\n",
    "\n",
    "# train_test_split 으로 valid set, train set 분리\n",
    "x_train, x_valid, y_train, y_valid = train_test_split(\n",
    "    train_df.drop([\"target\", \"ID\"], axis=1),\n",
    "    train_df[\"target\"].astype(int),\n",
    "    test_size=0.2,\n",
    "    random_state=42,\n",
    ")\n",
    "\n",
    "# XGBoost 모델을 위한 DMatrix로 변환\n",
    "dtrain = xgb.DMatrix(x_train, label=y_train)\n",
    "dvalid = xgb.DMatrix(x_valid, label=y_valid)\n",
    "\n",
    "# XGBoost 모델 학습 파라미터\n",
    "params = config[\"xgboost\"]\n",
    "params[\"objective\"] = \"multi:softprob\"  # 다중 클래스 분류를 위한 설정\n",
    "params[\"num_class\"] = len(y_train.unique())  # 클래스 개수\n",
    "params[\"eval_metric\"] = \"mlogloss\"  # 손실 함수 (멀티클래스 로지스틱 손실)\n",
    "\n",
    "# 학습 시 평가 데이터로 검증 셋 사용\n",
    "evals = [(dtrain, \"train\"), (dvalid, \"eval\")]\n",
    "\n",
    "# XGBoost 모델 훈련\n",
    "xgb_model = xgb.train(\n",
    "    params=params,\n",
    "    dtrain=dtrain,\n",
    "    num_boost_round=100,  # 트리의 개수\n",
    "    evals=evals,\n",
    "    early_stopping_rounds=10  # 조기 중단\n",
    ")\n",
    "\n",
    "# 예측 (훈련 데이터셋)\n",
    "y_train_pred_prob = xgb_model.predict(dtrain)\n",
    "y_train_pred = y_train_pred_prob.argmax(axis=1)\n",
    "\n",
    "# 예측 (검증 데이터셋)\n",
    "y_valid_pred_prob = xgb_model.predict(dvalid)\n",
    "y_valid_pred = y_valid_pred_prob.argmax(axis=1)\n",
    "\n",
    "# 성능 평가 (훈련 데이터셋)\n",
    "train_accuracy = accuracy_score(y_train, y_train_pred)\n",
    "train_classification_rep = classification_report(y_train, y_train_pred)\n",
    "\n",
    "# 성능 평가 (검증 데이터셋)\n",
    "valid_accuracy = accuracy_score(y_valid, y_valid_pred)\n",
    "valid_classification_rep = classification_report(y_valid, y_valid_pred)\n",
    "\n",
    "print(f\"훈련 정확도: {train_accuracy}\")\n",
    "print(train_classification_rep)\n",
    "print(f\"검증 정확도: {valid_accuracy}\")\n",
    "print(valid_classification_rep)"
   ]
  },
  {
   "cell_type": "code",
   "execution_count": 32,
   "metadata": {},
   "outputs": [
    {
     "data": {
      "text/plain": [
       "array([1, 1, 2, ..., 1, 1, 1], dtype=int64)"
      ]
     },
     "execution_count": 32,
     "metadata": {},
     "output_type": "execute_result"
    }
   ],
   "source": [
    "# 테스트 데이터셋을 DMatrix로 변환\n",
    "dtest = xgb.DMatrix(test_df.drop([\"target\", \"ID\"], axis=1))\n",
    "\n",
    "# 테스트 데이터에 대한 예측 수행\n",
    "y_test_pred_prob = xgb_model.predict(dtest)\n",
    "\n",
    "# 다중 클래스 예측일 경우 가장 높은 확률을 가진 클래스를 예측값으로 변환\n",
    "y_test_pred = y_test_pred_prob.argmax(axis=1)\n",
    "\n",
    "# 예측 결과 출력\n",
    "y_test_pred\n"
   ]
  },
  {
   "cell_type": "code",
   "execution_count": 33,
   "metadata": {},
   "outputs": [
    {
     "data": {
      "text/html": [
       "<div>\n",
       "<style scoped>\n",
       "    .dataframe tbody tr th:only-of-type {\n",
       "        vertical-align: middle;\n",
       "    }\n",
       "\n",
       "    .dataframe tbody tr th {\n",
       "        vertical-align: top;\n",
       "    }\n",
       "\n",
       "    .dataframe thead th {\n",
       "        text-align: right;\n",
       "    }\n",
       "</style>\n",
       "<table border=\"1\" class=\"dataframe\">\n",
       "  <thead>\n",
       "    <tr style=\"text-align: right;\">\n",
       "      <th></th>\n",
       "      <th>ID</th>\n",
       "      <th>target</th>\n",
       "    </tr>\n",
       "  </thead>\n",
       "  <tbody>\n",
       "    <tr>\n",
       "      <th>0</th>\n",
       "      <td>2024-01-01 00:00:00</td>\n",
       "      <td>1</td>\n",
       "    </tr>\n",
       "    <tr>\n",
       "      <th>1</th>\n",
       "      <td>2024-01-01 01:00:00</td>\n",
       "      <td>1</td>\n",
       "    </tr>\n",
       "    <tr>\n",
       "      <th>2</th>\n",
       "      <td>2024-01-01 02:00:00</td>\n",
       "      <td>2</td>\n",
       "    </tr>\n",
       "    <tr>\n",
       "      <th>3</th>\n",
       "      <td>2024-01-01 03:00:00</td>\n",
       "      <td>2</td>\n",
       "    </tr>\n",
       "    <tr>\n",
       "      <th>4</th>\n",
       "      <td>2024-01-01 04:00:00</td>\n",
       "      <td>2</td>\n",
       "    </tr>\n",
       "    <tr>\n",
       "      <th>...</th>\n",
       "      <td>...</td>\n",
       "      <td>...</td>\n",
       "    </tr>\n",
       "    <tr>\n",
       "      <th>2787</th>\n",
       "      <td>2024-04-26 03:00:00</td>\n",
       "      <td>3</td>\n",
       "    </tr>\n",
       "    <tr>\n",
       "      <th>2788</th>\n",
       "      <td>2024-04-26 04:00:00</td>\n",
       "      <td>1</td>\n",
       "    </tr>\n",
       "    <tr>\n",
       "      <th>2789</th>\n",
       "      <td>2024-04-26 05:00:00</td>\n",
       "      <td>1</td>\n",
       "    </tr>\n",
       "    <tr>\n",
       "      <th>2790</th>\n",
       "      <td>2024-04-26 06:00:00</td>\n",
       "      <td>1</td>\n",
       "    </tr>\n",
       "    <tr>\n",
       "      <th>2791</th>\n",
       "      <td>2024-04-26 07:00:00</td>\n",
       "      <td>1</td>\n",
       "    </tr>\n",
       "  </tbody>\n",
       "</table>\n",
       "<p>2792 rows × 2 columns</p>\n",
       "</div>"
      ],
      "text/plain": [
       "                       ID  target\n",
       "0     2024-01-01 00:00:00       1\n",
       "1     2024-01-01 01:00:00       1\n",
       "2     2024-01-01 02:00:00       2\n",
       "3     2024-01-01 03:00:00       2\n",
       "4     2024-01-01 04:00:00       2\n",
       "...                   ...     ...\n",
       "2787  2024-04-26 03:00:00       3\n",
       "2788  2024-04-26 04:00:00       1\n",
       "2789  2024-04-26 05:00:00       1\n",
       "2790  2024-04-26 06:00:00       1\n",
       "2791  2024-04-26 07:00:00       1\n",
       "\n",
       "[2792 rows x 2 columns]"
      ]
     },
     "execution_count": 33,
     "metadata": {},
     "output_type": "execute_result"
    }
   ],
   "source": [
    "submission_df = submission_df.assign(target=pd.DataFrame(y_test_pred))\n",
    "submission_df"
   ]
  },
  {
   "cell_type": "code",
   "execution_count": 34,
   "metadata": {},
   "outputs": [
    {
     "data": {
      "text/plain": [
       "target\n",
       "2    1619\n",
       "1    1058\n",
       "3      73\n",
       "0      42\n",
       "Name: count, dtype: int64"
      ]
     },
     "execution_count": 34,
     "metadata": {},
     "output_type": "execute_result"
    }
   ],
   "source": [
    "submission_df['target'].value_counts()"
   ]
  },
  {
   "cell_type": "code",
   "execution_count": 36,
   "metadata": {},
   "outputs": [],
   "source": [
    "submission_df.to_csv(\"XGBoost_after_eda_raw.csv\",index=False)"
   ]
  },
  {
   "cell_type": "code",
   "execution_count": 35,
   "metadata": {},
   "outputs": [
    {
     "data": {
      "application/vnd.plotly.v1+json": {
       "config": {
        "plotlyServerURL": "https://plot.ly"
       },
       "data": [
        {
         "alignmentgroup": "True",
         "hovertemplate": "Feature=%{x}<br>Importance=%{y}<extra></extra>",
         "legendgroup": "",
         "marker": {
          "color": "#636efa",
          "pattern": {
           "shape": ""
          }
         },
         "name": "",
         "offsetgroup": "",
         "orientation": "v",
         "showlegend": false,
         "textposition": "auto",
         "type": "bar",
         "x": [
          "taker_buy_sell_ratio",
          "open_interest",
          "coinbase_premium_index",
          "total_taker_volume",
          "hashrate",
          "funding_rates",
          "transactions_count_total",
          "total_liquidations",
          "liquidation_diff",
          "utxo_count",
          "estimated_block_reward_usd"
         ],
         "xaxis": "x",
         "y": [
          62,
          54,
          53,
          48,
          46,
          42,
          41,
          32,
          32,
          30,
          28
         ],
         "yaxis": "y"
        }
       ],
       "layout": {
        "barmode": "relative",
        "legend": {
         "tracegroupgap": 0
        },
        "template": {
         "data": {
          "bar": [
           {
            "error_x": {
             "color": "#2a3f5f"
            },
            "error_y": {
             "color": "#2a3f5f"
            },
            "marker": {
             "line": {
              "color": "#E5ECF6",
              "width": 0.5
             },
             "pattern": {
              "fillmode": "overlay",
              "size": 10,
              "solidity": 0.2
             }
            },
            "type": "bar"
           }
          ],
          "barpolar": [
           {
            "marker": {
             "line": {
              "color": "#E5ECF6",
              "width": 0.5
             },
             "pattern": {
              "fillmode": "overlay",
              "size": 10,
              "solidity": 0.2
             }
            },
            "type": "barpolar"
           }
          ],
          "carpet": [
           {
            "aaxis": {
             "endlinecolor": "#2a3f5f",
             "gridcolor": "white",
             "linecolor": "white",
             "minorgridcolor": "white",
             "startlinecolor": "#2a3f5f"
            },
            "baxis": {
             "endlinecolor": "#2a3f5f",
             "gridcolor": "white",
             "linecolor": "white",
             "minorgridcolor": "white",
             "startlinecolor": "#2a3f5f"
            },
            "type": "carpet"
           }
          ],
          "choropleth": [
           {
            "colorbar": {
             "outlinewidth": 0,
             "ticks": ""
            },
            "type": "choropleth"
           }
          ],
          "contour": [
           {
            "colorbar": {
             "outlinewidth": 0,
             "ticks": ""
            },
            "colorscale": [
             [
              0,
              "#0d0887"
             ],
             [
              0.1111111111111111,
              "#46039f"
             ],
             [
              0.2222222222222222,
              "#7201a8"
             ],
             [
              0.3333333333333333,
              "#9c179e"
             ],
             [
              0.4444444444444444,
              "#bd3786"
             ],
             [
              0.5555555555555556,
              "#d8576b"
             ],
             [
              0.6666666666666666,
              "#ed7953"
             ],
             [
              0.7777777777777778,
              "#fb9f3a"
             ],
             [
              0.8888888888888888,
              "#fdca26"
             ],
             [
              1,
              "#f0f921"
             ]
            ],
            "type": "contour"
           }
          ],
          "contourcarpet": [
           {
            "colorbar": {
             "outlinewidth": 0,
             "ticks": ""
            },
            "type": "contourcarpet"
           }
          ],
          "heatmap": [
           {
            "colorbar": {
             "outlinewidth": 0,
             "ticks": ""
            },
            "colorscale": [
             [
              0,
              "#0d0887"
             ],
             [
              0.1111111111111111,
              "#46039f"
             ],
             [
              0.2222222222222222,
              "#7201a8"
             ],
             [
              0.3333333333333333,
              "#9c179e"
             ],
             [
              0.4444444444444444,
              "#bd3786"
             ],
             [
              0.5555555555555556,
              "#d8576b"
             ],
             [
              0.6666666666666666,
              "#ed7953"
             ],
             [
              0.7777777777777778,
              "#fb9f3a"
             ],
             [
              0.8888888888888888,
              "#fdca26"
             ],
             [
              1,
              "#f0f921"
             ]
            ],
            "type": "heatmap"
           }
          ],
          "heatmapgl": [
           {
            "colorbar": {
             "outlinewidth": 0,
             "ticks": ""
            },
            "colorscale": [
             [
              0,
              "#0d0887"
             ],
             [
              0.1111111111111111,
              "#46039f"
             ],
             [
              0.2222222222222222,
              "#7201a8"
             ],
             [
              0.3333333333333333,
              "#9c179e"
             ],
             [
              0.4444444444444444,
              "#bd3786"
             ],
             [
              0.5555555555555556,
              "#d8576b"
             ],
             [
              0.6666666666666666,
              "#ed7953"
             ],
             [
              0.7777777777777778,
              "#fb9f3a"
             ],
             [
              0.8888888888888888,
              "#fdca26"
             ],
             [
              1,
              "#f0f921"
             ]
            ],
            "type": "heatmapgl"
           }
          ],
          "histogram": [
           {
            "marker": {
             "pattern": {
              "fillmode": "overlay",
              "size": 10,
              "solidity": 0.2
             }
            },
            "type": "histogram"
           }
          ],
          "histogram2d": [
           {
            "colorbar": {
             "outlinewidth": 0,
             "ticks": ""
            },
            "colorscale": [
             [
              0,
              "#0d0887"
             ],
             [
              0.1111111111111111,
              "#46039f"
             ],
             [
              0.2222222222222222,
              "#7201a8"
             ],
             [
              0.3333333333333333,
              "#9c179e"
             ],
             [
              0.4444444444444444,
              "#bd3786"
             ],
             [
              0.5555555555555556,
              "#d8576b"
             ],
             [
              0.6666666666666666,
              "#ed7953"
             ],
             [
              0.7777777777777778,
              "#fb9f3a"
             ],
             [
              0.8888888888888888,
              "#fdca26"
             ],
             [
              1,
              "#f0f921"
             ]
            ],
            "type": "histogram2d"
           }
          ],
          "histogram2dcontour": [
           {
            "colorbar": {
             "outlinewidth": 0,
             "ticks": ""
            },
            "colorscale": [
             [
              0,
              "#0d0887"
             ],
             [
              0.1111111111111111,
              "#46039f"
             ],
             [
              0.2222222222222222,
              "#7201a8"
             ],
             [
              0.3333333333333333,
              "#9c179e"
             ],
             [
              0.4444444444444444,
              "#bd3786"
             ],
             [
              0.5555555555555556,
              "#d8576b"
             ],
             [
              0.6666666666666666,
              "#ed7953"
             ],
             [
              0.7777777777777778,
              "#fb9f3a"
             ],
             [
              0.8888888888888888,
              "#fdca26"
             ],
             [
              1,
              "#f0f921"
             ]
            ],
            "type": "histogram2dcontour"
           }
          ],
          "mesh3d": [
           {
            "colorbar": {
             "outlinewidth": 0,
             "ticks": ""
            },
            "type": "mesh3d"
           }
          ],
          "parcoords": [
           {
            "line": {
             "colorbar": {
              "outlinewidth": 0,
              "ticks": ""
             }
            },
            "type": "parcoords"
           }
          ],
          "pie": [
           {
            "automargin": true,
            "type": "pie"
           }
          ],
          "scatter": [
           {
            "fillpattern": {
             "fillmode": "overlay",
             "size": 10,
             "solidity": 0.2
            },
            "type": "scatter"
           }
          ],
          "scatter3d": [
           {
            "line": {
             "colorbar": {
              "outlinewidth": 0,
              "ticks": ""
             }
            },
            "marker": {
             "colorbar": {
              "outlinewidth": 0,
              "ticks": ""
             }
            },
            "type": "scatter3d"
           }
          ],
          "scattercarpet": [
           {
            "marker": {
             "colorbar": {
              "outlinewidth": 0,
              "ticks": ""
             }
            },
            "type": "scattercarpet"
           }
          ],
          "scattergeo": [
           {
            "marker": {
             "colorbar": {
              "outlinewidth": 0,
              "ticks": ""
             }
            },
            "type": "scattergeo"
           }
          ],
          "scattergl": [
           {
            "marker": {
             "colorbar": {
              "outlinewidth": 0,
              "ticks": ""
             }
            },
            "type": "scattergl"
           }
          ],
          "scattermapbox": [
           {
            "marker": {
             "colorbar": {
              "outlinewidth": 0,
              "ticks": ""
             }
            },
            "type": "scattermapbox"
           }
          ],
          "scatterpolar": [
           {
            "marker": {
             "colorbar": {
              "outlinewidth": 0,
              "ticks": ""
             }
            },
            "type": "scatterpolar"
           }
          ],
          "scatterpolargl": [
           {
            "marker": {
             "colorbar": {
              "outlinewidth": 0,
              "ticks": ""
             }
            },
            "type": "scatterpolargl"
           }
          ],
          "scatterternary": [
           {
            "marker": {
             "colorbar": {
              "outlinewidth": 0,
              "ticks": ""
             }
            },
            "type": "scatterternary"
           }
          ],
          "surface": [
           {
            "colorbar": {
             "outlinewidth": 0,
             "ticks": ""
            },
            "colorscale": [
             [
              0,
              "#0d0887"
             ],
             [
              0.1111111111111111,
              "#46039f"
             ],
             [
              0.2222222222222222,
              "#7201a8"
             ],
             [
              0.3333333333333333,
              "#9c179e"
             ],
             [
              0.4444444444444444,
              "#bd3786"
             ],
             [
              0.5555555555555556,
              "#d8576b"
             ],
             [
              0.6666666666666666,
              "#ed7953"
             ],
             [
              0.7777777777777778,
              "#fb9f3a"
             ],
             [
              0.8888888888888888,
              "#fdca26"
             ],
             [
              1,
              "#f0f921"
             ]
            ],
            "type": "surface"
           }
          ],
          "table": [
           {
            "cells": {
             "fill": {
              "color": "#EBF0F8"
             },
             "line": {
              "color": "white"
             }
            },
            "header": {
             "fill": {
              "color": "#C8D4E3"
             },
             "line": {
              "color": "white"
             }
            },
            "type": "table"
           }
          ]
         },
         "layout": {
          "annotationdefaults": {
           "arrowcolor": "#2a3f5f",
           "arrowhead": 0,
           "arrowwidth": 1
          },
          "autotypenumbers": "strict",
          "coloraxis": {
           "colorbar": {
            "outlinewidth": 0,
            "ticks": ""
           }
          },
          "colorscale": {
           "diverging": [
            [
             0,
             "#8e0152"
            ],
            [
             0.1,
             "#c51b7d"
            ],
            [
             0.2,
             "#de77ae"
            ],
            [
             0.3,
             "#f1b6da"
            ],
            [
             0.4,
             "#fde0ef"
            ],
            [
             0.5,
             "#f7f7f7"
            ],
            [
             0.6,
             "#e6f5d0"
            ],
            [
             0.7,
             "#b8e186"
            ],
            [
             0.8,
             "#7fbc41"
            ],
            [
             0.9,
             "#4d9221"
            ],
            [
             1,
             "#276419"
            ]
           ],
           "sequential": [
            [
             0,
             "#0d0887"
            ],
            [
             0.1111111111111111,
             "#46039f"
            ],
            [
             0.2222222222222222,
             "#7201a8"
            ],
            [
             0.3333333333333333,
             "#9c179e"
            ],
            [
             0.4444444444444444,
             "#bd3786"
            ],
            [
             0.5555555555555556,
             "#d8576b"
            ],
            [
             0.6666666666666666,
             "#ed7953"
            ],
            [
             0.7777777777777778,
             "#fb9f3a"
            ],
            [
             0.8888888888888888,
             "#fdca26"
            ],
            [
             1,
             "#f0f921"
            ]
           ],
           "sequentialminus": [
            [
             0,
             "#0d0887"
            ],
            [
             0.1111111111111111,
             "#46039f"
            ],
            [
             0.2222222222222222,
             "#7201a8"
            ],
            [
             0.3333333333333333,
             "#9c179e"
            ],
            [
             0.4444444444444444,
             "#bd3786"
            ],
            [
             0.5555555555555556,
             "#d8576b"
            ],
            [
             0.6666666666666666,
             "#ed7953"
            ],
            [
             0.7777777777777778,
             "#fb9f3a"
            ],
            [
             0.8888888888888888,
             "#fdca26"
            ],
            [
             1,
             "#f0f921"
            ]
           ]
          },
          "colorway": [
           "#636efa",
           "#EF553B",
           "#00cc96",
           "#ab63fa",
           "#FFA15A",
           "#19d3f3",
           "#FF6692",
           "#B6E880",
           "#FF97FF",
           "#FECB52"
          ],
          "font": {
           "color": "#2a3f5f"
          },
          "geo": {
           "bgcolor": "white",
           "lakecolor": "white",
           "landcolor": "#E5ECF6",
           "showlakes": true,
           "showland": true,
           "subunitcolor": "white"
          },
          "hoverlabel": {
           "align": "left"
          },
          "hovermode": "closest",
          "mapbox": {
           "style": "light"
          },
          "paper_bgcolor": "white",
          "plot_bgcolor": "#E5ECF6",
          "polar": {
           "angularaxis": {
            "gridcolor": "white",
            "linecolor": "white",
            "ticks": ""
           },
           "bgcolor": "#E5ECF6",
           "radialaxis": {
            "gridcolor": "white",
            "linecolor": "white",
            "ticks": ""
           }
          },
          "scene": {
           "xaxis": {
            "backgroundcolor": "#E5ECF6",
            "gridcolor": "white",
            "gridwidth": 2,
            "linecolor": "white",
            "showbackground": true,
            "ticks": "",
            "zerolinecolor": "white"
           },
           "yaxis": {
            "backgroundcolor": "#E5ECF6",
            "gridcolor": "white",
            "gridwidth": 2,
            "linecolor": "white",
            "showbackground": true,
            "ticks": "",
            "zerolinecolor": "white"
           },
           "zaxis": {
            "backgroundcolor": "#E5ECF6",
            "gridcolor": "white",
            "gridwidth": 2,
            "linecolor": "white",
            "showbackground": true,
            "ticks": "",
            "zerolinecolor": "white"
           }
          },
          "shapedefaults": {
           "line": {
            "color": "#2a3f5f"
           }
          },
          "ternary": {
           "aaxis": {
            "gridcolor": "white",
            "linecolor": "white",
            "ticks": ""
           },
           "baxis": {
            "gridcolor": "white",
            "linecolor": "white",
            "ticks": ""
           },
           "bgcolor": "#E5ECF6",
           "caxis": {
            "gridcolor": "white",
            "linecolor": "white",
            "ticks": ""
           }
          },
          "title": {
           "x": 0.05
          },
          "xaxis": {
           "automargin": true,
           "gridcolor": "white",
           "linecolor": "white",
           "ticks": "",
           "title": {
            "standoff": 15
           },
           "zerolinecolor": "white",
           "zerolinewidth": 2
          },
          "yaxis": {
           "automargin": true,
           "gridcolor": "white",
           "linecolor": "white",
           "ticks": "",
           "title": {
            "standoff": 15
           },
           "zerolinecolor": "white",
           "zerolinewidth": 2
          }
         }
        },
        "title": {
         "text": "Feature Importance"
        },
        "xaxis": {
         "anchor": "y",
         "domain": [
          0,
          1
         ],
         "title": {
          "text": "Feature"
         }
        },
        "yaxis": {
         "anchor": "x",
         "domain": [
          0,
          1
         ],
         "title": {
          "text": "Importance"
         }
        }
       }
      }
     },
     "metadata": {},
     "output_type": "display_data"
    }
   ],
   "source": [
    "import plotly.express as px\n",
    "\n",
    "# Feature importance 평가\n",
    "importance = model.get_score(importance_type='weight')\n",
    "importance_df = pd.DataFrame({\n",
    "    'Feature': [k for k in importance.keys()],\n",
    "    'Importance': importance.values()\n",
    "}).sort_values(by='Importance', ascending=False)\n",
    "\n",
    "# 시각화\n",
    "fig = px.bar(importance_df, x='Feature', y='Importance', title='Feature Importance')\n",
    "fig.show()"
   ]
  },
  {
   "cell_type": "markdown",
   "metadata": {},
   "source": [
    "### hashrate_diff 추가"
   ]
  },
  {
   "cell_type": "code",
   "execution_count": 41,
   "metadata": {},
   "outputs": [],
   "source": [
    "eda_df['hashrate_diff'] = eda_df['hashrate'].diff()"
   ]
  },
  {
   "cell_type": "code",
   "execution_count": 42,
   "metadata": {},
   "outputs": [
    {
     "name": "stdout",
     "output_type": "stream",
     "text": [
      "[0]\ttrain-mlogloss:1.36414\teval-mlogloss:1.37045\n",
      "[1]\ttrain-mlogloss:1.34270\teval-mlogloss:1.35579\n",
      "[2]\ttrain-mlogloss:1.32253\teval-mlogloss:1.34182\n",
      "[3]\ttrain-mlogloss:1.30371\teval-mlogloss:1.32880\n",
      "[4]\ttrain-mlogloss:1.28599\teval-mlogloss:1.31665\n",
      "[5]\ttrain-mlogloss:1.26882\teval-mlogloss:1.30550\n",
      "[6]\ttrain-mlogloss:1.25301\teval-mlogloss:1.29479\n"
     ]
    },
    {
     "name": "stderr",
     "output_type": "stream",
     "text": [
      "c:\\Users\\com\\miniconda3\\Lib\\site-packages\\xgboost\\core.py:160: UserWarning:\n",
      "\n",
      "[23:40:01] WARNING: C:\\buildkite-agent\\builds\\buildkite-windows-cpu-autoscaling-group-i-0b3782d1791676daf-1\\xgboost\\xgboost-ci-windows\\src\\learner.cc:742: \n",
      "Parameters: { \"early_stopping_rounds\", \"verbose\" } are not used.\n",
      "\n",
      "\n"
     ]
    },
    {
     "name": "stdout",
     "output_type": "stream",
     "text": [
      "[7]\ttrain-mlogloss:1.23771\teval-mlogloss:1.28477\n",
      "[8]\ttrain-mlogloss:1.22286\teval-mlogloss:1.27571\n",
      "[9]\ttrain-mlogloss:1.20842\teval-mlogloss:1.26658\n",
      "[10]\ttrain-mlogloss:1.19483\teval-mlogloss:1.25829\n",
      "[11]\ttrain-mlogloss:1.18200\teval-mlogloss:1.25029\n",
      "[12]\ttrain-mlogloss:1.16932\teval-mlogloss:1.24315\n",
      "[13]\ttrain-mlogloss:1.15746\teval-mlogloss:1.23675\n",
      "[14]\ttrain-mlogloss:1.14614\teval-mlogloss:1.23039\n",
      "[15]\ttrain-mlogloss:1.13486\teval-mlogloss:1.22438\n",
      "[16]\ttrain-mlogloss:1.12421\teval-mlogloss:1.21844\n",
      "[17]\ttrain-mlogloss:1.11425\teval-mlogloss:1.21306\n",
      "[18]\ttrain-mlogloss:1.10501\teval-mlogloss:1.20806\n",
      "[19]\ttrain-mlogloss:1.09559\teval-mlogloss:1.20338\n",
      "[20]\ttrain-mlogloss:1.08660\teval-mlogloss:1.19898\n",
      "[21]\ttrain-mlogloss:1.07762\teval-mlogloss:1.19500\n",
      "[22]\ttrain-mlogloss:1.06899\teval-mlogloss:1.19097\n",
      "[23]\ttrain-mlogloss:1.06058\teval-mlogloss:1.18788\n",
      "[24]\ttrain-mlogloss:1.05264\teval-mlogloss:1.18488\n",
      "[25]\ttrain-mlogloss:1.04444\teval-mlogloss:1.18151\n",
      "[26]\ttrain-mlogloss:1.03694\teval-mlogloss:1.17899\n",
      "[27]\ttrain-mlogloss:1.02964\teval-mlogloss:1.17592\n",
      "[28]\ttrain-mlogloss:1.02248\teval-mlogloss:1.17308\n",
      "[29]\ttrain-mlogloss:1.01514\teval-mlogloss:1.17071\n",
      "[30]\ttrain-mlogloss:1.00881\teval-mlogloss:1.16833\n",
      "[31]\ttrain-mlogloss:1.00192\teval-mlogloss:1.16624\n",
      "[32]\ttrain-mlogloss:0.99558\teval-mlogloss:1.16392\n",
      "[33]\ttrain-mlogloss:0.98938\teval-mlogloss:1.16193\n",
      "[34]\ttrain-mlogloss:0.98325\teval-mlogloss:1.16008\n",
      "[35]\ttrain-mlogloss:0.97658\teval-mlogloss:1.15788\n",
      "[36]\ttrain-mlogloss:0.97067\teval-mlogloss:1.15622\n",
      "[37]\ttrain-mlogloss:0.96527\teval-mlogloss:1.15486\n",
      "[38]\ttrain-mlogloss:0.95987\teval-mlogloss:1.15303\n",
      "[39]\ttrain-mlogloss:0.95401\teval-mlogloss:1.15161\n",
      "[40]\ttrain-mlogloss:0.94821\teval-mlogloss:1.15068\n",
      "[41]\ttrain-mlogloss:0.94315\teval-mlogloss:1.14932\n",
      "[42]\ttrain-mlogloss:0.93810\teval-mlogloss:1.14808\n",
      "[43]\ttrain-mlogloss:0.93303\teval-mlogloss:1.14707\n",
      "[44]\ttrain-mlogloss:0.92801\teval-mlogloss:1.14605\n",
      "[45]\ttrain-mlogloss:0.92340\teval-mlogloss:1.14526\n",
      "[46]\ttrain-mlogloss:0.91865\teval-mlogloss:1.14414\n",
      "[47]\ttrain-mlogloss:0.91346\teval-mlogloss:1.14333\n",
      "[48]\ttrain-mlogloss:0.90854\teval-mlogloss:1.14278\n",
      "[49]\ttrain-mlogloss:0.90438\teval-mlogloss:1.14232\n",
      "[50]\ttrain-mlogloss:0.89977\teval-mlogloss:1.14136\n",
      "[51]\ttrain-mlogloss:0.89517\teval-mlogloss:1.14096\n",
      "[52]\ttrain-mlogloss:0.89060\teval-mlogloss:1.14017\n",
      "[53]\ttrain-mlogloss:0.88631\teval-mlogloss:1.13945\n",
      "[54]\ttrain-mlogloss:0.88253\teval-mlogloss:1.13888\n",
      "[55]\ttrain-mlogloss:0.87859\teval-mlogloss:1.13807\n",
      "[56]\ttrain-mlogloss:0.87436\teval-mlogloss:1.13768\n",
      "[57]\ttrain-mlogloss:0.87027\teval-mlogloss:1.13743\n",
      "[58]\ttrain-mlogloss:0.86588\teval-mlogloss:1.13742\n",
      "[59]\ttrain-mlogloss:0.86213\teval-mlogloss:1.13742\n",
      "[60]\ttrain-mlogloss:0.85845\teval-mlogloss:1.13700\n",
      "[61]\ttrain-mlogloss:0.85525\teval-mlogloss:1.13674\n",
      "[62]\ttrain-mlogloss:0.85153\teval-mlogloss:1.13661\n",
      "[63]\ttrain-mlogloss:0.84799\teval-mlogloss:1.13640\n",
      "[64]\ttrain-mlogloss:0.84424\teval-mlogloss:1.13611\n",
      "[65]\ttrain-mlogloss:0.84064\teval-mlogloss:1.13571\n",
      "[66]\ttrain-mlogloss:0.83748\teval-mlogloss:1.13564\n",
      "[67]\ttrain-mlogloss:0.83439\teval-mlogloss:1.13542\n",
      "[68]\ttrain-mlogloss:0.83067\teval-mlogloss:1.13549\n",
      "[69]\ttrain-mlogloss:0.82830\teval-mlogloss:1.13535\n",
      "[70]\ttrain-mlogloss:0.82480\teval-mlogloss:1.13503\n",
      "[71]\ttrain-mlogloss:0.82149\teval-mlogloss:1.13514\n",
      "[72]\ttrain-mlogloss:0.81819\teval-mlogloss:1.13513\n",
      "[73]\ttrain-mlogloss:0.81438\teval-mlogloss:1.13484\n",
      "[74]\ttrain-mlogloss:0.81151\teval-mlogloss:1.13477\n",
      "[75]\ttrain-mlogloss:0.80877\teval-mlogloss:1.13463\n",
      "[76]\ttrain-mlogloss:0.80599\teval-mlogloss:1.13420\n",
      "[77]\ttrain-mlogloss:0.80244\teval-mlogloss:1.13465\n",
      "[78]\ttrain-mlogloss:0.79992\teval-mlogloss:1.13467\n",
      "[79]\ttrain-mlogloss:0.79677\teval-mlogloss:1.13482\n",
      "[80]\ttrain-mlogloss:0.79433\teval-mlogloss:1.13466\n",
      "[81]\ttrain-mlogloss:0.79117\teval-mlogloss:1.13470\n",
      "[82]\ttrain-mlogloss:0.78814\teval-mlogloss:1.13451\n",
      "[83]\ttrain-mlogloss:0.78564\teval-mlogloss:1.13455\n",
      "[84]\ttrain-mlogloss:0.78267\teval-mlogloss:1.13468\n",
      "[85]\ttrain-mlogloss:0.77993\teval-mlogloss:1.13495\n",
      "훈련 정확도: 0.8164954337899544\n",
      "              precision    recall  f1-score   support\n",
      "\n",
      "           0       1.00      0.42      0.59       591\n",
      "           1       0.81      0.88      0.84      2866\n",
      "           2       0.79      0.91      0.85      2926\n",
      "           3       0.99      0.49      0.66       625\n",
      "\n",
      "    accuracy                           0.82      7008\n",
      "   macro avg       0.90      0.67      0.73      7008\n",
      "weighted avg       0.83      0.82      0.81      7008\n",
      "\n",
      "검증 정확도: 0.430365296803653\n",
      "              precision    recall  f1-score   support\n",
      "\n",
      "           0       0.30      0.07      0.11       149\n",
      "           1       0.41      0.49      0.45       678\n",
      "           2       0.45      0.54      0.49       745\n",
      "           3       0.39      0.07      0.12       180\n",
      "\n",
      "    accuracy                           0.43      1752\n",
      "   macro avg       0.39      0.29      0.29      1752\n",
      "weighted avg       0.42      0.43      0.40      1752\n",
      "\n"
     ]
    }
   ],
   "source": [
    "import xgboost as xgb\n",
    "from sklearn.metrics import accuracy_score, classification_report\n",
    "from sklearn.model_selection import train_test_split\n",
    "\n",
    "# _type에 따라 train, test 분리\n",
    "train_df = eda_df.loc[eda_df[\"_type\"] == \"train\"].drop(columns=[\"_type\"])\n",
    "test_df = eda_df.loc[eda_df[\"_type\"] == \"test\"].drop(columns=[\"_type\"])\n",
    "\n",
    "# train_test_split 으로 valid set, train set 분리\n",
    "x_train, x_valid, y_train, y_valid = train_test_split(\n",
    "    train_df.drop([\"target\", \"ID\"], axis=1),\n",
    "    train_df[\"target\"].astype(int),\n",
    "    test_size=0.2,\n",
    "    random_state=42,\n",
    ")\n",
    "\n",
    "# XGBoost 모델을 위한 DMatrix로 변환\n",
    "dtrain = xgb.DMatrix(x_train, label=y_train)\n",
    "dvalid = xgb.DMatrix(x_valid, label=y_valid)\n",
    "\n",
    "# XGBoost 모델 학습 파라미터\n",
    "params = config[\"xgboost\"]\n",
    "params[\"objective\"] = \"multi:softprob\"  # 다중 클래스 분류를 위한 설정\n",
    "params[\"num_class\"] = len(y_train.unique())  # 클래스 개수\n",
    "params[\"eval_metric\"] = \"mlogloss\"  # 손실 함수 (멀티클래스 로지스틱 손실)\n",
    "\n",
    "# 학습 시 평가 데이터로 검증 셋 사용\n",
    "evals = [(dtrain, \"train\"), (dvalid, \"eval\")]\n",
    "\n",
    "# XGBoost 모델 훈련\n",
    "xgb_model = xgb.train(\n",
    "    params=params,\n",
    "    dtrain=dtrain,\n",
    "    num_boost_round=100,  # 트리의 개수\n",
    "    evals=evals,\n",
    "    early_stopping_rounds=10  # 조기 중단\n",
    ")\n",
    "\n",
    "# 예측 (훈련 데이터셋)\n",
    "y_train_pred_prob = xgb_model.predict(dtrain)\n",
    "y_train_pred = y_train_pred_prob.argmax(axis=1)\n",
    "\n",
    "# 예측 (검증 데이터셋)\n",
    "y_valid_pred_prob = xgb_model.predict(dvalid)\n",
    "y_valid_pred = y_valid_pred_prob.argmax(axis=1)\n",
    "\n",
    "# 성능 평가 (훈련 데이터셋)\n",
    "train_accuracy = accuracy_score(y_train, y_train_pred)\n",
    "train_classification_rep = classification_report(y_train, y_train_pred)\n",
    "\n",
    "# 성능 평가 (검증 데이터셋)\n",
    "valid_accuracy = accuracy_score(y_valid, y_valid_pred)\n",
    "valid_classification_rep = classification_report(y_valid, y_valid_pred)\n",
    "\n",
    "print(f\"훈련 정확도: {train_accuracy}\")\n",
    "print(train_classification_rep)\n",
    "print(f\"검증 정확도: {valid_accuracy}\")\n",
    "print(valid_classification_rep)"
   ]
  }
 ],
 "metadata": {
  "kernelspec": {
   "display_name": "base",
   "language": "python",
   "name": "python3"
  },
  "language_info": {
   "codemirror_mode": {
    "name": "ipython",
    "version": 3
   },
   "file_extension": ".py",
   "mimetype": "text/x-python",
   "name": "python",
   "nbconvert_exporter": "python",
   "pygments_lexer": "ipython3",
   "version": "3.12.5"
  }
 },
 "nbformat": 4,
 "nbformat_minor": 2
}
