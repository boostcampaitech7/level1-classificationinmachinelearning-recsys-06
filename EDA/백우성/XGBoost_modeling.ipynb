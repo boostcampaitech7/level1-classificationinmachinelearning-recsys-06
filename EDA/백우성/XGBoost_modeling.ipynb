{
 "cells": [
  {
   "cell_type": "code",
   "execution_count": 1,
   "metadata": {},
   "outputs": [
    {
     "name": "stdout",
     "output_type": "stream",
     "text": [
      "c:\\Users\\com\\Documents\\GitHub\\level1-classificationinmachinelearning-recsys-06\n"
     ]
    }
   ],
   "source": [
    "import os\n",
    "import sys\n",
    "from typing import List, Dict\n",
    "\n",
    "import lightgbm as lgb\n",
    "import numpy as np\n",
    "import pandas as pd\n",
    "import plotly.graph_objects as go\n",
    "from plotly.subplots import make_subplots\n",
    "from sklearn.metrics import accuracy_score, roc_auc_score\n",
    "from sklearn.model_selection import train_test_split\n",
    "\n",
    "# Code 경로 추가\n",
    "sys.path.append(os.path.dirname(os.path.dirname(os.path.abspath(\"\"))))\n",
    "print(sys.path[-1])"
   ]
  },
  {
   "cell_type": "code",
   "execution_count": 2,
   "metadata": {},
   "outputs": [],
   "source": [
    "# 파일 호출\n",
    "data_path: str = \"../../data\"\n",
    "## raw.csv가 없는 경우 실행\n",
    "# from Code.dataset.merge_all import merge_all\n",
    "# df = merge_all(data_path)\n",
    "df: pd.DataFrame = pd.read_csv(os.path.join(data_path, \"scaled_eda2.csv\"))\n",
    "submission_df: pd.DataFrame = pd.read_csv(os.path.join(data_path, \"test.csv\"))  # ID, target 열만 가진 데이터 미리 호출"
   ]
  },
  {
   "cell_type": "code",
   "execution_count": 3,
   "metadata": {},
   "outputs": [],
   "source": [
    "# 파일 호출\n",
    "data_path: str = \"../../data\"\n",
    "## raw.csv가 없는 경우 실행\n",
    "# from Code.dataset.merge_all import merge_all\n",
    "# df = merge_all(data_path)\n",
    "df: pd.DataFrame = pd.read_csv(os.path.join(data_path, \"scaled_eda2.csv\"))\n",
    "submission_df: pd.DataFrame = pd.read_csv(os.path.join(data_path, \"test.csv\"))  # ID, target 열만 가진 데이터 미리 호출\n"
   ]
  },
  {
   "cell_type": "code",
   "execution_count": 4,
   "metadata": {},
   "outputs": [],
   "source": [
    "from imblearn.over_sampling import SMOTE, BorderlineSMOTE, ADASYN, SVMSMOTE\n",
    "\n",
    "def get_over_sampler(x_train, y_train, strategy='ADASYN', sampling_strategy='auto'):\n",
    "    if strategy == 'SMOTE':\n",
    "        sampler = SMOTE(sampling_strategy=sampling_strategy)\n",
    "    elif strategy == 'BorderlineSMOTE':\n",
    "        sampler = BorderlineSMOTE(sampling_strategy=sampling_strategy)\n",
    "    elif strategy == 'ADASYN':\n",
    "        sampler = ADASYN(sampling_strategy=sampling_strategy)\n",
    "    elif strategy == 'SVMSMOTE':\n",
    "        sampler = SVMSMOTE(sampling_strategy=sampling_strategy)\n",
    "    else:\n",
    "        raise ValueError(f\"Unknown strategy: {strategy}\")\n",
    "\n",
    "    x_resampled, y_resampled = sampler.fit_resample(x_train, y_train)\n",
    "    return x_resampled, y_resampled"
   ]
  },
  {
   "cell_type": "code",
   "execution_count": 26,
   "metadata": {},
   "outputs": [
    {
     "data": {
      "text/plain": [
       "Index(['ID', '_type', 'target', 'scaled_log_hashrate',\n",
       "       'scaled_log_open_interest', 'scaled_log_coinbase_premium_index',\n",
       "       'scaled_funding_rates', 'scaled_estimated_block_reward',\n",
       "       'scaled_liquidation_diff', 'scaled_log_total_liquidation',\n",
       "       'scaled_log_total_taker_volume', 'scaled_utxo_count',\n",
       "       'scaled_total_transactions_count', 'taker_buy_sell_ratio',\n",
       "       'moving_avg_scaled_log_total_volume', 'open_interest_diff',\n",
       "       'network_activity_ratio_diff', 'average_transaction_value_diff',\n",
       "       'network_load_diff', 'fee_burden_diff', 'market_pressure_diff',\n",
       "       'liquidation_risk_diff'],\n",
       "      dtype='object')"
      ]
     },
     "execution_count": 26,
     "metadata": {},
     "output_type": "execute_result"
    }
   ],
   "source": [
    "#diff_df = pd.read_csv('eda_df2.csv')\n",
    "new_feauture = pd.read_csv('new_feature.csv')\n",
    "new_df = pd.concat([df, new_feauture.drop(columns=['Unnamed: 0','ID'])], axis=1)\n",
    "#new_df = pd.concat([new_df, diff_df], axis=1)\n",
    "new_df.columns"
   ]
  },
  {
   "cell_type": "code",
   "execution_count": 27,
   "metadata": {},
   "outputs": [],
   "source": [
    "new_df2 = new_df.drop(columns=[\n",
    "    'network_activity_ratio_diff', # 0.437\n",
    "    #'average_transaction_value_diff',\n",
    "    #'network_load_diff',\n",
    "    'fee_burden_diff',\n",
    "    #'market_pressure_diff', #0.4355\n",
    "    #'liquidation_risk_diff'\n",
    "    ],inplace=False)"
   ]
  },
  {
   "cell_type": "code",
   "execution_count": 21,
   "metadata": {},
   "outputs": [],
   "source": [
    "new_df3 = new_df.drop(columns=[\n",
    "    'network_activity_ratio_diff', # 0.437\n",
    "    #'average_transaction_value_diff',\n",
    "    #'network_load_diff',\n",
    "    'fee_burden_diff',\n",
    "    #'market_pressure_diff', #0.4355\n",
    "    #'liquidation_risk_diff'\n",
    "    #'open_interest_diff',\n",
    "    'bsr_diff', #0.417\n",
    "    'bsr_ma_diff', #0.416\n",
    "    'tv_diff', #0.414\n",
    "    'tv_ma_diff', #0.433\n",
    "    'fr_diff', #0.416 0.434\n",
    "    'fr_ma_diff' #0.417\n",
    "    ],inplace=False)"
   ]
  },
  {
   "cell_type": "code",
   "execution_count": 28,
   "metadata": {},
   "outputs": [
    {
     "name": "stdout",
     "output_type": "stream",
     "text": [
      "최적 부스팅 라운드 수: 200\n",
      "     train-mlogloss-mean  train-mlogloss-std  test-mlogloss-mean  \\\n",
      "195             0.972077            0.003553            1.163700   \n",
      "196             0.970873            0.003565            1.163238   \n",
      "197             0.969728            0.003548            1.162849   \n",
      "198             0.968550            0.003568            1.162394   \n",
      "199             0.967391            0.003608            1.161960   \n",
      "\n",
      "     test-mlogloss-std  \n",
      "195           0.008732  \n",
      "196           0.008771  \n",
      "197           0.008804  \n",
      "198           0.008785  \n",
      "199           0.008807  \n",
      "[0]\ttrain-mlogloss:1.38253\teval-mlogloss:1.38359\n",
      "[1]\ttrain-mlogloss:1.37885\teval-mlogloss:1.38078\n",
      "[2]\ttrain-mlogloss:1.37524\teval-mlogloss:1.37818\n",
      "[3]\ttrain-mlogloss:1.37162\teval-mlogloss:1.37551\n",
      "[4]\ttrain-mlogloss:1.36797\teval-mlogloss:1.37272\n",
      "[5]\ttrain-mlogloss:1.36441\teval-mlogloss:1.37005\n",
      "[6]\ttrain-mlogloss:1.36075\teval-mlogloss:1.36755\n",
      "[7]\ttrain-mlogloss:1.35740\teval-mlogloss:1.36512\n",
      "[8]\ttrain-mlogloss:1.35395\teval-mlogloss:1.36253\n",
      "[9]\ttrain-mlogloss:1.35037\teval-mlogloss:1.36016\n",
      "[10]\ttrain-mlogloss:1.34708\teval-mlogloss:1.35762\n",
      "[11]\ttrain-mlogloss:1.34369\teval-mlogloss:1.35525\n",
      "[12]\ttrain-mlogloss:1.34029\teval-mlogloss:1.35291\n",
      "[13]\ttrain-mlogloss:1.33698\teval-mlogloss:1.35049\n",
      "[14]\ttrain-mlogloss:1.33362\teval-mlogloss:1.34809\n",
      "[15]\ttrain-mlogloss:1.33018\teval-mlogloss:1.34581\n",
      "[16]\ttrain-mlogloss:1.32682\teval-mlogloss:1.34343\n",
      "[17]\ttrain-mlogloss:1.32385\teval-mlogloss:1.34124\n",
      "[18]\ttrain-mlogloss:1.32082\teval-mlogloss:1.33903\n",
      "[19]\ttrain-mlogloss:1.31767\teval-mlogloss:1.33687\n",
      "[20]\ttrain-mlogloss:1.31443\teval-mlogloss:1.33482\n",
      "[21]\ttrain-mlogloss:1.31117\teval-mlogloss:1.33271\n",
      "[22]\ttrain-mlogloss:1.30810\teval-mlogloss:1.33051\n",
      "[23]\ttrain-mlogloss:1.30508\teval-mlogloss:1.32851\n",
      "[24]\ttrain-mlogloss:1.30213\teval-mlogloss:1.32641\n",
      "[25]\ttrain-mlogloss:1.29917\teval-mlogloss:1.32439\n",
      "[26]\ttrain-mlogloss:1.29623\teval-mlogloss:1.32235\n",
      "[27]\ttrain-mlogloss:1.29330\teval-mlogloss:1.32025\n",
      "[28]\ttrain-mlogloss:1.29033\teval-mlogloss:1.31823\n",
      "[29]\ttrain-mlogloss:1.28744\teval-mlogloss:1.31636\n",
      "[30]\ttrain-mlogloss:1.28453\teval-mlogloss:1.31441\n",
      "[31]\ttrain-mlogloss:1.28157\teval-mlogloss:1.31253\n",
      "[32]\ttrain-mlogloss:1.27874\teval-mlogloss:1.31057\n",
      "[33]\ttrain-mlogloss:1.27605\teval-mlogloss:1.30874\n",
      "[34]\ttrain-mlogloss:1.27324\teval-mlogloss:1.30689\n",
      "[35]\ttrain-mlogloss:1.27048\teval-mlogloss:1.30500\n",
      "[36]\ttrain-mlogloss:1.26780\teval-mlogloss:1.30320\n",
      "[37]\ttrain-mlogloss:1.26519\teval-mlogloss:1.30148\n",
      "[38]\ttrain-mlogloss:1.26243\teval-mlogloss:1.29979\n",
      "[39]\ttrain-mlogloss:1.25971\teval-mlogloss:1.29803\n",
      "[40]\ttrain-mlogloss:1.25715\teval-mlogloss:1.29629\n",
      "[41]\ttrain-mlogloss:1.25452\teval-mlogloss:1.29454\n",
      "[42]\ttrain-mlogloss:1.25202\teval-mlogloss:1.29292\n",
      "[43]\ttrain-mlogloss:1.24952\teval-mlogloss:1.29126\n",
      "[44]\ttrain-mlogloss:1.24693\teval-mlogloss:1.28965\n",
      "[45]\ttrain-mlogloss:1.24435\teval-mlogloss:1.28796\n",
      "[46]\ttrain-mlogloss:1.24176\teval-mlogloss:1.28632\n",
      "[47]\ttrain-mlogloss:1.23925\teval-mlogloss:1.28479\n",
      "[48]\ttrain-mlogloss:1.23681\teval-mlogloss:1.28326\n",
      "[49]\ttrain-mlogloss:1.23436\teval-mlogloss:1.28165\n",
      "[50]\ttrain-mlogloss:1.23190\teval-mlogloss:1.28009\n",
      "[51]\ttrain-mlogloss:1.22952\teval-mlogloss:1.27853\n",
      "[52]\ttrain-mlogloss:1.22709\teval-mlogloss:1.27708\n",
      "[53]\ttrain-mlogloss:1.22469\teval-mlogloss:1.27557\n",
      "[54]\ttrain-mlogloss:1.22231\teval-mlogloss:1.27411\n",
      "[55]\ttrain-mlogloss:1.21985\teval-mlogloss:1.27265\n",
      "[56]\ttrain-mlogloss:1.21741\teval-mlogloss:1.27119\n",
      "[57]\ttrain-mlogloss:1.21506\teval-mlogloss:1.26962\n",
      "[58]\ttrain-mlogloss:1.21263\teval-mlogloss:1.26821\n",
      "[59]\ttrain-mlogloss:1.21031\teval-mlogloss:1.26685\n",
      "[60]\ttrain-mlogloss:1.20794\teval-mlogloss:1.26551\n",
      "[61]\ttrain-mlogloss:1.20575\teval-mlogloss:1.26415\n",
      "[62]\ttrain-mlogloss:1.20338\teval-mlogloss:1.26270\n",
      "[63]\ttrain-mlogloss:1.20112\teval-mlogloss:1.26146\n",
      "[64]\ttrain-mlogloss:1.19893\teval-mlogloss:1.26014\n",
      "[65]\ttrain-mlogloss:1.19666\teval-mlogloss:1.25886\n",
      "[66]\ttrain-mlogloss:1.19448\teval-mlogloss:1.25757\n",
      "[67]\ttrain-mlogloss:1.19232\teval-mlogloss:1.25624\n",
      "[68]\ttrain-mlogloss:1.19012\teval-mlogloss:1.25491\n",
      "[69]\ttrain-mlogloss:1.18799\teval-mlogloss:1.25363\n",
      "[70]\ttrain-mlogloss:1.18582\teval-mlogloss:1.25245\n",
      "[71]\ttrain-mlogloss:1.18360\teval-mlogloss:1.25118\n",
      "[72]\ttrain-mlogloss:1.18151\teval-mlogloss:1.24999\n",
      "[73]\ttrain-mlogloss:1.17942\teval-mlogloss:1.24884\n",
      "[74]\ttrain-mlogloss:1.17737\teval-mlogloss:1.24767\n",
      "[75]\ttrain-mlogloss:1.17531\teval-mlogloss:1.24655\n",
      "[76]\ttrain-mlogloss:1.17322\teval-mlogloss:1.24546\n",
      "[77]\ttrain-mlogloss:1.17111\teval-mlogloss:1.24432\n",
      "[78]\ttrain-mlogloss:1.16910\teval-mlogloss:1.24320\n",
      "[79]\ttrain-mlogloss:1.16708\teval-mlogloss:1.24202\n",
      "[80]\ttrain-mlogloss:1.16505\teval-mlogloss:1.24086\n",
      "[81]\ttrain-mlogloss:1.16298\teval-mlogloss:1.23967\n",
      "[82]\ttrain-mlogloss:1.16102\teval-mlogloss:1.23860\n",
      "[83]\ttrain-mlogloss:1.15902\teval-mlogloss:1.23754\n",
      "[84]\ttrain-mlogloss:1.15710\teval-mlogloss:1.23652\n",
      "[85]\ttrain-mlogloss:1.15522\teval-mlogloss:1.23543\n",
      "[86]\ttrain-mlogloss:1.15339\teval-mlogloss:1.23449\n",
      "[87]\ttrain-mlogloss:1.15148\teval-mlogloss:1.23327\n",
      "[88]\ttrain-mlogloss:1.14951\teval-mlogloss:1.23220\n",
      "[89]\ttrain-mlogloss:1.14767\teval-mlogloss:1.23131\n",
      "[90]\ttrain-mlogloss:1.14583\teval-mlogloss:1.23037\n",
      "[91]\ttrain-mlogloss:1.14387\teval-mlogloss:1.22938\n",
      "[92]\ttrain-mlogloss:1.14197\teval-mlogloss:1.22839\n",
      "[93]\ttrain-mlogloss:1.14014\teval-mlogloss:1.22738\n",
      "[94]\ttrain-mlogloss:1.13829\teval-mlogloss:1.22646\n",
      "[95]\ttrain-mlogloss:1.13647\teval-mlogloss:1.22548\n",
      "[96]\ttrain-mlogloss:1.13455\teval-mlogloss:1.22454\n",
      "[97]\ttrain-mlogloss:1.13288\teval-mlogloss:1.22364\n",
      "[98]\ttrain-mlogloss:1.13109\teval-mlogloss:1.22259\n",
      "[99]\ttrain-mlogloss:1.12921\teval-mlogloss:1.22161\n",
      "[100]\ttrain-mlogloss:1.12750\teval-mlogloss:1.22079\n",
      "[101]\ttrain-mlogloss:1.12567\teval-mlogloss:1.21988\n",
      "[102]\ttrain-mlogloss:1.12393\teval-mlogloss:1.21901\n",
      "[103]\ttrain-mlogloss:1.12222\teval-mlogloss:1.21813\n",
      "[104]\ttrain-mlogloss:1.12046\teval-mlogloss:1.21731\n",
      "[105]\ttrain-mlogloss:1.11877\teval-mlogloss:1.21644\n",
      "[106]\ttrain-mlogloss:1.11712\teval-mlogloss:1.21559\n",
      "[107]\ttrain-mlogloss:1.11537\teval-mlogloss:1.21472\n",
      "[108]\ttrain-mlogloss:1.11353\teval-mlogloss:1.21388\n",
      "[109]\ttrain-mlogloss:1.11173\teval-mlogloss:1.21304\n",
      "[110]\ttrain-mlogloss:1.11005\teval-mlogloss:1.21225\n",
      "[111]\ttrain-mlogloss:1.10837\teval-mlogloss:1.21133\n",
      "[112]\ttrain-mlogloss:1.10665\teval-mlogloss:1.21052\n",
      "[113]\ttrain-mlogloss:1.10504\teval-mlogloss:1.20975\n",
      "[114]\ttrain-mlogloss:1.10348\teval-mlogloss:1.20897\n",
      "[115]\ttrain-mlogloss:1.10193\teval-mlogloss:1.20822\n",
      "[116]\ttrain-mlogloss:1.10035\teval-mlogloss:1.20740\n",
      "[117]\ttrain-mlogloss:1.09879\teval-mlogloss:1.20667\n",
      "[118]\ttrain-mlogloss:1.09726\teval-mlogloss:1.20591\n",
      "[119]\ttrain-mlogloss:1.09575\teval-mlogloss:1.20514\n",
      "[120]\ttrain-mlogloss:1.09410\teval-mlogloss:1.20431\n",
      "[121]\ttrain-mlogloss:1.09251\teval-mlogloss:1.20362\n",
      "[122]\ttrain-mlogloss:1.09098\teval-mlogloss:1.20292\n",
      "[123]\ttrain-mlogloss:1.08941\teval-mlogloss:1.20222\n",
      "[124]\ttrain-mlogloss:1.08793\teval-mlogloss:1.20152\n",
      "[125]\ttrain-mlogloss:1.08629\teval-mlogloss:1.20076\n",
      "[126]\ttrain-mlogloss:1.08476\teval-mlogloss:1.20004\n",
      "[127]\ttrain-mlogloss:1.08320\teval-mlogloss:1.19936\n",
      "[128]\ttrain-mlogloss:1.08158\teval-mlogloss:1.19883\n",
      "[129]\ttrain-mlogloss:1.08007\teval-mlogloss:1.19807\n",
      "[130]\ttrain-mlogloss:1.07854\teval-mlogloss:1.19740\n",
      "[131]\ttrain-mlogloss:1.07700\teval-mlogloss:1.19671\n",
      "[132]\ttrain-mlogloss:1.07544\teval-mlogloss:1.19600\n",
      "[133]\ttrain-mlogloss:1.07396\teval-mlogloss:1.19541\n",
      "[134]\ttrain-mlogloss:1.07248\teval-mlogloss:1.19471\n",
      "[135]\ttrain-mlogloss:1.07098\teval-mlogloss:1.19402\n",
      "[136]\ttrain-mlogloss:1.06956\teval-mlogloss:1.19341\n",
      "[137]\ttrain-mlogloss:1.06817\teval-mlogloss:1.19291\n",
      "[138]\ttrain-mlogloss:1.06672\teval-mlogloss:1.19224\n",
      "[139]\ttrain-mlogloss:1.06527\teval-mlogloss:1.19164\n",
      "[140]\ttrain-mlogloss:1.06375\teval-mlogloss:1.19099\n",
      "[141]\ttrain-mlogloss:1.06244\teval-mlogloss:1.19040\n",
      "[142]\ttrain-mlogloss:1.06103\teval-mlogloss:1.18977\n",
      "[143]\ttrain-mlogloss:1.05963\teval-mlogloss:1.18919\n",
      "[144]\ttrain-mlogloss:1.05836\teval-mlogloss:1.18860\n",
      "[145]\ttrain-mlogloss:1.05693\teval-mlogloss:1.18805\n",
      "[146]\ttrain-mlogloss:1.05544\teval-mlogloss:1.18746\n",
      "[147]\ttrain-mlogloss:1.05407\teval-mlogloss:1.18697\n",
      "[148]\ttrain-mlogloss:1.05265\teval-mlogloss:1.18639\n",
      "[149]\ttrain-mlogloss:1.05128\teval-mlogloss:1.18591\n",
      "[150]\ttrain-mlogloss:1.04979\teval-mlogloss:1.18544\n",
      "[151]\ttrain-mlogloss:1.04850\teval-mlogloss:1.18483\n",
      "[152]\ttrain-mlogloss:1.04701\teval-mlogloss:1.18435\n",
      "[153]\ttrain-mlogloss:1.04572\teval-mlogloss:1.18385\n",
      "[154]\ttrain-mlogloss:1.04432\teval-mlogloss:1.18334\n",
      "[155]\ttrain-mlogloss:1.04296\teval-mlogloss:1.18271\n",
      "[156]\ttrain-mlogloss:1.04159\teval-mlogloss:1.18220\n",
      "[157]\ttrain-mlogloss:1.04022\teval-mlogloss:1.18161\n",
      "[158]\ttrain-mlogloss:1.03896\teval-mlogloss:1.18116\n",
      "[159]\ttrain-mlogloss:1.03760\teval-mlogloss:1.18071\n",
      "[160]\ttrain-mlogloss:1.03628\teval-mlogloss:1.18019\n",
      "[161]\ttrain-mlogloss:1.03496\teval-mlogloss:1.17975\n",
      "[162]\ttrain-mlogloss:1.03358\teval-mlogloss:1.17924\n",
      "[163]\ttrain-mlogloss:1.03227\teval-mlogloss:1.17871\n",
      "[164]\ttrain-mlogloss:1.03102\teval-mlogloss:1.17832\n",
      "[165]\ttrain-mlogloss:1.02967\teval-mlogloss:1.17778\n",
      "[166]\ttrain-mlogloss:1.02844\teval-mlogloss:1.17731\n",
      "[167]\ttrain-mlogloss:1.02717\teval-mlogloss:1.17689\n",
      "[168]\ttrain-mlogloss:1.02598\teval-mlogloss:1.17644\n",
      "[169]\ttrain-mlogloss:1.02476\teval-mlogloss:1.17603\n",
      "[170]\ttrain-mlogloss:1.02351\teval-mlogloss:1.17557\n",
      "[171]\ttrain-mlogloss:1.02233\teval-mlogloss:1.17516\n",
      "[172]\ttrain-mlogloss:1.02106\teval-mlogloss:1.17470\n",
      "[173]\ttrain-mlogloss:1.01982\teval-mlogloss:1.17439\n",
      "[174]\ttrain-mlogloss:1.01850\teval-mlogloss:1.17386\n",
      "[175]\ttrain-mlogloss:1.01729\teval-mlogloss:1.17340\n",
      "[176]\ttrain-mlogloss:1.01610\teval-mlogloss:1.17298\n",
      "[177]\ttrain-mlogloss:1.01493\teval-mlogloss:1.17259\n",
      "[178]\ttrain-mlogloss:1.01365\teval-mlogloss:1.17210\n",
      "[179]\ttrain-mlogloss:1.01239\teval-mlogloss:1.17157\n",
      "[180]\ttrain-mlogloss:1.01112\teval-mlogloss:1.17118\n",
      "[181]\ttrain-mlogloss:1.00998\teval-mlogloss:1.17074\n",
      "[182]\ttrain-mlogloss:1.00869\teval-mlogloss:1.17029\n",
      "[183]\ttrain-mlogloss:1.00751\teval-mlogloss:1.16990\n",
      "[184]\ttrain-mlogloss:1.00626\teval-mlogloss:1.16951\n",
      "[185]\ttrain-mlogloss:1.00507\teval-mlogloss:1.16917\n",
      "[186]\ttrain-mlogloss:1.00394\teval-mlogloss:1.16885\n",
      "[187]\ttrain-mlogloss:1.00267\teval-mlogloss:1.16843\n",
      "[188]\ttrain-mlogloss:1.00161\teval-mlogloss:1.16798\n",
      "[189]\ttrain-mlogloss:1.00043\teval-mlogloss:1.16766\n",
      "[190]\ttrain-mlogloss:0.99925\teval-mlogloss:1.16729\n",
      "[191]\ttrain-mlogloss:0.99808\teval-mlogloss:1.16690\n",
      "[192]\ttrain-mlogloss:0.99688\teval-mlogloss:1.16643\n",
      "[193]\ttrain-mlogloss:0.99582\teval-mlogloss:1.16606\n",
      "[194]\ttrain-mlogloss:0.99452\teval-mlogloss:1.16571\n",
      "[195]\ttrain-mlogloss:0.99352\teval-mlogloss:1.16523\n",
      "[196]\ttrain-mlogloss:0.99245\teval-mlogloss:1.16493\n",
      "[197]\ttrain-mlogloss:0.99139\teval-mlogloss:1.16462\n",
      "[198]\ttrain-mlogloss:0.99042\teval-mlogloss:1.16424\n",
      "[199]\ttrain-mlogloss:0.98936\teval-mlogloss:1.16382\n",
      "훈련 정확도: 0.745959855892949\n",
      "              precision    recall  f1-score   support\n",
      "\n",
      "           0       0.98      0.30      0.46      1000\n",
      "           1       0.76      0.81      0.78      3544\n",
      "           2       0.70      0.89      0.78      3671\n",
      "           3       0.88      0.54      0.67      1500\n",
      "\n",
      "    accuracy                           0.75      9715\n",
      "   macro avg       0.83      0.64      0.67      9715\n",
      "weighted avg       0.78      0.75      0.73      9715\n",
      "\n",
      "검증 정확도: 0.4400684931506849\n",
      "              precision    recall  f1-score   support\n",
      "\n",
      "           0       0.12      0.01      0.02       149\n",
      "           1       0.43      0.45      0.44       678\n",
      "           2       0.47      0.58      0.52       745\n",
      "           3       0.30      0.15      0.20       180\n",
      "\n",
      "    accuracy                           0.44      1752\n",
      "   macro avg       0.33      0.30      0.30      1752\n",
      "weighted avg       0.41      0.44      0.41      1752\n",
      "\n"
     ]
    }
   ],
   "source": [
    "# 제준님이 주신 새로운 피쳐들 사용 (하이퍼 파라미터 적용)\n",
    "\n",
    "import xgboost as xgb\n",
    "from imblearn.over_sampling import SMOTE\n",
    "from sklearn.metrics import accuracy_score, classification_report\n",
    "from sklearn.model_selection import train_test_split\n",
    "\n",
    "# _type에 따라 train, test 분리\n",
    "train_df = new_df2.loc[new_df2[\"_type\"] == \"train\"].drop(columns=[\"_type\"])\n",
    "train_df = train_df.ffill()\n",
    "test_df = new_df2.loc[new_df2[\"_type\"] == \"test\"].drop(columns=[\"_type\"])\n",
    "\n",
    "# train_test_split 으로 valid set, train set 분리\n",
    "x_train, x_valid, y_train, y_valid = train_test_split(\n",
    "    train_df.drop([\"target\", \"ID\"], axis=1),\n",
    "    train_df[\"target\"].astype(int),\n",
    "    test_size=0.2,\n",
    "    random_state=42,\n",
    ")\n",
    "\n",
    "# SMOTE를 이용한 오버샘플링\n",
    "sampling_strategy = {0: 1000, 1: 3544, 2: 3671, 3: 1500}\n",
    "smote = SMOTE(sampling_strategy=sampling_strategy, random_state=42)\n",
    "x_train_resampled, y_train_resampled = smote.fit_resample(x_train, y_train)\n",
    "\n",
    "# XGBoost 모델을 위한 DMatrix로 변환\n",
    "dtrain = xgb.DMatrix(x_train_resampled, label=y_train_resampled)\n",
    "dvalid = xgb.DMatrix(x_valid, label=y_valid)\n",
    "\n",
    "# XGBoost 모델 학습 파라미터\n",
    "params = {\n",
    "    \"objective\": \"multi:softprob\",  # 다중 클래스 분류\n",
    "    \"num_class\": len(y_train_resampled.unique()),  # 클래스 개수\n",
    "    \"eval_metric\": \"mlogloss\",  # 손실 함수 (멀티클래스 로지스틱 손실)\n",
    "    \"max_depth\": 7,\n",
    "    \"learning_rate\": 0.01,\n",
    "    \"subsample\": 0.8,\n",
    "    \"colsample_bytree\": 0.8,\n",
    "    \"seed\": 42\n",
    "}\n",
    "\n",
    "# 교차 검증 설정 (5-fold)\n",
    "cv_results = xgb.cv(\n",
    "    params=params,\n",
    "    dtrain=dtrain,\n",
    "    num_boost_round=200,\n",
    "    nfold=5,\n",
    "    early_stopping_rounds=10,\n",
    "    metrics=\"mlogloss\",\n",
    "    as_pandas=True,\n",
    "    seed=42\n",
    ")\n",
    "\n",
    "# 최적의 부스팅 라운드 수 확인\n",
    "best_num_boost_rounds = len(cv_results)\n",
    "\n",
    "# 교차 검증 결과 출력\n",
    "print(\"최적 부스팅 라운드 수:\", best_num_boost_rounds)\n",
    "print(cv_results.tail())\n",
    "\n",
    "# 최적의 부스팅 라운드로 모델 학습\n",
    "xgb_model = xgb.train(\n",
    "    params=params,\n",
    "    dtrain=dtrain,\n",
    "    num_boost_round=best_num_boost_rounds,\n",
    "    evals=[(dtrain, \"train\"), (dvalid, \"eval\")],\n",
    "    early_stopping_rounds=10\n",
    ")\n",
    "\n",
    "# 예측 (훈련 데이터셋)\n",
    "y_train_pred_prob = xgb_model.predict(dtrain)\n",
    "y_train_pred = y_train_pred_prob.argmax(axis=1)\n",
    "\n",
    "# 예측 (검증 데이터셋)\n",
    "y_valid_pred_prob = xgb_model.predict(dvalid)\n",
    "y_valid_pred = y_valid_pred_prob.argmax(axis=1)\n",
    "\n",
    "# 성능 평가 (훈련 데이터셋)\n",
    "train_accuracy = accuracy_score(y_train_resampled, y_train_pred)\n",
    "train_classification_rep = classification_report(y_train_resampled, y_train_pred)\n",
    "\n",
    "# 성능 평가 (검증 데이터셋)\n",
    "valid_accuracy = accuracy_score(y_valid, y_valid_pred)\n",
    "valid_classification_rep = classification_report(y_valid, y_valid_pred)\n",
    "\n",
    "# 결과 출력\n",
    "print(f\"훈련 정확도: {train_accuracy}\")\n",
    "print(train_classification_rep)\n",
    "print(f\"검증 정확도: {valid_accuracy}\")\n",
    "print(valid_classification_rep)\n"
   ]
  },
  {
   "cell_type": "code",
   "execution_count": 16,
   "metadata": {},
   "outputs": [
    {
     "data": {
      "application/vnd.plotly.v1+json": {
       "config": {
        "plotlyServerURL": "https://plot.ly"
       },
       "data": [
        {
         "alignmentgroup": "True",
         "hovertemplate": "Feature=%{x}<br>Importance=%{y}<extra></extra>",
         "legendgroup": "",
         "marker": {
          "color": "#636efa",
          "pattern": {
           "shape": ""
          }
         },
         "name": "",
         "offsetgroup": "",
         "orientation": "v",
         "showlegend": false,
         "textposition": "auto",
         "type": "bar",
         "x": [
          "open_interest_diff",
          "scaled_log_coinbase_premium_index",
          "average_transaction_value_diff",
          "taker_buy_sell_ratio",
          "market_pressure_diff",
          "scaled_utxo_count",
          "moving_avg_scaled_log_total_volume",
          "scaled_funding_rates",
          "network_load_diff",
          "scaled_log_total_taker_volume",
          "scaled_log_hashrate",
          "scaled_total_transactions_count",
          "scaled_log_open_interest",
          "liquidation_risk_diff",
          "scaled_estimated_block_reward",
          "scaled_liquidation_diff",
          "scaled_log_total_liquidation"
         ],
         "xaxis": "x",
         "y": [
          5947,
          4683,
          4670,
          4470,
          4346,
          4301,
          4232,
          4207,
          4154,
          4136,
          3876,
          3831,
          3829,
          3779,
          3767,
          3763,
          3239
         ],
         "yaxis": "y"
        }
       ],
       "layout": {
        "barmode": "relative",
        "legend": {
         "tracegroupgap": 0
        },
        "template": {
         "data": {
          "bar": [
           {
            "error_x": {
             "color": "#2a3f5f"
            },
            "error_y": {
             "color": "#2a3f5f"
            },
            "marker": {
             "line": {
              "color": "#E5ECF6",
              "width": 0.5
             },
             "pattern": {
              "fillmode": "overlay",
              "size": 10,
              "solidity": 0.2
             }
            },
            "type": "bar"
           }
          ],
          "barpolar": [
           {
            "marker": {
             "line": {
              "color": "#E5ECF6",
              "width": 0.5
             },
             "pattern": {
              "fillmode": "overlay",
              "size": 10,
              "solidity": 0.2
             }
            },
            "type": "barpolar"
           }
          ],
          "carpet": [
           {
            "aaxis": {
             "endlinecolor": "#2a3f5f",
             "gridcolor": "white",
             "linecolor": "white",
             "minorgridcolor": "white",
             "startlinecolor": "#2a3f5f"
            },
            "baxis": {
             "endlinecolor": "#2a3f5f",
             "gridcolor": "white",
             "linecolor": "white",
             "minorgridcolor": "white",
             "startlinecolor": "#2a3f5f"
            },
            "type": "carpet"
           }
          ],
          "choropleth": [
           {
            "colorbar": {
             "outlinewidth": 0,
             "ticks": ""
            },
            "type": "choropleth"
           }
          ],
          "contour": [
           {
            "colorbar": {
             "outlinewidth": 0,
             "ticks": ""
            },
            "colorscale": [
             [
              0,
              "#0d0887"
             ],
             [
              0.1111111111111111,
              "#46039f"
             ],
             [
              0.2222222222222222,
              "#7201a8"
             ],
             [
              0.3333333333333333,
              "#9c179e"
             ],
             [
              0.4444444444444444,
              "#bd3786"
             ],
             [
              0.5555555555555556,
              "#d8576b"
             ],
             [
              0.6666666666666666,
              "#ed7953"
             ],
             [
              0.7777777777777778,
              "#fb9f3a"
             ],
             [
              0.8888888888888888,
              "#fdca26"
             ],
             [
              1,
              "#f0f921"
             ]
            ],
            "type": "contour"
           }
          ],
          "contourcarpet": [
           {
            "colorbar": {
             "outlinewidth": 0,
             "ticks": ""
            },
            "type": "contourcarpet"
           }
          ],
          "heatmap": [
           {
            "colorbar": {
             "outlinewidth": 0,
             "ticks": ""
            },
            "colorscale": [
             [
              0,
              "#0d0887"
             ],
             [
              0.1111111111111111,
              "#46039f"
             ],
             [
              0.2222222222222222,
              "#7201a8"
             ],
             [
              0.3333333333333333,
              "#9c179e"
             ],
             [
              0.4444444444444444,
              "#bd3786"
             ],
             [
              0.5555555555555556,
              "#d8576b"
             ],
             [
              0.6666666666666666,
              "#ed7953"
             ],
             [
              0.7777777777777778,
              "#fb9f3a"
             ],
             [
              0.8888888888888888,
              "#fdca26"
             ],
             [
              1,
              "#f0f921"
             ]
            ],
            "type": "heatmap"
           }
          ],
          "heatmapgl": [
           {
            "colorbar": {
             "outlinewidth": 0,
             "ticks": ""
            },
            "colorscale": [
             [
              0,
              "#0d0887"
             ],
             [
              0.1111111111111111,
              "#46039f"
             ],
             [
              0.2222222222222222,
              "#7201a8"
             ],
             [
              0.3333333333333333,
              "#9c179e"
             ],
             [
              0.4444444444444444,
              "#bd3786"
             ],
             [
              0.5555555555555556,
              "#d8576b"
             ],
             [
              0.6666666666666666,
              "#ed7953"
             ],
             [
              0.7777777777777778,
              "#fb9f3a"
             ],
             [
              0.8888888888888888,
              "#fdca26"
             ],
             [
              1,
              "#f0f921"
             ]
            ],
            "type": "heatmapgl"
           }
          ],
          "histogram": [
           {
            "marker": {
             "pattern": {
              "fillmode": "overlay",
              "size": 10,
              "solidity": 0.2
             }
            },
            "type": "histogram"
           }
          ],
          "histogram2d": [
           {
            "colorbar": {
             "outlinewidth": 0,
             "ticks": ""
            },
            "colorscale": [
             [
              0,
              "#0d0887"
             ],
             [
              0.1111111111111111,
              "#46039f"
             ],
             [
              0.2222222222222222,
              "#7201a8"
             ],
             [
              0.3333333333333333,
              "#9c179e"
             ],
             [
              0.4444444444444444,
              "#bd3786"
             ],
             [
              0.5555555555555556,
              "#d8576b"
             ],
             [
              0.6666666666666666,
              "#ed7953"
             ],
             [
              0.7777777777777778,
              "#fb9f3a"
             ],
             [
              0.8888888888888888,
              "#fdca26"
             ],
             [
              1,
              "#f0f921"
             ]
            ],
            "type": "histogram2d"
           }
          ],
          "histogram2dcontour": [
           {
            "colorbar": {
             "outlinewidth": 0,
             "ticks": ""
            },
            "colorscale": [
             [
              0,
              "#0d0887"
             ],
             [
              0.1111111111111111,
              "#46039f"
             ],
             [
              0.2222222222222222,
              "#7201a8"
             ],
             [
              0.3333333333333333,
              "#9c179e"
             ],
             [
              0.4444444444444444,
              "#bd3786"
             ],
             [
              0.5555555555555556,
              "#d8576b"
             ],
             [
              0.6666666666666666,
              "#ed7953"
             ],
             [
              0.7777777777777778,
              "#fb9f3a"
             ],
             [
              0.8888888888888888,
              "#fdca26"
             ],
             [
              1,
              "#f0f921"
             ]
            ],
            "type": "histogram2dcontour"
           }
          ],
          "mesh3d": [
           {
            "colorbar": {
             "outlinewidth": 0,
             "ticks": ""
            },
            "type": "mesh3d"
           }
          ],
          "parcoords": [
           {
            "line": {
             "colorbar": {
              "outlinewidth": 0,
              "ticks": ""
             }
            },
            "type": "parcoords"
           }
          ],
          "pie": [
           {
            "automargin": true,
            "type": "pie"
           }
          ],
          "scatter": [
           {
            "fillpattern": {
             "fillmode": "overlay",
             "size": 10,
             "solidity": 0.2
            },
            "type": "scatter"
           }
          ],
          "scatter3d": [
           {
            "line": {
             "colorbar": {
              "outlinewidth": 0,
              "ticks": ""
             }
            },
            "marker": {
             "colorbar": {
              "outlinewidth": 0,
              "ticks": ""
             }
            },
            "type": "scatter3d"
           }
          ],
          "scattercarpet": [
           {
            "marker": {
             "colorbar": {
              "outlinewidth": 0,
              "ticks": ""
             }
            },
            "type": "scattercarpet"
           }
          ],
          "scattergeo": [
           {
            "marker": {
             "colorbar": {
              "outlinewidth": 0,
              "ticks": ""
             }
            },
            "type": "scattergeo"
           }
          ],
          "scattergl": [
           {
            "marker": {
             "colorbar": {
              "outlinewidth": 0,
              "ticks": ""
             }
            },
            "type": "scattergl"
           }
          ],
          "scattermapbox": [
           {
            "marker": {
             "colorbar": {
              "outlinewidth": 0,
              "ticks": ""
             }
            },
            "type": "scattermapbox"
           }
          ],
          "scatterpolar": [
           {
            "marker": {
             "colorbar": {
              "outlinewidth": 0,
              "ticks": ""
             }
            },
            "type": "scatterpolar"
           }
          ],
          "scatterpolargl": [
           {
            "marker": {
             "colorbar": {
              "outlinewidth": 0,
              "ticks": ""
             }
            },
            "type": "scatterpolargl"
           }
          ],
          "scatterternary": [
           {
            "marker": {
             "colorbar": {
              "outlinewidth": 0,
              "ticks": ""
             }
            },
            "type": "scatterternary"
           }
          ],
          "surface": [
           {
            "colorbar": {
             "outlinewidth": 0,
             "ticks": ""
            },
            "colorscale": [
             [
              0,
              "#0d0887"
             ],
             [
              0.1111111111111111,
              "#46039f"
             ],
             [
              0.2222222222222222,
              "#7201a8"
             ],
             [
              0.3333333333333333,
              "#9c179e"
             ],
             [
              0.4444444444444444,
              "#bd3786"
             ],
             [
              0.5555555555555556,
              "#d8576b"
             ],
             [
              0.6666666666666666,
              "#ed7953"
             ],
             [
              0.7777777777777778,
              "#fb9f3a"
             ],
             [
              0.8888888888888888,
              "#fdca26"
             ],
             [
              1,
              "#f0f921"
             ]
            ],
            "type": "surface"
           }
          ],
          "table": [
           {
            "cells": {
             "fill": {
              "color": "#EBF0F8"
             },
             "line": {
              "color": "white"
             }
            },
            "header": {
             "fill": {
              "color": "#C8D4E3"
             },
             "line": {
              "color": "white"
             }
            },
            "type": "table"
           }
          ]
         },
         "layout": {
          "annotationdefaults": {
           "arrowcolor": "#2a3f5f",
           "arrowhead": 0,
           "arrowwidth": 1
          },
          "autotypenumbers": "strict",
          "coloraxis": {
           "colorbar": {
            "outlinewidth": 0,
            "ticks": ""
           }
          },
          "colorscale": {
           "diverging": [
            [
             0,
             "#8e0152"
            ],
            [
             0.1,
             "#c51b7d"
            ],
            [
             0.2,
             "#de77ae"
            ],
            [
             0.3,
             "#f1b6da"
            ],
            [
             0.4,
             "#fde0ef"
            ],
            [
             0.5,
             "#f7f7f7"
            ],
            [
             0.6,
             "#e6f5d0"
            ],
            [
             0.7,
             "#b8e186"
            ],
            [
             0.8,
             "#7fbc41"
            ],
            [
             0.9,
             "#4d9221"
            ],
            [
             1,
             "#276419"
            ]
           ],
           "sequential": [
            [
             0,
             "#0d0887"
            ],
            [
             0.1111111111111111,
             "#46039f"
            ],
            [
             0.2222222222222222,
             "#7201a8"
            ],
            [
             0.3333333333333333,
             "#9c179e"
            ],
            [
             0.4444444444444444,
             "#bd3786"
            ],
            [
             0.5555555555555556,
             "#d8576b"
            ],
            [
             0.6666666666666666,
             "#ed7953"
            ],
            [
             0.7777777777777778,
             "#fb9f3a"
            ],
            [
             0.8888888888888888,
             "#fdca26"
            ],
            [
             1,
             "#f0f921"
            ]
           ],
           "sequentialminus": [
            [
             0,
             "#0d0887"
            ],
            [
             0.1111111111111111,
             "#46039f"
            ],
            [
             0.2222222222222222,
             "#7201a8"
            ],
            [
             0.3333333333333333,
             "#9c179e"
            ],
            [
             0.4444444444444444,
             "#bd3786"
            ],
            [
             0.5555555555555556,
             "#d8576b"
            ],
            [
             0.6666666666666666,
             "#ed7953"
            ],
            [
             0.7777777777777778,
             "#fb9f3a"
            ],
            [
             0.8888888888888888,
             "#fdca26"
            ],
            [
             1,
             "#f0f921"
            ]
           ]
          },
          "colorway": [
           "#636efa",
           "#EF553B",
           "#00cc96",
           "#ab63fa",
           "#FFA15A",
           "#19d3f3",
           "#FF6692",
           "#B6E880",
           "#FF97FF",
           "#FECB52"
          ],
          "font": {
           "color": "#2a3f5f"
          },
          "geo": {
           "bgcolor": "white",
           "lakecolor": "white",
           "landcolor": "#E5ECF6",
           "showlakes": true,
           "showland": true,
           "subunitcolor": "white"
          },
          "hoverlabel": {
           "align": "left"
          },
          "hovermode": "closest",
          "mapbox": {
           "style": "light"
          },
          "paper_bgcolor": "white",
          "plot_bgcolor": "#E5ECF6",
          "polar": {
           "angularaxis": {
            "gridcolor": "white",
            "linecolor": "white",
            "ticks": ""
           },
           "bgcolor": "#E5ECF6",
           "radialaxis": {
            "gridcolor": "white",
            "linecolor": "white",
            "ticks": ""
           }
          },
          "scene": {
           "xaxis": {
            "backgroundcolor": "#E5ECF6",
            "gridcolor": "white",
            "gridwidth": 2,
            "linecolor": "white",
            "showbackground": true,
            "ticks": "",
            "zerolinecolor": "white"
           },
           "yaxis": {
            "backgroundcolor": "#E5ECF6",
            "gridcolor": "white",
            "gridwidth": 2,
            "linecolor": "white",
            "showbackground": true,
            "ticks": "",
            "zerolinecolor": "white"
           },
           "zaxis": {
            "backgroundcolor": "#E5ECF6",
            "gridcolor": "white",
            "gridwidth": 2,
            "linecolor": "white",
            "showbackground": true,
            "ticks": "",
            "zerolinecolor": "white"
           }
          },
          "shapedefaults": {
           "line": {
            "color": "#2a3f5f"
           }
          },
          "ternary": {
           "aaxis": {
            "gridcolor": "white",
            "linecolor": "white",
            "ticks": ""
           },
           "baxis": {
            "gridcolor": "white",
            "linecolor": "white",
            "ticks": ""
           },
           "bgcolor": "#E5ECF6",
           "caxis": {
            "gridcolor": "white",
            "linecolor": "white",
            "ticks": ""
           }
          },
          "title": {
           "x": 0.05
          },
          "xaxis": {
           "automargin": true,
           "gridcolor": "white",
           "linecolor": "white",
           "ticks": "",
           "title": {
            "standoff": 15
           },
           "zerolinecolor": "white",
           "zerolinewidth": 2
          },
          "yaxis": {
           "automargin": true,
           "gridcolor": "white",
           "linecolor": "white",
           "ticks": "",
           "title": {
            "standoff": 15
           },
           "zerolinecolor": "white",
           "zerolinewidth": 2
          }
         }
        },
        "title": {
         "text": "Feature Importance"
        },
        "xaxis": {
         "anchor": "y",
         "domain": [
          0,
          1
         ],
         "title": {
          "text": "Feature"
         }
        },
        "yaxis": {
         "anchor": "x",
         "domain": [
          0,
          1
         ],
         "title": {
          "text": "Importance"
         }
        }
       }
      }
     },
     "metadata": {},
     "output_type": "display_data"
    }
   ],
   "source": [
    "import plotly.express as px\n",
    "\n",
    "# Feature importance 평가\n",
    "importance = xgb_model.get_score(importance_type='weight')\n",
    "importance_df = pd.DataFrame({\n",
    "    'Feature': [k for k in importance.keys()],\n",
    "    'Importance': importance.values()\n",
    "}).sort_values(by='Importance', ascending=False)\n",
    "\n",
    "# 시각화\n",
    "fig = px.bar(importance_df, x='Feature', y='Importance', title='Feature Importance')\n",
    "fig.show()"
   ]
  },
  {
   "cell_type": "code",
   "execution_count": 17,
   "metadata": {},
   "outputs": [
    {
     "data": {
      "text/plain": [
       "target\n",
       "2    1815\n",
       "1     789\n",
       "3     128\n",
       "0      60\n",
       "Name: count, dtype: int64"
      ]
     },
     "execution_count": 17,
     "metadata": {},
     "output_type": "execute_result"
    }
   ],
   "source": [
    "# 테스트 데이터셋을 DMatrix로 변환\n",
    "dtest = xgb.DMatrix(test_df.drop([\"target\", \"ID\"], axis=1))\n",
    "\n",
    "# 테스트 데이터에 대한 예측 수행\n",
    "y_test_pred_prob = xgb_model.predict(dtest)\n",
    "\n",
    "# 다중 클래스 예측일 경우 가장 높은 확률을 가진 클래스를 예측값으로 변환\n",
    "y_test_pred = y_test_pred_prob.argmax(axis=1)\n",
    "\n",
    "# 예측 결과 출력\n",
    "y_test_pred\n",
    "\n",
    "submission_df = submission_df.assign(target=pd.DataFrame(y_test_pred))\n",
    "submission_df['target'].value_counts()"
   ]
  }
 ],
 "metadata": {
  "kernelspec": {
   "display_name": "base",
   "language": "python",
   "name": "python3"
  },
  "language_info": {
   "codemirror_mode": {
    "name": "ipython",
    "version": 3
   },
   "file_extension": ".py",
   "mimetype": "text/x-python",
   "name": "python",
   "nbconvert_exporter": "python",
   "pygments_lexer": "ipython3",
   "version": "3.12.5"
  }
 },
 "nbformat": 4,
 "nbformat_minor": 2
}
