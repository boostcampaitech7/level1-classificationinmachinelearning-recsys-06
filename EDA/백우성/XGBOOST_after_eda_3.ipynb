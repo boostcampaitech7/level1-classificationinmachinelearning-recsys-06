{
 "cells": [
  {
   "cell_type": "code",
   "execution_count": 1,
   "metadata": {},
   "outputs": [
    {
     "name": "stdout",
     "output_type": "stream",
     "text": [
      "c:\\Users\\com\\Documents\\GitHub\\level1-classificationinmachinelearning-recsys-06\n"
     ]
    }
   ],
   "source": [
    "import os\n",
    "import sys\n",
    "from typing import List, Dict\n",
    "\n",
    "import lightgbm as lgb\n",
    "import numpy as np\n",
    "import pandas as pd\n",
    "import plotly.graph_objects as go\n",
    "from plotly.subplots import make_subplots\n",
    "from sklearn.metrics import accuracy_score, roc_auc_score\n",
    "from sklearn.model_selection import train_test_split\n",
    "\n",
    "# Code 경로 추가\n",
    "sys.path.append(os.path.dirname(os.path.dirname(os.path.abspath(\"\"))))\n",
    "print(sys.path[-1])"
   ]
  },
  {
   "cell_type": "code",
   "execution_count": 2,
   "metadata": {},
   "outputs": [],
   "source": [
    "# 파일 호출\n",
    "data_path: str = \"../../data\"\n",
    "## raw.csv가 없는 경우 실행\n",
    "# from Code.dataset.merge_all import merge_all\n",
    "# df = merge_all(data_path)\n",
    "df: pd.DataFrame = pd.read_csv(os.path.join(data_path, \"scaled_eda2.csv\"))\n",
    "submission_df: pd.DataFrame = pd.read_csv(os.path.join(data_path, \"test.csv\"))  # ID, target 열만 가진 데이터 미리 호출\n"
   ]
  },
  {
   "cell_type": "code",
   "execution_count": 3,
   "metadata": {},
   "outputs": [],
   "source": [
    "import yaml\n",
    "\n",
    "config_path ='../../config-sample.yaml'\n",
    "\n",
    "with open(config_path,'r') as file:\n",
    "    config = yaml.safe_load(file)"
   ]
  },
  {
   "cell_type": "markdown",
   "metadata": {},
   "source": [
    "### 데이터 증강"
   ]
  },
  {
   "cell_type": "code",
   "execution_count": 4,
   "metadata": {},
   "outputs": [],
   "source": [
    "from imblearn.over_sampling import SMOTE, BorderlineSMOTE, ADASYN, SVMSMOTE\n",
    "\n",
    "def get_over_sampler(x_train, y_train, strategy='ADASYN', sampling_strategy='auto'):\n",
    "    if strategy == 'SMOTE':\n",
    "        sampler = SMOTE(sampling_strategy=sampling_strategy)\n",
    "    elif strategy == 'BorderlineSMOTE':\n",
    "        sampler = BorderlineSMOTE(sampling_strategy=sampling_strategy)\n",
    "    elif strategy == 'ADASYN':\n",
    "        sampler = ADASYN(sampling_strategy=sampling_strategy)\n",
    "    elif strategy == 'SVMSMOTE':\n",
    "        sampler = SVMSMOTE(sampling_strategy=sampling_strategy)\n",
    "    else:\n",
    "        raise ValueError(f\"Unknown strategy: {strategy}\")\n",
    "\n",
    "    x_resampled, y_resampled = sampler.fit_resample(x_train, y_train)\n",
    "    return x_resampled, y_resampled"
   ]
  },
  {
   "cell_type": "code",
   "execution_count": 5,
   "metadata": {},
   "outputs": [
    {
     "name": "stdout",
     "output_type": "stream",
     "text": [
      "[0]\ttrain-mlogloss:1.36861\teval-mlogloss:1.37251\n",
      "[1]\ttrain-mlogloss:1.35180\teval-mlogloss:1.36009\n",
      "[2]\ttrain-mlogloss:1.33585\teval-mlogloss:1.34759\n",
      "[3]\ttrain-mlogloss:1.31973\teval-mlogloss:1.33592\n",
      "[4]\ttrain-mlogloss:1.30502\teval-mlogloss:1.32466\n"
     ]
    },
    {
     "name": "stderr",
     "output_type": "stream",
     "text": [
      "c:\\Users\\com\\miniconda3\\Lib\\site-packages\\xgboost\\core.py:160: UserWarning: [14:21:36] WARNING: C:\\buildkite-agent\\builds\\buildkite-windows-cpu-autoscaling-group-i-0b3782d1791676daf-1\\xgboost\\xgboost-ci-windows\\src\\learner.cc:742: \n",
      "Parameters: { \"early_stopping_rounds\", \"verbose\" } are not used.\n",
      "\n",
      "  warnings.warn(smsg, UserWarning)\n"
     ]
    },
    {
     "name": "stdout",
     "output_type": "stream",
     "text": [
      "[5]\ttrain-mlogloss:1.29096\teval-mlogloss:1.31506\n",
      "[6]\ttrain-mlogloss:1.27784\teval-mlogloss:1.30595\n",
      "[7]\ttrain-mlogloss:1.26435\teval-mlogloss:1.29753\n",
      "[8]\ttrain-mlogloss:1.25164\teval-mlogloss:1.28949\n",
      "[9]\ttrain-mlogloss:1.23899\teval-mlogloss:1.28150\n",
      "[10]\ttrain-mlogloss:1.22753\teval-mlogloss:1.27387\n",
      "[11]\ttrain-mlogloss:1.21586\teval-mlogloss:1.26633\n",
      "[12]\ttrain-mlogloss:1.20540\teval-mlogloss:1.25956\n",
      "[13]\ttrain-mlogloss:1.19487\teval-mlogloss:1.25306\n",
      "[14]\ttrain-mlogloss:1.18475\teval-mlogloss:1.24706\n",
      "[15]\ttrain-mlogloss:1.17457\teval-mlogloss:1.24046\n",
      "[16]\ttrain-mlogloss:1.16528\teval-mlogloss:1.23543\n",
      "[17]\ttrain-mlogloss:1.15601\teval-mlogloss:1.22986\n",
      "[18]\ttrain-mlogloss:1.14735\teval-mlogloss:1.22514\n",
      "[19]\ttrain-mlogloss:1.13876\teval-mlogloss:1.22060\n",
      "[20]\ttrain-mlogloss:1.13029\teval-mlogloss:1.21648\n",
      "[21]\ttrain-mlogloss:1.12147\teval-mlogloss:1.21239\n",
      "[22]\ttrain-mlogloss:1.11387\teval-mlogloss:1.20862\n",
      "[23]\ttrain-mlogloss:1.10606\teval-mlogloss:1.20487\n",
      "[24]\ttrain-mlogloss:1.09852\teval-mlogloss:1.20127\n",
      "[25]\ttrain-mlogloss:1.09119\teval-mlogloss:1.19780\n",
      "[26]\ttrain-mlogloss:1.08425\teval-mlogloss:1.19465\n",
      "[27]\ttrain-mlogloss:1.07697\teval-mlogloss:1.19138\n",
      "[28]\ttrain-mlogloss:1.07004\teval-mlogloss:1.18871\n",
      "[29]\ttrain-mlogloss:1.06352\teval-mlogloss:1.18575\n",
      "[30]\ttrain-mlogloss:1.05717\teval-mlogloss:1.18327\n",
      "[31]\ttrain-mlogloss:1.05115\teval-mlogloss:1.18076\n",
      "[32]\ttrain-mlogloss:1.04554\teval-mlogloss:1.17772\n",
      "[33]\ttrain-mlogloss:1.03927\teval-mlogloss:1.17532\n",
      "[34]\ttrain-mlogloss:1.03373\teval-mlogloss:1.17334\n",
      "[35]\ttrain-mlogloss:1.02802\teval-mlogloss:1.17144\n",
      "[36]\ttrain-mlogloss:1.02246\teval-mlogloss:1.16947\n",
      "[37]\ttrain-mlogloss:1.01756\teval-mlogloss:1.16792\n",
      "[38]\ttrain-mlogloss:1.01192\teval-mlogloss:1.16623\n",
      "[39]\ttrain-mlogloss:1.00630\teval-mlogloss:1.16499\n",
      "[40]\ttrain-mlogloss:1.00136\teval-mlogloss:1.16368\n",
      "[41]\ttrain-mlogloss:0.99591\teval-mlogloss:1.16188\n",
      "[42]\ttrain-mlogloss:0.99078\teval-mlogloss:1.16012\n",
      "[43]\ttrain-mlogloss:0.98529\teval-mlogloss:1.15865\n",
      "[44]\ttrain-mlogloss:0.98020\teval-mlogloss:1.15698\n",
      "[45]\ttrain-mlogloss:0.97626\teval-mlogloss:1.15563\n",
      "[46]\ttrain-mlogloss:0.97185\teval-mlogloss:1.15377\n",
      "[47]\ttrain-mlogloss:0.96706\teval-mlogloss:1.15237\n",
      "[48]\ttrain-mlogloss:0.96217\teval-mlogloss:1.15079\n",
      "[49]\ttrain-mlogloss:0.95766\teval-mlogloss:1.14984\n",
      "[50]\ttrain-mlogloss:0.95406\teval-mlogloss:1.14866\n",
      "[51]\ttrain-mlogloss:0.94964\teval-mlogloss:1.14779\n",
      "[52]\ttrain-mlogloss:0.94541\teval-mlogloss:1.14706\n",
      "[53]\ttrain-mlogloss:0.94168\teval-mlogloss:1.14621\n",
      "[54]\ttrain-mlogloss:0.93814\teval-mlogloss:1.14548\n",
      "[55]\ttrain-mlogloss:0.93412\teval-mlogloss:1.14480\n",
      "[56]\ttrain-mlogloss:0.93073\teval-mlogloss:1.14416\n",
      "[57]\ttrain-mlogloss:0.92639\teval-mlogloss:1.14343\n",
      "[58]\ttrain-mlogloss:0.92166\teval-mlogloss:1.14277\n",
      "[59]\ttrain-mlogloss:0.91777\teval-mlogloss:1.14201\n",
      "[60]\ttrain-mlogloss:0.91422\teval-mlogloss:1.14149\n",
      "[61]\ttrain-mlogloss:0.90985\teval-mlogloss:1.14101\n",
      "[62]\ttrain-mlogloss:0.90626\teval-mlogloss:1.14051\n",
      "[63]\ttrain-mlogloss:0.90235\teval-mlogloss:1.13982\n",
      "[64]\ttrain-mlogloss:0.89929\teval-mlogloss:1.13920\n",
      "[65]\ttrain-mlogloss:0.89634\teval-mlogloss:1.13844\n",
      "[66]\ttrain-mlogloss:0.89409\teval-mlogloss:1.13769\n",
      "[67]\ttrain-mlogloss:0.89151\teval-mlogloss:1.13717\n",
      "[68]\ttrain-mlogloss:0.88770\teval-mlogloss:1.13656\n",
      "[69]\ttrain-mlogloss:0.88459\teval-mlogloss:1.13600\n",
      "[70]\ttrain-mlogloss:0.88136\teval-mlogloss:1.13568\n",
      "[71]\ttrain-mlogloss:0.87827\teval-mlogloss:1.13534\n",
      "[72]\ttrain-mlogloss:0.87517\teval-mlogloss:1.13464\n",
      "[73]\ttrain-mlogloss:0.87126\teval-mlogloss:1.13423\n",
      "[74]\ttrain-mlogloss:0.86874\teval-mlogloss:1.13319\n",
      "[75]\ttrain-mlogloss:0.86543\teval-mlogloss:1.13290\n",
      "[76]\ttrain-mlogloss:0.86267\teval-mlogloss:1.13270\n",
      "[77]\ttrain-mlogloss:0.85972\teval-mlogloss:1.13233\n",
      "[78]\ttrain-mlogloss:0.85716\teval-mlogloss:1.13197\n",
      "[79]\ttrain-mlogloss:0.85466\teval-mlogloss:1.13190\n",
      "[80]\ttrain-mlogloss:0.85177\teval-mlogloss:1.13178\n",
      "[81]\ttrain-mlogloss:0.84906\teval-mlogloss:1.13171\n",
      "[82]\ttrain-mlogloss:0.84600\teval-mlogloss:1.13135\n",
      "[83]\ttrain-mlogloss:0.84345\teval-mlogloss:1.13084\n",
      "[84]\ttrain-mlogloss:0.84044\teval-mlogloss:1.13104\n",
      "[85]\ttrain-mlogloss:0.83760\teval-mlogloss:1.13079\n",
      "[86]\ttrain-mlogloss:0.83532\teval-mlogloss:1.13066\n",
      "[87]\ttrain-mlogloss:0.83263\teval-mlogloss:1.13031\n",
      "[88]\ttrain-mlogloss:0.83014\teval-mlogloss:1.13051\n",
      "[89]\ttrain-mlogloss:0.82747\teval-mlogloss:1.13054\n",
      "[90]\ttrain-mlogloss:0.82575\teval-mlogloss:1.13042\n",
      "[91]\ttrain-mlogloss:0.82358\teval-mlogloss:1.12997\n",
      "[92]\ttrain-mlogloss:0.82122\teval-mlogloss:1.12995\n",
      "[93]\ttrain-mlogloss:0.81845\teval-mlogloss:1.12971\n",
      "[94]\ttrain-mlogloss:0.81652\teval-mlogloss:1.12976\n",
      "[95]\ttrain-mlogloss:0.81334\teval-mlogloss:1.12952\n",
      "[96]\ttrain-mlogloss:0.81158\teval-mlogloss:1.12943\n",
      "[97]\ttrain-mlogloss:0.80900\teval-mlogloss:1.12955\n",
      "[98]\ttrain-mlogloss:0.80685\teval-mlogloss:1.12971\n",
      "[99]\ttrain-mlogloss:0.80431\teval-mlogloss:1.12988\n",
      "[100]\ttrain-mlogloss:0.80198\teval-mlogloss:1.13008\n",
      "[101]\ttrain-mlogloss:0.79951\teval-mlogloss:1.13014\n",
      "[102]\ttrain-mlogloss:0.79724\teval-mlogloss:1.13010\n",
      "[103]\ttrain-mlogloss:0.79446\teval-mlogloss:1.13025\n",
      "[104]\ttrain-mlogloss:0.79241\teval-mlogloss:1.13024\n",
      "[105]\ttrain-mlogloss:0.78983\teval-mlogloss:1.13021\n",
      "[106]\ttrain-mlogloss:0.78672\teval-mlogloss:1.12988\n",
      "훈련 정확도: 0.829233144621719\n",
      "              precision    recall  f1-score   support\n",
      "\n",
      "           0       0.99      0.53      0.69      1000\n",
      "           1       0.83      0.88      0.86      3544\n",
      "           2       0.79      0.92      0.85      3671\n",
      "           3       0.91      0.68      0.78      1500\n",
      "\n",
      "    accuracy                           0.83      9715\n",
      "   macro avg       0.88      0.75      0.79      9715\n",
      "weighted avg       0.84      0.83      0.82      9715\n",
      "\n",
      "검증 정확도: 0.4292237442922374\n",
      "              precision    recall  f1-score   support\n",
      "\n",
      "           0       0.17      0.04      0.07       149\n",
      "           1       0.42      0.48      0.45       678\n",
      "           2       0.46      0.53      0.50       745\n",
      "           3       0.29      0.14      0.19       180\n",
      "\n",
      "    accuracy                           0.43      1752\n",
      "   macro avg       0.34      0.30      0.30      1752\n",
      "weighted avg       0.40      0.43      0.41      1752\n",
      "\n"
     ]
    }
   ],
   "source": [
    "import xgboost as xgb\n",
    "from sklearn.metrics import accuracy_score, classification_report\n",
    "from sklearn.model_selection import train_test_split\n",
    "\n",
    "# _type에 따라 train, test 분리\n",
    "train_df = df.loc[df[\"_type\"] == \"train\"].drop(columns=[\"_type\"])\n",
    "train_df = train_df.ffill()\n",
    "test_df = df.loc[df[\"_type\"] == \"test\"].drop(columns=[\"_type\"])\n",
    "\n",
    "# train_test_split 으로 valid set, train set 분리\n",
    "x_train, x_valid, y_train, y_valid = train_test_split(\n",
    "    train_df.drop([\"target\", \"ID\"], axis=1),\n",
    "    train_df[\"target\"].astype(int),\n",
    "    test_size=0.2,\n",
    "    random_state=42,\n",
    ")\n",
    "\n",
    "sampling_strategy = {0: 1000, 1: 3544, 2: 3671, 3: 1500}\n",
    "smote = SMOTE(sampling_strategy=sampling_strategy,random_state=42)\n",
    "x_train_resampled, y_train_resampled = smote.fit_resample(x_train, y_train)\n",
    "\n",
    "# XGBoost 모델을 위한 DMatrix로 변환\n",
    "dtrain = xgb.DMatrix(x_train_resampled, label=y_train_resampled)\n",
    "dvalid = xgb.DMatrix(x_valid, label=y_valid)\n",
    "\n",
    "# XGBoost 모델 학습 파라미터\n",
    "params = config[\"xgboost\"]\n",
    "params[\"objective\"] = \"multi:softprob\"  # 다중 클래스 분류를 위한 설정\n",
    "params[\"num_class\"] = len(y_train_resampled.unique())  # 클래스 개수\n",
    "params[\"eval_metric\"] = \"mlogloss\"  # 손실 함수 (멀티클래스 로지스틱 손실)\n",
    "params['max_depth'] = 7\n",
    "params['learning_rate'] = 0.05\n",
    "params['subsample'] = 0.8\n",
    "params['colsample_bytree'] = 0.8\n",
    "\n",
    "# 학습 시 평가 데이터로 검증 셋 사용\n",
    "evals = [(dtrain, \"train\"), (dvalid, \"eval\")]\n",
    "\n",
    "# XGBoost 모델 훈련\n",
    "xgb_model = xgb.train(\n",
    "    params=params,\n",
    "    dtrain=dtrain,\n",
    "    num_boost_round=200,  # 트리의 개수\n",
    "    evals=evals,\n",
    "    early_stopping_rounds=10,  # 조기 중단\n",
    ")\n",
    "\n",
    "# 예측 (훈련 데이터셋)\n",
    "y_train_pred_prob = xgb_model.predict(dtrain)\n",
    "y_train_pred = y_train_pred_prob.argmax(axis=1)\n",
    "\n",
    "# 예측 (검증 데이터셋)\n",
    "y_valid_pred_prob = xgb_model.predict(dvalid)\n",
    "y_valid_pred = y_valid_pred_prob.argmax(axis=1)\n",
    "\n",
    "# 성능 평가 (훈련 데이터셋)\n",
    "train_accuracy = accuracy_score(y_train_resampled, y_train_pred)\n",
    "train_classification_rep = classification_report(y_train_resampled, y_train_pred)\n",
    "\n",
    "# 성능 평가 (검증 데이터셋)\n",
    "valid_accuracy = accuracy_score(y_valid, y_valid_pred)\n",
    "valid_classification_rep = classification_report(y_valid, y_valid_pred)\n",
    "\n",
    "print(f\"훈련 정확도: {train_accuracy}\")\n",
    "print(train_classification_rep)\n",
    "print(f\"검증 정확도: {valid_accuracy}\")\n",
    "print(valid_classification_rep)"
   ]
  },
  {
   "cell_type": "code",
   "execution_count": 6,
   "metadata": {},
   "outputs": [
    {
     "data": {
      "text/plain": [
       "array([1, 1, 2, ..., 1, 1, 1], dtype=int64)"
      ]
     },
     "execution_count": 6,
     "metadata": {},
     "output_type": "execute_result"
    }
   ],
   "source": [
    "# 테스트 데이터셋을 DMatrix로 변환\n",
    "dtest = xgb.DMatrix(test_df.drop([\"target\", \"ID\"], axis=1))\n",
    "\n",
    "# 테스트 데이터에 대한 예측 수행\n",
    "y_test_pred_prob = xgb_model.predict(dtest)\n",
    "\n",
    "# 다중 클래스 예측일 경우 가장 높은 확률을 가진 클래스를 예측값으로 변환\n",
    "y_test_pred = y_test_pred_prob.argmax(axis=1)\n",
    "\n",
    "# 예측 결과 출력\n",
    "y_test_pred"
   ]
  },
  {
   "cell_type": "code",
   "execution_count": 7,
   "metadata": {},
   "outputs": [
    {
     "data": {
      "text/plain": [
       "target\n",
       "2    1819\n",
       "1     839\n",
       "0      83\n",
       "3      51\n",
       "Name: count, dtype: int64"
      ]
     },
     "execution_count": 7,
     "metadata": {},
     "output_type": "execute_result"
    }
   ],
   "source": [
    "submission_df = submission_df.assign(target=pd.DataFrame(y_test_pred))\n",
    "submission_df['target'].value_counts()"
   ]
  },
  {
   "cell_type": "code",
   "execution_count": 9,
   "metadata": {},
   "outputs": [],
   "source": [
    "submission_df.to_csv(\"XGBoost_after_eda_scaled_smote_2.csv\",index=False)"
   ]
  },
  {
   "cell_type": "code",
   "execution_count": 8,
   "metadata": {},
   "outputs": [
    {
     "data": {
      "application/vnd.plotly.v1+json": {
       "config": {
        "plotlyServerURL": "https://plot.ly"
       },
       "data": [
        {
         "alignmentgroup": "True",
         "hovertemplate": "Feature=%{x}<br>Importance=%{y}<extra></extra>",
         "legendgroup": "",
         "marker": {
          "color": "#636efa",
          "pattern": {
           "shape": ""
          }
         },
         "name": "",
         "offsetgroup": "",
         "orientation": "v",
         "showlegend": false,
         "textposition": "auto",
         "type": "bar",
         "x": [
          "open_interest_diff",
          "taker_buy_sell_ratio",
          "scaled_log_coinbase_premium_index",
          "moving_avg_scaled_log_total_volume",
          "scaled_total_transactions_count",
          "scaled_liquidation_diff",
          "scaled_funding_rates",
          "scaled_log_open_interest",
          "scaled_log_hashrate",
          "scaled_utxo_count",
          "scaled_log_total_taker_volume",
          "scaled_log_total_liquidation",
          "scaled_estimated_block_reward"
         ],
         "xaxis": "x",
         "y": [
          3687,
          3056,
          2935,
          2672,
          2587,
          2517,
          2507,
          2418,
          2401,
          2381,
          2376,
          2292,
          2283
         ],
         "yaxis": "y"
        }
       ],
       "layout": {
        "barmode": "relative",
        "legend": {
         "tracegroupgap": 0
        },
        "template": {
         "data": {
          "bar": [
           {
            "error_x": {
             "color": "#2a3f5f"
            },
            "error_y": {
             "color": "#2a3f5f"
            },
            "marker": {
             "line": {
              "color": "#E5ECF6",
              "width": 0.5
             },
             "pattern": {
              "fillmode": "overlay",
              "size": 10,
              "solidity": 0.2
             }
            },
            "type": "bar"
           }
          ],
          "barpolar": [
           {
            "marker": {
             "line": {
              "color": "#E5ECF6",
              "width": 0.5
             },
             "pattern": {
              "fillmode": "overlay",
              "size": 10,
              "solidity": 0.2
             }
            },
            "type": "barpolar"
           }
          ],
          "carpet": [
           {
            "aaxis": {
             "endlinecolor": "#2a3f5f",
             "gridcolor": "white",
             "linecolor": "white",
             "minorgridcolor": "white",
             "startlinecolor": "#2a3f5f"
            },
            "baxis": {
             "endlinecolor": "#2a3f5f",
             "gridcolor": "white",
             "linecolor": "white",
             "minorgridcolor": "white",
             "startlinecolor": "#2a3f5f"
            },
            "type": "carpet"
           }
          ],
          "choropleth": [
           {
            "colorbar": {
             "outlinewidth": 0,
             "ticks": ""
            },
            "type": "choropleth"
           }
          ],
          "contour": [
           {
            "colorbar": {
             "outlinewidth": 0,
             "ticks": ""
            },
            "colorscale": [
             [
              0,
              "#0d0887"
             ],
             [
              0.1111111111111111,
              "#46039f"
             ],
             [
              0.2222222222222222,
              "#7201a8"
             ],
             [
              0.3333333333333333,
              "#9c179e"
             ],
             [
              0.4444444444444444,
              "#bd3786"
             ],
             [
              0.5555555555555556,
              "#d8576b"
             ],
             [
              0.6666666666666666,
              "#ed7953"
             ],
             [
              0.7777777777777778,
              "#fb9f3a"
             ],
             [
              0.8888888888888888,
              "#fdca26"
             ],
             [
              1,
              "#f0f921"
             ]
            ],
            "type": "contour"
           }
          ],
          "contourcarpet": [
           {
            "colorbar": {
             "outlinewidth": 0,
             "ticks": ""
            },
            "type": "contourcarpet"
           }
          ],
          "heatmap": [
           {
            "colorbar": {
             "outlinewidth": 0,
             "ticks": ""
            },
            "colorscale": [
             [
              0,
              "#0d0887"
             ],
             [
              0.1111111111111111,
              "#46039f"
             ],
             [
              0.2222222222222222,
              "#7201a8"
             ],
             [
              0.3333333333333333,
              "#9c179e"
             ],
             [
              0.4444444444444444,
              "#bd3786"
             ],
             [
              0.5555555555555556,
              "#d8576b"
             ],
             [
              0.6666666666666666,
              "#ed7953"
             ],
             [
              0.7777777777777778,
              "#fb9f3a"
             ],
             [
              0.8888888888888888,
              "#fdca26"
             ],
             [
              1,
              "#f0f921"
             ]
            ],
            "type": "heatmap"
           }
          ],
          "heatmapgl": [
           {
            "colorbar": {
             "outlinewidth": 0,
             "ticks": ""
            },
            "colorscale": [
             [
              0,
              "#0d0887"
             ],
             [
              0.1111111111111111,
              "#46039f"
             ],
             [
              0.2222222222222222,
              "#7201a8"
             ],
             [
              0.3333333333333333,
              "#9c179e"
             ],
             [
              0.4444444444444444,
              "#bd3786"
             ],
             [
              0.5555555555555556,
              "#d8576b"
             ],
             [
              0.6666666666666666,
              "#ed7953"
             ],
             [
              0.7777777777777778,
              "#fb9f3a"
             ],
             [
              0.8888888888888888,
              "#fdca26"
             ],
             [
              1,
              "#f0f921"
             ]
            ],
            "type": "heatmapgl"
           }
          ],
          "histogram": [
           {
            "marker": {
             "pattern": {
              "fillmode": "overlay",
              "size": 10,
              "solidity": 0.2
             }
            },
            "type": "histogram"
           }
          ],
          "histogram2d": [
           {
            "colorbar": {
             "outlinewidth": 0,
             "ticks": ""
            },
            "colorscale": [
             [
              0,
              "#0d0887"
             ],
             [
              0.1111111111111111,
              "#46039f"
             ],
             [
              0.2222222222222222,
              "#7201a8"
             ],
             [
              0.3333333333333333,
              "#9c179e"
             ],
             [
              0.4444444444444444,
              "#bd3786"
             ],
             [
              0.5555555555555556,
              "#d8576b"
             ],
             [
              0.6666666666666666,
              "#ed7953"
             ],
             [
              0.7777777777777778,
              "#fb9f3a"
             ],
             [
              0.8888888888888888,
              "#fdca26"
             ],
             [
              1,
              "#f0f921"
             ]
            ],
            "type": "histogram2d"
           }
          ],
          "histogram2dcontour": [
           {
            "colorbar": {
             "outlinewidth": 0,
             "ticks": ""
            },
            "colorscale": [
             [
              0,
              "#0d0887"
             ],
             [
              0.1111111111111111,
              "#46039f"
             ],
             [
              0.2222222222222222,
              "#7201a8"
             ],
             [
              0.3333333333333333,
              "#9c179e"
             ],
             [
              0.4444444444444444,
              "#bd3786"
             ],
             [
              0.5555555555555556,
              "#d8576b"
             ],
             [
              0.6666666666666666,
              "#ed7953"
             ],
             [
              0.7777777777777778,
              "#fb9f3a"
             ],
             [
              0.8888888888888888,
              "#fdca26"
             ],
             [
              1,
              "#f0f921"
             ]
            ],
            "type": "histogram2dcontour"
           }
          ],
          "mesh3d": [
           {
            "colorbar": {
             "outlinewidth": 0,
             "ticks": ""
            },
            "type": "mesh3d"
           }
          ],
          "parcoords": [
           {
            "line": {
             "colorbar": {
              "outlinewidth": 0,
              "ticks": ""
             }
            },
            "type": "parcoords"
           }
          ],
          "pie": [
           {
            "automargin": true,
            "type": "pie"
           }
          ],
          "scatter": [
           {
            "fillpattern": {
             "fillmode": "overlay",
             "size": 10,
             "solidity": 0.2
            },
            "type": "scatter"
           }
          ],
          "scatter3d": [
           {
            "line": {
             "colorbar": {
              "outlinewidth": 0,
              "ticks": ""
             }
            },
            "marker": {
             "colorbar": {
              "outlinewidth": 0,
              "ticks": ""
             }
            },
            "type": "scatter3d"
           }
          ],
          "scattercarpet": [
           {
            "marker": {
             "colorbar": {
              "outlinewidth": 0,
              "ticks": ""
             }
            },
            "type": "scattercarpet"
           }
          ],
          "scattergeo": [
           {
            "marker": {
             "colorbar": {
              "outlinewidth": 0,
              "ticks": ""
             }
            },
            "type": "scattergeo"
           }
          ],
          "scattergl": [
           {
            "marker": {
             "colorbar": {
              "outlinewidth": 0,
              "ticks": ""
             }
            },
            "type": "scattergl"
           }
          ],
          "scattermapbox": [
           {
            "marker": {
             "colorbar": {
              "outlinewidth": 0,
              "ticks": ""
             }
            },
            "type": "scattermapbox"
           }
          ],
          "scatterpolar": [
           {
            "marker": {
             "colorbar": {
              "outlinewidth": 0,
              "ticks": ""
             }
            },
            "type": "scatterpolar"
           }
          ],
          "scatterpolargl": [
           {
            "marker": {
             "colorbar": {
              "outlinewidth": 0,
              "ticks": ""
             }
            },
            "type": "scatterpolargl"
           }
          ],
          "scatterternary": [
           {
            "marker": {
             "colorbar": {
              "outlinewidth": 0,
              "ticks": ""
             }
            },
            "type": "scatterternary"
           }
          ],
          "surface": [
           {
            "colorbar": {
             "outlinewidth": 0,
             "ticks": ""
            },
            "colorscale": [
             [
              0,
              "#0d0887"
             ],
             [
              0.1111111111111111,
              "#46039f"
             ],
             [
              0.2222222222222222,
              "#7201a8"
             ],
             [
              0.3333333333333333,
              "#9c179e"
             ],
             [
              0.4444444444444444,
              "#bd3786"
             ],
             [
              0.5555555555555556,
              "#d8576b"
             ],
             [
              0.6666666666666666,
              "#ed7953"
             ],
             [
              0.7777777777777778,
              "#fb9f3a"
             ],
             [
              0.8888888888888888,
              "#fdca26"
             ],
             [
              1,
              "#f0f921"
             ]
            ],
            "type": "surface"
           }
          ],
          "table": [
           {
            "cells": {
             "fill": {
              "color": "#EBF0F8"
             },
             "line": {
              "color": "white"
             }
            },
            "header": {
             "fill": {
              "color": "#C8D4E3"
             },
             "line": {
              "color": "white"
             }
            },
            "type": "table"
           }
          ]
         },
         "layout": {
          "annotationdefaults": {
           "arrowcolor": "#2a3f5f",
           "arrowhead": 0,
           "arrowwidth": 1
          },
          "autotypenumbers": "strict",
          "coloraxis": {
           "colorbar": {
            "outlinewidth": 0,
            "ticks": ""
           }
          },
          "colorscale": {
           "diverging": [
            [
             0,
             "#8e0152"
            ],
            [
             0.1,
             "#c51b7d"
            ],
            [
             0.2,
             "#de77ae"
            ],
            [
             0.3,
             "#f1b6da"
            ],
            [
             0.4,
             "#fde0ef"
            ],
            [
             0.5,
             "#f7f7f7"
            ],
            [
             0.6,
             "#e6f5d0"
            ],
            [
             0.7,
             "#b8e186"
            ],
            [
             0.8,
             "#7fbc41"
            ],
            [
             0.9,
             "#4d9221"
            ],
            [
             1,
             "#276419"
            ]
           ],
           "sequential": [
            [
             0,
             "#0d0887"
            ],
            [
             0.1111111111111111,
             "#46039f"
            ],
            [
             0.2222222222222222,
             "#7201a8"
            ],
            [
             0.3333333333333333,
             "#9c179e"
            ],
            [
             0.4444444444444444,
             "#bd3786"
            ],
            [
             0.5555555555555556,
             "#d8576b"
            ],
            [
             0.6666666666666666,
             "#ed7953"
            ],
            [
             0.7777777777777778,
             "#fb9f3a"
            ],
            [
             0.8888888888888888,
             "#fdca26"
            ],
            [
             1,
             "#f0f921"
            ]
           ],
           "sequentialminus": [
            [
             0,
             "#0d0887"
            ],
            [
             0.1111111111111111,
             "#46039f"
            ],
            [
             0.2222222222222222,
             "#7201a8"
            ],
            [
             0.3333333333333333,
             "#9c179e"
            ],
            [
             0.4444444444444444,
             "#bd3786"
            ],
            [
             0.5555555555555556,
             "#d8576b"
            ],
            [
             0.6666666666666666,
             "#ed7953"
            ],
            [
             0.7777777777777778,
             "#fb9f3a"
            ],
            [
             0.8888888888888888,
             "#fdca26"
            ],
            [
             1,
             "#f0f921"
            ]
           ]
          },
          "colorway": [
           "#636efa",
           "#EF553B",
           "#00cc96",
           "#ab63fa",
           "#FFA15A",
           "#19d3f3",
           "#FF6692",
           "#B6E880",
           "#FF97FF",
           "#FECB52"
          ],
          "font": {
           "color": "#2a3f5f"
          },
          "geo": {
           "bgcolor": "white",
           "lakecolor": "white",
           "landcolor": "#E5ECF6",
           "showlakes": true,
           "showland": true,
           "subunitcolor": "white"
          },
          "hoverlabel": {
           "align": "left"
          },
          "hovermode": "closest",
          "mapbox": {
           "style": "light"
          },
          "paper_bgcolor": "white",
          "plot_bgcolor": "#E5ECF6",
          "polar": {
           "angularaxis": {
            "gridcolor": "white",
            "linecolor": "white",
            "ticks": ""
           },
           "bgcolor": "#E5ECF6",
           "radialaxis": {
            "gridcolor": "white",
            "linecolor": "white",
            "ticks": ""
           }
          },
          "scene": {
           "xaxis": {
            "backgroundcolor": "#E5ECF6",
            "gridcolor": "white",
            "gridwidth": 2,
            "linecolor": "white",
            "showbackground": true,
            "ticks": "",
            "zerolinecolor": "white"
           },
           "yaxis": {
            "backgroundcolor": "#E5ECF6",
            "gridcolor": "white",
            "gridwidth": 2,
            "linecolor": "white",
            "showbackground": true,
            "ticks": "",
            "zerolinecolor": "white"
           },
           "zaxis": {
            "backgroundcolor": "#E5ECF6",
            "gridcolor": "white",
            "gridwidth": 2,
            "linecolor": "white",
            "showbackground": true,
            "ticks": "",
            "zerolinecolor": "white"
           }
          },
          "shapedefaults": {
           "line": {
            "color": "#2a3f5f"
           }
          },
          "ternary": {
           "aaxis": {
            "gridcolor": "white",
            "linecolor": "white",
            "ticks": ""
           },
           "baxis": {
            "gridcolor": "white",
            "linecolor": "white",
            "ticks": ""
           },
           "bgcolor": "#E5ECF6",
           "caxis": {
            "gridcolor": "white",
            "linecolor": "white",
            "ticks": ""
           }
          },
          "title": {
           "x": 0.05
          },
          "xaxis": {
           "automargin": true,
           "gridcolor": "white",
           "linecolor": "white",
           "ticks": "",
           "title": {
            "standoff": 15
           },
           "zerolinecolor": "white",
           "zerolinewidth": 2
          },
          "yaxis": {
           "automargin": true,
           "gridcolor": "white",
           "linecolor": "white",
           "ticks": "",
           "title": {
            "standoff": 15
           },
           "zerolinecolor": "white",
           "zerolinewidth": 2
          }
         }
        },
        "title": {
         "text": "Feature Importance"
        },
        "xaxis": {
         "anchor": "y",
         "domain": [
          0,
          1
         ],
         "title": {
          "text": "Feature"
         }
        },
        "yaxis": {
         "anchor": "x",
         "domain": [
          0,
          1
         ],
         "title": {
          "text": "Importance"
         }
        }
       }
      }
     },
     "metadata": {},
     "output_type": "display_data"
    }
   ],
   "source": [
    "import plotly.express as px\n",
    "\n",
    "# Feature importance 평가\n",
    "importance = xgb_model.get_score(importance_type='weight')\n",
    "importance_df = pd.DataFrame({\n",
    "    'Feature': [k for k in importance.keys()],\n",
    "    'Importance': importance.values()\n",
    "}).sort_values(by='Importance', ascending=False)\n",
    "\n",
    "# 시각화\n",
    "fig = px.bar(importance_df, x='Feature', y='Importance', title='Feature Importance')\n",
    "fig.show()"
   ]
  },
  {
   "cell_type": "markdown",
   "metadata": {},
   "source": [
    "---------------------------------------------------------------------"
   ]
  },
  {
   "cell_type": "code",
   "execution_count": 10,
   "metadata": {},
   "outputs": [
    {
     "name": "stdout",
     "output_type": "stream",
     "text": [
      "최적 부스팅 라운드 수: 200\n",
      "     train-mlogloss-mean  train-mlogloss-std  test-mlogloss-mean  \\\n",
      "195             0.569713            0.008407            1.085083   \n",
      "196             0.568109            0.008350            1.084817   \n",
      "197             0.566234            0.007949            1.084401   \n",
      "198             0.564624            0.007831            1.084133   \n",
      "199             0.562921            0.007945            1.084049   \n",
      "\n",
      "     test-mlogloss-std  \n",
      "195           0.018169  \n",
      "196           0.018254  \n",
      "197           0.018472  \n",
      "198           0.018644  \n",
      "199           0.018703  \n",
      "[0]\ttrain-mlogloss:1.36950\teval-mlogloss:1.37238\n",
      "[1]\ttrain-mlogloss:1.35238\teval-mlogloss:1.35939\n",
      "[2]\ttrain-mlogloss:1.33640\teval-mlogloss:1.34713\n",
      "[3]\ttrain-mlogloss:1.32020\teval-mlogloss:1.33552\n",
      "[4]\ttrain-mlogloss:1.30483\teval-mlogloss:1.32431\n",
      "[5]\ttrain-mlogloss:1.29064\teval-mlogloss:1.31503\n",
      "[6]\ttrain-mlogloss:1.27667\teval-mlogloss:1.30519\n",
      "[7]\ttrain-mlogloss:1.26347\teval-mlogloss:1.29666\n",
      "[8]\ttrain-mlogloss:1.25018\teval-mlogloss:1.28799\n",
      "[9]\ttrain-mlogloss:1.23802\teval-mlogloss:1.28052\n",
      "[10]\ttrain-mlogloss:1.22660\teval-mlogloss:1.27308\n",
      "[11]\ttrain-mlogloss:1.21565\teval-mlogloss:1.26637\n",
      "[12]\ttrain-mlogloss:1.20462\teval-mlogloss:1.25958\n",
      "[13]\ttrain-mlogloss:1.19477\teval-mlogloss:1.25358\n",
      "[14]\ttrain-mlogloss:1.18504\teval-mlogloss:1.24720\n",
      "[15]\ttrain-mlogloss:1.17515\teval-mlogloss:1.24134\n",
      "[16]\ttrain-mlogloss:1.16609\teval-mlogloss:1.23634\n",
      "[17]\ttrain-mlogloss:1.15679\teval-mlogloss:1.23147\n",
      "[18]\ttrain-mlogloss:1.14780\teval-mlogloss:1.22675\n",
      "[19]\ttrain-mlogloss:1.13887\teval-mlogloss:1.22221\n",
      "[20]\ttrain-mlogloss:1.13070\teval-mlogloss:1.21808\n",
      "[21]\ttrain-mlogloss:1.12314\teval-mlogloss:1.21409\n",
      "[22]\ttrain-mlogloss:1.11436\teval-mlogloss:1.20975\n",
      "[23]\ttrain-mlogloss:1.10650\teval-mlogloss:1.20570\n",
      "[24]\ttrain-mlogloss:1.09918\teval-mlogloss:1.20174\n",
      "[25]\ttrain-mlogloss:1.09222\teval-mlogloss:1.19867\n",
      "[26]\ttrain-mlogloss:1.08561\teval-mlogloss:1.19521\n",
      "[27]\ttrain-mlogloss:1.07834\teval-mlogloss:1.19184\n",
      "[28]\ttrain-mlogloss:1.07151\teval-mlogloss:1.18943\n",
      "[29]\ttrain-mlogloss:1.06570\teval-mlogloss:1.18654\n",
      "[30]\ttrain-mlogloss:1.05910\teval-mlogloss:1.18427\n",
      "[31]\ttrain-mlogloss:1.05286\teval-mlogloss:1.18161\n",
      "[32]\ttrain-mlogloss:1.04635\teval-mlogloss:1.17902\n",
      "[33]\ttrain-mlogloss:1.04033\teval-mlogloss:1.17660\n",
      "[34]\ttrain-mlogloss:1.03420\teval-mlogloss:1.17444\n",
      "[35]\ttrain-mlogloss:1.02830\teval-mlogloss:1.17223\n",
      "[36]\ttrain-mlogloss:1.02257\teval-mlogloss:1.17035\n",
      "[37]\ttrain-mlogloss:1.01691\teval-mlogloss:1.16843\n",
      "[38]\ttrain-mlogloss:1.01163\teval-mlogloss:1.16671\n",
      "[39]\ttrain-mlogloss:1.00624\teval-mlogloss:1.16522\n",
      "[40]\ttrain-mlogloss:1.00175\teval-mlogloss:1.16349\n",
      "[41]\ttrain-mlogloss:0.99677\teval-mlogloss:1.16207\n",
      "[42]\ttrain-mlogloss:0.99199\teval-mlogloss:1.16046\n",
      "[43]\ttrain-mlogloss:0.98711\teval-mlogloss:1.15878\n",
      "[44]\ttrain-mlogloss:0.98229\teval-mlogloss:1.15737\n",
      "[45]\ttrain-mlogloss:0.97749\teval-mlogloss:1.15618\n",
      "[46]\ttrain-mlogloss:0.97189\teval-mlogloss:1.15562\n",
      "[47]\ttrain-mlogloss:0.96632\teval-mlogloss:1.15455\n",
      "[48]\ttrain-mlogloss:0.96172\teval-mlogloss:1.15347\n",
      "[49]\ttrain-mlogloss:0.95741\teval-mlogloss:1.15233\n",
      "[50]\ttrain-mlogloss:0.95300\teval-mlogloss:1.15181\n",
      "[51]\ttrain-mlogloss:0.94885\teval-mlogloss:1.15103\n",
      "[52]\ttrain-mlogloss:0.94454\teval-mlogloss:1.15032\n",
      "[53]\ttrain-mlogloss:0.94072\teval-mlogloss:1.14976\n",
      "[54]\ttrain-mlogloss:0.93704\teval-mlogloss:1.14900\n",
      "[55]\ttrain-mlogloss:0.93296\teval-mlogloss:1.14822\n",
      "[56]\ttrain-mlogloss:0.92850\teval-mlogloss:1.14747\n",
      "[57]\ttrain-mlogloss:0.92515\teval-mlogloss:1.14640\n",
      "[58]\ttrain-mlogloss:0.92136\teval-mlogloss:1.14561\n",
      "[59]\ttrain-mlogloss:0.91723\teval-mlogloss:1.14492\n",
      "[60]\ttrain-mlogloss:0.91387\teval-mlogloss:1.14424\n",
      "[61]\ttrain-mlogloss:0.91027\teval-mlogloss:1.14354\n",
      "[62]\ttrain-mlogloss:0.90701\teval-mlogloss:1.14305\n",
      "[63]\ttrain-mlogloss:0.90353\teval-mlogloss:1.14276\n",
      "[64]\ttrain-mlogloss:0.90004\teval-mlogloss:1.14218\n",
      "[65]\ttrain-mlogloss:0.89634\teval-mlogloss:1.14176\n",
      "[66]\ttrain-mlogloss:0.89258\teval-mlogloss:1.14177\n",
      "[67]\ttrain-mlogloss:0.88834\teval-mlogloss:1.14159\n",
      "[68]\ttrain-mlogloss:0.88509\teval-mlogloss:1.14105\n",
      "[69]\ttrain-mlogloss:0.88191\teval-mlogloss:1.14103\n",
      "[70]\ttrain-mlogloss:0.87880\teval-mlogloss:1.14088\n",
      "[71]\ttrain-mlogloss:0.87602\teval-mlogloss:1.14043\n",
      "[72]\ttrain-mlogloss:0.87358\teval-mlogloss:1.14014\n",
      "[73]\ttrain-mlogloss:0.87138\teval-mlogloss:1.13971\n",
      "[74]\ttrain-mlogloss:0.86845\teval-mlogloss:1.13979\n",
      "[75]\ttrain-mlogloss:0.86544\teval-mlogloss:1.13945\n",
      "[76]\ttrain-mlogloss:0.86251\teval-mlogloss:1.13933\n",
      "[77]\ttrain-mlogloss:0.85949\teval-mlogloss:1.13911\n",
      "[78]\ttrain-mlogloss:0.85679\teval-mlogloss:1.13873\n",
      "[79]\ttrain-mlogloss:0.85353\teval-mlogloss:1.13832\n",
      "[80]\ttrain-mlogloss:0.85022\teval-mlogloss:1.13815\n",
      "[81]\ttrain-mlogloss:0.84775\teval-mlogloss:1.13788\n",
      "[82]\ttrain-mlogloss:0.84527\teval-mlogloss:1.13790\n",
      "[83]\ttrain-mlogloss:0.84269\teval-mlogloss:1.13774\n",
      "[84]\ttrain-mlogloss:0.84019\teval-mlogloss:1.13751\n",
      "[85]\ttrain-mlogloss:0.83767\teval-mlogloss:1.13730\n",
      "[86]\ttrain-mlogloss:0.83538\teval-mlogloss:1.13708\n",
      "[87]\ttrain-mlogloss:0.83255\teval-mlogloss:1.13680\n",
      "[88]\ttrain-mlogloss:0.82991\teval-mlogloss:1.13640\n",
      "[89]\ttrain-mlogloss:0.82714\teval-mlogloss:1.13642\n",
      "[90]\ttrain-mlogloss:0.82439\teval-mlogloss:1.13637\n",
      "[91]\ttrain-mlogloss:0.82188\teval-mlogloss:1.13644\n",
      "[92]\ttrain-mlogloss:0.81961\teval-mlogloss:1.13681\n",
      "[93]\ttrain-mlogloss:0.81671\teval-mlogloss:1.13650\n",
      "[94]\ttrain-mlogloss:0.81479\teval-mlogloss:1.13669\n",
      "[95]\ttrain-mlogloss:0.81304\teval-mlogloss:1.13646\n",
      "[96]\ttrain-mlogloss:0.81095\teval-mlogloss:1.13655\n",
      "[97]\ttrain-mlogloss:0.80877\teval-mlogloss:1.13622\n",
      "[98]\ttrain-mlogloss:0.80669\teval-mlogloss:1.13679\n",
      "[99]\ttrain-mlogloss:0.80477\teval-mlogloss:1.13653\n",
      "[100]\ttrain-mlogloss:0.80234\teval-mlogloss:1.13643\n",
      "[101]\ttrain-mlogloss:0.79980\teval-mlogloss:1.13635\n",
      "[102]\ttrain-mlogloss:0.79821\teval-mlogloss:1.13621\n",
      "[103]\ttrain-mlogloss:0.79615\teval-mlogloss:1.13628\n",
      "[104]\ttrain-mlogloss:0.79444\teval-mlogloss:1.13642\n",
      "[105]\ttrain-mlogloss:0.79177\teval-mlogloss:1.13652\n",
      "[106]\ttrain-mlogloss:0.79037\teval-mlogloss:1.13637\n",
      "[107]\ttrain-mlogloss:0.78787\teval-mlogloss:1.13650\n",
      "[108]\ttrain-mlogloss:0.78592\teval-mlogloss:1.13672\n",
      "[109]\ttrain-mlogloss:0.78356\teval-mlogloss:1.13687\n",
      "[110]\ttrain-mlogloss:0.78091\teval-mlogloss:1.13714\n",
      "[111]\ttrain-mlogloss:0.77801\teval-mlogloss:1.13759\n",
      "훈련 정확도: 0.8320123520329388\n",
      "              precision    recall  f1-score   support\n",
      "\n",
      "           0       0.99      0.56      0.72      1000\n",
      "           1       0.83      0.88      0.86      3544\n",
      "           2       0.79      0.92      0.85      3671\n",
      "           3       0.91      0.68      0.78      1500\n",
      "\n",
      "    accuracy                           0.83      9715\n",
      "   macro avg       0.88      0.76      0.80      9715\n",
      "weighted avg       0.85      0.83      0.83      9715\n",
      "\n",
      "검증 정확도: 0.4269406392694064\n",
      "              precision    recall  f1-score   support\n",
      "\n",
      "           0       0.18      0.04      0.07       149\n",
      "           1       0.42      0.47      0.44       678\n",
      "           2       0.46      0.54      0.50       745\n",
      "           3       0.26      0.13      0.17       180\n",
      "\n",
      "    accuracy                           0.43      1752\n",
      "   macro avg       0.33      0.29      0.29      1752\n",
      "weighted avg       0.40      0.43      0.41      1752\n",
      "\n"
     ]
    }
   ],
   "source": [
    "# smote + cv\n",
    "import xgboost as xgb\n",
    "from imblearn.over_sampling import SMOTE\n",
    "from sklearn.metrics import accuracy_score, classification_report\n",
    "from sklearn.model_selection import train_test_split\n",
    "\n",
    "# _type에 따라 train, test 분리\n",
    "train_df = df.loc[df[\"_type\"] == \"train\"].drop(columns=[\"_type\"])\n",
    "train_df = train_df.ffill()\n",
    "test_df = df.loc[df[\"_type\"] == \"test\"].drop(columns=[\"_type\"])\n",
    "\n",
    "# train_test_split 으로 valid set, train set 분리\n",
    "x_train, x_valid, y_train, y_valid = train_test_split(\n",
    "    train_df.drop([\"target\", \"ID\"], axis=1),\n",
    "    train_df[\"target\"].astype(int),\n",
    "    test_size=0.2,\n",
    "    random_state=42,\n",
    ")\n",
    "\n",
    "# SMOTE를 이용한 오버샘플링\n",
    "sampling_strategy = {0: 1000, 1: 3544, 2: 3671, 3: 1500}\n",
    "smote = SMOTE(sampling_strategy=sampling_strategy, random_state=42)\n",
    "x_train_resampled, y_train_resampled = smote.fit_resample(x_train, y_train)\n",
    "\n",
    "# XGBoost 모델을 위한 DMatrix로 변환\n",
    "dtrain = xgb.DMatrix(x_train_resampled, label=y_train_resampled)\n",
    "dvalid = xgb.DMatrix(x_valid, label=y_valid)\n",
    "\n",
    "# XGBoost 모델 학습 파라미터\n",
    "params = {\n",
    "    \"objective\": \"multi:softprob\",  # 다중 클래스 분류\n",
    "    \"num_class\": len(y_train_resampled.unique()),  # 클래스 개수\n",
    "    \"eval_metric\": \"mlogloss\",  # 손실 함수 (멀티클래스 로지스틱 손실)\n",
    "    \"max_depth\": 7,\n",
    "    \"learning_rate\": 0.05,\n",
    "    \"subsample\": 0.8,\n",
    "    \"colsample_bytree\": 0.8,\n",
    "    \"seed\": 42\n",
    "}\n",
    "\n",
    "# 교차 검증 설정 (5-fold)\n",
    "cv_results = xgb.cv(\n",
    "    params=params,\n",
    "    dtrain=dtrain,\n",
    "    num_boost_round=200,\n",
    "    nfold=5,\n",
    "    early_stopping_rounds=10,\n",
    "    metrics=\"mlogloss\",\n",
    "    as_pandas=True,\n",
    "    seed=42\n",
    ")\n",
    "\n",
    "# 최적의 부스팅 라운드 수 확인\n",
    "best_num_boost_rounds = len(cv_results)\n",
    "\n",
    "# 교차 검증 결과 출력\n",
    "print(\"최적 부스팅 라운드 수:\", best_num_boost_rounds)\n",
    "print(cv_results.tail())\n",
    "\n",
    "# 최적의 부스팅 라운드로 모델 학습\n",
    "xgb_model = xgb.train(\n",
    "    params=params,\n",
    "    dtrain=dtrain,\n",
    "    num_boost_round=best_num_boost_rounds,\n",
    "    evals=[(dtrain, \"train\"), (dvalid, \"eval\")],\n",
    "    early_stopping_rounds=10\n",
    ")\n",
    "\n",
    "# 예측 (훈련 데이터셋)\n",
    "y_train_pred_prob = xgb_model.predict(dtrain)\n",
    "y_train_pred = y_train_pred_prob.argmax(axis=1)\n",
    "\n",
    "# 예측 (검증 데이터셋)\n",
    "y_valid_pred_prob = xgb_model.predict(dvalid)\n",
    "y_valid_pred = y_valid_pred_prob.argmax(axis=1)\n",
    "\n",
    "# 성능 평가 (훈련 데이터셋)\n",
    "train_accuracy = accuracy_score(y_train_resampled, y_train_pred)\n",
    "train_classification_rep = classification_report(y_train_resampled, y_train_pred)\n",
    "\n",
    "# 성능 평가 (검증 데이터셋)\n",
    "valid_accuracy = accuracy_score(y_valid, y_valid_pred)\n",
    "valid_classification_rep = classification_report(y_valid, y_valid_pred)\n",
    "\n",
    "# 결과 출력\n",
    "print(f\"훈련 정확도: {train_accuracy}\")\n",
    "print(train_classification_rep)\n",
    "print(f\"검증 정확도: {valid_accuracy}\")\n",
    "print(valid_classification_rep)\n"
   ]
  },
  {
   "cell_type": "code",
   "execution_count": 119,
   "metadata": {},
   "outputs": [
    {
     "name": "stdout",
     "output_type": "stream",
     "text": [
      "[0]\ttrain-mlogloss:1.36861\teval-mlogloss:1.37251\n",
      "[1]\ttrain-mlogloss:1.35180\teval-mlogloss:1.36009\n",
      "[2]\ttrain-mlogloss:1.33585\teval-mlogloss:1.34759\n",
      "[3]\ttrain-mlogloss:1.31973\teval-mlogloss:1.33592\n",
      "[4]\ttrain-mlogloss:1.30502\teval-mlogloss:1.32466\n",
      "[5]\ttrain-mlogloss:1.29096\teval-mlogloss:1.31506\n",
      "[6]\ttrain-mlogloss:1.27784\teval-mlogloss:1.30595\n",
      "[7]\ttrain-mlogloss:1.26435\teval-mlogloss:1.29753\n",
      "[8]\ttrain-mlogloss:1.25164\teval-mlogloss:1.28949\n",
      "[9]\ttrain-mlogloss:1.23899\teval-mlogloss:1.28150\n",
      "[10]\ttrain-mlogloss:1.22753\teval-mlogloss:1.27387\n",
      "[11]\ttrain-mlogloss:1.21586\teval-mlogloss:1.26633\n",
      "[12]\ttrain-mlogloss:1.20540\teval-mlogloss:1.25956\n"
     ]
    },
    {
     "name": "stderr",
     "output_type": "stream",
     "text": [
      "c:\\Users\\com\\miniconda3\\Lib\\site-packages\\xgboost\\core.py:160: UserWarning:\n",
      "\n",
      "[12:14:08] WARNING: C:\\buildkite-agent\\builds\\buildkite-windows-cpu-autoscaling-group-i-0b3782d1791676daf-1\\xgboost\\xgboost-ci-windows\\src\\learner.cc:742: \n",
      "Parameters: { \"early_stopping_rounds\", \"verbose\" } are not used.\n",
      "\n",
      "\n"
     ]
    },
    {
     "name": "stdout",
     "output_type": "stream",
     "text": [
      "[13]\ttrain-mlogloss:1.19487\teval-mlogloss:1.25306\n",
      "[14]\ttrain-mlogloss:1.18475\teval-mlogloss:1.24706\n",
      "[15]\ttrain-mlogloss:1.17457\teval-mlogloss:1.24046\n",
      "[16]\ttrain-mlogloss:1.16528\teval-mlogloss:1.23543\n",
      "[17]\ttrain-mlogloss:1.15601\teval-mlogloss:1.22986\n",
      "[18]\ttrain-mlogloss:1.14735\teval-mlogloss:1.22514\n",
      "[19]\ttrain-mlogloss:1.13876\teval-mlogloss:1.22060\n",
      "[20]\ttrain-mlogloss:1.13029\teval-mlogloss:1.21648\n",
      "[21]\ttrain-mlogloss:1.12147\teval-mlogloss:1.21239\n",
      "[22]\ttrain-mlogloss:1.11387\teval-mlogloss:1.20862\n",
      "[23]\ttrain-mlogloss:1.10606\teval-mlogloss:1.20487\n",
      "[24]\ttrain-mlogloss:1.09852\teval-mlogloss:1.20127\n",
      "[25]\ttrain-mlogloss:1.09119\teval-mlogloss:1.19780\n",
      "[26]\ttrain-mlogloss:1.08425\teval-mlogloss:1.19465\n",
      "[27]\ttrain-mlogloss:1.07697\teval-mlogloss:1.19138\n",
      "[28]\ttrain-mlogloss:1.07004\teval-mlogloss:1.18871\n",
      "[29]\ttrain-mlogloss:1.06352\teval-mlogloss:1.18575\n",
      "[30]\ttrain-mlogloss:1.05717\teval-mlogloss:1.18327\n",
      "[31]\ttrain-mlogloss:1.05115\teval-mlogloss:1.18076\n",
      "[32]\ttrain-mlogloss:1.04554\teval-mlogloss:1.17772\n",
      "[33]\ttrain-mlogloss:1.03927\teval-mlogloss:1.17532\n",
      "[34]\ttrain-mlogloss:1.03373\teval-mlogloss:1.17334\n",
      "[35]\ttrain-mlogloss:1.02802\teval-mlogloss:1.17144\n",
      "[36]\ttrain-mlogloss:1.02246\teval-mlogloss:1.16947\n",
      "[37]\ttrain-mlogloss:1.01756\teval-mlogloss:1.16792\n",
      "[38]\ttrain-mlogloss:1.01192\teval-mlogloss:1.16623\n",
      "[39]\ttrain-mlogloss:1.00630\teval-mlogloss:1.16499\n",
      "[40]\ttrain-mlogloss:1.00136\teval-mlogloss:1.16368\n",
      "[41]\ttrain-mlogloss:0.99591\teval-mlogloss:1.16188\n",
      "[42]\ttrain-mlogloss:0.99078\teval-mlogloss:1.16012\n",
      "[43]\ttrain-mlogloss:0.98529\teval-mlogloss:1.15865\n",
      "[44]\ttrain-mlogloss:0.98020\teval-mlogloss:1.15698\n",
      "[45]\ttrain-mlogloss:0.97626\teval-mlogloss:1.15563\n",
      "[46]\ttrain-mlogloss:0.97185\teval-mlogloss:1.15377\n",
      "[47]\ttrain-mlogloss:0.96706\teval-mlogloss:1.15237\n",
      "[48]\ttrain-mlogloss:0.96217\teval-mlogloss:1.15079\n",
      "[49]\ttrain-mlogloss:0.95766\teval-mlogloss:1.14984\n",
      "[50]\ttrain-mlogloss:0.95406\teval-mlogloss:1.14866\n",
      "[51]\ttrain-mlogloss:0.94964\teval-mlogloss:1.14779\n",
      "[52]\ttrain-mlogloss:0.94541\teval-mlogloss:1.14706\n",
      "[53]\ttrain-mlogloss:0.94168\teval-mlogloss:1.14621\n",
      "[54]\ttrain-mlogloss:0.93814\teval-mlogloss:1.14548\n",
      "[55]\ttrain-mlogloss:0.93412\teval-mlogloss:1.14480\n",
      "[56]\ttrain-mlogloss:0.93073\teval-mlogloss:1.14416\n",
      "[57]\ttrain-mlogloss:0.92639\teval-mlogloss:1.14343\n",
      "[58]\ttrain-mlogloss:0.92166\teval-mlogloss:1.14277\n",
      "[59]\ttrain-mlogloss:0.91777\teval-mlogloss:1.14201\n",
      "[60]\ttrain-mlogloss:0.91422\teval-mlogloss:1.14149\n",
      "[61]\ttrain-mlogloss:0.90985\teval-mlogloss:1.14101\n",
      "[62]\ttrain-mlogloss:0.90626\teval-mlogloss:1.14051\n",
      "[63]\ttrain-mlogloss:0.90235\teval-mlogloss:1.13982\n",
      "[64]\ttrain-mlogloss:0.89929\teval-mlogloss:1.13920\n",
      "[65]\ttrain-mlogloss:0.89634\teval-mlogloss:1.13844\n",
      "[66]\ttrain-mlogloss:0.89409\teval-mlogloss:1.13769\n",
      "[67]\ttrain-mlogloss:0.89151\teval-mlogloss:1.13717\n",
      "[68]\ttrain-mlogloss:0.88770\teval-mlogloss:1.13656\n",
      "[69]\ttrain-mlogloss:0.88459\teval-mlogloss:1.13600\n",
      "[70]\ttrain-mlogloss:0.88136\teval-mlogloss:1.13568\n",
      "[71]\ttrain-mlogloss:0.87827\teval-mlogloss:1.13534\n",
      "[72]\ttrain-mlogloss:0.87517\teval-mlogloss:1.13464\n",
      "[73]\ttrain-mlogloss:0.87126\teval-mlogloss:1.13423\n",
      "[74]\ttrain-mlogloss:0.86874\teval-mlogloss:1.13319\n",
      "[75]\ttrain-mlogloss:0.86543\teval-mlogloss:1.13290\n",
      "[76]\ttrain-mlogloss:0.86267\teval-mlogloss:1.13270\n",
      "[77]\ttrain-mlogloss:0.85972\teval-mlogloss:1.13233\n",
      "[78]\ttrain-mlogloss:0.85716\teval-mlogloss:1.13197\n",
      "[79]\ttrain-mlogloss:0.85466\teval-mlogloss:1.13190\n",
      "[80]\ttrain-mlogloss:0.85177\teval-mlogloss:1.13178\n",
      "[81]\ttrain-mlogloss:0.84906\teval-mlogloss:1.13171\n",
      "[82]\ttrain-mlogloss:0.84600\teval-mlogloss:1.13135\n",
      "[83]\ttrain-mlogloss:0.84345\teval-mlogloss:1.13084\n",
      "[84]\ttrain-mlogloss:0.84044\teval-mlogloss:1.13104\n",
      "[85]\ttrain-mlogloss:0.83760\teval-mlogloss:1.13079\n",
      "[86]\ttrain-mlogloss:0.83532\teval-mlogloss:1.13066\n",
      "[87]\ttrain-mlogloss:0.83263\teval-mlogloss:1.13031\n",
      "[88]\ttrain-mlogloss:0.83014\teval-mlogloss:1.13051\n",
      "[89]\ttrain-mlogloss:0.82747\teval-mlogloss:1.13054\n",
      "[90]\ttrain-mlogloss:0.82575\teval-mlogloss:1.13042\n",
      "[91]\ttrain-mlogloss:0.82358\teval-mlogloss:1.12997\n",
      "[92]\ttrain-mlogloss:0.82122\teval-mlogloss:1.12995\n",
      "[93]\ttrain-mlogloss:0.81845\teval-mlogloss:1.12971\n",
      "[94]\ttrain-mlogloss:0.81652\teval-mlogloss:1.12976\n",
      "[95]\ttrain-mlogloss:0.81334\teval-mlogloss:1.12952\n",
      "[96]\ttrain-mlogloss:0.81158\teval-mlogloss:1.12943\n",
      "[97]\ttrain-mlogloss:0.80900\teval-mlogloss:1.12955\n",
      "[98]\ttrain-mlogloss:0.80685\teval-mlogloss:1.12971\n",
      "[99]\ttrain-mlogloss:0.80431\teval-mlogloss:1.12988\n",
      "[100]\ttrain-mlogloss:0.80198\teval-mlogloss:1.13008\n",
      "[101]\ttrain-mlogloss:0.79951\teval-mlogloss:1.13014\n",
      "[102]\ttrain-mlogloss:0.79724\teval-mlogloss:1.13010\n",
      "[103]\ttrain-mlogloss:0.79446\teval-mlogloss:1.13025\n",
      "[104]\ttrain-mlogloss:0.79241\teval-mlogloss:1.13024\n",
      "[105]\ttrain-mlogloss:0.78983\teval-mlogloss:1.13021\n",
      "[106]\ttrain-mlogloss:0.78672\teval-mlogloss:1.12988\n",
      "[0]\ttrain-mlogloss:1.36861\teval-mlogloss:1.37251\n",
      "[1]\ttrain-mlogloss:1.35180\teval-mlogloss:1.36009\n",
      "[2]\ttrain-mlogloss:1.33585\teval-mlogloss:1.34759\n",
      "[3]\ttrain-mlogloss:1.31973\teval-mlogloss:1.33592\n",
      "[4]\ttrain-mlogloss:1.30502\teval-mlogloss:1.32466\n",
      "[5]\ttrain-mlogloss:1.29096\teval-mlogloss:1.31506\n",
      "[6]\ttrain-mlogloss:1.27784\teval-mlogloss:1.30595\n",
      "[7]\ttrain-mlogloss:1.26435\teval-mlogloss:1.29753\n",
      "[8]\ttrain-mlogloss:1.25164\teval-mlogloss:1.28949\n",
      "[9]\ttrain-mlogloss:1.23899\teval-mlogloss:1.28150\n"
     ]
    },
    {
     "name": "stderr",
     "output_type": "stream",
     "text": [
      "c:\\Users\\com\\miniconda3\\Lib\\site-packages\\xgboost\\core.py:160: UserWarning:\n",
      "\n",
      "[12:14:10] WARNING: C:\\buildkite-agent\\builds\\buildkite-windows-cpu-autoscaling-group-i-0b3782d1791676daf-1\\xgboost\\xgboost-ci-windows\\src\\learner.cc:742: \n",
      "Parameters: { \"early_stopping_rounds\", \"verbose\" } are not used.\n",
      "\n",
      "\n"
     ]
    },
    {
     "name": "stdout",
     "output_type": "stream",
     "text": [
      "[10]\ttrain-mlogloss:1.22753\teval-mlogloss:1.27387\n",
      "[11]\ttrain-mlogloss:1.21586\teval-mlogloss:1.26633\n",
      "[12]\ttrain-mlogloss:1.20540\teval-mlogloss:1.25956\n",
      "[13]\ttrain-mlogloss:1.19487\teval-mlogloss:1.25306\n",
      "[14]\ttrain-mlogloss:1.18475\teval-mlogloss:1.24706\n",
      "[15]\ttrain-mlogloss:1.17457\teval-mlogloss:1.24046\n",
      "[16]\ttrain-mlogloss:1.16528\teval-mlogloss:1.23543\n",
      "[17]\ttrain-mlogloss:1.15601\teval-mlogloss:1.22986\n",
      "[18]\ttrain-mlogloss:1.14735\teval-mlogloss:1.22514\n",
      "[19]\ttrain-mlogloss:1.13876\teval-mlogloss:1.22060\n",
      "[20]\ttrain-mlogloss:1.13029\teval-mlogloss:1.21648\n",
      "[21]\ttrain-mlogloss:1.12147\teval-mlogloss:1.21239\n",
      "[22]\ttrain-mlogloss:1.11387\teval-mlogloss:1.20862\n",
      "[23]\ttrain-mlogloss:1.10606\teval-mlogloss:1.20487\n",
      "[24]\ttrain-mlogloss:1.09852\teval-mlogloss:1.20127\n",
      "[25]\ttrain-mlogloss:1.09119\teval-mlogloss:1.19780\n",
      "[26]\ttrain-mlogloss:1.08425\teval-mlogloss:1.19465\n",
      "[27]\ttrain-mlogloss:1.07697\teval-mlogloss:1.19138\n",
      "[28]\ttrain-mlogloss:1.07004\teval-mlogloss:1.18871\n",
      "[29]\ttrain-mlogloss:1.06352\teval-mlogloss:1.18575\n",
      "[30]\ttrain-mlogloss:1.05717\teval-mlogloss:1.18327\n",
      "[31]\ttrain-mlogloss:1.05115\teval-mlogloss:1.18076\n",
      "[32]\ttrain-mlogloss:1.04554\teval-mlogloss:1.17772\n",
      "[33]\ttrain-mlogloss:1.03927\teval-mlogloss:1.17532\n",
      "[34]\ttrain-mlogloss:1.03373\teval-mlogloss:1.17334\n",
      "[35]\ttrain-mlogloss:1.02802\teval-mlogloss:1.17144\n",
      "[36]\ttrain-mlogloss:1.02246\teval-mlogloss:1.16947\n",
      "[37]\ttrain-mlogloss:1.01756\teval-mlogloss:1.16792\n",
      "[38]\ttrain-mlogloss:1.01192\teval-mlogloss:1.16623\n",
      "[39]\ttrain-mlogloss:1.00630\teval-mlogloss:1.16499\n",
      "[40]\ttrain-mlogloss:1.00136\teval-mlogloss:1.16368\n",
      "[41]\ttrain-mlogloss:0.99591\teval-mlogloss:1.16188\n",
      "[42]\ttrain-mlogloss:0.99078\teval-mlogloss:1.16012\n",
      "[43]\ttrain-mlogloss:0.98529\teval-mlogloss:1.15865\n",
      "[44]\ttrain-mlogloss:0.98020\teval-mlogloss:1.15698\n",
      "[45]\ttrain-mlogloss:0.97626\teval-mlogloss:1.15563\n",
      "[46]\ttrain-mlogloss:0.97185\teval-mlogloss:1.15377\n",
      "[47]\ttrain-mlogloss:0.96706\teval-mlogloss:1.15237\n",
      "[48]\ttrain-mlogloss:0.96217\teval-mlogloss:1.15079\n",
      "[49]\ttrain-mlogloss:0.95766\teval-mlogloss:1.14984\n",
      "[50]\ttrain-mlogloss:0.95406\teval-mlogloss:1.14866\n",
      "[51]\ttrain-mlogloss:0.94964\teval-mlogloss:1.14779\n",
      "[52]\ttrain-mlogloss:0.94541\teval-mlogloss:1.14706\n",
      "[53]\ttrain-mlogloss:0.94168\teval-mlogloss:1.14621\n",
      "[54]\ttrain-mlogloss:0.93814\teval-mlogloss:1.14548\n",
      "[55]\ttrain-mlogloss:0.93412\teval-mlogloss:1.14480\n",
      "[56]\ttrain-mlogloss:0.93073\teval-mlogloss:1.14416\n",
      "[57]\ttrain-mlogloss:0.92639\teval-mlogloss:1.14343\n",
      "[58]\ttrain-mlogloss:0.92166\teval-mlogloss:1.14277\n",
      "[59]\ttrain-mlogloss:0.91777\teval-mlogloss:1.14201\n",
      "[60]\ttrain-mlogloss:0.91422\teval-mlogloss:1.14149\n",
      "[61]\ttrain-mlogloss:0.90985\teval-mlogloss:1.14101\n",
      "[62]\ttrain-mlogloss:0.90626\teval-mlogloss:1.14051\n",
      "[63]\ttrain-mlogloss:0.90235\teval-mlogloss:1.13982\n",
      "[64]\ttrain-mlogloss:0.89929\teval-mlogloss:1.13920\n",
      "[65]\ttrain-mlogloss:0.89634\teval-mlogloss:1.13844\n",
      "[66]\ttrain-mlogloss:0.89409\teval-mlogloss:1.13769\n",
      "[67]\ttrain-mlogloss:0.89151\teval-mlogloss:1.13717\n",
      "[68]\ttrain-mlogloss:0.88770\teval-mlogloss:1.13656\n",
      "[69]\ttrain-mlogloss:0.88459\teval-mlogloss:1.13600\n",
      "[70]\ttrain-mlogloss:0.88136\teval-mlogloss:1.13568\n",
      "[71]\ttrain-mlogloss:0.87827\teval-mlogloss:1.13534\n",
      "[72]\ttrain-mlogloss:0.87517\teval-mlogloss:1.13464\n",
      "[73]\ttrain-mlogloss:0.87126\teval-mlogloss:1.13423\n",
      "[74]\ttrain-mlogloss:0.86874\teval-mlogloss:1.13319\n",
      "[75]\ttrain-mlogloss:0.86543\teval-mlogloss:1.13290\n",
      "[76]\ttrain-mlogloss:0.86267\teval-mlogloss:1.13270\n",
      "[77]\ttrain-mlogloss:0.85972\teval-mlogloss:1.13233\n",
      "[78]\ttrain-mlogloss:0.85716\teval-mlogloss:1.13197\n",
      "[79]\ttrain-mlogloss:0.85466\teval-mlogloss:1.13190\n",
      "[80]\ttrain-mlogloss:0.85177\teval-mlogloss:1.13178\n",
      "[81]\ttrain-mlogloss:0.84906\teval-mlogloss:1.13171\n",
      "[82]\ttrain-mlogloss:0.84600\teval-mlogloss:1.13135\n",
      "[83]\ttrain-mlogloss:0.84345\teval-mlogloss:1.13084\n",
      "[84]\ttrain-mlogloss:0.84044\teval-mlogloss:1.13104\n",
      "[85]\ttrain-mlogloss:0.83760\teval-mlogloss:1.13079\n",
      "[86]\ttrain-mlogloss:0.83532\teval-mlogloss:1.13066\n",
      "[87]\ttrain-mlogloss:0.83263\teval-mlogloss:1.13031\n",
      "[88]\ttrain-mlogloss:0.83014\teval-mlogloss:1.13051\n",
      "[89]\ttrain-mlogloss:0.82747\teval-mlogloss:1.13054\n",
      "[90]\ttrain-mlogloss:0.82575\teval-mlogloss:1.13042\n",
      "[91]\ttrain-mlogloss:0.82358\teval-mlogloss:1.12997\n",
      "[92]\ttrain-mlogloss:0.82122\teval-mlogloss:1.12995\n",
      "[93]\ttrain-mlogloss:0.81845\teval-mlogloss:1.12971\n",
      "[94]\ttrain-mlogloss:0.81652\teval-mlogloss:1.12976\n",
      "[95]\ttrain-mlogloss:0.81334\teval-mlogloss:1.12952\n",
      "[96]\ttrain-mlogloss:0.81158\teval-mlogloss:1.12943\n",
      "[97]\ttrain-mlogloss:0.80900\teval-mlogloss:1.12955\n",
      "[98]\ttrain-mlogloss:0.80685\teval-mlogloss:1.12971\n",
      "[99]\ttrain-mlogloss:0.80431\teval-mlogloss:1.12988\n",
      "[100]\ttrain-mlogloss:0.80198\teval-mlogloss:1.13008\n",
      "[101]\ttrain-mlogloss:0.79951\teval-mlogloss:1.13014\n",
      "[102]\ttrain-mlogloss:0.79724\teval-mlogloss:1.13010\n",
      "[103]\ttrain-mlogloss:0.79446\teval-mlogloss:1.13025\n",
      "[104]\ttrain-mlogloss:0.79241\teval-mlogloss:1.13024\n",
      "[105]\ttrain-mlogloss:0.78983\teval-mlogloss:1.13021\n",
      "[106]\ttrain-mlogloss:0.78672\teval-mlogloss:1.12988\n",
      "[0]\ttrain-mlogloss:1.36861\teval-mlogloss:1.37251\n",
      "[1]\ttrain-mlogloss:1.35180\teval-mlogloss:1.36009\n",
      "[2]\ttrain-mlogloss:1.33585\teval-mlogloss:1.34759\n",
      "[3]\ttrain-mlogloss:1.31973\teval-mlogloss:1.33592\n",
      "[4]\ttrain-mlogloss:1.30502\teval-mlogloss:1.32466\n",
      "[5]\ttrain-mlogloss:1.29096\teval-mlogloss:1.31506\n",
      "[6]\ttrain-mlogloss:1.27784\teval-mlogloss:1.30595\n",
      "[7]\ttrain-mlogloss:1.26435\teval-mlogloss:1.29753\n",
      "[8]\ttrain-mlogloss:1.25164\teval-mlogloss:1.28949\n",
      "[9]\ttrain-mlogloss:1.23899\teval-mlogloss:1.28150\n",
      "[10]\ttrain-mlogloss:1.22753\teval-mlogloss:1.27387\n",
      "[11]\ttrain-mlogloss:1.21586\teval-mlogloss:1.26633\n",
      "[12]\ttrain-mlogloss:1.20540\teval-mlogloss:1.25956\n",
      "[13]\ttrain-mlogloss:1.19487\teval-mlogloss:1.25306\n"
     ]
    },
    {
     "name": "stderr",
     "output_type": "stream",
     "text": [
      "c:\\Users\\com\\miniconda3\\Lib\\site-packages\\xgboost\\core.py:160: UserWarning:\n",
      "\n",
      "[12:14:12] WARNING: C:\\buildkite-agent\\builds\\buildkite-windows-cpu-autoscaling-group-i-0b3782d1791676daf-1\\xgboost\\xgboost-ci-windows\\src\\learner.cc:742: \n",
      "Parameters: { \"early_stopping_rounds\", \"verbose\" } are not used.\n",
      "\n",
      "\n"
     ]
    },
    {
     "name": "stdout",
     "output_type": "stream",
     "text": [
      "[14]\ttrain-mlogloss:1.18475\teval-mlogloss:1.24706\n",
      "[15]\ttrain-mlogloss:1.17457\teval-mlogloss:1.24046\n",
      "[16]\ttrain-mlogloss:1.16528\teval-mlogloss:1.23543\n",
      "[17]\ttrain-mlogloss:1.15601\teval-mlogloss:1.22986\n",
      "[18]\ttrain-mlogloss:1.14735\teval-mlogloss:1.22514\n",
      "[19]\ttrain-mlogloss:1.13876\teval-mlogloss:1.22060\n",
      "[20]\ttrain-mlogloss:1.13029\teval-mlogloss:1.21648\n",
      "[21]\ttrain-mlogloss:1.12147\teval-mlogloss:1.21239\n",
      "[22]\ttrain-mlogloss:1.11387\teval-mlogloss:1.20862\n",
      "[23]\ttrain-mlogloss:1.10606\teval-mlogloss:1.20487\n",
      "[24]\ttrain-mlogloss:1.09852\teval-mlogloss:1.20127\n",
      "[25]\ttrain-mlogloss:1.09119\teval-mlogloss:1.19780\n",
      "[26]\ttrain-mlogloss:1.08425\teval-mlogloss:1.19465\n",
      "[27]\ttrain-mlogloss:1.07697\teval-mlogloss:1.19138\n",
      "[28]\ttrain-mlogloss:1.07004\teval-mlogloss:1.18871\n",
      "[29]\ttrain-mlogloss:1.06352\teval-mlogloss:1.18575\n",
      "[30]\ttrain-mlogloss:1.05717\teval-mlogloss:1.18327\n",
      "[31]\ttrain-mlogloss:1.05115\teval-mlogloss:1.18076\n",
      "[32]\ttrain-mlogloss:1.04554\teval-mlogloss:1.17772\n",
      "[33]\ttrain-mlogloss:1.03927\teval-mlogloss:1.17532\n",
      "[34]\ttrain-mlogloss:1.03373\teval-mlogloss:1.17334\n",
      "[35]\ttrain-mlogloss:1.02802\teval-mlogloss:1.17144\n",
      "[36]\ttrain-mlogloss:1.02246\teval-mlogloss:1.16947\n",
      "[37]\ttrain-mlogloss:1.01756\teval-mlogloss:1.16792\n",
      "[38]\ttrain-mlogloss:1.01192\teval-mlogloss:1.16623\n",
      "[39]\ttrain-mlogloss:1.00630\teval-mlogloss:1.16499\n",
      "[40]\ttrain-mlogloss:1.00136\teval-mlogloss:1.16368\n",
      "[41]\ttrain-mlogloss:0.99591\teval-mlogloss:1.16188\n",
      "[42]\ttrain-mlogloss:0.99078\teval-mlogloss:1.16012\n",
      "[43]\ttrain-mlogloss:0.98529\teval-mlogloss:1.15865\n",
      "[44]\ttrain-mlogloss:0.98020\teval-mlogloss:1.15698\n",
      "[45]\ttrain-mlogloss:0.97626\teval-mlogloss:1.15563\n",
      "[46]\ttrain-mlogloss:0.97185\teval-mlogloss:1.15377\n",
      "[47]\ttrain-mlogloss:0.96706\teval-mlogloss:1.15237\n",
      "[48]\ttrain-mlogloss:0.96217\teval-mlogloss:1.15079\n",
      "[49]\ttrain-mlogloss:0.95766\teval-mlogloss:1.14984\n",
      "[50]\ttrain-mlogloss:0.95406\teval-mlogloss:1.14866\n",
      "[51]\ttrain-mlogloss:0.94964\teval-mlogloss:1.14779\n",
      "[52]\ttrain-mlogloss:0.94541\teval-mlogloss:1.14706\n",
      "[53]\ttrain-mlogloss:0.94168\teval-mlogloss:1.14621\n",
      "[54]\ttrain-mlogloss:0.93814\teval-mlogloss:1.14548\n",
      "[55]\ttrain-mlogloss:0.93412\teval-mlogloss:1.14480\n",
      "[56]\ttrain-mlogloss:0.93073\teval-mlogloss:1.14416\n",
      "[57]\ttrain-mlogloss:0.92639\teval-mlogloss:1.14343\n",
      "[58]\ttrain-mlogloss:0.92166\teval-mlogloss:1.14277\n",
      "[59]\ttrain-mlogloss:0.91777\teval-mlogloss:1.14201\n",
      "[60]\ttrain-mlogloss:0.91422\teval-mlogloss:1.14149\n",
      "[61]\ttrain-mlogloss:0.90985\teval-mlogloss:1.14101\n",
      "[62]\ttrain-mlogloss:0.90626\teval-mlogloss:1.14051\n",
      "[63]\ttrain-mlogloss:0.90235\teval-mlogloss:1.13982\n",
      "[64]\ttrain-mlogloss:0.89929\teval-mlogloss:1.13920\n",
      "[65]\ttrain-mlogloss:0.89634\teval-mlogloss:1.13844\n",
      "[66]\ttrain-mlogloss:0.89409\teval-mlogloss:1.13769\n",
      "[67]\ttrain-mlogloss:0.89151\teval-mlogloss:1.13717\n",
      "[68]\ttrain-mlogloss:0.88770\teval-mlogloss:1.13656\n",
      "[69]\ttrain-mlogloss:0.88459\teval-mlogloss:1.13600\n",
      "[70]\ttrain-mlogloss:0.88136\teval-mlogloss:1.13568\n",
      "[71]\ttrain-mlogloss:0.87827\teval-mlogloss:1.13534\n",
      "[72]\ttrain-mlogloss:0.87517\teval-mlogloss:1.13464\n",
      "[73]\ttrain-mlogloss:0.87126\teval-mlogloss:1.13423\n",
      "[74]\ttrain-mlogloss:0.86874\teval-mlogloss:1.13319\n",
      "[75]\ttrain-mlogloss:0.86543\teval-mlogloss:1.13290\n",
      "[76]\ttrain-mlogloss:0.86267\teval-mlogloss:1.13270\n",
      "[77]\ttrain-mlogloss:0.85972\teval-mlogloss:1.13233\n",
      "[78]\ttrain-mlogloss:0.85716\teval-mlogloss:1.13197\n",
      "[79]\ttrain-mlogloss:0.85466\teval-mlogloss:1.13190\n",
      "[80]\ttrain-mlogloss:0.85177\teval-mlogloss:1.13178\n",
      "[81]\ttrain-mlogloss:0.84906\teval-mlogloss:1.13171\n",
      "[82]\ttrain-mlogloss:0.84600\teval-mlogloss:1.13135\n",
      "[83]\ttrain-mlogloss:0.84345\teval-mlogloss:1.13084\n",
      "[84]\ttrain-mlogloss:0.84044\teval-mlogloss:1.13104\n",
      "[85]\ttrain-mlogloss:0.83760\teval-mlogloss:1.13079\n",
      "[86]\ttrain-mlogloss:0.83532\teval-mlogloss:1.13066\n",
      "[87]\ttrain-mlogloss:0.83263\teval-mlogloss:1.13031\n",
      "[88]\ttrain-mlogloss:0.83014\teval-mlogloss:1.13051\n",
      "[89]\ttrain-mlogloss:0.82747\teval-mlogloss:1.13054\n",
      "[90]\ttrain-mlogloss:0.82575\teval-mlogloss:1.13042\n",
      "[91]\ttrain-mlogloss:0.82358\teval-mlogloss:1.12997\n",
      "[92]\ttrain-mlogloss:0.82122\teval-mlogloss:1.12995\n",
      "[93]\ttrain-mlogloss:0.81845\teval-mlogloss:1.12971\n",
      "[94]\ttrain-mlogloss:0.81652\teval-mlogloss:1.12976\n",
      "[95]\ttrain-mlogloss:0.81334\teval-mlogloss:1.12952\n",
      "[96]\ttrain-mlogloss:0.81158\teval-mlogloss:1.12943\n",
      "[97]\ttrain-mlogloss:0.80900\teval-mlogloss:1.12955\n",
      "[98]\ttrain-mlogloss:0.80685\teval-mlogloss:1.12971\n",
      "[99]\ttrain-mlogloss:0.80431\teval-mlogloss:1.12988\n",
      "[100]\ttrain-mlogloss:0.80198\teval-mlogloss:1.13008\n",
      "[101]\ttrain-mlogloss:0.79951\teval-mlogloss:1.13014\n",
      "[102]\ttrain-mlogloss:0.79724\teval-mlogloss:1.13010\n",
      "[103]\ttrain-mlogloss:0.79446\teval-mlogloss:1.13025\n",
      "[104]\ttrain-mlogloss:0.79241\teval-mlogloss:1.13024\n",
      "[105]\ttrain-mlogloss:0.78983\teval-mlogloss:1.13021\n",
      "[0]\ttrain-mlogloss:1.36861\teval-mlogloss:1.37251\n",
      "[1]\ttrain-mlogloss:1.35180\teval-mlogloss:1.36009\n",
      "[2]\ttrain-mlogloss:1.33585\teval-mlogloss:1.34759\n",
      "[3]\ttrain-mlogloss:1.31973\teval-mlogloss:1.33592\n",
      "[4]\ttrain-mlogloss:1.30502\teval-mlogloss:1.32466\n",
      "[5]\ttrain-mlogloss:1.29096\teval-mlogloss:1.31506\n",
      "[6]\ttrain-mlogloss:1.27784\teval-mlogloss:1.30595\n",
      "[7]\ttrain-mlogloss:1.26435\teval-mlogloss:1.29753\n",
      "[8]\ttrain-mlogloss:1.25164\teval-mlogloss:1.28949\n",
      "[9]\ttrain-mlogloss:1.23899\teval-mlogloss:1.28150\n",
      "[10]\ttrain-mlogloss:1.22753\teval-mlogloss:1.27387\n"
     ]
    },
    {
     "name": "stderr",
     "output_type": "stream",
     "text": [
      "c:\\Users\\com\\miniconda3\\Lib\\site-packages\\xgboost\\core.py:160: UserWarning:\n",
      "\n",
      "[12:14:13] WARNING: C:\\buildkite-agent\\builds\\buildkite-windows-cpu-autoscaling-group-i-0b3782d1791676daf-1\\xgboost\\xgboost-ci-windows\\src\\learner.cc:742: \n",
      "Parameters: { \"early_stopping_rounds\", \"verbose\" } are not used.\n",
      "\n",
      "\n"
     ]
    },
    {
     "name": "stdout",
     "output_type": "stream",
     "text": [
      "[11]\ttrain-mlogloss:1.21586\teval-mlogloss:1.26633\n",
      "[12]\ttrain-mlogloss:1.20540\teval-mlogloss:1.25956\n",
      "[13]\ttrain-mlogloss:1.19487\teval-mlogloss:1.25306\n",
      "[14]\ttrain-mlogloss:1.18475\teval-mlogloss:1.24706\n",
      "[15]\ttrain-mlogloss:1.17457\teval-mlogloss:1.24046\n",
      "[16]\ttrain-mlogloss:1.16528\teval-mlogloss:1.23543\n",
      "[17]\ttrain-mlogloss:1.15601\teval-mlogloss:1.22986\n",
      "[18]\ttrain-mlogloss:1.14735\teval-mlogloss:1.22514\n",
      "[19]\ttrain-mlogloss:1.13876\teval-mlogloss:1.22060\n",
      "[20]\ttrain-mlogloss:1.13029\teval-mlogloss:1.21648\n",
      "[21]\ttrain-mlogloss:1.12147\teval-mlogloss:1.21239\n",
      "[22]\ttrain-mlogloss:1.11387\teval-mlogloss:1.20862\n",
      "[23]\ttrain-mlogloss:1.10606\teval-mlogloss:1.20487\n",
      "[24]\ttrain-mlogloss:1.09852\teval-mlogloss:1.20127\n",
      "[25]\ttrain-mlogloss:1.09119\teval-mlogloss:1.19780\n",
      "[26]\ttrain-mlogloss:1.08425\teval-mlogloss:1.19465\n",
      "[27]\ttrain-mlogloss:1.07697\teval-mlogloss:1.19138\n",
      "[28]\ttrain-mlogloss:1.07004\teval-mlogloss:1.18871\n",
      "[29]\ttrain-mlogloss:1.06352\teval-mlogloss:1.18575\n",
      "[30]\ttrain-mlogloss:1.05717\teval-mlogloss:1.18327\n",
      "[31]\ttrain-mlogloss:1.05115\teval-mlogloss:1.18076\n",
      "[32]\ttrain-mlogloss:1.04554\teval-mlogloss:1.17772\n",
      "[33]\ttrain-mlogloss:1.03927\teval-mlogloss:1.17532\n",
      "[34]\ttrain-mlogloss:1.03373\teval-mlogloss:1.17334\n",
      "[35]\ttrain-mlogloss:1.02802\teval-mlogloss:1.17144\n",
      "[36]\ttrain-mlogloss:1.02246\teval-mlogloss:1.16947\n",
      "[37]\ttrain-mlogloss:1.01756\teval-mlogloss:1.16792\n",
      "[38]\ttrain-mlogloss:1.01192\teval-mlogloss:1.16623\n",
      "[39]\ttrain-mlogloss:1.00630\teval-mlogloss:1.16499\n",
      "[40]\ttrain-mlogloss:1.00136\teval-mlogloss:1.16368\n",
      "[41]\ttrain-mlogloss:0.99591\teval-mlogloss:1.16188\n",
      "[42]\ttrain-mlogloss:0.99078\teval-mlogloss:1.16012\n",
      "[43]\ttrain-mlogloss:0.98529\teval-mlogloss:1.15865\n",
      "[44]\ttrain-mlogloss:0.98020\teval-mlogloss:1.15698\n",
      "[45]\ttrain-mlogloss:0.97626\teval-mlogloss:1.15563\n",
      "[46]\ttrain-mlogloss:0.97185\teval-mlogloss:1.15377\n",
      "[47]\ttrain-mlogloss:0.96706\teval-mlogloss:1.15237\n",
      "[48]\ttrain-mlogloss:0.96217\teval-mlogloss:1.15079\n",
      "[49]\ttrain-mlogloss:0.95766\teval-mlogloss:1.14984\n",
      "[50]\ttrain-mlogloss:0.95406\teval-mlogloss:1.14866\n",
      "[51]\ttrain-mlogloss:0.94964\teval-mlogloss:1.14779\n",
      "[52]\ttrain-mlogloss:0.94541\teval-mlogloss:1.14706\n",
      "[53]\ttrain-mlogloss:0.94168\teval-mlogloss:1.14621\n",
      "[54]\ttrain-mlogloss:0.93814\teval-mlogloss:1.14548\n",
      "[55]\ttrain-mlogloss:0.93412\teval-mlogloss:1.14480\n",
      "[56]\ttrain-mlogloss:0.93073\teval-mlogloss:1.14416\n",
      "[57]\ttrain-mlogloss:0.92639\teval-mlogloss:1.14343\n",
      "[58]\ttrain-mlogloss:0.92166\teval-mlogloss:1.14277\n",
      "[59]\ttrain-mlogloss:0.91777\teval-mlogloss:1.14201\n",
      "[60]\ttrain-mlogloss:0.91422\teval-mlogloss:1.14149\n",
      "[61]\ttrain-mlogloss:0.90985\teval-mlogloss:1.14101\n",
      "[62]\ttrain-mlogloss:0.90626\teval-mlogloss:1.14051\n",
      "[63]\ttrain-mlogloss:0.90235\teval-mlogloss:1.13982\n",
      "[64]\ttrain-mlogloss:0.89929\teval-mlogloss:1.13920\n",
      "[65]\ttrain-mlogloss:0.89634\teval-mlogloss:1.13844\n",
      "[66]\ttrain-mlogloss:0.89409\teval-mlogloss:1.13769\n",
      "[67]\ttrain-mlogloss:0.89151\teval-mlogloss:1.13717\n",
      "[68]\ttrain-mlogloss:0.88770\teval-mlogloss:1.13656\n",
      "[69]\ttrain-mlogloss:0.88459\teval-mlogloss:1.13600\n",
      "[70]\ttrain-mlogloss:0.88136\teval-mlogloss:1.13568\n",
      "[71]\ttrain-mlogloss:0.87827\teval-mlogloss:1.13534\n",
      "[72]\ttrain-mlogloss:0.87517\teval-mlogloss:1.13464\n",
      "[73]\ttrain-mlogloss:0.87126\teval-mlogloss:1.13423\n",
      "[74]\ttrain-mlogloss:0.86874\teval-mlogloss:1.13319\n",
      "[75]\ttrain-mlogloss:0.86543\teval-mlogloss:1.13290\n",
      "[76]\ttrain-mlogloss:0.86267\teval-mlogloss:1.13270\n",
      "[77]\ttrain-mlogloss:0.85972\teval-mlogloss:1.13233\n",
      "[78]\ttrain-mlogloss:0.85716\teval-mlogloss:1.13197\n",
      "[79]\ttrain-mlogloss:0.85466\teval-mlogloss:1.13190\n",
      "[80]\ttrain-mlogloss:0.85177\teval-mlogloss:1.13178\n",
      "[81]\ttrain-mlogloss:0.84906\teval-mlogloss:1.13171\n",
      "[82]\ttrain-mlogloss:0.84600\teval-mlogloss:1.13135\n",
      "[83]\ttrain-mlogloss:0.84345\teval-mlogloss:1.13084\n",
      "[84]\ttrain-mlogloss:0.84044\teval-mlogloss:1.13104\n",
      "[85]\ttrain-mlogloss:0.83760\teval-mlogloss:1.13079\n",
      "[86]\ttrain-mlogloss:0.83532\teval-mlogloss:1.13066\n",
      "[87]\ttrain-mlogloss:0.83263\teval-mlogloss:1.13031\n",
      "[88]\ttrain-mlogloss:0.83014\teval-mlogloss:1.13051\n",
      "[89]\ttrain-mlogloss:0.82747\teval-mlogloss:1.13054\n",
      "[90]\ttrain-mlogloss:0.82575\teval-mlogloss:1.13042\n",
      "[91]\ttrain-mlogloss:0.82358\teval-mlogloss:1.12997\n",
      "[92]\ttrain-mlogloss:0.82122\teval-mlogloss:1.12995\n",
      "[93]\ttrain-mlogloss:0.81845\teval-mlogloss:1.12971\n",
      "[94]\ttrain-mlogloss:0.81652\teval-mlogloss:1.12976\n",
      "[95]\ttrain-mlogloss:0.81334\teval-mlogloss:1.12952\n",
      "[96]\ttrain-mlogloss:0.81158\teval-mlogloss:1.12943\n",
      "[97]\ttrain-mlogloss:0.80900\teval-mlogloss:1.12955\n",
      "[98]\ttrain-mlogloss:0.80685\teval-mlogloss:1.12971\n",
      "[99]\ttrain-mlogloss:0.80431\teval-mlogloss:1.12988\n",
      "[100]\ttrain-mlogloss:0.80198\teval-mlogloss:1.13008\n",
      "[101]\ttrain-mlogloss:0.79951\teval-mlogloss:1.13014\n",
      "[102]\ttrain-mlogloss:0.79724\teval-mlogloss:1.13010\n",
      "[103]\ttrain-mlogloss:0.79446\teval-mlogloss:1.13025\n",
      "[104]\ttrain-mlogloss:0.79241\teval-mlogloss:1.13024\n",
      "[105]\ttrain-mlogloss:0.78983\teval-mlogloss:1.13021\n",
      "[106]\ttrain-mlogloss:0.78672\teval-mlogloss:1.12988\n",
      "[0]\ttrain-mlogloss:1.36861\teval-mlogloss:1.37251\n",
      "[1]\ttrain-mlogloss:1.35180\teval-mlogloss:1.36009\n",
      "[2]\ttrain-mlogloss:1.33585\teval-mlogloss:1.34759\n",
      "[3]\ttrain-mlogloss:1.31973\teval-mlogloss:1.33592\n",
      "[4]\ttrain-mlogloss:1.30502\teval-mlogloss:1.32466\n",
      "[5]\ttrain-mlogloss:1.29096\teval-mlogloss:1.31506\n",
      "[6]\ttrain-mlogloss:1.27784\teval-mlogloss:1.30595\n",
      "[7]\ttrain-mlogloss:1.26435\teval-mlogloss:1.29753\n",
      "[8]\ttrain-mlogloss:1.25164\teval-mlogloss:1.28949\n",
      "[9]\ttrain-mlogloss:1.23899\teval-mlogloss:1.28150\n",
      "[10]\ttrain-mlogloss:1.22753\teval-mlogloss:1.27387\n",
      "[11]\ttrain-mlogloss:1.21586\teval-mlogloss:1.26633\n"
     ]
    },
    {
     "name": "stderr",
     "output_type": "stream",
     "text": [
      "c:\\Users\\com\\miniconda3\\Lib\\site-packages\\xgboost\\core.py:160: UserWarning:\n",
      "\n",
      "[12:14:15] WARNING: C:\\buildkite-agent\\builds\\buildkite-windows-cpu-autoscaling-group-i-0b3782d1791676daf-1\\xgboost\\xgboost-ci-windows\\src\\learner.cc:742: \n",
      "Parameters: { \"early_stopping_rounds\", \"verbose\" } are not used.\n",
      "\n",
      "\n"
     ]
    },
    {
     "name": "stdout",
     "output_type": "stream",
     "text": [
      "[12]\ttrain-mlogloss:1.20540\teval-mlogloss:1.25956\n",
      "[13]\ttrain-mlogloss:1.19487\teval-mlogloss:1.25306\n",
      "[14]\ttrain-mlogloss:1.18475\teval-mlogloss:1.24706\n",
      "[15]\ttrain-mlogloss:1.17457\teval-mlogloss:1.24046\n",
      "[16]\ttrain-mlogloss:1.16528\teval-mlogloss:1.23543\n",
      "[17]\ttrain-mlogloss:1.15601\teval-mlogloss:1.22986\n",
      "[18]\ttrain-mlogloss:1.14735\teval-mlogloss:1.22514\n",
      "[19]\ttrain-mlogloss:1.13876\teval-mlogloss:1.22060\n",
      "[20]\ttrain-mlogloss:1.13029\teval-mlogloss:1.21648\n",
      "[21]\ttrain-mlogloss:1.12147\teval-mlogloss:1.21239\n",
      "[22]\ttrain-mlogloss:1.11387\teval-mlogloss:1.20862\n",
      "[23]\ttrain-mlogloss:1.10606\teval-mlogloss:1.20487\n",
      "[24]\ttrain-mlogloss:1.09852\teval-mlogloss:1.20127\n",
      "[25]\ttrain-mlogloss:1.09119\teval-mlogloss:1.19780\n",
      "[26]\ttrain-mlogloss:1.08425\teval-mlogloss:1.19465\n",
      "[27]\ttrain-mlogloss:1.07697\teval-mlogloss:1.19138\n",
      "[28]\ttrain-mlogloss:1.07004\teval-mlogloss:1.18871\n",
      "[29]\ttrain-mlogloss:1.06352\teval-mlogloss:1.18575\n",
      "[30]\ttrain-mlogloss:1.05717\teval-mlogloss:1.18327\n",
      "[31]\ttrain-mlogloss:1.05115\teval-mlogloss:1.18076\n",
      "[32]\ttrain-mlogloss:1.04554\teval-mlogloss:1.17772\n",
      "[33]\ttrain-mlogloss:1.03927\teval-mlogloss:1.17532\n",
      "[34]\ttrain-mlogloss:1.03373\teval-mlogloss:1.17334\n",
      "[35]\ttrain-mlogloss:1.02802\teval-mlogloss:1.17144\n",
      "[36]\ttrain-mlogloss:1.02246\teval-mlogloss:1.16947\n",
      "[37]\ttrain-mlogloss:1.01756\teval-mlogloss:1.16792\n",
      "[38]\ttrain-mlogloss:1.01192\teval-mlogloss:1.16623\n",
      "[39]\ttrain-mlogloss:1.00630\teval-mlogloss:1.16499\n",
      "[40]\ttrain-mlogloss:1.00136\teval-mlogloss:1.16368\n",
      "[41]\ttrain-mlogloss:0.99591\teval-mlogloss:1.16188\n",
      "[42]\ttrain-mlogloss:0.99078\teval-mlogloss:1.16012\n",
      "[43]\ttrain-mlogloss:0.98529\teval-mlogloss:1.15865\n",
      "[44]\ttrain-mlogloss:0.98020\teval-mlogloss:1.15698\n",
      "[45]\ttrain-mlogloss:0.97626\teval-mlogloss:1.15563\n",
      "[46]\ttrain-mlogloss:0.97185\teval-mlogloss:1.15377\n",
      "[47]\ttrain-mlogloss:0.96706\teval-mlogloss:1.15237\n",
      "[48]\ttrain-mlogloss:0.96217\teval-mlogloss:1.15079\n",
      "[49]\ttrain-mlogloss:0.95766\teval-mlogloss:1.14984\n",
      "[50]\ttrain-mlogloss:0.95406\teval-mlogloss:1.14866\n",
      "[51]\ttrain-mlogloss:0.94964\teval-mlogloss:1.14779\n",
      "[52]\ttrain-mlogloss:0.94541\teval-mlogloss:1.14706\n",
      "[53]\ttrain-mlogloss:0.94168\teval-mlogloss:1.14621\n",
      "[54]\ttrain-mlogloss:0.93814\teval-mlogloss:1.14548\n",
      "[55]\ttrain-mlogloss:0.93412\teval-mlogloss:1.14480\n",
      "[56]\ttrain-mlogloss:0.93073\teval-mlogloss:1.14416\n",
      "[57]\ttrain-mlogloss:0.92639\teval-mlogloss:1.14343\n",
      "[58]\ttrain-mlogloss:0.92166\teval-mlogloss:1.14277\n",
      "[59]\ttrain-mlogloss:0.91777\teval-mlogloss:1.14201\n",
      "[60]\ttrain-mlogloss:0.91422\teval-mlogloss:1.14149\n",
      "[61]\ttrain-mlogloss:0.90985\teval-mlogloss:1.14101\n",
      "[62]\ttrain-mlogloss:0.90626\teval-mlogloss:1.14051\n",
      "[63]\ttrain-mlogloss:0.90235\teval-mlogloss:1.13982\n",
      "[64]\ttrain-mlogloss:0.89929\teval-mlogloss:1.13920\n",
      "[65]\ttrain-mlogloss:0.89634\teval-mlogloss:1.13844\n",
      "[66]\ttrain-mlogloss:0.89409\teval-mlogloss:1.13769\n",
      "[67]\ttrain-mlogloss:0.89151\teval-mlogloss:1.13717\n",
      "[68]\ttrain-mlogloss:0.88770\teval-mlogloss:1.13656\n",
      "[69]\ttrain-mlogloss:0.88459\teval-mlogloss:1.13600\n",
      "[70]\ttrain-mlogloss:0.88136\teval-mlogloss:1.13568\n",
      "[71]\ttrain-mlogloss:0.87827\teval-mlogloss:1.13534\n",
      "[72]\ttrain-mlogloss:0.87517\teval-mlogloss:1.13464\n",
      "[73]\ttrain-mlogloss:0.87126\teval-mlogloss:1.13423\n",
      "[74]\ttrain-mlogloss:0.86874\teval-mlogloss:1.13319\n",
      "[75]\ttrain-mlogloss:0.86543\teval-mlogloss:1.13290\n",
      "[76]\ttrain-mlogloss:0.86267\teval-mlogloss:1.13270\n",
      "[77]\ttrain-mlogloss:0.85972\teval-mlogloss:1.13233\n",
      "[78]\ttrain-mlogloss:0.85716\teval-mlogloss:1.13197\n",
      "[79]\ttrain-mlogloss:0.85466\teval-mlogloss:1.13190\n",
      "[80]\ttrain-mlogloss:0.85177\teval-mlogloss:1.13178\n",
      "[81]\ttrain-mlogloss:0.84906\teval-mlogloss:1.13171\n",
      "[82]\ttrain-mlogloss:0.84600\teval-mlogloss:1.13135\n",
      "[83]\ttrain-mlogloss:0.84345\teval-mlogloss:1.13084\n",
      "[84]\ttrain-mlogloss:0.84044\teval-mlogloss:1.13104\n",
      "[85]\ttrain-mlogloss:0.83760\teval-mlogloss:1.13079\n",
      "[86]\ttrain-mlogloss:0.83532\teval-mlogloss:1.13066\n",
      "[87]\ttrain-mlogloss:0.83263\teval-mlogloss:1.13031\n",
      "[88]\ttrain-mlogloss:0.83014\teval-mlogloss:1.13051\n",
      "[89]\ttrain-mlogloss:0.82747\teval-mlogloss:1.13054\n",
      "[90]\ttrain-mlogloss:0.82575\teval-mlogloss:1.13042\n",
      "[91]\ttrain-mlogloss:0.82358\teval-mlogloss:1.12997\n",
      "[92]\ttrain-mlogloss:0.82122\teval-mlogloss:1.12995\n",
      "[93]\ttrain-mlogloss:0.81845\teval-mlogloss:1.12971\n",
      "[94]\ttrain-mlogloss:0.81652\teval-mlogloss:1.12976\n",
      "[95]\ttrain-mlogloss:0.81334\teval-mlogloss:1.12952\n",
      "[96]\ttrain-mlogloss:0.81158\teval-mlogloss:1.12943\n",
      "[97]\ttrain-mlogloss:0.80900\teval-mlogloss:1.12955\n",
      "[98]\ttrain-mlogloss:0.80685\teval-mlogloss:1.12971\n",
      "[99]\ttrain-mlogloss:0.80431\teval-mlogloss:1.12988\n",
      "[100]\ttrain-mlogloss:0.80198\teval-mlogloss:1.13008\n",
      "[101]\ttrain-mlogloss:0.79951\teval-mlogloss:1.13014\n",
      "[102]\ttrain-mlogloss:0.79724\teval-mlogloss:1.13010\n",
      "[103]\ttrain-mlogloss:0.79446\teval-mlogloss:1.13025\n",
      "[104]\ttrain-mlogloss:0.79241\teval-mlogloss:1.13024\n",
      "[105]\ttrain-mlogloss:0.78983\teval-mlogloss:1.13021\n",
      "[106]\ttrain-mlogloss:0.78672\teval-mlogloss:1.12988\n",
      "[0]\ttrain-mlogloss:1.36861\teval-mlogloss:1.37251\n",
      "[1]\ttrain-mlogloss:1.35180\teval-mlogloss:1.36009\n",
      "[2]\ttrain-mlogloss:1.33585\teval-mlogloss:1.34759\n",
      "[3]\ttrain-mlogloss:1.31973\teval-mlogloss:1.33592\n",
      "[4]\ttrain-mlogloss:1.30502\teval-mlogloss:1.32466\n"
     ]
    },
    {
     "name": "stderr",
     "output_type": "stream",
     "text": [
      "c:\\Users\\com\\miniconda3\\Lib\\site-packages\\xgboost\\core.py:160: UserWarning:\n",
      "\n",
      "[12:14:17] WARNING: C:\\buildkite-agent\\builds\\buildkite-windows-cpu-autoscaling-group-i-0b3782d1791676daf-1\\xgboost\\xgboost-ci-windows\\src\\learner.cc:742: \n",
      "Parameters: { \"early_stopping_rounds\", \"verbose\" } are not used.\n",
      "\n",
      "\n"
     ]
    },
    {
     "name": "stdout",
     "output_type": "stream",
     "text": [
      "[5]\ttrain-mlogloss:1.29096\teval-mlogloss:1.31506\n",
      "[6]\ttrain-mlogloss:1.27784\teval-mlogloss:1.30595\n",
      "[7]\ttrain-mlogloss:1.26435\teval-mlogloss:1.29753\n",
      "[8]\ttrain-mlogloss:1.25164\teval-mlogloss:1.28949\n",
      "[9]\ttrain-mlogloss:1.23899\teval-mlogloss:1.28150\n",
      "[10]\ttrain-mlogloss:1.22753\teval-mlogloss:1.27387\n",
      "[11]\ttrain-mlogloss:1.21586\teval-mlogloss:1.26633\n",
      "[12]\ttrain-mlogloss:1.20540\teval-mlogloss:1.25956\n",
      "[13]\ttrain-mlogloss:1.19487\teval-mlogloss:1.25306\n",
      "[14]\ttrain-mlogloss:1.18475\teval-mlogloss:1.24706\n",
      "[15]\ttrain-mlogloss:1.17457\teval-mlogloss:1.24046\n",
      "[16]\ttrain-mlogloss:1.16528\teval-mlogloss:1.23543\n",
      "[17]\ttrain-mlogloss:1.15601\teval-mlogloss:1.22986\n",
      "[18]\ttrain-mlogloss:1.14735\teval-mlogloss:1.22514\n",
      "[19]\ttrain-mlogloss:1.13876\teval-mlogloss:1.22060\n",
      "[20]\ttrain-mlogloss:1.13029\teval-mlogloss:1.21648\n",
      "[21]\ttrain-mlogloss:1.12147\teval-mlogloss:1.21239\n",
      "[22]\ttrain-mlogloss:1.11387\teval-mlogloss:1.20862\n",
      "[23]\ttrain-mlogloss:1.10606\teval-mlogloss:1.20487\n",
      "[24]\ttrain-mlogloss:1.09852\teval-mlogloss:1.20127\n",
      "[25]\ttrain-mlogloss:1.09119\teval-mlogloss:1.19780\n",
      "[26]\ttrain-mlogloss:1.08425\teval-mlogloss:1.19465\n",
      "[27]\ttrain-mlogloss:1.07697\teval-mlogloss:1.19138\n",
      "[28]\ttrain-mlogloss:1.07004\teval-mlogloss:1.18871\n",
      "[29]\ttrain-mlogloss:1.06352\teval-mlogloss:1.18575\n",
      "[30]\ttrain-mlogloss:1.05717\teval-mlogloss:1.18327\n",
      "[31]\ttrain-mlogloss:1.05115\teval-mlogloss:1.18076\n",
      "[32]\ttrain-mlogloss:1.04554\teval-mlogloss:1.17772\n",
      "[33]\ttrain-mlogloss:1.03927\teval-mlogloss:1.17532\n",
      "[34]\ttrain-mlogloss:1.03373\teval-mlogloss:1.17334\n",
      "[35]\ttrain-mlogloss:1.02802\teval-mlogloss:1.17144\n",
      "[36]\ttrain-mlogloss:1.02246\teval-mlogloss:1.16947\n",
      "[37]\ttrain-mlogloss:1.01756\teval-mlogloss:1.16792\n",
      "[38]\ttrain-mlogloss:1.01192\teval-mlogloss:1.16623\n",
      "[39]\ttrain-mlogloss:1.00630\teval-mlogloss:1.16499\n",
      "[40]\ttrain-mlogloss:1.00136\teval-mlogloss:1.16368\n",
      "[41]\ttrain-mlogloss:0.99591\teval-mlogloss:1.16188\n",
      "[42]\ttrain-mlogloss:0.99078\teval-mlogloss:1.16012\n",
      "[43]\ttrain-mlogloss:0.98529\teval-mlogloss:1.15865\n",
      "[44]\ttrain-mlogloss:0.98020\teval-mlogloss:1.15698\n",
      "[45]\ttrain-mlogloss:0.97626\teval-mlogloss:1.15563\n",
      "[46]\ttrain-mlogloss:0.97185\teval-mlogloss:1.15377\n",
      "[47]\ttrain-mlogloss:0.96706\teval-mlogloss:1.15237\n",
      "[48]\ttrain-mlogloss:0.96217\teval-mlogloss:1.15079\n",
      "[49]\ttrain-mlogloss:0.95766\teval-mlogloss:1.14984\n",
      "[50]\ttrain-mlogloss:0.95406\teval-mlogloss:1.14866\n",
      "[51]\ttrain-mlogloss:0.94964\teval-mlogloss:1.14779\n",
      "[52]\ttrain-mlogloss:0.94541\teval-mlogloss:1.14706\n",
      "[53]\ttrain-mlogloss:0.94168\teval-mlogloss:1.14621\n",
      "[54]\ttrain-mlogloss:0.93814\teval-mlogloss:1.14548\n",
      "[55]\ttrain-mlogloss:0.93412\teval-mlogloss:1.14480\n",
      "[56]\ttrain-mlogloss:0.93073\teval-mlogloss:1.14416\n",
      "[57]\ttrain-mlogloss:0.92639\teval-mlogloss:1.14343\n",
      "[58]\ttrain-mlogloss:0.92166\teval-mlogloss:1.14277\n",
      "[59]\ttrain-mlogloss:0.91777\teval-mlogloss:1.14201\n",
      "[60]\ttrain-mlogloss:0.91422\teval-mlogloss:1.14149\n",
      "[61]\ttrain-mlogloss:0.90985\teval-mlogloss:1.14101\n",
      "[62]\ttrain-mlogloss:0.90626\teval-mlogloss:1.14051\n",
      "[63]\ttrain-mlogloss:0.90235\teval-mlogloss:1.13982\n",
      "[64]\ttrain-mlogloss:0.89929\teval-mlogloss:1.13920\n",
      "[65]\ttrain-mlogloss:0.89634\teval-mlogloss:1.13844\n",
      "[66]\ttrain-mlogloss:0.89409\teval-mlogloss:1.13769\n",
      "[67]\ttrain-mlogloss:0.89151\teval-mlogloss:1.13717\n",
      "[68]\ttrain-mlogloss:0.88770\teval-mlogloss:1.13656\n",
      "[69]\ttrain-mlogloss:0.88459\teval-mlogloss:1.13600\n",
      "[70]\ttrain-mlogloss:0.88136\teval-mlogloss:1.13568\n",
      "[71]\ttrain-mlogloss:0.87827\teval-mlogloss:1.13534\n",
      "[72]\ttrain-mlogloss:0.87517\teval-mlogloss:1.13464\n",
      "[73]\ttrain-mlogloss:0.87126\teval-mlogloss:1.13423\n",
      "[74]\ttrain-mlogloss:0.86874\teval-mlogloss:1.13319\n",
      "[75]\ttrain-mlogloss:0.86543\teval-mlogloss:1.13290\n",
      "[76]\ttrain-mlogloss:0.86267\teval-mlogloss:1.13270\n",
      "[77]\ttrain-mlogloss:0.85972\teval-mlogloss:1.13233\n",
      "[78]\ttrain-mlogloss:0.85716\teval-mlogloss:1.13197\n",
      "[79]\ttrain-mlogloss:0.85466\teval-mlogloss:1.13190\n",
      "[80]\ttrain-mlogloss:0.85177\teval-mlogloss:1.13178\n",
      "[81]\ttrain-mlogloss:0.84906\teval-mlogloss:1.13171\n",
      "[82]\ttrain-mlogloss:0.84600\teval-mlogloss:1.13135\n",
      "[83]\ttrain-mlogloss:0.84345\teval-mlogloss:1.13084\n",
      "[84]\ttrain-mlogloss:0.84044\teval-mlogloss:1.13104\n",
      "[85]\ttrain-mlogloss:0.83760\teval-mlogloss:1.13079\n",
      "[86]\ttrain-mlogloss:0.83532\teval-mlogloss:1.13066\n",
      "[87]\ttrain-mlogloss:0.83263\teval-mlogloss:1.13031\n",
      "[88]\ttrain-mlogloss:0.83014\teval-mlogloss:1.13051\n",
      "[89]\ttrain-mlogloss:0.82747\teval-mlogloss:1.13054\n",
      "[90]\ttrain-mlogloss:0.82575\teval-mlogloss:1.13042\n",
      "[91]\ttrain-mlogloss:0.82358\teval-mlogloss:1.12997\n",
      "[92]\ttrain-mlogloss:0.82122\teval-mlogloss:1.12995\n",
      "[93]\ttrain-mlogloss:0.81845\teval-mlogloss:1.12971\n",
      "[94]\ttrain-mlogloss:0.81652\teval-mlogloss:1.12976\n",
      "[95]\ttrain-mlogloss:0.81334\teval-mlogloss:1.12952\n",
      "[96]\ttrain-mlogloss:0.81158\teval-mlogloss:1.12943\n",
      "[97]\ttrain-mlogloss:0.80900\teval-mlogloss:1.12955\n",
      "[98]\ttrain-mlogloss:0.80685\teval-mlogloss:1.12971\n",
      "[99]\ttrain-mlogloss:0.80431\teval-mlogloss:1.12988\n",
      "[100]\ttrain-mlogloss:0.80198\teval-mlogloss:1.13008\n",
      "[101]\ttrain-mlogloss:0.79951\teval-mlogloss:1.13014\n",
      "[102]\ttrain-mlogloss:0.79724\teval-mlogloss:1.13010\n",
      "[103]\ttrain-mlogloss:0.79446\teval-mlogloss:1.13025\n",
      "[104]\ttrain-mlogloss:0.79241\teval-mlogloss:1.13024\n",
      "[105]\ttrain-mlogloss:0.78983\teval-mlogloss:1.13021\n",
      "[106]\ttrain-mlogloss:0.78672\teval-mlogloss:1.12988\n",
      "Average Validation Accuracy: 0.4292\n",
      "Average F1 Score (Macro): 0.3000\n",
      "Average F1 Score (Weighted): 0.4087\n",
      "Average ROC-AUC (Macro): 0.6465\n"
     ]
    }
   ],
   "source": [
    "# open_interest_diff drop\n",
    "import xgboost as xgb\n",
    "from sklearn.metrics import accuracy_score, classification_report\n",
    "from sklearn.model_selection import train_test_split\n",
    "from sklearn.model_selection import TimeSeriesSplit\n",
    "from sklearn.metrics import accuracy_score, f1_score, roc_auc_score\n",
    "from sklearn.preprocessing import label_binarize\n",
    "\n",
    "# TimeSeriesSplit 객체 생성\n",
    "tscv = TimeSeriesSplit(n_splits=6)  # 5개로 데이터를 나눠 교차 검증\n",
    "\n",
    "# 모델 성능을 저장할 리스트\n",
    "val_accuracies = []\n",
    "f1_macros = []\n",
    "f1_weighteds = []\n",
    "roc_aucs = []\n",
    "\n",
    "# _type에 따라 train, test 분리\n",
    "train_df = df.loc[df[\"_type\"] == \"train\"].drop(columns=[\"_type\"])\n",
    "train_df = train_df.ffill()\n",
    "test_df = df.loc[df[\"_type\"] == \"test\"].drop(columns=[\"_type\"])\n",
    "\n",
    "# train_test_split 으로 valid set, train set 분리\n",
    "x_train, x_valid, y_train, y_valid = train_test_split(\n",
    "    train_df.drop([\"target\", \"ID\"], axis=1),\n",
    "    train_df[\"target\"].astype(int),\n",
    "    test_size=0.2,\n",
    "    random_state=42,\n",
    ")\n",
    "\n",
    "# TimeSeriesSplit을 이용한 교차 검증\n",
    "for train_index, val_index in tscv.split(x_train):\n",
    "    X_train_split, X_val_split = x_train.iloc[train_index], x_train.iloc[val_index]\n",
    "    y_train_split, y_val_split = y_train.iloc[train_index], y_train.iloc[val_index]\n",
    "\n",
    "\n",
    "    sampling_strategy = {0: 1000, 1: 3544, 2: 3671, 3: 1500}\n",
    "    smote = SMOTE(sampling_strategy=sampling_strategy,random_state=42)\n",
    "    x_train_resampled, y_train_resampled = smote.fit_resample(x_train, y_train)\n",
    "\n",
    "    # XGBoost 모델을 위한 DMatrix로 변환\n",
    "    dtrain = xgb.DMatrix(x_train_resampled, label=y_train_resampled)\n",
    "    dvalid = xgb.DMatrix(x_valid, label=y_valid)\n",
    "\n",
    "    # XGBoost 모델 학습 파라미터\n",
    "    params = config[\"xgboost\"]\n",
    "    params[\"objective\"] = \"multi:softprob\"  # 다중 클래스 분류를 위한 설정\n",
    "    params[\"num_class\"] = len(y_train_resampled.unique())  # 클래스 개수\n",
    "    params[\"eval_metric\"] = \"mlogloss\"  # 손실 함수 (멀티클래스 로지스틱 손실)\n",
    "    params['max_depth'] = 7\n",
    "    params['learning_rate'] = 0.05\n",
    "    params['subsample'] = 0.8\n",
    "    params['colsample_bytree'] = 0.8\n",
    "\n",
    "    # 학습 시 평가 데이터로 검증 셋 사용\n",
    "    evals = [(dtrain, \"train\"), (dvalid, \"eval\")]\n",
    "\n",
    "    # XGBoost 모델 훈련\n",
    "    xgb_model = xgb.train(\n",
    "        params=params,\n",
    "        dtrain=dtrain,\n",
    "        num_boost_round=200,  # 트리의 개수\n",
    "        evals=evals,\n",
    "        early_stopping_rounds=10,  # 조기 중단\n",
    "    )\n",
    "\n",
    "    # 예측 (훈련 데이터셋)\n",
    "    y_train_pred_prob = xgb_model.predict(dtrain)\n",
    "    y_train_pred = y_train_pred_prob.argmax(axis=1)\n",
    "\n",
    "    # 예측 (검증 데이터셋)\n",
    "    y_valid_pred_prob = xgb_model.predict(dvalid)\n",
    "    y_valid_pred = y_valid_pred_prob.argmax(axis=1)\n",
    "\n",
    "    # 성능 평가 (훈련 데이터셋)\n",
    "    train_accuracy = accuracy_score(y_train_resampled, y_train_pred)\n",
    "    train_classification_rep = classification_report(y_train_resampled, y_train_pred)\n",
    "\n",
    "    # 성능 평가 (검증 데이터셋)\n",
    "    valid_accuracy = accuracy_score(y_valid, y_valid_pred)\n",
    "    val_accuracies.append(valid_accuracy)\n",
    "    valid_classification_rep = classification_report(y_valid, y_valid_pred)\n",
    "\n",
    "    # F1 Score 계산 (Macro와 Weighted)\n",
    "    f1_macro = f1_score(y_valid, y_valid_pred, average='macro')\n",
    "    f1_weighted = f1_score(y_valid, y_valid_pred, average='weighted')\n",
    "    f1_macros.append(f1_macro)\n",
    "    f1_weighteds.append(f1_weighted)\n",
    "\n",
    "    # ROC-AUC 계산\n",
    "    y_val_binarized = label_binarize(y_valid, classes=[0, 1, 2, 3])\n",
    "    roc_auc = roc_auc_score(y_val_binarized, y_valid_pred_prob, average='macro', multi_class='ovr')\n",
    "    roc_aucs.append(roc_auc)\n",
    "\n",
    "'''\n",
    "print(f\"훈련 정확도: {train_accuracy}\")\n",
    "print(train_classification_rep)\n",
    "print(f\"검증 정확도: {valid_accuracy}\")\n",
    "print(valid_classification_rep)\n",
    "'''\n",
    "\n",
    "# 각 fold에 대한 평균 성능 출력\n",
    "print(f\"Average Validation Accuracy: {np.mean(val_accuracies):.4f}\")\n",
    "print(f\"Average F1 Score (Macro): {np.mean(f1_macros):.4f}\")\n",
    "print(f\"Average F1 Score (Weighted): {np.mean(f1_weighteds):.4f}\")\n",
    "print(f\"Average ROC-AUC (Macro): {np.mean(roc_aucs):.4f}\")"
   ]
  },
  {
   "cell_type": "code",
   "execution_count": 123,
   "metadata": {},
   "outputs": [
    {
     "data": {
      "text/plain": [
       "0        0.904774\n",
       "1        1.655721\n",
       "2        1.027512\n",
       "3        0.874477\n",
       "4        0.966796\n",
       "           ...   \n",
       "11547         NaN\n",
       "11548         NaN\n",
       "11549         NaN\n",
       "11550         NaN\n",
       "11551         NaN\n",
       "Name: market_pressure, Length: 11552, dtype: float64"
      ]
     },
     "execution_count": 123,
     "metadata": {},
     "output_type": "execute_result"
    }
   ],
   "source": [
    "features = pd.read_csv('add_new_features.csv')\n",
    "features['market_pressure']"
   ]
  },
  {
   "cell_type": "code",
   "execution_count": 124,
   "metadata": {},
   "outputs": [
    {
     "data": {
      "text/plain": [
       "Index(['ID', '_type', 'target', 'scaled_log_hashrate',\n",
       "       'scaled_log_open_interest', 'scaled_log_coinbase_premium_index',\n",
       "       'scaled_funding_rates', 'scaled_estimated_block_reward',\n",
       "       'scaled_liquidation_diff', 'scaled_log_total_liquidation',\n",
       "       'scaled_log_total_taker_volume', 'scaled_utxo_count',\n",
       "       'scaled_total_transactions_count', 'taker_buy_sell_ratio',\n",
       "       'moving_avg_scaled_log_total_volume', 'open_interest_diff',\n",
       "       'market_pressure'],\n",
       "      dtype='object')"
      ]
     },
     "execution_count": 124,
     "metadata": {},
     "output_type": "execute_result"
    }
   ],
   "source": [
    "concat_df = pd.concat([df, features['market_pressure']], axis=1)\n",
    "concat_df.columns"
   ]
  },
  {
   "cell_type": "code",
   "execution_count": 120,
   "metadata": {},
   "outputs": [
    {
     "name": "stdout",
     "output_type": "stream",
     "text": [
      "[0]\ttrain-mlogloss:1.36846\teval-mlogloss:1.37249\n",
      "[1]\ttrain-mlogloss:1.35196\teval-mlogloss:1.35991\n",
      "[2]\ttrain-mlogloss:1.33538\teval-mlogloss:1.34820\n",
      "[3]\ttrain-mlogloss:1.31976\teval-mlogloss:1.33691\n",
      "[4]\ttrain-mlogloss:1.30475\teval-mlogloss:1.32594\n",
      "[5]\ttrain-mlogloss:1.29038\teval-mlogloss:1.31575\n",
      "[6]\ttrain-mlogloss:1.27659\teval-mlogloss:1.30684\n"
     ]
    },
    {
     "name": "stderr",
     "output_type": "stream",
     "text": [
      "c:\\Users\\com\\miniconda3\\Lib\\site-packages\\xgboost\\core.py:160: UserWarning:\n",
      "\n",
      "[12:15:07] WARNING: C:\\buildkite-agent\\builds\\buildkite-windows-cpu-autoscaling-group-i-0b3782d1791676daf-1\\xgboost\\xgboost-ci-windows\\src\\learner.cc:742: \n",
      "Parameters: { \"early_stopping_rounds\", \"verbose\" } are not used.\n",
      "\n",
      "\n"
     ]
    },
    {
     "name": "stdout",
     "output_type": "stream",
     "text": [
      "[7]\ttrain-mlogloss:1.26318\teval-mlogloss:1.29792\n",
      "[8]\ttrain-mlogloss:1.25050\teval-mlogloss:1.28979\n",
      "[9]\ttrain-mlogloss:1.23863\teval-mlogloss:1.28161\n",
      "[10]\ttrain-mlogloss:1.22697\teval-mlogloss:1.27419\n",
      "[11]\ttrain-mlogloss:1.21569\teval-mlogloss:1.26718\n",
      "[12]\ttrain-mlogloss:1.20488\teval-mlogloss:1.26033\n",
      "[13]\ttrain-mlogloss:1.19406\teval-mlogloss:1.25394\n",
      "[14]\ttrain-mlogloss:1.18395\teval-mlogloss:1.24820\n",
      "[15]\ttrain-mlogloss:1.17411\teval-mlogloss:1.24236\n",
      "[16]\ttrain-mlogloss:1.16479\teval-mlogloss:1.23710\n",
      "[17]\ttrain-mlogloss:1.15581\teval-mlogloss:1.23143\n",
      "[18]\ttrain-mlogloss:1.14724\teval-mlogloss:1.22662\n",
      "[19]\ttrain-mlogloss:1.13832\teval-mlogloss:1.22186\n",
      "[20]\ttrain-mlogloss:1.12986\teval-mlogloss:1.21757\n",
      "[21]\ttrain-mlogloss:1.12191\teval-mlogloss:1.21361\n",
      "[22]\ttrain-mlogloss:1.11467\teval-mlogloss:1.20902\n",
      "[23]\ttrain-mlogloss:1.10691\teval-mlogloss:1.20510\n",
      "[24]\ttrain-mlogloss:1.09917\teval-mlogloss:1.20158\n",
      "[25]\ttrain-mlogloss:1.09165\teval-mlogloss:1.19773\n",
      "[26]\ttrain-mlogloss:1.08443\teval-mlogloss:1.19429\n",
      "[27]\ttrain-mlogloss:1.07670\teval-mlogloss:1.19083\n",
      "[28]\ttrain-mlogloss:1.06993\teval-mlogloss:1.18811\n",
      "[29]\ttrain-mlogloss:1.06352\teval-mlogloss:1.18502\n",
      "[30]\ttrain-mlogloss:1.05835\teval-mlogloss:1.18271\n",
      "[31]\ttrain-mlogloss:1.05230\teval-mlogloss:1.18003\n",
      "[32]\ttrain-mlogloss:1.04671\teval-mlogloss:1.17775\n",
      "[33]\ttrain-mlogloss:1.04065\teval-mlogloss:1.17531\n",
      "[34]\ttrain-mlogloss:1.03473\teval-mlogloss:1.17349\n",
      "[35]\ttrain-mlogloss:1.02915\teval-mlogloss:1.17119\n",
      "[36]\ttrain-mlogloss:1.02330\teval-mlogloss:1.16924\n",
      "[37]\ttrain-mlogloss:1.01805\teval-mlogloss:1.16744\n",
      "[38]\ttrain-mlogloss:1.01235\teval-mlogloss:1.16561\n",
      "[39]\ttrain-mlogloss:1.00684\teval-mlogloss:1.16420\n",
      "[40]\ttrain-mlogloss:1.00120\teval-mlogloss:1.16235\n",
      "[41]\ttrain-mlogloss:0.99632\teval-mlogloss:1.16104\n",
      "[42]\ttrain-mlogloss:0.99104\teval-mlogloss:1.15944\n",
      "[43]\ttrain-mlogloss:0.98568\teval-mlogloss:1.15780\n",
      "[44]\ttrain-mlogloss:0.98066\teval-mlogloss:1.15705\n",
      "[45]\ttrain-mlogloss:0.97589\teval-mlogloss:1.15586\n",
      "[46]\ttrain-mlogloss:0.97107\teval-mlogloss:1.15455\n",
      "[47]\ttrain-mlogloss:0.96665\teval-mlogloss:1.15366\n",
      "[48]\ttrain-mlogloss:0.96206\teval-mlogloss:1.15226\n",
      "[49]\ttrain-mlogloss:0.95754\teval-mlogloss:1.15082\n",
      "[50]\ttrain-mlogloss:0.95355\teval-mlogloss:1.14989\n",
      "[51]\ttrain-mlogloss:0.94881\teval-mlogloss:1.14933\n",
      "[52]\ttrain-mlogloss:0.94493\teval-mlogloss:1.14859\n",
      "[53]\ttrain-mlogloss:0.94018\teval-mlogloss:1.14805\n",
      "[54]\ttrain-mlogloss:0.93659\teval-mlogloss:1.14763\n",
      "[55]\ttrain-mlogloss:0.93225\teval-mlogloss:1.14722\n",
      "[56]\ttrain-mlogloss:0.92827\teval-mlogloss:1.14665\n",
      "[57]\ttrain-mlogloss:0.92356\teval-mlogloss:1.14604\n",
      "[58]\ttrain-mlogloss:0.91982\teval-mlogloss:1.14529\n",
      "[59]\ttrain-mlogloss:0.91662\teval-mlogloss:1.14483\n",
      "[60]\ttrain-mlogloss:0.91279\teval-mlogloss:1.14414\n",
      "[61]\ttrain-mlogloss:0.90918\teval-mlogloss:1.14350\n",
      "[62]\ttrain-mlogloss:0.90579\teval-mlogloss:1.14299\n",
      "[63]\ttrain-mlogloss:0.90254\teval-mlogloss:1.14248\n",
      "[64]\ttrain-mlogloss:0.89985\teval-mlogloss:1.14202\n",
      "[65]\ttrain-mlogloss:0.89661\teval-mlogloss:1.14154\n",
      "[66]\ttrain-mlogloss:0.89396\teval-mlogloss:1.14105\n",
      "[67]\ttrain-mlogloss:0.89044\teval-mlogloss:1.14075\n",
      "[68]\ttrain-mlogloss:0.88722\teval-mlogloss:1.14065\n",
      "[69]\ttrain-mlogloss:0.88427\teval-mlogloss:1.14035\n",
      "[70]\ttrain-mlogloss:0.88140\teval-mlogloss:1.13981\n",
      "[71]\ttrain-mlogloss:0.87824\teval-mlogloss:1.13966\n",
      "[72]\ttrain-mlogloss:0.87470\teval-mlogloss:1.13944\n",
      "[73]\ttrain-mlogloss:0.87107\teval-mlogloss:1.13920\n",
      "[74]\ttrain-mlogloss:0.86876\teval-mlogloss:1.13878\n",
      "[75]\ttrain-mlogloss:0.86579\teval-mlogloss:1.13845\n",
      "[76]\ttrain-mlogloss:0.86319\teval-mlogloss:1.13812\n",
      "[77]\ttrain-mlogloss:0.86014\teval-mlogloss:1.13767\n",
      "[78]\ttrain-mlogloss:0.85726\teval-mlogloss:1.13766\n",
      "[79]\ttrain-mlogloss:0.85423\teval-mlogloss:1.13751\n",
      "[80]\ttrain-mlogloss:0.85137\teval-mlogloss:1.13745\n",
      "[81]\ttrain-mlogloss:0.84940\teval-mlogloss:1.13732\n",
      "[82]\ttrain-mlogloss:0.84707\teval-mlogloss:1.13707\n",
      "[83]\ttrain-mlogloss:0.84436\teval-mlogloss:1.13684\n",
      "[84]\ttrain-mlogloss:0.84211\teval-mlogloss:1.13696\n",
      "[85]\ttrain-mlogloss:0.83955\teval-mlogloss:1.13667\n",
      "[86]\ttrain-mlogloss:0.83737\teval-mlogloss:1.13645\n",
      "[87]\ttrain-mlogloss:0.83488\teval-mlogloss:1.13641\n",
      "[88]\ttrain-mlogloss:0.83122\teval-mlogloss:1.13643\n",
      "[89]\ttrain-mlogloss:0.82846\teval-mlogloss:1.13659\n",
      "[90]\ttrain-mlogloss:0.82679\teval-mlogloss:1.13646\n",
      "[91]\ttrain-mlogloss:0.82473\teval-mlogloss:1.13623\n",
      "[92]\ttrain-mlogloss:0.82232\teval-mlogloss:1.13622\n",
      "[93]\ttrain-mlogloss:0.81944\teval-mlogloss:1.13621\n",
      "[94]\ttrain-mlogloss:0.81730\teval-mlogloss:1.13649\n",
      "[95]\ttrain-mlogloss:0.81408\teval-mlogloss:1.13681\n",
      "[96]\ttrain-mlogloss:0.81197\teval-mlogloss:1.13689\n",
      "[97]\ttrain-mlogloss:0.80917\teval-mlogloss:1.13691\n",
      "[98]\ttrain-mlogloss:0.80686\teval-mlogloss:1.13687\n",
      "[99]\ttrain-mlogloss:0.80484\teval-mlogloss:1.13690\n",
      "[100]\ttrain-mlogloss:0.80219\teval-mlogloss:1.13693\n",
      "[101]\ttrain-mlogloss:0.79999\teval-mlogloss:1.13684\n",
      "[102]\ttrain-mlogloss:0.79682\teval-mlogloss:1.13673\n",
      "[0]\ttrain-mlogloss:1.36846\teval-mlogloss:1.37249\n",
      "[1]\ttrain-mlogloss:1.35196\teval-mlogloss:1.35991\n",
      "[2]\ttrain-mlogloss:1.33538\teval-mlogloss:1.34820\n",
      "[3]\ttrain-mlogloss:1.31976\teval-mlogloss:1.33691\n",
      "[4]\ttrain-mlogloss:1.30475\teval-mlogloss:1.32594\n"
     ]
    },
    {
     "name": "stderr",
     "output_type": "stream",
     "text": [
      "c:\\Users\\com\\miniconda3\\Lib\\site-packages\\xgboost\\core.py:160: UserWarning:\n",
      "\n",
      "[12:15:08] WARNING: C:\\buildkite-agent\\builds\\buildkite-windows-cpu-autoscaling-group-i-0b3782d1791676daf-1\\xgboost\\xgboost-ci-windows\\src\\learner.cc:742: \n",
      "Parameters: { \"early_stopping_rounds\", \"verbose\" } are not used.\n",
      "\n",
      "\n"
     ]
    },
    {
     "name": "stdout",
     "output_type": "stream",
     "text": [
      "[5]\ttrain-mlogloss:1.29038\teval-mlogloss:1.31575\n",
      "[6]\ttrain-mlogloss:1.27659\teval-mlogloss:1.30684\n",
      "[7]\ttrain-mlogloss:1.26318\teval-mlogloss:1.29792\n",
      "[8]\ttrain-mlogloss:1.25050\teval-mlogloss:1.28979\n",
      "[9]\ttrain-mlogloss:1.23863\teval-mlogloss:1.28161\n",
      "[10]\ttrain-mlogloss:1.22697\teval-mlogloss:1.27419\n",
      "[11]\ttrain-mlogloss:1.21569\teval-mlogloss:1.26718\n",
      "[12]\ttrain-mlogloss:1.20488\teval-mlogloss:1.26033\n",
      "[13]\ttrain-mlogloss:1.19406\teval-mlogloss:1.25394\n",
      "[14]\ttrain-mlogloss:1.18395\teval-mlogloss:1.24820\n",
      "[15]\ttrain-mlogloss:1.17411\teval-mlogloss:1.24236\n",
      "[16]\ttrain-mlogloss:1.16479\teval-mlogloss:1.23710\n",
      "[17]\ttrain-mlogloss:1.15581\teval-mlogloss:1.23143\n",
      "[18]\ttrain-mlogloss:1.14724\teval-mlogloss:1.22662\n",
      "[19]\ttrain-mlogloss:1.13832\teval-mlogloss:1.22186\n",
      "[20]\ttrain-mlogloss:1.12986\teval-mlogloss:1.21757\n",
      "[21]\ttrain-mlogloss:1.12191\teval-mlogloss:1.21361\n",
      "[22]\ttrain-mlogloss:1.11467\teval-mlogloss:1.20902\n",
      "[23]\ttrain-mlogloss:1.10691\teval-mlogloss:1.20510\n",
      "[24]\ttrain-mlogloss:1.09917\teval-mlogloss:1.20158\n",
      "[25]\ttrain-mlogloss:1.09165\teval-mlogloss:1.19773\n",
      "[26]\ttrain-mlogloss:1.08443\teval-mlogloss:1.19429\n",
      "[27]\ttrain-mlogloss:1.07670\teval-mlogloss:1.19083\n",
      "[28]\ttrain-mlogloss:1.06993\teval-mlogloss:1.18811\n",
      "[29]\ttrain-mlogloss:1.06352\teval-mlogloss:1.18502\n",
      "[30]\ttrain-mlogloss:1.05835\teval-mlogloss:1.18271\n",
      "[31]\ttrain-mlogloss:1.05230\teval-mlogloss:1.18003\n",
      "[32]\ttrain-mlogloss:1.04671\teval-mlogloss:1.17775\n",
      "[33]\ttrain-mlogloss:1.04065\teval-mlogloss:1.17531\n",
      "[34]\ttrain-mlogloss:1.03473\teval-mlogloss:1.17349\n",
      "[35]\ttrain-mlogloss:1.02915\teval-mlogloss:1.17119\n",
      "[36]\ttrain-mlogloss:1.02330\teval-mlogloss:1.16924\n",
      "[37]\ttrain-mlogloss:1.01805\teval-mlogloss:1.16744\n",
      "[38]\ttrain-mlogloss:1.01235\teval-mlogloss:1.16561\n",
      "[39]\ttrain-mlogloss:1.00684\teval-mlogloss:1.16420\n",
      "[40]\ttrain-mlogloss:1.00120\teval-mlogloss:1.16235\n",
      "[41]\ttrain-mlogloss:0.99632\teval-mlogloss:1.16104\n",
      "[42]\ttrain-mlogloss:0.99104\teval-mlogloss:1.15944\n",
      "[43]\ttrain-mlogloss:0.98568\teval-mlogloss:1.15780\n",
      "[44]\ttrain-mlogloss:0.98066\teval-mlogloss:1.15705\n",
      "[45]\ttrain-mlogloss:0.97589\teval-mlogloss:1.15586\n",
      "[46]\ttrain-mlogloss:0.97107\teval-mlogloss:1.15455\n",
      "[47]\ttrain-mlogloss:0.96665\teval-mlogloss:1.15366\n",
      "[48]\ttrain-mlogloss:0.96206\teval-mlogloss:1.15226\n",
      "[49]\ttrain-mlogloss:0.95754\teval-mlogloss:1.15082\n",
      "[50]\ttrain-mlogloss:0.95355\teval-mlogloss:1.14989\n",
      "[51]\ttrain-mlogloss:0.94881\teval-mlogloss:1.14933\n",
      "[52]\ttrain-mlogloss:0.94493\teval-mlogloss:1.14859\n",
      "[53]\ttrain-mlogloss:0.94018\teval-mlogloss:1.14805\n",
      "[54]\ttrain-mlogloss:0.93659\teval-mlogloss:1.14763\n",
      "[55]\ttrain-mlogloss:0.93225\teval-mlogloss:1.14722\n",
      "[56]\ttrain-mlogloss:0.92827\teval-mlogloss:1.14665\n",
      "[57]\ttrain-mlogloss:0.92356\teval-mlogloss:1.14604\n",
      "[58]\ttrain-mlogloss:0.91982\teval-mlogloss:1.14529\n",
      "[59]\ttrain-mlogloss:0.91662\teval-mlogloss:1.14483\n",
      "[60]\ttrain-mlogloss:0.91279\teval-mlogloss:1.14414\n",
      "[61]\ttrain-mlogloss:0.90918\teval-mlogloss:1.14350\n",
      "[62]\ttrain-mlogloss:0.90579\teval-mlogloss:1.14299\n",
      "[63]\ttrain-mlogloss:0.90254\teval-mlogloss:1.14248\n",
      "[64]\ttrain-mlogloss:0.89985\teval-mlogloss:1.14202\n",
      "[65]\ttrain-mlogloss:0.89661\teval-mlogloss:1.14154\n",
      "[66]\ttrain-mlogloss:0.89396\teval-mlogloss:1.14105\n",
      "[67]\ttrain-mlogloss:0.89044\teval-mlogloss:1.14075\n",
      "[68]\ttrain-mlogloss:0.88722\teval-mlogloss:1.14065\n",
      "[69]\ttrain-mlogloss:0.88427\teval-mlogloss:1.14035\n",
      "[70]\ttrain-mlogloss:0.88140\teval-mlogloss:1.13981\n",
      "[71]\ttrain-mlogloss:0.87824\teval-mlogloss:1.13966\n",
      "[72]\ttrain-mlogloss:0.87470\teval-mlogloss:1.13944\n",
      "[73]\ttrain-mlogloss:0.87107\teval-mlogloss:1.13920\n",
      "[74]\ttrain-mlogloss:0.86876\teval-mlogloss:1.13878\n",
      "[75]\ttrain-mlogloss:0.86579\teval-mlogloss:1.13845\n",
      "[76]\ttrain-mlogloss:0.86319\teval-mlogloss:1.13812\n",
      "[77]\ttrain-mlogloss:0.86014\teval-mlogloss:1.13767\n",
      "[78]\ttrain-mlogloss:0.85726\teval-mlogloss:1.13766\n",
      "[79]\ttrain-mlogloss:0.85423\teval-mlogloss:1.13751\n",
      "[80]\ttrain-mlogloss:0.85137\teval-mlogloss:1.13745\n",
      "[81]\ttrain-mlogloss:0.84940\teval-mlogloss:1.13732\n",
      "[82]\ttrain-mlogloss:0.84707\teval-mlogloss:1.13707\n",
      "[83]\ttrain-mlogloss:0.84436\teval-mlogloss:1.13684\n",
      "[84]\ttrain-mlogloss:0.84211\teval-mlogloss:1.13696\n",
      "[85]\ttrain-mlogloss:0.83955\teval-mlogloss:1.13667\n",
      "[86]\ttrain-mlogloss:0.83737\teval-mlogloss:1.13645\n",
      "[87]\ttrain-mlogloss:0.83488\teval-mlogloss:1.13641\n",
      "[88]\ttrain-mlogloss:0.83122\teval-mlogloss:1.13643\n",
      "[89]\ttrain-mlogloss:0.82846\teval-mlogloss:1.13659\n",
      "[90]\ttrain-mlogloss:0.82679\teval-mlogloss:1.13646\n",
      "[91]\ttrain-mlogloss:0.82473\teval-mlogloss:1.13623\n",
      "[92]\ttrain-mlogloss:0.82232\teval-mlogloss:1.13622\n",
      "[93]\ttrain-mlogloss:0.81944\teval-mlogloss:1.13621\n",
      "[94]\ttrain-mlogloss:0.81730\teval-mlogloss:1.13649\n",
      "[95]\ttrain-mlogloss:0.81408\teval-mlogloss:1.13681\n",
      "[96]\ttrain-mlogloss:0.81197\teval-mlogloss:1.13689\n",
      "[97]\ttrain-mlogloss:0.80917\teval-mlogloss:1.13691\n",
      "[98]\ttrain-mlogloss:0.80686\teval-mlogloss:1.13687\n",
      "[99]\ttrain-mlogloss:0.80484\teval-mlogloss:1.13690\n",
      "[100]\ttrain-mlogloss:0.80219\teval-mlogloss:1.13693\n",
      "[101]\ttrain-mlogloss:0.79999\teval-mlogloss:1.13684\n",
      "[102]\ttrain-mlogloss:0.79682\teval-mlogloss:1.13673\n",
      "[103]\ttrain-mlogloss:0.79433\teval-mlogloss:1.13694\n",
      "[0]\ttrain-mlogloss:1.36846\teval-mlogloss:1.37249\n",
      "[1]\ttrain-mlogloss:1.35196\teval-mlogloss:1.35991\n",
      "[2]\ttrain-mlogloss:1.33538\teval-mlogloss:1.34820\n",
      "[3]\ttrain-mlogloss:1.31976\teval-mlogloss:1.33691\n",
      "[4]\ttrain-mlogloss:1.30475\teval-mlogloss:1.32594\n"
     ]
    },
    {
     "name": "stderr",
     "output_type": "stream",
     "text": [
      "c:\\Users\\com\\miniconda3\\Lib\\site-packages\\xgboost\\core.py:160: UserWarning:\n",
      "\n",
      "[12:15:10] WARNING: C:\\buildkite-agent\\builds\\buildkite-windows-cpu-autoscaling-group-i-0b3782d1791676daf-1\\xgboost\\xgboost-ci-windows\\src\\learner.cc:742: \n",
      "Parameters: { \"early_stopping_rounds\", \"verbose\" } are not used.\n",
      "\n",
      "\n"
     ]
    },
    {
     "name": "stdout",
     "output_type": "stream",
     "text": [
      "[5]\ttrain-mlogloss:1.29038\teval-mlogloss:1.31575\n",
      "[6]\ttrain-mlogloss:1.27659\teval-mlogloss:1.30684\n",
      "[7]\ttrain-mlogloss:1.26318\teval-mlogloss:1.29792\n",
      "[8]\ttrain-mlogloss:1.25050\teval-mlogloss:1.28979\n",
      "[9]\ttrain-mlogloss:1.23863\teval-mlogloss:1.28161\n",
      "[10]\ttrain-mlogloss:1.22697\teval-mlogloss:1.27419\n",
      "[11]\ttrain-mlogloss:1.21569\teval-mlogloss:1.26718\n",
      "[12]\ttrain-mlogloss:1.20488\teval-mlogloss:1.26033\n",
      "[13]\ttrain-mlogloss:1.19406\teval-mlogloss:1.25394\n",
      "[14]\ttrain-mlogloss:1.18395\teval-mlogloss:1.24820\n",
      "[15]\ttrain-mlogloss:1.17411\teval-mlogloss:1.24236\n",
      "[16]\ttrain-mlogloss:1.16479\teval-mlogloss:1.23710\n",
      "[17]\ttrain-mlogloss:1.15581\teval-mlogloss:1.23143\n",
      "[18]\ttrain-mlogloss:1.14724\teval-mlogloss:1.22662\n",
      "[19]\ttrain-mlogloss:1.13832\teval-mlogloss:1.22186\n",
      "[20]\ttrain-mlogloss:1.12986\teval-mlogloss:1.21757\n",
      "[21]\ttrain-mlogloss:1.12191\teval-mlogloss:1.21361\n",
      "[22]\ttrain-mlogloss:1.11467\teval-mlogloss:1.20902\n",
      "[23]\ttrain-mlogloss:1.10691\teval-mlogloss:1.20510\n",
      "[24]\ttrain-mlogloss:1.09917\teval-mlogloss:1.20158\n",
      "[25]\ttrain-mlogloss:1.09165\teval-mlogloss:1.19773\n",
      "[26]\ttrain-mlogloss:1.08443\teval-mlogloss:1.19429\n",
      "[27]\ttrain-mlogloss:1.07670\teval-mlogloss:1.19083\n",
      "[28]\ttrain-mlogloss:1.06993\teval-mlogloss:1.18811\n",
      "[29]\ttrain-mlogloss:1.06352\teval-mlogloss:1.18502\n",
      "[30]\ttrain-mlogloss:1.05835\teval-mlogloss:1.18271\n",
      "[31]\ttrain-mlogloss:1.05230\teval-mlogloss:1.18003\n",
      "[32]\ttrain-mlogloss:1.04671\teval-mlogloss:1.17775\n",
      "[33]\ttrain-mlogloss:1.04065\teval-mlogloss:1.17531\n",
      "[34]\ttrain-mlogloss:1.03473\teval-mlogloss:1.17349\n",
      "[35]\ttrain-mlogloss:1.02915\teval-mlogloss:1.17119\n",
      "[36]\ttrain-mlogloss:1.02330\teval-mlogloss:1.16924\n",
      "[37]\ttrain-mlogloss:1.01805\teval-mlogloss:1.16744\n",
      "[38]\ttrain-mlogloss:1.01235\teval-mlogloss:1.16561\n",
      "[39]\ttrain-mlogloss:1.00684\teval-mlogloss:1.16420\n",
      "[40]\ttrain-mlogloss:1.00120\teval-mlogloss:1.16235\n",
      "[41]\ttrain-mlogloss:0.99632\teval-mlogloss:1.16104\n",
      "[42]\ttrain-mlogloss:0.99104\teval-mlogloss:1.15944\n",
      "[43]\ttrain-mlogloss:0.98568\teval-mlogloss:1.15780\n",
      "[44]\ttrain-mlogloss:0.98066\teval-mlogloss:1.15705\n",
      "[45]\ttrain-mlogloss:0.97589\teval-mlogloss:1.15586\n",
      "[46]\ttrain-mlogloss:0.97107\teval-mlogloss:1.15455\n",
      "[47]\ttrain-mlogloss:0.96665\teval-mlogloss:1.15366\n",
      "[48]\ttrain-mlogloss:0.96206\teval-mlogloss:1.15226\n",
      "[49]\ttrain-mlogloss:0.95754\teval-mlogloss:1.15082\n",
      "[50]\ttrain-mlogloss:0.95355\teval-mlogloss:1.14989\n",
      "[51]\ttrain-mlogloss:0.94881\teval-mlogloss:1.14933\n",
      "[52]\ttrain-mlogloss:0.94493\teval-mlogloss:1.14859\n",
      "[53]\ttrain-mlogloss:0.94018\teval-mlogloss:1.14805\n",
      "[54]\ttrain-mlogloss:0.93659\teval-mlogloss:1.14763\n",
      "[55]\ttrain-mlogloss:0.93225\teval-mlogloss:1.14722\n",
      "[56]\ttrain-mlogloss:0.92827\teval-mlogloss:1.14665\n",
      "[57]\ttrain-mlogloss:0.92356\teval-mlogloss:1.14604\n",
      "[58]\ttrain-mlogloss:0.91982\teval-mlogloss:1.14529\n",
      "[59]\ttrain-mlogloss:0.91662\teval-mlogloss:1.14483\n",
      "[60]\ttrain-mlogloss:0.91279\teval-mlogloss:1.14414\n",
      "[61]\ttrain-mlogloss:0.90918\teval-mlogloss:1.14350\n",
      "[62]\ttrain-mlogloss:0.90579\teval-mlogloss:1.14299\n",
      "[63]\ttrain-mlogloss:0.90254\teval-mlogloss:1.14248\n",
      "[64]\ttrain-mlogloss:0.89985\teval-mlogloss:1.14202\n",
      "[65]\ttrain-mlogloss:0.89661\teval-mlogloss:1.14154\n",
      "[66]\ttrain-mlogloss:0.89396\teval-mlogloss:1.14105\n",
      "[67]\ttrain-mlogloss:0.89044\teval-mlogloss:1.14075\n",
      "[68]\ttrain-mlogloss:0.88722\teval-mlogloss:1.14065\n",
      "[69]\ttrain-mlogloss:0.88427\teval-mlogloss:1.14035\n",
      "[70]\ttrain-mlogloss:0.88140\teval-mlogloss:1.13981\n",
      "[71]\ttrain-mlogloss:0.87824\teval-mlogloss:1.13966\n",
      "[72]\ttrain-mlogloss:0.87470\teval-mlogloss:1.13944\n",
      "[73]\ttrain-mlogloss:0.87107\teval-mlogloss:1.13920\n",
      "[74]\ttrain-mlogloss:0.86876\teval-mlogloss:1.13878\n",
      "[75]\ttrain-mlogloss:0.86579\teval-mlogloss:1.13845\n",
      "[76]\ttrain-mlogloss:0.86319\teval-mlogloss:1.13812\n",
      "[77]\ttrain-mlogloss:0.86014\teval-mlogloss:1.13767\n",
      "[78]\ttrain-mlogloss:0.85726\teval-mlogloss:1.13766\n",
      "[79]\ttrain-mlogloss:0.85423\teval-mlogloss:1.13751\n",
      "[80]\ttrain-mlogloss:0.85137\teval-mlogloss:1.13745\n",
      "[81]\ttrain-mlogloss:0.84940\teval-mlogloss:1.13732\n",
      "[82]\ttrain-mlogloss:0.84707\teval-mlogloss:1.13707\n",
      "[83]\ttrain-mlogloss:0.84436\teval-mlogloss:1.13684\n",
      "[84]\ttrain-mlogloss:0.84211\teval-mlogloss:1.13696\n",
      "[85]\ttrain-mlogloss:0.83955\teval-mlogloss:1.13667\n",
      "[86]\ttrain-mlogloss:0.83737\teval-mlogloss:1.13645\n",
      "[87]\ttrain-mlogloss:0.83488\teval-mlogloss:1.13641\n",
      "[88]\ttrain-mlogloss:0.83122\teval-mlogloss:1.13643\n",
      "[89]\ttrain-mlogloss:0.82846\teval-mlogloss:1.13659\n",
      "[90]\ttrain-mlogloss:0.82679\teval-mlogloss:1.13646\n",
      "[91]\ttrain-mlogloss:0.82473\teval-mlogloss:1.13623\n",
      "[92]\ttrain-mlogloss:0.82232\teval-mlogloss:1.13622\n",
      "[93]\ttrain-mlogloss:0.81944\teval-mlogloss:1.13621\n",
      "[94]\ttrain-mlogloss:0.81730\teval-mlogloss:1.13649\n",
      "[95]\ttrain-mlogloss:0.81408\teval-mlogloss:1.13681\n",
      "[96]\ttrain-mlogloss:0.81197\teval-mlogloss:1.13689\n",
      "[97]\ttrain-mlogloss:0.80917\teval-mlogloss:1.13691\n",
      "[98]\ttrain-mlogloss:0.80686\teval-mlogloss:1.13687\n",
      "[99]\ttrain-mlogloss:0.80484\teval-mlogloss:1.13690\n",
      "[100]\ttrain-mlogloss:0.80219\teval-mlogloss:1.13693\n",
      "[101]\ttrain-mlogloss:0.79999\teval-mlogloss:1.13684\n",
      "[102]\ttrain-mlogloss:0.79682\teval-mlogloss:1.13673\n",
      "[103]\ttrain-mlogloss:0.79433\teval-mlogloss:1.13694\n",
      "[0]\ttrain-mlogloss:1.36846\teval-mlogloss:1.37249\n",
      "[1]\ttrain-mlogloss:1.35196\teval-mlogloss:1.35991\n",
      "[2]\ttrain-mlogloss:1.33538\teval-mlogloss:1.34820\n",
      "[3]\ttrain-mlogloss:1.31976\teval-mlogloss:1.33691\n",
      "[4]\ttrain-mlogloss:1.30475\teval-mlogloss:1.32594\n",
      "[5]\ttrain-mlogloss:1.29038\teval-mlogloss:1.31575\n",
      "[6]\ttrain-mlogloss:1.27659\teval-mlogloss:1.30684\n",
      "[7]\ttrain-mlogloss:1.26318\teval-mlogloss:1.29792\n",
      "[8]\ttrain-mlogloss:1.25050\teval-mlogloss:1.28979\n",
      "[9]\ttrain-mlogloss:1.23863\teval-mlogloss:1.28161\n"
     ]
    },
    {
     "name": "stderr",
     "output_type": "stream",
     "text": [
      "c:\\Users\\com\\miniconda3\\Lib\\site-packages\\xgboost\\core.py:160: UserWarning:\n",
      "\n",
      "[12:15:13] WARNING: C:\\buildkite-agent\\builds\\buildkite-windows-cpu-autoscaling-group-i-0b3782d1791676daf-1\\xgboost\\xgboost-ci-windows\\src\\learner.cc:742: \n",
      "Parameters: { \"early_stopping_rounds\", \"verbose\" } are not used.\n",
      "\n",
      "\n"
     ]
    },
    {
     "name": "stdout",
     "output_type": "stream",
     "text": [
      "[10]\ttrain-mlogloss:1.22697\teval-mlogloss:1.27419\n",
      "[11]\ttrain-mlogloss:1.21569\teval-mlogloss:1.26718\n",
      "[12]\ttrain-mlogloss:1.20488\teval-mlogloss:1.26033\n",
      "[13]\ttrain-mlogloss:1.19406\teval-mlogloss:1.25394\n",
      "[14]\ttrain-mlogloss:1.18395\teval-mlogloss:1.24820\n",
      "[15]\ttrain-mlogloss:1.17411\teval-mlogloss:1.24236\n",
      "[16]\ttrain-mlogloss:1.16479\teval-mlogloss:1.23710\n",
      "[17]\ttrain-mlogloss:1.15581\teval-mlogloss:1.23143\n",
      "[18]\ttrain-mlogloss:1.14724\teval-mlogloss:1.22662\n",
      "[19]\ttrain-mlogloss:1.13832\teval-mlogloss:1.22186\n",
      "[20]\ttrain-mlogloss:1.12986\teval-mlogloss:1.21757\n",
      "[21]\ttrain-mlogloss:1.12191\teval-mlogloss:1.21361\n",
      "[22]\ttrain-mlogloss:1.11467\teval-mlogloss:1.20902\n",
      "[23]\ttrain-mlogloss:1.10691\teval-mlogloss:1.20510\n",
      "[24]\ttrain-mlogloss:1.09917\teval-mlogloss:1.20158\n",
      "[25]\ttrain-mlogloss:1.09165\teval-mlogloss:1.19773\n",
      "[26]\ttrain-mlogloss:1.08443\teval-mlogloss:1.19429\n",
      "[27]\ttrain-mlogloss:1.07670\teval-mlogloss:1.19083\n",
      "[28]\ttrain-mlogloss:1.06993\teval-mlogloss:1.18811\n",
      "[29]\ttrain-mlogloss:1.06352\teval-mlogloss:1.18502\n",
      "[30]\ttrain-mlogloss:1.05835\teval-mlogloss:1.18271\n",
      "[31]\ttrain-mlogloss:1.05230\teval-mlogloss:1.18003\n",
      "[32]\ttrain-mlogloss:1.04671\teval-mlogloss:1.17775\n",
      "[33]\ttrain-mlogloss:1.04065\teval-mlogloss:1.17531\n",
      "[34]\ttrain-mlogloss:1.03473\teval-mlogloss:1.17349\n",
      "[35]\ttrain-mlogloss:1.02915\teval-mlogloss:1.17119\n",
      "[36]\ttrain-mlogloss:1.02330\teval-mlogloss:1.16924\n",
      "[37]\ttrain-mlogloss:1.01805\teval-mlogloss:1.16744\n",
      "[38]\ttrain-mlogloss:1.01235\teval-mlogloss:1.16561\n",
      "[39]\ttrain-mlogloss:1.00684\teval-mlogloss:1.16420\n",
      "[40]\ttrain-mlogloss:1.00120\teval-mlogloss:1.16235\n",
      "[41]\ttrain-mlogloss:0.99632\teval-mlogloss:1.16104\n",
      "[42]\ttrain-mlogloss:0.99104\teval-mlogloss:1.15944\n",
      "[43]\ttrain-mlogloss:0.98568\teval-mlogloss:1.15780\n",
      "[44]\ttrain-mlogloss:0.98066\teval-mlogloss:1.15705\n",
      "[45]\ttrain-mlogloss:0.97589\teval-mlogloss:1.15586\n",
      "[46]\ttrain-mlogloss:0.97107\teval-mlogloss:1.15455\n",
      "[47]\ttrain-mlogloss:0.96665\teval-mlogloss:1.15366\n",
      "[48]\ttrain-mlogloss:0.96206\teval-mlogloss:1.15226\n",
      "[49]\ttrain-mlogloss:0.95754\teval-mlogloss:1.15082\n",
      "[50]\ttrain-mlogloss:0.95355\teval-mlogloss:1.14989\n",
      "[51]\ttrain-mlogloss:0.94881\teval-mlogloss:1.14933\n",
      "[52]\ttrain-mlogloss:0.94493\teval-mlogloss:1.14859\n",
      "[53]\ttrain-mlogloss:0.94018\teval-mlogloss:1.14805\n",
      "[54]\ttrain-mlogloss:0.93659\teval-mlogloss:1.14763\n",
      "[55]\ttrain-mlogloss:0.93225\teval-mlogloss:1.14722\n",
      "[56]\ttrain-mlogloss:0.92827\teval-mlogloss:1.14665\n",
      "[57]\ttrain-mlogloss:0.92356\teval-mlogloss:1.14604\n",
      "[58]\ttrain-mlogloss:0.91982\teval-mlogloss:1.14529\n",
      "[59]\ttrain-mlogloss:0.91662\teval-mlogloss:1.14483\n",
      "[60]\ttrain-mlogloss:0.91279\teval-mlogloss:1.14414\n",
      "[61]\ttrain-mlogloss:0.90918\teval-mlogloss:1.14350\n",
      "[62]\ttrain-mlogloss:0.90579\teval-mlogloss:1.14299\n",
      "[63]\ttrain-mlogloss:0.90254\teval-mlogloss:1.14248\n",
      "[64]\ttrain-mlogloss:0.89985\teval-mlogloss:1.14202\n",
      "[65]\ttrain-mlogloss:0.89661\teval-mlogloss:1.14154\n",
      "[66]\ttrain-mlogloss:0.89396\teval-mlogloss:1.14105\n",
      "[67]\ttrain-mlogloss:0.89044\teval-mlogloss:1.14075\n",
      "[68]\ttrain-mlogloss:0.88722\teval-mlogloss:1.14065\n",
      "[69]\ttrain-mlogloss:0.88427\teval-mlogloss:1.14035\n",
      "[70]\ttrain-mlogloss:0.88140\teval-mlogloss:1.13981\n",
      "[71]\ttrain-mlogloss:0.87824\teval-mlogloss:1.13966\n",
      "[72]\ttrain-mlogloss:0.87470\teval-mlogloss:1.13944\n",
      "[73]\ttrain-mlogloss:0.87107\teval-mlogloss:1.13920\n",
      "[74]\ttrain-mlogloss:0.86876\teval-mlogloss:1.13878\n",
      "[75]\ttrain-mlogloss:0.86579\teval-mlogloss:1.13845\n",
      "[76]\ttrain-mlogloss:0.86319\teval-mlogloss:1.13812\n",
      "[77]\ttrain-mlogloss:0.86014\teval-mlogloss:1.13767\n",
      "[78]\ttrain-mlogloss:0.85726\teval-mlogloss:1.13766\n",
      "[79]\ttrain-mlogloss:0.85423\teval-mlogloss:1.13751\n",
      "[80]\ttrain-mlogloss:0.85137\teval-mlogloss:1.13745\n",
      "[81]\ttrain-mlogloss:0.84940\teval-mlogloss:1.13732\n",
      "[82]\ttrain-mlogloss:0.84707\teval-mlogloss:1.13707\n",
      "[83]\ttrain-mlogloss:0.84436\teval-mlogloss:1.13684\n",
      "[84]\ttrain-mlogloss:0.84211\teval-mlogloss:1.13696\n",
      "[85]\ttrain-mlogloss:0.83955\teval-mlogloss:1.13667\n",
      "[86]\ttrain-mlogloss:0.83737\teval-mlogloss:1.13645\n",
      "[87]\ttrain-mlogloss:0.83488\teval-mlogloss:1.13641\n",
      "[88]\ttrain-mlogloss:0.83122\teval-mlogloss:1.13643\n",
      "[89]\ttrain-mlogloss:0.82846\teval-mlogloss:1.13659\n",
      "[90]\ttrain-mlogloss:0.82679\teval-mlogloss:1.13646\n",
      "[91]\ttrain-mlogloss:0.82473\teval-mlogloss:1.13623\n",
      "[92]\ttrain-mlogloss:0.82232\teval-mlogloss:1.13622\n",
      "[93]\ttrain-mlogloss:0.81944\teval-mlogloss:1.13621\n",
      "[94]\ttrain-mlogloss:0.81730\teval-mlogloss:1.13649\n",
      "[95]\ttrain-mlogloss:0.81408\teval-mlogloss:1.13681\n",
      "[96]\ttrain-mlogloss:0.81197\teval-mlogloss:1.13689\n",
      "[97]\ttrain-mlogloss:0.80917\teval-mlogloss:1.13691\n",
      "[98]\ttrain-mlogloss:0.80686\teval-mlogloss:1.13687\n",
      "[99]\ttrain-mlogloss:0.80484\teval-mlogloss:1.13690\n",
      "[100]\ttrain-mlogloss:0.80219\teval-mlogloss:1.13693\n",
      "[101]\ttrain-mlogloss:0.79999\teval-mlogloss:1.13684\n",
      "[102]\ttrain-mlogloss:0.79682\teval-mlogloss:1.13673\n",
      "[0]\ttrain-mlogloss:1.36846\teval-mlogloss:1.37249\n",
      "[1]\ttrain-mlogloss:1.35196\teval-mlogloss:1.35991\n",
      "[2]\ttrain-mlogloss:1.33538\teval-mlogloss:1.34820\n",
      "[3]\ttrain-mlogloss:1.31976\teval-mlogloss:1.33691\n",
      "[4]\ttrain-mlogloss:1.30475\teval-mlogloss:1.32594\n",
      "[5]\ttrain-mlogloss:1.29038\teval-mlogloss:1.31575\n",
      "[6]\ttrain-mlogloss:1.27659\teval-mlogloss:1.30684\n",
      "[7]\ttrain-mlogloss:1.26318\teval-mlogloss:1.29792\n",
      "[8]\ttrain-mlogloss:1.25050\teval-mlogloss:1.28979\n",
      "[9]\ttrain-mlogloss:1.23863\teval-mlogloss:1.28161\n",
      "[10]\ttrain-mlogloss:1.22697\teval-mlogloss:1.27419\n",
      "[11]\ttrain-mlogloss:1.21569\teval-mlogloss:1.26718\n",
      "[12]\ttrain-mlogloss:1.20488\teval-mlogloss:1.26033\n"
     ]
    },
    {
     "name": "stderr",
     "output_type": "stream",
     "text": [
      "c:\\Users\\com\\miniconda3\\Lib\\site-packages\\xgboost\\core.py:160: UserWarning:\n",
      "\n",
      "[12:15:14] WARNING: C:\\buildkite-agent\\builds\\buildkite-windows-cpu-autoscaling-group-i-0b3782d1791676daf-1\\xgboost\\xgboost-ci-windows\\src\\learner.cc:742: \n",
      "Parameters: { \"early_stopping_rounds\", \"verbose\" } are not used.\n",
      "\n",
      "\n"
     ]
    },
    {
     "name": "stdout",
     "output_type": "stream",
     "text": [
      "[13]\ttrain-mlogloss:1.19406\teval-mlogloss:1.25394\n",
      "[14]\ttrain-mlogloss:1.18395\teval-mlogloss:1.24820\n",
      "[15]\ttrain-mlogloss:1.17411\teval-mlogloss:1.24236\n",
      "[16]\ttrain-mlogloss:1.16479\teval-mlogloss:1.23710\n",
      "[17]\ttrain-mlogloss:1.15581\teval-mlogloss:1.23143\n",
      "[18]\ttrain-mlogloss:1.14724\teval-mlogloss:1.22662\n",
      "[19]\ttrain-mlogloss:1.13832\teval-mlogloss:1.22186\n",
      "[20]\ttrain-mlogloss:1.12986\teval-mlogloss:1.21757\n",
      "[21]\ttrain-mlogloss:1.12191\teval-mlogloss:1.21361\n",
      "[22]\ttrain-mlogloss:1.11467\teval-mlogloss:1.20902\n",
      "[23]\ttrain-mlogloss:1.10691\teval-mlogloss:1.20510\n",
      "[24]\ttrain-mlogloss:1.09917\teval-mlogloss:1.20158\n",
      "[25]\ttrain-mlogloss:1.09165\teval-mlogloss:1.19773\n",
      "[26]\ttrain-mlogloss:1.08443\teval-mlogloss:1.19429\n",
      "[27]\ttrain-mlogloss:1.07670\teval-mlogloss:1.19083\n",
      "[28]\ttrain-mlogloss:1.06993\teval-mlogloss:1.18811\n",
      "[29]\ttrain-mlogloss:1.06352\teval-mlogloss:1.18502\n",
      "[30]\ttrain-mlogloss:1.05835\teval-mlogloss:1.18271\n",
      "[31]\ttrain-mlogloss:1.05230\teval-mlogloss:1.18003\n",
      "[32]\ttrain-mlogloss:1.04671\teval-mlogloss:1.17775\n",
      "[33]\ttrain-mlogloss:1.04065\teval-mlogloss:1.17531\n",
      "[34]\ttrain-mlogloss:1.03473\teval-mlogloss:1.17349\n",
      "[35]\ttrain-mlogloss:1.02915\teval-mlogloss:1.17119\n",
      "[36]\ttrain-mlogloss:1.02330\teval-mlogloss:1.16924\n",
      "[37]\ttrain-mlogloss:1.01805\teval-mlogloss:1.16744\n",
      "[38]\ttrain-mlogloss:1.01235\teval-mlogloss:1.16561\n",
      "[39]\ttrain-mlogloss:1.00684\teval-mlogloss:1.16420\n",
      "[40]\ttrain-mlogloss:1.00120\teval-mlogloss:1.16235\n",
      "[41]\ttrain-mlogloss:0.99632\teval-mlogloss:1.16104\n",
      "[42]\ttrain-mlogloss:0.99104\teval-mlogloss:1.15944\n",
      "[43]\ttrain-mlogloss:0.98568\teval-mlogloss:1.15780\n",
      "[44]\ttrain-mlogloss:0.98066\teval-mlogloss:1.15705\n",
      "[45]\ttrain-mlogloss:0.97589\teval-mlogloss:1.15586\n",
      "[46]\ttrain-mlogloss:0.97107\teval-mlogloss:1.15455\n",
      "[47]\ttrain-mlogloss:0.96665\teval-mlogloss:1.15366\n",
      "[48]\ttrain-mlogloss:0.96206\teval-mlogloss:1.15226\n",
      "[49]\ttrain-mlogloss:0.95754\teval-mlogloss:1.15082\n",
      "[50]\ttrain-mlogloss:0.95355\teval-mlogloss:1.14989\n",
      "[51]\ttrain-mlogloss:0.94881\teval-mlogloss:1.14933\n",
      "[52]\ttrain-mlogloss:0.94493\teval-mlogloss:1.14859\n",
      "[53]\ttrain-mlogloss:0.94018\teval-mlogloss:1.14805\n",
      "[54]\ttrain-mlogloss:0.93659\teval-mlogloss:1.14763\n",
      "[55]\ttrain-mlogloss:0.93225\teval-mlogloss:1.14722\n",
      "[56]\ttrain-mlogloss:0.92827\teval-mlogloss:1.14665\n",
      "[57]\ttrain-mlogloss:0.92356\teval-mlogloss:1.14604\n",
      "[58]\ttrain-mlogloss:0.91982\teval-mlogloss:1.14529\n",
      "[59]\ttrain-mlogloss:0.91662\teval-mlogloss:1.14483\n",
      "[60]\ttrain-mlogloss:0.91279\teval-mlogloss:1.14414\n",
      "[61]\ttrain-mlogloss:0.90918\teval-mlogloss:1.14350\n",
      "[62]\ttrain-mlogloss:0.90579\teval-mlogloss:1.14299\n",
      "[63]\ttrain-mlogloss:0.90254\teval-mlogloss:1.14248\n",
      "[64]\ttrain-mlogloss:0.89985\teval-mlogloss:1.14202\n",
      "[65]\ttrain-mlogloss:0.89661\teval-mlogloss:1.14154\n",
      "[66]\ttrain-mlogloss:0.89396\teval-mlogloss:1.14105\n",
      "[67]\ttrain-mlogloss:0.89044\teval-mlogloss:1.14075\n",
      "[68]\ttrain-mlogloss:0.88722\teval-mlogloss:1.14065\n",
      "[69]\ttrain-mlogloss:0.88427\teval-mlogloss:1.14035\n",
      "[70]\ttrain-mlogloss:0.88140\teval-mlogloss:1.13981\n",
      "[71]\ttrain-mlogloss:0.87824\teval-mlogloss:1.13966\n",
      "[72]\ttrain-mlogloss:0.87470\teval-mlogloss:1.13944\n",
      "[73]\ttrain-mlogloss:0.87107\teval-mlogloss:1.13920\n",
      "[74]\ttrain-mlogloss:0.86876\teval-mlogloss:1.13878\n",
      "[75]\ttrain-mlogloss:0.86579\teval-mlogloss:1.13845\n",
      "[76]\ttrain-mlogloss:0.86319\teval-mlogloss:1.13812\n",
      "[77]\ttrain-mlogloss:0.86014\teval-mlogloss:1.13767\n",
      "[78]\ttrain-mlogloss:0.85726\teval-mlogloss:1.13766\n",
      "[79]\ttrain-mlogloss:0.85423\teval-mlogloss:1.13751\n",
      "[80]\ttrain-mlogloss:0.85137\teval-mlogloss:1.13745\n",
      "[81]\ttrain-mlogloss:0.84940\teval-mlogloss:1.13732\n",
      "[82]\ttrain-mlogloss:0.84707\teval-mlogloss:1.13707\n",
      "[83]\ttrain-mlogloss:0.84436\teval-mlogloss:1.13684\n",
      "[84]\ttrain-mlogloss:0.84211\teval-mlogloss:1.13696\n",
      "[85]\ttrain-mlogloss:0.83955\teval-mlogloss:1.13667\n",
      "[86]\ttrain-mlogloss:0.83737\teval-mlogloss:1.13645\n",
      "[87]\ttrain-mlogloss:0.83488\teval-mlogloss:1.13641\n",
      "[88]\ttrain-mlogloss:0.83122\teval-mlogloss:1.13643\n",
      "[89]\ttrain-mlogloss:0.82846\teval-mlogloss:1.13659\n",
      "[90]\ttrain-mlogloss:0.82679\teval-mlogloss:1.13646\n",
      "[91]\ttrain-mlogloss:0.82473\teval-mlogloss:1.13623\n",
      "[92]\ttrain-mlogloss:0.82232\teval-mlogloss:1.13622\n",
      "[93]\ttrain-mlogloss:0.81944\teval-mlogloss:1.13621\n",
      "[94]\ttrain-mlogloss:0.81730\teval-mlogloss:1.13649\n",
      "[95]\ttrain-mlogloss:0.81408\teval-mlogloss:1.13681\n",
      "[96]\ttrain-mlogloss:0.81197\teval-mlogloss:1.13689\n",
      "[97]\ttrain-mlogloss:0.80917\teval-mlogloss:1.13691\n",
      "[98]\ttrain-mlogloss:0.80686\teval-mlogloss:1.13687\n",
      "[99]\ttrain-mlogloss:0.80484\teval-mlogloss:1.13690\n",
      "[100]\ttrain-mlogloss:0.80219\teval-mlogloss:1.13693\n",
      "[101]\ttrain-mlogloss:0.79999\teval-mlogloss:1.13684\n",
      "[102]\ttrain-mlogloss:0.79682\teval-mlogloss:1.13673\n",
      "[103]\ttrain-mlogloss:0.79433\teval-mlogloss:1.13694\n",
      "[0]\ttrain-mlogloss:1.36846\teval-mlogloss:1.37249\n",
      "[1]\ttrain-mlogloss:1.35196\teval-mlogloss:1.35991\n",
      "[2]\ttrain-mlogloss:1.33538\teval-mlogloss:1.34820\n",
      "[3]\ttrain-mlogloss:1.31976\teval-mlogloss:1.33691\n",
      "[4]\ttrain-mlogloss:1.30475\teval-mlogloss:1.32594\n",
      "[5]\ttrain-mlogloss:1.29038\teval-mlogloss:1.31575\n",
      "[6]\ttrain-mlogloss:1.27659\teval-mlogloss:1.30684\n",
      "[7]\ttrain-mlogloss:1.26318\teval-mlogloss:1.29792\n",
      "[8]\ttrain-mlogloss:1.25050\teval-mlogloss:1.28979\n",
      "[9]\ttrain-mlogloss:1.23863\teval-mlogloss:1.28161\n",
      "[10]\ttrain-mlogloss:1.22697\teval-mlogloss:1.27419\n",
      "[11]\ttrain-mlogloss:1.21569\teval-mlogloss:1.26718\n"
     ]
    },
    {
     "name": "stderr",
     "output_type": "stream",
     "text": [
      "c:\\Users\\com\\miniconda3\\Lib\\site-packages\\xgboost\\core.py:160: UserWarning:\n",
      "\n",
      "[12:15:16] WARNING: C:\\buildkite-agent\\builds\\buildkite-windows-cpu-autoscaling-group-i-0b3782d1791676daf-1\\xgboost\\xgboost-ci-windows\\src\\learner.cc:742: \n",
      "Parameters: { \"early_stopping_rounds\", \"verbose\" } are not used.\n",
      "\n",
      "\n"
     ]
    },
    {
     "name": "stdout",
     "output_type": "stream",
     "text": [
      "[12]\ttrain-mlogloss:1.20488\teval-mlogloss:1.26033\n",
      "[13]\ttrain-mlogloss:1.19406\teval-mlogloss:1.25394\n",
      "[14]\ttrain-mlogloss:1.18395\teval-mlogloss:1.24820\n",
      "[15]\ttrain-mlogloss:1.17411\teval-mlogloss:1.24236\n",
      "[16]\ttrain-mlogloss:1.16479\teval-mlogloss:1.23710\n",
      "[17]\ttrain-mlogloss:1.15581\teval-mlogloss:1.23143\n",
      "[18]\ttrain-mlogloss:1.14724\teval-mlogloss:1.22662\n",
      "[19]\ttrain-mlogloss:1.13832\teval-mlogloss:1.22186\n",
      "[20]\ttrain-mlogloss:1.12986\teval-mlogloss:1.21757\n",
      "[21]\ttrain-mlogloss:1.12191\teval-mlogloss:1.21361\n",
      "[22]\ttrain-mlogloss:1.11467\teval-mlogloss:1.20902\n",
      "[23]\ttrain-mlogloss:1.10691\teval-mlogloss:1.20510\n",
      "[24]\ttrain-mlogloss:1.09917\teval-mlogloss:1.20158\n",
      "[25]\ttrain-mlogloss:1.09165\teval-mlogloss:1.19773\n",
      "[26]\ttrain-mlogloss:1.08443\teval-mlogloss:1.19429\n",
      "[27]\ttrain-mlogloss:1.07670\teval-mlogloss:1.19083\n",
      "[28]\ttrain-mlogloss:1.06993\teval-mlogloss:1.18811\n",
      "[29]\ttrain-mlogloss:1.06352\teval-mlogloss:1.18502\n",
      "[30]\ttrain-mlogloss:1.05835\teval-mlogloss:1.18271\n",
      "[31]\ttrain-mlogloss:1.05230\teval-mlogloss:1.18003\n",
      "[32]\ttrain-mlogloss:1.04671\teval-mlogloss:1.17775\n",
      "[33]\ttrain-mlogloss:1.04065\teval-mlogloss:1.17531\n",
      "[34]\ttrain-mlogloss:1.03473\teval-mlogloss:1.17349\n",
      "[35]\ttrain-mlogloss:1.02915\teval-mlogloss:1.17119\n",
      "[36]\ttrain-mlogloss:1.02330\teval-mlogloss:1.16924\n",
      "[37]\ttrain-mlogloss:1.01805\teval-mlogloss:1.16744\n",
      "[38]\ttrain-mlogloss:1.01235\teval-mlogloss:1.16561\n",
      "[39]\ttrain-mlogloss:1.00684\teval-mlogloss:1.16420\n",
      "[40]\ttrain-mlogloss:1.00120\teval-mlogloss:1.16235\n",
      "[41]\ttrain-mlogloss:0.99632\teval-mlogloss:1.16104\n",
      "[42]\ttrain-mlogloss:0.99104\teval-mlogloss:1.15944\n",
      "[43]\ttrain-mlogloss:0.98568\teval-mlogloss:1.15780\n",
      "[44]\ttrain-mlogloss:0.98066\teval-mlogloss:1.15705\n",
      "[45]\ttrain-mlogloss:0.97589\teval-mlogloss:1.15586\n",
      "[46]\ttrain-mlogloss:0.97107\teval-mlogloss:1.15455\n",
      "[47]\ttrain-mlogloss:0.96665\teval-mlogloss:1.15366\n",
      "[48]\ttrain-mlogloss:0.96206\teval-mlogloss:1.15226\n",
      "[49]\ttrain-mlogloss:0.95754\teval-mlogloss:1.15082\n",
      "[50]\ttrain-mlogloss:0.95355\teval-mlogloss:1.14989\n",
      "[51]\ttrain-mlogloss:0.94881\teval-mlogloss:1.14933\n",
      "[52]\ttrain-mlogloss:0.94493\teval-mlogloss:1.14859\n",
      "[53]\ttrain-mlogloss:0.94018\teval-mlogloss:1.14805\n",
      "[54]\ttrain-mlogloss:0.93659\teval-mlogloss:1.14763\n",
      "[55]\ttrain-mlogloss:0.93225\teval-mlogloss:1.14722\n",
      "[56]\ttrain-mlogloss:0.92827\teval-mlogloss:1.14665\n",
      "[57]\ttrain-mlogloss:0.92356\teval-mlogloss:1.14604\n",
      "[58]\ttrain-mlogloss:0.91982\teval-mlogloss:1.14529\n",
      "[59]\ttrain-mlogloss:0.91662\teval-mlogloss:1.14483\n",
      "[60]\ttrain-mlogloss:0.91279\teval-mlogloss:1.14414\n",
      "[61]\ttrain-mlogloss:0.90918\teval-mlogloss:1.14350\n",
      "[62]\ttrain-mlogloss:0.90579\teval-mlogloss:1.14299\n",
      "[63]\ttrain-mlogloss:0.90254\teval-mlogloss:1.14248\n",
      "[64]\ttrain-mlogloss:0.89985\teval-mlogloss:1.14202\n",
      "[65]\ttrain-mlogloss:0.89661\teval-mlogloss:1.14154\n",
      "[66]\ttrain-mlogloss:0.89396\teval-mlogloss:1.14105\n",
      "[67]\ttrain-mlogloss:0.89044\teval-mlogloss:1.14075\n",
      "[68]\ttrain-mlogloss:0.88722\teval-mlogloss:1.14065\n",
      "[69]\ttrain-mlogloss:0.88427\teval-mlogloss:1.14035\n",
      "[70]\ttrain-mlogloss:0.88140\teval-mlogloss:1.13981\n",
      "[71]\ttrain-mlogloss:0.87824\teval-mlogloss:1.13966\n",
      "[72]\ttrain-mlogloss:0.87470\teval-mlogloss:1.13944\n",
      "[73]\ttrain-mlogloss:0.87107\teval-mlogloss:1.13920\n",
      "[74]\ttrain-mlogloss:0.86876\teval-mlogloss:1.13878\n",
      "[75]\ttrain-mlogloss:0.86579\teval-mlogloss:1.13845\n",
      "[76]\ttrain-mlogloss:0.86319\teval-mlogloss:1.13812\n",
      "[77]\ttrain-mlogloss:0.86014\teval-mlogloss:1.13767\n",
      "[78]\ttrain-mlogloss:0.85726\teval-mlogloss:1.13766\n",
      "[79]\ttrain-mlogloss:0.85423\teval-mlogloss:1.13751\n",
      "[80]\ttrain-mlogloss:0.85137\teval-mlogloss:1.13745\n",
      "[81]\ttrain-mlogloss:0.84940\teval-mlogloss:1.13732\n",
      "[82]\ttrain-mlogloss:0.84707\teval-mlogloss:1.13707\n",
      "[83]\ttrain-mlogloss:0.84436\teval-mlogloss:1.13684\n",
      "[84]\ttrain-mlogloss:0.84211\teval-mlogloss:1.13696\n",
      "[85]\ttrain-mlogloss:0.83955\teval-mlogloss:1.13667\n",
      "[86]\ttrain-mlogloss:0.83737\teval-mlogloss:1.13645\n",
      "[87]\ttrain-mlogloss:0.83488\teval-mlogloss:1.13641\n",
      "[88]\ttrain-mlogloss:0.83122\teval-mlogloss:1.13643\n",
      "[89]\ttrain-mlogloss:0.82846\teval-mlogloss:1.13659\n",
      "[90]\ttrain-mlogloss:0.82679\teval-mlogloss:1.13646\n",
      "[91]\ttrain-mlogloss:0.82473\teval-mlogloss:1.13623\n",
      "[92]\ttrain-mlogloss:0.82232\teval-mlogloss:1.13622\n",
      "[93]\ttrain-mlogloss:0.81944\teval-mlogloss:1.13621\n",
      "[94]\ttrain-mlogloss:0.81730\teval-mlogloss:1.13649\n",
      "[95]\ttrain-mlogloss:0.81408\teval-mlogloss:1.13681\n",
      "[96]\ttrain-mlogloss:0.81197\teval-mlogloss:1.13689\n",
      "[97]\ttrain-mlogloss:0.80917\teval-mlogloss:1.13691\n",
      "[98]\ttrain-mlogloss:0.80686\teval-mlogloss:1.13687\n",
      "[99]\ttrain-mlogloss:0.80484\teval-mlogloss:1.13690\n",
      "[100]\ttrain-mlogloss:0.80219\teval-mlogloss:1.13693\n",
      "[101]\ttrain-mlogloss:0.79999\teval-mlogloss:1.13684\n",
      "[102]\ttrain-mlogloss:0.79682\teval-mlogloss:1.13673\n",
      "[103]\ttrain-mlogloss:0.79433\teval-mlogloss:1.13694\n",
      "Average Validation Accuracy: 0.4218\n",
      "Average F1 Score (Macro): 0.2996\n",
      "Average F1 Score (Weighted): 0.4021\n",
      "Average ROC-AUC (Macro): 0.6396\n"
     ]
    }
   ],
   "source": [
    "# open_interest_diff drop\n",
    "import xgboost as xgb\n",
    "from sklearn.metrics import accuracy_score, classification_report\n",
    "from sklearn.model_selection import train_test_split\n",
    "from sklearn.model_selection import TimeSeriesSplit\n",
    "from sklearn.metrics import accuracy_score, f1_score, roc_auc_score\n",
    "from sklearn.preprocessing import label_binarize\n",
    "\n",
    "# TimeSeriesSplit 객체 생성\n",
    "tscv = TimeSeriesSplit(n_splits=6)  # 5개로 데이터를 나눠 교차 검증\n",
    "\n",
    "# 모델 성능을 저장할 리스트\n",
    "val_accuracies = []\n",
    "f1_macros = []\n",
    "f1_weighteds = []\n",
    "roc_aucs = []\n",
    "\n",
    "# _type에 따라 train, test 분리\n",
    "train_df = concat_df.loc[concat_df[\"_type\"] == \"train\"].drop(columns=[\"_type\"])\n",
    "train_df = train_df.ffill()\n",
    "test_df = concat_df.loc[concat_df[\"_type\"] == \"test\"].drop(columns=[\"_type\"])\n",
    "\n",
    "# train_test_split 으로 valid set, train set 분리\n",
    "x_train, x_valid, y_train, y_valid = train_test_split(\n",
    "    train_df.drop([\"target\", \"ID\"], axis=1),\n",
    "    train_df[\"target\"].astype(int),\n",
    "    test_size=0.2,\n",
    "    random_state=42,\n",
    ")\n",
    "\n",
    "# TimeSeriesSplit을 이용한 교차 검증\n",
    "for train_index, val_index in tscv.split(x_train):\n",
    "    X_train_split, X_val_split = x_train.iloc[train_index], x_train.iloc[val_index]\n",
    "    y_train_split, y_val_split = y_train.iloc[train_index], y_train.iloc[val_index]\n",
    "\n",
    "\n",
    "    sampling_strategy = {0: 1000, 1: 3544, 2: 3671, 3: 1500}\n",
    "    smote = SMOTE(sampling_strategy=sampling_strategy,random_state=42)\n",
    "    x_train_resampled, y_train_resampled = smote.fit_resample(x_train, y_train)\n",
    "\n",
    "    # XGBoost 모델을 위한 DMatrix로 변환\n",
    "    dtrain = xgb.DMatrix(x_train_resampled, label=y_train_resampled)\n",
    "    dvalid = xgb.DMatrix(x_valid, label=y_valid)\n",
    "\n",
    "    # XGBoost 모델 학습 파라미터\n",
    "    params = config[\"xgboost\"]\n",
    "    params[\"objective\"] = \"multi:softprob\"  # 다중 클래스 분류를 위한 설정\n",
    "    params[\"num_class\"] = len(y_train_resampled.unique())  # 클래스 개수\n",
    "    params[\"eval_metric\"] = \"mlogloss\"  # 손실 함수 (멀티클래스 로지스틱 손실)\n",
    "    params['max_depth'] = 7\n",
    "    params['learning_rate'] = 0.05\n",
    "    params['subsample'] = 0.8\n",
    "    params['colsample_bytree'] = 0.8\n",
    "\n",
    "    # 학습 시 평가 데이터로 검증 셋 사용\n",
    "    evals = [(dtrain, \"train\"), (dvalid, \"eval\")]\n",
    "\n",
    "    # XGBoost 모델 훈련\n",
    "    xgb_model = xgb.train(\n",
    "        params=params,\n",
    "        dtrain=dtrain,\n",
    "        num_boost_round=200,  # 트리의 개수\n",
    "        evals=evals,\n",
    "        early_stopping_rounds=10,  # 조기 중단\n",
    "    )\n",
    "\n",
    "    # 예측 (훈련 데이터셋)\n",
    "    y_train_pred_prob = xgb_model.predict(dtrain)\n",
    "    y_train_pred = y_train_pred_prob.argmax(axis=1)\n",
    "\n",
    "    # 예측 (검증 데이터셋)\n",
    "    y_valid_pred_prob = xgb_model.predict(dvalid)\n",
    "    y_valid_pred = y_valid_pred_prob.argmax(axis=1)\n",
    "\n",
    "    # 성능 평가 (훈련 데이터셋)\n",
    "    train_accuracy = accuracy_score(y_train_resampled, y_train_pred)\n",
    "    train_classification_rep = classification_report(y_train_resampled, y_train_pred)\n",
    "\n",
    "    # 성능 평가 (검증 데이터셋)\n",
    "    valid_accuracy = accuracy_score(y_valid, y_valid_pred)\n",
    "    val_accuracies.append(valid_accuracy)\n",
    "    valid_classification_rep = classification_report(y_valid, y_valid_pred)\n",
    "\n",
    "    # F1 Score 계산 (Macro와 Weighted)\n",
    "    f1_macro = f1_score(y_valid, y_valid_pred, average='macro')\n",
    "    f1_weighted = f1_score(y_valid, y_valid_pred, average='weighted')\n",
    "    f1_macros.append(f1_macro)\n",
    "    f1_weighteds.append(f1_weighted)\n",
    "\n",
    "    # ROC-AUC 계산\n",
    "    y_val_binarized = label_binarize(y_valid, classes=[0, 1, 2, 3])\n",
    "    roc_auc = roc_auc_score(y_val_binarized, y_valid_pred_prob, average='macro', multi_class='ovr')\n",
    "    roc_aucs.append(roc_auc)\n",
    "\n",
    "'''\n",
    "print(f\"훈련 정확도: {train_accuracy}\")\n",
    "print(train_classification_rep)\n",
    "print(f\"검증 정확도: {valid_accuracy}\")\n",
    "print(valid_classification_rep)\n",
    "'''\n",
    "\n",
    "# 각 fold에 대한 평균 성능 출력\n",
    "print(f\"Average Validation Accuracy: {np.mean(val_accuracies):.4f}\")\n",
    "print(f\"Average F1 Score (Macro): {np.mean(f1_macros):.4f}\")\n",
    "print(f\"Average F1 Score (Weighted): {np.mean(f1_weighteds):.4f}\")\n",
    "print(f\"Average ROC-AUC (Macro): {np.mean(roc_aucs):.4f}\")"
   ]
  },
  {
   "cell_type": "code",
   "execution_count": 121,
   "metadata": {},
   "outputs": [
    {
     "data": {
      "text/plain": [
       "target\n",
       "1    1209\n",
       "2    1203\n",
       "3     283\n",
       "0      97\n",
       "Name: count, dtype: int64"
      ]
     },
     "execution_count": 121,
     "metadata": {},
     "output_type": "execute_result"
    }
   ],
   "source": [
    "# 테스트 데이터셋을 DMatrix로 변환\n",
    "dtest = xgb.DMatrix(test_df.drop([\"target\", \"ID\"], axis=1))\n",
    "\n",
    "# 테스트 데이터에 대한 예측 수행\n",
    "y_test_pred_prob = xgb_model.predict(dtest)\n",
    "\n",
    "# 다중 클래스 예측일 경우 가장 높은 확률을 가진 클래스를 예측값으로 변환\n",
    "y_test_pred = y_test_pred_prob.argmax(axis=1)\n",
    "\n",
    "# 예측 결과 출력\n",
    "y_test_pred\n",
    "\n",
    "submission_df = submission_df.assign(target=pd.DataFrame(y_test_pred))\n",
    "submission_df['target'].value_counts()"
   ]
  },
  {
   "cell_type": "code",
   "execution_count": null,
   "metadata": {},
   "outputs": [],
   "source": []
  },
  {
   "cell_type": "markdown",
   "metadata": {},
   "source": [
    "----------------------------------------------------------------------"
   ]
  },
  {
   "cell_type": "code",
   "execution_count": 84,
   "metadata": {},
   "outputs": [
    {
     "data": {
      "text/html": [
       "<div>\n",
       "<style scoped>\n",
       "    .dataframe tbody tr th:only-of-type {\n",
       "        vertical-align: middle;\n",
       "    }\n",
       "\n",
       "    .dataframe tbody tr th {\n",
       "        vertical-align: top;\n",
       "    }\n",
       "\n",
       "    .dataframe thead th {\n",
       "        text-align: right;\n",
       "    }\n",
       "</style>\n",
       "<table border=\"1\" class=\"dataframe\">\n",
       "  <thead>\n",
       "    <tr style=\"text-align: right;\">\n",
       "      <th></th>\n",
       "      <th>target</th>\n",
       "      <th>scaled_log_hashrate</th>\n",
       "      <th>scaled_hashrate_diff</th>\n",
       "    </tr>\n",
       "  </thead>\n",
       "  <tbody>\n",
       "    <tr>\n",
       "      <th>0</th>\n",
       "      <td>0.0</td>\n",
       "      <td>-0.027912</td>\n",
       "      <td>-0.042294</td>\n",
       "    </tr>\n",
       "    <tr>\n",
       "      <th>1</th>\n",
       "      <td>1.0</td>\n",
       "      <td>-0.005848</td>\n",
       "      <td>-0.007021</td>\n",
       "    </tr>\n",
       "    <tr>\n",
       "      <th>2</th>\n",
       "      <td>2.0</td>\n",
       "      <td>0.016258</td>\n",
       "      <td>0.016389</td>\n",
       "    </tr>\n",
       "    <tr>\n",
       "      <th>3</th>\n",
       "      <td>3.0</td>\n",
       "      <td>-0.022734</td>\n",
       "      <td>-0.005294</td>\n",
       "    </tr>\n",
       "  </tbody>\n",
       "</table>\n",
       "</div>"
      ],
      "text/plain": [
       "   target  scaled_log_hashrate  scaled_hashrate_diff\n",
       "0     0.0            -0.027912             -0.042294\n",
       "1     1.0            -0.005848             -0.007021\n",
       "2     2.0             0.016258              0.016389\n",
       "3     3.0            -0.022734             -0.005294"
      ]
     },
     "execution_count": 84,
     "metadata": {},
     "output_type": "execute_result"
    }
   ],
   "source": [
    "df['scaled_hashrate_diff'] = df['scaled_log_hashrate'].diff()\n",
    "bar_df = df.groupby(\"target\").agg({\n",
    "    \"scaled_log_hashrate\":\"mean\",\n",
    "    \"scaled_hashrate_diff\": \"mean\",\n",
    "}).reset_index()\n",
    "bar_df"
   ]
  },
  {
   "cell_type": "code",
   "execution_count": 85,
   "metadata": {},
   "outputs": [
    {
     "data": {
      "application/vnd.plotly.v1+json": {
       "config": {
        "plotlyServerURL": "https://plot.ly"
       },
       "data": [
        {
         "type": "bar",
         "x": [
          0,
          1,
          2,
          3
         ],
         "xaxis": "x",
         "y": [
          -0.027912139359224684,
          -0.005848041061010707,
          0.016257537843792712,
          -0.022734137613041158
         ],
         "yaxis": "y"
        },
        {
         "type": "bar",
         "x": [
          0,
          1,
          2,
          3
         ],
         "xaxis": "x2",
         "y": [
          -0.04229368370467122,
          -0.007020515002034335,
          0.016389334235804694,
          -0.005293564862094886
         ],
         "yaxis": "y2"
        }
       ],
       "layout": {
        "annotations": [
         {
          "font": {
           "size": 16
          },
          "showarrow": false,
          "text": "hashrate",
          "x": 0.225,
          "xanchor": "center",
          "xref": "paper",
          "y": 1,
          "yanchor": "bottom",
          "yref": "paper"
         },
         {
          "font": {
           "size": 16
          },
          "showarrow": false,
          "text": "hashrate_diff",
          "x": 0.775,
          "xanchor": "center",
          "xref": "paper",
          "y": 1,
          "yanchor": "bottom",
          "yref": "paper"
         }
        ],
        "showlegend": false,
        "template": {
         "data": {
          "bar": [
           {
            "error_x": {
             "color": "#2a3f5f"
            },
            "error_y": {
             "color": "#2a3f5f"
            },
            "marker": {
             "line": {
              "color": "#E5ECF6",
              "width": 0.5
             },
             "pattern": {
              "fillmode": "overlay",
              "size": 10,
              "solidity": 0.2
             }
            },
            "type": "bar"
           }
          ],
          "barpolar": [
           {
            "marker": {
             "line": {
              "color": "#E5ECF6",
              "width": 0.5
             },
             "pattern": {
              "fillmode": "overlay",
              "size": 10,
              "solidity": 0.2
             }
            },
            "type": "barpolar"
           }
          ],
          "carpet": [
           {
            "aaxis": {
             "endlinecolor": "#2a3f5f",
             "gridcolor": "white",
             "linecolor": "white",
             "minorgridcolor": "white",
             "startlinecolor": "#2a3f5f"
            },
            "baxis": {
             "endlinecolor": "#2a3f5f",
             "gridcolor": "white",
             "linecolor": "white",
             "minorgridcolor": "white",
             "startlinecolor": "#2a3f5f"
            },
            "type": "carpet"
           }
          ],
          "choropleth": [
           {
            "colorbar": {
             "outlinewidth": 0,
             "ticks": ""
            },
            "type": "choropleth"
           }
          ],
          "contour": [
           {
            "colorbar": {
             "outlinewidth": 0,
             "ticks": ""
            },
            "colorscale": [
             [
              0,
              "#0d0887"
             ],
             [
              0.1111111111111111,
              "#46039f"
             ],
             [
              0.2222222222222222,
              "#7201a8"
             ],
             [
              0.3333333333333333,
              "#9c179e"
             ],
             [
              0.4444444444444444,
              "#bd3786"
             ],
             [
              0.5555555555555556,
              "#d8576b"
             ],
             [
              0.6666666666666666,
              "#ed7953"
             ],
             [
              0.7777777777777778,
              "#fb9f3a"
             ],
             [
              0.8888888888888888,
              "#fdca26"
             ],
             [
              1,
              "#f0f921"
             ]
            ],
            "type": "contour"
           }
          ],
          "contourcarpet": [
           {
            "colorbar": {
             "outlinewidth": 0,
             "ticks": ""
            },
            "type": "contourcarpet"
           }
          ],
          "heatmap": [
           {
            "colorbar": {
             "outlinewidth": 0,
             "ticks": ""
            },
            "colorscale": [
             [
              0,
              "#0d0887"
             ],
             [
              0.1111111111111111,
              "#46039f"
             ],
             [
              0.2222222222222222,
              "#7201a8"
             ],
             [
              0.3333333333333333,
              "#9c179e"
             ],
             [
              0.4444444444444444,
              "#bd3786"
             ],
             [
              0.5555555555555556,
              "#d8576b"
             ],
             [
              0.6666666666666666,
              "#ed7953"
             ],
             [
              0.7777777777777778,
              "#fb9f3a"
             ],
             [
              0.8888888888888888,
              "#fdca26"
             ],
             [
              1,
              "#f0f921"
             ]
            ],
            "type": "heatmap"
           }
          ],
          "heatmapgl": [
           {
            "colorbar": {
             "outlinewidth": 0,
             "ticks": ""
            },
            "colorscale": [
             [
              0,
              "#0d0887"
             ],
             [
              0.1111111111111111,
              "#46039f"
             ],
             [
              0.2222222222222222,
              "#7201a8"
             ],
             [
              0.3333333333333333,
              "#9c179e"
             ],
             [
              0.4444444444444444,
              "#bd3786"
             ],
             [
              0.5555555555555556,
              "#d8576b"
             ],
             [
              0.6666666666666666,
              "#ed7953"
             ],
             [
              0.7777777777777778,
              "#fb9f3a"
             ],
             [
              0.8888888888888888,
              "#fdca26"
             ],
             [
              1,
              "#f0f921"
             ]
            ],
            "type": "heatmapgl"
           }
          ],
          "histogram": [
           {
            "marker": {
             "pattern": {
              "fillmode": "overlay",
              "size": 10,
              "solidity": 0.2
             }
            },
            "type": "histogram"
           }
          ],
          "histogram2d": [
           {
            "colorbar": {
             "outlinewidth": 0,
             "ticks": ""
            },
            "colorscale": [
             [
              0,
              "#0d0887"
             ],
             [
              0.1111111111111111,
              "#46039f"
             ],
             [
              0.2222222222222222,
              "#7201a8"
             ],
             [
              0.3333333333333333,
              "#9c179e"
             ],
             [
              0.4444444444444444,
              "#bd3786"
             ],
             [
              0.5555555555555556,
              "#d8576b"
             ],
             [
              0.6666666666666666,
              "#ed7953"
             ],
             [
              0.7777777777777778,
              "#fb9f3a"
             ],
             [
              0.8888888888888888,
              "#fdca26"
             ],
             [
              1,
              "#f0f921"
             ]
            ],
            "type": "histogram2d"
           }
          ],
          "histogram2dcontour": [
           {
            "colorbar": {
             "outlinewidth": 0,
             "ticks": ""
            },
            "colorscale": [
             [
              0,
              "#0d0887"
             ],
             [
              0.1111111111111111,
              "#46039f"
             ],
             [
              0.2222222222222222,
              "#7201a8"
             ],
             [
              0.3333333333333333,
              "#9c179e"
             ],
             [
              0.4444444444444444,
              "#bd3786"
             ],
             [
              0.5555555555555556,
              "#d8576b"
             ],
             [
              0.6666666666666666,
              "#ed7953"
             ],
             [
              0.7777777777777778,
              "#fb9f3a"
             ],
             [
              0.8888888888888888,
              "#fdca26"
             ],
             [
              1,
              "#f0f921"
             ]
            ],
            "type": "histogram2dcontour"
           }
          ],
          "mesh3d": [
           {
            "colorbar": {
             "outlinewidth": 0,
             "ticks": ""
            },
            "type": "mesh3d"
           }
          ],
          "parcoords": [
           {
            "line": {
             "colorbar": {
              "outlinewidth": 0,
              "ticks": ""
             }
            },
            "type": "parcoords"
           }
          ],
          "pie": [
           {
            "automargin": true,
            "type": "pie"
           }
          ],
          "scatter": [
           {
            "fillpattern": {
             "fillmode": "overlay",
             "size": 10,
             "solidity": 0.2
            },
            "type": "scatter"
           }
          ],
          "scatter3d": [
           {
            "line": {
             "colorbar": {
              "outlinewidth": 0,
              "ticks": ""
             }
            },
            "marker": {
             "colorbar": {
              "outlinewidth": 0,
              "ticks": ""
             }
            },
            "type": "scatter3d"
           }
          ],
          "scattercarpet": [
           {
            "marker": {
             "colorbar": {
              "outlinewidth": 0,
              "ticks": ""
             }
            },
            "type": "scattercarpet"
           }
          ],
          "scattergeo": [
           {
            "marker": {
             "colorbar": {
              "outlinewidth": 0,
              "ticks": ""
             }
            },
            "type": "scattergeo"
           }
          ],
          "scattergl": [
           {
            "marker": {
             "colorbar": {
              "outlinewidth": 0,
              "ticks": ""
             }
            },
            "type": "scattergl"
           }
          ],
          "scattermapbox": [
           {
            "marker": {
             "colorbar": {
              "outlinewidth": 0,
              "ticks": ""
             }
            },
            "type": "scattermapbox"
           }
          ],
          "scatterpolar": [
           {
            "marker": {
             "colorbar": {
              "outlinewidth": 0,
              "ticks": ""
             }
            },
            "type": "scatterpolar"
           }
          ],
          "scatterpolargl": [
           {
            "marker": {
             "colorbar": {
              "outlinewidth": 0,
              "ticks": ""
             }
            },
            "type": "scatterpolargl"
           }
          ],
          "scatterternary": [
           {
            "marker": {
             "colorbar": {
              "outlinewidth": 0,
              "ticks": ""
             }
            },
            "type": "scatterternary"
           }
          ],
          "surface": [
           {
            "colorbar": {
             "outlinewidth": 0,
             "ticks": ""
            },
            "colorscale": [
             [
              0,
              "#0d0887"
             ],
             [
              0.1111111111111111,
              "#46039f"
             ],
             [
              0.2222222222222222,
              "#7201a8"
             ],
             [
              0.3333333333333333,
              "#9c179e"
             ],
             [
              0.4444444444444444,
              "#bd3786"
             ],
             [
              0.5555555555555556,
              "#d8576b"
             ],
             [
              0.6666666666666666,
              "#ed7953"
             ],
             [
              0.7777777777777778,
              "#fb9f3a"
             ],
             [
              0.8888888888888888,
              "#fdca26"
             ],
             [
              1,
              "#f0f921"
             ]
            ],
            "type": "surface"
           }
          ],
          "table": [
           {
            "cells": {
             "fill": {
              "color": "#EBF0F8"
             },
             "line": {
              "color": "white"
             }
            },
            "header": {
             "fill": {
              "color": "#C8D4E3"
             },
             "line": {
              "color": "white"
             }
            },
            "type": "table"
           }
          ]
         },
         "layout": {
          "annotationdefaults": {
           "arrowcolor": "#2a3f5f",
           "arrowhead": 0,
           "arrowwidth": 1
          },
          "autotypenumbers": "strict",
          "coloraxis": {
           "colorbar": {
            "outlinewidth": 0,
            "ticks": ""
           }
          },
          "colorscale": {
           "diverging": [
            [
             0,
             "#8e0152"
            ],
            [
             0.1,
             "#c51b7d"
            ],
            [
             0.2,
             "#de77ae"
            ],
            [
             0.3,
             "#f1b6da"
            ],
            [
             0.4,
             "#fde0ef"
            ],
            [
             0.5,
             "#f7f7f7"
            ],
            [
             0.6,
             "#e6f5d0"
            ],
            [
             0.7,
             "#b8e186"
            ],
            [
             0.8,
             "#7fbc41"
            ],
            [
             0.9,
             "#4d9221"
            ],
            [
             1,
             "#276419"
            ]
           ],
           "sequential": [
            [
             0,
             "#0d0887"
            ],
            [
             0.1111111111111111,
             "#46039f"
            ],
            [
             0.2222222222222222,
             "#7201a8"
            ],
            [
             0.3333333333333333,
             "#9c179e"
            ],
            [
             0.4444444444444444,
             "#bd3786"
            ],
            [
             0.5555555555555556,
             "#d8576b"
            ],
            [
             0.6666666666666666,
             "#ed7953"
            ],
            [
             0.7777777777777778,
             "#fb9f3a"
            ],
            [
             0.8888888888888888,
             "#fdca26"
            ],
            [
             1,
             "#f0f921"
            ]
           ],
           "sequentialminus": [
            [
             0,
             "#0d0887"
            ],
            [
             0.1111111111111111,
             "#46039f"
            ],
            [
             0.2222222222222222,
             "#7201a8"
            ],
            [
             0.3333333333333333,
             "#9c179e"
            ],
            [
             0.4444444444444444,
             "#bd3786"
            ],
            [
             0.5555555555555556,
             "#d8576b"
            ],
            [
             0.6666666666666666,
             "#ed7953"
            ],
            [
             0.7777777777777778,
             "#fb9f3a"
            ],
            [
             0.8888888888888888,
             "#fdca26"
            ],
            [
             1,
             "#f0f921"
            ]
           ]
          },
          "colorway": [
           "#636efa",
           "#EF553B",
           "#00cc96",
           "#ab63fa",
           "#FFA15A",
           "#19d3f3",
           "#FF6692",
           "#B6E880",
           "#FF97FF",
           "#FECB52"
          ],
          "font": {
           "color": "#2a3f5f"
          },
          "geo": {
           "bgcolor": "white",
           "lakecolor": "white",
           "landcolor": "#E5ECF6",
           "showlakes": true,
           "showland": true,
           "subunitcolor": "white"
          },
          "hoverlabel": {
           "align": "left"
          },
          "hovermode": "closest",
          "mapbox": {
           "style": "light"
          },
          "paper_bgcolor": "white",
          "plot_bgcolor": "#E5ECF6",
          "polar": {
           "angularaxis": {
            "gridcolor": "white",
            "linecolor": "white",
            "ticks": ""
           },
           "bgcolor": "#E5ECF6",
           "radialaxis": {
            "gridcolor": "white",
            "linecolor": "white",
            "ticks": ""
           }
          },
          "scene": {
           "xaxis": {
            "backgroundcolor": "#E5ECF6",
            "gridcolor": "white",
            "gridwidth": 2,
            "linecolor": "white",
            "showbackground": true,
            "ticks": "",
            "zerolinecolor": "white"
           },
           "yaxis": {
            "backgroundcolor": "#E5ECF6",
            "gridcolor": "white",
            "gridwidth": 2,
            "linecolor": "white",
            "showbackground": true,
            "ticks": "",
            "zerolinecolor": "white"
           },
           "zaxis": {
            "backgroundcolor": "#E5ECF6",
            "gridcolor": "white",
            "gridwidth": 2,
            "linecolor": "white",
            "showbackground": true,
            "ticks": "",
            "zerolinecolor": "white"
           }
          },
          "shapedefaults": {
           "line": {
            "color": "#2a3f5f"
           }
          },
          "ternary": {
           "aaxis": {
            "gridcolor": "white",
            "linecolor": "white",
            "ticks": ""
           },
           "baxis": {
            "gridcolor": "white",
            "linecolor": "white",
            "ticks": ""
           },
           "bgcolor": "#E5ECF6",
           "caxis": {
            "gridcolor": "white",
            "linecolor": "white",
            "ticks": ""
           }
          },
          "title": {
           "x": 0.05
          },
          "xaxis": {
           "automargin": true,
           "gridcolor": "white",
           "linecolor": "white",
           "ticks": "",
           "title": {
            "standoff": 15
           },
           "zerolinecolor": "white",
           "zerolinewidth": 2
          },
          "yaxis": {
           "automargin": true,
           "gridcolor": "white",
           "linecolor": "white",
           "ticks": "",
           "title": {
            "standoff": 15
           },
           "zerolinecolor": "white",
           "zerolinewidth": 2
          }
         }
        },
        "title": {
         "text": "Target statistics"
        },
        "xaxis": {
         "anchor": "y",
         "domain": [
          0,
          0.45
         ],
         "title": {
          "text": "Target"
         }
        },
        "xaxis2": {
         "anchor": "y2",
         "domain": [
          0.55,
          1
         ],
         "title": {
          "text": "Target"
         }
        },
        "yaxis": {
         "anchor": "x",
         "domain": [
          0,
          1
         ]
        },
        "yaxis2": {
         "anchor": "x2",
         "domain": [
          0,
          1
         ]
        }
       }
      }
     },
     "metadata": {},
     "output_type": "display_data"
    }
   ],
   "source": [
    "fig: go.Figure = make_subplots(\n",
    "    rows=1,\n",
    "    cols=2,\n",
    "    shared_xaxes=True,\n",
    "    subplot_titles=(\n",
    "        \"hashrate\",\n",
    "        \"hashrate_diff\",\n",
    "    ),\n",
    ")\n",
    "fig.add_trace(go.Bar(x=bar_df[\"target\"], y=bar_df[\"scaled_log_hashrate\"]), row=1, col=1)\n",
    "fig.add_trace(go.Bar(x=bar_df[\"target\"], y=bar_df[\"scaled_hashrate_diff\"]), row=1, col=2)\n",
    "fig.update_xaxes(title_text=\"Target\")\n",
    "fig.update_layout(title_text=\"Target statistics\", showlegend=False)\n",
    "fig.show()"
   ]
  },
  {
   "cell_type": "code",
   "execution_count": 11,
   "metadata": {},
   "outputs": [
    {
     "data": {
      "text/html": [
       "<div>\n",
       "<style scoped>\n",
       "    .dataframe tbody tr th:only-of-type {\n",
       "        vertical-align: middle;\n",
       "    }\n",
       "\n",
       "    .dataframe tbody tr th {\n",
       "        vertical-align: top;\n",
       "    }\n",
       "\n",
       "    .dataframe thead th {\n",
       "        text-align: right;\n",
       "    }\n",
       "</style>\n",
       "<table border=\"1\" class=\"dataframe\">\n",
       "  <thead>\n",
       "    <tr style=\"text-align: right;\">\n",
       "      <th></th>\n",
       "      <th>hashrate_diff</th>\n",
       "    </tr>\n",
       "  </thead>\n",
       "  <tbody>\n",
       "    <tr>\n",
       "      <th>0</th>\n",
       "      <td>NaN</td>\n",
       "    </tr>\n",
       "    <tr>\n",
       "      <th>1</th>\n",
       "      <td>-3.375278e+11</td>\n",
       "    </tr>\n",
       "    <tr>\n",
       "      <th>2</th>\n",
       "      <td>1.687639e+11</td>\n",
       "    </tr>\n",
       "    <tr>\n",
       "      <th>3</th>\n",
       "      <td>-1.265729e+11</td>\n",
       "    </tr>\n",
       "    <tr>\n",
       "      <th>4</th>\n",
       "      <td>8.438195e+10</td>\n",
       "    </tr>\n",
       "    <tr>\n",
       "      <th>...</th>\n",
       "      <td>...</td>\n",
       "    </tr>\n",
       "    <tr>\n",
       "      <th>11547</th>\n",
       "      <td>-1.051124e+11</td>\n",
       "    </tr>\n",
       "    <tr>\n",
       "      <th>11548</th>\n",
       "      <td>3.153372e+11</td>\n",
       "    </tr>\n",
       "    <tr>\n",
       "      <th>11549</th>\n",
       "      <td>0.000000e+00</td>\n",
       "    </tr>\n",
       "    <tr>\n",
       "      <th>11550</th>\n",
       "      <td>-2.102248e+11</td>\n",
       "    </tr>\n",
       "    <tr>\n",
       "      <th>11551</th>\n",
       "      <td>-1.051124e+11</td>\n",
       "    </tr>\n",
       "  </tbody>\n",
       "</table>\n",
       "<p>11552 rows × 1 columns</p>\n",
       "</div>"
      ],
      "text/plain": [
       "       hashrate_diff\n",
       "0                NaN\n",
       "1      -3.375278e+11\n",
       "2       1.687639e+11\n",
       "3      -1.265729e+11\n",
       "4       8.438195e+10\n",
       "...              ...\n",
       "11547  -1.051124e+11\n",
       "11548   3.153372e+11\n",
       "11549   0.000000e+00\n",
       "11550  -2.102248e+11\n",
       "11551  -1.051124e+11\n",
       "\n",
       "[11552 rows x 1 columns]"
      ]
     },
     "execution_count": 11,
     "metadata": {},
     "output_type": "execute_result"
    }
   ],
   "source": [
    "hashrate_diff = pd.read_csv('hashrate_diff.csv')\n",
    "hashrate_diff"
   ]
  },
  {
   "cell_type": "code",
   "execution_count": 12,
   "metadata": {},
   "outputs": [
    {
     "data": {
      "text/html": [
       "<div>\n",
       "<style scoped>\n",
       "    .dataframe tbody tr th:only-of-type {\n",
       "        vertical-align: middle;\n",
       "    }\n",
       "\n",
       "    .dataframe tbody tr th {\n",
       "        vertical-align: top;\n",
       "    }\n",
       "\n",
       "    .dataframe thead th {\n",
       "        text-align: right;\n",
       "    }\n",
       "</style>\n",
       "<table border=\"1\" class=\"dataframe\">\n",
       "  <thead>\n",
       "    <tr style=\"text-align: right;\">\n",
       "      <th></th>\n",
       "      <th>ID</th>\n",
       "      <th>_type</th>\n",
       "      <th>target</th>\n",
       "      <th>scaled_log_hashrate</th>\n",
       "      <th>scaled_log_open_interest</th>\n",
       "      <th>scaled_log_coinbase_premium_index</th>\n",
       "      <th>scaled_funding_rates</th>\n",
       "      <th>scaled_estimated_block_reward</th>\n",
       "      <th>scaled_liquidation_diff</th>\n",
       "      <th>scaled_log_total_liquidation</th>\n",
       "      <th>scaled_log_total_taker_volume</th>\n",
       "      <th>scaled_utxo_count</th>\n",
       "      <th>scaled_total_transactions_count</th>\n",
       "      <th>taker_buy_sell_ratio</th>\n",
       "      <th>moving_avg_scaled_log_total_volume</th>\n",
       "      <th>open_interest_diff</th>\n",
       "      <th>hashrate_diff</th>\n",
       "    </tr>\n",
       "  </thead>\n",
       "  <tbody>\n",
       "    <tr>\n",
       "      <th>0</th>\n",
       "      <td>2023-01-01 00:00:00</td>\n",
       "      <td>train</td>\n",
       "      <td>2.0</td>\n",
       "      <td>0.343899</td>\n",
       "      <td>-2.074545</td>\n",
       "      <td>-1.004418</td>\n",
       "      <td>-0.190599</td>\n",
       "      <td>-2.283932</td>\n",
       "      <td>-0.013822</td>\n",
       "      <td>-1.407440</td>\n",
       "      <td>-1.507090</td>\n",
       "      <td>-1.216481</td>\n",
       "      <td>-0.616412</td>\n",
       "      <td>0.904774</td>\n",
       "      <td>-1.507090</td>\n",
       "      <td>NaN</td>\n",
       "      <td>NaN</td>\n",
       "    </tr>\n",
       "    <tr>\n",
       "      <th>1</th>\n",
       "      <td>2023-01-01 01:00:00</td>\n",
       "      <td>train</td>\n",
       "      <td>1.0</td>\n",
       "      <td>-0.479569</td>\n",
       "      <td>-2.055443</td>\n",
       "      <td>-0.920481</td>\n",
       "      <td>-0.190611</td>\n",
       "      <td>-2.271191</td>\n",
       "      <td>-0.020702</td>\n",
       "      <td>-1.089259</td>\n",
       "      <td>-1.998687</td>\n",
       "      <td>-1.216149</td>\n",
       "      <td>-1.202730</td>\n",
       "      <td>1.655721</td>\n",
       "      <td>-1.752889</td>\n",
       "      <td>1.733962e+07</td>\n",
       "      <td>-3.375278e+11</td>\n",
       "    </tr>\n",
       "    <tr>\n",
       "      <th>2</th>\n",
       "      <td>2023-01-01 02:00:00</td>\n",
       "      <td>train</td>\n",
       "      <td>1.0</td>\n",
       "      <td>0.039981</td>\n",
       "      <td>-2.057519</td>\n",
       "      <td>-0.982775</td>\n",
       "      <td>-0.190679</td>\n",
       "      <td>-2.285286</td>\n",
       "      <td>-0.013936</td>\n",
       "      <td>-1.414659</td>\n",
       "      <td>-2.337608</td>\n",
       "      <td>-1.216188</td>\n",
       "      <td>-1.232124</td>\n",
       "      <td>1.027512</td>\n",
       "      <td>-1.947795</td>\n",
       "      <td>-1.886794e+06</td>\n",
       "      <td>1.687639e+11</td>\n",
       "    </tr>\n",
       "    <tr>\n",
       "      <th>3</th>\n",
       "      <td>2023-01-01 03:00:00</td>\n",
       "      <td>train</td>\n",
       "      <td>1.0</td>\n",
       "      <td>-0.312311</td>\n",
       "      <td>-2.059965</td>\n",
       "      <td>-0.995009</td>\n",
       "      <td>-0.188985</td>\n",
       "      <td>-2.286295</td>\n",
       "      <td>-0.008301</td>\n",
       "      <td>-1.132860</td>\n",
       "      <td>-2.043796</td>\n",
       "      <td>-1.215593</td>\n",
       "      <td>-1.263915</td>\n",
       "      <td>0.874477</td>\n",
       "      <td>-1.971795</td>\n",
       "      <td>-2.221901e+06</td>\n",
       "      <td>-1.265729e+11</td>\n",
       "    </tr>\n",
       "    <tr>\n",
       "      <th>4</th>\n",
       "      <td>2023-01-01 04:00:00</td>\n",
       "      <td>train</td>\n",
       "      <td>2.0</td>\n",
       "      <td>-0.060107</td>\n",
       "      <td>-2.052255</td>\n",
       "      <td>-1.026415</td>\n",
       "      <td>-0.083030</td>\n",
       "      <td>-2.282372</td>\n",
       "      <td>-0.010506</td>\n",
       "      <td>-1.228120</td>\n",
       "      <td>-2.015961</td>\n",
       "      <td>-1.214962</td>\n",
       "      <td>-1.087030</td>\n",
       "      <td>0.966796</td>\n",
       "      <td>-1.980628</td>\n",
       "      <td>7.007341e+06</td>\n",
       "      <td>8.438195e+10</td>\n",
       "    </tr>\n",
       "    <tr>\n",
       "      <th>...</th>\n",
       "      <td>...</td>\n",
       "      <td>...</td>\n",
       "      <td>...</td>\n",
       "      <td>...</td>\n",
       "      <td>...</td>\n",
       "      <td>...</td>\n",
       "      <td>...</td>\n",
       "      <td>...</td>\n",
       "      <td>...</td>\n",
       "      <td>...</td>\n",
       "      <td>...</td>\n",
       "      <td>...</td>\n",
       "      <td>...</td>\n",
       "      <td>...</td>\n",
       "      <td>...</td>\n",
       "      <td>...</td>\n",
       "      <td>...</td>\n",
       "    </tr>\n",
       "    <tr>\n",
       "      <th>11547</th>\n",
       "      <td>2024-04-26 03:00:00</td>\n",
       "      <td>test</td>\n",
       "      <td>NaN</td>\n",
       "      <td>-0.369730</td>\n",
       "      <td>0.534373</td>\n",
       "      <td>-0.235206</td>\n",
       "      <td>NaN</td>\n",
       "      <td>-1.782316</td>\n",
       "      <td>-0.032620</td>\n",
       "      <td>-1.383570</td>\n",
       "      <td>NaN</td>\n",
       "      <td>2.350929</td>\n",
       "      <td>-0.872964</td>\n",
       "      <td>NaN</td>\n",
       "      <td>NaN</td>\n",
       "      <td>-2.193716e+07</td>\n",
       "      <td>-1.051124e+11</td>\n",
       "    </tr>\n",
       "    <tr>\n",
       "      <th>11548</th>\n",
       "      <td>2024-04-26 04:00:00</td>\n",
       "      <td>test</td>\n",
       "      <td>NaN</td>\n",
       "      <td>0.191102</td>\n",
       "      <td>NaN</td>\n",
       "      <td>-0.472610</td>\n",
       "      <td>NaN</td>\n",
       "      <td>-1.918750</td>\n",
       "      <td>0.052758</td>\n",
       "      <td>-0.438363</td>\n",
       "      <td>NaN</td>\n",
       "      <td>2.352974</td>\n",
       "      <td>NaN</td>\n",
       "      <td>NaN</td>\n",
       "      <td>NaN</td>\n",
       "      <td>NaN</td>\n",
       "      <td>3.153372e+11</td>\n",
       "    </tr>\n",
       "    <tr>\n",
       "      <th>11549</th>\n",
       "      <td>2024-04-26 05:00:00</td>\n",
       "      <td>test</td>\n",
       "      <td>NaN</td>\n",
       "      <td>0.191102</td>\n",
       "      <td>NaN</td>\n",
       "      <td>-0.157720</td>\n",
       "      <td>NaN</td>\n",
       "      <td>-1.981323</td>\n",
       "      <td>-0.088241</td>\n",
       "      <td>-0.412978</td>\n",
       "      <td>NaN</td>\n",
       "      <td>2.355665</td>\n",
       "      <td>NaN</td>\n",
       "      <td>NaN</td>\n",
       "      <td>NaN</td>\n",
       "      <td>NaN</td>\n",
       "      <td>0.000000e+00</td>\n",
       "    </tr>\n",
       "    <tr>\n",
       "      <th>11550</th>\n",
       "      <td>2024-04-26 06:00:00</td>\n",
       "      <td>test</td>\n",
       "      <td>NaN</td>\n",
       "      <td>-0.136964</td>\n",
       "      <td>NaN</td>\n",
       "      <td>-0.247183</td>\n",
       "      <td>NaN</td>\n",
       "      <td>-2.150662</td>\n",
       "      <td>-0.051507</td>\n",
       "      <td>-0.990694</td>\n",
       "      <td>NaN</td>\n",
       "      <td>2.355852</td>\n",
       "      <td>NaN</td>\n",
       "      <td>NaN</td>\n",
       "      <td>NaN</td>\n",
       "      <td>NaN</td>\n",
       "      <td>-2.102248e+11</td>\n",
       "    </tr>\n",
       "    <tr>\n",
       "      <th>11551</th>\n",
       "      <td>2024-04-26 07:00:00</td>\n",
       "      <td>test</td>\n",
       "      <td>NaN</td>\n",
       "      <td>-0.369730</td>\n",
       "      <td>NaN</td>\n",
       "      <td>NaN</td>\n",
       "      <td>NaN</td>\n",
       "      <td>-1.704902</td>\n",
       "      <td>-0.061766</td>\n",
       "      <td>-0.478015</td>\n",
       "      <td>NaN</td>\n",
       "      <td>NaN</td>\n",
       "      <td>NaN</td>\n",
       "      <td>NaN</td>\n",
       "      <td>NaN</td>\n",
       "      <td>NaN</td>\n",
       "      <td>-1.051124e+11</td>\n",
       "    </tr>\n",
       "  </tbody>\n",
       "</table>\n",
       "<p>11552 rows × 17 columns</p>\n",
       "</div>"
      ],
      "text/plain": [
       "                        ID  _type  target  scaled_log_hashrate  \\\n",
       "0      2023-01-01 00:00:00  train     2.0             0.343899   \n",
       "1      2023-01-01 01:00:00  train     1.0            -0.479569   \n",
       "2      2023-01-01 02:00:00  train     1.0             0.039981   \n",
       "3      2023-01-01 03:00:00  train     1.0            -0.312311   \n",
       "4      2023-01-01 04:00:00  train     2.0            -0.060107   \n",
       "...                    ...    ...     ...                  ...   \n",
       "11547  2024-04-26 03:00:00   test     NaN            -0.369730   \n",
       "11548  2024-04-26 04:00:00   test     NaN             0.191102   \n",
       "11549  2024-04-26 05:00:00   test     NaN             0.191102   \n",
       "11550  2024-04-26 06:00:00   test     NaN            -0.136964   \n",
       "11551  2024-04-26 07:00:00   test     NaN            -0.369730   \n",
       "\n",
       "       scaled_log_open_interest  scaled_log_coinbase_premium_index  \\\n",
       "0                     -2.074545                          -1.004418   \n",
       "1                     -2.055443                          -0.920481   \n",
       "2                     -2.057519                          -0.982775   \n",
       "3                     -2.059965                          -0.995009   \n",
       "4                     -2.052255                          -1.026415   \n",
       "...                         ...                                ...   \n",
       "11547                  0.534373                          -0.235206   \n",
       "11548                       NaN                          -0.472610   \n",
       "11549                       NaN                          -0.157720   \n",
       "11550                       NaN                          -0.247183   \n",
       "11551                       NaN                                NaN   \n",
       "\n",
       "       scaled_funding_rates  scaled_estimated_block_reward  \\\n",
       "0                 -0.190599                      -2.283932   \n",
       "1                 -0.190611                      -2.271191   \n",
       "2                 -0.190679                      -2.285286   \n",
       "3                 -0.188985                      -2.286295   \n",
       "4                 -0.083030                      -2.282372   \n",
       "...                     ...                            ...   \n",
       "11547                   NaN                      -1.782316   \n",
       "11548                   NaN                      -1.918750   \n",
       "11549                   NaN                      -1.981323   \n",
       "11550                   NaN                      -2.150662   \n",
       "11551                   NaN                      -1.704902   \n",
       "\n",
       "       scaled_liquidation_diff  scaled_log_total_liquidation  \\\n",
       "0                    -0.013822                     -1.407440   \n",
       "1                    -0.020702                     -1.089259   \n",
       "2                    -0.013936                     -1.414659   \n",
       "3                    -0.008301                     -1.132860   \n",
       "4                    -0.010506                     -1.228120   \n",
       "...                        ...                           ...   \n",
       "11547                -0.032620                     -1.383570   \n",
       "11548                 0.052758                     -0.438363   \n",
       "11549                -0.088241                     -0.412978   \n",
       "11550                -0.051507                     -0.990694   \n",
       "11551                -0.061766                     -0.478015   \n",
       "\n",
       "       scaled_log_total_taker_volume  scaled_utxo_count  \\\n",
       "0                          -1.507090          -1.216481   \n",
       "1                          -1.998687          -1.216149   \n",
       "2                          -2.337608          -1.216188   \n",
       "3                          -2.043796          -1.215593   \n",
       "4                          -2.015961          -1.214962   \n",
       "...                              ...                ...   \n",
       "11547                            NaN           2.350929   \n",
       "11548                            NaN           2.352974   \n",
       "11549                            NaN           2.355665   \n",
       "11550                            NaN           2.355852   \n",
       "11551                            NaN                NaN   \n",
       "\n",
       "       scaled_total_transactions_count  taker_buy_sell_ratio  \\\n",
       "0                            -0.616412              0.904774   \n",
       "1                            -1.202730              1.655721   \n",
       "2                            -1.232124              1.027512   \n",
       "3                            -1.263915              0.874477   \n",
       "4                            -1.087030              0.966796   \n",
       "...                                ...                   ...   \n",
       "11547                        -0.872964                   NaN   \n",
       "11548                              NaN                   NaN   \n",
       "11549                              NaN                   NaN   \n",
       "11550                              NaN                   NaN   \n",
       "11551                              NaN                   NaN   \n",
       "\n",
       "       moving_avg_scaled_log_total_volume  open_interest_diff  hashrate_diff  \n",
       "0                               -1.507090                 NaN            NaN  \n",
       "1                               -1.752889        1.733962e+07  -3.375278e+11  \n",
       "2                               -1.947795       -1.886794e+06   1.687639e+11  \n",
       "3                               -1.971795       -2.221901e+06  -1.265729e+11  \n",
       "4                               -1.980628        7.007341e+06   8.438195e+10  \n",
       "...                                   ...                 ...            ...  \n",
       "11547                                 NaN       -2.193716e+07  -1.051124e+11  \n",
       "11548                                 NaN                 NaN   3.153372e+11  \n",
       "11549                                 NaN                 NaN   0.000000e+00  \n",
       "11550                                 NaN                 NaN  -2.102248e+11  \n",
       "11551                                 NaN                 NaN  -1.051124e+11  \n",
       "\n",
       "[11552 rows x 17 columns]"
      ]
     },
     "execution_count": 12,
     "metadata": {},
     "output_type": "execute_result"
    }
   ],
   "source": [
    "concat_df = pd.concat([df, hashrate_diff], axis=1)\n",
    "concat_df"
   ]
  },
  {
   "cell_type": "code",
   "execution_count": 86,
   "metadata": {},
   "outputs": [
    {
     "name": "stdout",
     "output_type": "stream",
     "text": [
      "[0]\ttrain-mlogloss:1.36845\teval-mlogloss:1.37269\n",
      "[1]\ttrain-mlogloss:1.35183\teval-mlogloss:1.36028\n",
      "[2]\ttrain-mlogloss:1.33538\teval-mlogloss:1.34855\n",
      "[3]\ttrain-mlogloss:1.32004\teval-mlogloss:1.33733\n",
      "[4]\ttrain-mlogloss:1.30488\teval-mlogloss:1.32656\n",
      "[5]\ttrain-mlogloss:1.29040\teval-mlogloss:1.31703\n",
      "[6]\ttrain-mlogloss:1.27649\teval-mlogloss:1.30776\n",
      "[7]\ttrain-mlogloss:1.26313\teval-mlogloss:1.29911\n"
     ]
    },
    {
     "name": "stderr",
     "output_type": "stream",
     "text": [
      "c:\\Users\\com\\miniconda3\\Lib\\site-packages\\xgboost\\core.py:160: UserWarning:\n",
      "\n",
      "[11:32:29] WARNING: C:\\buildkite-agent\\builds\\buildkite-windows-cpu-autoscaling-group-i-0b3782d1791676daf-1\\xgboost\\xgboost-ci-windows\\src\\learner.cc:742: \n",
      "Parameters: { \"early_stopping_rounds\", \"verbose\" } are not used.\n",
      "\n",
      "\n"
     ]
    },
    {
     "name": "stdout",
     "output_type": "stream",
     "text": [
      "[8]\ttrain-mlogloss:1.25032\teval-mlogloss:1.29096\n",
      "[9]\ttrain-mlogloss:1.23832\teval-mlogloss:1.28275\n",
      "[10]\ttrain-mlogloss:1.22640\teval-mlogloss:1.27540\n",
      "[11]\ttrain-mlogloss:1.21501\teval-mlogloss:1.26835\n",
      "[12]\ttrain-mlogloss:1.20414\teval-mlogloss:1.26139\n",
      "[13]\ttrain-mlogloss:1.19322\teval-mlogloss:1.25490\n",
      "[14]\ttrain-mlogloss:1.18290\teval-mlogloss:1.24894\n",
      "[15]\ttrain-mlogloss:1.17302\teval-mlogloss:1.24293\n",
      "[16]\ttrain-mlogloss:1.16366\teval-mlogloss:1.23778\n",
      "[17]\ttrain-mlogloss:1.15429\teval-mlogloss:1.23245\n",
      "[18]\ttrain-mlogloss:1.14523\teval-mlogloss:1.22769\n",
      "[19]\ttrain-mlogloss:1.13612\teval-mlogloss:1.22290\n",
      "[20]\ttrain-mlogloss:1.12757\teval-mlogloss:1.21823\n",
      "[21]\ttrain-mlogloss:1.11942\teval-mlogloss:1.21438\n",
      "[22]\ttrain-mlogloss:1.11217\teval-mlogloss:1.20995\n",
      "[23]\ttrain-mlogloss:1.10450\teval-mlogloss:1.20616\n",
      "[24]\ttrain-mlogloss:1.09693\teval-mlogloss:1.20275\n",
      "[25]\ttrain-mlogloss:1.08938\teval-mlogloss:1.19893\n",
      "[26]\ttrain-mlogloss:1.08205\teval-mlogloss:1.19563\n",
      "[27]\ttrain-mlogloss:1.07418\teval-mlogloss:1.19243\n",
      "[28]\ttrain-mlogloss:1.06686\teval-mlogloss:1.18958\n",
      "[29]\ttrain-mlogloss:1.06027\teval-mlogloss:1.18654\n",
      "[30]\ttrain-mlogloss:1.05478\teval-mlogloss:1.18384\n",
      "[31]\ttrain-mlogloss:1.04857\teval-mlogloss:1.18149\n",
      "[32]\ttrain-mlogloss:1.04290\teval-mlogloss:1.17934\n",
      "[33]\ttrain-mlogloss:1.03678\teval-mlogloss:1.17729\n",
      "[34]\ttrain-mlogloss:1.03054\teval-mlogloss:1.17519\n",
      "[35]\ttrain-mlogloss:1.02473\teval-mlogloss:1.17279\n",
      "[36]\ttrain-mlogloss:1.01834\teval-mlogloss:1.17086\n",
      "[37]\ttrain-mlogloss:1.01304\teval-mlogloss:1.16912\n",
      "[38]\ttrain-mlogloss:1.00726\teval-mlogloss:1.16723\n",
      "[39]\ttrain-mlogloss:1.00171\teval-mlogloss:1.16578\n",
      "[40]\ttrain-mlogloss:0.99624\teval-mlogloss:1.16420\n",
      "[41]\ttrain-mlogloss:0.99128\teval-mlogloss:1.16331\n",
      "[42]\ttrain-mlogloss:0.98587\teval-mlogloss:1.16168\n",
      "[43]\ttrain-mlogloss:0.98031\teval-mlogloss:1.16028\n",
      "[44]\ttrain-mlogloss:0.97533\teval-mlogloss:1.15929\n",
      "[45]\ttrain-mlogloss:0.97013\teval-mlogloss:1.15776\n",
      "[46]\ttrain-mlogloss:0.96495\teval-mlogloss:1.15627\n",
      "[47]\ttrain-mlogloss:0.96049\teval-mlogloss:1.15555\n",
      "[48]\ttrain-mlogloss:0.95617\teval-mlogloss:1.15431\n",
      "[49]\ttrain-mlogloss:0.95188\teval-mlogloss:1.15327\n",
      "[50]\ttrain-mlogloss:0.94753\teval-mlogloss:1.15223\n",
      "[51]\ttrain-mlogloss:0.94260\teval-mlogloss:1.15175\n",
      "[52]\ttrain-mlogloss:0.93876\teval-mlogloss:1.15085\n",
      "[53]\ttrain-mlogloss:0.93390\teval-mlogloss:1.15001\n",
      "[54]\ttrain-mlogloss:0.93032\teval-mlogloss:1.14931\n",
      "[55]\ttrain-mlogloss:0.92574\teval-mlogloss:1.14889\n",
      "[56]\ttrain-mlogloss:0.92172\teval-mlogloss:1.14846\n",
      "[57]\ttrain-mlogloss:0.91731\teval-mlogloss:1.14802\n",
      "[58]\ttrain-mlogloss:0.91341\teval-mlogloss:1.14723\n",
      "[59]\ttrain-mlogloss:0.90984\teval-mlogloss:1.14685\n",
      "[60]\ttrain-mlogloss:0.90562\teval-mlogloss:1.14630\n",
      "[61]\ttrain-mlogloss:0.90181\teval-mlogloss:1.14595\n",
      "[62]\ttrain-mlogloss:0.89800\teval-mlogloss:1.14555\n",
      "[63]\ttrain-mlogloss:0.89461\teval-mlogloss:1.14499\n",
      "[64]\ttrain-mlogloss:0.89129\teval-mlogloss:1.14464\n",
      "[65]\ttrain-mlogloss:0.88760\teval-mlogloss:1.14414\n",
      "[66]\ttrain-mlogloss:0.88464\teval-mlogloss:1.14371\n",
      "[67]\ttrain-mlogloss:0.88136\teval-mlogloss:1.14335\n",
      "[68]\ttrain-mlogloss:0.87808\teval-mlogloss:1.14315\n",
      "[69]\ttrain-mlogloss:0.87479\teval-mlogloss:1.14277\n",
      "[70]\ttrain-mlogloss:0.87150\teval-mlogloss:1.14214\n",
      "[71]\ttrain-mlogloss:0.86808\teval-mlogloss:1.14163\n",
      "[72]\ttrain-mlogloss:0.86450\teval-mlogloss:1.14119\n",
      "[73]\ttrain-mlogloss:0.86098\teval-mlogloss:1.14106\n",
      "[74]\ttrain-mlogloss:0.85818\teval-mlogloss:1.14051\n",
      "[75]\ttrain-mlogloss:0.85501\teval-mlogloss:1.14045\n",
      "[76]\ttrain-mlogloss:0.85243\teval-mlogloss:1.14014\n",
      "[77]\ttrain-mlogloss:0.84945\teval-mlogloss:1.13975\n",
      "[78]\ttrain-mlogloss:0.84682\teval-mlogloss:1.13956\n",
      "[79]\ttrain-mlogloss:0.84367\teval-mlogloss:1.13935\n",
      "[80]\ttrain-mlogloss:0.84064\teval-mlogloss:1.13920\n",
      "[81]\ttrain-mlogloss:0.83852\teval-mlogloss:1.13891\n",
      "[82]\ttrain-mlogloss:0.83588\teval-mlogloss:1.13906\n",
      "[83]\ttrain-mlogloss:0.83311\teval-mlogloss:1.13878\n",
      "[84]\ttrain-mlogloss:0.83029\teval-mlogloss:1.13854\n",
      "[85]\ttrain-mlogloss:0.82771\teval-mlogloss:1.13872\n",
      "[86]\ttrain-mlogloss:0.82539\teval-mlogloss:1.13849\n",
      "[87]\ttrain-mlogloss:0.82243\teval-mlogloss:1.13809\n",
      "[88]\ttrain-mlogloss:0.81924\teval-mlogloss:1.13792\n",
      "[89]\ttrain-mlogloss:0.81632\teval-mlogloss:1.13776\n",
      "[90]\ttrain-mlogloss:0.81462\teval-mlogloss:1.13775\n",
      "[91]\ttrain-mlogloss:0.81251\teval-mlogloss:1.13768\n",
      "[92]\ttrain-mlogloss:0.80989\teval-mlogloss:1.13781\n",
      "[93]\ttrain-mlogloss:0.80709\teval-mlogloss:1.13735\n",
      "[94]\ttrain-mlogloss:0.80492\teval-mlogloss:1.13762\n",
      "[95]\ttrain-mlogloss:0.80198\teval-mlogloss:1.13788\n",
      "[96]\ttrain-mlogloss:0.80025\teval-mlogloss:1.13788\n",
      "[97]\ttrain-mlogloss:0.79756\teval-mlogloss:1.13776\n",
      "[98]\ttrain-mlogloss:0.79438\teval-mlogloss:1.13804\n",
      "[99]\ttrain-mlogloss:0.79244\teval-mlogloss:1.13828\n",
      "[100]\ttrain-mlogloss:0.78953\teval-mlogloss:1.13857\n",
      "[101]\ttrain-mlogloss:0.78759\teval-mlogloss:1.13833\n",
      "[102]\ttrain-mlogloss:0.78505\teval-mlogloss:1.13844\n",
      "훈련 정확도: 0.8340710241893978\n",
      "              precision    recall  f1-score   support\n",
      "\n",
      "           0       0.99      0.53      0.69      1000\n",
      "           1       0.83      0.89      0.86      3544\n",
      "           2       0.79      0.93      0.86      3671\n",
      "           3       0.91      0.69      0.78      1500\n",
      "\n",
      "    accuracy                           0.83      9715\n",
      "   macro avg       0.88      0.76      0.80      9715\n",
      "weighted avg       0.85      0.83      0.83      9715\n",
      "\n",
      "검증 정확도: 0.4349315068493151\n",
      "              precision    recall  f1-score   support\n",
      "\n",
      "           0       0.21      0.04      0.07       149\n",
      "           1       0.42      0.48      0.45       678\n",
      "           2       0.47      0.55      0.50       745\n",
      "           3       0.30      0.13      0.18       180\n",
      "\n",
      "    accuracy                           0.43      1752\n",
      "   macro avg       0.35      0.30      0.30      1752\n",
      "weighted avg       0.41      0.43      0.41      1752\n",
      "\n"
     ]
    }
   ],
   "source": [
    "# open_interest_diff drop\n",
    "import xgboost as xgb\n",
    "from sklearn.metrics import accuracy_score, classification_report\n",
    "from sklearn.model_selection import train_test_split\n",
    "\n",
    "# _type에 따라 train, test 분리\n",
    "train_df = df.loc[df[\"_type\"] == \"train\"].drop(columns=[\"_type\"])\n",
    "train_df = train_df.ffill()\n",
    "test_df = df.loc[df[\"_type\"] == \"test\"].drop(columns=[\"_type\"])\n",
    "\n",
    "# train_test_split 으로 valid set, train set 분리\n",
    "x_train, x_valid, y_train, y_valid = train_test_split(\n",
    "    train_df.drop([\"target\", \"ID\"], axis=1),\n",
    "    train_df[\"target\"].astype(int),\n",
    "    test_size=0.2,\n",
    "    random_state=42,\n",
    ")\n",
    "\n",
    "sampling_strategy = {0: 1000, 1: 3544, 2: 3671, 3: 1500}\n",
    "smote = SMOTE(sampling_strategy=sampling_strategy,random_state=42)\n",
    "x_train_resampled, y_train_resampled = smote.fit_resample(x_train, y_train)\n",
    "\n",
    "# XGBoost 모델을 위한 DMatrix로 변환\n",
    "dtrain = xgb.DMatrix(x_train_resampled, label=y_train_resampled)\n",
    "dvalid = xgb.DMatrix(x_valid, label=y_valid)\n",
    "\n",
    "# XGBoost 모델 학습 파라미터\n",
    "params = config[\"xgboost\"]\n",
    "params[\"objective\"] = \"multi:softprob\"  # 다중 클래스 분류를 위한 설정\n",
    "params[\"num_class\"] = len(y_train_resampled.unique())  # 클래스 개수\n",
    "params[\"eval_metric\"] = \"mlogloss\"  # 손실 함수 (멀티클래스 로지스틱 손실)\n",
    "params['max_depth'] = 7\n",
    "params['learning_rate'] = 0.05\n",
    "params['subsample'] = 0.8\n",
    "params['colsample_bytree'] = 0.8\n",
    "\n",
    "# 학습 시 평가 데이터로 검증 셋 사용\n",
    "evals = [(dtrain, \"train\"), (dvalid, \"eval\")]\n",
    "\n",
    "# XGBoost 모델 훈련\n",
    "xgb_model = xgb.train(\n",
    "    params=params,\n",
    "    dtrain=dtrain,\n",
    "    num_boost_round=200,  # 트리의 개수\n",
    "    evals=evals,\n",
    "    early_stopping_rounds=10,  # 조기 중단\n",
    ")\n",
    "\n",
    "# 예측 (훈련 데이터셋)\n",
    "y_train_pred_prob = xgb_model.predict(dtrain)\n",
    "y_train_pred = y_train_pred_prob.argmax(axis=1)\n",
    "\n",
    "# 예측 (검증 데이터셋)\n",
    "y_valid_pred_prob = xgb_model.predict(dvalid)\n",
    "y_valid_pred = y_valid_pred_prob.argmax(axis=1)\n",
    "\n",
    "# 성능 평가 (훈련 데이터셋)\n",
    "train_accuracy = accuracy_score(y_train_resampled, y_train_pred)\n",
    "train_classification_rep = classification_report(y_train_resampled, y_train_pred)\n",
    "\n",
    "# 성능 평가 (검증 데이터셋)\n",
    "valid_accuracy = accuracy_score(y_valid, y_valid_pred)\n",
    "valid_classification_rep = classification_report(y_valid, y_valid_pred)\n",
    "\n",
    "print(f\"훈련 정확도: {train_accuracy}\")\n",
    "print(train_classification_rep)\n",
    "print(f\"검증 정확도: {valid_accuracy}\")\n",
    "print(valid_classification_rep)"
   ]
  },
  {
   "cell_type": "code",
   "execution_count": 87,
   "metadata": {},
   "outputs": [
    {
     "data": {
      "text/plain": [
       "array([1, 1, 2, ..., 1, 1, 3], dtype=int64)"
      ]
     },
     "execution_count": 87,
     "metadata": {},
     "output_type": "execute_result"
    }
   ],
   "source": [
    "# 테스트 데이터셋을 DMatrix로 변환\n",
    "dtest = xgb.DMatrix(test_df.drop([\"target\", \"ID\"], axis=1))\n",
    "\n",
    "# 테스트 데이터에 대한 예측 수행\n",
    "y_test_pred_prob = xgb_model.predict(dtest)\n",
    "\n",
    "# 다중 클래스 예측일 경우 가장 높은 확률을 가진 클래스를 예측값으로 변환\n",
    "y_test_pred = y_test_pred_prob.argmax(axis=1)\n",
    "\n",
    "# 예측 결과 출력\n",
    "y_test_pred"
   ]
  },
  {
   "cell_type": "code",
   "execution_count": 88,
   "metadata": {},
   "outputs": [
    {
     "data": {
      "text/plain": [
       "target\n",
       "2    1213\n",
       "1    1209\n",
       "3     270\n",
       "0     100\n",
       "Name: count, dtype: int64"
      ]
     },
     "execution_count": 88,
     "metadata": {},
     "output_type": "execute_result"
    }
   ],
   "source": [
    "submission_df = submission_df.assign(target=pd.DataFrame(y_test_pred))\n",
    "submission_df['target'].value_counts()"
   ]
  },
  {
   "cell_type": "code",
   "execution_count": 91,
   "metadata": {},
   "outputs": [],
   "source": [
    "submission_df.to_csv(\"XGBoost_scaled_smote_add_scaled_hash.csv\",index=False)"
   ]
  },
  {
   "cell_type": "code",
   "execution_count": 89,
   "metadata": {},
   "outputs": [
    {
     "data": {
      "application/vnd.plotly.v1+json": {
       "config": {
        "plotlyServerURL": "https://plot.ly"
       },
       "data": [
        {
         "alignmentgroup": "True",
         "hovertemplate": "Feature=%{x}<br>Importance=%{y}<extra></extra>",
         "legendgroup": "",
         "marker": {
          "color": "#636efa",
          "pattern": {
           "shape": ""
          }
         },
         "name": "",
         "offsetgroup": "",
         "orientation": "v",
         "showlegend": false,
         "textposition": "auto",
         "type": "bar",
         "x": [
          "open_interest_diff",
          "scaled_log_coinbase_premium_index",
          "taker_buy_sell_ratio",
          "scaled_funding_rates",
          "moving_avg_scaled_log_total_volume",
          "scaled_log_total_taker_volume",
          "scaled_total_transactions_count",
          "scaled_log_hashrate",
          "scaled_hashrate_diff",
          "scaled_log_total_liquidation",
          "scaled_liquidation_diff",
          "scaled_utxo_count",
          "scaled_log_open_interest",
          "scaled_estimated_block_reward"
         ],
         "xaxis": "x",
         "y": [
          3448,
          2772,
          2664,
          2446,
          2434,
          2311,
          2278,
          2223,
          2215,
          2170,
          2157,
          2128,
          2026,
          2016
         ],
         "yaxis": "y"
        }
       ],
       "layout": {
        "barmode": "relative",
        "legend": {
         "tracegroupgap": 0
        },
        "template": {
         "data": {
          "bar": [
           {
            "error_x": {
             "color": "#2a3f5f"
            },
            "error_y": {
             "color": "#2a3f5f"
            },
            "marker": {
             "line": {
              "color": "#E5ECF6",
              "width": 0.5
             },
             "pattern": {
              "fillmode": "overlay",
              "size": 10,
              "solidity": 0.2
             }
            },
            "type": "bar"
           }
          ],
          "barpolar": [
           {
            "marker": {
             "line": {
              "color": "#E5ECF6",
              "width": 0.5
             },
             "pattern": {
              "fillmode": "overlay",
              "size": 10,
              "solidity": 0.2
             }
            },
            "type": "barpolar"
           }
          ],
          "carpet": [
           {
            "aaxis": {
             "endlinecolor": "#2a3f5f",
             "gridcolor": "white",
             "linecolor": "white",
             "minorgridcolor": "white",
             "startlinecolor": "#2a3f5f"
            },
            "baxis": {
             "endlinecolor": "#2a3f5f",
             "gridcolor": "white",
             "linecolor": "white",
             "minorgridcolor": "white",
             "startlinecolor": "#2a3f5f"
            },
            "type": "carpet"
           }
          ],
          "choropleth": [
           {
            "colorbar": {
             "outlinewidth": 0,
             "ticks": ""
            },
            "type": "choropleth"
           }
          ],
          "contour": [
           {
            "colorbar": {
             "outlinewidth": 0,
             "ticks": ""
            },
            "colorscale": [
             [
              0,
              "#0d0887"
             ],
             [
              0.1111111111111111,
              "#46039f"
             ],
             [
              0.2222222222222222,
              "#7201a8"
             ],
             [
              0.3333333333333333,
              "#9c179e"
             ],
             [
              0.4444444444444444,
              "#bd3786"
             ],
             [
              0.5555555555555556,
              "#d8576b"
             ],
             [
              0.6666666666666666,
              "#ed7953"
             ],
             [
              0.7777777777777778,
              "#fb9f3a"
             ],
             [
              0.8888888888888888,
              "#fdca26"
             ],
             [
              1,
              "#f0f921"
             ]
            ],
            "type": "contour"
           }
          ],
          "contourcarpet": [
           {
            "colorbar": {
             "outlinewidth": 0,
             "ticks": ""
            },
            "type": "contourcarpet"
           }
          ],
          "heatmap": [
           {
            "colorbar": {
             "outlinewidth": 0,
             "ticks": ""
            },
            "colorscale": [
             [
              0,
              "#0d0887"
             ],
             [
              0.1111111111111111,
              "#46039f"
             ],
             [
              0.2222222222222222,
              "#7201a8"
             ],
             [
              0.3333333333333333,
              "#9c179e"
             ],
             [
              0.4444444444444444,
              "#bd3786"
             ],
             [
              0.5555555555555556,
              "#d8576b"
             ],
             [
              0.6666666666666666,
              "#ed7953"
             ],
             [
              0.7777777777777778,
              "#fb9f3a"
             ],
             [
              0.8888888888888888,
              "#fdca26"
             ],
             [
              1,
              "#f0f921"
             ]
            ],
            "type": "heatmap"
           }
          ],
          "heatmapgl": [
           {
            "colorbar": {
             "outlinewidth": 0,
             "ticks": ""
            },
            "colorscale": [
             [
              0,
              "#0d0887"
             ],
             [
              0.1111111111111111,
              "#46039f"
             ],
             [
              0.2222222222222222,
              "#7201a8"
             ],
             [
              0.3333333333333333,
              "#9c179e"
             ],
             [
              0.4444444444444444,
              "#bd3786"
             ],
             [
              0.5555555555555556,
              "#d8576b"
             ],
             [
              0.6666666666666666,
              "#ed7953"
             ],
             [
              0.7777777777777778,
              "#fb9f3a"
             ],
             [
              0.8888888888888888,
              "#fdca26"
             ],
             [
              1,
              "#f0f921"
             ]
            ],
            "type": "heatmapgl"
           }
          ],
          "histogram": [
           {
            "marker": {
             "pattern": {
              "fillmode": "overlay",
              "size": 10,
              "solidity": 0.2
             }
            },
            "type": "histogram"
           }
          ],
          "histogram2d": [
           {
            "colorbar": {
             "outlinewidth": 0,
             "ticks": ""
            },
            "colorscale": [
             [
              0,
              "#0d0887"
             ],
             [
              0.1111111111111111,
              "#46039f"
             ],
             [
              0.2222222222222222,
              "#7201a8"
             ],
             [
              0.3333333333333333,
              "#9c179e"
             ],
             [
              0.4444444444444444,
              "#bd3786"
             ],
             [
              0.5555555555555556,
              "#d8576b"
             ],
             [
              0.6666666666666666,
              "#ed7953"
             ],
             [
              0.7777777777777778,
              "#fb9f3a"
             ],
             [
              0.8888888888888888,
              "#fdca26"
             ],
             [
              1,
              "#f0f921"
             ]
            ],
            "type": "histogram2d"
           }
          ],
          "histogram2dcontour": [
           {
            "colorbar": {
             "outlinewidth": 0,
             "ticks": ""
            },
            "colorscale": [
             [
              0,
              "#0d0887"
             ],
             [
              0.1111111111111111,
              "#46039f"
             ],
             [
              0.2222222222222222,
              "#7201a8"
             ],
             [
              0.3333333333333333,
              "#9c179e"
             ],
             [
              0.4444444444444444,
              "#bd3786"
             ],
             [
              0.5555555555555556,
              "#d8576b"
             ],
             [
              0.6666666666666666,
              "#ed7953"
             ],
             [
              0.7777777777777778,
              "#fb9f3a"
             ],
             [
              0.8888888888888888,
              "#fdca26"
             ],
             [
              1,
              "#f0f921"
             ]
            ],
            "type": "histogram2dcontour"
           }
          ],
          "mesh3d": [
           {
            "colorbar": {
             "outlinewidth": 0,
             "ticks": ""
            },
            "type": "mesh3d"
           }
          ],
          "parcoords": [
           {
            "line": {
             "colorbar": {
              "outlinewidth": 0,
              "ticks": ""
             }
            },
            "type": "parcoords"
           }
          ],
          "pie": [
           {
            "automargin": true,
            "type": "pie"
           }
          ],
          "scatter": [
           {
            "fillpattern": {
             "fillmode": "overlay",
             "size": 10,
             "solidity": 0.2
            },
            "type": "scatter"
           }
          ],
          "scatter3d": [
           {
            "line": {
             "colorbar": {
              "outlinewidth": 0,
              "ticks": ""
             }
            },
            "marker": {
             "colorbar": {
              "outlinewidth": 0,
              "ticks": ""
             }
            },
            "type": "scatter3d"
           }
          ],
          "scattercarpet": [
           {
            "marker": {
             "colorbar": {
              "outlinewidth": 0,
              "ticks": ""
             }
            },
            "type": "scattercarpet"
           }
          ],
          "scattergeo": [
           {
            "marker": {
             "colorbar": {
              "outlinewidth": 0,
              "ticks": ""
             }
            },
            "type": "scattergeo"
           }
          ],
          "scattergl": [
           {
            "marker": {
             "colorbar": {
              "outlinewidth": 0,
              "ticks": ""
             }
            },
            "type": "scattergl"
           }
          ],
          "scattermapbox": [
           {
            "marker": {
             "colorbar": {
              "outlinewidth": 0,
              "ticks": ""
             }
            },
            "type": "scattermapbox"
           }
          ],
          "scatterpolar": [
           {
            "marker": {
             "colorbar": {
              "outlinewidth": 0,
              "ticks": ""
             }
            },
            "type": "scatterpolar"
           }
          ],
          "scatterpolargl": [
           {
            "marker": {
             "colorbar": {
              "outlinewidth": 0,
              "ticks": ""
             }
            },
            "type": "scatterpolargl"
           }
          ],
          "scatterternary": [
           {
            "marker": {
             "colorbar": {
              "outlinewidth": 0,
              "ticks": ""
             }
            },
            "type": "scatterternary"
           }
          ],
          "surface": [
           {
            "colorbar": {
             "outlinewidth": 0,
             "ticks": ""
            },
            "colorscale": [
             [
              0,
              "#0d0887"
             ],
             [
              0.1111111111111111,
              "#46039f"
             ],
             [
              0.2222222222222222,
              "#7201a8"
             ],
             [
              0.3333333333333333,
              "#9c179e"
             ],
             [
              0.4444444444444444,
              "#bd3786"
             ],
             [
              0.5555555555555556,
              "#d8576b"
             ],
             [
              0.6666666666666666,
              "#ed7953"
             ],
             [
              0.7777777777777778,
              "#fb9f3a"
             ],
             [
              0.8888888888888888,
              "#fdca26"
             ],
             [
              1,
              "#f0f921"
             ]
            ],
            "type": "surface"
           }
          ],
          "table": [
           {
            "cells": {
             "fill": {
              "color": "#EBF0F8"
             },
             "line": {
              "color": "white"
             }
            },
            "header": {
             "fill": {
              "color": "#C8D4E3"
             },
             "line": {
              "color": "white"
             }
            },
            "type": "table"
           }
          ]
         },
         "layout": {
          "annotationdefaults": {
           "arrowcolor": "#2a3f5f",
           "arrowhead": 0,
           "arrowwidth": 1
          },
          "autotypenumbers": "strict",
          "coloraxis": {
           "colorbar": {
            "outlinewidth": 0,
            "ticks": ""
           }
          },
          "colorscale": {
           "diverging": [
            [
             0,
             "#8e0152"
            ],
            [
             0.1,
             "#c51b7d"
            ],
            [
             0.2,
             "#de77ae"
            ],
            [
             0.3,
             "#f1b6da"
            ],
            [
             0.4,
             "#fde0ef"
            ],
            [
             0.5,
             "#f7f7f7"
            ],
            [
             0.6,
             "#e6f5d0"
            ],
            [
             0.7,
             "#b8e186"
            ],
            [
             0.8,
             "#7fbc41"
            ],
            [
             0.9,
             "#4d9221"
            ],
            [
             1,
             "#276419"
            ]
           ],
           "sequential": [
            [
             0,
             "#0d0887"
            ],
            [
             0.1111111111111111,
             "#46039f"
            ],
            [
             0.2222222222222222,
             "#7201a8"
            ],
            [
             0.3333333333333333,
             "#9c179e"
            ],
            [
             0.4444444444444444,
             "#bd3786"
            ],
            [
             0.5555555555555556,
             "#d8576b"
            ],
            [
             0.6666666666666666,
             "#ed7953"
            ],
            [
             0.7777777777777778,
             "#fb9f3a"
            ],
            [
             0.8888888888888888,
             "#fdca26"
            ],
            [
             1,
             "#f0f921"
            ]
           ],
           "sequentialminus": [
            [
             0,
             "#0d0887"
            ],
            [
             0.1111111111111111,
             "#46039f"
            ],
            [
             0.2222222222222222,
             "#7201a8"
            ],
            [
             0.3333333333333333,
             "#9c179e"
            ],
            [
             0.4444444444444444,
             "#bd3786"
            ],
            [
             0.5555555555555556,
             "#d8576b"
            ],
            [
             0.6666666666666666,
             "#ed7953"
            ],
            [
             0.7777777777777778,
             "#fb9f3a"
            ],
            [
             0.8888888888888888,
             "#fdca26"
            ],
            [
             1,
             "#f0f921"
            ]
           ]
          },
          "colorway": [
           "#636efa",
           "#EF553B",
           "#00cc96",
           "#ab63fa",
           "#FFA15A",
           "#19d3f3",
           "#FF6692",
           "#B6E880",
           "#FF97FF",
           "#FECB52"
          ],
          "font": {
           "color": "#2a3f5f"
          },
          "geo": {
           "bgcolor": "white",
           "lakecolor": "white",
           "landcolor": "#E5ECF6",
           "showlakes": true,
           "showland": true,
           "subunitcolor": "white"
          },
          "hoverlabel": {
           "align": "left"
          },
          "hovermode": "closest",
          "mapbox": {
           "style": "light"
          },
          "paper_bgcolor": "white",
          "plot_bgcolor": "#E5ECF6",
          "polar": {
           "angularaxis": {
            "gridcolor": "white",
            "linecolor": "white",
            "ticks": ""
           },
           "bgcolor": "#E5ECF6",
           "radialaxis": {
            "gridcolor": "white",
            "linecolor": "white",
            "ticks": ""
           }
          },
          "scene": {
           "xaxis": {
            "backgroundcolor": "#E5ECF6",
            "gridcolor": "white",
            "gridwidth": 2,
            "linecolor": "white",
            "showbackground": true,
            "ticks": "",
            "zerolinecolor": "white"
           },
           "yaxis": {
            "backgroundcolor": "#E5ECF6",
            "gridcolor": "white",
            "gridwidth": 2,
            "linecolor": "white",
            "showbackground": true,
            "ticks": "",
            "zerolinecolor": "white"
           },
           "zaxis": {
            "backgroundcolor": "#E5ECF6",
            "gridcolor": "white",
            "gridwidth": 2,
            "linecolor": "white",
            "showbackground": true,
            "ticks": "",
            "zerolinecolor": "white"
           }
          },
          "shapedefaults": {
           "line": {
            "color": "#2a3f5f"
           }
          },
          "ternary": {
           "aaxis": {
            "gridcolor": "white",
            "linecolor": "white",
            "ticks": ""
           },
           "baxis": {
            "gridcolor": "white",
            "linecolor": "white",
            "ticks": ""
           },
           "bgcolor": "#E5ECF6",
           "caxis": {
            "gridcolor": "white",
            "linecolor": "white",
            "ticks": ""
           }
          },
          "title": {
           "x": 0.05
          },
          "xaxis": {
           "automargin": true,
           "gridcolor": "white",
           "linecolor": "white",
           "ticks": "",
           "title": {
            "standoff": 15
           },
           "zerolinecolor": "white",
           "zerolinewidth": 2
          },
          "yaxis": {
           "automargin": true,
           "gridcolor": "white",
           "linecolor": "white",
           "ticks": "",
           "title": {
            "standoff": 15
           },
           "zerolinecolor": "white",
           "zerolinewidth": 2
          }
         }
        },
        "title": {
         "text": "Feature Importance"
        },
        "xaxis": {
         "anchor": "y",
         "domain": [
          0,
          1
         ],
         "title": {
          "text": "Feature"
         }
        },
        "yaxis": {
         "anchor": "x",
         "domain": [
          0,
          1
         ],
         "title": {
          "text": "Importance"
         }
        }
       }
      }
     },
     "metadata": {},
     "output_type": "display_data"
    }
   ],
   "source": [
    "import plotly.express as px\n",
    "\n",
    "# Feature importance 평가\n",
    "importance = xgb_model.get_score(importance_type='weight')\n",
    "importance_df = pd.DataFrame({\n",
    "    'Feature': [k for k in importance.keys()],\n",
    "    'Importance': importance.values()\n",
    "}).sort_values(by='Importance', ascending=False)\n",
    "\n",
    "# 시각화\n",
    "fig = px.bar(importance_df, x='Feature', y='Importance', title='Feature Importance')\n",
    "fig.show()"
   ]
  },
  {
   "cell_type": "markdown",
   "metadata": {},
   "source": [
    "### bsr, tv, fr diff 추가"
   ]
  },
  {
   "cell_type": "code",
   "execution_count": 27,
   "metadata": {},
   "outputs": [],
   "source": [
    "diff_df = pd.read_csv('eda_df2.csv')\n",
    "final_df = pd.concat([df, diff_df], axis=1)\n",
    "final_df = final_df.drop(columns=[\n",
    "    #'open_interest_diff', #0.414\n",
    "    #'hashrate_diff', #0.421\n",
    "    #'bsr_diff', #0.417\n",
    "    #'bsr_ma_diff', #0.416\n",
    "    'tv_diff', #0.414\n",
    "    #'tv_ma_diff', #0.433\n",
    "    'fr_diff', #0.416 0.434\n",
    "    #'fr_ma_diff' #0.417\n",
    "    ])"
   ]
  },
  {
   "cell_type": "code",
   "execution_count": 28,
   "metadata": {},
   "outputs": [
    {
     "name": "stdout",
     "output_type": "stream",
     "text": [
      "최적 부스팅 라운드 수: 200\n",
      "     train-mlogloss-mean  train-mlogloss-std  test-mlogloss-mean  \\\n",
      "195             0.528163            0.004034            1.054295   \n",
      "196             0.526586            0.004098            1.053986   \n",
      "197             0.524939            0.003937            1.053719   \n",
      "198             0.523536            0.004245            1.053444   \n",
      "199             0.521795            0.004440            1.053108   \n",
      "\n",
      "     test-mlogloss-std  \n",
      "195           0.013811  \n",
      "196           0.013820  \n",
      "197           0.013998  \n",
      "198           0.014096  \n",
      "199           0.014118  \n",
      "[0]\ttrain-mlogloss:1.36646\teval-mlogloss:1.37245\n",
      "[1]\ttrain-mlogloss:1.34892\teval-mlogloss:1.35977\n",
      "[2]\ttrain-mlogloss:1.33179\teval-mlogloss:1.34813\n",
      "[3]\ttrain-mlogloss:1.31528\teval-mlogloss:1.33624\n",
      "[4]\ttrain-mlogloss:1.29937\teval-mlogloss:1.32572\n",
      "[5]\ttrain-mlogloss:1.28426\teval-mlogloss:1.31496\n",
      "[6]\ttrain-mlogloss:1.27029\teval-mlogloss:1.30477\n",
      "[7]\ttrain-mlogloss:1.25678\teval-mlogloss:1.29589\n",
      "[8]\ttrain-mlogloss:1.24295\teval-mlogloss:1.28736\n",
      "[9]\ttrain-mlogloss:1.22996\teval-mlogloss:1.27928\n",
      "[10]\ttrain-mlogloss:1.21776\teval-mlogloss:1.27188\n",
      "[11]\ttrain-mlogloss:1.20607\teval-mlogloss:1.26504\n",
      "[12]\ttrain-mlogloss:1.19513\teval-mlogloss:1.25881\n",
      "[13]\ttrain-mlogloss:1.18395\teval-mlogloss:1.25245\n",
      "[14]\ttrain-mlogloss:1.17360\teval-mlogloss:1.24649\n",
      "[15]\ttrain-mlogloss:1.16314\teval-mlogloss:1.23997\n",
      "[16]\ttrain-mlogloss:1.15316\teval-mlogloss:1.23475\n",
      "[17]\ttrain-mlogloss:1.14390\teval-mlogloss:1.23001\n",
      "[18]\ttrain-mlogloss:1.13470\teval-mlogloss:1.22517\n",
      "[19]\ttrain-mlogloss:1.12557\teval-mlogloss:1.22093\n",
      "[20]\ttrain-mlogloss:1.11719\teval-mlogloss:1.21635\n",
      "[21]\ttrain-mlogloss:1.10820\teval-mlogloss:1.21224\n",
      "[22]\ttrain-mlogloss:1.10019\teval-mlogloss:1.20837\n",
      "[23]\ttrain-mlogloss:1.09203\teval-mlogloss:1.20452\n",
      "[24]\ttrain-mlogloss:1.08380\teval-mlogloss:1.20118\n",
      "[25]\ttrain-mlogloss:1.07633\teval-mlogloss:1.19754\n",
      "[26]\ttrain-mlogloss:1.06937\teval-mlogloss:1.19427\n",
      "[27]\ttrain-mlogloss:1.06198\teval-mlogloss:1.19121\n",
      "[28]\ttrain-mlogloss:1.05522\teval-mlogloss:1.18835\n",
      "[29]\ttrain-mlogloss:1.04863\teval-mlogloss:1.18595\n",
      "[30]\ttrain-mlogloss:1.04182\teval-mlogloss:1.18328\n",
      "[31]\ttrain-mlogloss:1.03495\teval-mlogloss:1.18024\n",
      "[32]\ttrain-mlogloss:1.02824\teval-mlogloss:1.17799\n",
      "[33]\ttrain-mlogloss:1.02252\teval-mlogloss:1.17585\n",
      "[34]\ttrain-mlogloss:1.01597\teval-mlogloss:1.17324\n",
      "[35]\ttrain-mlogloss:1.00977\teval-mlogloss:1.17118\n",
      "[36]\ttrain-mlogloss:1.00358\teval-mlogloss:1.16966\n",
      "[37]\ttrain-mlogloss:0.99764\teval-mlogloss:1.16749\n",
      "[38]\ttrain-mlogloss:0.99300\teval-mlogloss:1.16564\n",
      "[39]\ttrain-mlogloss:0.98716\teval-mlogloss:1.16397\n",
      "[40]\ttrain-mlogloss:0.98196\teval-mlogloss:1.16273\n",
      "[41]\ttrain-mlogloss:0.97649\teval-mlogloss:1.16154\n",
      "[42]\ttrain-mlogloss:0.97122\teval-mlogloss:1.15990\n",
      "[43]\ttrain-mlogloss:0.96567\teval-mlogloss:1.15799\n",
      "[44]\ttrain-mlogloss:0.96115\teval-mlogloss:1.15682\n",
      "[45]\ttrain-mlogloss:0.95624\teval-mlogloss:1.15545\n",
      "[46]\ttrain-mlogloss:0.95162\teval-mlogloss:1.15436\n",
      "[47]\ttrain-mlogloss:0.94610\teval-mlogloss:1.15337\n",
      "[48]\ttrain-mlogloss:0.94106\teval-mlogloss:1.15229\n",
      "[49]\ttrain-mlogloss:0.93705\teval-mlogloss:1.15136\n",
      "[50]\ttrain-mlogloss:0.93213\teval-mlogloss:1.15046\n",
      "[51]\ttrain-mlogloss:0.92814\teval-mlogloss:1.14924\n",
      "[52]\ttrain-mlogloss:0.92324\teval-mlogloss:1.14862\n",
      "[53]\ttrain-mlogloss:0.91878\teval-mlogloss:1.14801\n",
      "[54]\ttrain-mlogloss:0.91435\teval-mlogloss:1.14714\n",
      "[55]\ttrain-mlogloss:0.91074\teval-mlogloss:1.14638\n",
      "[56]\ttrain-mlogloss:0.90613\teval-mlogloss:1.14543\n",
      "[57]\ttrain-mlogloss:0.90215\teval-mlogloss:1.14529\n",
      "[58]\ttrain-mlogloss:0.89848\teval-mlogloss:1.14477\n",
      "[59]\ttrain-mlogloss:0.89425\teval-mlogloss:1.14421\n",
      "[60]\ttrain-mlogloss:0.89044\teval-mlogloss:1.14359\n",
      "[61]\ttrain-mlogloss:0.88618\teval-mlogloss:1.14309\n",
      "[62]\ttrain-mlogloss:0.88172\teval-mlogloss:1.14258\n",
      "[63]\ttrain-mlogloss:0.87794\teval-mlogloss:1.14187\n",
      "[64]\ttrain-mlogloss:0.87406\teval-mlogloss:1.14157\n",
      "[65]\ttrain-mlogloss:0.87058\teval-mlogloss:1.14121\n",
      "[66]\ttrain-mlogloss:0.86728\teval-mlogloss:1.14082\n",
      "[67]\ttrain-mlogloss:0.86390\teval-mlogloss:1.14013\n",
      "[68]\ttrain-mlogloss:0.86060\teval-mlogloss:1.13941\n",
      "[69]\ttrain-mlogloss:0.85692\teval-mlogloss:1.13877\n",
      "[70]\ttrain-mlogloss:0.85377\teval-mlogloss:1.13860\n",
      "[71]\ttrain-mlogloss:0.85071\teval-mlogloss:1.13811\n",
      "[72]\ttrain-mlogloss:0.84756\teval-mlogloss:1.13798\n",
      "[73]\ttrain-mlogloss:0.84496\teval-mlogloss:1.13778\n",
      "[74]\ttrain-mlogloss:0.84168\teval-mlogloss:1.13732\n",
      "[75]\ttrain-mlogloss:0.83873\teval-mlogloss:1.13688\n",
      "[76]\ttrain-mlogloss:0.83574\teval-mlogloss:1.13651\n",
      "[77]\ttrain-mlogloss:0.83251\teval-mlogloss:1.13665\n",
      "[78]\ttrain-mlogloss:0.82860\teval-mlogloss:1.13663\n",
      "[79]\ttrain-mlogloss:0.82546\teval-mlogloss:1.13641\n",
      "[80]\ttrain-mlogloss:0.82198\teval-mlogloss:1.13603\n",
      "[81]\ttrain-mlogloss:0.81914\teval-mlogloss:1.13614\n",
      "[82]\ttrain-mlogloss:0.81657\teval-mlogloss:1.13584\n",
      "[83]\ttrain-mlogloss:0.81389\teval-mlogloss:1.13599\n",
      "[84]\ttrain-mlogloss:0.81124\teval-mlogloss:1.13589\n",
      "[85]\ttrain-mlogloss:0.80817\teval-mlogloss:1.13619\n",
      "[86]\ttrain-mlogloss:0.80524\teval-mlogloss:1.13616\n",
      "[87]\ttrain-mlogloss:0.80298\teval-mlogloss:1.13638\n",
      "[88]\ttrain-mlogloss:0.80017\teval-mlogloss:1.13609\n",
      "[89]\ttrain-mlogloss:0.79751\teval-mlogloss:1.13630\n",
      "[90]\ttrain-mlogloss:0.79466\teval-mlogloss:1.13623\n",
      "[91]\ttrain-mlogloss:0.79206\teval-mlogloss:1.13634\n",
      "훈련 정확도: 0.8291302110138961\n",
      "              precision    recall  f1-score   support\n",
      "\n",
      "           0       0.99      0.49      0.65      1000\n",
      "           1       0.82      0.90      0.86      3544\n",
      "           2       0.80      0.91      0.85      3671\n",
      "           3       0.92      0.69      0.79      1500\n",
      "\n",
      "    accuracy                           0.83      9715\n",
      "   macro avg       0.88      0.75      0.79      9715\n",
      "weighted avg       0.84      0.83      0.82      9715\n",
      "\n",
      "검증 정확도: 0.4155251141552511\n",
      "              precision    recall  f1-score   support\n",
      "\n",
      "           0       0.22      0.05      0.08       149\n",
      "           1       0.40      0.43      0.42       678\n",
      "           2       0.45      0.54      0.49       745\n",
      "           3       0.25      0.13      0.17       180\n",
      "\n",
      "    accuracy                           0.42      1752\n",
      "   macro avg       0.33      0.29      0.29      1752\n",
      "weighted avg       0.39      0.42      0.40      1752\n",
      "\n"
     ]
    }
   ],
   "source": [
    "import xgboost as xgb\n",
    "from imblearn.over_sampling import SMOTE\n",
    "from sklearn.metrics import accuracy_score, classification_report\n",
    "from sklearn.model_selection import train_test_split\n",
    "\n",
    "# _type에 따라 train, test 분리\n",
    "train_df = final_df.loc[final_df[\"_type\"] == \"train\"].drop(columns=[\"_type\"])\n",
    "train_df = train_df.ffill()\n",
    "test_df = final_df.loc[final_df[\"_type\"] == \"test\"].drop(columns=[\"_type\"])\n",
    "\n",
    "# train_test_split 으로 valid set, train set 분리\n",
    "x_train, x_valid, y_train, y_valid = train_test_split(\n",
    "    train_df.drop([\"target\", \"ID\"], axis=1),\n",
    "    train_df[\"target\"].astype(int),\n",
    "    test_size=0.2,\n",
    "    random_state=42,\n",
    ")\n",
    "\n",
    "# SMOTE를 이용한 오버샘플링\n",
    "sampling_strategy = {0: 1000, 1: 3544, 2: 3671, 3: 1500}\n",
    "smote = SMOTE(sampling_strategy=sampling_strategy, random_state=42)\n",
    "x_train_resampled, y_train_resampled = smote.fit_resample(x_train, y_train)\n",
    "\n",
    "# XGBoost 모델을 위한 DMatrix로 변환\n",
    "dtrain = xgb.DMatrix(x_train_resampled, label=y_train_resampled)\n",
    "dvalid = xgb.DMatrix(x_valid, label=y_valid)\n",
    "\n",
    "# XGBoost 모델 학습 파라미터\n",
    "params = {\n",
    "    \"objective\": \"multi:softprob\",  # 다중 클래스 분류\n",
    "    \"num_class\": len(y_train_resampled.unique()),  # 클래스 개수\n",
    "    \"eval_metric\": \"mlogloss\",  # 손실 함수 (멀티클래스 로지스틱 손실)\n",
    "    \"max_depth\": 7,\n",
    "    \"learning_rate\": 0.05,\n",
    "    \"subsample\": 0.8,\n",
    "    \"colsample_bytree\": 0.8,\n",
    "    \"seed\": 42\n",
    "}\n",
    "\n",
    "# 교차 검증 설정 (5-fold)\n",
    "cv_results = xgb.cv(\n",
    "    params=params,\n",
    "    dtrain=dtrain,\n",
    "    num_boost_round=200,\n",
    "    nfold=5,\n",
    "    early_stopping_rounds=10,\n",
    "    metrics=\"mlogloss\",\n",
    "    as_pandas=True,\n",
    "    seed=42\n",
    ")\n",
    "\n",
    "# 최적의 부스팅 라운드 수 확인\n",
    "best_num_boost_rounds = len(cv_results)\n",
    "\n",
    "# 교차 검증 결과 출력\n",
    "print(\"최적 부스팅 라운드 수:\", best_num_boost_rounds)\n",
    "print(cv_results.tail())\n",
    "\n",
    "# 최적의 부스팅 라운드로 모델 학습\n",
    "xgb_model = xgb.train(\n",
    "    params=params,\n",
    "    dtrain=dtrain,\n",
    "    num_boost_round=best_num_boost_rounds,\n",
    "    evals=[(dtrain, \"train\"), (dvalid, \"eval\")],\n",
    "    early_stopping_rounds=10\n",
    ")\n",
    "\n",
    "# 예측 (훈련 데이터셋)\n",
    "y_train_pred_prob = xgb_model.predict(dtrain)\n",
    "y_train_pred = y_train_pred_prob.argmax(axis=1)\n",
    "\n",
    "# 예측 (검증 데이터셋)\n",
    "y_valid_pred_prob = xgb_model.predict(dvalid)\n",
    "y_valid_pred = y_valid_pred_prob.argmax(axis=1)\n",
    "\n",
    "# 성능 평가 (훈련 데이터셋)\n",
    "train_accuracy = accuracy_score(y_train_resampled, y_train_pred)\n",
    "train_classification_rep = classification_report(y_train_resampled, y_train_pred)\n",
    "\n",
    "# 성능 평가 (검증 데이터셋)\n",
    "valid_accuracy = accuracy_score(y_valid, y_valid_pred)\n",
    "valid_classification_rep = classification_report(y_valid, y_valid_pred)\n",
    "\n",
    "# 결과 출력\n",
    "print(f\"훈련 정확도: {train_accuracy}\")\n",
    "print(train_classification_rep)\n",
    "print(f\"검증 정확도: {valid_accuracy}\")\n",
    "print(valid_classification_rep)\n"
   ]
  },
  {
   "cell_type": "code",
   "execution_count": 29,
   "metadata": {},
   "outputs": [
    {
     "data": {
      "application/vnd.plotly.v1+json": {
       "config": {
        "plotlyServerURL": "https://plot.ly"
       },
       "data": [
        {
         "alignmentgroup": "True",
         "hovertemplate": "Feature=%{x}<br>Importance=%{y}<extra></extra>",
         "legendgroup": "",
         "marker": {
          "color": "#636efa",
          "pattern": {
           "shape": ""
          }
         },
         "name": "",
         "offsetgroup": "",
         "orientation": "v",
         "showlegend": false,
         "textposition": "auto",
         "type": "bar",
         "x": [
          "tv_ma_diff",
          "open_interest_diff",
          "scaled_log_coinbase_premium_index",
          "scaled_funding_rates",
          "bsr_diff",
          "moving_avg_scaled_log_total_volume",
          "fr_ma_diff",
          "scaled_utxo_count",
          "scaled_log_total_taker_volume",
          "scaled_log_hashrate",
          "scaled_total_transactions_count",
          "scaled_log_open_interest",
          "taker_buy_sell_ratio",
          "scaled_estimated_block_reward",
          "scaled_log_total_liquidation",
          "scaled_liquidation_diff",
          "bsr_ma_diff"
         ],
         "xaxis": "x",
         "y": [
          2193,
          2193,
          1990,
          1898,
          1873,
          1858,
          1834,
          1803,
          1776,
          1772,
          1719,
          1656,
          1627,
          1617,
          1493,
          1471,
          1377
         ],
         "yaxis": "y"
        }
       ],
       "layout": {
        "barmode": "relative",
        "legend": {
         "tracegroupgap": 0
        },
        "template": {
         "data": {
          "bar": [
           {
            "error_x": {
             "color": "#2a3f5f"
            },
            "error_y": {
             "color": "#2a3f5f"
            },
            "marker": {
             "line": {
              "color": "#E5ECF6",
              "width": 0.5
             },
             "pattern": {
              "fillmode": "overlay",
              "size": 10,
              "solidity": 0.2
             }
            },
            "type": "bar"
           }
          ],
          "barpolar": [
           {
            "marker": {
             "line": {
              "color": "#E5ECF6",
              "width": 0.5
             },
             "pattern": {
              "fillmode": "overlay",
              "size": 10,
              "solidity": 0.2
             }
            },
            "type": "barpolar"
           }
          ],
          "carpet": [
           {
            "aaxis": {
             "endlinecolor": "#2a3f5f",
             "gridcolor": "white",
             "linecolor": "white",
             "minorgridcolor": "white",
             "startlinecolor": "#2a3f5f"
            },
            "baxis": {
             "endlinecolor": "#2a3f5f",
             "gridcolor": "white",
             "linecolor": "white",
             "minorgridcolor": "white",
             "startlinecolor": "#2a3f5f"
            },
            "type": "carpet"
           }
          ],
          "choropleth": [
           {
            "colorbar": {
             "outlinewidth": 0,
             "ticks": ""
            },
            "type": "choropleth"
           }
          ],
          "contour": [
           {
            "colorbar": {
             "outlinewidth": 0,
             "ticks": ""
            },
            "colorscale": [
             [
              0,
              "#0d0887"
             ],
             [
              0.1111111111111111,
              "#46039f"
             ],
             [
              0.2222222222222222,
              "#7201a8"
             ],
             [
              0.3333333333333333,
              "#9c179e"
             ],
             [
              0.4444444444444444,
              "#bd3786"
             ],
             [
              0.5555555555555556,
              "#d8576b"
             ],
             [
              0.6666666666666666,
              "#ed7953"
             ],
             [
              0.7777777777777778,
              "#fb9f3a"
             ],
             [
              0.8888888888888888,
              "#fdca26"
             ],
             [
              1,
              "#f0f921"
             ]
            ],
            "type": "contour"
           }
          ],
          "contourcarpet": [
           {
            "colorbar": {
             "outlinewidth": 0,
             "ticks": ""
            },
            "type": "contourcarpet"
           }
          ],
          "heatmap": [
           {
            "colorbar": {
             "outlinewidth": 0,
             "ticks": ""
            },
            "colorscale": [
             [
              0,
              "#0d0887"
             ],
             [
              0.1111111111111111,
              "#46039f"
             ],
             [
              0.2222222222222222,
              "#7201a8"
             ],
             [
              0.3333333333333333,
              "#9c179e"
             ],
             [
              0.4444444444444444,
              "#bd3786"
             ],
             [
              0.5555555555555556,
              "#d8576b"
             ],
             [
              0.6666666666666666,
              "#ed7953"
             ],
             [
              0.7777777777777778,
              "#fb9f3a"
             ],
             [
              0.8888888888888888,
              "#fdca26"
             ],
             [
              1,
              "#f0f921"
             ]
            ],
            "type": "heatmap"
           }
          ],
          "heatmapgl": [
           {
            "colorbar": {
             "outlinewidth": 0,
             "ticks": ""
            },
            "colorscale": [
             [
              0,
              "#0d0887"
             ],
             [
              0.1111111111111111,
              "#46039f"
             ],
             [
              0.2222222222222222,
              "#7201a8"
             ],
             [
              0.3333333333333333,
              "#9c179e"
             ],
             [
              0.4444444444444444,
              "#bd3786"
             ],
             [
              0.5555555555555556,
              "#d8576b"
             ],
             [
              0.6666666666666666,
              "#ed7953"
             ],
             [
              0.7777777777777778,
              "#fb9f3a"
             ],
             [
              0.8888888888888888,
              "#fdca26"
             ],
             [
              1,
              "#f0f921"
             ]
            ],
            "type": "heatmapgl"
           }
          ],
          "histogram": [
           {
            "marker": {
             "pattern": {
              "fillmode": "overlay",
              "size": 10,
              "solidity": 0.2
             }
            },
            "type": "histogram"
           }
          ],
          "histogram2d": [
           {
            "colorbar": {
             "outlinewidth": 0,
             "ticks": ""
            },
            "colorscale": [
             [
              0,
              "#0d0887"
             ],
             [
              0.1111111111111111,
              "#46039f"
             ],
             [
              0.2222222222222222,
              "#7201a8"
             ],
             [
              0.3333333333333333,
              "#9c179e"
             ],
             [
              0.4444444444444444,
              "#bd3786"
             ],
             [
              0.5555555555555556,
              "#d8576b"
             ],
             [
              0.6666666666666666,
              "#ed7953"
             ],
             [
              0.7777777777777778,
              "#fb9f3a"
             ],
             [
              0.8888888888888888,
              "#fdca26"
             ],
             [
              1,
              "#f0f921"
             ]
            ],
            "type": "histogram2d"
           }
          ],
          "histogram2dcontour": [
           {
            "colorbar": {
             "outlinewidth": 0,
             "ticks": ""
            },
            "colorscale": [
             [
              0,
              "#0d0887"
             ],
             [
              0.1111111111111111,
              "#46039f"
             ],
             [
              0.2222222222222222,
              "#7201a8"
             ],
             [
              0.3333333333333333,
              "#9c179e"
             ],
             [
              0.4444444444444444,
              "#bd3786"
             ],
             [
              0.5555555555555556,
              "#d8576b"
             ],
             [
              0.6666666666666666,
              "#ed7953"
             ],
             [
              0.7777777777777778,
              "#fb9f3a"
             ],
             [
              0.8888888888888888,
              "#fdca26"
             ],
             [
              1,
              "#f0f921"
             ]
            ],
            "type": "histogram2dcontour"
           }
          ],
          "mesh3d": [
           {
            "colorbar": {
             "outlinewidth": 0,
             "ticks": ""
            },
            "type": "mesh3d"
           }
          ],
          "parcoords": [
           {
            "line": {
             "colorbar": {
              "outlinewidth": 0,
              "ticks": ""
             }
            },
            "type": "parcoords"
           }
          ],
          "pie": [
           {
            "automargin": true,
            "type": "pie"
           }
          ],
          "scatter": [
           {
            "fillpattern": {
             "fillmode": "overlay",
             "size": 10,
             "solidity": 0.2
            },
            "type": "scatter"
           }
          ],
          "scatter3d": [
           {
            "line": {
             "colorbar": {
              "outlinewidth": 0,
              "ticks": ""
             }
            },
            "marker": {
             "colorbar": {
              "outlinewidth": 0,
              "ticks": ""
             }
            },
            "type": "scatter3d"
           }
          ],
          "scattercarpet": [
           {
            "marker": {
             "colorbar": {
              "outlinewidth": 0,
              "ticks": ""
             }
            },
            "type": "scattercarpet"
           }
          ],
          "scattergeo": [
           {
            "marker": {
             "colorbar": {
              "outlinewidth": 0,
              "ticks": ""
             }
            },
            "type": "scattergeo"
           }
          ],
          "scattergl": [
           {
            "marker": {
             "colorbar": {
              "outlinewidth": 0,
              "ticks": ""
             }
            },
            "type": "scattergl"
           }
          ],
          "scattermapbox": [
           {
            "marker": {
             "colorbar": {
              "outlinewidth": 0,
              "ticks": ""
             }
            },
            "type": "scattermapbox"
           }
          ],
          "scatterpolar": [
           {
            "marker": {
             "colorbar": {
              "outlinewidth": 0,
              "ticks": ""
             }
            },
            "type": "scatterpolar"
           }
          ],
          "scatterpolargl": [
           {
            "marker": {
             "colorbar": {
              "outlinewidth": 0,
              "ticks": ""
             }
            },
            "type": "scatterpolargl"
           }
          ],
          "scatterternary": [
           {
            "marker": {
             "colorbar": {
              "outlinewidth": 0,
              "ticks": ""
             }
            },
            "type": "scatterternary"
           }
          ],
          "surface": [
           {
            "colorbar": {
             "outlinewidth": 0,
             "ticks": ""
            },
            "colorscale": [
             [
              0,
              "#0d0887"
             ],
             [
              0.1111111111111111,
              "#46039f"
             ],
             [
              0.2222222222222222,
              "#7201a8"
             ],
             [
              0.3333333333333333,
              "#9c179e"
             ],
             [
              0.4444444444444444,
              "#bd3786"
             ],
             [
              0.5555555555555556,
              "#d8576b"
             ],
             [
              0.6666666666666666,
              "#ed7953"
             ],
             [
              0.7777777777777778,
              "#fb9f3a"
             ],
             [
              0.8888888888888888,
              "#fdca26"
             ],
             [
              1,
              "#f0f921"
             ]
            ],
            "type": "surface"
           }
          ],
          "table": [
           {
            "cells": {
             "fill": {
              "color": "#EBF0F8"
             },
             "line": {
              "color": "white"
             }
            },
            "header": {
             "fill": {
              "color": "#C8D4E3"
             },
             "line": {
              "color": "white"
             }
            },
            "type": "table"
           }
          ]
         },
         "layout": {
          "annotationdefaults": {
           "arrowcolor": "#2a3f5f",
           "arrowhead": 0,
           "arrowwidth": 1
          },
          "autotypenumbers": "strict",
          "coloraxis": {
           "colorbar": {
            "outlinewidth": 0,
            "ticks": ""
           }
          },
          "colorscale": {
           "diverging": [
            [
             0,
             "#8e0152"
            ],
            [
             0.1,
             "#c51b7d"
            ],
            [
             0.2,
             "#de77ae"
            ],
            [
             0.3,
             "#f1b6da"
            ],
            [
             0.4,
             "#fde0ef"
            ],
            [
             0.5,
             "#f7f7f7"
            ],
            [
             0.6,
             "#e6f5d0"
            ],
            [
             0.7,
             "#b8e186"
            ],
            [
             0.8,
             "#7fbc41"
            ],
            [
             0.9,
             "#4d9221"
            ],
            [
             1,
             "#276419"
            ]
           ],
           "sequential": [
            [
             0,
             "#0d0887"
            ],
            [
             0.1111111111111111,
             "#46039f"
            ],
            [
             0.2222222222222222,
             "#7201a8"
            ],
            [
             0.3333333333333333,
             "#9c179e"
            ],
            [
             0.4444444444444444,
             "#bd3786"
            ],
            [
             0.5555555555555556,
             "#d8576b"
            ],
            [
             0.6666666666666666,
             "#ed7953"
            ],
            [
             0.7777777777777778,
             "#fb9f3a"
            ],
            [
             0.8888888888888888,
             "#fdca26"
            ],
            [
             1,
             "#f0f921"
            ]
           ],
           "sequentialminus": [
            [
             0,
             "#0d0887"
            ],
            [
             0.1111111111111111,
             "#46039f"
            ],
            [
             0.2222222222222222,
             "#7201a8"
            ],
            [
             0.3333333333333333,
             "#9c179e"
            ],
            [
             0.4444444444444444,
             "#bd3786"
            ],
            [
             0.5555555555555556,
             "#d8576b"
            ],
            [
             0.6666666666666666,
             "#ed7953"
            ],
            [
             0.7777777777777778,
             "#fb9f3a"
            ],
            [
             0.8888888888888888,
             "#fdca26"
            ],
            [
             1,
             "#f0f921"
            ]
           ]
          },
          "colorway": [
           "#636efa",
           "#EF553B",
           "#00cc96",
           "#ab63fa",
           "#FFA15A",
           "#19d3f3",
           "#FF6692",
           "#B6E880",
           "#FF97FF",
           "#FECB52"
          ],
          "font": {
           "color": "#2a3f5f"
          },
          "geo": {
           "bgcolor": "white",
           "lakecolor": "white",
           "landcolor": "#E5ECF6",
           "showlakes": true,
           "showland": true,
           "subunitcolor": "white"
          },
          "hoverlabel": {
           "align": "left"
          },
          "hovermode": "closest",
          "mapbox": {
           "style": "light"
          },
          "paper_bgcolor": "white",
          "plot_bgcolor": "#E5ECF6",
          "polar": {
           "angularaxis": {
            "gridcolor": "white",
            "linecolor": "white",
            "ticks": ""
           },
           "bgcolor": "#E5ECF6",
           "radialaxis": {
            "gridcolor": "white",
            "linecolor": "white",
            "ticks": ""
           }
          },
          "scene": {
           "xaxis": {
            "backgroundcolor": "#E5ECF6",
            "gridcolor": "white",
            "gridwidth": 2,
            "linecolor": "white",
            "showbackground": true,
            "ticks": "",
            "zerolinecolor": "white"
           },
           "yaxis": {
            "backgroundcolor": "#E5ECF6",
            "gridcolor": "white",
            "gridwidth": 2,
            "linecolor": "white",
            "showbackground": true,
            "ticks": "",
            "zerolinecolor": "white"
           },
           "zaxis": {
            "backgroundcolor": "#E5ECF6",
            "gridcolor": "white",
            "gridwidth": 2,
            "linecolor": "white",
            "showbackground": true,
            "ticks": "",
            "zerolinecolor": "white"
           }
          },
          "shapedefaults": {
           "line": {
            "color": "#2a3f5f"
           }
          },
          "ternary": {
           "aaxis": {
            "gridcolor": "white",
            "linecolor": "white",
            "ticks": ""
           },
           "baxis": {
            "gridcolor": "white",
            "linecolor": "white",
            "ticks": ""
           },
           "bgcolor": "#E5ECF6",
           "caxis": {
            "gridcolor": "white",
            "linecolor": "white",
            "ticks": ""
           }
          },
          "title": {
           "x": 0.05
          },
          "xaxis": {
           "automargin": true,
           "gridcolor": "white",
           "linecolor": "white",
           "ticks": "",
           "title": {
            "standoff": 15
           },
           "zerolinecolor": "white",
           "zerolinewidth": 2
          },
          "yaxis": {
           "automargin": true,
           "gridcolor": "white",
           "linecolor": "white",
           "ticks": "",
           "title": {
            "standoff": 15
           },
           "zerolinecolor": "white",
           "zerolinewidth": 2
          }
         }
        },
        "title": {
         "text": "Feature Importance"
        },
        "xaxis": {
         "anchor": "y",
         "domain": [
          0,
          1
         ],
         "title": {
          "text": "Feature"
         }
        },
        "yaxis": {
         "anchor": "x",
         "domain": [
          0,
          1
         ],
         "title": {
          "text": "Importance"
         }
        }
       }
      }
     },
     "metadata": {},
     "output_type": "display_data"
    }
   ],
   "source": [
    "import plotly.express as px\n",
    "\n",
    "# Feature importance 평가\n",
    "importance = xgb_model.get_score(importance_type='weight')\n",
    "importance_df = pd.DataFrame({\n",
    "    'Feature': [k for k in importance.keys()],\n",
    "    'Importance': importance.values()\n",
    "}).sort_values(by='Importance', ascending=False)\n",
    "\n",
    "# 시각화\n",
    "fig = px.bar(importance_df, x='Feature', y='Importance', title='Feature Importance')\n",
    "fig.show()"
   ]
  },
  {
   "cell_type": "code",
   "execution_count": 30,
   "metadata": {},
   "outputs": [
    {
     "data": {
      "text/plain": [
       "array([1, 1, 2, ..., 1, 1, 1], dtype=int64)"
      ]
     },
     "execution_count": 30,
     "metadata": {},
     "output_type": "execute_result"
    }
   ],
   "source": [
    "# 테스트 데이터셋을 DMatrix로 변환\n",
    "dtest = xgb.DMatrix(test_df.drop([\"target\", \"ID\"], axis=1))\n",
    "\n",
    "# 테스트 데이터에 대한 예측 수행\n",
    "y_test_pred_prob = xgb_model.predict(dtest)\n",
    "\n",
    "# 다중 클래스 예측일 경우 가장 높은 확률을 가진 클래스를 예측값으로 변환\n",
    "y_test_pred = y_test_pred_prob.argmax(axis=1)\n",
    "\n",
    "# 예측 결과 출력\n",
    "y_test_pred"
   ]
  },
  {
   "cell_type": "code",
   "execution_count": 31,
   "metadata": {},
   "outputs": [
    {
     "data": {
      "text/plain": [
       "target\n",
       "2    1678\n",
       "1     870\n",
       "3     202\n",
       "0      42\n",
       "Name: count, dtype: int64"
      ]
     },
     "execution_count": 31,
     "metadata": {},
     "output_type": "execute_result"
    }
   ],
   "source": [
    "submission_df = submission_df.assign(target=pd.DataFrame(y_test_pred))\n",
    "submission_df['target'].value_counts()"
   ]
  },
  {
   "cell_type": "markdown",
   "metadata": {},
   "source": [
    "---"
   ]
  },
  {
   "cell_type": "code",
   "execution_count": 78,
   "metadata": {},
   "outputs": [],
   "source": [
    "submission_df.to_csv(\"XGBoost_scaled_smote_add_diff.csv\",index=False)"
   ]
  },
  {
   "cell_type": "markdown",
   "metadata": {},
   "source": [
    "-------------------------------------------------------------------"
   ]
  },
  {
   "cell_type": "code",
   "execution_count": 168,
   "metadata": {},
   "outputs": [
    {
     "data": {
      "text/plain": [
       "target\n",
       "2    1213\n",
       "1    1209\n",
       "3     270\n",
       "0     100\n",
       "Name: count, dtype: int64"
      ]
     },
     "execution_count": 168,
     "metadata": {},
     "output_type": "execute_result"
    }
   ],
   "source": [
    "add_diff = pd.read_csv(\"XGBoost_scaled_smote_add_diff.csv\")\n",
    "add_diff['target'].value_counts()"
   ]
  },
  {
   "cell_type": "code",
   "execution_count": 169,
   "metadata": {},
   "outputs": [
    {
     "data": {
      "text/plain": [
       "0.6643982808022922"
      ]
     },
     "execution_count": 169,
     "metadata": {},
     "output_type": "execute_result"
    }
   ],
   "source": [
    "accuracy = accuracy_score(submission_df['target'], add_diff['target'])\n",
    "accuracy"
   ]
  },
  {
   "cell_type": "code",
   "execution_count": 33,
   "metadata": {},
   "outputs": [
    {
     "data": {
      "text/plain": [
       "target\n",
       "2    1163\n",
       "1    1108\n",
       "0     282\n",
       "3     239\n",
       "Name: count, dtype: int64"
      ]
     },
     "execution_count": 33,
     "metadata": {},
     "output_type": "execute_result"
    }
   ],
   "source": [
    "open = pd.read_csv(\"XGBoost_after_eda_open_interest.csv\")\n",
    "open['target'].value_counts()"
   ]
  },
  {
   "cell_type": "code",
   "execution_count": 34,
   "metadata": {},
   "outputs": [
    {
     "data": {
      "text/plain": [
       "0.4409025787965616"
      ]
     },
     "execution_count": 34,
     "metadata": {},
     "output_type": "execute_result"
    }
   ],
   "source": [
    "accuracy = accuracy_score(open['target'], submission_df['target'])\n",
    "accuracy"
   ]
  },
  {
   "cell_type": "markdown",
   "metadata": {},
   "source": [
    "---"
   ]
  },
  {
   "cell_type": "code",
   "execution_count": 35,
   "metadata": {},
   "outputs": [
    {
     "data": {
      "text/plain": [
       "Index(['ID', '_type', 'target', 'scaled_log_hashrate',\n",
       "       'scaled_log_open_interest', 'scaled_log_coinbase_premium_index',\n",
       "       'scaled_funding_rates', 'scaled_estimated_block_reward',\n",
       "       'scaled_liquidation_diff', 'scaled_log_total_liquidation',\n",
       "       'scaled_log_total_taker_volume', 'scaled_utxo_count',\n",
       "       'scaled_total_transactions_count', 'taker_buy_sell_ratio',\n",
       "       'moving_avg_scaled_log_total_volume', 'open_interest_diff',\n",
       "       'network_activity_ratio_diff', 'average_transaction_value_diff',\n",
       "       'network_load_diff', 'fee_burden_diff', 'market_pressure_diff',\n",
       "       'liquidation_risk_diff', 'bsr_diff', 'bsr_ma_diff', 'tv_diff',\n",
       "       'tv_ma_diff', 'fr_diff', 'fr_ma_diff'],\n",
       "      dtype='object')"
      ]
     },
     "execution_count": 35,
     "metadata": {},
     "output_type": "execute_result"
    }
   ],
   "source": [
    "new_feauture = pd.read_csv('new_feature.csv')\n",
    "new_df = pd.concat([df, new_feauture.drop(columns=['Unnamed: 0','ID'])], axis=1)\n",
    "new_df = pd.concat([new_df, diff_df], axis=1)\n",
    "new_df.columns"
   ]
  },
  {
   "cell_type": "code",
   "execution_count": 43,
   "metadata": {},
   "outputs": [],
   "source": [
    "new_df2 = new_df.drop(columns=[\n",
    "    'network_activity_ratio_diff', # 0.437\n",
    "    #'average_transaction_value_diff',\n",
    "    #'network_load_diff',\n",
    "    'fee_burden_diff',\n",
    "    #'market_pressure_diff', #0.4355\n",
    "    #'liquidation_risk_diff'\n",
    "    #'open_interest_diff',\n",
    "    'bsr_diff', #0.417\n",
    "    'bsr_ma_diff', #0.416\n",
    "    'tv_diff', #0.414\n",
    "    'tv_ma_diff', #0.433\n",
    "    'fr_diff', #0.416 0.434\n",
    "    'fr_ma_diff' #0.417\n",
    "    ],inplace=False)"
   ]
  },
  {
   "cell_type": "code",
   "execution_count": 145,
   "metadata": {},
   "outputs": [],
   "source": [
    "new_df2 = new_df.drop(columns=[\n",
    "    #'scaled_log_hashrate',\n",
    "    #'scaled_log_open_interest', \n",
    "    #'scaled_log_coinbase_premium_index',\n",
    "    #'scaled_funding_rates', \n",
    "    'scaled_estimated_block_reward',\n",
    "    'scaled_liquidation_diff', \n",
    "    'scaled_log_total_liquidation',\n",
    "    #'scaled_log_total_taker_volume', \n",
    "    #'scaled_utxo_count',\n",
    "    #'scaled_total_transactions_count', \n",
    "    #'taker_buy_sell_ratio',\n",
    "    #'moving_avg_scaled_log_total_volume', \n",
    "    #'open_interest_diff',\n",
    "    #'network_activity_ratio_diff', \n",
    "    #'average_transaction_value_diff',\n",
    "    #'network_load_diff', \n",
    "    #'fee_burden_diff', \n",
    "    #'market_pressure_diff',\n",
    "    #'liquidation_risk_diff', \n",
    "    #'bsr_diff', \n",
    "    #'bsr_ma_diff', \n",
    "    #'tv_diff',\n",
    "    #'tv_ma_diff', \n",
    "    #'fr_diff', \n",
    "    #'fr_ma_diff'\n",
    "    ],inplace=False)"
   ]
  },
  {
   "cell_type": "code",
   "execution_count": 146,
   "metadata": {},
   "outputs": [
    {
     "name": "stdout",
     "output_type": "stream",
     "text": [
      "최적 부스팅 라운드 수: 200\n",
      "     train-mlogloss-mean  train-mlogloss-std  test-mlogloss-mean  \\\n",
      "195             0.960987            0.004034            1.155836   \n",
      "196             0.959657            0.003976            1.155339   \n",
      "197             0.958399            0.003994            1.154817   \n",
      "198             0.957141            0.003969            1.154313   \n",
      "199             0.955956            0.004001            1.153856   \n",
      "\n",
      "     test-mlogloss-std  \n",
      "195           0.008422  \n",
      "196           0.008412  \n",
      "197           0.008466  \n",
      "198           0.008485  \n",
      "199           0.008496  \n",
      "[0]\ttrain-mlogloss:1.38255\teval-mlogloss:1.38355\n",
      "[1]\ttrain-mlogloss:1.37887\teval-mlogloss:1.38088\n",
      "[2]\ttrain-mlogloss:1.37519\teval-mlogloss:1.37826\n",
      "[3]\ttrain-mlogloss:1.37159\teval-mlogloss:1.37570\n",
      "[4]\ttrain-mlogloss:1.36791\teval-mlogloss:1.37309\n",
      "[5]\ttrain-mlogloss:1.36433\teval-mlogloss:1.37043\n",
      "[6]\ttrain-mlogloss:1.36079\teval-mlogloss:1.36797\n",
      "[7]\ttrain-mlogloss:1.35724\teval-mlogloss:1.36550\n",
      "[8]\ttrain-mlogloss:1.35361\teval-mlogloss:1.36299\n",
      "[9]\ttrain-mlogloss:1.35022\teval-mlogloss:1.36065\n",
      "[10]\ttrain-mlogloss:1.34674\teval-mlogloss:1.35814\n",
      "[11]\ttrain-mlogloss:1.34323\teval-mlogloss:1.35569\n",
      "[12]\ttrain-mlogloss:1.33985\teval-mlogloss:1.35349\n",
      "[13]\ttrain-mlogloss:1.33643\teval-mlogloss:1.35097\n",
      "[14]\ttrain-mlogloss:1.33304\teval-mlogloss:1.34854\n",
      "[15]\ttrain-mlogloss:1.32971\teval-mlogloss:1.34628\n",
      "[16]\ttrain-mlogloss:1.32637\teval-mlogloss:1.34399\n",
      "[17]\ttrain-mlogloss:1.32315\teval-mlogloss:1.34182\n",
      "[18]\ttrain-mlogloss:1.32003\teval-mlogloss:1.33970\n",
      "[19]\ttrain-mlogloss:1.31690\teval-mlogloss:1.33742\n",
      "[20]\ttrain-mlogloss:1.31372\teval-mlogloss:1.33537\n",
      "[21]\ttrain-mlogloss:1.31061\teval-mlogloss:1.33333\n",
      "[22]\ttrain-mlogloss:1.30774\teval-mlogloss:1.33139\n",
      "[23]\ttrain-mlogloss:1.30453\teval-mlogloss:1.32923\n",
      "[24]\ttrain-mlogloss:1.30134\teval-mlogloss:1.32717\n",
      "[25]\ttrain-mlogloss:1.29832\teval-mlogloss:1.32529\n",
      "[26]\ttrain-mlogloss:1.29544\teval-mlogloss:1.32340\n",
      "[27]\ttrain-mlogloss:1.29237\teval-mlogloss:1.32151\n",
      "[28]\ttrain-mlogloss:1.28947\teval-mlogloss:1.31966\n",
      "[29]\ttrain-mlogloss:1.28649\teval-mlogloss:1.31777\n",
      "[30]\ttrain-mlogloss:1.28353\teval-mlogloss:1.31591\n",
      "[31]\ttrain-mlogloss:1.28053\teval-mlogloss:1.31394\n",
      "[32]\ttrain-mlogloss:1.27766\teval-mlogloss:1.31218\n",
      "[33]\ttrain-mlogloss:1.27492\teval-mlogloss:1.31044\n",
      "[34]\ttrain-mlogloss:1.27217\teval-mlogloss:1.30858\n",
      "[35]\ttrain-mlogloss:1.26940\teval-mlogloss:1.30678\n",
      "[36]\ttrain-mlogloss:1.26676\teval-mlogloss:1.30513\n",
      "[37]\ttrain-mlogloss:1.26388\teval-mlogloss:1.30330\n",
      "[38]\ttrain-mlogloss:1.26103\teval-mlogloss:1.30160\n",
      "[39]\ttrain-mlogloss:1.25823\teval-mlogloss:1.29996\n",
      "[40]\ttrain-mlogloss:1.25560\teval-mlogloss:1.29839\n",
      "[41]\ttrain-mlogloss:1.25289\teval-mlogloss:1.29681\n",
      "[42]\ttrain-mlogloss:1.25020\teval-mlogloss:1.29504\n",
      "[43]\ttrain-mlogloss:1.24742\teval-mlogloss:1.29335\n",
      "[44]\ttrain-mlogloss:1.24493\teval-mlogloss:1.29175\n",
      "[45]\ttrain-mlogloss:1.24230\teval-mlogloss:1.29027\n",
      "[46]\ttrain-mlogloss:1.23965\teval-mlogloss:1.28866\n",
      "[47]\ttrain-mlogloss:1.23703\teval-mlogloss:1.28708\n",
      "[48]\ttrain-mlogloss:1.23446\teval-mlogloss:1.28553\n",
      "[49]\ttrain-mlogloss:1.23194\teval-mlogloss:1.28401\n",
      "[50]\ttrain-mlogloss:1.22949\teval-mlogloss:1.28241\n",
      "[51]\ttrain-mlogloss:1.22696\teval-mlogloss:1.28090\n",
      "[52]\ttrain-mlogloss:1.22451\teval-mlogloss:1.27928\n",
      "[53]\ttrain-mlogloss:1.22195\teval-mlogloss:1.27780\n",
      "[54]\ttrain-mlogloss:1.21951\teval-mlogloss:1.27643\n",
      "[55]\ttrain-mlogloss:1.21716\teval-mlogloss:1.27506\n",
      "[56]\ttrain-mlogloss:1.21467\teval-mlogloss:1.27355\n",
      "[57]\ttrain-mlogloss:1.21239\teval-mlogloss:1.27215\n",
      "[58]\ttrain-mlogloss:1.21003\teval-mlogloss:1.27067\n",
      "[59]\ttrain-mlogloss:1.20763\teval-mlogloss:1.26933\n",
      "[60]\ttrain-mlogloss:1.20537\teval-mlogloss:1.26807\n",
      "[61]\ttrain-mlogloss:1.20295\teval-mlogloss:1.26666\n",
      "[62]\ttrain-mlogloss:1.20052\teval-mlogloss:1.26520\n",
      "[63]\ttrain-mlogloss:1.19825\teval-mlogloss:1.26382\n",
      "[64]\ttrain-mlogloss:1.19603\teval-mlogloss:1.26254\n",
      "[65]\ttrain-mlogloss:1.19371\teval-mlogloss:1.26127\n",
      "[66]\ttrain-mlogloss:1.19152\teval-mlogloss:1.26012\n",
      "[67]\ttrain-mlogloss:1.18936\teval-mlogloss:1.25881\n",
      "[68]\ttrain-mlogloss:1.18712\teval-mlogloss:1.25765\n",
      "[69]\ttrain-mlogloss:1.18490\teval-mlogloss:1.25642\n",
      "[70]\ttrain-mlogloss:1.18269\teval-mlogloss:1.25522\n",
      "[71]\ttrain-mlogloss:1.18052\teval-mlogloss:1.25409\n",
      "[72]\ttrain-mlogloss:1.17815\teval-mlogloss:1.25273\n",
      "[73]\ttrain-mlogloss:1.17601\teval-mlogloss:1.25150\n",
      "[74]\ttrain-mlogloss:1.17390\teval-mlogloss:1.25054\n",
      "[75]\ttrain-mlogloss:1.17176\teval-mlogloss:1.24947\n",
      "[76]\ttrain-mlogloss:1.16950\teval-mlogloss:1.24833\n",
      "[77]\ttrain-mlogloss:1.16725\teval-mlogloss:1.24717\n",
      "[78]\ttrain-mlogloss:1.16513\teval-mlogloss:1.24605\n",
      "[79]\ttrain-mlogloss:1.16296\teval-mlogloss:1.24501\n",
      "[80]\ttrain-mlogloss:1.16082\teval-mlogloss:1.24388\n",
      "[81]\ttrain-mlogloss:1.15873\teval-mlogloss:1.24277\n",
      "[82]\ttrain-mlogloss:1.15671\teval-mlogloss:1.24170\n",
      "[83]\ttrain-mlogloss:1.15472\teval-mlogloss:1.24055\n",
      "[84]\ttrain-mlogloss:1.15270\teval-mlogloss:1.23952\n",
      "[85]\ttrain-mlogloss:1.15084\teval-mlogloss:1.23848\n",
      "[86]\ttrain-mlogloss:1.14874\teval-mlogloss:1.23760\n",
      "[87]\ttrain-mlogloss:1.14681\teval-mlogloss:1.23664\n",
      "[88]\ttrain-mlogloss:1.14490\teval-mlogloss:1.23552\n",
      "[89]\ttrain-mlogloss:1.14304\teval-mlogloss:1.23458\n",
      "[90]\ttrain-mlogloss:1.14113\teval-mlogloss:1.23365\n",
      "[91]\ttrain-mlogloss:1.13916\teval-mlogloss:1.23260\n",
      "[92]\ttrain-mlogloss:1.13738\teval-mlogloss:1.23171\n",
      "[93]\ttrain-mlogloss:1.13552\teval-mlogloss:1.23081\n",
      "[94]\ttrain-mlogloss:1.13353\teval-mlogloss:1.22974\n",
      "[95]\ttrain-mlogloss:1.13148\teval-mlogloss:1.22885\n",
      "[96]\ttrain-mlogloss:1.12955\teval-mlogloss:1.22785\n",
      "[97]\ttrain-mlogloss:1.12767\teval-mlogloss:1.22691\n",
      "[98]\ttrain-mlogloss:1.12582\teval-mlogloss:1.22595\n",
      "[99]\ttrain-mlogloss:1.12381\teval-mlogloss:1.22497\n",
      "[100]\ttrain-mlogloss:1.12196\teval-mlogloss:1.22412\n",
      "[101]\ttrain-mlogloss:1.12013\teval-mlogloss:1.22319\n",
      "[102]\ttrain-mlogloss:1.11818\teval-mlogloss:1.22217\n",
      "[103]\ttrain-mlogloss:1.11636\teval-mlogloss:1.22126\n",
      "[104]\ttrain-mlogloss:1.11456\teval-mlogloss:1.22047\n",
      "[105]\ttrain-mlogloss:1.11270\teval-mlogloss:1.21959\n",
      "[106]\ttrain-mlogloss:1.11094\teval-mlogloss:1.21872\n",
      "[107]\ttrain-mlogloss:1.10916\teval-mlogloss:1.21786\n",
      "[108]\ttrain-mlogloss:1.10725\teval-mlogloss:1.21703\n",
      "[109]\ttrain-mlogloss:1.10547\teval-mlogloss:1.21609\n",
      "[110]\ttrain-mlogloss:1.10376\teval-mlogloss:1.21528\n",
      "[111]\ttrain-mlogloss:1.10201\teval-mlogloss:1.21446\n",
      "[112]\ttrain-mlogloss:1.10022\teval-mlogloss:1.21359\n",
      "[113]\ttrain-mlogloss:1.09848\teval-mlogloss:1.21275\n",
      "[114]\ttrain-mlogloss:1.09665\teval-mlogloss:1.21200\n",
      "[115]\ttrain-mlogloss:1.09505\teval-mlogloss:1.21122\n",
      "[116]\ttrain-mlogloss:1.09324\teval-mlogloss:1.21050\n",
      "[117]\ttrain-mlogloss:1.09143\teval-mlogloss:1.20973\n",
      "[118]\ttrain-mlogloss:1.08983\teval-mlogloss:1.20891\n",
      "[119]\ttrain-mlogloss:1.08824\teval-mlogloss:1.20822\n",
      "[120]\ttrain-mlogloss:1.08651\teval-mlogloss:1.20744\n",
      "[121]\ttrain-mlogloss:1.08496\teval-mlogloss:1.20672\n",
      "[122]\ttrain-mlogloss:1.08322\teval-mlogloss:1.20592\n",
      "[123]\ttrain-mlogloss:1.08148\teval-mlogloss:1.20513\n",
      "[124]\ttrain-mlogloss:1.07997\teval-mlogloss:1.20441\n",
      "[125]\ttrain-mlogloss:1.07849\teval-mlogloss:1.20376\n",
      "[126]\ttrain-mlogloss:1.07697\teval-mlogloss:1.20308\n",
      "[127]\ttrain-mlogloss:1.07535\teval-mlogloss:1.20240\n",
      "[128]\ttrain-mlogloss:1.07363\teval-mlogloss:1.20164\n",
      "[129]\ttrain-mlogloss:1.07199\teval-mlogloss:1.20095\n",
      "[130]\ttrain-mlogloss:1.07038\teval-mlogloss:1.20027\n",
      "[131]\ttrain-mlogloss:1.06877\teval-mlogloss:1.19962\n",
      "[132]\ttrain-mlogloss:1.06707\teval-mlogloss:1.19904\n",
      "[133]\ttrain-mlogloss:1.06546\teval-mlogloss:1.19847\n",
      "[134]\ttrain-mlogloss:1.06388\teval-mlogloss:1.19793\n",
      "[135]\ttrain-mlogloss:1.06229\teval-mlogloss:1.19738\n",
      "[136]\ttrain-mlogloss:1.06076\teval-mlogloss:1.19680\n",
      "[137]\ttrain-mlogloss:1.05919\teval-mlogloss:1.19615\n",
      "[138]\ttrain-mlogloss:1.05766\teval-mlogloss:1.19560\n",
      "[139]\ttrain-mlogloss:1.05622\teval-mlogloss:1.19499\n",
      "[140]\ttrain-mlogloss:1.05470\teval-mlogloss:1.19437\n",
      "[141]\ttrain-mlogloss:1.05322\teval-mlogloss:1.19376\n",
      "[142]\ttrain-mlogloss:1.05170\teval-mlogloss:1.19318\n",
      "[143]\ttrain-mlogloss:1.05030\teval-mlogloss:1.19259\n",
      "[144]\ttrain-mlogloss:1.04882\teval-mlogloss:1.19209\n",
      "[145]\ttrain-mlogloss:1.04727\teval-mlogloss:1.19163\n",
      "[146]\ttrain-mlogloss:1.04577\teval-mlogloss:1.19102\n",
      "[147]\ttrain-mlogloss:1.04423\teval-mlogloss:1.19033\n",
      "[148]\ttrain-mlogloss:1.04287\teval-mlogloss:1.18978\n",
      "[149]\ttrain-mlogloss:1.04159\teval-mlogloss:1.18914\n",
      "[150]\ttrain-mlogloss:1.04001\teval-mlogloss:1.18864\n",
      "[151]\ttrain-mlogloss:1.03857\teval-mlogloss:1.18811\n",
      "[152]\ttrain-mlogloss:1.03723\teval-mlogloss:1.18765\n",
      "[153]\ttrain-mlogloss:1.03573\teval-mlogloss:1.18719\n",
      "[154]\ttrain-mlogloss:1.03419\teval-mlogloss:1.18671\n",
      "[155]\ttrain-mlogloss:1.03255\teval-mlogloss:1.18628\n",
      "[156]\ttrain-mlogloss:1.03110\teval-mlogloss:1.18575\n",
      "[157]\ttrain-mlogloss:1.02979\teval-mlogloss:1.18526\n",
      "[158]\ttrain-mlogloss:1.02821\teval-mlogloss:1.18470\n",
      "[159]\ttrain-mlogloss:1.02705\teval-mlogloss:1.18431\n",
      "[160]\ttrain-mlogloss:1.02563\teval-mlogloss:1.18391\n",
      "[161]\ttrain-mlogloss:1.02428\teval-mlogloss:1.18345\n",
      "[162]\ttrain-mlogloss:1.02303\teval-mlogloss:1.18296\n",
      "[163]\ttrain-mlogloss:1.02170\teval-mlogloss:1.18256\n",
      "[164]\ttrain-mlogloss:1.02030\teval-mlogloss:1.18222\n",
      "[165]\ttrain-mlogloss:1.01896\teval-mlogloss:1.18183\n",
      "[166]\ttrain-mlogloss:1.01762\teval-mlogloss:1.18139\n",
      "[167]\ttrain-mlogloss:1.01629\teval-mlogloss:1.18089\n",
      "[168]\ttrain-mlogloss:1.01483\teval-mlogloss:1.18034\n",
      "[169]\ttrain-mlogloss:1.01341\teval-mlogloss:1.17986\n",
      "[170]\ttrain-mlogloss:1.01219\teval-mlogloss:1.17949\n",
      "[171]\ttrain-mlogloss:1.01078\teval-mlogloss:1.17906\n",
      "[172]\ttrain-mlogloss:1.00942\teval-mlogloss:1.17872\n",
      "[173]\ttrain-mlogloss:1.00824\teval-mlogloss:1.17830\n",
      "[174]\ttrain-mlogloss:1.00717\teval-mlogloss:1.17780\n",
      "[175]\ttrain-mlogloss:1.00598\teval-mlogloss:1.17749\n",
      "[176]\ttrain-mlogloss:1.00461\teval-mlogloss:1.17710\n",
      "[177]\ttrain-mlogloss:1.00340\teval-mlogloss:1.17673\n",
      "[178]\ttrain-mlogloss:1.00199\teval-mlogloss:1.17632\n",
      "[179]\ttrain-mlogloss:1.00071\teval-mlogloss:1.17598\n",
      "[180]\ttrain-mlogloss:0.99943\teval-mlogloss:1.17559\n",
      "[181]\ttrain-mlogloss:0.99810\teval-mlogloss:1.17521\n",
      "[182]\ttrain-mlogloss:0.99688\teval-mlogloss:1.17486\n",
      "[183]\ttrain-mlogloss:0.99578\teval-mlogloss:1.17446\n",
      "[184]\ttrain-mlogloss:0.99444\teval-mlogloss:1.17403\n",
      "[185]\ttrain-mlogloss:0.99321\teval-mlogloss:1.17359\n",
      "[186]\ttrain-mlogloss:0.99179\teval-mlogloss:1.17311\n",
      "[187]\ttrain-mlogloss:0.99058\teval-mlogloss:1.17272\n",
      "[188]\ttrain-mlogloss:0.98934\teval-mlogloss:1.17231\n",
      "[189]\ttrain-mlogloss:0.98827\teval-mlogloss:1.17189\n",
      "[190]\ttrain-mlogloss:0.98699\teval-mlogloss:1.17159\n",
      "[191]\ttrain-mlogloss:0.98583\teval-mlogloss:1.17127\n",
      "[192]\ttrain-mlogloss:0.98455\teval-mlogloss:1.17093\n",
      "[193]\ttrain-mlogloss:0.98336\teval-mlogloss:1.17062\n",
      "[194]\ttrain-mlogloss:0.98202\teval-mlogloss:1.17025\n",
      "[195]\ttrain-mlogloss:0.98085\teval-mlogloss:1.16989\n",
      "[196]\ttrain-mlogloss:0.97970\teval-mlogloss:1.16947\n",
      "[197]\ttrain-mlogloss:0.97858\teval-mlogloss:1.16918\n",
      "[198]\ttrain-mlogloss:0.97749\teval-mlogloss:1.16883\n",
      "[199]\ttrain-mlogloss:0.97637\teval-mlogloss:1.16847\n",
      "훈련 정확도: 0.7743695316520844\n",
      "              precision    recall  f1-score   support\n",
      "\n",
      "           0       1.00      0.38      0.55      1000\n",
      "           1       0.80      0.83      0.82      3544\n",
      "           2       0.71      0.91      0.80      3671\n",
      "           3       0.91      0.56      0.70      1500\n",
      "\n",
      "    accuracy                           0.77      9715\n",
      "   macro avg       0.86      0.67      0.72      9715\n",
      "weighted avg       0.80      0.77      0.76      9715\n",
      "\n",
      "검증 정확도: 0.4417808219178082\n",
      "              precision    recall  f1-score   support\n",
      "\n",
      "           0       0.00      0.00      0.00       149\n",
      "           1       0.43      0.45      0.44       678\n",
      "           2       0.47      0.60      0.53       745\n",
      "           3       0.24      0.12      0.16       180\n",
      "\n",
      "    accuracy                           0.44      1752\n",
      "   macro avg       0.29      0.29      0.28      1752\n",
      "weighted avg       0.39      0.44      0.41      1752\n",
      "\n"
     ]
    }
   ],
   "source": [
    "# 제준님이 주신 새로운 피쳐들 사용\n",
    "\n",
    "import xgboost as xgb\n",
    "from imblearn.over_sampling import SMOTE\n",
    "from sklearn.metrics import accuracy_score, classification_report\n",
    "from sklearn.model_selection import train_test_split\n",
    "\n",
    "# _type에 따라 train, test 분리\n",
    "train_df = new_df2.loc[new_df2[\"_type\"] == \"train\"].drop(columns=[\"_type\"])\n",
    "train_df = train_df.ffill()\n",
    "test_df = new_df2.loc[new_df2[\"_type\"] == \"test\"].drop(columns=[\"_type\"])\n",
    "\n",
    "# train_test_split 으로 valid set, train set 분리\n",
    "x_train, x_valid, y_train, y_valid = train_test_split(\n",
    "    train_df.drop([\"target\", \"ID\"], axis=1),\n",
    "    train_df[\"target\"].astype(int),\n",
    "    test_size=0.2,\n",
    "    random_state=42,\n",
    ")\n",
    "\n",
    "# SMOTE를 이용한 오버샘플링\n",
    "sampling_strategy = {0: 1000, 1: 3544, 2: 3671, 3: 1500}\n",
    "smote = SMOTE(sampling_strategy=sampling_strategy, random_state=42)\n",
    "x_train_resampled, y_train_resampled = smote.fit_resample(x_train, y_train)\n",
    "\n",
    "# XGBoost 모델을 위한 DMatrix로 변환\n",
    "dtrain = xgb.DMatrix(x_train_resampled, label=y_train_resampled)\n",
    "dvalid = xgb.DMatrix(x_valid, label=y_valid)\n",
    "\n",
    "# XGBoost 모델 학습 파라미터\n",
    "params = {\n",
    "    \"objective\": \"multi:softprob\",  # 다중 클래스 분류\n",
    "    \"num_class\": len(y_train_resampled.unique()),  # 클래스 개수\n",
    "    \"eval_metric\": \"mlogloss\",  # 손실 함수 (멀티클래스 로지스틱 손실)\n",
    "    \"max_depth\": 7,\n",
    "    \"learning_rate\": 0.01,\n",
    "    \"subsample\": 0.8,\n",
    "    \"colsample_bytree\": 0.8,\n",
    "    \"seed\": 42\n",
    "}\n",
    "\n",
    "# 교차 검증 설정 (5-fold)\n",
    "cv_results = xgb.cv(\n",
    "    params=params,\n",
    "    dtrain=dtrain,\n",
    "    num_boost_round=200,\n",
    "    nfold=5,\n",
    "    early_stopping_rounds=10,\n",
    "    metrics=\"mlogloss\",\n",
    "    as_pandas=True,\n",
    "    seed=42\n",
    ")\n",
    "\n",
    "# 최적의 부스팅 라운드 수 확인\n",
    "best_num_boost_rounds = len(cv_results)\n",
    "\n",
    "# 교차 검증 결과 출력\n",
    "print(\"최적 부스팅 라운드 수:\", best_num_boost_rounds)\n",
    "print(cv_results.tail())\n",
    "\n",
    "# 최적의 부스팅 라운드로 모델 학습\n",
    "xgb_model = xgb.train(\n",
    "    params=params,\n",
    "    dtrain=dtrain,\n",
    "    num_boost_round=best_num_boost_rounds,\n",
    "    evals=[(dtrain, \"train\"), (dvalid, \"eval\")],\n",
    "    early_stopping_rounds=10\n",
    ")\n",
    "\n",
    "# 예측 (훈련 데이터셋)\n",
    "y_train_pred_prob = xgb_model.predict(dtrain)\n",
    "y_train_pred = y_train_pred_prob.argmax(axis=1)\n",
    "\n",
    "# 예측 (검증 데이터셋)\n",
    "y_valid_pred_prob = xgb_model.predict(dvalid)\n",
    "y_valid_pred = y_valid_pred_prob.argmax(axis=1)\n",
    "\n",
    "# 성능 평가 (훈련 데이터셋)\n",
    "train_accuracy = accuracy_score(y_train_resampled, y_train_pred)\n",
    "train_classification_rep = classification_report(y_train_resampled, y_train_pred)\n",
    "\n",
    "# 성능 평가 (검증 데이터셋)\n",
    "valid_accuracy = accuracy_score(y_valid, y_valid_pred)\n",
    "valid_classification_rep = classification_report(y_valid, y_valid_pred)\n",
    "\n",
    "# 결과 출력\n",
    "print(f\"훈련 정확도: {train_accuracy}\")\n",
    "print(train_classification_rep)\n",
    "print(f\"검증 정확도: {valid_accuracy}\")\n",
    "print(valid_classification_rep)\n"
   ]
  },
  {
   "cell_type": "code",
   "execution_count": 147,
   "metadata": {},
   "outputs": [
    {
     "data": {
      "application/vnd.plotly.v1+json": {
       "config": {
        "plotlyServerURL": "https://plot.ly"
       },
       "data": [
        {
         "alignmentgroup": "True",
         "hovertemplate": "Feature=%{x}<br>Importance=%{y}<extra></extra>",
         "legendgroup": "",
         "marker": {
          "color": "#636efa",
          "pattern": {
           "shape": ""
          }
         },
         "name": "",
         "offsetgroup": "",
         "orientation": "v",
         "showlegend": false,
         "textposition": "auto",
         "type": "bar",
         "x": [
          "open_interest_diff",
          "scaled_log_coinbase_premium_index",
          "scaled_utxo_count",
          "tv_ma_diff",
          "fr_diff",
          "scaled_log_total_taker_volume",
          "tv_diff",
          "fee_burden_diff",
          "scaled_log_open_interest",
          "moving_avg_scaled_log_total_volume",
          "network_load_diff",
          "market_pressure_diff",
          "liquidation_risk_diff",
          "scaled_funding_rates",
          "average_transaction_value_diff",
          "taker_buy_sell_ratio",
          "scaled_log_hashrate",
          "network_activity_ratio_diff",
          "fr_ma_diff",
          "scaled_total_transactions_count",
          "bsr_ma_diff",
          "bsr_diff"
         ],
         "xaxis": "x",
         "y": [
          3987,
          3983,
          3750,
          3733,
          3707,
          3706,
          3582,
          3507,
          3401,
          3311,
          3248,
          3183,
          3169,
          3165,
          3148,
          3051,
          2865,
          2839,
          2827,
          2781,
          2294,
          861
         ],
         "yaxis": "y"
        }
       ],
       "layout": {
        "barmode": "relative",
        "legend": {
         "tracegroupgap": 0
        },
        "template": {
         "data": {
          "bar": [
           {
            "error_x": {
             "color": "#2a3f5f"
            },
            "error_y": {
             "color": "#2a3f5f"
            },
            "marker": {
             "line": {
              "color": "#E5ECF6",
              "width": 0.5
             },
             "pattern": {
              "fillmode": "overlay",
              "size": 10,
              "solidity": 0.2
             }
            },
            "type": "bar"
           }
          ],
          "barpolar": [
           {
            "marker": {
             "line": {
              "color": "#E5ECF6",
              "width": 0.5
             },
             "pattern": {
              "fillmode": "overlay",
              "size": 10,
              "solidity": 0.2
             }
            },
            "type": "barpolar"
           }
          ],
          "carpet": [
           {
            "aaxis": {
             "endlinecolor": "#2a3f5f",
             "gridcolor": "white",
             "linecolor": "white",
             "minorgridcolor": "white",
             "startlinecolor": "#2a3f5f"
            },
            "baxis": {
             "endlinecolor": "#2a3f5f",
             "gridcolor": "white",
             "linecolor": "white",
             "minorgridcolor": "white",
             "startlinecolor": "#2a3f5f"
            },
            "type": "carpet"
           }
          ],
          "choropleth": [
           {
            "colorbar": {
             "outlinewidth": 0,
             "ticks": ""
            },
            "type": "choropleth"
           }
          ],
          "contour": [
           {
            "colorbar": {
             "outlinewidth": 0,
             "ticks": ""
            },
            "colorscale": [
             [
              0,
              "#0d0887"
             ],
             [
              0.1111111111111111,
              "#46039f"
             ],
             [
              0.2222222222222222,
              "#7201a8"
             ],
             [
              0.3333333333333333,
              "#9c179e"
             ],
             [
              0.4444444444444444,
              "#bd3786"
             ],
             [
              0.5555555555555556,
              "#d8576b"
             ],
             [
              0.6666666666666666,
              "#ed7953"
             ],
             [
              0.7777777777777778,
              "#fb9f3a"
             ],
             [
              0.8888888888888888,
              "#fdca26"
             ],
             [
              1,
              "#f0f921"
             ]
            ],
            "type": "contour"
           }
          ],
          "contourcarpet": [
           {
            "colorbar": {
             "outlinewidth": 0,
             "ticks": ""
            },
            "type": "contourcarpet"
           }
          ],
          "heatmap": [
           {
            "colorbar": {
             "outlinewidth": 0,
             "ticks": ""
            },
            "colorscale": [
             [
              0,
              "#0d0887"
             ],
             [
              0.1111111111111111,
              "#46039f"
             ],
             [
              0.2222222222222222,
              "#7201a8"
             ],
             [
              0.3333333333333333,
              "#9c179e"
             ],
             [
              0.4444444444444444,
              "#bd3786"
             ],
             [
              0.5555555555555556,
              "#d8576b"
             ],
             [
              0.6666666666666666,
              "#ed7953"
             ],
             [
              0.7777777777777778,
              "#fb9f3a"
             ],
             [
              0.8888888888888888,
              "#fdca26"
             ],
             [
              1,
              "#f0f921"
             ]
            ],
            "type": "heatmap"
           }
          ],
          "heatmapgl": [
           {
            "colorbar": {
             "outlinewidth": 0,
             "ticks": ""
            },
            "colorscale": [
             [
              0,
              "#0d0887"
             ],
             [
              0.1111111111111111,
              "#46039f"
             ],
             [
              0.2222222222222222,
              "#7201a8"
             ],
             [
              0.3333333333333333,
              "#9c179e"
             ],
             [
              0.4444444444444444,
              "#bd3786"
             ],
             [
              0.5555555555555556,
              "#d8576b"
             ],
             [
              0.6666666666666666,
              "#ed7953"
             ],
             [
              0.7777777777777778,
              "#fb9f3a"
             ],
             [
              0.8888888888888888,
              "#fdca26"
             ],
             [
              1,
              "#f0f921"
             ]
            ],
            "type": "heatmapgl"
           }
          ],
          "histogram": [
           {
            "marker": {
             "pattern": {
              "fillmode": "overlay",
              "size": 10,
              "solidity": 0.2
             }
            },
            "type": "histogram"
           }
          ],
          "histogram2d": [
           {
            "colorbar": {
             "outlinewidth": 0,
             "ticks": ""
            },
            "colorscale": [
             [
              0,
              "#0d0887"
             ],
             [
              0.1111111111111111,
              "#46039f"
             ],
             [
              0.2222222222222222,
              "#7201a8"
             ],
             [
              0.3333333333333333,
              "#9c179e"
             ],
             [
              0.4444444444444444,
              "#bd3786"
             ],
             [
              0.5555555555555556,
              "#d8576b"
             ],
             [
              0.6666666666666666,
              "#ed7953"
             ],
             [
              0.7777777777777778,
              "#fb9f3a"
             ],
             [
              0.8888888888888888,
              "#fdca26"
             ],
             [
              1,
              "#f0f921"
             ]
            ],
            "type": "histogram2d"
           }
          ],
          "histogram2dcontour": [
           {
            "colorbar": {
             "outlinewidth": 0,
             "ticks": ""
            },
            "colorscale": [
             [
              0,
              "#0d0887"
             ],
             [
              0.1111111111111111,
              "#46039f"
             ],
             [
              0.2222222222222222,
              "#7201a8"
             ],
             [
              0.3333333333333333,
              "#9c179e"
             ],
             [
              0.4444444444444444,
              "#bd3786"
             ],
             [
              0.5555555555555556,
              "#d8576b"
             ],
             [
              0.6666666666666666,
              "#ed7953"
             ],
             [
              0.7777777777777778,
              "#fb9f3a"
             ],
             [
              0.8888888888888888,
              "#fdca26"
             ],
             [
              1,
              "#f0f921"
             ]
            ],
            "type": "histogram2dcontour"
           }
          ],
          "mesh3d": [
           {
            "colorbar": {
             "outlinewidth": 0,
             "ticks": ""
            },
            "type": "mesh3d"
           }
          ],
          "parcoords": [
           {
            "line": {
             "colorbar": {
              "outlinewidth": 0,
              "ticks": ""
             }
            },
            "type": "parcoords"
           }
          ],
          "pie": [
           {
            "automargin": true,
            "type": "pie"
           }
          ],
          "scatter": [
           {
            "fillpattern": {
             "fillmode": "overlay",
             "size": 10,
             "solidity": 0.2
            },
            "type": "scatter"
           }
          ],
          "scatter3d": [
           {
            "line": {
             "colorbar": {
              "outlinewidth": 0,
              "ticks": ""
             }
            },
            "marker": {
             "colorbar": {
              "outlinewidth": 0,
              "ticks": ""
             }
            },
            "type": "scatter3d"
           }
          ],
          "scattercarpet": [
           {
            "marker": {
             "colorbar": {
              "outlinewidth": 0,
              "ticks": ""
             }
            },
            "type": "scattercarpet"
           }
          ],
          "scattergeo": [
           {
            "marker": {
             "colorbar": {
              "outlinewidth": 0,
              "ticks": ""
             }
            },
            "type": "scattergeo"
           }
          ],
          "scattergl": [
           {
            "marker": {
             "colorbar": {
              "outlinewidth": 0,
              "ticks": ""
             }
            },
            "type": "scattergl"
           }
          ],
          "scattermapbox": [
           {
            "marker": {
             "colorbar": {
              "outlinewidth": 0,
              "ticks": ""
             }
            },
            "type": "scattermapbox"
           }
          ],
          "scatterpolar": [
           {
            "marker": {
             "colorbar": {
              "outlinewidth": 0,
              "ticks": ""
             }
            },
            "type": "scatterpolar"
           }
          ],
          "scatterpolargl": [
           {
            "marker": {
             "colorbar": {
              "outlinewidth": 0,
              "ticks": ""
             }
            },
            "type": "scatterpolargl"
           }
          ],
          "scatterternary": [
           {
            "marker": {
             "colorbar": {
              "outlinewidth": 0,
              "ticks": ""
             }
            },
            "type": "scatterternary"
           }
          ],
          "surface": [
           {
            "colorbar": {
             "outlinewidth": 0,
             "ticks": ""
            },
            "colorscale": [
             [
              0,
              "#0d0887"
             ],
             [
              0.1111111111111111,
              "#46039f"
             ],
             [
              0.2222222222222222,
              "#7201a8"
             ],
             [
              0.3333333333333333,
              "#9c179e"
             ],
             [
              0.4444444444444444,
              "#bd3786"
             ],
             [
              0.5555555555555556,
              "#d8576b"
             ],
             [
              0.6666666666666666,
              "#ed7953"
             ],
             [
              0.7777777777777778,
              "#fb9f3a"
             ],
             [
              0.8888888888888888,
              "#fdca26"
             ],
             [
              1,
              "#f0f921"
             ]
            ],
            "type": "surface"
           }
          ],
          "table": [
           {
            "cells": {
             "fill": {
              "color": "#EBF0F8"
             },
             "line": {
              "color": "white"
             }
            },
            "header": {
             "fill": {
              "color": "#C8D4E3"
             },
             "line": {
              "color": "white"
             }
            },
            "type": "table"
           }
          ]
         },
         "layout": {
          "annotationdefaults": {
           "arrowcolor": "#2a3f5f",
           "arrowhead": 0,
           "arrowwidth": 1
          },
          "autotypenumbers": "strict",
          "coloraxis": {
           "colorbar": {
            "outlinewidth": 0,
            "ticks": ""
           }
          },
          "colorscale": {
           "diverging": [
            [
             0,
             "#8e0152"
            ],
            [
             0.1,
             "#c51b7d"
            ],
            [
             0.2,
             "#de77ae"
            ],
            [
             0.3,
             "#f1b6da"
            ],
            [
             0.4,
             "#fde0ef"
            ],
            [
             0.5,
             "#f7f7f7"
            ],
            [
             0.6,
             "#e6f5d0"
            ],
            [
             0.7,
             "#b8e186"
            ],
            [
             0.8,
             "#7fbc41"
            ],
            [
             0.9,
             "#4d9221"
            ],
            [
             1,
             "#276419"
            ]
           ],
           "sequential": [
            [
             0,
             "#0d0887"
            ],
            [
             0.1111111111111111,
             "#46039f"
            ],
            [
             0.2222222222222222,
             "#7201a8"
            ],
            [
             0.3333333333333333,
             "#9c179e"
            ],
            [
             0.4444444444444444,
             "#bd3786"
            ],
            [
             0.5555555555555556,
             "#d8576b"
            ],
            [
             0.6666666666666666,
             "#ed7953"
            ],
            [
             0.7777777777777778,
             "#fb9f3a"
            ],
            [
             0.8888888888888888,
             "#fdca26"
            ],
            [
             1,
             "#f0f921"
            ]
           ],
           "sequentialminus": [
            [
             0,
             "#0d0887"
            ],
            [
             0.1111111111111111,
             "#46039f"
            ],
            [
             0.2222222222222222,
             "#7201a8"
            ],
            [
             0.3333333333333333,
             "#9c179e"
            ],
            [
             0.4444444444444444,
             "#bd3786"
            ],
            [
             0.5555555555555556,
             "#d8576b"
            ],
            [
             0.6666666666666666,
             "#ed7953"
            ],
            [
             0.7777777777777778,
             "#fb9f3a"
            ],
            [
             0.8888888888888888,
             "#fdca26"
            ],
            [
             1,
             "#f0f921"
            ]
           ]
          },
          "colorway": [
           "#636efa",
           "#EF553B",
           "#00cc96",
           "#ab63fa",
           "#FFA15A",
           "#19d3f3",
           "#FF6692",
           "#B6E880",
           "#FF97FF",
           "#FECB52"
          ],
          "font": {
           "color": "#2a3f5f"
          },
          "geo": {
           "bgcolor": "white",
           "lakecolor": "white",
           "landcolor": "#E5ECF6",
           "showlakes": true,
           "showland": true,
           "subunitcolor": "white"
          },
          "hoverlabel": {
           "align": "left"
          },
          "hovermode": "closest",
          "mapbox": {
           "style": "light"
          },
          "paper_bgcolor": "white",
          "plot_bgcolor": "#E5ECF6",
          "polar": {
           "angularaxis": {
            "gridcolor": "white",
            "linecolor": "white",
            "ticks": ""
           },
           "bgcolor": "#E5ECF6",
           "radialaxis": {
            "gridcolor": "white",
            "linecolor": "white",
            "ticks": ""
           }
          },
          "scene": {
           "xaxis": {
            "backgroundcolor": "#E5ECF6",
            "gridcolor": "white",
            "gridwidth": 2,
            "linecolor": "white",
            "showbackground": true,
            "ticks": "",
            "zerolinecolor": "white"
           },
           "yaxis": {
            "backgroundcolor": "#E5ECF6",
            "gridcolor": "white",
            "gridwidth": 2,
            "linecolor": "white",
            "showbackground": true,
            "ticks": "",
            "zerolinecolor": "white"
           },
           "zaxis": {
            "backgroundcolor": "#E5ECF6",
            "gridcolor": "white",
            "gridwidth": 2,
            "linecolor": "white",
            "showbackground": true,
            "ticks": "",
            "zerolinecolor": "white"
           }
          },
          "shapedefaults": {
           "line": {
            "color": "#2a3f5f"
           }
          },
          "ternary": {
           "aaxis": {
            "gridcolor": "white",
            "linecolor": "white",
            "ticks": ""
           },
           "baxis": {
            "gridcolor": "white",
            "linecolor": "white",
            "ticks": ""
           },
           "bgcolor": "#E5ECF6",
           "caxis": {
            "gridcolor": "white",
            "linecolor": "white",
            "ticks": ""
           }
          },
          "title": {
           "x": 0.05
          },
          "xaxis": {
           "automargin": true,
           "gridcolor": "white",
           "linecolor": "white",
           "ticks": "",
           "title": {
            "standoff": 15
           },
           "zerolinecolor": "white",
           "zerolinewidth": 2
          },
          "yaxis": {
           "automargin": true,
           "gridcolor": "white",
           "linecolor": "white",
           "ticks": "",
           "title": {
            "standoff": 15
           },
           "zerolinecolor": "white",
           "zerolinewidth": 2
          }
         }
        },
        "title": {
         "text": "Feature Importance"
        },
        "xaxis": {
         "anchor": "y",
         "domain": [
          0,
          1
         ],
         "title": {
          "text": "Feature"
         }
        },
        "yaxis": {
         "anchor": "x",
         "domain": [
          0,
          1
         ],
         "title": {
          "text": "Importance"
         }
        }
       }
      }
     },
     "metadata": {},
     "output_type": "display_data"
    }
   ],
   "source": [
    "import plotly.express as px\n",
    "\n",
    "# Feature importance 평가\n",
    "importance = xgb_model.get_score(importance_type='weight')\n",
    "importance_df = pd.DataFrame({\n",
    "    'Feature': [k for k in importance.keys()],\n",
    "    'Importance': importance.values()\n",
    "}).sort_values(by='Importance', ascending=False)\n",
    "\n",
    "# 시각화\n",
    "fig = px.bar(importance_df, x='Feature', y='Importance', title='Feature Importance')\n",
    "fig.show()"
   ]
  },
  {
   "cell_type": "code",
   "execution_count": 148,
   "metadata": {},
   "outputs": [
    {
     "data": {
      "text/plain": [
       "target\n",
       "2    1515\n",
       "1    1022\n",
       "3     225\n",
       "0      30\n",
       "Name: count, dtype: int64"
      ]
     },
     "execution_count": 148,
     "metadata": {},
     "output_type": "execute_result"
    }
   ],
   "source": [
    "# 테스트 데이터셋을 DMatrix로 변환\n",
    "dtest = xgb.DMatrix(test_df.drop([\"target\", \"ID\"], axis=1))\n",
    "\n",
    "# 테스트 데이터에 대한 예측 수행\n",
    "y_test_pred_prob = xgb_model.predict(dtest)\n",
    "\n",
    "# 다중 클래스 예측일 경우 가장 높은 확률을 가진 클래스를 예측값으로 변환\n",
    "y_test_pred = y_test_pred_prob.argmax(axis=1)\n",
    "\n",
    "# 예측 결과 출력\n",
    "y_test_pred\n",
    "\n",
    "submission_df = submission_df.assign(target=pd.DataFrame(y_test_pred))\n",
    "submission_df['target'].value_counts()"
   ]
  },
  {
   "cell_type": "code",
   "execution_count": 150,
   "metadata": {},
   "outputs": [],
   "source": [
    "new_df2 = new_df.drop(columns=[\n",
    "    'network_activity_ratio_diff', # 0.437\n",
    "    #'average_transaction_value_diff',\n",
    "    #'network_load_diff',\n",
    "    'fee_burden_diff',\n",
    "    #'market_pressure_diff', #0.4355\n",
    "    #'liquidation_risk_diff'\n",
    "    #'open_interest_diff',\n",
    "    'bsr_diff', #0.417\n",
    "    'bsr_ma_diff', #0.416\n",
    "    'tv_diff', #0.414\n",
    "    'tv_ma_diff', #0.433\n",
    "    'fr_diff', #0.416 0.434\n",
    "    'fr_ma_diff' #0.417\n",
    "    ],inplace=False)"
   ]
  },
  {
   "cell_type": "code",
   "execution_count": 158,
   "metadata": {},
   "outputs": [
    {
     "data": {
      "text/plain": [
       "Index(['ID', '_type', 'target', 'scaled_log_hashrate',\n",
       "       'scaled_log_open_interest', 'scaled_log_coinbase_premium_index',\n",
       "       'scaled_funding_rates', 'scaled_estimated_block_reward',\n",
       "       'scaled_liquidation_diff', 'scaled_log_total_liquidation',\n",
       "       'scaled_log_total_taker_volume', 'scaled_utxo_count',\n",
       "       'scaled_total_transactions_count', 'taker_buy_sell_ratio',\n",
       "       'moving_avg_scaled_log_total_volume', 'open_interest_diff',\n",
       "       'average_transaction_value_diff', 'network_load_diff',\n",
       "       'market_pressure_diff', 'liquidation_risk_diff'],\n",
       "      dtype='object')"
      ]
     },
     "execution_count": 158,
     "metadata": {},
     "output_type": "execute_result"
    }
   ],
   "source": [
    "new_df2.columns"
   ]
  },
  {
   "cell_type": "code",
   "execution_count": 175,
   "metadata": {},
   "outputs": [
    {
     "name": "stdout",
     "output_type": "stream",
     "text": [
      "최적 부스팅 라운드 수: 275\n",
      "     train-mlogloss-mean  train-mlogloss-std  test-mlogloss-mean  \\\n",
      "270             0.944511            0.001327            1.124133   \n",
      "271             0.943618            0.001355            1.123675   \n",
      "272             0.942835            0.001331            1.123303   \n",
      "273             0.941983            0.001327            1.122899   \n",
      "274             0.941114            0.001326            1.122475   \n",
      "\n",
      "     test-mlogloss-std  \n",
      "270           0.004062  \n",
      "271           0.004039  \n",
      "272           0.004035  \n",
      "273           0.004067  \n",
      "274           0.004143  \n",
      "[0]\ttrain-mlogloss:1.38309\teval-mlogloss:1.38472\n",
      "[1]\ttrain-mlogloss:1.37999\teval-mlogloss:1.38320\n",
      "[2]\ttrain-mlogloss:1.37709\teval-mlogloss:1.38159\n",
      "[3]\ttrain-mlogloss:1.37430\teval-mlogloss:1.38006\n",
      "[4]\ttrain-mlogloss:1.37116\teval-mlogloss:1.37845\n",
      "[5]\ttrain-mlogloss:1.36824\teval-mlogloss:1.37710\n",
      "[6]\ttrain-mlogloss:1.36545\teval-mlogloss:1.37561\n",
      "[7]\ttrain-mlogloss:1.36264\teval-mlogloss:1.37425\n",
      "[8]\ttrain-mlogloss:1.35999\teval-mlogloss:1.37276\n",
      "[9]\ttrain-mlogloss:1.35710\teval-mlogloss:1.37124\n",
      "[10]\ttrain-mlogloss:1.35435\teval-mlogloss:1.36983\n",
      "[11]\ttrain-mlogloss:1.35158\teval-mlogloss:1.36846\n",
      "[12]\ttrain-mlogloss:1.34872\teval-mlogloss:1.36710\n",
      "[13]\ttrain-mlogloss:1.34602\teval-mlogloss:1.36574\n",
      "[14]\ttrain-mlogloss:1.34325\teval-mlogloss:1.36415\n",
      "[15]\ttrain-mlogloss:1.34054\teval-mlogloss:1.36267\n",
      "[16]\ttrain-mlogloss:1.33783\teval-mlogloss:1.36139\n",
      "[17]\ttrain-mlogloss:1.33529\teval-mlogloss:1.36023\n",
      "[18]\ttrain-mlogloss:1.33280\teval-mlogloss:1.35892\n",
      "[19]\ttrain-mlogloss:1.33017\teval-mlogloss:1.35783\n",
      "[20]\ttrain-mlogloss:1.32769\teval-mlogloss:1.35677\n",
      "[21]\ttrain-mlogloss:1.32512\teval-mlogloss:1.35538\n",
      "[22]\ttrain-mlogloss:1.32246\teval-mlogloss:1.35422\n",
      "[23]\ttrain-mlogloss:1.32010\teval-mlogloss:1.35311\n",
      "[24]\ttrain-mlogloss:1.31776\teval-mlogloss:1.35198\n",
      "[25]\ttrain-mlogloss:1.31522\teval-mlogloss:1.35081\n",
      "[26]\ttrain-mlogloss:1.31259\teval-mlogloss:1.34961\n",
      "[27]\ttrain-mlogloss:1.30991\teval-mlogloss:1.34835\n",
      "[28]\ttrain-mlogloss:1.30747\teval-mlogloss:1.34716\n",
      "[29]\ttrain-mlogloss:1.30506\teval-mlogloss:1.34613\n",
      "[30]\ttrain-mlogloss:1.30265\teval-mlogloss:1.34490\n",
      "[31]\ttrain-mlogloss:1.30031\teval-mlogloss:1.34385\n",
      "[32]\ttrain-mlogloss:1.29785\teval-mlogloss:1.34276\n",
      "[33]\ttrain-mlogloss:1.29541\teval-mlogloss:1.34164\n",
      "[34]\ttrain-mlogloss:1.29320\teval-mlogloss:1.34058\n",
      "[35]\ttrain-mlogloss:1.29085\teval-mlogloss:1.33940\n",
      "[36]\ttrain-mlogloss:1.28844\teval-mlogloss:1.33829\n",
      "[37]\ttrain-mlogloss:1.28608\teval-mlogloss:1.33700\n",
      "[38]\ttrain-mlogloss:1.28386\teval-mlogloss:1.33598\n",
      "[39]\ttrain-mlogloss:1.28151\teval-mlogloss:1.33503\n",
      "[40]\ttrain-mlogloss:1.27917\teval-mlogloss:1.33394\n",
      "[41]\ttrain-mlogloss:1.27694\teval-mlogloss:1.33310\n",
      "[42]\ttrain-mlogloss:1.27471\teval-mlogloss:1.33225\n",
      "[43]\ttrain-mlogloss:1.27244\teval-mlogloss:1.33097\n",
      "[44]\ttrain-mlogloss:1.27020\teval-mlogloss:1.33004\n",
      "[45]\ttrain-mlogloss:1.26788\teval-mlogloss:1.32899\n",
      "[46]\ttrain-mlogloss:1.26555\teval-mlogloss:1.32817\n",
      "[47]\ttrain-mlogloss:1.26330\teval-mlogloss:1.32723\n",
      "[48]\ttrain-mlogloss:1.26118\teval-mlogloss:1.32633\n",
      "[49]\ttrain-mlogloss:1.25912\teval-mlogloss:1.32541\n",
      "[50]\ttrain-mlogloss:1.25688\teval-mlogloss:1.32455\n",
      "[51]\ttrain-mlogloss:1.25475\teval-mlogloss:1.32353\n",
      "[52]\ttrain-mlogloss:1.25259\teval-mlogloss:1.32281\n",
      "[53]\ttrain-mlogloss:1.25046\teval-mlogloss:1.32185\n",
      "[54]\ttrain-mlogloss:1.24826\teval-mlogloss:1.32102\n",
      "[55]\ttrain-mlogloss:1.24620\teval-mlogloss:1.32024\n",
      "[56]\ttrain-mlogloss:1.24413\teval-mlogloss:1.31950\n",
      "[57]\ttrain-mlogloss:1.24194\teval-mlogloss:1.31873\n",
      "[58]\ttrain-mlogloss:1.23999\teval-mlogloss:1.31777\n",
      "[59]\ttrain-mlogloss:1.23799\teval-mlogloss:1.31690\n",
      "[60]\ttrain-mlogloss:1.23592\teval-mlogloss:1.31600\n",
      "[61]\ttrain-mlogloss:1.23391\teval-mlogloss:1.31526\n",
      "[62]\ttrain-mlogloss:1.23185\teval-mlogloss:1.31441\n",
      "[63]\ttrain-mlogloss:1.22974\teval-mlogloss:1.31360\n",
      "[64]\ttrain-mlogloss:1.22775\teval-mlogloss:1.31290\n",
      "[65]\ttrain-mlogloss:1.22590\teval-mlogloss:1.31215\n",
      "[66]\ttrain-mlogloss:1.22390\teval-mlogloss:1.31146\n",
      "[67]\ttrain-mlogloss:1.22191\teval-mlogloss:1.31069\n",
      "[68]\ttrain-mlogloss:1.21996\teval-mlogloss:1.30989\n",
      "[69]\ttrain-mlogloss:1.21791\teval-mlogloss:1.30906\n",
      "[70]\ttrain-mlogloss:1.21604\teval-mlogloss:1.30826\n",
      "[71]\ttrain-mlogloss:1.21391\teval-mlogloss:1.30739\n",
      "[72]\ttrain-mlogloss:1.21196\teval-mlogloss:1.30665\n",
      "[73]\ttrain-mlogloss:1.21007\teval-mlogloss:1.30594\n",
      "[74]\ttrain-mlogloss:1.20813\teval-mlogloss:1.30517\n",
      "[75]\ttrain-mlogloss:1.20633\teval-mlogloss:1.30436\n",
      "[76]\ttrain-mlogloss:1.20444\teval-mlogloss:1.30372\n",
      "[77]\ttrain-mlogloss:1.20276\teval-mlogloss:1.30322\n",
      "[78]\ttrain-mlogloss:1.20085\teval-mlogloss:1.30257\n",
      "[79]\ttrain-mlogloss:1.19884\teval-mlogloss:1.30189\n",
      "[80]\ttrain-mlogloss:1.19697\teval-mlogloss:1.30113\n",
      "[81]\ttrain-mlogloss:1.19511\teval-mlogloss:1.30040\n",
      "[82]\ttrain-mlogloss:1.19319\teval-mlogloss:1.29967\n",
      "[83]\ttrain-mlogloss:1.19141\teval-mlogloss:1.29895\n",
      "[84]\ttrain-mlogloss:1.18959\teval-mlogloss:1.29827\n",
      "[85]\ttrain-mlogloss:1.18784\teval-mlogloss:1.29771\n",
      "[86]\ttrain-mlogloss:1.18619\teval-mlogloss:1.29696\n",
      "[87]\ttrain-mlogloss:1.18455\teval-mlogloss:1.29628\n",
      "[88]\ttrain-mlogloss:1.18274\teval-mlogloss:1.29573\n",
      "[89]\ttrain-mlogloss:1.18100\teval-mlogloss:1.29519\n",
      "[90]\ttrain-mlogloss:1.17925\teval-mlogloss:1.29463\n",
      "[91]\ttrain-mlogloss:1.17752\teval-mlogloss:1.29408\n",
      "[92]\ttrain-mlogloss:1.17583\teval-mlogloss:1.29350\n",
      "[93]\ttrain-mlogloss:1.17423\teval-mlogloss:1.29299\n",
      "[94]\ttrain-mlogloss:1.17245\teval-mlogloss:1.29235\n",
      "[95]\ttrain-mlogloss:1.17079\teval-mlogloss:1.29176\n",
      "[96]\ttrain-mlogloss:1.16892\teval-mlogloss:1.29100\n",
      "[97]\ttrain-mlogloss:1.16723\teval-mlogloss:1.29037\n",
      "[98]\ttrain-mlogloss:1.16561\teval-mlogloss:1.28981\n",
      "[99]\ttrain-mlogloss:1.16402\teval-mlogloss:1.28917\n",
      "[100]\ttrain-mlogloss:1.16241\teval-mlogloss:1.28865\n",
      "[101]\ttrain-mlogloss:1.16083\teval-mlogloss:1.28809\n",
      "[102]\ttrain-mlogloss:1.15918\teval-mlogloss:1.28762\n",
      "[103]\ttrain-mlogloss:1.15745\teval-mlogloss:1.28718\n",
      "[104]\ttrain-mlogloss:1.15587\teval-mlogloss:1.28668\n",
      "[105]\ttrain-mlogloss:1.15444\teval-mlogloss:1.28621\n",
      "[106]\ttrain-mlogloss:1.15283\teval-mlogloss:1.28573\n",
      "[107]\ttrain-mlogloss:1.15130\teval-mlogloss:1.28527\n",
      "[108]\ttrain-mlogloss:1.14970\teval-mlogloss:1.28477\n",
      "[109]\ttrain-mlogloss:1.14812\teval-mlogloss:1.28435\n",
      "[110]\ttrain-mlogloss:1.14658\teval-mlogloss:1.28382\n",
      "[111]\ttrain-mlogloss:1.14493\teval-mlogloss:1.28328\n",
      "[112]\ttrain-mlogloss:1.14333\teval-mlogloss:1.28278\n",
      "[113]\ttrain-mlogloss:1.14157\teval-mlogloss:1.28217\n",
      "[114]\ttrain-mlogloss:1.13998\teval-mlogloss:1.28171\n",
      "[115]\ttrain-mlogloss:1.13853\teval-mlogloss:1.28121\n",
      "[116]\ttrain-mlogloss:1.13697\teval-mlogloss:1.28067\n",
      "[117]\ttrain-mlogloss:1.13554\teval-mlogloss:1.28005\n",
      "[118]\ttrain-mlogloss:1.13412\teval-mlogloss:1.27973\n",
      "[119]\ttrain-mlogloss:1.13259\teval-mlogloss:1.27931\n",
      "[120]\ttrain-mlogloss:1.13112\teval-mlogloss:1.27882\n",
      "[121]\ttrain-mlogloss:1.12950\teval-mlogloss:1.27831\n",
      "[122]\ttrain-mlogloss:1.12809\teval-mlogloss:1.27788\n",
      "[123]\ttrain-mlogloss:1.12663\teval-mlogloss:1.27741\n",
      "[124]\ttrain-mlogloss:1.12516\teval-mlogloss:1.27696\n",
      "[125]\ttrain-mlogloss:1.12363\teval-mlogloss:1.27652\n",
      "[126]\ttrain-mlogloss:1.12218\teval-mlogloss:1.27609\n",
      "[127]\ttrain-mlogloss:1.12066\teval-mlogloss:1.27567\n",
      "[128]\ttrain-mlogloss:1.11926\teval-mlogloss:1.27524\n",
      "[129]\ttrain-mlogloss:1.11784\teval-mlogloss:1.27486\n",
      "[130]\ttrain-mlogloss:1.11631\teval-mlogloss:1.27435\n",
      "[131]\ttrain-mlogloss:1.11501\teval-mlogloss:1.27393\n",
      "[132]\ttrain-mlogloss:1.11352\teval-mlogloss:1.27341\n",
      "[133]\ttrain-mlogloss:1.11202\teval-mlogloss:1.27304\n",
      "[134]\ttrain-mlogloss:1.11073\teval-mlogloss:1.27263\n",
      "[135]\ttrain-mlogloss:1.10931\teval-mlogloss:1.27222\n",
      "[136]\ttrain-mlogloss:1.10793\teval-mlogloss:1.27182\n",
      "[137]\ttrain-mlogloss:1.10646\teval-mlogloss:1.27140\n",
      "[138]\ttrain-mlogloss:1.10512\teval-mlogloss:1.27100\n",
      "[139]\ttrain-mlogloss:1.10386\teval-mlogloss:1.27053\n",
      "[140]\ttrain-mlogloss:1.10249\teval-mlogloss:1.27016\n",
      "[141]\ttrain-mlogloss:1.10109\teval-mlogloss:1.26974\n",
      "[142]\ttrain-mlogloss:1.09984\teval-mlogloss:1.26938\n",
      "[143]\ttrain-mlogloss:1.09851\teval-mlogloss:1.26906\n",
      "[144]\ttrain-mlogloss:1.09744\teval-mlogloss:1.26883\n",
      "[145]\ttrain-mlogloss:1.09606\teval-mlogloss:1.26848\n",
      "[146]\ttrain-mlogloss:1.09473\teval-mlogloss:1.26805\n",
      "[147]\ttrain-mlogloss:1.09341\teval-mlogloss:1.26768\n",
      "[148]\ttrain-mlogloss:1.09213\teval-mlogloss:1.26736\n",
      "[149]\ttrain-mlogloss:1.09076\teval-mlogloss:1.26690\n",
      "[150]\ttrain-mlogloss:1.08952\teval-mlogloss:1.26657\n",
      "[151]\ttrain-mlogloss:1.08820\teval-mlogloss:1.26608\n",
      "[152]\ttrain-mlogloss:1.08675\teval-mlogloss:1.26560\n",
      "[153]\ttrain-mlogloss:1.08549\teval-mlogloss:1.26520\n",
      "[154]\ttrain-mlogloss:1.08417\teval-mlogloss:1.26482\n",
      "[155]\ttrain-mlogloss:1.08303\teval-mlogloss:1.26457\n",
      "[156]\ttrain-mlogloss:1.08170\teval-mlogloss:1.26420\n",
      "[157]\ttrain-mlogloss:1.08023\teval-mlogloss:1.26388\n",
      "[158]\ttrain-mlogloss:1.07888\teval-mlogloss:1.26360\n",
      "[159]\ttrain-mlogloss:1.07766\teval-mlogloss:1.26325\n",
      "[160]\ttrain-mlogloss:1.07640\teval-mlogloss:1.26292\n",
      "[161]\ttrain-mlogloss:1.07506\teval-mlogloss:1.26249\n",
      "[162]\ttrain-mlogloss:1.07377\teval-mlogloss:1.26207\n",
      "[163]\ttrain-mlogloss:1.07236\teval-mlogloss:1.26175\n",
      "[164]\ttrain-mlogloss:1.07110\teval-mlogloss:1.26155\n",
      "[165]\ttrain-mlogloss:1.06985\teval-mlogloss:1.26136\n",
      "[166]\ttrain-mlogloss:1.06874\teval-mlogloss:1.26099\n",
      "[167]\ttrain-mlogloss:1.06739\teval-mlogloss:1.26075\n",
      "[168]\ttrain-mlogloss:1.06619\teval-mlogloss:1.26037\n",
      "[169]\ttrain-mlogloss:1.06498\teval-mlogloss:1.26009\n",
      "[170]\ttrain-mlogloss:1.06389\teval-mlogloss:1.25989\n",
      "[171]\ttrain-mlogloss:1.06267\teval-mlogloss:1.25954\n",
      "[172]\ttrain-mlogloss:1.06142\teval-mlogloss:1.25916\n",
      "[173]\ttrain-mlogloss:1.06028\teval-mlogloss:1.25890\n",
      "[174]\ttrain-mlogloss:1.05907\teval-mlogloss:1.25852\n",
      "[175]\ttrain-mlogloss:1.05798\teval-mlogloss:1.25818\n",
      "[176]\ttrain-mlogloss:1.05687\teval-mlogloss:1.25794\n",
      "[177]\ttrain-mlogloss:1.05565\teval-mlogloss:1.25768\n",
      "[178]\ttrain-mlogloss:1.05443\teval-mlogloss:1.25730\n",
      "[179]\ttrain-mlogloss:1.05324\teval-mlogloss:1.25697\n",
      "[180]\ttrain-mlogloss:1.05200\teval-mlogloss:1.25667\n",
      "[181]\ttrain-mlogloss:1.05089\teval-mlogloss:1.25643\n",
      "[182]\ttrain-mlogloss:1.04988\teval-mlogloss:1.25608\n",
      "[183]\ttrain-mlogloss:1.04878\teval-mlogloss:1.25576\n",
      "[184]\ttrain-mlogloss:1.04752\teval-mlogloss:1.25551\n",
      "[185]\ttrain-mlogloss:1.04639\teval-mlogloss:1.25527\n",
      "[186]\ttrain-mlogloss:1.04532\teval-mlogloss:1.25506\n",
      "[187]\ttrain-mlogloss:1.04407\teval-mlogloss:1.25484\n",
      "[188]\ttrain-mlogloss:1.04311\teval-mlogloss:1.25452\n",
      "[189]\ttrain-mlogloss:1.04185\teval-mlogloss:1.25421\n",
      "[190]\ttrain-mlogloss:1.04088\teval-mlogloss:1.25394\n",
      "[191]\ttrain-mlogloss:1.03987\teval-mlogloss:1.25368\n",
      "[192]\ttrain-mlogloss:1.03864\teval-mlogloss:1.25346\n",
      "[193]\ttrain-mlogloss:1.03757\teval-mlogloss:1.25321\n",
      "[194]\ttrain-mlogloss:1.03645\teval-mlogloss:1.25303\n",
      "[195]\ttrain-mlogloss:1.03556\teval-mlogloss:1.25285\n",
      "[196]\ttrain-mlogloss:1.03456\teval-mlogloss:1.25263\n",
      "[197]\ttrain-mlogloss:1.03353\teval-mlogloss:1.25229\n",
      "[198]\ttrain-mlogloss:1.03240\teval-mlogloss:1.25205\n",
      "[199]\ttrain-mlogloss:1.03135\teval-mlogloss:1.25175\n",
      "[200]\ttrain-mlogloss:1.03036\teval-mlogloss:1.25149\n",
      "[201]\ttrain-mlogloss:1.02938\teval-mlogloss:1.25118\n",
      "[202]\ttrain-mlogloss:1.02820\teval-mlogloss:1.25105\n",
      "[203]\ttrain-mlogloss:1.02710\teval-mlogloss:1.25092\n",
      "[204]\ttrain-mlogloss:1.02592\teval-mlogloss:1.25063\n",
      "[205]\ttrain-mlogloss:1.02475\teval-mlogloss:1.25039\n",
      "[206]\ttrain-mlogloss:1.02369\teval-mlogloss:1.25029\n",
      "[207]\ttrain-mlogloss:1.02254\teval-mlogloss:1.24993\n",
      "[208]\ttrain-mlogloss:1.02142\teval-mlogloss:1.24958\n",
      "[209]\ttrain-mlogloss:1.02034\teval-mlogloss:1.24936\n",
      "[210]\ttrain-mlogloss:1.01926\teval-mlogloss:1.24911\n",
      "[211]\ttrain-mlogloss:1.01824\teval-mlogloss:1.24883\n",
      "[212]\ttrain-mlogloss:1.01711\teval-mlogloss:1.24863\n",
      "[213]\ttrain-mlogloss:1.01603\teval-mlogloss:1.24849\n",
      "[214]\ttrain-mlogloss:1.01510\teval-mlogloss:1.24832\n",
      "[215]\ttrain-mlogloss:1.01420\teval-mlogloss:1.24799\n",
      "[216]\ttrain-mlogloss:1.01316\teval-mlogloss:1.24778\n",
      "[217]\ttrain-mlogloss:1.01204\teval-mlogloss:1.24758\n",
      "[218]\ttrain-mlogloss:1.01101\teval-mlogloss:1.24738\n",
      "[219]\ttrain-mlogloss:1.00993\teval-mlogloss:1.24717\n",
      "[220]\ttrain-mlogloss:1.00888\teval-mlogloss:1.24692\n",
      "[221]\ttrain-mlogloss:1.00802\teval-mlogloss:1.24676\n",
      "[222]\ttrain-mlogloss:1.00701\teval-mlogloss:1.24643\n",
      "[223]\ttrain-mlogloss:1.00612\teval-mlogloss:1.24619\n",
      "[224]\ttrain-mlogloss:1.00514\teval-mlogloss:1.24599\n",
      "[225]\ttrain-mlogloss:1.00408\teval-mlogloss:1.24581\n",
      "[226]\ttrain-mlogloss:1.00317\teval-mlogloss:1.24555\n",
      "[227]\ttrain-mlogloss:1.00218\teval-mlogloss:1.24534\n",
      "[228]\ttrain-mlogloss:1.00128\teval-mlogloss:1.24506\n",
      "[229]\ttrain-mlogloss:1.00029\teval-mlogloss:1.24484\n",
      "[230]\ttrain-mlogloss:0.99931\teval-mlogloss:1.24471\n",
      "[231]\ttrain-mlogloss:0.99845\teval-mlogloss:1.24453\n",
      "[232]\ttrain-mlogloss:0.99745\teval-mlogloss:1.24435\n",
      "[233]\ttrain-mlogloss:0.99656\teval-mlogloss:1.24420\n",
      "[234]\ttrain-mlogloss:0.99550\teval-mlogloss:1.24400\n",
      "[235]\ttrain-mlogloss:0.99473\teval-mlogloss:1.24373\n",
      "[236]\ttrain-mlogloss:0.99379\teval-mlogloss:1.24357\n",
      "[237]\ttrain-mlogloss:0.99283\teval-mlogloss:1.24346\n",
      "[238]\ttrain-mlogloss:0.99190\teval-mlogloss:1.24326\n",
      "[239]\ttrain-mlogloss:0.99091\teval-mlogloss:1.24316\n",
      "[240]\ttrain-mlogloss:0.98993\teval-mlogloss:1.24294\n",
      "[241]\ttrain-mlogloss:0.98892\teval-mlogloss:1.24276\n",
      "[242]\ttrain-mlogloss:0.98797\teval-mlogloss:1.24258\n",
      "[243]\ttrain-mlogloss:0.98698\teval-mlogloss:1.24241\n",
      "[244]\ttrain-mlogloss:0.98597\teval-mlogloss:1.24212\n",
      "[245]\ttrain-mlogloss:0.98506\teval-mlogloss:1.24193\n",
      "[246]\ttrain-mlogloss:0.98431\teval-mlogloss:1.24183\n",
      "[247]\ttrain-mlogloss:0.98336\teval-mlogloss:1.24172\n",
      "[248]\ttrain-mlogloss:0.98258\teval-mlogloss:1.24155\n",
      "[249]\ttrain-mlogloss:0.98153\teval-mlogloss:1.24141\n",
      "[250]\ttrain-mlogloss:0.98061\teval-mlogloss:1.24132\n",
      "[251]\ttrain-mlogloss:0.97978\teval-mlogloss:1.24117\n",
      "[252]\ttrain-mlogloss:0.97901\teval-mlogloss:1.24100\n",
      "[253]\ttrain-mlogloss:0.97829\teval-mlogloss:1.24083\n",
      "[254]\ttrain-mlogloss:0.97732\teval-mlogloss:1.24065\n",
      "[255]\ttrain-mlogloss:0.97640\teval-mlogloss:1.24043\n",
      "[256]\ttrain-mlogloss:0.97552\teval-mlogloss:1.24020\n",
      "[257]\ttrain-mlogloss:0.97474\teval-mlogloss:1.24006\n",
      "[258]\ttrain-mlogloss:0.97388\teval-mlogloss:1.23987\n",
      "[259]\ttrain-mlogloss:0.97303\teval-mlogloss:1.23969\n",
      "[260]\ttrain-mlogloss:0.97215\teval-mlogloss:1.23946\n",
      "[261]\ttrain-mlogloss:0.97127\teval-mlogloss:1.23934\n",
      "[262]\ttrain-mlogloss:0.97031\teval-mlogloss:1.23912\n",
      "[263]\ttrain-mlogloss:0.96953\teval-mlogloss:1.23894\n",
      "[264]\ttrain-mlogloss:0.96864\teval-mlogloss:1.23876\n",
      "[265]\ttrain-mlogloss:0.96794\teval-mlogloss:1.23861\n",
      "[266]\ttrain-mlogloss:0.96720\teval-mlogloss:1.23848\n",
      "[267]\ttrain-mlogloss:0.96634\teval-mlogloss:1.23834\n",
      "[268]\ttrain-mlogloss:0.96548\teval-mlogloss:1.23815\n",
      "[269]\ttrain-mlogloss:0.96457\teval-mlogloss:1.23797\n",
      "[270]\ttrain-mlogloss:0.96378\teval-mlogloss:1.23786\n",
      "[271]\ttrain-mlogloss:0.96304\teval-mlogloss:1.23769\n",
      "[272]\ttrain-mlogloss:0.96236\teval-mlogloss:1.23753\n",
      "[273]\ttrain-mlogloss:0.96162\teval-mlogloss:1.23744\n",
      "[274]\ttrain-mlogloss:0.96085\teval-mlogloss:1.23719\n",
      "훈련 정확도: 0.7909289022064833\n",
      "              precision    recall  f1-score   support\n",
      "\n",
      "           0       0.73      0.90      0.81      3671\n",
      "           1       0.83      0.71      0.77      3671\n",
      "           2       0.83      0.73      0.78      3671\n",
      "           3       0.80      0.82      0.81      3671\n",
      "\n",
      "    accuracy                           0.79     14684\n",
      "   macro avg       0.80      0.79      0.79     14684\n",
      "weighted avg       0.80      0.79      0.79     14684\n",
      "\n",
      "검증 정확도: 0.3818493150684932\n",
      "              precision    recall  f1-score   support\n",
      "\n",
      "           0       0.16      0.33      0.21       149\n",
      "           1       0.46      0.40      0.42       678\n",
      "           2       0.50      0.40      0.45       745\n",
      "           3       0.21      0.28      0.24       180\n",
      "\n",
      "    accuracy                           0.38      1752\n",
      "   macro avg       0.33      0.35      0.33      1752\n",
      "weighted avg       0.42      0.38      0.40      1752\n",
      "\n"
     ]
    }
   ],
   "source": [
    "# 제준님이 주신 새로운 피쳐들 사용 (하이퍼 파라미터 적용)\n",
    "\n",
    "import xgboost as xgb\n",
    "from imblearn.over_sampling import SMOTE\n",
    "from sklearn.metrics import accuracy_score, classification_report\n",
    "from sklearn.model_selection import train_test_split\n",
    "\n",
    "# _type에 따라 train, test 분리\n",
    "train_df = new_df2.loc[new_df2[\"_type\"] == \"train\"].drop(columns=[\"_type\"])\n",
    "train_df = train_df.ffill()\n",
    "test_df = new_df2.loc[new_df2[\"_type\"] == \"test\"].drop(columns=[\"_type\"])\n",
    "\n",
    "# train_test_split 으로 valid set, train set 분리\n",
    "x_train, x_valid, y_train, y_valid = train_test_split(\n",
    "    train_df.drop([\"target\", \"ID\"], axis=1),\n",
    "    train_df[\"target\"].astype(int),\n",
    "    test_size=0.2,\n",
    "    random_state=42,\n",
    ")\n",
    "\n",
    "# SMOTE를 이용한 오버샘플링\n",
    "sampling_strategy = {0: 3671, 1: 3671, 2: 3671, 3: 3671}\n",
    "smote = SMOTE(sampling_strategy=sampling_strategy, random_state=42)\n",
    "x_train_resampled, y_train_resampled = smote.fit_resample(x_train, y_train)\n",
    "\n",
    "# XGBoost 모델을 위한 DMatrix로 변환\n",
    "dtrain = xgb.DMatrix(x_train_resampled, label=y_train_resampled)\n",
    "dvalid = xgb.DMatrix(x_valid, label=y_valid)\n",
    "\n",
    "# XGBoost 모델 학습 파라미터\n",
    "params = {\n",
    "    \"objective\": \"multi:softprob\",  # 다중 클래스 분류\n",
    "    \"num_class\": len(y_train_resampled.unique()),  # 클래스 개수\n",
    "    \"eval_metric\": \"mlogloss\",  # 손실 함수 (멀티클래스 로지스틱 손실)\n",
    "    \"max_depth\": 7,\n",
    "    \"learning_rate\": 0.01,\n",
    "    \"subsample\": 0.8,\n",
    "    \"colsample_bytree\": 0.8,\n",
    "    \"seed\": 42\n",
    "}\n",
    "\n",
    "# 교차 검증 설정 (5-fold)\n",
    "cv_results = xgb.cv(\n",
    "    params=params,\n",
    "    dtrain=dtrain,\n",
    "    num_boost_round=275,\n",
    "    nfold=5,\n",
    "    early_stopping_rounds=10,\n",
    "    metrics=\"mlogloss\",\n",
    "    as_pandas=True,\n",
    "    seed=42\n",
    ")\n",
    "\n",
    "# 최적의 부스팅 라운드 수 확인\n",
    "best_num_boost_rounds = len(cv_results)\n",
    "\n",
    "# 교차 검증 결과 출력\n",
    "print(\"최적 부스팅 라운드 수:\", best_num_boost_rounds)\n",
    "print(cv_results.tail())\n",
    "\n",
    "# 최적의 부스팅 라운드로 모델 학습\n",
    "xgb_model = xgb.train(\n",
    "    params=params,\n",
    "    dtrain=dtrain,\n",
    "    num_boost_round=best_num_boost_rounds,\n",
    "    evals=[(dtrain, \"train\"), (dvalid, \"eval\")],\n",
    "    early_stopping_rounds=10\n",
    ")\n",
    "\n",
    "# 예측 (훈련 데이터셋)\n",
    "y_train_pred_prob = xgb_model.predict(dtrain)\n",
    "y_train_pred = y_train_pred_prob.argmax(axis=1)\n",
    "\n",
    "# 예측 (검증 데이터셋)\n",
    "y_valid_pred_prob = xgb_model.predict(dvalid)\n",
    "y_valid_pred = y_valid_pred_prob.argmax(axis=1)\n",
    "\n",
    "# 성능 평가 (훈련 데이터셋)\n",
    "train_accuracy = accuracy_score(y_train_resampled, y_train_pred)\n",
    "train_classification_rep = classification_report(y_train_resampled, y_train_pred)\n",
    "\n",
    "# 성능 평가 (검증 데이터셋)\n",
    "valid_accuracy = accuracy_score(y_valid, y_valid_pred)\n",
    "valid_classification_rep = classification_report(y_valid, y_valid_pred)\n",
    "\n",
    "# 결과 출력\n",
    "print(f\"훈련 정확도: {train_accuracy}\")\n",
    "print(train_classification_rep)\n",
    "print(f\"검증 정확도: {valid_accuracy}\")\n",
    "print(valid_classification_rep)\n"
   ]
  },
  {
   "cell_type": "code",
   "execution_count": 161,
   "metadata": {},
   "outputs": [
    {
     "data": {
      "application/vnd.plotly.v1+json": {
       "config": {
        "plotlyServerURL": "https://plot.ly"
       },
       "data": [
        {
         "alignmentgroup": "True",
         "hovertemplate": "Feature=%{x}<br>Importance=%{y}<extra></extra>",
         "legendgroup": "",
         "marker": {
          "color": "#636efa",
          "pattern": {
           "shape": ""
          }
         },
         "name": "",
         "offsetgroup": "",
         "orientation": "v",
         "showlegend": false,
         "textposition": "auto",
         "type": "bar",
         "x": [
          "open_interest_diff",
          "scaled_log_coinbase_premium_index",
          "average_transaction_value_diff",
          "taker_buy_sell_ratio",
          "scaled_utxo_count",
          "market_pressure_diff",
          "network_load_diff",
          "scaled_funding_rates",
          "moving_avg_scaled_log_total_volume",
          "scaled_log_total_taker_volume",
          "liquidation_risk_diff",
          "scaled_total_transactions_count",
          "scaled_log_open_interest",
          "scaled_log_hashrate",
          "scaled_estimated_block_reward",
          "scaled_liquidation_diff",
          "scaled_log_total_liquidation"
         ],
         "xaxis": "x",
         "y": [
          8712,
          6909,
          6812,
          6430,
          6268,
          6255,
          6203,
          6113,
          6077,
          5987,
          5635,
          5623,
          5622,
          5552,
          5521,
          5465,
          4851
         ],
         "yaxis": "y"
        }
       ],
       "layout": {
        "barmode": "relative",
        "legend": {
         "tracegroupgap": 0
        },
        "template": {
         "data": {
          "bar": [
           {
            "error_x": {
             "color": "#2a3f5f"
            },
            "error_y": {
             "color": "#2a3f5f"
            },
            "marker": {
             "line": {
              "color": "#E5ECF6",
              "width": 0.5
             },
             "pattern": {
              "fillmode": "overlay",
              "size": 10,
              "solidity": 0.2
             }
            },
            "type": "bar"
           }
          ],
          "barpolar": [
           {
            "marker": {
             "line": {
              "color": "#E5ECF6",
              "width": 0.5
             },
             "pattern": {
              "fillmode": "overlay",
              "size": 10,
              "solidity": 0.2
             }
            },
            "type": "barpolar"
           }
          ],
          "carpet": [
           {
            "aaxis": {
             "endlinecolor": "#2a3f5f",
             "gridcolor": "white",
             "linecolor": "white",
             "minorgridcolor": "white",
             "startlinecolor": "#2a3f5f"
            },
            "baxis": {
             "endlinecolor": "#2a3f5f",
             "gridcolor": "white",
             "linecolor": "white",
             "minorgridcolor": "white",
             "startlinecolor": "#2a3f5f"
            },
            "type": "carpet"
           }
          ],
          "choropleth": [
           {
            "colorbar": {
             "outlinewidth": 0,
             "ticks": ""
            },
            "type": "choropleth"
           }
          ],
          "contour": [
           {
            "colorbar": {
             "outlinewidth": 0,
             "ticks": ""
            },
            "colorscale": [
             [
              0,
              "#0d0887"
             ],
             [
              0.1111111111111111,
              "#46039f"
             ],
             [
              0.2222222222222222,
              "#7201a8"
             ],
             [
              0.3333333333333333,
              "#9c179e"
             ],
             [
              0.4444444444444444,
              "#bd3786"
             ],
             [
              0.5555555555555556,
              "#d8576b"
             ],
             [
              0.6666666666666666,
              "#ed7953"
             ],
             [
              0.7777777777777778,
              "#fb9f3a"
             ],
             [
              0.8888888888888888,
              "#fdca26"
             ],
             [
              1,
              "#f0f921"
             ]
            ],
            "type": "contour"
           }
          ],
          "contourcarpet": [
           {
            "colorbar": {
             "outlinewidth": 0,
             "ticks": ""
            },
            "type": "contourcarpet"
           }
          ],
          "heatmap": [
           {
            "colorbar": {
             "outlinewidth": 0,
             "ticks": ""
            },
            "colorscale": [
             [
              0,
              "#0d0887"
             ],
             [
              0.1111111111111111,
              "#46039f"
             ],
             [
              0.2222222222222222,
              "#7201a8"
             ],
             [
              0.3333333333333333,
              "#9c179e"
             ],
             [
              0.4444444444444444,
              "#bd3786"
             ],
             [
              0.5555555555555556,
              "#d8576b"
             ],
             [
              0.6666666666666666,
              "#ed7953"
             ],
             [
              0.7777777777777778,
              "#fb9f3a"
             ],
             [
              0.8888888888888888,
              "#fdca26"
             ],
             [
              1,
              "#f0f921"
             ]
            ],
            "type": "heatmap"
           }
          ],
          "heatmapgl": [
           {
            "colorbar": {
             "outlinewidth": 0,
             "ticks": ""
            },
            "colorscale": [
             [
              0,
              "#0d0887"
             ],
             [
              0.1111111111111111,
              "#46039f"
             ],
             [
              0.2222222222222222,
              "#7201a8"
             ],
             [
              0.3333333333333333,
              "#9c179e"
             ],
             [
              0.4444444444444444,
              "#bd3786"
             ],
             [
              0.5555555555555556,
              "#d8576b"
             ],
             [
              0.6666666666666666,
              "#ed7953"
             ],
             [
              0.7777777777777778,
              "#fb9f3a"
             ],
             [
              0.8888888888888888,
              "#fdca26"
             ],
             [
              1,
              "#f0f921"
             ]
            ],
            "type": "heatmapgl"
           }
          ],
          "histogram": [
           {
            "marker": {
             "pattern": {
              "fillmode": "overlay",
              "size": 10,
              "solidity": 0.2
             }
            },
            "type": "histogram"
           }
          ],
          "histogram2d": [
           {
            "colorbar": {
             "outlinewidth": 0,
             "ticks": ""
            },
            "colorscale": [
             [
              0,
              "#0d0887"
             ],
             [
              0.1111111111111111,
              "#46039f"
             ],
             [
              0.2222222222222222,
              "#7201a8"
             ],
             [
              0.3333333333333333,
              "#9c179e"
             ],
             [
              0.4444444444444444,
              "#bd3786"
             ],
             [
              0.5555555555555556,
              "#d8576b"
             ],
             [
              0.6666666666666666,
              "#ed7953"
             ],
             [
              0.7777777777777778,
              "#fb9f3a"
             ],
             [
              0.8888888888888888,
              "#fdca26"
             ],
             [
              1,
              "#f0f921"
             ]
            ],
            "type": "histogram2d"
           }
          ],
          "histogram2dcontour": [
           {
            "colorbar": {
             "outlinewidth": 0,
             "ticks": ""
            },
            "colorscale": [
             [
              0,
              "#0d0887"
             ],
             [
              0.1111111111111111,
              "#46039f"
             ],
             [
              0.2222222222222222,
              "#7201a8"
             ],
             [
              0.3333333333333333,
              "#9c179e"
             ],
             [
              0.4444444444444444,
              "#bd3786"
             ],
             [
              0.5555555555555556,
              "#d8576b"
             ],
             [
              0.6666666666666666,
              "#ed7953"
             ],
             [
              0.7777777777777778,
              "#fb9f3a"
             ],
             [
              0.8888888888888888,
              "#fdca26"
             ],
             [
              1,
              "#f0f921"
             ]
            ],
            "type": "histogram2dcontour"
           }
          ],
          "mesh3d": [
           {
            "colorbar": {
             "outlinewidth": 0,
             "ticks": ""
            },
            "type": "mesh3d"
           }
          ],
          "parcoords": [
           {
            "line": {
             "colorbar": {
              "outlinewidth": 0,
              "ticks": ""
             }
            },
            "type": "parcoords"
           }
          ],
          "pie": [
           {
            "automargin": true,
            "type": "pie"
           }
          ],
          "scatter": [
           {
            "fillpattern": {
             "fillmode": "overlay",
             "size": 10,
             "solidity": 0.2
            },
            "type": "scatter"
           }
          ],
          "scatter3d": [
           {
            "line": {
             "colorbar": {
              "outlinewidth": 0,
              "ticks": ""
             }
            },
            "marker": {
             "colorbar": {
              "outlinewidth": 0,
              "ticks": ""
             }
            },
            "type": "scatter3d"
           }
          ],
          "scattercarpet": [
           {
            "marker": {
             "colorbar": {
              "outlinewidth": 0,
              "ticks": ""
             }
            },
            "type": "scattercarpet"
           }
          ],
          "scattergeo": [
           {
            "marker": {
             "colorbar": {
              "outlinewidth": 0,
              "ticks": ""
             }
            },
            "type": "scattergeo"
           }
          ],
          "scattergl": [
           {
            "marker": {
             "colorbar": {
              "outlinewidth": 0,
              "ticks": ""
             }
            },
            "type": "scattergl"
           }
          ],
          "scattermapbox": [
           {
            "marker": {
             "colorbar": {
              "outlinewidth": 0,
              "ticks": ""
             }
            },
            "type": "scattermapbox"
           }
          ],
          "scatterpolar": [
           {
            "marker": {
             "colorbar": {
              "outlinewidth": 0,
              "ticks": ""
             }
            },
            "type": "scatterpolar"
           }
          ],
          "scatterpolargl": [
           {
            "marker": {
             "colorbar": {
              "outlinewidth": 0,
              "ticks": ""
             }
            },
            "type": "scatterpolargl"
           }
          ],
          "scatterternary": [
           {
            "marker": {
             "colorbar": {
              "outlinewidth": 0,
              "ticks": ""
             }
            },
            "type": "scatterternary"
           }
          ],
          "surface": [
           {
            "colorbar": {
             "outlinewidth": 0,
             "ticks": ""
            },
            "colorscale": [
             [
              0,
              "#0d0887"
             ],
             [
              0.1111111111111111,
              "#46039f"
             ],
             [
              0.2222222222222222,
              "#7201a8"
             ],
             [
              0.3333333333333333,
              "#9c179e"
             ],
             [
              0.4444444444444444,
              "#bd3786"
             ],
             [
              0.5555555555555556,
              "#d8576b"
             ],
             [
              0.6666666666666666,
              "#ed7953"
             ],
             [
              0.7777777777777778,
              "#fb9f3a"
             ],
             [
              0.8888888888888888,
              "#fdca26"
             ],
             [
              1,
              "#f0f921"
             ]
            ],
            "type": "surface"
           }
          ],
          "table": [
           {
            "cells": {
             "fill": {
              "color": "#EBF0F8"
             },
             "line": {
              "color": "white"
             }
            },
            "header": {
             "fill": {
              "color": "#C8D4E3"
             },
             "line": {
              "color": "white"
             }
            },
            "type": "table"
           }
          ]
         },
         "layout": {
          "annotationdefaults": {
           "arrowcolor": "#2a3f5f",
           "arrowhead": 0,
           "arrowwidth": 1
          },
          "autotypenumbers": "strict",
          "coloraxis": {
           "colorbar": {
            "outlinewidth": 0,
            "ticks": ""
           }
          },
          "colorscale": {
           "diverging": [
            [
             0,
             "#8e0152"
            ],
            [
             0.1,
             "#c51b7d"
            ],
            [
             0.2,
             "#de77ae"
            ],
            [
             0.3,
             "#f1b6da"
            ],
            [
             0.4,
             "#fde0ef"
            ],
            [
             0.5,
             "#f7f7f7"
            ],
            [
             0.6,
             "#e6f5d0"
            ],
            [
             0.7,
             "#b8e186"
            ],
            [
             0.8,
             "#7fbc41"
            ],
            [
             0.9,
             "#4d9221"
            ],
            [
             1,
             "#276419"
            ]
           ],
           "sequential": [
            [
             0,
             "#0d0887"
            ],
            [
             0.1111111111111111,
             "#46039f"
            ],
            [
             0.2222222222222222,
             "#7201a8"
            ],
            [
             0.3333333333333333,
             "#9c179e"
            ],
            [
             0.4444444444444444,
             "#bd3786"
            ],
            [
             0.5555555555555556,
             "#d8576b"
            ],
            [
             0.6666666666666666,
             "#ed7953"
            ],
            [
             0.7777777777777778,
             "#fb9f3a"
            ],
            [
             0.8888888888888888,
             "#fdca26"
            ],
            [
             1,
             "#f0f921"
            ]
           ],
           "sequentialminus": [
            [
             0,
             "#0d0887"
            ],
            [
             0.1111111111111111,
             "#46039f"
            ],
            [
             0.2222222222222222,
             "#7201a8"
            ],
            [
             0.3333333333333333,
             "#9c179e"
            ],
            [
             0.4444444444444444,
             "#bd3786"
            ],
            [
             0.5555555555555556,
             "#d8576b"
            ],
            [
             0.6666666666666666,
             "#ed7953"
            ],
            [
             0.7777777777777778,
             "#fb9f3a"
            ],
            [
             0.8888888888888888,
             "#fdca26"
            ],
            [
             1,
             "#f0f921"
            ]
           ]
          },
          "colorway": [
           "#636efa",
           "#EF553B",
           "#00cc96",
           "#ab63fa",
           "#FFA15A",
           "#19d3f3",
           "#FF6692",
           "#B6E880",
           "#FF97FF",
           "#FECB52"
          ],
          "font": {
           "color": "#2a3f5f"
          },
          "geo": {
           "bgcolor": "white",
           "lakecolor": "white",
           "landcolor": "#E5ECF6",
           "showlakes": true,
           "showland": true,
           "subunitcolor": "white"
          },
          "hoverlabel": {
           "align": "left"
          },
          "hovermode": "closest",
          "mapbox": {
           "style": "light"
          },
          "paper_bgcolor": "white",
          "plot_bgcolor": "#E5ECF6",
          "polar": {
           "angularaxis": {
            "gridcolor": "white",
            "linecolor": "white",
            "ticks": ""
           },
           "bgcolor": "#E5ECF6",
           "radialaxis": {
            "gridcolor": "white",
            "linecolor": "white",
            "ticks": ""
           }
          },
          "scene": {
           "xaxis": {
            "backgroundcolor": "#E5ECF6",
            "gridcolor": "white",
            "gridwidth": 2,
            "linecolor": "white",
            "showbackground": true,
            "ticks": "",
            "zerolinecolor": "white"
           },
           "yaxis": {
            "backgroundcolor": "#E5ECF6",
            "gridcolor": "white",
            "gridwidth": 2,
            "linecolor": "white",
            "showbackground": true,
            "ticks": "",
            "zerolinecolor": "white"
           },
           "zaxis": {
            "backgroundcolor": "#E5ECF6",
            "gridcolor": "white",
            "gridwidth": 2,
            "linecolor": "white",
            "showbackground": true,
            "ticks": "",
            "zerolinecolor": "white"
           }
          },
          "shapedefaults": {
           "line": {
            "color": "#2a3f5f"
           }
          },
          "ternary": {
           "aaxis": {
            "gridcolor": "white",
            "linecolor": "white",
            "ticks": ""
           },
           "baxis": {
            "gridcolor": "white",
            "linecolor": "white",
            "ticks": ""
           },
           "bgcolor": "#E5ECF6",
           "caxis": {
            "gridcolor": "white",
            "linecolor": "white",
            "ticks": ""
           }
          },
          "title": {
           "x": 0.05
          },
          "xaxis": {
           "automargin": true,
           "gridcolor": "white",
           "linecolor": "white",
           "ticks": "",
           "title": {
            "standoff": 15
           },
           "zerolinecolor": "white",
           "zerolinewidth": 2
          },
          "yaxis": {
           "automargin": true,
           "gridcolor": "white",
           "linecolor": "white",
           "ticks": "",
           "title": {
            "standoff": 15
           },
           "zerolinecolor": "white",
           "zerolinewidth": 2
          }
         }
        },
        "title": {
         "text": "Feature Importance"
        },
        "xaxis": {
         "anchor": "y",
         "domain": [
          0,
          1
         ],
         "title": {
          "text": "Feature"
         }
        },
        "yaxis": {
         "anchor": "x",
         "domain": [
          0,
          1
         ],
         "title": {
          "text": "Importance"
         }
        }
       }
      }
     },
     "metadata": {},
     "output_type": "display_data"
    }
   ],
   "source": [
    "import plotly.express as px\n",
    "\n",
    "# Feature importance 평가\n",
    "importance = xgb_model.get_score(importance_type='weight')\n",
    "importance_df = pd.DataFrame({\n",
    "    'Feature': [k for k in importance.keys()],\n",
    "    'Importance': importance.values()\n",
    "}).sort_values(by='Importance', ascending=False)\n",
    "\n",
    "# 시각화\n",
    "fig = px.bar(importance_df, x='Feature', y='Importance', title='Feature Importance')\n",
    "fig.show()"
   ]
  },
  {
   "cell_type": "code",
   "execution_count": 174,
   "metadata": {},
   "outputs": [
    {
     "data": {
      "text/plain": [
       "target\n",
       "2    1822\n",
       "1     796\n",
       "3     113\n",
       "0      61\n",
       "Name: count, dtype: int64"
      ]
     },
     "execution_count": 174,
     "metadata": {},
     "output_type": "execute_result"
    }
   ],
   "source": [
    "# 테스트 데이터셋을 DMatrix로 변환\n",
    "dtest = xgb.DMatrix(test_df.drop([\"target\", \"ID\"], axis=1))\n",
    "\n",
    "# 테스트 데이터에 대한 예측 수행\n",
    "y_test_pred_prob = xgb_model.predict(dtest)\n",
    "\n",
    "# 다중 클래스 예측일 경우 가장 높은 확률을 가진 클래스를 예측값으로 변환\n",
    "y_test_pred = y_test_pred_prob.argmax(axis=1)\n",
    "\n",
    "# 예측 결과 출력\n",
    "y_test_pred\n",
    "\n",
    "submission_df = submission_df.assign(target=pd.DataFrame(y_test_pred))\n",
    "submission_df['target'].value_counts()"
   ]
  },
  {
   "cell_type": "code",
   "execution_count": 109,
   "metadata": {},
   "outputs": [],
   "source": [
    "submission_df.to_csv('XGBoost_smote_cv_add_feature5.csv',index=False)"
   ]
  },
  {
   "cell_type": "code",
   "execution_count": 110,
   "metadata": {},
   "outputs": [],
   "source": [
    "a = pd.read_csv('XGBoost_smote_cv_add_feature4.csv')"
   ]
  },
  {
   "cell_type": "code",
   "execution_count": 160,
   "metadata": {},
   "outputs": [
    {
     "data": {
      "text/plain": [
       "0.9527220630372493"
      ]
     },
     "execution_count": 160,
     "metadata": {},
     "output_type": "execute_result"
    }
   ],
   "source": [
    "a = pd.read_csv('XGBoost_smote_cv_add_feature4.csv')\n",
    "accuracy = accuracy_score(a['target'], submission_df['target'])\n",
    "accuracy"
   ]
  },
  {
   "cell_type": "markdown",
   "metadata": {},
   "source": [
    "---"
   ]
  }
 ],
 "metadata": {
  "kernelspec": {
   "display_name": "base",
   "language": "python",
   "name": "python3"
  },
  "language_info": {
   "codemirror_mode": {
    "name": "ipython",
    "version": 3
   },
   "file_extension": ".py",
   "mimetype": "text/x-python",
   "name": "python",
   "nbconvert_exporter": "python",
   "pygments_lexer": "ipython3",
   "version": "3.12.5"
  }
 },
 "nbformat": 4,
 "nbformat_minor": 2
}
