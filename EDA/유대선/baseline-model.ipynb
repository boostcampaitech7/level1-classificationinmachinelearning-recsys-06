{
 "cells": [
  {
   "cell_type": "markdown",
   "metadata": {},
   "source": [
    "### Library Import"
   ]
  },
  {
   "cell_type": "code",
   "metadata": {
    "ExecuteTime": {
     "end_time": "2024-09-11T16:15:08.798724Z",
     "start_time": "2024-09-11T16:15:08.008826Z"
    }
   },
   "source": [
    "import os\n",
    "import sys\n",
    "\n",
    "import numpy as np\n",
    "import pandas as pd\n",
    "\n",
    "# Code 경로 추가\n",
    "sys.path.append(os.path.dirname(os.path.dirname(os.path.abspath(\"\"))))\n",
    "print(sys.path[-1])"
   ],
   "outputs": [
    {
     "name": "stdout",
     "output_type": "stream",
     "text": [
      "C:\\Users\\xenx9\\OneDrive\\바탕화~1-DESKTOP-TT2HVSS-2792\\Development\\새 폴더\\level1-classificationinmachinelearning-recsys-06\n"
     ]
    }
   ],
   "execution_count": 2
  },
  {
   "cell_type": "markdown",
   "metadata": {},
   "source": [
    "### Data Load"
   ]
  },
  {
   "cell_type": "code",
   "metadata": {
    "ExecuteTime": {
     "end_time": "2024-09-11T16:15:09.160442Z",
     "start_time": "2024-09-11T16:15:08.888458Z"
    }
   },
   "source": [
    "# 파일 호출\n",
    "data_path: str = \"../../data\"\n",
    "## raw.csv가 없는 경우 실행\n",
    "# from Code.dataset.merge_all import merge_all\n",
    "# df = merge_all(data_path)\n",
    "df: pd.DataFrame = pd.read_csv(os.path.join(data_path, \"raw.csv\"))\n",
    "submission_df: pd.DataFrame = pd.read_csv(os.path.join(data_path, \"test.csv\"))  # ID, target 열만 가진 데이터 미리 호출\n"
   ],
   "outputs": [],
   "execution_count": 3
  },
  {
   "cell_type": "markdown",
   "metadata": {},
   "source": [
    "### Model Training"
   ]
  },
  {
   "cell_type": "code",
   "metadata": {
    "ExecuteTime": {
     "end_time": "2024-09-11T16:15:14.526615Z",
     "start_time": "2024-09-11T16:15:09.180942Z"
    }
   },
   "source": [
    "\n",
    "from Code.model.model import Model\n",
    "\n",
    "train_model = Model(df)\n",
    "train_model.train()\n",
    "# lgb predict\n",
    "y_test_pred = train_model.predict()\n",
    "y_test_pred_class = np.argmax(y_test_pred, axis=1)"
   ],
   "outputs": [
    {
     "name": "stderr",
     "output_type": "stream",
     "text": [
      "C:\\Users\\xenx9\\AppData\\Roaming\\Python\\Python312\\site-packages\\lightgbm\\engine.py:172: UserWarning: Found `n_estimators` in params. Will use it instead of argument\n",
      "  _log_warning(f\"Found `{alias}` in params. Will use it instead of argument\")\n"
     ]
    },
    {
     "name": "stdout",
     "output_type": "stream",
     "text": [
      "This model is **train**.\n"
     ]
    }
   ],
   "execution_count": 4
  },
  {
   "cell_type": "markdown",
   "metadata": {},
   "source": [
    "### Output File Save"
   ]
  },
  {
   "cell_type": "code",
   "metadata": {
    "ExecuteTime": {
     "end_time": "2024-09-11T16:15:14.611338Z",
     "start_time": "2024-09-11T16:15:14.598984Z"
    }
   },
   "source": [
    "# output file 할당후 save \n",
    "submission_df = submission_df.assign(target=y_test_pred_class)\n",
    "submission_df.to_csv(\"output.csv\", index=False)"
   ],
   "outputs": [],
   "execution_count": 5
  },
  {
   "cell_type": "code",
   "metadata": {
    "ExecuteTime": {
     "end_time": "2024-09-11T16:15:14.653750Z",
     "start_time": "2024-09-11T16:15:14.651209Z"
    }
   },
   "source": [],
   "outputs": [],
   "execution_count": null
  }
 ],
 "metadata": {
  "kernelspec": {
   "display_name": "ml-lecture",
   "language": "python",
   "name": "python3"
  },
  "language_info": {
   "codemirror_mode": {
    "name": "ipython",
    "version": 3
   },
   "file_extension": ".py",
   "mimetype": "text/x-python",
   "name": "python",
   "nbconvert_exporter": "python",
   "pygments_lexer": "ipython3",
   "version": "3.12.5"
  }
 },
 "nbformat": 4,
 "nbformat_minor": 2
}
